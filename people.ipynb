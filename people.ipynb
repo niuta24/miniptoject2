{
 "cells": [
  {
   "cell_type": "code",
   "execution_count": null,
   "metadata": {},
   "outputs": [],
   "source": [
    "import pandas as pd\n",
    "import numpy as np\n",
    "import plotly\n",
    "import chart_studio.plotly as py\n",
    "import cufflinks as cf\n",
    "import seaborn as sns\n",
    "import plotly.express as px\n",
    "import matplotlib.pyplot as plt\n",
    "import plotly.graph_objects as go\n",
    "%matplotlib inline\n",
    "\n",
    "from plotly.offline import download_plotlyjs, init_notebook_mode, plot, iplot\n",
    "init_notebook_mode(connected=True)\n",
    "cf.go_offline()\n",
    "df = pd.read_excel('kjp_reg_u.xls')"
   ]
  },
  {
   "cell_type": "code",
   "execution_count": null,
   "metadata": {},
   "outputs": [],
   "source": [
    "# Наступною секторною діаграмою показано кількість живонароджених людей в 2020 році за областями\n",
    "px.pie(df, values='Кількість живонароджених 2020', names='Область',\n",
    "title='Кількість живонароджених в 2020 році',\n",
    "color_discrete_sequence=px.colors.sequential.RdBu )"
   ]
  },
  {
   "cell_type": "code",
   "execution_count": null,
   "metadata": {},
   "outputs": [],
   "source": [
    "# Ця діаграма показує кількість живонароджених й померлих людей в 2020 році\n",
    "px.scatter(df, x='Кількість живонароджених 2020', y='Кількість померлих 2020',\n",
    "color='Область', size='Кількість живонароджених 2020',\n",
    "hover_data=['Кількість живонароджених 2020'])"
   ]
  },
  {
   "cell_type": "code",
   "execution_count": null,
   "metadata": {},
   "outputs": [],
   "source": [
    "# Така діаграма показує кількість живонароджених у 2021 році\n",
    "px.bar(df, x='Кількість живонароджених 2021', y='Область', color='Кількість живонароджених 2021',\n",
    "title='Кількість живонароджених 2021')"
   ]
  },
  {
   "cell_type": "code",
   "execution_count": null,
   "metadata": {},
   "outputs": [],
   "source": [
    "# Ця діаграма показує кількість живонароджених і померлих у 2021 році\n",
    "fig = px.scatter_3d(df, x='Область', y='Кількість живонароджених 2021',\n",
    "z='Кількість померлих 2021',\n",
    "color='Область', opacity=0.9)\n",
    "\n",
    "fig"
   ]
  }
 ],
 "metadata": {
  "kernelspec": {
   "display_name": "Python 3",
   "language": "python",
   "name": "python3"
  },
  "language_info": {
   "codemirror_mode": {
    "name": "ipython",
    "version": 3
   },
   "file_extension": ".py",
   "mimetype": "text/x-python",
   "name": "python",
   "nbconvert_exporter": "python",
   "pygments_lexer": "ipython3",
   "version": "3.9.16"
  },
  "orig_nbformat": 4
 },
 "nbformat": 4,
 "nbformat_minor": 2
}
