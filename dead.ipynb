{
 "cells": [
  {
   "cell_type": "code",
   "execution_count": 40,
   "metadata": {},
   "outputs": [
    {
     "data": {
      "text/html": [
       "        <script type=\"text/javascript\">\n",
       "        window.PlotlyConfig = {MathJaxConfig: 'local'};\n",
       "        if (window.MathJax && window.MathJax.Hub && window.MathJax.Hub.Config) {window.MathJax.Hub.Config({SVG: {font: \"STIX-Web\"}});}\n",
       "        if (typeof require !== 'undefined') {\n",
       "        require.undef(\"plotly\");\n",
       "        requirejs.config({\n",
       "            paths: {\n",
       "                'plotly': ['https://cdn.plot.ly/plotly-2.20.0.min']\n",
       "            }\n",
       "        });\n",
       "        require(['plotly'], function(Plotly) {\n",
       "            window._Plotly = Plotly;\n",
       "        });\n",
       "        }\n",
       "        </script>\n",
       "        "
      ]
     },
     "metadata": {},
     "output_type": "display_data"
    },
    {
     "data": {
      "text/html": [
       "        <script type=\"text/javascript\">\n",
       "        window.PlotlyConfig = {MathJaxConfig: 'local'};\n",
       "        if (window.MathJax && window.MathJax.Hub && window.MathJax.Hub.Config) {window.MathJax.Hub.Config({SVG: {font: \"STIX-Web\"}});}\n",
       "        if (typeof require !== 'undefined') {\n",
       "        require.undef(\"plotly\");\n",
       "        requirejs.config({\n",
       "            paths: {\n",
       "                'plotly': ['https://cdn.plot.ly/plotly-2.20.0.min']\n",
       "            }\n",
       "        });\n",
       "        require(['plotly'], function(Plotly) {\n",
       "            window._Plotly = Plotly;\n",
       "        });\n",
       "        }\n",
       "        </script>\n",
       "        "
      ]
     },
     "metadata": {},
     "output_type": "display_data"
    }
   ],
   "source": [
    "import pandas as pd\n",
    "import numpy as np\n",
    "import plotly\n",
    "import chart_studio.plotly as py\n",
    "import cufflinks as cf\n",
    "import seaborn as sns\n",
    "import plotly.express as px\n",
    "import matplotlib.pyplot as plt\n",
    "import plotly.graph_objects as go\n",
    "%matplotlib inline\n",
    "\n",
    "from plotly.offline import download_plotlyjs, init_notebook_mode, plot, iplot\n",
    "init_notebook_mode(connected=True)\n",
    "cf.go_offline()\n",
    "df = pd.read_excel('kpops1221_ue.xls')\n",
    "df_dead = pd.read_excel('death.xlsx')"
   ]
  },
  {
   "cell_type": "code",
   "execution_count": 26,
   "metadata": {},
   "outputs": [
    {
     "data": {
      "application/vnd.plotly.v1+json": {
       "config": {
        "plotlyServerURL": "https://plot.ly"
       },
       "data": [
        {
         "mode": "markers",
         "type": "scatter",
         "x": [
          "туберкульоз",
          "  xвороба, зумовлена вірусом \n  імунодефіциту людини (ВІЛ)",
          " злоякісні новоутворення",
          " Ендокринні хвороби, розлади харчування та порушення обміну речовин",
          " цукровий діабет",
          " Розлади психіки та поведінки",
          "з них розлади психіки та поведінки внаслідок вживання алкоголю",
          "Хвороби нервової системи",
          "ішемічна хвороба серця",
          "алкогольна кардіоміопатія ",
          "цереброваскулярні хвороби",
          "грип і пневмонія",
          "Хвороби органів травлення",
          "Хвороби шкіри та підшкірної клітковини",
          "Хвороби кістково-м'язової системи та сполучної тканини",
          " Хвороби сечостатевої системи",
          " Вагітність, пологи та післяпологовий період",
          " Окремі стани, що виникають у перинатальному періоді",
          " Природжені вади розвитку, деформації та хромосомні аномалії",
          "Симптоми, ознаки та відхилення від норми, що виявлені при клінічних і лабораторних дослідженнях, не класифіковані в інших рубриках ",
          " Зовнішні причини смерті",
          "транспортні нещасні випадки",
          "випадкове утоплення та занурення у воду",
          "нещасні випадки, спричинені дією диму, вогню та полум'я",
          "  випадкове отруєння, \n  спричинене отруйними \n  речовинами (крім алкоголю)",
          "випадкове отруєння та дія алкоголю",
          "навмисне самоушкодження",
          "  наслідки нападу з метою \n  убивства чи нанесення  \n  ушкодження",
          "COVID-19, вірус ідентифікований",
          "COVID-19, вірус неідентифікований"
         ],
         "y": [
          2873,
          2265,
          73715,
          2259,
          2065,
          890,
          699,
          4419,
          300406,
          3496,
          82560,
          21176,
          24844,
          600,
          361,
          2635,
          116,
          1131,
          916,
          23063,
          28836,
          3732,
          1532,
          1222,
          1692,
          2433,
          5914,
          1250,
          85975,
          1592
         ]
        }
       ],
       "layout": {
        "template": {
         "data": {
          "bar": [
           {
            "error_x": {
             "color": "#2a3f5f"
            },
            "error_y": {
             "color": "#2a3f5f"
            },
            "marker": {
             "line": {
              "color": "#E5ECF6",
              "width": 0.5
             },
             "pattern": {
              "fillmode": "overlay",
              "size": 10,
              "solidity": 0.2
             }
            },
            "type": "bar"
           }
          ],
          "barpolar": [
           {
            "marker": {
             "line": {
              "color": "#E5ECF6",
              "width": 0.5
             },
             "pattern": {
              "fillmode": "overlay",
              "size": 10,
              "solidity": 0.2
             }
            },
            "type": "barpolar"
           }
          ],
          "carpet": [
           {
            "aaxis": {
             "endlinecolor": "#2a3f5f",
             "gridcolor": "white",
             "linecolor": "white",
             "minorgridcolor": "white",
             "startlinecolor": "#2a3f5f"
            },
            "baxis": {
             "endlinecolor": "#2a3f5f",
             "gridcolor": "white",
             "linecolor": "white",
             "minorgridcolor": "white",
             "startlinecolor": "#2a3f5f"
            },
            "type": "carpet"
           }
          ],
          "choropleth": [
           {
            "colorbar": {
             "outlinewidth": 0,
             "ticks": ""
            },
            "type": "choropleth"
           }
          ],
          "contour": [
           {
            "colorbar": {
             "outlinewidth": 0,
             "ticks": ""
            },
            "colorscale": [
             [
              0,
              "#0d0887"
             ],
             [
              0.1111111111111111,
              "#46039f"
             ],
             [
              0.2222222222222222,
              "#7201a8"
             ],
             [
              0.3333333333333333,
              "#9c179e"
             ],
             [
              0.4444444444444444,
              "#bd3786"
             ],
             [
              0.5555555555555556,
              "#d8576b"
             ],
             [
              0.6666666666666666,
              "#ed7953"
             ],
             [
              0.7777777777777778,
              "#fb9f3a"
             ],
             [
              0.8888888888888888,
              "#fdca26"
             ],
             [
              1,
              "#f0f921"
             ]
            ],
            "type": "contour"
           }
          ],
          "contourcarpet": [
           {
            "colorbar": {
             "outlinewidth": 0,
             "ticks": ""
            },
            "type": "contourcarpet"
           }
          ],
          "heatmap": [
           {
            "colorbar": {
             "outlinewidth": 0,
             "ticks": ""
            },
            "colorscale": [
             [
              0,
              "#0d0887"
             ],
             [
              0.1111111111111111,
              "#46039f"
             ],
             [
              0.2222222222222222,
              "#7201a8"
             ],
             [
              0.3333333333333333,
              "#9c179e"
             ],
             [
              0.4444444444444444,
              "#bd3786"
             ],
             [
              0.5555555555555556,
              "#d8576b"
             ],
             [
              0.6666666666666666,
              "#ed7953"
             ],
             [
              0.7777777777777778,
              "#fb9f3a"
             ],
             [
              0.8888888888888888,
              "#fdca26"
             ],
             [
              1,
              "#f0f921"
             ]
            ],
            "type": "heatmap"
           }
          ],
          "heatmapgl": [
           {
            "colorbar": {
             "outlinewidth": 0,
             "ticks": ""
            },
            "colorscale": [
             [
              0,
              "#0d0887"
             ],
             [
              0.1111111111111111,
              "#46039f"
             ],
             [
              0.2222222222222222,
              "#7201a8"
             ],
             [
              0.3333333333333333,
              "#9c179e"
             ],
             [
              0.4444444444444444,
              "#bd3786"
             ],
             [
              0.5555555555555556,
              "#d8576b"
             ],
             [
              0.6666666666666666,
              "#ed7953"
             ],
             [
              0.7777777777777778,
              "#fb9f3a"
             ],
             [
              0.8888888888888888,
              "#fdca26"
             ],
             [
              1,
              "#f0f921"
             ]
            ],
            "type": "heatmapgl"
           }
          ],
          "histogram": [
           {
            "marker": {
             "pattern": {
              "fillmode": "overlay",
              "size": 10,
              "solidity": 0.2
             }
            },
            "type": "histogram"
           }
          ],
          "histogram2d": [
           {
            "colorbar": {
             "outlinewidth": 0,
             "ticks": ""
            },
            "colorscale": [
             [
              0,
              "#0d0887"
             ],
             [
              0.1111111111111111,
              "#46039f"
             ],
             [
              0.2222222222222222,
              "#7201a8"
             ],
             [
              0.3333333333333333,
              "#9c179e"
             ],
             [
              0.4444444444444444,
              "#bd3786"
             ],
             [
              0.5555555555555556,
              "#d8576b"
             ],
             [
              0.6666666666666666,
              "#ed7953"
             ],
             [
              0.7777777777777778,
              "#fb9f3a"
             ],
             [
              0.8888888888888888,
              "#fdca26"
             ],
             [
              1,
              "#f0f921"
             ]
            ],
            "type": "histogram2d"
           }
          ],
          "histogram2dcontour": [
           {
            "colorbar": {
             "outlinewidth": 0,
             "ticks": ""
            },
            "colorscale": [
             [
              0,
              "#0d0887"
             ],
             [
              0.1111111111111111,
              "#46039f"
             ],
             [
              0.2222222222222222,
              "#7201a8"
             ],
             [
              0.3333333333333333,
              "#9c179e"
             ],
             [
              0.4444444444444444,
              "#bd3786"
             ],
             [
              0.5555555555555556,
              "#d8576b"
             ],
             [
              0.6666666666666666,
              "#ed7953"
             ],
             [
              0.7777777777777778,
              "#fb9f3a"
             ],
             [
              0.8888888888888888,
              "#fdca26"
             ],
             [
              1,
              "#f0f921"
             ]
            ],
            "type": "histogram2dcontour"
           }
          ],
          "mesh3d": [
           {
            "colorbar": {
             "outlinewidth": 0,
             "ticks": ""
            },
            "type": "mesh3d"
           }
          ],
          "parcoords": [
           {
            "line": {
             "colorbar": {
              "outlinewidth": 0,
              "ticks": ""
             }
            },
            "type": "parcoords"
           }
          ],
          "pie": [
           {
            "automargin": true,
            "type": "pie"
           }
          ],
          "scatter": [
           {
            "fillpattern": {
             "fillmode": "overlay",
             "size": 10,
             "solidity": 0.2
            },
            "type": "scatter"
           }
          ],
          "scatter3d": [
           {
            "line": {
             "colorbar": {
              "outlinewidth": 0,
              "ticks": ""
             }
            },
            "marker": {
             "colorbar": {
              "outlinewidth": 0,
              "ticks": ""
             }
            },
            "type": "scatter3d"
           }
          ],
          "scattercarpet": [
           {
            "marker": {
             "colorbar": {
              "outlinewidth": 0,
              "ticks": ""
             }
            },
            "type": "scattercarpet"
           }
          ],
          "scattergeo": [
           {
            "marker": {
             "colorbar": {
              "outlinewidth": 0,
              "ticks": ""
             }
            },
            "type": "scattergeo"
           }
          ],
          "scattergl": [
           {
            "marker": {
             "colorbar": {
              "outlinewidth": 0,
              "ticks": ""
             }
            },
            "type": "scattergl"
           }
          ],
          "scattermapbox": [
           {
            "marker": {
             "colorbar": {
              "outlinewidth": 0,
              "ticks": ""
             }
            },
            "type": "scattermapbox"
           }
          ],
          "scatterpolar": [
           {
            "marker": {
             "colorbar": {
              "outlinewidth": 0,
              "ticks": ""
             }
            },
            "type": "scatterpolar"
           }
          ],
          "scatterpolargl": [
           {
            "marker": {
             "colorbar": {
              "outlinewidth": 0,
              "ticks": ""
             }
            },
            "type": "scatterpolargl"
           }
          ],
          "scatterternary": [
           {
            "marker": {
             "colorbar": {
              "outlinewidth": 0,
              "ticks": ""
             }
            },
            "type": "scatterternary"
           }
          ],
          "surface": [
           {
            "colorbar": {
             "outlinewidth": 0,
             "ticks": ""
            },
            "colorscale": [
             [
              0,
              "#0d0887"
             ],
             [
              0.1111111111111111,
              "#46039f"
             ],
             [
              0.2222222222222222,
              "#7201a8"
             ],
             [
              0.3333333333333333,
              "#9c179e"
             ],
             [
              0.4444444444444444,
              "#bd3786"
             ],
             [
              0.5555555555555556,
              "#d8576b"
             ],
             [
              0.6666666666666666,
              "#ed7953"
             ],
             [
              0.7777777777777778,
              "#fb9f3a"
             ],
             [
              0.8888888888888888,
              "#fdca26"
             ],
             [
              1,
              "#f0f921"
             ]
            ],
            "type": "surface"
           }
          ],
          "table": [
           {
            "cells": {
             "fill": {
              "color": "#EBF0F8"
             },
             "line": {
              "color": "white"
             }
            },
            "header": {
             "fill": {
              "color": "#C8D4E3"
             },
             "line": {
              "color": "white"
             }
            },
            "type": "table"
           }
          ]
         },
         "layout": {
          "annotationdefaults": {
           "arrowcolor": "#2a3f5f",
           "arrowhead": 0,
           "arrowwidth": 1
          },
          "autotypenumbers": "strict",
          "coloraxis": {
           "colorbar": {
            "outlinewidth": 0,
            "ticks": ""
           }
          },
          "colorscale": {
           "diverging": [
            [
             0,
             "#8e0152"
            ],
            [
             0.1,
             "#c51b7d"
            ],
            [
             0.2,
             "#de77ae"
            ],
            [
             0.3,
             "#f1b6da"
            ],
            [
             0.4,
             "#fde0ef"
            ],
            [
             0.5,
             "#f7f7f7"
            ],
            [
             0.6,
             "#e6f5d0"
            ],
            [
             0.7,
             "#b8e186"
            ],
            [
             0.8,
             "#7fbc41"
            ],
            [
             0.9,
             "#4d9221"
            ],
            [
             1,
             "#276419"
            ]
           ],
           "sequential": [
            [
             0,
             "#0d0887"
            ],
            [
             0.1111111111111111,
             "#46039f"
            ],
            [
             0.2222222222222222,
             "#7201a8"
            ],
            [
             0.3333333333333333,
             "#9c179e"
            ],
            [
             0.4444444444444444,
             "#bd3786"
            ],
            [
             0.5555555555555556,
             "#d8576b"
            ],
            [
             0.6666666666666666,
             "#ed7953"
            ],
            [
             0.7777777777777778,
             "#fb9f3a"
            ],
            [
             0.8888888888888888,
             "#fdca26"
            ],
            [
             1,
             "#f0f921"
            ]
           ],
           "sequentialminus": [
            [
             0,
             "#0d0887"
            ],
            [
             0.1111111111111111,
             "#46039f"
            ],
            [
             0.2222222222222222,
             "#7201a8"
            ],
            [
             0.3333333333333333,
             "#9c179e"
            ],
            [
             0.4444444444444444,
             "#bd3786"
            ],
            [
             0.5555555555555556,
             "#d8576b"
            ],
            [
             0.6666666666666666,
             "#ed7953"
            ],
            [
             0.7777777777777778,
             "#fb9f3a"
            ],
            [
             0.8888888888888888,
             "#fdca26"
            ],
            [
             1,
             "#f0f921"
            ]
           ]
          },
          "colorway": [
           "#636efa",
           "#EF553B",
           "#00cc96",
           "#ab63fa",
           "#FFA15A",
           "#19d3f3",
           "#FF6692",
           "#B6E880",
           "#FF97FF",
           "#FECB52"
          ],
          "font": {
           "color": "#2a3f5f"
          },
          "geo": {
           "bgcolor": "white",
           "lakecolor": "white",
           "landcolor": "#E5ECF6",
           "showlakes": true,
           "showland": true,
           "subunitcolor": "white"
          },
          "hoverlabel": {
           "align": "left"
          },
          "hovermode": "closest",
          "mapbox": {
           "style": "light"
          },
          "paper_bgcolor": "white",
          "plot_bgcolor": "#E5ECF6",
          "polar": {
           "angularaxis": {
            "gridcolor": "white",
            "linecolor": "white",
            "ticks": ""
           },
           "bgcolor": "#E5ECF6",
           "radialaxis": {
            "gridcolor": "white",
            "linecolor": "white",
            "ticks": ""
           }
          },
          "scene": {
           "xaxis": {
            "backgroundcolor": "#E5ECF6",
            "gridcolor": "white",
            "gridwidth": 2,
            "linecolor": "white",
            "showbackground": true,
            "ticks": "",
            "zerolinecolor": "white"
           },
           "yaxis": {
            "backgroundcolor": "#E5ECF6",
            "gridcolor": "white",
            "gridwidth": 2,
            "linecolor": "white",
            "showbackground": true,
            "ticks": "",
            "zerolinecolor": "white"
           },
           "zaxis": {
            "backgroundcolor": "#E5ECF6",
            "gridcolor": "white",
            "gridwidth": 2,
            "linecolor": "white",
            "showbackground": true,
            "ticks": "",
            "zerolinecolor": "white"
           }
          },
          "shapedefaults": {
           "line": {
            "color": "#2a3f5f"
           }
          },
          "ternary": {
           "aaxis": {
            "gridcolor": "white",
            "linecolor": "white",
            "ticks": ""
           },
           "baxis": {
            "gridcolor": "white",
            "linecolor": "white",
            "ticks": ""
           },
           "bgcolor": "#E5ECF6",
           "caxis": {
            "gridcolor": "white",
            "linecolor": "white",
            "ticks": ""
           }
          },
          "title": {
           "x": 0.05
          },
          "xaxis": {
           "automargin": true,
           "gridcolor": "white",
           "linecolor": "white",
           "ticks": "",
           "title": {
            "standoff": 15
           },
           "zerolinecolor": "white",
           "zerolinewidth": 2
          },
          "yaxis": {
           "automargin": true,
           "gridcolor": "white",
           "linecolor": "white",
           "ticks": "",
           "title": {
            "standoff": 15
           },
           "zerolinecolor": "white",
           "zerolinewidth": 2
          }
         }
        },
        "title": {
         "text": "Кількість померлих за окремими причинами смерті в 2021 році"
        }
       }
      },
      "text/html": [
       "<div>                            <div id=\"dd2e46d6-fe62-4871-93cd-246d7efc3e73\" class=\"plotly-graph-div\" style=\"height:525px; width:100%;\"></div>            <script type=\"text/javascript\">                require([\"plotly\"], function(Plotly) {                    window.PLOTLYENV=window.PLOTLYENV || {};                                    if (document.getElementById(\"dd2e46d6-fe62-4871-93cd-246d7efc3e73\")) {                    Plotly.newPlot(                        \"dd2e46d6-fe62-4871-93cd-246d7efc3e73\",                        [{\"mode\":\"markers\",\"x\":[\"\\u0442\\u0443\\u0431\\u0435\\u0440\\u043a\\u0443\\u043b\\u044c\\u043e\\u0437\",\"  x\\u0432\\u043e\\u0440\\u043e\\u0431\\u0430, \\u0437\\u0443\\u043c\\u043e\\u0432\\u043b\\u0435\\u043d\\u0430 \\u0432\\u0456\\u0440\\u0443\\u0441\\u043e\\u043c \\n  \\u0456\\u043c\\u0443\\u043d\\u043e\\u0434\\u0435\\u0444\\u0456\\u0446\\u0438\\u0442\\u0443 \\u043b\\u044e\\u0434\\u0438\\u043d\\u0438 (\\u0412\\u0406\\u041b)\",\" \\u0437\\u043b\\u043e\\u044f\\u043a\\u0456\\u0441\\u043d\\u0456 \\u043d\\u043e\\u0432\\u043e\\u0443\\u0442\\u0432\\u043e\\u0440\\u0435\\u043d\\u043d\\u044f\",\" \\u0415\\u043d\\u0434\\u043e\\u043a\\u0440\\u0438\\u043d\\u043d\\u0456 \\u0445\\u0432\\u043e\\u0440\\u043e\\u0431\\u0438, \\u0440\\u043e\\u0437\\u043b\\u0430\\u0434\\u0438 \\u0445\\u0430\\u0440\\u0447\\u0443\\u0432\\u0430\\u043d\\u043d\\u044f \\u0442\\u0430 \\u043f\\u043e\\u0440\\u0443\\u0448\\u0435\\u043d\\u043d\\u044f \\u043e\\u0431\\u043c\\u0456\\u043d\\u0443 \\u0440\\u0435\\u0447\\u043e\\u0432\\u0438\\u043d\",\" \\u0446\\u0443\\u043a\\u0440\\u043e\\u0432\\u0438\\u0439 \\u0434\\u0456\\u0430\\u0431\\u0435\\u0442\",\" \\u0420\\u043e\\u0437\\u043b\\u0430\\u0434\\u0438 \\u043f\\u0441\\u0438\\u0445\\u0456\\u043a\\u0438 \\u0442\\u0430 \\u043f\\u043e\\u0432\\u0435\\u0434\\u0456\\u043d\\u043a\\u0438\",\"\\u0437 \\u043d\\u0438\\u0445 \\u0440\\u043e\\u0437\\u043b\\u0430\\u0434\\u0438 \\u043f\\u0441\\u0438\\u0445\\u0456\\u043a\\u0438 \\u0442\\u0430 \\u043f\\u043e\\u0432\\u0435\\u0434\\u0456\\u043d\\u043a\\u0438 \\u0432\\u043d\\u0430\\u0441\\u043b\\u0456\\u0434\\u043e\\u043a \\u0432\\u0436\\u0438\\u0432\\u0430\\u043d\\u043d\\u044f \\u0430\\u043b\\u043a\\u043e\\u0433\\u043e\\u043b\\u044e\",\"\\u0425\\u0432\\u043e\\u0440\\u043e\\u0431\\u0438 \\u043d\\u0435\\u0440\\u0432\\u043e\\u0432\\u043e\\u0457 \\u0441\\u0438\\u0441\\u0442\\u0435\\u043c\\u0438\",\"\\u0456\\u0448\\u0435\\u043c\\u0456\\u0447\\u043d\\u0430 \\u0445\\u0432\\u043e\\u0440\\u043e\\u0431\\u0430 \\u0441\\u0435\\u0440\\u0446\\u044f\",\"\\u0430\\u043b\\u043a\\u043e\\u0433\\u043e\\u043b\\u044c\\u043d\\u0430 \\u043a\\u0430\\u0440\\u0434\\u0456\\u043e\\u043c\\u0456\\u043e\\u043f\\u0430\\u0442\\u0456\\u044f \",\"\\u0446\\u0435\\u0440\\u0435\\u0431\\u0440\\u043e\\u0432\\u0430\\u0441\\u043a\\u0443\\u043b\\u044f\\u0440\\u043d\\u0456 \\u0445\\u0432\\u043e\\u0440\\u043e\\u0431\\u0438\",\"\\u0433\\u0440\\u0438\\u043f \\u0456 \\u043f\\u043d\\u0435\\u0432\\u043c\\u043e\\u043d\\u0456\\u044f\",\"\\u0425\\u0432\\u043e\\u0440\\u043e\\u0431\\u0438 \\u043e\\u0440\\u0433\\u0430\\u043d\\u0456\\u0432 \\u0442\\u0440\\u0430\\u0432\\u043b\\u0435\\u043d\\u043d\\u044f\",\"\\u0425\\u0432\\u043e\\u0440\\u043e\\u0431\\u0438 \\u0448\\u043a\\u0456\\u0440\\u0438 \\u0442\\u0430 \\u043f\\u0456\\u0434\\u0448\\u043a\\u0456\\u0440\\u043d\\u043e\\u0457 \\u043a\\u043b\\u0456\\u0442\\u043a\\u043e\\u0432\\u0438\\u043d\\u0438\",\"\\u0425\\u0432\\u043e\\u0440\\u043e\\u0431\\u0438 \\u043a\\u0456\\u0441\\u0442\\u043a\\u043e\\u0432\\u043e-\\u043c'\\u044f\\u0437\\u043e\\u0432\\u043e\\u0457 \\u0441\\u0438\\u0441\\u0442\\u0435\\u043c\\u0438 \\u0442\\u0430 \\u0441\\u043f\\u043e\\u043b\\u0443\\u0447\\u043d\\u043e\\u0457 \\u0442\\u043a\\u0430\\u043d\\u0438\\u043d\\u0438\",\" \\u0425\\u0432\\u043e\\u0440\\u043e\\u0431\\u0438 \\u0441\\u0435\\u0447\\u043e\\u0441\\u0442\\u0430\\u0442\\u0435\\u0432\\u043e\\u0457 \\u0441\\u0438\\u0441\\u0442\\u0435\\u043c\\u0438\",\" \\u0412\\u0430\\u0433\\u0456\\u0442\\u043d\\u0456\\u0441\\u0442\\u044c, \\u043f\\u043e\\u043b\\u043e\\u0433\\u0438 \\u0442\\u0430 \\u043f\\u0456\\u0441\\u043b\\u044f\\u043f\\u043e\\u043b\\u043e\\u0433\\u043e\\u0432\\u0438\\u0439 \\u043f\\u0435\\u0440\\u0456\\u043e\\u0434\",\" \\u041e\\u043a\\u0440\\u0435\\u043c\\u0456 \\u0441\\u0442\\u0430\\u043d\\u0438, \\u0449\\u043e \\u0432\\u0438\\u043d\\u0438\\u043a\\u0430\\u044e\\u0442\\u044c \\u0443 \\u043f\\u0435\\u0440\\u0438\\u043d\\u0430\\u0442\\u0430\\u043b\\u044c\\u043d\\u043e\\u043c\\u0443 \\u043f\\u0435\\u0440\\u0456\\u043e\\u0434\\u0456\",\" \\u041f\\u0440\\u0438\\u0440\\u043e\\u0434\\u0436\\u0435\\u043d\\u0456 \\u0432\\u0430\\u0434\\u0438 \\u0440\\u043e\\u0437\\u0432\\u0438\\u0442\\u043a\\u0443, \\u0434\\u0435\\u0444\\u043e\\u0440\\u043c\\u0430\\u0446\\u0456\\u0457 \\u0442\\u0430 \\u0445\\u0440\\u043e\\u043c\\u043e\\u0441\\u043e\\u043c\\u043d\\u0456 \\u0430\\u043d\\u043e\\u043c\\u0430\\u043b\\u0456\\u0457\",\"\\u0421\\u0438\\u043c\\u043f\\u0442\\u043e\\u043c\\u0438, \\u043e\\u0437\\u043d\\u0430\\u043a\\u0438 \\u0442\\u0430 \\u0432\\u0456\\u0434\\u0445\\u0438\\u043b\\u0435\\u043d\\u043d\\u044f \\u0432\\u0456\\u0434 \\u043d\\u043e\\u0440\\u043c\\u0438, \\u0449\\u043e \\u0432\\u0438\\u044f\\u0432\\u043b\\u0435\\u043d\\u0456 \\u043f\\u0440\\u0438 \\u043a\\u043b\\u0456\\u043d\\u0456\\u0447\\u043d\\u0438\\u0445 \\u0456 \\u043b\\u0430\\u0431\\u043e\\u0440\\u0430\\u0442\\u043e\\u0440\\u043d\\u0438\\u0445 \\u0434\\u043e\\u0441\\u043b\\u0456\\u0434\\u0436\\u0435\\u043d\\u043d\\u044f\\u0445, \\u043d\\u0435 \\u043a\\u043b\\u0430\\u0441\\u0438\\u0444\\u0456\\u043a\\u043e\\u0432\\u0430\\u043d\\u0456 \\u0432 \\u0456\\u043d\\u0448\\u0438\\u0445 \\u0440\\u0443\\u0431\\u0440\\u0438\\u043a\\u0430\\u0445 \",\" \\u0417\\u043e\\u0432\\u043d\\u0456\\u0448\\u043d\\u0456 \\u043f\\u0440\\u0438\\u0447\\u0438\\u043d\\u0438 \\u0441\\u043c\\u0435\\u0440\\u0442\\u0456\",\"\\u0442\\u0440\\u0430\\u043d\\u0441\\u043f\\u043e\\u0440\\u0442\\u043d\\u0456 \\u043d\\u0435\\u0449\\u0430\\u0441\\u043d\\u0456 \\u0432\\u0438\\u043f\\u0430\\u0434\\u043a\\u0438\",\"\\u0432\\u0438\\u043f\\u0430\\u0434\\u043a\\u043e\\u0432\\u0435 \\u0443\\u0442\\u043e\\u043f\\u043b\\u0435\\u043d\\u043d\\u044f \\u0442\\u0430 \\u0437\\u0430\\u043d\\u0443\\u0440\\u0435\\u043d\\u043d\\u044f \\u0443 \\u0432\\u043e\\u0434\\u0443\",\"\\u043d\\u0435\\u0449\\u0430\\u0441\\u043d\\u0456 \\u0432\\u0438\\u043f\\u0430\\u0434\\u043a\\u0438, \\u0441\\u043f\\u0440\\u0438\\u0447\\u0438\\u043d\\u0435\\u043d\\u0456 \\u0434\\u0456\\u0454\\u044e \\u0434\\u0438\\u043c\\u0443, \\u0432\\u043e\\u0433\\u043d\\u044e \\u0442\\u0430 \\u043f\\u043e\\u043b\\u0443\\u043c'\\u044f\",\"  \\u0432\\u0438\\u043f\\u0430\\u0434\\u043a\\u043e\\u0432\\u0435 \\u043e\\u0442\\u0440\\u0443\\u0454\\u043d\\u043d\\u044f, \\n  \\u0441\\u043f\\u0440\\u0438\\u0447\\u0438\\u043d\\u0435\\u043d\\u0435 \\u043e\\u0442\\u0440\\u0443\\u0439\\u043d\\u0438\\u043c\\u0438 \\n  \\u0440\\u0435\\u0447\\u043e\\u0432\\u0438\\u043d\\u0430\\u043c\\u0438 (\\u043a\\u0440\\u0456\\u043c \\u0430\\u043b\\u043a\\u043e\\u0433\\u043e\\u043b\\u044e)\",\"\\u0432\\u0438\\u043f\\u0430\\u0434\\u043a\\u043e\\u0432\\u0435 \\u043e\\u0442\\u0440\\u0443\\u0454\\u043d\\u043d\\u044f \\u0442\\u0430 \\u0434\\u0456\\u044f \\u0430\\u043b\\u043a\\u043e\\u0433\\u043e\\u043b\\u044e\",\"\\u043d\\u0430\\u0432\\u043c\\u0438\\u0441\\u043d\\u0435 \\u0441\\u0430\\u043c\\u043e\\u0443\\u0448\\u043a\\u043e\\u0434\\u0436\\u0435\\u043d\\u043d\\u044f\",\"  \\u043d\\u0430\\u0441\\u043b\\u0456\\u0434\\u043a\\u0438 \\u043d\\u0430\\u043f\\u0430\\u0434\\u0443 \\u0437 \\u043c\\u0435\\u0442\\u043e\\u044e \\n  \\u0443\\u0431\\u0438\\u0432\\u0441\\u0442\\u0432\\u0430 \\u0447\\u0438 \\u043d\\u0430\\u043d\\u0435\\u0441\\u0435\\u043d\\u043d\\u044f  \\n  \\u0443\\u0448\\u043a\\u043e\\u0434\\u0436\\u0435\\u043d\\u043d\\u044f\",\"COVID-19, \\u0432\\u0456\\u0440\\u0443\\u0441 \\u0456\\u0434\\u0435\\u043d\\u0442\\u0438\\u0444\\u0456\\u043a\\u043e\\u0432\\u0430\\u043d\\u0438\\u0439\",\"COVID-19, \\u0432\\u0456\\u0440\\u0443\\u0441 \\u043d\\u0435\\u0456\\u0434\\u0435\\u043d\\u0442\\u0438\\u0444\\u0456\\u043a\\u043e\\u0432\\u0430\\u043d\\u0438\\u0439\"],\"y\":[2873,2265,73715,2259,2065,890,699,4419,300406,3496,82560,21176,24844,600,361,2635,116,1131,916,23063,28836,3732,1532,1222,1692,2433,5914,1250,85975,1592],\"type\":\"scatter\"}],                        {\"template\":{\"data\":{\"histogram2dcontour\":[{\"type\":\"histogram2dcontour\",\"colorbar\":{\"outlinewidth\":0,\"ticks\":\"\"},\"colorscale\":[[0.0,\"#0d0887\"],[0.1111111111111111,\"#46039f\"],[0.2222222222222222,\"#7201a8\"],[0.3333333333333333,\"#9c179e\"],[0.4444444444444444,\"#bd3786\"],[0.5555555555555556,\"#d8576b\"],[0.6666666666666666,\"#ed7953\"],[0.7777777777777778,\"#fb9f3a\"],[0.8888888888888888,\"#fdca26\"],[1.0,\"#f0f921\"]]}],\"choropleth\":[{\"type\":\"choropleth\",\"colorbar\":{\"outlinewidth\":0,\"ticks\":\"\"}}],\"histogram2d\":[{\"type\":\"histogram2d\",\"colorbar\":{\"outlinewidth\":0,\"ticks\":\"\"},\"colorscale\":[[0.0,\"#0d0887\"],[0.1111111111111111,\"#46039f\"],[0.2222222222222222,\"#7201a8\"],[0.3333333333333333,\"#9c179e\"],[0.4444444444444444,\"#bd3786\"],[0.5555555555555556,\"#d8576b\"],[0.6666666666666666,\"#ed7953\"],[0.7777777777777778,\"#fb9f3a\"],[0.8888888888888888,\"#fdca26\"],[1.0,\"#f0f921\"]]}],\"heatmap\":[{\"type\":\"heatmap\",\"colorbar\":{\"outlinewidth\":0,\"ticks\":\"\"},\"colorscale\":[[0.0,\"#0d0887\"],[0.1111111111111111,\"#46039f\"],[0.2222222222222222,\"#7201a8\"],[0.3333333333333333,\"#9c179e\"],[0.4444444444444444,\"#bd3786\"],[0.5555555555555556,\"#d8576b\"],[0.6666666666666666,\"#ed7953\"],[0.7777777777777778,\"#fb9f3a\"],[0.8888888888888888,\"#fdca26\"],[1.0,\"#f0f921\"]]}],\"heatmapgl\":[{\"type\":\"heatmapgl\",\"colorbar\":{\"outlinewidth\":0,\"ticks\":\"\"},\"colorscale\":[[0.0,\"#0d0887\"],[0.1111111111111111,\"#46039f\"],[0.2222222222222222,\"#7201a8\"],[0.3333333333333333,\"#9c179e\"],[0.4444444444444444,\"#bd3786\"],[0.5555555555555556,\"#d8576b\"],[0.6666666666666666,\"#ed7953\"],[0.7777777777777778,\"#fb9f3a\"],[0.8888888888888888,\"#fdca26\"],[1.0,\"#f0f921\"]]}],\"contourcarpet\":[{\"type\":\"contourcarpet\",\"colorbar\":{\"outlinewidth\":0,\"ticks\":\"\"}}],\"contour\":[{\"type\":\"contour\",\"colorbar\":{\"outlinewidth\":0,\"ticks\":\"\"},\"colorscale\":[[0.0,\"#0d0887\"],[0.1111111111111111,\"#46039f\"],[0.2222222222222222,\"#7201a8\"],[0.3333333333333333,\"#9c179e\"],[0.4444444444444444,\"#bd3786\"],[0.5555555555555556,\"#d8576b\"],[0.6666666666666666,\"#ed7953\"],[0.7777777777777778,\"#fb9f3a\"],[0.8888888888888888,\"#fdca26\"],[1.0,\"#f0f921\"]]}],\"surface\":[{\"type\":\"surface\",\"colorbar\":{\"outlinewidth\":0,\"ticks\":\"\"},\"colorscale\":[[0.0,\"#0d0887\"],[0.1111111111111111,\"#46039f\"],[0.2222222222222222,\"#7201a8\"],[0.3333333333333333,\"#9c179e\"],[0.4444444444444444,\"#bd3786\"],[0.5555555555555556,\"#d8576b\"],[0.6666666666666666,\"#ed7953\"],[0.7777777777777778,\"#fb9f3a\"],[0.8888888888888888,\"#fdca26\"],[1.0,\"#f0f921\"]]}],\"mesh3d\":[{\"type\":\"mesh3d\",\"colorbar\":{\"outlinewidth\":0,\"ticks\":\"\"}}],\"scatter\":[{\"fillpattern\":{\"fillmode\":\"overlay\",\"size\":10,\"solidity\":0.2},\"type\":\"scatter\"}],\"parcoords\":[{\"type\":\"parcoords\",\"line\":{\"colorbar\":{\"outlinewidth\":0,\"ticks\":\"\"}}}],\"scatterpolargl\":[{\"type\":\"scatterpolargl\",\"marker\":{\"colorbar\":{\"outlinewidth\":0,\"ticks\":\"\"}}}],\"bar\":[{\"error_x\":{\"color\":\"#2a3f5f\"},\"error_y\":{\"color\":\"#2a3f5f\"},\"marker\":{\"line\":{\"color\":\"#E5ECF6\",\"width\":0.5},\"pattern\":{\"fillmode\":\"overlay\",\"size\":10,\"solidity\":0.2}},\"type\":\"bar\"}],\"scattergeo\":[{\"type\":\"scattergeo\",\"marker\":{\"colorbar\":{\"outlinewidth\":0,\"ticks\":\"\"}}}],\"scatterpolar\":[{\"type\":\"scatterpolar\",\"marker\":{\"colorbar\":{\"outlinewidth\":0,\"ticks\":\"\"}}}],\"histogram\":[{\"marker\":{\"pattern\":{\"fillmode\":\"overlay\",\"size\":10,\"solidity\":0.2}},\"type\":\"histogram\"}],\"scattergl\":[{\"type\":\"scattergl\",\"marker\":{\"colorbar\":{\"outlinewidth\":0,\"ticks\":\"\"}}}],\"scatter3d\":[{\"type\":\"scatter3d\",\"line\":{\"colorbar\":{\"outlinewidth\":0,\"ticks\":\"\"}},\"marker\":{\"colorbar\":{\"outlinewidth\":0,\"ticks\":\"\"}}}],\"scattermapbox\":[{\"type\":\"scattermapbox\",\"marker\":{\"colorbar\":{\"outlinewidth\":0,\"ticks\":\"\"}}}],\"scatterternary\":[{\"type\":\"scatterternary\",\"marker\":{\"colorbar\":{\"outlinewidth\":0,\"ticks\":\"\"}}}],\"scattercarpet\":[{\"type\":\"scattercarpet\",\"marker\":{\"colorbar\":{\"outlinewidth\":0,\"ticks\":\"\"}}}],\"carpet\":[{\"aaxis\":{\"endlinecolor\":\"#2a3f5f\",\"gridcolor\":\"white\",\"linecolor\":\"white\",\"minorgridcolor\":\"white\",\"startlinecolor\":\"#2a3f5f\"},\"baxis\":{\"endlinecolor\":\"#2a3f5f\",\"gridcolor\":\"white\",\"linecolor\":\"white\",\"minorgridcolor\":\"white\",\"startlinecolor\":\"#2a3f5f\"},\"type\":\"carpet\"}],\"table\":[{\"cells\":{\"fill\":{\"color\":\"#EBF0F8\"},\"line\":{\"color\":\"white\"}},\"header\":{\"fill\":{\"color\":\"#C8D4E3\"},\"line\":{\"color\":\"white\"}},\"type\":\"table\"}],\"barpolar\":[{\"marker\":{\"line\":{\"color\":\"#E5ECF6\",\"width\":0.5},\"pattern\":{\"fillmode\":\"overlay\",\"size\":10,\"solidity\":0.2}},\"type\":\"barpolar\"}],\"pie\":[{\"automargin\":true,\"type\":\"pie\"}]},\"layout\":{\"autotypenumbers\":\"strict\",\"colorway\":[\"#636efa\",\"#EF553B\",\"#00cc96\",\"#ab63fa\",\"#FFA15A\",\"#19d3f3\",\"#FF6692\",\"#B6E880\",\"#FF97FF\",\"#FECB52\"],\"font\":{\"color\":\"#2a3f5f\"},\"hovermode\":\"closest\",\"hoverlabel\":{\"align\":\"left\"},\"paper_bgcolor\":\"white\",\"plot_bgcolor\":\"#E5ECF6\",\"polar\":{\"bgcolor\":\"#E5ECF6\",\"angularaxis\":{\"gridcolor\":\"white\",\"linecolor\":\"white\",\"ticks\":\"\"},\"radialaxis\":{\"gridcolor\":\"white\",\"linecolor\":\"white\",\"ticks\":\"\"}},\"ternary\":{\"bgcolor\":\"#E5ECF6\",\"aaxis\":{\"gridcolor\":\"white\",\"linecolor\":\"white\",\"ticks\":\"\"},\"baxis\":{\"gridcolor\":\"white\",\"linecolor\":\"white\",\"ticks\":\"\"},\"caxis\":{\"gridcolor\":\"white\",\"linecolor\":\"white\",\"ticks\":\"\"}},\"coloraxis\":{\"colorbar\":{\"outlinewidth\":0,\"ticks\":\"\"}},\"colorscale\":{\"sequential\":[[0.0,\"#0d0887\"],[0.1111111111111111,\"#46039f\"],[0.2222222222222222,\"#7201a8\"],[0.3333333333333333,\"#9c179e\"],[0.4444444444444444,\"#bd3786\"],[0.5555555555555556,\"#d8576b\"],[0.6666666666666666,\"#ed7953\"],[0.7777777777777778,\"#fb9f3a\"],[0.8888888888888888,\"#fdca26\"],[1.0,\"#f0f921\"]],\"sequentialminus\":[[0.0,\"#0d0887\"],[0.1111111111111111,\"#46039f\"],[0.2222222222222222,\"#7201a8\"],[0.3333333333333333,\"#9c179e\"],[0.4444444444444444,\"#bd3786\"],[0.5555555555555556,\"#d8576b\"],[0.6666666666666666,\"#ed7953\"],[0.7777777777777778,\"#fb9f3a\"],[0.8888888888888888,\"#fdca26\"],[1.0,\"#f0f921\"]],\"diverging\":[[0,\"#8e0152\"],[0.1,\"#c51b7d\"],[0.2,\"#de77ae\"],[0.3,\"#f1b6da\"],[0.4,\"#fde0ef\"],[0.5,\"#f7f7f7\"],[0.6,\"#e6f5d0\"],[0.7,\"#b8e186\"],[0.8,\"#7fbc41\"],[0.9,\"#4d9221\"],[1,\"#276419\"]]},\"xaxis\":{\"gridcolor\":\"white\",\"linecolor\":\"white\",\"ticks\":\"\",\"title\":{\"standoff\":15},\"zerolinecolor\":\"white\",\"automargin\":true,\"zerolinewidth\":2},\"yaxis\":{\"gridcolor\":\"white\",\"linecolor\":\"white\",\"ticks\":\"\",\"title\":{\"standoff\":15},\"zerolinecolor\":\"white\",\"automargin\":true,\"zerolinewidth\":2},\"scene\":{\"xaxis\":{\"backgroundcolor\":\"#E5ECF6\",\"gridcolor\":\"white\",\"linecolor\":\"white\",\"showbackground\":true,\"ticks\":\"\",\"zerolinecolor\":\"white\",\"gridwidth\":2},\"yaxis\":{\"backgroundcolor\":\"#E5ECF6\",\"gridcolor\":\"white\",\"linecolor\":\"white\",\"showbackground\":true,\"ticks\":\"\",\"zerolinecolor\":\"white\",\"gridwidth\":2},\"zaxis\":{\"backgroundcolor\":\"#E5ECF6\",\"gridcolor\":\"white\",\"linecolor\":\"white\",\"showbackground\":true,\"ticks\":\"\",\"zerolinecolor\":\"white\",\"gridwidth\":2}},\"shapedefaults\":{\"line\":{\"color\":\"#2a3f5f\"}},\"annotationdefaults\":{\"arrowcolor\":\"#2a3f5f\",\"arrowhead\":0,\"arrowwidth\":1},\"geo\":{\"bgcolor\":\"white\",\"landcolor\":\"#E5ECF6\",\"subunitcolor\":\"white\",\"showland\":true,\"showlakes\":true,\"lakecolor\":\"white\"},\"title\":{\"x\":0.05},\"mapbox\":{\"style\":\"light\"}}},\"title\":{\"text\":\"\\u041a\\u0456\\u043b\\u044c\\u043a\\u0456\\u0441\\u0442\\u044c \\u043f\\u043e\\u043c\\u0435\\u0440\\u043b\\u0438\\u0445 \\u0437\\u0430 \\u043e\\u043a\\u0440\\u0435\\u043c\\u0438\\u043c\\u0438 \\u043f\\u0440\\u0438\\u0447\\u0438\\u043d\\u0430\\u043c\\u0438 \\u0441\\u043c\\u0435\\u0440\\u0442\\u0456 \\u0432 2021 \\u0440\\u043e\\u0446\\u0456\"}},                        {\"responsive\": true}                    ).then(function(){\n",
       "                            \n",
       "var gd = document.getElementById('dd2e46d6-fe62-4871-93cd-246d7efc3e73');\n",
       "var x = new MutationObserver(function (mutations, observer) {{\n",
       "        var display = window.getComputedStyle(gd).display;\n",
       "        if (!display || display === 'none') {{\n",
       "            console.log([gd, 'removed!']);\n",
       "            Plotly.purge(gd);\n",
       "            observer.disconnect();\n",
       "        }}\n",
       "}});\n",
       "\n",
       "// Listen for the removal of the full notebook cells\n",
       "var notebookContainer = gd.closest('#notebook-container');\n",
       "if (notebookContainer) {{\n",
       "    x.observe(notebookContainer, {childList: true});\n",
       "}}\n",
       "\n",
       "// Listen for the clearing of the current output cell\n",
       "var outputEl = gd.closest('.output');\n",
       "if (outputEl) {{\n",
       "    x.observe(outputEl, {childList: true});\n",
       "}}\n",
       "\n",
       "                        })                };                });            </script>        </div>"
      ]
     },
     "metadata": {},
     "output_type": "display_data"
    }
   ],
   "source": [
    "fig = go.Figure(data=go.Scatter(x=df['Хвороба'], y=df['Осіб'], mode='markers'))\n",
    "fig.update_layout(title='Кількість померлих за окремими причинами смерті в 2021 році')\n",
    "fig.show()"
   ]
  },
  {
   "cell_type": "code",
   "execution_count": 29,
   "metadata": {},
   "outputs": [
    {
     "data": {
      "application/vnd.plotly.v1+json": {
       "config": {
        "plotlyServerURL": "https://plot.ly"
       },
       "data": [
        {
         "branchvalues": "total",
         "domain": {
          "x": [
           0,
           1
          ],
          "y": [
           0,
           1
          ]
         },
         "hovertemplate": "labels=%{label}<br>Осіб=%{value}<br>parent=%{parent}<br>id=%{id}<extra></extra>",
         "ids": [
          "  xвороба, зумовлена вірусом \n  імунодефіциту людини (ВІЛ)",
          "  випадкове отруєння, \n  спричинене отруйними \n  речовинами (крім алкоголю)",
          "  наслідки нападу з метою \n  убивства чи нанесення  \n  ушкодження",
          " Вагітність, пологи та післяпологовий період",
          " Ендокринні хвороби, розлади харчування та порушення обміну речовин",
          " Зовнішні причини смерті",
          " Окремі стани, що виникають у перинатальному періоді",
          " Природжені вади розвитку, деформації та хромосомні аномалії",
          " Розлади психіки та поведінки",
          " Хвороби сечостатевої системи",
          " злоякісні новоутворення",
          " цукровий діабет",
          "COVID-19, вірус неідентифікований",
          "COVID-19, вірус ідентифікований",
          "Симптоми, ознаки та відхилення від норми, що виявлені при клінічних і лабораторних дослідженнях, не класифіковані в інших рубриках ",
          "Хвороби кістково-м'язової системи та сполучної тканини",
          "Хвороби нервової системи",
          "Хвороби органів травлення",
          "Хвороби шкіри та підшкірної клітковини",
          "алкогольна кардіоміопатія ",
          "випадкове отруєння та дія алкоголю",
          "випадкове утоплення та занурення у воду",
          "грип і пневмонія",
          "з них розлади психіки та поведінки внаслідок вживання алкоголю",
          "навмисне самоушкодження",
          "нещасні випадки, спричинені дією диму, вогню та полум'я",
          "транспортні нещасні випадки",
          "туберкульоз",
          "цереброваскулярні хвороби",
          "ішемічна хвороба серця"
         ],
         "labels": [
          "  xвороба, зумовлена вірусом \n  імунодефіциту людини (ВІЛ)",
          "  випадкове отруєння, \n  спричинене отруйними \n  речовинами (крім алкоголю)",
          "  наслідки нападу з метою \n  убивства чи нанесення  \n  ушкодження",
          " Вагітність, пологи та післяпологовий період",
          " Ендокринні хвороби, розлади харчування та порушення обміну речовин",
          " Зовнішні причини смерті",
          " Окремі стани, що виникають у перинатальному періоді",
          " Природжені вади розвитку, деформації та хромосомні аномалії",
          " Розлади психіки та поведінки",
          " Хвороби сечостатевої системи",
          " злоякісні новоутворення",
          " цукровий діабет",
          "COVID-19, вірус неідентифікований",
          "COVID-19, вірус ідентифікований",
          "Симптоми, ознаки та відхилення від норми, що виявлені при клінічних і лабораторних дослідженнях, не класифіковані в інших рубриках ",
          "Хвороби кістково-м'язової системи та сполучної тканини",
          "Хвороби нервової системи",
          "Хвороби органів травлення",
          "Хвороби шкіри та підшкірної клітковини",
          "алкогольна кардіоміопатія ",
          "випадкове отруєння та дія алкоголю",
          "випадкове утоплення та занурення у воду",
          "грип і пневмонія",
          "з них розлади психіки та поведінки внаслідок вживання алкоголю",
          "навмисне самоушкодження",
          "нещасні випадки, спричинені дією диму, вогню та полум'я",
          "транспортні нещасні випадки",
          "туберкульоз",
          "цереброваскулярні хвороби",
          "ішемічна хвороба серця"
         ],
         "name": "",
         "parents": [
          "",
          "",
          "",
          "",
          "",
          "",
          "",
          "",
          "",
          "",
          "",
          "",
          "",
          "",
          "",
          "",
          "",
          "",
          "",
          "",
          "",
          "",
          "",
          "",
          "",
          "",
          "",
          "",
          "",
          ""
         ],
         "type": "treemap",
         "values": [
          2265,
          1692,
          1250,
          116,
          2259,
          28836,
          1131,
          916,
          890,
          2635,
          73715,
          2065,
          1592,
          85975,
          23063,
          361,
          4419,
          24844,
          600,
          3496,
          2433,
          1532,
          21176,
          699,
          5914,
          1222,
          3732,
          2873,
          82560,
          300406
         ]
        }
       ],
       "layout": {
        "legend": {
         "tracegroupgap": 0
        },
        "margin": {
         "t": 60
        },
        "template": {
         "data": {
          "bar": [
           {
            "error_x": {
             "color": "#2a3f5f"
            },
            "error_y": {
             "color": "#2a3f5f"
            },
            "marker": {
             "line": {
              "color": "#E5ECF6",
              "width": 0.5
             },
             "pattern": {
              "fillmode": "overlay",
              "size": 10,
              "solidity": 0.2
             }
            },
            "type": "bar"
           }
          ],
          "barpolar": [
           {
            "marker": {
             "line": {
              "color": "#E5ECF6",
              "width": 0.5
             },
             "pattern": {
              "fillmode": "overlay",
              "size": 10,
              "solidity": 0.2
             }
            },
            "type": "barpolar"
           }
          ],
          "carpet": [
           {
            "aaxis": {
             "endlinecolor": "#2a3f5f",
             "gridcolor": "white",
             "linecolor": "white",
             "minorgridcolor": "white",
             "startlinecolor": "#2a3f5f"
            },
            "baxis": {
             "endlinecolor": "#2a3f5f",
             "gridcolor": "white",
             "linecolor": "white",
             "minorgridcolor": "white",
             "startlinecolor": "#2a3f5f"
            },
            "type": "carpet"
           }
          ],
          "choropleth": [
           {
            "colorbar": {
             "outlinewidth": 0,
             "ticks": ""
            },
            "type": "choropleth"
           }
          ],
          "contour": [
           {
            "colorbar": {
             "outlinewidth": 0,
             "ticks": ""
            },
            "colorscale": [
             [
              0,
              "#0d0887"
             ],
             [
              0.1111111111111111,
              "#46039f"
             ],
             [
              0.2222222222222222,
              "#7201a8"
             ],
             [
              0.3333333333333333,
              "#9c179e"
             ],
             [
              0.4444444444444444,
              "#bd3786"
             ],
             [
              0.5555555555555556,
              "#d8576b"
             ],
             [
              0.6666666666666666,
              "#ed7953"
             ],
             [
              0.7777777777777778,
              "#fb9f3a"
             ],
             [
              0.8888888888888888,
              "#fdca26"
             ],
             [
              1,
              "#f0f921"
             ]
            ],
            "type": "contour"
           }
          ],
          "contourcarpet": [
           {
            "colorbar": {
             "outlinewidth": 0,
             "ticks": ""
            },
            "type": "contourcarpet"
           }
          ],
          "heatmap": [
           {
            "colorbar": {
             "outlinewidth": 0,
             "ticks": ""
            },
            "colorscale": [
             [
              0,
              "#0d0887"
             ],
             [
              0.1111111111111111,
              "#46039f"
             ],
             [
              0.2222222222222222,
              "#7201a8"
             ],
             [
              0.3333333333333333,
              "#9c179e"
             ],
             [
              0.4444444444444444,
              "#bd3786"
             ],
             [
              0.5555555555555556,
              "#d8576b"
             ],
             [
              0.6666666666666666,
              "#ed7953"
             ],
             [
              0.7777777777777778,
              "#fb9f3a"
             ],
             [
              0.8888888888888888,
              "#fdca26"
             ],
             [
              1,
              "#f0f921"
             ]
            ],
            "type": "heatmap"
           }
          ],
          "heatmapgl": [
           {
            "colorbar": {
             "outlinewidth": 0,
             "ticks": ""
            },
            "colorscale": [
             [
              0,
              "#0d0887"
             ],
             [
              0.1111111111111111,
              "#46039f"
             ],
             [
              0.2222222222222222,
              "#7201a8"
             ],
             [
              0.3333333333333333,
              "#9c179e"
             ],
             [
              0.4444444444444444,
              "#bd3786"
             ],
             [
              0.5555555555555556,
              "#d8576b"
             ],
             [
              0.6666666666666666,
              "#ed7953"
             ],
             [
              0.7777777777777778,
              "#fb9f3a"
             ],
             [
              0.8888888888888888,
              "#fdca26"
             ],
             [
              1,
              "#f0f921"
             ]
            ],
            "type": "heatmapgl"
           }
          ],
          "histogram": [
           {
            "marker": {
             "pattern": {
              "fillmode": "overlay",
              "size": 10,
              "solidity": 0.2
             }
            },
            "type": "histogram"
           }
          ],
          "histogram2d": [
           {
            "colorbar": {
             "outlinewidth": 0,
             "ticks": ""
            },
            "colorscale": [
             [
              0,
              "#0d0887"
             ],
             [
              0.1111111111111111,
              "#46039f"
             ],
             [
              0.2222222222222222,
              "#7201a8"
             ],
             [
              0.3333333333333333,
              "#9c179e"
             ],
             [
              0.4444444444444444,
              "#bd3786"
             ],
             [
              0.5555555555555556,
              "#d8576b"
             ],
             [
              0.6666666666666666,
              "#ed7953"
             ],
             [
              0.7777777777777778,
              "#fb9f3a"
             ],
             [
              0.8888888888888888,
              "#fdca26"
             ],
             [
              1,
              "#f0f921"
             ]
            ],
            "type": "histogram2d"
           }
          ],
          "histogram2dcontour": [
           {
            "colorbar": {
             "outlinewidth": 0,
             "ticks": ""
            },
            "colorscale": [
             [
              0,
              "#0d0887"
             ],
             [
              0.1111111111111111,
              "#46039f"
             ],
             [
              0.2222222222222222,
              "#7201a8"
             ],
             [
              0.3333333333333333,
              "#9c179e"
             ],
             [
              0.4444444444444444,
              "#bd3786"
             ],
             [
              0.5555555555555556,
              "#d8576b"
             ],
             [
              0.6666666666666666,
              "#ed7953"
             ],
             [
              0.7777777777777778,
              "#fb9f3a"
             ],
             [
              0.8888888888888888,
              "#fdca26"
             ],
             [
              1,
              "#f0f921"
             ]
            ],
            "type": "histogram2dcontour"
           }
          ],
          "mesh3d": [
           {
            "colorbar": {
             "outlinewidth": 0,
             "ticks": ""
            },
            "type": "mesh3d"
           }
          ],
          "parcoords": [
           {
            "line": {
             "colorbar": {
              "outlinewidth": 0,
              "ticks": ""
             }
            },
            "type": "parcoords"
           }
          ],
          "pie": [
           {
            "automargin": true,
            "type": "pie"
           }
          ],
          "scatter": [
           {
            "fillpattern": {
             "fillmode": "overlay",
             "size": 10,
             "solidity": 0.2
            },
            "type": "scatter"
           }
          ],
          "scatter3d": [
           {
            "line": {
             "colorbar": {
              "outlinewidth": 0,
              "ticks": ""
             }
            },
            "marker": {
             "colorbar": {
              "outlinewidth": 0,
              "ticks": ""
             }
            },
            "type": "scatter3d"
           }
          ],
          "scattercarpet": [
           {
            "marker": {
             "colorbar": {
              "outlinewidth": 0,
              "ticks": ""
             }
            },
            "type": "scattercarpet"
           }
          ],
          "scattergeo": [
           {
            "marker": {
             "colorbar": {
              "outlinewidth": 0,
              "ticks": ""
             }
            },
            "type": "scattergeo"
           }
          ],
          "scattergl": [
           {
            "marker": {
             "colorbar": {
              "outlinewidth": 0,
              "ticks": ""
             }
            },
            "type": "scattergl"
           }
          ],
          "scattermapbox": [
           {
            "marker": {
             "colorbar": {
              "outlinewidth": 0,
              "ticks": ""
             }
            },
            "type": "scattermapbox"
           }
          ],
          "scatterpolar": [
           {
            "marker": {
             "colorbar": {
              "outlinewidth": 0,
              "ticks": ""
             }
            },
            "type": "scatterpolar"
           }
          ],
          "scatterpolargl": [
           {
            "marker": {
             "colorbar": {
              "outlinewidth": 0,
              "ticks": ""
             }
            },
            "type": "scatterpolargl"
           }
          ],
          "scatterternary": [
           {
            "marker": {
             "colorbar": {
              "outlinewidth": 0,
              "ticks": ""
             }
            },
            "type": "scatterternary"
           }
          ],
          "surface": [
           {
            "colorbar": {
             "outlinewidth": 0,
             "ticks": ""
            },
            "colorscale": [
             [
              0,
              "#0d0887"
             ],
             [
              0.1111111111111111,
              "#46039f"
             ],
             [
              0.2222222222222222,
              "#7201a8"
             ],
             [
              0.3333333333333333,
              "#9c179e"
             ],
             [
              0.4444444444444444,
              "#bd3786"
             ],
             [
              0.5555555555555556,
              "#d8576b"
             ],
             [
              0.6666666666666666,
              "#ed7953"
             ],
             [
              0.7777777777777778,
              "#fb9f3a"
             ],
             [
              0.8888888888888888,
              "#fdca26"
             ],
             [
              1,
              "#f0f921"
             ]
            ],
            "type": "surface"
           }
          ],
          "table": [
           {
            "cells": {
             "fill": {
              "color": "#EBF0F8"
             },
             "line": {
              "color": "white"
             }
            },
            "header": {
             "fill": {
              "color": "#C8D4E3"
             },
             "line": {
              "color": "white"
             }
            },
            "type": "table"
           }
          ]
         },
         "layout": {
          "annotationdefaults": {
           "arrowcolor": "#2a3f5f",
           "arrowhead": 0,
           "arrowwidth": 1
          },
          "autotypenumbers": "strict",
          "coloraxis": {
           "colorbar": {
            "outlinewidth": 0,
            "ticks": ""
           }
          },
          "colorscale": {
           "diverging": [
            [
             0,
             "#8e0152"
            ],
            [
             0.1,
             "#c51b7d"
            ],
            [
             0.2,
             "#de77ae"
            ],
            [
             0.3,
             "#f1b6da"
            ],
            [
             0.4,
             "#fde0ef"
            ],
            [
             0.5,
             "#f7f7f7"
            ],
            [
             0.6,
             "#e6f5d0"
            ],
            [
             0.7,
             "#b8e186"
            ],
            [
             0.8,
             "#7fbc41"
            ],
            [
             0.9,
             "#4d9221"
            ],
            [
             1,
             "#276419"
            ]
           ],
           "sequential": [
            [
             0,
             "#0d0887"
            ],
            [
             0.1111111111111111,
             "#46039f"
            ],
            [
             0.2222222222222222,
             "#7201a8"
            ],
            [
             0.3333333333333333,
             "#9c179e"
            ],
            [
             0.4444444444444444,
             "#bd3786"
            ],
            [
             0.5555555555555556,
             "#d8576b"
            ],
            [
             0.6666666666666666,
             "#ed7953"
            ],
            [
             0.7777777777777778,
             "#fb9f3a"
            ],
            [
             0.8888888888888888,
             "#fdca26"
            ],
            [
             1,
             "#f0f921"
            ]
           ],
           "sequentialminus": [
            [
             0,
             "#0d0887"
            ],
            [
             0.1111111111111111,
             "#46039f"
            ],
            [
             0.2222222222222222,
             "#7201a8"
            ],
            [
             0.3333333333333333,
             "#9c179e"
            ],
            [
             0.4444444444444444,
             "#bd3786"
            ],
            [
             0.5555555555555556,
             "#d8576b"
            ],
            [
             0.6666666666666666,
             "#ed7953"
            ],
            [
             0.7777777777777778,
             "#fb9f3a"
            ],
            [
             0.8888888888888888,
             "#fdca26"
            ],
            [
             1,
             "#f0f921"
            ]
           ]
          },
          "colorway": [
           "#636efa",
           "#EF553B",
           "#00cc96",
           "#ab63fa",
           "#FFA15A",
           "#19d3f3",
           "#FF6692",
           "#B6E880",
           "#FF97FF",
           "#FECB52"
          ],
          "font": {
           "color": "#2a3f5f"
          },
          "geo": {
           "bgcolor": "white",
           "lakecolor": "white",
           "landcolor": "#E5ECF6",
           "showlakes": true,
           "showland": true,
           "subunitcolor": "white"
          },
          "hoverlabel": {
           "align": "left"
          },
          "hovermode": "closest",
          "mapbox": {
           "style": "light"
          },
          "paper_bgcolor": "white",
          "plot_bgcolor": "#E5ECF6",
          "polar": {
           "angularaxis": {
            "gridcolor": "white",
            "linecolor": "white",
            "ticks": ""
           },
           "bgcolor": "#E5ECF6",
           "radialaxis": {
            "gridcolor": "white",
            "linecolor": "white",
            "ticks": ""
           }
          },
          "scene": {
           "xaxis": {
            "backgroundcolor": "#E5ECF6",
            "gridcolor": "white",
            "gridwidth": 2,
            "linecolor": "white",
            "showbackground": true,
            "ticks": "",
            "zerolinecolor": "white"
           },
           "yaxis": {
            "backgroundcolor": "#E5ECF6",
            "gridcolor": "white",
            "gridwidth": 2,
            "linecolor": "white",
            "showbackground": true,
            "ticks": "",
            "zerolinecolor": "white"
           },
           "zaxis": {
            "backgroundcolor": "#E5ECF6",
            "gridcolor": "white",
            "gridwidth": 2,
            "linecolor": "white",
            "showbackground": true,
            "ticks": "",
            "zerolinecolor": "white"
           }
          },
          "shapedefaults": {
           "line": {
            "color": "#2a3f5f"
           }
          },
          "ternary": {
           "aaxis": {
            "gridcolor": "white",
            "linecolor": "white",
            "ticks": ""
           },
           "baxis": {
            "gridcolor": "white",
            "linecolor": "white",
            "ticks": ""
           },
           "bgcolor": "#E5ECF6",
           "caxis": {
            "gridcolor": "white",
            "linecolor": "white",
            "ticks": ""
           }
          },
          "title": {
           "x": 0.05
          },
          "xaxis": {
           "automargin": true,
           "gridcolor": "white",
           "linecolor": "white",
           "ticks": "",
           "title": {
            "standoff": 15
           },
           "zerolinecolor": "white",
           "zerolinewidth": 2
          },
          "yaxis": {
           "automargin": true,
           "gridcolor": "white",
           "linecolor": "white",
           "ticks": "",
           "title": {
            "standoff": 15
           },
           "zerolinecolor": "white",
           "zerolinewidth": 2
          }
         }
        },
        "title": {
         "text": "Кількість померлих за окремими причинами смерті в 2021 році"
        }
       }
      },
      "text/html": [
       "<div>                            <div id=\"126b5b29-53b2-478a-9a8d-28b9a43a4042\" class=\"plotly-graph-div\" style=\"height:525px; width:100%;\"></div>            <script type=\"text/javascript\">                require([\"plotly\"], function(Plotly) {                    window.PLOTLYENV=window.PLOTLYENV || {};                                    if (document.getElementById(\"126b5b29-53b2-478a-9a8d-28b9a43a4042\")) {                    Plotly.newPlot(                        \"126b5b29-53b2-478a-9a8d-28b9a43a4042\",                        [{\"branchvalues\":\"total\",\"domain\":{\"x\":[0.0,1.0],\"y\":[0.0,1.0]},\"hovertemplate\":\"labels=%{label}<br>\\u041e\\u0441\\u0456\\u0431=%{value}<br>parent=%{parent}<br>id=%{id}<extra></extra>\",\"ids\":[\"  x\\u0432\\u043e\\u0440\\u043e\\u0431\\u0430, \\u0437\\u0443\\u043c\\u043e\\u0432\\u043b\\u0435\\u043d\\u0430 \\u0432\\u0456\\u0440\\u0443\\u0441\\u043e\\u043c \\n  \\u0456\\u043c\\u0443\\u043d\\u043e\\u0434\\u0435\\u0444\\u0456\\u0446\\u0438\\u0442\\u0443 \\u043b\\u044e\\u0434\\u0438\\u043d\\u0438 (\\u0412\\u0406\\u041b)\",\"  \\u0432\\u0438\\u043f\\u0430\\u0434\\u043a\\u043e\\u0432\\u0435 \\u043e\\u0442\\u0440\\u0443\\u0454\\u043d\\u043d\\u044f, \\n  \\u0441\\u043f\\u0440\\u0438\\u0447\\u0438\\u043d\\u0435\\u043d\\u0435 \\u043e\\u0442\\u0440\\u0443\\u0439\\u043d\\u0438\\u043c\\u0438 \\n  \\u0440\\u0435\\u0447\\u043e\\u0432\\u0438\\u043d\\u0430\\u043c\\u0438 (\\u043a\\u0440\\u0456\\u043c \\u0430\\u043b\\u043a\\u043e\\u0433\\u043e\\u043b\\u044e)\",\"  \\u043d\\u0430\\u0441\\u043b\\u0456\\u0434\\u043a\\u0438 \\u043d\\u0430\\u043f\\u0430\\u0434\\u0443 \\u0437 \\u043c\\u0435\\u0442\\u043e\\u044e \\n  \\u0443\\u0431\\u0438\\u0432\\u0441\\u0442\\u0432\\u0430 \\u0447\\u0438 \\u043d\\u0430\\u043d\\u0435\\u0441\\u0435\\u043d\\u043d\\u044f  \\n  \\u0443\\u0448\\u043a\\u043e\\u0434\\u0436\\u0435\\u043d\\u043d\\u044f\",\" \\u0412\\u0430\\u0433\\u0456\\u0442\\u043d\\u0456\\u0441\\u0442\\u044c, \\u043f\\u043e\\u043b\\u043e\\u0433\\u0438 \\u0442\\u0430 \\u043f\\u0456\\u0441\\u043b\\u044f\\u043f\\u043e\\u043b\\u043e\\u0433\\u043e\\u0432\\u0438\\u0439 \\u043f\\u0435\\u0440\\u0456\\u043e\\u0434\",\" \\u0415\\u043d\\u0434\\u043e\\u043a\\u0440\\u0438\\u043d\\u043d\\u0456 \\u0445\\u0432\\u043e\\u0440\\u043e\\u0431\\u0438, \\u0440\\u043e\\u0437\\u043b\\u0430\\u0434\\u0438 \\u0445\\u0430\\u0440\\u0447\\u0443\\u0432\\u0430\\u043d\\u043d\\u044f \\u0442\\u0430 \\u043f\\u043e\\u0440\\u0443\\u0448\\u0435\\u043d\\u043d\\u044f \\u043e\\u0431\\u043c\\u0456\\u043d\\u0443 \\u0440\\u0435\\u0447\\u043e\\u0432\\u0438\\u043d\",\" \\u0417\\u043e\\u0432\\u043d\\u0456\\u0448\\u043d\\u0456 \\u043f\\u0440\\u0438\\u0447\\u0438\\u043d\\u0438 \\u0441\\u043c\\u0435\\u0440\\u0442\\u0456\",\" \\u041e\\u043a\\u0440\\u0435\\u043c\\u0456 \\u0441\\u0442\\u0430\\u043d\\u0438, \\u0449\\u043e \\u0432\\u0438\\u043d\\u0438\\u043a\\u0430\\u044e\\u0442\\u044c \\u0443 \\u043f\\u0435\\u0440\\u0438\\u043d\\u0430\\u0442\\u0430\\u043b\\u044c\\u043d\\u043e\\u043c\\u0443 \\u043f\\u0435\\u0440\\u0456\\u043e\\u0434\\u0456\",\" \\u041f\\u0440\\u0438\\u0440\\u043e\\u0434\\u0436\\u0435\\u043d\\u0456 \\u0432\\u0430\\u0434\\u0438 \\u0440\\u043e\\u0437\\u0432\\u0438\\u0442\\u043a\\u0443, \\u0434\\u0435\\u0444\\u043e\\u0440\\u043c\\u0430\\u0446\\u0456\\u0457 \\u0442\\u0430 \\u0445\\u0440\\u043e\\u043c\\u043e\\u0441\\u043e\\u043c\\u043d\\u0456 \\u0430\\u043d\\u043e\\u043c\\u0430\\u043b\\u0456\\u0457\",\" \\u0420\\u043e\\u0437\\u043b\\u0430\\u0434\\u0438 \\u043f\\u0441\\u0438\\u0445\\u0456\\u043a\\u0438 \\u0442\\u0430 \\u043f\\u043e\\u0432\\u0435\\u0434\\u0456\\u043d\\u043a\\u0438\",\" \\u0425\\u0432\\u043e\\u0440\\u043e\\u0431\\u0438 \\u0441\\u0435\\u0447\\u043e\\u0441\\u0442\\u0430\\u0442\\u0435\\u0432\\u043e\\u0457 \\u0441\\u0438\\u0441\\u0442\\u0435\\u043c\\u0438\",\" \\u0437\\u043b\\u043e\\u044f\\u043a\\u0456\\u0441\\u043d\\u0456 \\u043d\\u043e\\u0432\\u043e\\u0443\\u0442\\u0432\\u043e\\u0440\\u0435\\u043d\\u043d\\u044f\",\" \\u0446\\u0443\\u043a\\u0440\\u043e\\u0432\\u0438\\u0439 \\u0434\\u0456\\u0430\\u0431\\u0435\\u0442\",\"COVID-19, \\u0432\\u0456\\u0440\\u0443\\u0441 \\u043d\\u0435\\u0456\\u0434\\u0435\\u043d\\u0442\\u0438\\u0444\\u0456\\u043a\\u043e\\u0432\\u0430\\u043d\\u0438\\u0439\",\"COVID-19, \\u0432\\u0456\\u0440\\u0443\\u0441 \\u0456\\u0434\\u0435\\u043d\\u0442\\u0438\\u0444\\u0456\\u043a\\u043e\\u0432\\u0430\\u043d\\u0438\\u0439\",\"\\u0421\\u0438\\u043c\\u043f\\u0442\\u043e\\u043c\\u0438, \\u043e\\u0437\\u043d\\u0430\\u043a\\u0438 \\u0442\\u0430 \\u0432\\u0456\\u0434\\u0445\\u0438\\u043b\\u0435\\u043d\\u043d\\u044f \\u0432\\u0456\\u0434 \\u043d\\u043e\\u0440\\u043c\\u0438, \\u0449\\u043e \\u0432\\u0438\\u044f\\u0432\\u043b\\u0435\\u043d\\u0456 \\u043f\\u0440\\u0438 \\u043a\\u043b\\u0456\\u043d\\u0456\\u0447\\u043d\\u0438\\u0445 \\u0456 \\u043b\\u0430\\u0431\\u043e\\u0440\\u0430\\u0442\\u043e\\u0440\\u043d\\u0438\\u0445 \\u0434\\u043e\\u0441\\u043b\\u0456\\u0434\\u0436\\u0435\\u043d\\u043d\\u044f\\u0445, \\u043d\\u0435 \\u043a\\u043b\\u0430\\u0441\\u0438\\u0444\\u0456\\u043a\\u043e\\u0432\\u0430\\u043d\\u0456 \\u0432 \\u0456\\u043d\\u0448\\u0438\\u0445 \\u0440\\u0443\\u0431\\u0440\\u0438\\u043a\\u0430\\u0445 \",\"\\u0425\\u0432\\u043e\\u0440\\u043e\\u0431\\u0438 \\u043a\\u0456\\u0441\\u0442\\u043a\\u043e\\u0432\\u043e-\\u043c'\\u044f\\u0437\\u043e\\u0432\\u043e\\u0457 \\u0441\\u0438\\u0441\\u0442\\u0435\\u043c\\u0438 \\u0442\\u0430 \\u0441\\u043f\\u043e\\u043b\\u0443\\u0447\\u043d\\u043e\\u0457 \\u0442\\u043a\\u0430\\u043d\\u0438\\u043d\\u0438\",\"\\u0425\\u0432\\u043e\\u0440\\u043e\\u0431\\u0438 \\u043d\\u0435\\u0440\\u0432\\u043e\\u0432\\u043e\\u0457 \\u0441\\u0438\\u0441\\u0442\\u0435\\u043c\\u0438\",\"\\u0425\\u0432\\u043e\\u0440\\u043e\\u0431\\u0438 \\u043e\\u0440\\u0433\\u0430\\u043d\\u0456\\u0432 \\u0442\\u0440\\u0430\\u0432\\u043b\\u0435\\u043d\\u043d\\u044f\",\"\\u0425\\u0432\\u043e\\u0440\\u043e\\u0431\\u0438 \\u0448\\u043a\\u0456\\u0440\\u0438 \\u0442\\u0430 \\u043f\\u0456\\u0434\\u0448\\u043a\\u0456\\u0440\\u043d\\u043e\\u0457 \\u043a\\u043b\\u0456\\u0442\\u043a\\u043e\\u0432\\u0438\\u043d\\u0438\",\"\\u0430\\u043b\\u043a\\u043e\\u0433\\u043e\\u043b\\u044c\\u043d\\u0430 \\u043a\\u0430\\u0440\\u0434\\u0456\\u043e\\u043c\\u0456\\u043e\\u043f\\u0430\\u0442\\u0456\\u044f \",\"\\u0432\\u0438\\u043f\\u0430\\u0434\\u043a\\u043e\\u0432\\u0435 \\u043e\\u0442\\u0440\\u0443\\u0454\\u043d\\u043d\\u044f \\u0442\\u0430 \\u0434\\u0456\\u044f \\u0430\\u043b\\u043a\\u043e\\u0433\\u043e\\u043b\\u044e\",\"\\u0432\\u0438\\u043f\\u0430\\u0434\\u043a\\u043e\\u0432\\u0435 \\u0443\\u0442\\u043e\\u043f\\u043b\\u0435\\u043d\\u043d\\u044f \\u0442\\u0430 \\u0437\\u0430\\u043d\\u0443\\u0440\\u0435\\u043d\\u043d\\u044f \\u0443 \\u0432\\u043e\\u0434\\u0443\",\"\\u0433\\u0440\\u0438\\u043f \\u0456 \\u043f\\u043d\\u0435\\u0432\\u043c\\u043e\\u043d\\u0456\\u044f\",\"\\u0437 \\u043d\\u0438\\u0445 \\u0440\\u043e\\u0437\\u043b\\u0430\\u0434\\u0438 \\u043f\\u0441\\u0438\\u0445\\u0456\\u043a\\u0438 \\u0442\\u0430 \\u043f\\u043e\\u0432\\u0435\\u0434\\u0456\\u043d\\u043a\\u0438 \\u0432\\u043d\\u0430\\u0441\\u043b\\u0456\\u0434\\u043e\\u043a \\u0432\\u0436\\u0438\\u0432\\u0430\\u043d\\u043d\\u044f \\u0430\\u043b\\u043a\\u043e\\u0433\\u043e\\u043b\\u044e\",\"\\u043d\\u0430\\u0432\\u043c\\u0438\\u0441\\u043d\\u0435 \\u0441\\u0430\\u043c\\u043e\\u0443\\u0448\\u043a\\u043e\\u0434\\u0436\\u0435\\u043d\\u043d\\u044f\",\"\\u043d\\u0435\\u0449\\u0430\\u0441\\u043d\\u0456 \\u0432\\u0438\\u043f\\u0430\\u0434\\u043a\\u0438, \\u0441\\u043f\\u0440\\u0438\\u0447\\u0438\\u043d\\u0435\\u043d\\u0456 \\u0434\\u0456\\u0454\\u044e \\u0434\\u0438\\u043c\\u0443, \\u0432\\u043e\\u0433\\u043d\\u044e \\u0442\\u0430 \\u043f\\u043e\\u043b\\u0443\\u043c'\\u044f\",\"\\u0442\\u0440\\u0430\\u043d\\u0441\\u043f\\u043e\\u0440\\u0442\\u043d\\u0456 \\u043d\\u0435\\u0449\\u0430\\u0441\\u043d\\u0456 \\u0432\\u0438\\u043f\\u0430\\u0434\\u043a\\u0438\",\"\\u0442\\u0443\\u0431\\u0435\\u0440\\u043a\\u0443\\u043b\\u044c\\u043e\\u0437\",\"\\u0446\\u0435\\u0440\\u0435\\u0431\\u0440\\u043e\\u0432\\u0430\\u0441\\u043a\\u0443\\u043b\\u044f\\u0440\\u043d\\u0456 \\u0445\\u0432\\u043e\\u0440\\u043e\\u0431\\u0438\",\"\\u0456\\u0448\\u0435\\u043c\\u0456\\u0447\\u043d\\u0430 \\u0445\\u0432\\u043e\\u0440\\u043e\\u0431\\u0430 \\u0441\\u0435\\u0440\\u0446\\u044f\"],\"labels\":[\"  x\\u0432\\u043e\\u0440\\u043e\\u0431\\u0430, \\u0437\\u0443\\u043c\\u043e\\u0432\\u043b\\u0435\\u043d\\u0430 \\u0432\\u0456\\u0440\\u0443\\u0441\\u043e\\u043c \\n  \\u0456\\u043c\\u0443\\u043d\\u043e\\u0434\\u0435\\u0444\\u0456\\u0446\\u0438\\u0442\\u0443 \\u043b\\u044e\\u0434\\u0438\\u043d\\u0438 (\\u0412\\u0406\\u041b)\",\"  \\u0432\\u0438\\u043f\\u0430\\u0434\\u043a\\u043e\\u0432\\u0435 \\u043e\\u0442\\u0440\\u0443\\u0454\\u043d\\u043d\\u044f, \\n  \\u0441\\u043f\\u0440\\u0438\\u0447\\u0438\\u043d\\u0435\\u043d\\u0435 \\u043e\\u0442\\u0440\\u0443\\u0439\\u043d\\u0438\\u043c\\u0438 \\n  \\u0440\\u0435\\u0447\\u043e\\u0432\\u0438\\u043d\\u0430\\u043c\\u0438 (\\u043a\\u0440\\u0456\\u043c \\u0430\\u043b\\u043a\\u043e\\u0433\\u043e\\u043b\\u044e)\",\"  \\u043d\\u0430\\u0441\\u043b\\u0456\\u0434\\u043a\\u0438 \\u043d\\u0430\\u043f\\u0430\\u0434\\u0443 \\u0437 \\u043c\\u0435\\u0442\\u043e\\u044e \\n  \\u0443\\u0431\\u0438\\u0432\\u0441\\u0442\\u0432\\u0430 \\u0447\\u0438 \\u043d\\u0430\\u043d\\u0435\\u0441\\u0435\\u043d\\u043d\\u044f  \\n  \\u0443\\u0448\\u043a\\u043e\\u0434\\u0436\\u0435\\u043d\\u043d\\u044f\",\" \\u0412\\u0430\\u0433\\u0456\\u0442\\u043d\\u0456\\u0441\\u0442\\u044c, \\u043f\\u043e\\u043b\\u043e\\u0433\\u0438 \\u0442\\u0430 \\u043f\\u0456\\u0441\\u043b\\u044f\\u043f\\u043e\\u043b\\u043e\\u0433\\u043e\\u0432\\u0438\\u0439 \\u043f\\u0435\\u0440\\u0456\\u043e\\u0434\",\" \\u0415\\u043d\\u0434\\u043e\\u043a\\u0440\\u0438\\u043d\\u043d\\u0456 \\u0445\\u0432\\u043e\\u0440\\u043e\\u0431\\u0438, \\u0440\\u043e\\u0437\\u043b\\u0430\\u0434\\u0438 \\u0445\\u0430\\u0440\\u0447\\u0443\\u0432\\u0430\\u043d\\u043d\\u044f \\u0442\\u0430 \\u043f\\u043e\\u0440\\u0443\\u0448\\u0435\\u043d\\u043d\\u044f \\u043e\\u0431\\u043c\\u0456\\u043d\\u0443 \\u0440\\u0435\\u0447\\u043e\\u0432\\u0438\\u043d\",\" \\u0417\\u043e\\u0432\\u043d\\u0456\\u0448\\u043d\\u0456 \\u043f\\u0440\\u0438\\u0447\\u0438\\u043d\\u0438 \\u0441\\u043c\\u0435\\u0440\\u0442\\u0456\",\" \\u041e\\u043a\\u0440\\u0435\\u043c\\u0456 \\u0441\\u0442\\u0430\\u043d\\u0438, \\u0449\\u043e \\u0432\\u0438\\u043d\\u0438\\u043a\\u0430\\u044e\\u0442\\u044c \\u0443 \\u043f\\u0435\\u0440\\u0438\\u043d\\u0430\\u0442\\u0430\\u043b\\u044c\\u043d\\u043e\\u043c\\u0443 \\u043f\\u0435\\u0440\\u0456\\u043e\\u0434\\u0456\",\" \\u041f\\u0440\\u0438\\u0440\\u043e\\u0434\\u0436\\u0435\\u043d\\u0456 \\u0432\\u0430\\u0434\\u0438 \\u0440\\u043e\\u0437\\u0432\\u0438\\u0442\\u043a\\u0443, \\u0434\\u0435\\u0444\\u043e\\u0440\\u043c\\u0430\\u0446\\u0456\\u0457 \\u0442\\u0430 \\u0445\\u0440\\u043e\\u043c\\u043e\\u0441\\u043e\\u043c\\u043d\\u0456 \\u0430\\u043d\\u043e\\u043c\\u0430\\u043b\\u0456\\u0457\",\" \\u0420\\u043e\\u0437\\u043b\\u0430\\u0434\\u0438 \\u043f\\u0441\\u0438\\u0445\\u0456\\u043a\\u0438 \\u0442\\u0430 \\u043f\\u043e\\u0432\\u0435\\u0434\\u0456\\u043d\\u043a\\u0438\",\" \\u0425\\u0432\\u043e\\u0440\\u043e\\u0431\\u0438 \\u0441\\u0435\\u0447\\u043e\\u0441\\u0442\\u0430\\u0442\\u0435\\u0432\\u043e\\u0457 \\u0441\\u0438\\u0441\\u0442\\u0435\\u043c\\u0438\",\" \\u0437\\u043b\\u043e\\u044f\\u043a\\u0456\\u0441\\u043d\\u0456 \\u043d\\u043e\\u0432\\u043e\\u0443\\u0442\\u0432\\u043e\\u0440\\u0435\\u043d\\u043d\\u044f\",\" \\u0446\\u0443\\u043a\\u0440\\u043e\\u0432\\u0438\\u0439 \\u0434\\u0456\\u0430\\u0431\\u0435\\u0442\",\"COVID-19, \\u0432\\u0456\\u0440\\u0443\\u0441 \\u043d\\u0435\\u0456\\u0434\\u0435\\u043d\\u0442\\u0438\\u0444\\u0456\\u043a\\u043e\\u0432\\u0430\\u043d\\u0438\\u0439\",\"COVID-19, \\u0432\\u0456\\u0440\\u0443\\u0441 \\u0456\\u0434\\u0435\\u043d\\u0442\\u0438\\u0444\\u0456\\u043a\\u043e\\u0432\\u0430\\u043d\\u0438\\u0439\",\"\\u0421\\u0438\\u043c\\u043f\\u0442\\u043e\\u043c\\u0438, \\u043e\\u0437\\u043d\\u0430\\u043a\\u0438 \\u0442\\u0430 \\u0432\\u0456\\u0434\\u0445\\u0438\\u043b\\u0435\\u043d\\u043d\\u044f \\u0432\\u0456\\u0434 \\u043d\\u043e\\u0440\\u043c\\u0438, \\u0449\\u043e \\u0432\\u0438\\u044f\\u0432\\u043b\\u0435\\u043d\\u0456 \\u043f\\u0440\\u0438 \\u043a\\u043b\\u0456\\u043d\\u0456\\u0447\\u043d\\u0438\\u0445 \\u0456 \\u043b\\u0430\\u0431\\u043e\\u0440\\u0430\\u0442\\u043e\\u0440\\u043d\\u0438\\u0445 \\u0434\\u043e\\u0441\\u043b\\u0456\\u0434\\u0436\\u0435\\u043d\\u043d\\u044f\\u0445, \\u043d\\u0435 \\u043a\\u043b\\u0430\\u0441\\u0438\\u0444\\u0456\\u043a\\u043e\\u0432\\u0430\\u043d\\u0456 \\u0432 \\u0456\\u043d\\u0448\\u0438\\u0445 \\u0440\\u0443\\u0431\\u0440\\u0438\\u043a\\u0430\\u0445 \",\"\\u0425\\u0432\\u043e\\u0440\\u043e\\u0431\\u0438 \\u043a\\u0456\\u0441\\u0442\\u043a\\u043e\\u0432\\u043e-\\u043c'\\u044f\\u0437\\u043e\\u0432\\u043e\\u0457 \\u0441\\u0438\\u0441\\u0442\\u0435\\u043c\\u0438 \\u0442\\u0430 \\u0441\\u043f\\u043e\\u043b\\u0443\\u0447\\u043d\\u043e\\u0457 \\u0442\\u043a\\u0430\\u043d\\u0438\\u043d\\u0438\",\"\\u0425\\u0432\\u043e\\u0440\\u043e\\u0431\\u0438 \\u043d\\u0435\\u0440\\u0432\\u043e\\u0432\\u043e\\u0457 \\u0441\\u0438\\u0441\\u0442\\u0435\\u043c\\u0438\",\"\\u0425\\u0432\\u043e\\u0440\\u043e\\u0431\\u0438 \\u043e\\u0440\\u0433\\u0430\\u043d\\u0456\\u0432 \\u0442\\u0440\\u0430\\u0432\\u043b\\u0435\\u043d\\u043d\\u044f\",\"\\u0425\\u0432\\u043e\\u0440\\u043e\\u0431\\u0438 \\u0448\\u043a\\u0456\\u0440\\u0438 \\u0442\\u0430 \\u043f\\u0456\\u0434\\u0448\\u043a\\u0456\\u0440\\u043d\\u043e\\u0457 \\u043a\\u043b\\u0456\\u0442\\u043a\\u043e\\u0432\\u0438\\u043d\\u0438\",\"\\u0430\\u043b\\u043a\\u043e\\u0433\\u043e\\u043b\\u044c\\u043d\\u0430 \\u043a\\u0430\\u0440\\u0434\\u0456\\u043e\\u043c\\u0456\\u043e\\u043f\\u0430\\u0442\\u0456\\u044f \",\"\\u0432\\u0438\\u043f\\u0430\\u0434\\u043a\\u043e\\u0432\\u0435 \\u043e\\u0442\\u0440\\u0443\\u0454\\u043d\\u043d\\u044f \\u0442\\u0430 \\u0434\\u0456\\u044f \\u0430\\u043b\\u043a\\u043e\\u0433\\u043e\\u043b\\u044e\",\"\\u0432\\u0438\\u043f\\u0430\\u0434\\u043a\\u043e\\u0432\\u0435 \\u0443\\u0442\\u043e\\u043f\\u043b\\u0435\\u043d\\u043d\\u044f \\u0442\\u0430 \\u0437\\u0430\\u043d\\u0443\\u0440\\u0435\\u043d\\u043d\\u044f \\u0443 \\u0432\\u043e\\u0434\\u0443\",\"\\u0433\\u0440\\u0438\\u043f \\u0456 \\u043f\\u043d\\u0435\\u0432\\u043c\\u043e\\u043d\\u0456\\u044f\",\"\\u0437 \\u043d\\u0438\\u0445 \\u0440\\u043e\\u0437\\u043b\\u0430\\u0434\\u0438 \\u043f\\u0441\\u0438\\u0445\\u0456\\u043a\\u0438 \\u0442\\u0430 \\u043f\\u043e\\u0432\\u0435\\u0434\\u0456\\u043d\\u043a\\u0438 \\u0432\\u043d\\u0430\\u0441\\u043b\\u0456\\u0434\\u043e\\u043a \\u0432\\u0436\\u0438\\u0432\\u0430\\u043d\\u043d\\u044f \\u0430\\u043b\\u043a\\u043e\\u0433\\u043e\\u043b\\u044e\",\"\\u043d\\u0430\\u0432\\u043c\\u0438\\u0441\\u043d\\u0435 \\u0441\\u0430\\u043c\\u043e\\u0443\\u0448\\u043a\\u043e\\u0434\\u0436\\u0435\\u043d\\u043d\\u044f\",\"\\u043d\\u0435\\u0449\\u0430\\u0441\\u043d\\u0456 \\u0432\\u0438\\u043f\\u0430\\u0434\\u043a\\u0438, \\u0441\\u043f\\u0440\\u0438\\u0447\\u0438\\u043d\\u0435\\u043d\\u0456 \\u0434\\u0456\\u0454\\u044e \\u0434\\u0438\\u043c\\u0443, \\u0432\\u043e\\u0433\\u043d\\u044e \\u0442\\u0430 \\u043f\\u043e\\u043b\\u0443\\u043c'\\u044f\",\"\\u0442\\u0440\\u0430\\u043d\\u0441\\u043f\\u043e\\u0440\\u0442\\u043d\\u0456 \\u043d\\u0435\\u0449\\u0430\\u0441\\u043d\\u0456 \\u0432\\u0438\\u043f\\u0430\\u0434\\u043a\\u0438\",\"\\u0442\\u0443\\u0431\\u0435\\u0440\\u043a\\u0443\\u043b\\u044c\\u043e\\u0437\",\"\\u0446\\u0435\\u0440\\u0435\\u0431\\u0440\\u043e\\u0432\\u0430\\u0441\\u043a\\u0443\\u043b\\u044f\\u0440\\u043d\\u0456 \\u0445\\u0432\\u043e\\u0440\\u043e\\u0431\\u0438\",\"\\u0456\\u0448\\u0435\\u043c\\u0456\\u0447\\u043d\\u0430 \\u0445\\u0432\\u043e\\u0440\\u043e\\u0431\\u0430 \\u0441\\u0435\\u0440\\u0446\\u044f\"],\"name\":\"\",\"parents\":[\"\",\"\",\"\",\"\",\"\",\"\",\"\",\"\",\"\",\"\",\"\",\"\",\"\",\"\",\"\",\"\",\"\",\"\",\"\",\"\",\"\",\"\",\"\",\"\",\"\",\"\",\"\",\"\",\"\",\"\"],\"values\":[2265,1692,1250,116,2259,28836,1131,916,890,2635,73715,2065,1592,85975,23063,361,4419,24844,600,3496,2433,1532,21176,699,5914,1222,3732,2873,82560,300406],\"type\":\"treemap\"}],                        {\"template\":{\"data\":{\"histogram2dcontour\":[{\"type\":\"histogram2dcontour\",\"colorbar\":{\"outlinewidth\":0,\"ticks\":\"\"},\"colorscale\":[[0.0,\"#0d0887\"],[0.1111111111111111,\"#46039f\"],[0.2222222222222222,\"#7201a8\"],[0.3333333333333333,\"#9c179e\"],[0.4444444444444444,\"#bd3786\"],[0.5555555555555556,\"#d8576b\"],[0.6666666666666666,\"#ed7953\"],[0.7777777777777778,\"#fb9f3a\"],[0.8888888888888888,\"#fdca26\"],[1.0,\"#f0f921\"]]}],\"choropleth\":[{\"type\":\"choropleth\",\"colorbar\":{\"outlinewidth\":0,\"ticks\":\"\"}}],\"histogram2d\":[{\"type\":\"histogram2d\",\"colorbar\":{\"outlinewidth\":0,\"ticks\":\"\"},\"colorscale\":[[0.0,\"#0d0887\"],[0.1111111111111111,\"#46039f\"],[0.2222222222222222,\"#7201a8\"],[0.3333333333333333,\"#9c179e\"],[0.4444444444444444,\"#bd3786\"],[0.5555555555555556,\"#d8576b\"],[0.6666666666666666,\"#ed7953\"],[0.7777777777777778,\"#fb9f3a\"],[0.8888888888888888,\"#fdca26\"],[1.0,\"#f0f921\"]]}],\"heatmap\":[{\"type\":\"heatmap\",\"colorbar\":{\"outlinewidth\":0,\"ticks\":\"\"},\"colorscale\":[[0.0,\"#0d0887\"],[0.1111111111111111,\"#46039f\"],[0.2222222222222222,\"#7201a8\"],[0.3333333333333333,\"#9c179e\"],[0.4444444444444444,\"#bd3786\"],[0.5555555555555556,\"#d8576b\"],[0.6666666666666666,\"#ed7953\"],[0.7777777777777778,\"#fb9f3a\"],[0.8888888888888888,\"#fdca26\"],[1.0,\"#f0f921\"]]}],\"heatmapgl\":[{\"type\":\"heatmapgl\",\"colorbar\":{\"outlinewidth\":0,\"ticks\":\"\"},\"colorscale\":[[0.0,\"#0d0887\"],[0.1111111111111111,\"#46039f\"],[0.2222222222222222,\"#7201a8\"],[0.3333333333333333,\"#9c179e\"],[0.4444444444444444,\"#bd3786\"],[0.5555555555555556,\"#d8576b\"],[0.6666666666666666,\"#ed7953\"],[0.7777777777777778,\"#fb9f3a\"],[0.8888888888888888,\"#fdca26\"],[1.0,\"#f0f921\"]]}],\"contourcarpet\":[{\"type\":\"contourcarpet\",\"colorbar\":{\"outlinewidth\":0,\"ticks\":\"\"}}],\"contour\":[{\"type\":\"contour\",\"colorbar\":{\"outlinewidth\":0,\"ticks\":\"\"},\"colorscale\":[[0.0,\"#0d0887\"],[0.1111111111111111,\"#46039f\"],[0.2222222222222222,\"#7201a8\"],[0.3333333333333333,\"#9c179e\"],[0.4444444444444444,\"#bd3786\"],[0.5555555555555556,\"#d8576b\"],[0.6666666666666666,\"#ed7953\"],[0.7777777777777778,\"#fb9f3a\"],[0.8888888888888888,\"#fdca26\"],[1.0,\"#f0f921\"]]}],\"surface\":[{\"type\":\"surface\",\"colorbar\":{\"outlinewidth\":0,\"ticks\":\"\"},\"colorscale\":[[0.0,\"#0d0887\"],[0.1111111111111111,\"#46039f\"],[0.2222222222222222,\"#7201a8\"],[0.3333333333333333,\"#9c179e\"],[0.4444444444444444,\"#bd3786\"],[0.5555555555555556,\"#d8576b\"],[0.6666666666666666,\"#ed7953\"],[0.7777777777777778,\"#fb9f3a\"],[0.8888888888888888,\"#fdca26\"],[1.0,\"#f0f921\"]]}],\"mesh3d\":[{\"type\":\"mesh3d\",\"colorbar\":{\"outlinewidth\":0,\"ticks\":\"\"}}],\"scatter\":[{\"fillpattern\":{\"fillmode\":\"overlay\",\"size\":10,\"solidity\":0.2},\"type\":\"scatter\"}],\"parcoords\":[{\"type\":\"parcoords\",\"line\":{\"colorbar\":{\"outlinewidth\":0,\"ticks\":\"\"}}}],\"scatterpolargl\":[{\"type\":\"scatterpolargl\",\"marker\":{\"colorbar\":{\"outlinewidth\":0,\"ticks\":\"\"}}}],\"bar\":[{\"error_x\":{\"color\":\"#2a3f5f\"},\"error_y\":{\"color\":\"#2a3f5f\"},\"marker\":{\"line\":{\"color\":\"#E5ECF6\",\"width\":0.5},\"pattern\":{\"fillmode\":\"overlay\",\"size\":10,\"solidity\":0.2}},\"type\":\"bar\"}],\"scattergeo\":[{\"type\":\"scattergeo\",\"marker\":{\"colorbar\":{\"outlinewidth\":0,\"ticks\":\"\"}}}],\"scatterpolar\":[{\"type\":\"scatterpolar\",\"marker\":{\"colorbar\":{\"outlinewidth\":0,\"ticks\":\"\"}}}],\"histogram\":[{\"marker\":{\"pattern\":{\"fillmode\":\"overlay\",\"size\":10,\"solidity\":0.2}},\"type\":\"histogram\"}],\"scattergl\":[{\"type\":\"scattergl\",\"marker\":{\"colorbar\":{\"outlinewidth\":0,\"ticks\":\"\"}}}],\"scatter3d\":[{\"type\":\"scatter3d\",\"line\":{\"colorbar\":{\"outlinewidth\":0,\"ticks\":\"\"}},\"marker\":{\"colorbar\":{\"outlinewidth\":0,\"ticks\":\"\"}}}],\"scattermapbox\":[{\"type\":\"scattermapbox\",\"marker\":{\"colorbar\":{\"outlinewidth\":0,\"ticks\":\"\"}}}],\"scatterternary\":[{\"type\":\"scatterternary\",\"marker\":{\"colorbar\":{\"outlinewidth\":0,\"ticks\":\"\"}}}],\"scattercarpet\":[{\"type\":\"scattercarpet\",\"marker\":{\"colorbar\":{\"outlinewidth\":0,\"ticks\":\"\"}}}],\"carpet\":[{\"aaxis\":{\"endlinecolor\":\"#2a3f5f\",\"gridcolor\":\"white\",\"linecolor\":\"white\",\"minorgridcolor\":\"white\",\"startlinecolor\":\"#2a3f5f\"},\"baxis\":{\"endlinecolor\":\"#2a3f5f\",\"gridcolor\":\"white\",\"linecolor\":\"white\",\"minorgridcolor\":\"white\",\"startlinecolor\":\"#2a3f5f\"},\"type\":\"carpet\"}],\"table\":[{\"cells\":{\"fill\":{\"color\":\"#EBF0F8\"},\"line\":{\"color\":\"white\"}},\"header\":{\"fill\":{\"color\":\"#C8D4E3\"},\"line\":{\"color\":\"white\"}},\"type\":\"table\"}],\"barpolar\":[{\"marker\":{\"line\":{\"color\":\"#E5ECF6\",\"width\":0.5},\"pattern\":{\"fillmode\":\"overlay\",\"size\":10,\"solidity\":0.2}},\"type\":\"barpolar\"}],\"pie\":[{\"automargin\":true,\"type\":\"pie\"}]},\"layout\":{\"autotypenumbers\":\"strict\",\"colorway\":[\"#636efa\",\"#EF553B\",\"#00cc96\",\"#ab63fa\",\"#FFA15A\",\"#19d3f3\",\"#FF6692\",\"#B6E880\",\"#FF97FF\",\"#FECB52\"],\"font\":{\"color\":\"#2a3f5f\"},\"hovermode\":\"closest\",\"hoverlabel\":{\"align\":\"left\"},\"paper_bgcolor\":\"white\",\"plot_bgcolor\":\"#E5ECF6\",\"polar\":{\"bgcolor\":\"#E5ECF6\",\"angularaxis\":{\"gridcolor\":\"white\",\"linecolor\":\"white\",\"ticks\":\"\"},\"radialaxis\":{\"gridcolor\":\"white\",\"linecolor\":\"white\",\"ticks\":\"\"}},\"ternary\":{\"bgcolor\":\"#E5ECF6\",\"aaxis\":{\"gridcolor\":\"white\",\"linecolor\":\"white\",\"ticks\":\"\"},\"baxis\":{\"gridcolor\":\"white\",\"linecolor\":\"white\",\"ticks\":\"\"},\"caxis\":{\"gridcolor\":\"white\",\"linecolor\":\"white\",\"ticks\":\"\"}},\"coloraxis\":{\"colorbar\":{\"outlinewidth\":0,\"ticks\":\"\"}},\"colorscale\":{\"sequential\":[[0.0,\"#0d0887\"],[0.1111111111111111,\"#46039f\"],[0.2222222222222222,\"#7201a8\"],[0.3333333333333333,\"#9c179e\"],[0.4444444444444444,\"#bd3786\"],[0.5555555555555556,\"#d8576b\"],[0.6666666666666666,\"#ed7953\"],[0.7777777777777778,\"#fb9f3a\"],[0.8888888888888888,\"#fdca26\"],[1.0,\"#f0f921\"]],\"sequentialminus\":[[0.0,\"#0d0887\"],[0.1111111111111111,\"#46039f\"],[0.2222222222222222,\"#7201a8\"],[0.3333333333333333,\"#9c179e\"],[0.4444444444444444,\"#bd3786\"],[0.5555555555555556,\"#d8576b\"],[0.6666666666666666,\"#ed7953\"],[0.7777777777777778,\"#fb9f3a\"],[0.8888888888888888,\"#fdca26\"],[1.0,\"#f0f921\"]],\"diverging\":[[0,\"#8e0152\"],[0.1,\"#c51b7d\"],[0.2,\"#de77ae\"],[0.3,\"#f1b6da\"],[0.4,\"#fde0ef\"],[0.5,\"#f7f7f7\"],[0.6,\"#e6f5d0\"],[0.7,\"#b8e186\"],[0.8,\"#7fbc41\"],[0.9,\"#4d9221\"],[1,\"#276419\"]]},\"xaxis\":{\"gridcolor\":\"white\",\"linecolor\":\"white\",\"ticks\":\"\",\"title\":{\"standoff\":15},\"zerolinecolor\":\"white\",\"automargin\":true,\"zerolinewidth\":2},\"yaxis\":{\"gridcolor\":\"white\",\"linecolor\":\"white\",\"ticks\":\"\",\"title\":{\"standoff\":15},\"zerolinecolor\":\"white\",\"automargin\":true,\"zerolinewidth\":2},\"scene\":{\"xaxis\":{\"backgroundcolor\":\"#E5ECF6\",\"gridcolor\":\"white\",\"linecolor\":\"white\",\"showbackground\":true,\"ticks\":\"\",\"zerolinecolor\":\"white\",\"gridwidth\":2},\"yaxis\":{\"backgroundcolor\":\"#E5ECF6\",\"gridcolor\":\"white\",\"linecolor\":\"white\",\"showbackground\":true,\"ticks\":\"\",\"zerolinecolor\":\"white\",\"gridwidth\":2},\"zaxis\":{\"backgroundcolor\":\"#E5ECF6\",\"gridcolor\":\"white\",\"linecolor\":\"white\",\"showbackground\":true,\"ticks\":\"\",\"zerolinecolor\":\"white\",\"gridwidth\":2}},\"shapedefaults\":{\"line\":{\"color\":\"#2a3f5f\"}},\"annotationdefaults\":{\"arrowcolor\":\"#2a3f5f\",\"arrowhead\":0,\"arrowwidth\":1},\"geo\":{\"bgcolor\":\"white\",\"landcolor\":\"#E5ECF6\",\"subunitcolor\":\"white\",\"showland\":true,\"showlakes\":true,\"lakecolor\":\"white\"},\"title\":{\"x\":0.05},\"mapbox\":{\"style\":\"light\"}}},\"legend\":{\"tracegroupgap\":0},\"margin\":{\"t\":60},\"title\":{\"text\":\"\\u041a\\u0456\\u043b\\u044c\\u043a\\u0456\\u0441\\u0442\\u044c \\u043f\\u043e\\u043c\\u0435\\u0440\\u043b\\u0438\\u0445 \\u0437\\u0430 \\u043e\\u043a\\u0440\\u0435\\u043c\\u0438\\u043c\\u0438 \\u043f\\u0440\\u0438\\u0447\\u0438\\u043d\\u0430\\u043c\\u0438 \\u0441\\u043c\\u0435\\u0440\\u0442\\u0456 \\u0432 2021 \\u0440\\u043e\\u0446\\u0456\"}},                        {\"responsive\": true}                    ).then(function(){\n",
       "                            \n",
       "var gd = document.getElementById('126b5b29-53b2-478a-9a8d-28b9a43a4042');\n",
       "var x = new MutationObserver(function (mutations, observer) {{\n",
       "        var display = window.getComputedStyle(gd).display;\n",
       "        if (!display || display === 'none') {{\n",
       "            console.log([gd, 'removed!']);\n",
       "            Plotly.purge(gd);\n",
       "            observer.disconnect();\n",
       "        }}\n",
       "}});\n",
       "\n",
       "// Listen for the removal of the full notebook cells\n",
       "var notebookContainer = gd.closest('#notebook-container');\n",
       "if (notebookContainer) {{\n",
       "    x.observe(notebookContainer, {childList: true});\n",
       "}}\n",
       "\n",
       "// Listen for the clearing of the current output cell\n",
       "var outputEl = gd.closest('.output');\n",
       "if (outputEl) {{\n",
       "    x.observe(outputEl, {childList: true});\n",
       "}}\n",
       "\n",
       "                        })                };                });            </script>        </div>"
      ]
     },
     "metadata": {},
     "output_type": "display_data"
    }
   ],
   "source": [
    "fig = px.treemap(df, path=['Хвороба'], values='Осіб')\n",
    "fig.update_layout(title='Кількість померлих за окремими причинами смерті в 2021 році')\n",
    "fig.show()"
   ]
  },
  {
   "cell_type": "code",
   "execution_count": 44,
   "metadata": {},
   "outputs": [
    {
     "data": {
      "application/vnd.plotly.v1+json": {
       "config": {
        "plotlyServerURL": "https://plot.ly"
       },
       "data": [
        {
         "alignmentgroup": "True",
         "hovertemplate": "Рік=%{x}<br>Кількість=%{marker.color}<extra></extra>",
         "legendgroup": "",
         "marker": {
          "color": [
           594796,
           583631,
           574123,
           587665,
           581114,
           616835,
           714263,
           541739
          ],
          "coloraxis": "coloraxis",
          "pattern": {
           "shape": ""
          }
         },
         "name": "",
         "offsetgroup": "",
         "orientation": "v",
         "showlegend": false,
         "textposition": "auto",
         "type": "bar",
         "x": [
          2015,
          2016,
          2017,
          2018,
          2019,
          2020,
          2021,
          2022
         ],
         "xaxis": "x",
         "y": [
          594796,
          583631,
          574123,
          587665,
          581114,
          616835,
          714263,
          541739
         ],
         "yaxis": "y"
        }
       ],
       "layout": {
        "barmode": "relative",
        "coloraxis": {
         "colorbar": {
          "title": {
           "text": "Кількість"
          }
         },
         "colorscale": [
          [
           0,
           "#0d0887"
          ],
          [
           0.1111111111111111,
           "#46039f"
          ],
          [
           0.2222222222222222,
           "#7201a8"
          ],
          [
           0.3333333333333333,
           "#9c179e"
          ],
          [
           0.4444444444444444,
           "#bd3786"
          ],
          [
           0.5555555555555556,
           "#d8576b"
          ],
          [
           0.6666666666666666,
           "#ed7953"
          ],
          [
           0.7777777777777778,
           "#fb9f3a"
          ],
          [
           0.8888888888888888,
           "#fdca26"
          ],
          [
           1,
           "#f0f921"
          ]
         ]
        },
        "legend": {
         "tracegroupgap": 0
        },
        "margin": {
         "t": 60
        },
        "template": {
         "data": {
          "bar": [
           {
            "error_x": {
             "color": "#2a3f5f"
            },
            "error_y": {
             "color": "#2a3f5f"
            },
            "marker": {
             "line": {
              "color": "#E5ECF6",
              "width": 0.5
             },
             "pattern": {
              "fillmode": "overlay",
              "size": 10,
              "solidity": 0.2
             }
            },
            "type": "bar"
           }
          ],
          "barpolar": [
           {
            "marker": {
             "line": {
              "color": "#E5ECF6",
              "width": 0.5
             },
             "pattern": {
              "fillmode": "overlay",
              "size": 10,
              "solidity": 0.2
             }
            },
            "type": "barpolar"
           }
          ],
          "carpet": [
           {
            "aaxis": {
             "endlinecolor": "#2a3f5f",
             "gridcolor": "white",
             "linecolor": "white",
             "minorgridcolor": "white",
             "startlinecolor": "#2a3f5f"
            },
            "baxis": {
             "endlinecolor": "#2a3f5f",
             "gridcolor": "white",
             "linecolor": "white",
             "minorgridcolor": "white",
             "startlinecolor": "#2a3f5f"
            },
            "type": "carpet"
           }
          ],
          "choropleth": [
           {
            "colorbar": {
             "outlinewidth": 0,
             "ticks": ""
            },
            "type": "choropleth"
           }
          ],
          "contour": [
           {
            "colorbar": {
             "outlinewidth": 0,
             "ticks": ""
            },
            "colorscale": [
             [
              0,
              "#0d0887"
             ],
             [
              0.1111111111111111,
              "#46039f"
             ],
             [
              0.2222222222222222,
              "#7201a8"
             ],
             [
              0.3333333333333333,
              "#9c179e"
             ],
             [
              0.4444444444444444,
              "#bd3786"
             ],
             [
              0.5555555555555556,
              "#d8576b"
             ],
             [
              0.6666666666666666,
              "#ed7953"
             ],
             [
              0.7777777777777778,
              "#fb9f3a"
             ],
             [
              0.8888888888888888,
              "#fdca26"
             ],
             [
              1,
              "#f0f921"
             ]
            ],
            "type": "contour"
           }
          ],
          "contourcarpet": [
           {
            "colorbar": {
             "outlinewidth": 0,
             "ticks": ""
            },
            "type": "contourcarpet"
           }
          ],
          "heatmap": [
           {
            "colorbar": {
             "outlinewidth": 0,
             "ticks": ""
            },
            "colorscale": [
             [
              0,
              "#0d0887"
             ],
             [
              0.1111111111111111,
              "#46039f"
             ],
             [
              0.2222222222222222,
              "#7201a8"
             ],
             [
              0.3333333333333333,
              "#9c179e"
             ],
             [
              0.4444444444444444,
              "#bd3786"
             ],
             [
              0.5555555555555556,
              "#d8576b"
             ],
             [
              0.6666666666666666,
              "#ed7953"
             ],
             [
              0.7777777777777778,
              "#fb9f3a"
             ],
             [
              0.8888888888888888,
              "#fdca26"
             ],
             [
              1,
              "#f0f921"
             ]
            ],
            "type": "heatmap"
           }
          ],
          "heatmapgl": [
           {
            "colorbar": {
             "outlinewidth": 0,
             "ticks": ""
            },
            "colorscale": [
             [
              0,
              "#0d0887"
             ],
             [
              0.1111111111111111,
              "#46039f"
             ],
             [
              0.2222222222222222,
              "#7201a8"
             ],
             [
              0.3333333333333333,
              "#9c179e"
             ],
             [
              0.4444444444444444,
              "#bd3786"
             ],
             [
              0.5555555555555556,
              "#d8576b"
             ],
             [
              0.6666666666666666,
              "#ed7953"
             ],
             [
              0.7777777777777778,
              "#fb9f3a"
             ],
             [
              0.8888888888888888,
              "#fdca26"
             ],
             [
              1,
              "#f0f921"
             ]
            ],
            "type": "heatmapgl"
           }
          ],
          "histogram": [
           {
            "marker": {
             "pattern": {
              "fillmode": "overlay",
              "size": 10,
              "solidity": 0.2
             }
            },
            "type": "histogram"
           }
          ],
          "histogram2d": [
           {
            "colorbar": {
             "outlinewidth": 0,
             "ticks": ""
            },
            "colorscale": [
             [
              0,
              "#0d0887"
             ],
             [
              0.1111111111111111,
              "#46039f"
             ],
             [
              0.2222222222222222,
              "#7201a8"
             ],
             [
              0.3333333333333333,
              "#9c179e"
             ],
             [
              0.4444444444444444,
              "#bd3786"
             ],
             [
              0.5555555555555556,
              "#d8576b"
             ],
             [
              0.6666666666666666,
              "#ed7953"
             ],
             [
              0.7777777777777778,
              "#fb9f3a"
             ],
             [
              0.8888888888888888,
              "#fdca26"
             ],
             [
              1,
              "#f0f921"
             ]
            ],
            "type": "histogram2d"
           }
          ],
          "histogram2dcontour": [
           {
            "colorbar": {
             "outlinewidth": 0,
             "ticks": ""
            },
            "colorscale": [
             [
              0,
              "#0d0887"
             ],
             [
              0.1111111111111111,
              "#46039f"
             ],
             [
              0.2222222222222222,
              "#7201a8"
             ],
             [
              0.3333333333333333,
              "#9c179e"
             ],
             [
              0.4444444444444444,
              "#bd3786"
             ],
             [
              0.5555555555555556,
              "#d8576b"
             ],
             [
              0.6666666666666666,
              "#ed7953"
             ],
             [
              0.7777777777777778,
              "#fb9f3a"
             ],
             [
              0.8888888888888888,
              "#fdca26"
             ],
             [
              1,
              "#f0f921"
             ]
            ],
            "type": "histogram2dcontour"
           }
          ],
          "mesh3d": [
           {
            "colorbar": {
             "outlinewidth": 0,
             "ticks": ""
            },
            "type": "mesh3d"
           }
          ],
          "parcoords": [
           {
            "line": {
             "colorbar": {
              "outlinewidth": 0,
              "ticks": ""
             }
            },
            "type": "parcoords"
           }
          ],
          "pie": [
           {
            "automargin": true,
            "type": "pie"
           }
          ],
          "scatter": [
           {
            "fillpattern": {
             "fillmode": "overlay",
             "size": 10,
             "solidity": 0.2
            },
            "type": "scatter"
           }
          ],
          "scatter3d": [
           {
            "line": {
             "colorbar": {
              "outlinewidth": 0,
              "ticks": ""
             }
            },
            "marker": {
             "colorbar": {
              "outlinewidth": 0,
              "ticks": ""
             }
            },
            "type": "scatter3d"
           }
          ],
          "scattercarpet": [
           {
            "marker": {
             "colorbar": {
              "outlinewidth": 0,
              "ticks": ""
             }
            },
            "type": "scattercarpet"
           }
          ],
          "scattergeo": [
           {
            "marker": {
             "colorbar": {
              "outlinewidth": 0,
              "ticks": ""
             }
            },
            "type": "scattergeo"
           }
          ],
          "scattergl": [
           {
            "marker": {
             "colorbar": {
              "outlinewidth": 0,
              "ticks": ""
             }
            },
            "type": "scattergl"
           }
          ],
          "scattermapbox": [
           {
            "marker": {
             "colorbar": {
              "outlinewidth": 0,
              "ticks": ""
             }
            },
            "type": "scattermapbox"
           }
          ],
          "scatterpolar": [
           {
            "marker": {
             "colorbar": {
              "outlinewidth": 0,
              "ticks": ""
             }
            },
            "type": "scatterpolar"
           }
          ],
          "scatterpolargl": [
           {
            "marker": {
             "colorbar": {
              "outlinewidth": 0,
              "ticks": ""
             }
            },
            "type": "scatterpolargl"
           }
          ],
          "scatterternary": [
           {
            "marker": {
             "colorbar": {
              "outlinewidth": 0,
              "ticks": ""
             }
            },
            "type": "scatterternary"
           }
          ],
          "surface": [
           {
            "colorbar": {
             "outlinewidth": 0,
             "ticks": ""
            },
            "colorscale": [
             [
              0,
              "#0d0887"
             ],
             [
              0.1111111111111111,
              "#46039f"
             ],
             [
              0.2222222222222222,
              "#7201a8"
             ],
             [
              0.3333333333333333,
              "#9c179e"
             ],
             [
              0.4444444444444444,
              "#bd3786"
             ],
             [
              0.5555555555555556,
              "#d8576b"
             ],
             [
              0.6666666666666666,
              "#ed7953"
             ],
             [
              0.7777777777777778,
              "#fb9f3a"
             ],
             [
              0.8888888888888888,
              "#fdca26"
             ],
             [
              1,
              "#f0f921"
             ]
            ],
            "type": "surface"
           }
          ],
          "table": [
           {
            "cells": {
             "fill": {
              "color": "#EBF0F8"
             },
             "line": {
              "color": "white"
             }
            },
            "header": {
             "fill": {
              "color": "#C8D4E3"
             },
             "line": {
              "color": "white"
             }
            },
            "type": "table"
           }
          ]
         },
         "layout": {
          "annotationdefaults": {
           "arrowcolor": "#2a3f5f",
           "arrowhead": 0,
           "arrowwidth": 1
          },
          "autotypenumbers": "strict",
          "coloraxis": {
           "colorbar": {
            "outlinewidth": 0,
            "ticks": ""
           }
          },
          "colorscale": {
           "diverging": [
            [
             0,
             "#8e0152"
            ],
            [
             0.1,
             "#c51b7d"
            ],
            [
             0.2,
             "#de77ae"
            ],
            [
             0.3,
             "#f1b6da"
            ],
            [
             0.4,
             "#fde0ef"
            ],
            [
             0.5,
             "#f7f7f7"
            ],
            [
             0.6,
             "#e6f5d0"
            ],
            [
             0.7,
             "#b8e186"
            ],
            [
             0.8,
             "#7fbc41"
            ],
            [
             0.9,
             "#4d9221"
            ],
            [
             1,
             "#276419"
            ]
           ],
           "sequential": [
            [
             0,
             "#0d0887"
            ],
            [
             0.1111111111111111,
             "#46039f"
            ],
            [
             0.2222222222222222,
             "#7201a8"
            ],
            [
             0.3333333333333333,
             "#9c179e"
            ],
            [
             0.4444444444444444,
             "#bd3786"
            ],
            [
             0.5555555555555556,
             "#d8576b"
            ],
            [
             0.6666666666666666,
             "#ed7953"
            ],
            [
             0.7777777777777778,
             "#fb9f3a"
            ],
            [
             0.8888888888888888,
             "#fdca26"
            ],
            [
             1,
             "#f0f921"
            ]
           ],
           "sequentialminus": [
            [
             0,
             "#0d0887"
            ],
            [
             0.1111111111111111,
             "#46039f"
            ],
            [
             0.2222222222222222,
             "#7201a8"
            ],
            [
             0.3333333333333333,
             "#9c179e"
            ],
            [
             0.4444444444444444,
             "#bd3786"
            ],
            [
             0.5555555555555556,
             "#d8576b"
            ],
            [
             0.6666666666666666,
             "#ed7953"
            ],
            [
             0.7777777777777778,
             "#fb9f3a"
            ],
            [
             0.8888888888888888,
             "#fdca26"
            ],
            [
             1,
             "#f0f921"
            ]
           ]
          },
          "colorway": [
           "#636efa",
           "#EF553B",
           "#00cc96",
           "#ab63fa",
           "#FFA15A",
           "#19d3f3",
           "#FF6692",
           "#B6E880",
           "#FF97FF",
           "#FECB52"
          ],
          "font": {
           "color": "#2a3f5f"
          },
          "geo": {
           "bgcolor": "white",
           "lakecolor": "white",
           "landcolor": "#E5ECF6",
           "showlakes": true,
           "showland": true,
           "subunitcolor": "white"
          },
          "hoverlabel": {
           "align": "left"
          },
          "hovermode": "closest",
          "mapbox": {
           "style": "light"
          },
          "paper_bgcolor": "white",
          "plot_bgcolor": "#E5ECF6",
          "polar": {
           "angularaxis": {
            "gridcolor": "white",
            "linecolor": "white",
            "ticks": ""
           },
           "bgcolor": "#E5ECF6",
           "radialaxis": {
            "gridcolor": "white",
            "linecolor": "white",
            "ticks": ""
           }
          },
          "scene": {
           "xaxis": {
            "backgroundcolor": "#E5ECF6",
            "gridcolor": "white",
            "gridwidth": 2,
            "linecolor": "white",
            "showbackground": true,
            "ticks": "",
            "zerolinecolor": "white"
           },
           "yaxis": {
            "backgroundcolor": "#E5ECF6",
            "gridcolor": "white",
            "gridwidth": 2,
            "linecolor": "white",
            "showbackground": true,
            "ticks": "",
            "zerolinecolor": "white"
           },
           "zaxis": {
            "backgroundcolor": "#E5ECF6",
            "gridcolor": "white",
            "gridwidth": 2,
            "linecolor": "white",
            "showbackground": true,
            "ticks": "",
            "zerolinecolor": "white"
           }
          },
          "shapedefaults": {
           "line": {
            "color": "#2a3f5f"
           }
          },
          "ternary": {
           "aaxis": {
            "gridcolor": "white",
            "linecolor": "white",
            "ticks": ""
           },
           "baxis": {
            "gridcolor": "white",
            "linecolor": "white",
            "ticks": ""
           },
           "bgcolor": "#E5ECF6",
           "caxis": {
            "gridcolor": "white",
            "linecolor": "white",
            "ticks": ""
           }
          },
          "title": {
           "x": 0.05
          },
          "xaxis": {
           "automargin": true,
           "gridcolor": "white",
           "linecolor": "white",
           "ticks": "",
           "title": {
            "standoff": 15
           },
           "zerolinecolor": "white",
           "zerolinewidth": 2
          },
          "yaxis": {
           "automargin": true,
           "gridcolor": "white",
           "linecolor": "white",
           "ticks": "",
           "title": {
            "standoff": 15
           },
           "zerolinecolor": "white",
           "zerolinewidth": 2
          }
         }
        },
        "title": {
         "text": "Кількість смертей по роках"
        },
        "xaxis": {
         "anchor": "y",
         "domain": [
          0,
          1
         ],
         "title": {
          "text": "Рік"
         }
        },
        "yaxis": {
         "anchor": "x",
         "domain": [
          0,
          1
         ],
         "title": {
          "text": "Кількість смертей"
         }
        }
       }
      },
      "text/html": [
       "<div>                            <div id=\"535d1c63-7bfa-4685-9e6c-5577e1303434\" class=\"plotly-graph-div\" style=\"height:525px; width:100%;\"></div>            <script type=\"text/javascript\">                require([\"plotly\"], function(Plotly) {                    window.PLOTLYENV=window.PLOTLYENV || {};                                    if (document.getElementById(\"535d1c63-7bfa-4685-9e6c-5577e1303434\")) {                    Plotly.newPlot(                        \"535d1c63-7bfa-4685-9e6c-5577e1303434\",                        [{\"alignmentgroup\":\"True\",\"hovertemplate\":\"\\u0420\\u0456\\u043a=%{x}<br>\\u041a\\u0456\\u043b\\u044c\\u043a\\u0456\\u0441\\u0442\\u044c=%{marker.color}<extra></extra>\",\"legendgroup\":\"\",\"marker\":{\"color\":[594796,583631,574123,587665,581114,616835,714263,541739],\"coloraxis\":\"coloraxis\",\"pattern\":{\"shape\":\"\"}},\"name\":\"\",\"offsetgroup\":\"\",\"orientation\":\"v\",\"showlegend\":false,\"textposition\":\"auto\",\"x\":[2015,2016,2017,2018,2019,2020,2021,2022],\"xaxis\":\"x\",\"y\":[594796,583631,574123,587665,581114,616835,714263,541739],\"yaxis\":\"y\",\"type\":\"bar\"}],                        {\"template\":{\"data\":{\"histogram2dcontour\":[{\"type\":\"histogram2dcontour\",\"colorbar\":{\"outlinewidth\":0,\"ticks\":\"\"},\"colorscale\":[[0.0,\"#0d0887\"],[0.1111111111111111,\"#46039f\"],[0.2222222222222222,\"#7201a8\"],[0.3333333333333333,\"#9c179e\"],[0.4444444444444444,\"#bd3786\"],[0.5555555555555556,\"#d8576b\"],[0.6666666666666666,\"#ed7953\"],[0.7777777777777778,\"#fb9f3a\"],[0.8888888888888888,\"#fdca26\"],[1.0,\"#f0f921\"]]}],\"choropleth\":[{\"type\":\"choropleth\",\"colorbar\":{\"outlinewidth\":0,\"ticks\":\"\"}}],\"histogram2d\":[{\"type\":\"histogram2d\",\"colorbar\":{\"outlinewidth\":0,\"ticks\":\"\"},\"colorscale\":[[0.0,\"#0d0887\"],[0.1111111111111111,\"#46039f\"],[0.2222222222222222,\"#7201a8\"],[0.3333333333333333,\"#9c179e\"],[0.4444444444444444,\"#bd3786\"],[0.5555555555555556,\"#d8576b\"],[0.6666666666666666,\"#ed7953\"],[0.7777777777777778,\"#fb9f3a\"],[0.8888888888888888,\"#fdca26\"],[1.0,\"#f0f921\"]]}],\"heatmap\":[{\"type\":\"heatmap\",\"colorbar\":{\"outlinewidth\":0,\"ticks\":\"\"},\"colorscale\":[[0.0,\"#0d0887\"],[0.1111111111111111,\"#46039f\"],[0.2222222222222222,\"#7201a8\"],[0.3333333333333333,\"#9c179e\"],[0.4444444444444444,\"#bd3786\"],[0.5555555555555556,\"#d8576b\"],[0.6666666666666666,\"#ed7953\"],[0.7777777777777778,\"#fb9f3a\"],[0.8888888888888888,\"#fdca26\"],[1.0,\"#f0f921\"]]}],\"heatmapgl\":[{\"type\":\"heatmapgl\",\"colorbar\":{\"outlinewidth\":0,\"ticks\":\"\"},\"colorscale\":[[0.0,\"#0d0887\"],[0.1111111111111111,\"#46039f\"],[0.2222222222222222,\"#7201a8\"],[0.3333333333333333,\"#9c179e\"],[0.4444444444444444,\"#bd3786\"],[0.5555555555555556,\"#d8576b\"],[0.6666666666666666,\"#ed7953\"],[0.7777777777777778,\"#fb9f3a\"],[0.8888888888888888,\"#fdca26\"],[1.0,\"#f0f921\"]]}],\"contourcarpet\":[{\"type\":\"contourcarpet\",\"colorbar\":{\"outlinewidth\":0,\"ticks\":\"\"}}],\"contour\":[{\"type\":\"contour\",\"colorbar\":{\"outlinewidth\":0,\"ticks\":\"\"},\"colorscale\":[[0.0,\"#0d0887\"],[0.1111111111111111,\"#46039f\"],[0.2222222222222222,\"#7201a8\"],[0.3333333333333333,\"#9c179e\"],[0.4444444444444444,\"#bd3786\"],[0.5555555555555556,\"#d8576b\"],[0.6666666666666666,\"#ed7953\"],[0.7777777777777778,\"#fb9f3a\"],[0.8888888888888888,\"#fdca26\"],[1.0,\"#f0f921\"]]}],\"surface\":[{\"type\":\"surface\",\"colorbar\":{\"outlinewidth\":0,\"ticks\":\"\"},\"colorscale\":[[0.0,\"#0d0887\"],[0.1111111111111111,\"#46039f\"],[0.2222222222222222,\"#7201a8\"],[0.3333333333333333,\"#9c179e\"],[0.4444444444444444,\"#bd3786\"],[0.5555555555555556,\"#d8576b\"],[0.6666666666666666,\"#ed7953\"],[0.7777777777777778,\"#fb9f3a\"],[0.8888888888888888,\"#fdca26\"],[1.0,\"#f0f921\"]]}],\"mesh3d\":[{\"type\":\"mesh3d\",\"colorbar\":{\"outlinewidth\":0,\"ticks\":\"\"}}],\"scatter\":[{\"fillpattern\":{\"fillmode\":\"overlay\",\"size\":10,\"solidity\":0.2},\"type\":\"scatter\"}],\"parcoords\":[{\"type\":\"parcoords\",\"line\":{\"colorbar\":{\"outlinewidth\":0,\"ticks\":\"\"}}}],\"scatterpolargl\":[{\"type\":\"scatterpolargl\",\"marker\":{\"colorbar\":{\"outlinewidth\":0,\"ticks\":\"\"}}}],\"bar\":[{\"error_x\":{\"color\":\"#2a3f5f\"},\"error_y\":{\"color\":\"#2a3f5f\"},\"marker\":{\"line\":{\"color\":\"#E5ECF6\",\"width\":0.5},\"pattern\":{\"fillmode\":\"overlay\",\"size\":10,\"solidity\":0.2}},\"type\":\"bar\"}],\"scattergeo\":[{\"type\":\"scattergeo\",\"marker\":{\"colorbar\":{\"outlinewidth\":0,\"ticks\":\"\"}}}],\"scatterpolar\":[{\"type\":\"scatterpolar\",\"marker\":{\"colorbar\":{\"outlinewidth\":0,\"ticks\":\"\"}}}],\"histogram\":[{\"marker\":{\"pattern\":{\"fillmode\":\"overlay\",\"size\":10,\"solidity\":0.2}},\"type\":\"histogram\"}],\"scattergl\":[{\"type\":\"scattergl\",\"marker\":{\"colorbar\":{\"outlinewidth\":0,\"ticks\":\"\"}}}],\"scatter3d\":[{\"type\":\"scatter3d\",\"line\":{\"colorbar\":{\"outlinewidth\":0,\"ticks\":\"\"}},\"marker\":{\"colorbar\":{\"outlinewidth\":0,\"ticks\":\"\"}}}],\"scattermapbox\":[{\"type\":\"scattermapbox\",\"marker\":{\"colorbar\":{\"outlinewidth\":0,\"ticks\":\"\"}}}],\"scatterternary\":[{\"type\":\"scatterternary\",\"marker\":{\"colorbar\":{\"outlinewidth\":0,\"ticks\":\"\"}}}],\"scattercarpet\":[{\"type\":\"scattercarpet\",\"marker\":{\"colorbar\":{\"outlinewidth\":0,\"ticks\":\"\"}}}],\"carpet\":[{\"aaxis\":{\"endlinecolor\":\"#2a3f5f\",\"gridcolor\":\"white\",\"linecolor\":\"white\",\"minorgridcolor\":\"white\",\"startlinecolor\":\"#2a3f5f\"},\"baxis\":{\"endlinecolor\":\"#2a3f5f\",\"gridcolor\":\"white\",\"linecolor\":\"white\",\"minorgridcolor\":\"white\",\"startlinecolor\":\"#2a3f5f\"},\"type\":\"carpet\"}],\"table\":[{\"cells\":{\"fill\":{\"color\":\"#EBF0F8\"},\"line\":{\"color\":\"white\"}},\"header\":{\"fill\":{\"color\":\"#C8D4E3\"},\"line\":{\"color\":\"white\"}},\"type\":\"table\"}],\"barpolar\":[{\"marker\":{\"line\":{\"color\":\"#E5ECF6\",\"width\":0.5},\"pattern\":{\"fillmode\":\"overlay\",\"size\":10,\"solidity\":0.2}},\"type\":\"barpolar\"}],\"pie\":[{\"automargin\":true,\"type\":\"pie\"}]},\"layout\":{\"autotypenumbers\":\"strict\",\"colorway\":[\"#636efa\",\"#EF553B\",\"#00cc96\",\"#ab63fa\",\"#FFA15A\",\"#19d3f3\",\"#FF6692\",\"#B6E880\",\"#FF97FF\",\"#FECB52\"],\"font\":{\"color\":\"#2a3f5f\"},\"hovermode\":\"closest\",\"hoverlabel\":{\"align\":\"left\"},\"paper_bgcolor\":\"white\",\"plot_bgcolor\":\"#E5ECF6\",\"polar\":{\"bgcolor\":\"#E5ECF6\",\"angularaxis\":{\"gridcolor\":\"white\",\"linecolor\":\"white\",\"ticks\":\"\"},\"radialaxis\":{\"gridcolor\":\"white\",\"linecolor\":\"white\",\"ticks\":\"\"}},\"ternary\":{\"bgcolor\":\"#E5ECF6\",\"aaxis\":{\"gridcolor\":\"white\",\"linecolor\":\"white\",\"ticks\":\"\"},\"baxis\":{\"gridcolor\":\"white\",\"linecolor\":\"white\",\"ticks\":\"\"},\"caxis\":{\"gridcolor\":\"white\",\"linecolor\":\"white\",\"ticks\":\"\"}},\"coloraxis\":{\"colorbar\":{\"outlinewidth\":0,\"ticks\":\"\"}},\"colorscale\":{\"sequential\":[[0.0,\"#0d0887\"],[0.1111111111111111,\"#46039f\"],[0.2222222222222222,\"#7201a8\"],[0.3333333333333333,\"#9c179e\"],[0.4444444444444444,\"#bd3786\"],[0.5555555555555556,\"#d8576b\"],[0.6666666666666666,\"#ed7953\"],[0.7777777777777778,\"#fb9f3a\"],[0.8888888888888888,\"#fdca26\"],[1.0,\"#f0f921\"]],\"sequentialminus\":[[0.0,\"#0d0887\"],[0.1111111111111111,\"#46039f\"],[0.2222222222222222,\"#7201a8\"],[0.3333333333333333,\"#9c179e\"],[0.4444444444444444,\"#bd3786\"],[0.5555555555555556,\"#d8576b\"],[0.6666666666666666,\"#ed7953\"],[0.7777777777777778,\"#fb9f3a\"],[0.8888888888888888,\"#fdca26\"],[1.0,\"#f0f921\"]],\"diverging\":[[0,\"#8e0152\"],[0.1,\"#c51b7d\"],[0.2,\"#de77ae\"],[0.3,\"#f1b6da\"],[0.4,\"#fde0ef\"],[0.5,\"#f7f7f7\"],[0.6,\"#e6f5d0\"],[0.7,\"#b8e186\"],[0.8,\"#7fbc41\"],[0.9,\"#4d9221\"],[1,\"#276419\"]]},\"xaxis\":{\"gridcolor\":\"white\",\"linecolor\":\"white\",\"ticks\":\"\",\"title\":{\"standoff\":15},\"zerolinecolor\":\"white\",\"automargin\":true,\"zerolinewidth\":2},\"yaxis\":{\"gridcolor\":\"white\",\"linecolor\":\"white\",\"ticks\":\"\",\"title\":{\"standoff\":15},\"zerolinecolor\":\"white\",\"automargin\":true,\"zerolinewidth\":2},\"scene\":{\"xaxis\":{\"backgroundcolor\":\"#E5ECF6\",\"gridcolor\":\"white\",\"linecolor\":\"white\",\"showbackground\":true,\"ticks\":\"\",\"zerolinecolor\":\"white\",\"gridwidth\":2},\"yaxis\":{\"backgroundcolor\":\"#E5ECF6\",\"gridcolor\":\"white\",\"linecolor\":\"white\",\"showbackground\":true,\"ticks\":\"\",\"zerolinecolor\":\"white\",\"gridwidth\":2},\"zaxis\":{\"backgroundcolor\":\"#E5ECF6\",\"gridcolor\":\"white\",\"linecolor\":\"white\",\"showbackground\":true,\"ticks\":\"\",\"zerolinecolor\":\"white\",\"gridwidth\":2}},\"shapedefaults\":{\"line\":{\"color\":\"#2a3f5f\"}},\"annotationdefaults\":{\"arrowcolor\":\"#2a3f5f\",\"arrowhead\":0,\"arrowwidth\":1},\"geo\":{\"bgcolor\":\"white\",\"landcolor\":\"#E5ECF6\",\"subunitcolor\":\"white\",\"showland\":true,\"showlakes\":true,\"lakecolor\":\"white\"},\"title\":{\"x\":0.05},\"mapbox\":{\"style\":\"light\"}}},\"xaxis\":{\"anchor\":\"y\",\"domain\":[0.0,1.0],\"title\":{\"text\":\"\\u0420\\u0456\\u043a\"}},\"yaxis\":{\"anchor\":\"x\",\"domain\":[0.0,1.0],\"title\":{\"text\":\"\\u041a\\u0456\\u043b\\u044c\\u043a\\u0456\\u0441\\u0442\\u044c \\u0441\\u043c\\u0435\\u0440\\u0442\\u0435\\u0439\"}},\"coloraxis\":{\"colorbar\":{\"title\":{\"text\":\"\\u041a\\u0456\\u043b\\u044c\\u043a\\u0456\\u0441\\u0442\\u044c\"}},\"colorscale\":[[0.0,\"#0d0887\"],[0.1111111111111111,\"#46039f\"],[0.2222222222222222,\"#7201a8\"],[0.3333333333333333,\"#9c179e\"],[0.4444444444444444,\"#bd3786\"],[0.5555555555555556,\"#d8576b\"],[0.6666666666666666,\"#ed7953\"],[0.7777777777777778,\"#fb9f3a\"],[0.8888888888888888,\"#fdca26\"],[1.0,\"#f0f921\"]]},\"legend\":{\"tracegroupgap\":0},\"margin\":{\"t\":60},\"barmode\":\"relative\",\"title\":{\"text\":\"\\u041a\\u0456\\u043b\\u044c\\u043a\\u0456\\u0441\\u0442\\u044c \\u0441\\u043c\\u0435\\u0440\\u0442\\u0435\\u0439 \\u043f\\u043e \\u0440\\u043e\\u043a\\u0430\\u0445\"}},                        {\"responsive\": true}                    ).then(function(){\n",
       "                            \n",
       "var gd = document.getElementById('535d1c63-7bfa-4685-9e6c-5577e1303434');\n",
       "var x = new MutationObserver(function (mutations, observer) {{\n",
       "        var display = window.getComputedStyle(gd).display;\n",
       "        if (!display || display === 'none') {{\n",
       "            console.log([gd, 'removed!']);\n",
       "            Plotly.purge(gd);\n",
       "            observer.disconnect();\n",
       "        }}\n",
       "}});\n",
       "\n",
       "// Listen for the removal of the full notebook cells\n",
       "var notebookContainer = gd.closest('#notebook-container');\n",
       "if (notebookContainer) {{\n",
       "    x.observe(notebookContainer, {childList: true});\n",
       "}}\n",
       "\n",
       "// Listen for the clearing of the current output cell\n",
       "var outputEl = gd.closest('.output');\n",
       "if (outputEl) {{\n",
       "    x.observe(outputEl, {childList: true});\n",
       "}}\n",
       "\n",
       "                        })                };                });            </script>        </div>"
      ]
     },
     "metadata": {},
     "output_type": "display_data"
    }
   ],
   "source": [
    "fig = px.bar(df_dead, x='Рік', y='Кількість', color='Кількість')\n",
    "fig.update_layout(title='Кількість смертей по роках',\n",
    "                  xaxis_title='Рік', yaxis_title='Кількість смертей')\n",
    "fig.show() "
   ]
  }
 ],
 "metadata": {
  "kernelspec": {
   "display_name": "Python 3",
   "language": "python",
   "name": "python3"
  },
  "language_info": {
   "codemirror_mode": {
    "name": "ipython",
    "version": 3
   },
   "file_extension": ".py",
   "mimetype": "text/x-python",
   "name": "python",
   "nbconvert_exporter": "python",
   "pygments_lexer": "ipython3",
   "version": "3.9.16"
  },
  "orig_nbformat": 4
 },
 "nbformat": 4,
 "nbformat_minor": 2
}
