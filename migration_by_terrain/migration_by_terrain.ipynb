{
 "cells": [
  {
   "attachments": {},
   "cell_type": "markdown",
   "metadata": {},
   "source": [
    "# Міграційний рух населення за типом місцевості по регіонах.\n"
   ]
  },
  {
   "cell_type": "code",
   "execution_count": 1,
   "metadata": {},
   "outputs": [],
   "source": [
    "import pandas as pd\n",
    "import plotly.express as px"
   ]
  },
  {
   "attachments": {},
   "cell_type": "markdown",
   "metadata": {},
   "source": [
    "З даних по роках 2019 - 2020 ми розглядали поокремо 2 категорії – сільська та міська місцевості. З кожної категорії окремо від загального руху населення, виділялась також міждержавна міграція. Дані з держстату були обʼєднані в одну таблицю для зручності роботи"
   ]
  },
  {
   "attachments": {},
   "cell_type": "markdown",
   "metadata": {},
   "source": [
    "## Міське населення"
   ]
  },
  {
   "cell_type": "code",
   "execution_count": 3,
   "metadata": {},
   "outputs": [
    {
     "data": {
      "text/html": [
       "<div>\n",
       "<style scoped>\n",
       "    .dataframe tbody tr th:only-of-type {\n",
       "        vertical-align: middle;\n",
       "    }\n",
       "\n",
       "    .dataframe tbody tr th {\n",
       "        vertical-align: top;\n",
       "    }\n",
       "\n",
       "    .dataframe thead th {\n",
       "        text-align: right;\n",
       "    }\n",
       "</style>\n",
       "<table border=\"1\" class=\"dataframe\">\n",
       "  <thead>\n",
       "    <tr style=\"text-align: right;\">\n",
       "      <th></th>\n",
       "      <th>регіон</th>\n",
       "      <th>кількість прибулих</th>\n",
       "      <th>кількість вибулих</th>\n",
       "      <th>міграційний приріст, скорочення (-)</th>\n",
       "      <th>тип потоку</th>\n",
       "      <th>рік</th>\n",
       "    </tr>\n",
       "  </thead>\n",
       "  <tbody>\n",
       "    <tr>\n",
       "      <th>0</th>\n",
       "      <td>Вінницька область</td>\n",
       "      <td>13421</td>\n",
       "      <td>12598</td>\n",
       "      <td>823</td>\n",
       "      <td>усі</td>\n",
       "      <td>2019</td>\n",
       "    </tr>\n",
       "    <tr>\n",
       "      <th>1</th>\n",
       "      <td>Волинська область</td>\n",
       "      <td>8295</td>\n",
       "      <td>8612</td>\n",
       "      <td>-317</td>\n",
       "      <td>усі</td>\n",
       "      <td>2019</td>\n",
       "    </tr>\n",
       "    <tr>\n",
       "      <th>2</th>\n",
       "      <td>Дніпропетровська область</td>\n",
       "      <td>29208</td>\n",
       "      <td>27886</td>\n",
       "      <td>1322</td>\n",
       "      <td>усі</td>\n",
       "      <td>2019</td>\n",
       "    </tr>\n",
       "    <tr>\n",
       "      <th>3</th>\n",
       "      <td>Донецька область</td>\n",
       "      <td>14596</td>\n",
       "      <td>20871</td>\n",
       "      <td>-6275</td>\n",
       "      <td>усі</td>\n",
       "      <td>2019</td>\n",
       "    </tr>\n",
       "    <tr>\n",
       "      <th>4</th>\n",
       "      <td>Житомирська область</td>\n",
       "      <td>12433</td>\n",
       "      <td>12742</td>\n",
       "      <td>-309</td>\n",
       "      <td>усі</td>\n",
       "      <td>2019</td>\n",
       "    </tr>\n",
       "    <tr>\n",
       "      <th>...</th>\n",
       "      <td>...</td>\n",
       "      <td>...</td>\n",
       "      <td>...</td>\n",
       "      <td>...</td>\n",
       "      <td>...</td>\n",
       "      <td>...</td>\n",
       "    </tr>\n",
       "    <tr>\n",
       "      <th>145</th>\n",
       "      <td>Хмельницька область</td>\n",
       "      <td>484</td>\n",
       "      <td>143</td>\n",
       "      <td>341</td>\n",
       "      <td>міждержавні</td>\n",
       "      <td>2021</td>\n",
       "    </tr>\n",
       "    <tr>\n",
       "      <th>146</th>\n",
       "      <td>Черкаська область</td>\n",
       "      <td>398</td>\n",
       "      <td>230</td>\n",
       "      <td>168</td>\n",
       "      <td>міждержавні</td>\n",
       "      <td>2021</td>\n",
       "    </tr>\n",
       "    <tr>\n",
       "      <th>147</th>\n",
       "      <td>Чернівецька область</td>\n",
       "      <td>900</td>\n",
       "      <td>352</td>\n",
       "      <td>548</td>\n",
       "      <td>міждержавні</td>\n",
       "      <td>2021</td>\n",
       "    </tr>\n",
       "    <tr>\n",
       "      <th>148</th>\n",
       "      <td>Чернігівська область</td>\n",
       "      <td>24</td>\n",
       "      <td>74</td>\n",
       "      <td>-50</td>\n",
       "      <td>міждержавні</td>\n",
       "      <td>2021</td>\n",
       "    </tr>\n",
       "    <tr>\n",
       "      <th>149</th>\n",
       "      <td>м.Київ</td>\n",
       "      <td>13147</td>\n",
       "      <td>7007</td>\n",
       "      <td>6140</td>\n",
       "      <td>міждержавні</td>\n",
       "      <td>2021</td>\n",
       "    </tr>\n",
       "  </tbody>\n",
       "</table>\n",
       "<p>150 rows × 6 columns</p>\n",
       "</div>"
      ],
      "text/plain": [
       "                       регіон  кількість прибулих  кількість вибулих  \\\n",
       "0           Вінницька область               13421              12598   \n",
       "1           Волинська область                8295               8612   \n",
       "2    Дніпропетровська область               29208              27886   \n",
       "3            Донецька область               14596              20871   \n",
       "4         Житомирська область               12433              12742   \n",
       "..                        ...                 ...                ...   \n",
       "145       Хмельницька область                 484                143   \n",
       "146         Черкаська область                 398                230   \n",
       "147       Чернівецька область                 900                352   \n",
       "148      Чернігівська область                  24                 74   \n",
       "149                    м.Київ               13147               7007   \n",
       "\n",
       "     міграційний приріст, скорочення (-)   тип потоку   рік  \n",
       "0                                    823          усі  2019  \n",
       "1                                   -317          усі  2019  \n",
       "2                                   1322          усі  2019  \n",
       "3                                  -6275          усі  2019  \n",
       "4                                   -309          усі  2019  \n",
       "..                                   ...          ...   ...  \n",
       "145                                  341  міждержавні  2021  \n",
       "146                                  168  міждержавні  2021  \n",
       "147                                  548  міждержавні  2021  \n",
       "148                                  -50  міждержавні  2021  \n",
       "149                                 6140  міждержавні  2021  \n",
       "\n",
       "[150 rows x 6 columns]"
      ]
     },
     "execution_count": 3,
     "metadata": {},
     "output_type": "execute_result"
    }
   ],
   "source": [
    "df_city = pd.read_excel('migration_terrain_2019.xlsx', sheet_name='Sheet1')\n",
    "df_city"
   ]
  },
  {
   "cell_type": "code",
   "execution_count": 4,
   "metadata": {},
   "outputs": [
    {
     "data": {
      "text/html": [
       "<div>\n",
       "<style scoped>\n",
       "    .dataframe tbody tr th:only-of-type {\n",
       "        vertical-align: middle;\n",
       "    }\n",
       "\n",
       "    .dataframe tbody tr th {\n",
       "        vertical-align: top;\n",
       "    }\n",
       "\n",
       "    .dataframe thead th {\n",
       "        text-align: right;\n",
       "    }\n",
       "</style>\n",
       "<table border=\"1\" class=\"dataframe\">\n",
       "  <thead>\n",
       "    <tr style=\"text-align: right;\">\n",
       "      <th></th>\n",
       "      <th>регіон</th>\n",
       "      <th>кількість прибулих</th>\n",
       "      <th>кількість вибулих</th>\n",
       "      <th>міграційний приріст, скорочення (-)</th>\n",
       "      <th>тип потоку</th>\n",
       "      <th>рік</th>\n",
       "    </tr>\n",
       "  </thead>\n",
       "  <tbody>\n",
       "    <tr>\n",
       "      <th>0</th>\n",
       "      <td>Вінницька область</td>\n",
       "      <td>13421</td>\n",
       "      <td>12598</td>\n",
       "      <td>823</td>\n",
       "      <td>усі</td>\n",
       "      <td>2019</td>\n",
       "    </tr>\n",
       "    <tr>\n",
       "      <th>1</th>\n",
       "      <td>Волинська область</td>\n",
       "      <td>8295</td>\n",
       "      <td>8612</td>\n",
       "      <td>-317</td>\n",
       "      <td>усі</td>\n",
       "      <td>2019</td>\n",
       "    </tr>\n",
       "    <tr>\n",
       "      <th>2</th>\n",
       "      <td>Дніпропетровська область</td>\n",
       "      <td>29208</td>\n",
       "      <td>27886</td>\n",
       "      <td>1322</td>\n",
       "      <td>усі</td>\n",
       "      <td>2019</td>\n",
       "    </tr>\n",
       "    <tr>\n",
       "      <th>3</th>\n",
       "      <td>Донецька область</td>\n",
       "      <td>14596</td>\n",
       "      <td>20871</td>\n",
       "      <td>-6275</td>\n",
       "      <td>усі</td>\n",
       "      <td>2019</td>\n",
       "    </tr>\n",
       "    <tr>\n",
       "      <th>4</th>\n",
       "      <td>Житомирська область</td>\n",
       "      <td>12433</td>\n",
       "      <td>12742</td>\n",
       "      <td>-309</td>\n",
       "      <td>усі</td>\n",
       "      <td>2019</td>\n",
       "    </tr>\n",
       "    <tr>\n",
       "      <th>...</th>\n",
       "      <td>...</td>\n",
       "      <td>...</td>\n",
       "      <td>...</td>\n",
       "      <td>...</td>\n",
       "      <td>...</td>\n",
       "      <td>...</td>\n",
       "    </tr>\n",
       "    <tr>\n",
       "      <th>120</th>\n",
       "      <td>Хмельницька область</td>\n",
       "      <td>10897</td>\n",
       "      <td>9753</td>\n",
       "      <td>1144</td>\n",
       "      <td>усі</td>\n",
       "      <td>2021</td>\n",
       "    </tr>\n",
       "    <tr>\n",
       "      <th>121</th>\n",
       "      <td>Черкаська область</td>\n",
       "      <td>8920</td>\n",
       "      <td>9006</td>\n",
       "      <td>-86</td>\n",
       "      <td>усі</td>\n",
       "      <td>2021</td>\n",
       "    </tr>\n",
       "    <tr>\n",
       "      <th>122</th>\n",
       "      <td>Чернівецька область</td>\n",
       "      <td>4722</td>\n",
       "      <td>4250</td>\n",
       "      <td>472</td>\n",
       "      <td>усі</td>\n",
       "      <td>2021</td>\n",
       "    </tr>\n",
       "    <tr>\n",
       "      <th>123</th>\n",
       "      <td>Чернігівська область</td>\n",
       "      <td>7027</td>\n",
       "      <td>7686</td>\n",
       "      <td>-659</td>\n",
       "      <td>усі</td>\n",
       "      <td>2021</td>\n",
       "    </tr>\n",
       "    <tr>\n",
       "      <th>124</th>\n",
       "      <td>м.Київ</td>\n",
       "      <td>49148</td>\n",
       "      <td>43415</td>\n",
       "      <td>5733</td>\n",
       "      <td>усі</td>\n",
       "      <td>2021</td>\n",
       "    </tr>\n",
       "  </tbody>\n",
       "</table>\n",
       "<p>75 rows × 6 columns</p>\n",
       "</div>"
      ],
      "text/plain": [
       "                       регіон  кількість прибулих  кількість вибулих  \\\n",
       "0           Вінницька область               13421              12598   \n",
       "1           Волинська область                8295               8612   \n",
       "2    Дніпропетровська область               29208              27886   \n",
       "3            Донецька область               14596              20871   \n",
       "4         Житомирська область               12433              12742   \n",
       "..                        ...                 ...                ...   \n",
       "120       Хмельницька область               10897               9753   \n",
       "121         Черкаська область                8920               9006   \n",
       "122       Чернівецька область                4722               4250   \n",
       "123      Чернігівська область                7027               7686   \n",
       "124                    м.Київ               49148              43415   \n",
       "\n",
       "     міграційний приріст, скорочення (-) тип потоку   рік  \n",
       "0                                    823        усі  2019  \n",
       "1                                   -317        усі  2019  \n",
       "2                                   1322        усі  2019  \n",
       "3                                  -6275        усі  2019  \n",
       "4                                   -309        усі  2019  \n",
       "..                                   ...        ...   ...  \n",
       "120                                 1144        усі  2021  \n",
       "121                                  -86        усі  2021  \n",
       "122                                  472        усі  2021  \n",
       "123                                 -659        усі  2021  \n",
       "124                                 5733        усі  2021  \n",
       "\n",
       "[75 rows x 6 columns]"
      ]
     },
     "execution_count": 4,
     "metadata": {},
     "output_type": "execute_result"
    }
   ],
   "source": [
    "all_migration,  crosscountry_migration = df_city[df_city['тип потоку'].str.contains('усі')], df_city[df_city['тип потоку'].str.contains('міждержавні')]\n",
    "all_migration"
   ]
  },
  {
   "attachments": {},
   "cell_type": "markdown",
   "metadata": {},
   "source": [
    "Анімований графік, що відображає співвідношенняя між кількість вибулих та прибулих в міста кожної області. Інформація про внутрішню та зовнішню міграцію. Щоб переглянути дані за різні роки потрінр перетягнути повзунок."
   ]
  },
  {
   "cell_type": "code",
   "execution_count": 5,
   "metadata": {},
   "outputs": [
    {
     "data": {
      "application/vnd.plotly.v1+json": {
       "config": {
        "plotlyServerURL": "https://plot.ly"
       },
       "data": [
        {
         "hovertemplate": "<b>%{hovertext}</b><br><br>регіон=Вінницька область<br>рік=2019<br>кількість прибулих=%{x}<br>кількість вибулих=%{y}<extra></extra>",
         "hovertext": [
          "Вінницька область"
         ],
         "ids": [
          "Вінницька область"
         ],
         "legendgroup": "Вінницька область",
         "marker": {
          "color": "#636efa",
          "symbol": "circle"
         },
         "mode": "markers",
         "name": "Вінницька область",
         "orientation": "v",
         "showlegend": true,
         "type": "scatter",
         "x": [
          13421
         ],
         "xaxis": "x",
         "y": [
          12598
         ],
         "yaxis": "y"
        },
        {
         "hovertemplate": "<b>%{hovertext}</b><br><br>регіон=Волинська область<br>рік=2019<br>кількість прибулих=%{x}<br>кількість вибулих=%{y}<extra></extra>",
         "hovertext": [
          "Волинська область"
         ],
         "ids": [
          "Волинська область"
         ],
         "legendgroup": "Волинська область",
         "marker": {
          "color": "#EF553B",
          "symbol": "circle"
         },
         "mode": "markers",
         "name": "Волинська область",
         "orientation": "v",
         "showlegend": true,
         "type": "scatter",
         "x": [
          8295
         ],
         "xaxis": "x",
         "y": [
          8612
         ],
         "yaxis": "y"
        },
        {
         "hovertemplate": "<b>%{hovertext}</b><br><br>регіон=Дніпропетровська область<br>рік=2019<br>кількість прибулих=%{x}<br>кількість вибулих=%{y}<extra></extra>",
         "hovertext": [
          "Дніпропетровська область"
         ],
         "ids": [
          "Дніпропетровська область"
         ],
         "legendgroup": "Дніпропетровська область",
         "marker": {
          "color": "#00cc96",
          "symbol": "circle"
         },
         "mode": "markers",
         "name": "Дніпропетровська область",
         "orientation": "v",
         "showlegend": true,
         "type": "scatter",
         "x": [
          29208
         ],
         "xaxis": "x",
         "y": [
          27886
         ],
         "yaxis": "y"
        },
        {
         "hovertemplate": "<b>%{hovertext}</b><br><br>регіон=Донецька область<br>рік=2019<br>кількість прибулих=%{x}<br>кількість вибулих=%{y}<extra></extra>",
         "hovertext": [
          "Донецька область"
         ],
         "ids": [
          "Донецька область"
         ],
         "legendgroup": "Донецька область",
         "marker": {
          "color": "#ab63fa",
          "symbol": "circle"
         },
         "mode": "markers",
         "name": "Донецька область",
         "orientation": "v",
         "showlegend": true,
         "type": "scatter",
         "x": [
          14596
         ],
         "xaxis": "x",
         "y": [
          20871
         ],
         "yaxis": "y"
        },
        {
         "hovertemplate": "<b>%{hovertext}</b><br><br>регіон=Житомирська область<br>рік=2019<br>кількість прибулих=%{x}<br>кількість вибулих=%{y}<extra></extra>",
         "hovertext": [
          "Житомирська область"
         ],
         "ids": [
          "Житомирська область"
         ],
         "legendgroup": "Житомирська область",
         "marker": {
          "color": "#FFA15A",
          "symbol": "circle"
         },
         "mode": "markers",
         "name": "Житомирська область",
         "orientation": "v",
         "showlegend": true,
         "type": "scatter",
         "x": [
          12433
         ],
         "xaxis": "x",
         "y": [
          12742
         ],
         "yaxis": "y"
        },
        {
         "hovertemplate": "<b>%{hovertext}</b><br><br>регіон=Закарпатська область<br>рік=2019<br>кількість прибулих=%{x}<br>кількість вибулих=%{y}<extra></extra>",
         "hovertext": [
          "Закарпатська область"
         ],
         "ids": [
          "Закарпатська область"
         ],
         "legendgroup": "Закарпатська область",
         "marker": {
          "color": "#19d3f3",
          "symbol": "circle"
         },
         "mode": "markers",
         "name": "Закарпатська область",
         "orientation": "v",
         "showlegend": true,
         "type": "scatter",
         "x": [
          4824
         ],
         "xaxis": "x",
         "y": [
          3984
         ],
         "yaxis": "y"
        },
        {
         "hovertemplate": "<b>%{hovertext}</b><br><br>регіон=Запорізька область<br>рік=2019<br>кількість прибулих=%{x}<br>кількість вибулих=%{y}<extra></extra>",
         "hovertext": [
          "Запорізька область"
         ],
         "ids": [
          "Запорізька область"
         ],
         "legendgroup": "Запорізька область",
         "marker": {
          "color": "#FF6692",
          "symbol": "circle"
         },
         "mode": "markers",
         "name": "Запорізька область",
         "orientation": "v",
         "showlegend": true,
         "type": "scatter",
         "x": [
          12265
         ],
         "xaxis": "x",
         "y": [
          13261
         ],
         "yaxis": "y"
        },
        {
         "hovertemplate": "<b>%{hovertext}</b><br><br>регіон=Івано-Франківська область<br>рік=2019<br>кількість прибулих=%{x}<br>кількість вибулих=%{y}<extra></extra>",
         "hovertext": [
          "Івано-Франківська область"
         ],
         "ids": [
          "Івано-Франківська область"
         ],
         "legendgroup": "Івано-Франківська область",
         "marker": {
          "color": "#B6E880",
          "symbol": "circle"
         },
         "mode": "markers",
         "name": "Івано-Франківська область",
         "orientation": "v",
         "showlegend": true,
         "type": "scatter",
         "x": [
          10002
         ],
         "xaxis": "x",
         "y": [
          8924
         ],
         "yaxis": "y"
        },
        {
         "hovertemplate": "<b>%{hovertext}</b><br><br>регіон=Київська область<br>рік=2019<br>кількість прибулих=%{x}<br>кількість вибулих=%{y}<extra></extra>",
         "hovertext": [
          "Київська область"
         ],
         "ids": [
          "Київська область"
         ],
         "legendgroup": "Київська область",
         "marker": {
          "color": "#FF97FF",
          "symbol": "circle"
         },
         "mode": "markers",
         "name": "Київська область",
         "orientation": "v",
         "showlegend": true,
         "type": "scatter",
         "x": [
          32721
         ],
         "xaxis": "x",
         "y": [
          18486
         ],
         "yaxis": "y"
        },
        {
         "hovertemplate": "<b>%{hovertext}</b><br><br>регіон=Кіровоградська область<br>рік=2019<br>кількість прибулих=%{x}<br>кількість вибулих=%{y}<extra></extra>",
         "hovertext": [
          "Кіровоградська область"
         ],
         "ids": [
          "Кіровоградська область"
         ],
         "legendgroup": "Кіровоградська область",
         "marker": {
          "color": "#FECB52",
          "symbol": "circle"
         },
         "mode": "markers",
         "name": "Кіровоградська область",
         "orientation": "v",
         "showlegend": true,
         "type": "scatter",
         "x": [
          9090
         ],
         "xaxis": "x",
         "y": [
          9770
         ],
         "yaxis": "y"
        },
        {
         "hovertemplate": "<b>%{hovertext}</b><br><br>регіон=Луганська область<br>рік=2019<br>кількість прибулих=%{x}<br>кількість вибулих=%{y}<extra></extra>",
         "hovertext": [
          "Луганська область"
         ],
         "ids": [
          "Луганська область"
         ],
         "legendgroup": "Луганська область",
         "marker": {
          "color": "#636efa",
          "symbol": "circle"
         },
         "mode": "markers",
         "name": "Луганська область",
         "orientation": "v",
         "showlegend": true,
         "type": "scatter",
         "x": [
          5604
         ],
         "xaxis": "x",
         "y": [
          9516
         ],
         "yaxis": "y"
        },
        {
         "hovertemplate": "<b>%{hovertext}</b><br><br>регіон=Львівська область<br>рік=2019<br>кількість прибулих=%{x}<br>кількість вибулих=%{y}<extra></extra>",
         "hovertext": [
          "Львівська область"
         ],
         "ids": [
          "Львівська область"
         ],
         "legendgroup": "Львівська область",
         "marker": {
          "color": "#EF553B",
          "symbol": "circle"
         },
         "mode": "markers",
         "name": "Львівська область",
         "orientation": "v",
         "showlegend": true,
         "type": "scatter",
         "x": [
          23900
         ],
         "xaxis": "x",
         "y": [
          22318
         ],
         "yaxis": "y"
        },
        {
         "hovertemplate": "<b>%{hovertext}</b><br><br>регіон=Миколаївська область<br>рік=2019<br>кількість прибулих=%{x}<br>кількість вибулих=%{y}<extra></extra>",
         "hovertext": [
          "Миколаївська область"
         ],
         "ids": [
          "Миколаївська область"
         ],
         "legendgroup": "Миколаївська область",
         "marker": {
          "color": "#00cc96",
          "symbol": "circle"
         },
         "mode": "markers",
         "name": "Миколаївська область",
         "orientation": "v",
         "showlegend": true,
         "type": "scatter",
         "x": [
          8884
         ],
         "xaxis": "x",
         "y": [
          8853
         ],
         "yaxis": "y"
        },
        {
         "hovertemplate": "<b>%{hovertext}</b><br><br>регіон=Одеська область<br>рік=2019<br>кількість прибулих=%{x}<br>кількість вибулих=%{y}<extra></extra>",
         "hovertext": [
          "Одеська область"
         ],
         "ids": [
          "Одеська область"
         ],
         "legendgroup": "Одеська область",
         "marker": {
          "color": "#ab63fa",
          "symbol": "circle"
         },
         "mode": "markers",
         "name": "Одеська область",
         "orientation": "v",
         "showlegend": true,
         "type": "scatter",
         "x": [
          28482
         ],
         "xaxis": "x",
         "y": [
          18921
         ],
         "yaxis": "y"
        },
        {
         "hovertemplate": "<b>%{hovertext}</b><br><br>регіон=Полтавська область<br>рік=2019<br>кількість прибулих=%{x}<br>кількість вибулих=%{y}<extra></extra>",
         "hovertext": [
          "Полтавська область"
         ],
         "ids": [
          "Полтавська область"
         ],
         "legendgroup": "Полтавська область",
         "marker": {
          "color": "#FFA15A",
          "symbol": "circle"
         },
         "mode": "markers",
         "name": "Полтавська область",
         "orientation": "v",
         "showlegend": true,
         "type": "scatter",
         "x": [
          15911
         ],
         "xaxis": "x",
         "y": [
          14824
         ],
         "yaxis": "y"
        },
        {
         "hovertemplate": "<b>%{hovertext}</b><br><br>регіон=Рівненська область<br>рік=2019<br>кількість прибулих=%{x}<br>кількість вибулих=%{y}<extra></extra>",
         "hovertext": [
          "Рівненська область"
         ],
         "ids": [
          "Рівненська область"
         ],
         "legendgroup": "Рівненська область",
         "marker": {
          "color": "#19d3f3",
          "symbol": "circle"
         },
         "mode": "markers",
         "name": "Рівненська область",
         "orientation": "v",
         "showlegend": true,
         "type": "scatter",
         "x": [
          11100
         ],
         "xaxis": "x",
         "y": [
          11927
         ],
         "yaxis": "y"
        },
        {
         "hovertemplate": "<b>%{hovertext}</b><br><br>регіон=Сумська область<br>рік=2019<br>кількість прибулих=%{x}<br>кількість вибулих=%{y}<extra></extra>",
         "hovertext": [
          "Сумська область"
         ],
         "ids": [
          "Сумська область"
         ],
         "legendgroup": "Сумська область",
         "marker": {
          "color": "#FF6692",
          "symbol": "circle"
         },
         "mode": "markers",
         "name": "Сумська область",
         "orientation": "v",
         "showlegend": true,
         "type": "scatter",
         "x": [
          11983
         ],
         "xaxis": "x",
         "y": [
          12261
         ],
         "yaxis": "y"
        },
        {
         "hovertemplate": "<b>%{hovertext}</b><br><br>регіон=Тернопільська область<br>рік=2019<br>кількість прибулих=%{x}<br>кількість вибулих=%{y}<extra></extra>",
         "hovertext": [
          "Тернопільська область"
         ],
         "ids": [
          "Тернопільська область"
         ],
         "legendgroup": "Тернопільська область",
         "marker": {
          "color": "#B6E880",
          "symbol": "circle"
         },
         "mode": "markers",
         "name": "Тернопільська область",
         "orientation": "v",
         "showlegend": true,
         "type": "scatter",
         "x": [
          9974
         ],
         "xaxis": "x",
         "y": [
          8583
         ],
         "yaxis": "y"
        },
        {
         "hovertemplate": "<b>%{hovertext}</b><br><br>регіон=Харківська область<br>рік=2019<br>кількість прибулих=%{x}<br>кількість вибулих=%{y}<extra></extra>",
         "hovertext": [
          "Харківська область"
         ],
         "ids": [
          "Харківська область"
         ],
         "legendgroup": "Харківська область",
         "marker": {
          "color": "#FF97FF",
          "symbol": "circle"
         },
         "mode": "markers",
         "name": "Харківська область",
         "orientation": "v",
         "showlegend": true,
         "type": "scatter",
         "x": [
          40178
         ],
         "xaxis": "x",
         "y": [
          33341
         ],
         "yaxis": "y"
        },
        {
         "hovertemplate": "<b>%{hovertext}</b><br><br>регіон=Херсонська область<br>рік=2019<br>кількість прибулих=%{x}<br>кількість вибулих=%{y}<extra></extra>",
         "hovertext": [
          "Херсонська область"
         ],
         "ids": [
          "Херсонська область"
         ],
         "legendgroup": "Херсонська область",
         "marker": {
          "color": "#FECB52",
          "symbol": "circle"
         },
         "mode": "markers",
         "name": "Херсонська область",
         "orientation": "v",
         "showlegend": true,
         "type": "scatter",
         "x": [
          7867
         ],
         "xaxis": "x",
         "y": [
          8163
         ],
         "yaxis": "y"
        },
        {
         "hovertemplate": "<b>%{hovertext}</b><br><br>регіон=Хмельницька область<br>рік=2019<br>кількість прибулих=%{x}<br>кількість вибулих=%{y}<extra></extra>",
         "hovertext": [
          "Хмельницька область"
         ],
         "ids": [
          "Хмельницька область"
         ],
         "legendgroup": "Хмельницька область",
         "marker": {
          "color": "#636efa",
          "symbol": "circle"
         },
         "mode": "markers",
         "name": "Хмельницька область",
         "orientation": "v",
         "showlegend": true,
         "type": "scatter",
         "x": [
          13736
         ],
         "xaxis": "x",
         "y": [
          12794
         ],
         "yaxis": "y"
        },
        {
         "hovertemplate": "<b>%{hovertext}</b><br><br>регіон=Черкаська область<br>рік=2019<br>кількість прибулих=%{x}<br>кількість вибулих=%{y}<extra></extra>",
         "hovertext": [
          "Черкаська область"
         ],
         "ids": [
          "Черкаська область"
         ],
         "legendgroup": "Черкаська область",
         "marker": {
          "color": "#EF553B",
          "symbol": "circle"
         },
         "mode": "markers",
         "name": "Черкаська область",
         "orientation": "v",
         "showlegend": true,
         "type": "scatter",
         "x": [
          10883
         ],
         "xaxis": "x",
         "y": [
          11137
         ],
         "yaxis": "y"
        },
        {
         "hovertemplate": "<b>%{hovertext}</b><br><br>регіон=Чернівецька область<br>рік=2019<br>кількість прибулих=%{x}<br>кількість вибулих=%{y}<extra></extra>",
         "hovertext": [
          "Чернівецька область"
         ],
         "ids": [
          "Чернівецька область"
         ],
         "legendgroup": "Чернівецька область",
         "marker": {
          "color": "#00cc96",
          "symbol": "circle"
         },
         "mode": "markers",
         "name": "Чернівецька область",
         "orientation": "v",
         "showlegend": true,
         "type": "scatter",
         "x": [
          6017
         ],
         "xaxis": "x",
         "y": [
          5189
         ],
         "yaxis": "y"
        },
        {
         "hovertemplate": "<b>%{hovertext}</b><br><br>регіон=Чернігівська область<br>рік=2019<br>кількість прибулих=%{x}<br>кількість вибулих=%{y}<extra></extra>",
         "hovertext": [
          "Чернігівська область"
         ],
         "ids": [
          "Чернігівська область"
         ],
         "legendgroup": "Чернігівська область",
         "marker": {
          "color": "#ab63fa",
          "symbol": "circle"
         },
         "mode": "markers",
         "name": "Чернігівська область",
         "orientation": "v",
         "showlegend": true,
         "type": "scatter",
         "x": [
          8316
         ],
         "xaxis": "x",
         "y": [
          9231
         ],
         "yaxis": "y"
        },
        {
         "hovertemplate": "<b>%{hovertext}</b><br><br>регіон=м.Київ<br>рік=2019<br>кількість прибулих=%{x}<br>кількість вибулих=%{y}<extra></extra>",
         "hovertext": [
          "м.Київ"
         ],
         "ids": [
          "м.Київ"
         ],
         "legendgroup": "м.Київ",
         "marker": {
          "color": "#FFA15A",
          "symbol": "circle"
         },
         "mode": "markers",
         "name": "м.Київ",
         "orientation": "v",
         "showlegend": true,
         "type": "scatter",
         "x": [
          60340
         ],
         "xaxis": "x",
         "y": [
          43165
         ],
         "yaxis": "y"
        }
       ],
       "frames": [
        {
         "data": [
          {
           "hovertemplate": "<b>%{hovertext}</b><br><br>регіон=Вінницька область<br>рік=2019<br>кількість прибулих=%{x}<br>кількість вибулих=%{y}<extra></extra>",
           "hovertext": [
            "Вінницька область"
           ],
           "ids": [
            "Вінницька область"
           ],
           "legendgroup": "Вінницька область",
           "marker": {
            "color": "#636efa",
            "symbol": "circle"
           },
           "mode": "markers",
           "name": "Вінницька область",
           "orientation": "v",
           "showlegend": true,
           "type": "scatter",
           "x": [
            13421
           ],
           "xaxis": "x",
           "y": [
            12598
           ],
           "yaxis": "y"
          },
          {
           "hovertemplate": "<b>%{hovertext}</b><br><br>регіон=Волинська область<br>рік=2019<br>кількість прибулих=%{x}<br>кількість вибулих=%{y}<extra></extra>",
           "hovertext": [
            "Волинська область"
           ],
           "ids": [
            "Волинська область"
           ],
           "legendgroup": "Волинська область",
           "marker": {
            "color": "#EF553B",
            "symbol": "circle"
           },
           "mode": "markers",
           "name": "Волинська область",
           "orientation": "v",
           "showlegend": true,
           "type": "scatter",
           "x": [
            8295
           ],
           "xaxis": "x",
           "y": [
            8612
           ],
           "yaxis": "y"
          },
          {
           "hovertemplate": "<b>%{hovertext}</b><br><br>регіон=Дніпропетровська область<br>рік=2019<br>кількість прибулих=%{x}<br>кількість вибулих=%{y}<extra></extra>",
           "hovertext": [
            "Дніпропетровська область"
           ],
           "ids": [
            "Дніпропетровська область"
           ],
           "legendgroup": "Дніпропетровська область",
           "marker": {
            "color": "#00cc96",
            "symbol": "circle"
           },
           "mode": "markers",
           "name": "Дніпропетровська область",
           "orientation": "v",
           "showlegend": true,
           "type": "scatter",
           "x": [
            29208
           ],
           "xaxis": "x",
           "y": [
            27886
           ],
           "yaxis": "y"
          },
          {
           "hovertemplate": "<b>%{hovertext}</b><br><br>регіон=Донецька область<br>рік=2019<br>кількість прибулих=%{x}<br>кількість вибулих=%{y}<extra></extra>",
           "hovertext": [
            "Донецька область"
           ],
           "ids": [
            "Донецька область"
           ],
           "legendgroup": "Донецька область",
           "marker": {
            "color": "#ab63fa",
            "symbol": "circle"
           },
           "mode": "markers",
           "name": "Донецька область",
           "orientation": "v",
           "showlegend": true,
           "type": "scatter",
           "x": [
            14596
           ],
           "xaxis": "x",
           "y": [
            20871
           ],
           "yaxis": "y"
          },
          {
           "hovertemplate": "<b>%{hovertext}</b><br><br>регіон=Житомирська область<br>рік=2019<br>кількість прибулих=%{x}<br>кількість вибулих=%{y}<extra></extra>",
           "hovertext": [
            "Житомирська область"
           ],
           "ids": [
            "Житомирська область"
           ],
           "legendgroup": "Житомирська область",
           "marker": {
            "color": "#FFA15A",
            "symbol": "circle"
           },
           "mode": "markers",
           "name": "Житомирська область",
           "orientation": "v",
           "showlegend": true,
           "type": "scatter",
           "x": [
            12433
           ],
           "xaxis": "x",
           "y": [
            12742
           ],
           "yaxis": "y"
          },
          {
           "hovertemplate": "<b>%{hovertext}</b><br><br>регіон=Закарпатська область<br>рік=2019<br>кількість прибулих=%{x}<br>кількість вибулих=%{y}<extra></extra>",
           "hovertext": [
            "Закарпатська область"
           ],
           "ids": [
            "Закарпатська область"
           ],
           "legendgroup": "Закарпатська область",
           "marker": {
            "color": "#19d3f3",
            "symbol": "circle"
           },
           "mode": "markers",
           "name": "Закарпатська область",
           "orientation": "v",
           "showlegend": true,
           "type": "scatter",
           "x": [
            4824
           ],
           "xaxis": "x",
           "y": [
            3984
           ],
           "yaxis": "y"
          },
          {
           "hovertemplate": "<b>%{hovertext}</b><br><br>регіон=Запорізька область<br>рік=2019<br>кількість прибулих=%{x}<br>кількість вибулих=%{y}<extra></extra>",
           "hovertext": [
            "Запорізька область"
           ],
           "ids": [
            "Запорізька область"
           ],
           "legendgroup": "Запорізька область",
           "marker": {
            "color": "#FF6692",
            "symbol": "circle"
           },
           "mode": "markers",
           "name": "Запорізька область",
           "orientation": "v",
           "showlegend": true,
           "type": "scatter",
           "x": [
            12265
           ],
           "xaxis": "x",
           "y": [
            13261
           ],
           "yaxis": "y"
          },
          {
           "hovertemplate": "<b>%{hovertext}</b><br><br>регіон=Івано-Франківська область<br>рік=2019<br>кількість прибулих=%{x}<br>кількість вибулих=%{y}<extra></extra>",
           "hovertext": [
            "Івано-Франківська область"
           ],
           "ids": [
            "Івано-Франківська область"
           ],
           "legendgroup": "Івано-Франківська область",
           "marker": {
            "color": "#B6E880",
            "symbol": "circle"
           },
           "mode": "markers",
           "name": "Івано-Франківська область",
           "orientation": "v",
           "showlegend": true,
           "type": "scatter",
           "x": [
            10002
           ],
           "xaxis": "x",
           "y": [
            8924
           ],
           "yaxis": "y"
          },
          {
           "hovertemplate": "<b>%{hovertext}</b><br><br>регіон=Київська область<br>рік=2019<br>кількість прибулих=%{x}<br>кількість вибулих=%{y}<extra></extra>",
           "hovertext": [
            "Київська область"
           ],
           "ids": [
            "Київська область"
           ],
           "legendgroup": "Київська область",
           "marker": {
            "color": "#FF97FF",
            "symbol": "circle"
           },
           "mode": "markers",
           "name": "Київська область",
           "orientation": "v",
           "showlegend": true,
           "type": "scatter",
           "x": [
            32721
           ],
           "xaxis": "x",
           "y": [
            18486
           ],
           "yaxis": "y"
          },
          {
           "hovertemplate": "<b>%{hovertext}</b><br><br>регіон=Кіровоградська область<br>рік=2019<br>кількість прибулих=%{x}<br>кількість вибулих=%{y}<extra></extra>",
           "hovertext": [
            "Кіровоградська область"
           ],
           "ids": [
            "Кіровоградська область"
           ],
           "legendgroup": "Кіровоградська область",
           "marker": {
            "color": "#FECB52",
            "symbol": "circle"
           },
           "mode": "markers",
           "name": "Кіровоградська область",
           "orientation": "v",
           "showlegend": true,
           "type": "scatter",
           "x": [
            9090
           ],
           "xaxis": "x",
           "y": [
            9770
           ],
           "yaxis": "y"
          },
          {
           "hovertemplate": "<b>%{hovertext}</b><br><br>регіон=Луганська область<br>рік=2019<br>кількість прибулих=%{x}<br>кількість вибулих=%{y}<extra></extra>",
           "hovertext": [
            "Луганська область"
           ],
           "ids": [
            "Луганська область"
           ],
           "legendgroup": "Луганська область",
           "marker": {
            "color": "#636efa",
            "symbol": "circle"
           },
           "mode": "markers",
           "name": "Луганська область",
           "orientation": "v",
           "showlegend": true,
           "type": "scatter",
           "x": [
            5604
           ],
           "xaxis": "x",
           "y": [
            9516
           ],
           "yaxis": "y"
          },
          {
           "hovertemplate": "<b>%{hovertext}</b><br><br>регіон=Львівська область<br>рік=2019<br>кількість прибулих=%{x}<br>кількість вибулих=%{y}<extra></extra>",
           "hovertext": [
            "Львівська область"
           ],
           "ids": [
            "Львівська область"
           ],
           "legendgroup": "Львівська область",
           "marker": {
            "color": "#EF553B",
            "symbol": "circle"
           },
           "mode": "markers",
           "name": "Львівська область",
           "orientation": "v",
           "showlegend": true,
           "type": "scatter",
           "x": [
            23900
           ],
           "xaxis": "x",
           "y": [
            22318
           ],
           "yaxis": "y"
          },
          {
           "hovertemplate": "<b>%{hovertext}</b><br><br>регіон=Миколаївська область<br>рік=2019<br>кількість прибулих=%{x}<br>кількість вибулих=%{y}<extra></extra>",
           "hovertext": [
            "Миколаївська область"
           ],
           "ids": [
            "Миколаївська область"
           ],
           "legendgroup": "Миколаївська область",
           "marker": {
            "color": "#00cc96",
            "symbol": "circle"
           },
           "mode": "markers",
           "name": "Миколаївська область",
           "orientation": "v",
           "showlegend": true,
           "type": "scatter",
           "x": [
            8884
           ],
           "xaxis": "x",
           "y": [
            8853
           ],
           "yaxis": "y"
          },
          {
           "hovertemplate": "<b>%{hovertext}</b><br><br>регіон=Одеська область<br>рік=2019<br>кількість прибулих=%{x}<br>кількість вибулих=%{y}<extra></extra>",
           "hovertext": [
            "Одеська область"
           ],
           "ids": [
            "Одеська область"
           ],
           "legendgroup": "Одеська область",
           "marker": {
            "color": "#ab63fa",
            "symbol": "circle"
           },
           "mode": "markers",
           "name": "Одеська область",
           "orientation": "v",
           "showlegend": true,
           "type": "scatter",
           "x": [
            28482
           ],
           "xaxis": "x",
           "y": [
            18921
           ],
           "yaxis": "y"
          },
          {
           "hovertemplate": "<b>%{hovertext}</b><br><br>регіон=Полтавська область<br>рік=2019<br>кількість прибулих=%{x}<br>кількість вибулих=%{y}<extra></extra>",
           "hovertext": [
            "Полтавська область"
           ],
           "ids": [
            "Полтавська область"
           ],
           "legendgroup": "Полтавська область",
           "marker": {
            "color": "#FFA15A",
            "symbol": "circle"
           },
           "mode": "markers",
           "name": "Полтавська область",
           "orientation": "v",
           "showlegend": true,
           "type": "scatter",
           "x": [
            15911
           ],
           "xaxis": "x",
           "y": [
            14824
           ],
           "yaxis": "y"
          },
          {
           "hovertemplate": "<b>%{hovertext}</b><br><br>регіон=Рівненська область<br>рік=2019<br>кількість прибулих=%{x}<br>кількість вибулих=%{y}<extra></extra>",
           "hovertext": [
            "Рівненська область"
           ],
           "ids": [
            "Рівненська область"
           ],
           "legendgroup": "Рівненська область",
           "marker": {
            "color": "#19d3f3",
            "symbol": "circle"
           },
           "mode": "markers",
           "name": "Рівненська область",
           "orientation": "v",
           "showlegend": true,
           "type": "scatter",
           "x": [
            11100
           ],
           "xaxis": "x",
           "y": [
            11927
           ],
           "yaxis": "y"
          },
          {
           "hovertemplate": "<b>%{hovertext}</b><br><br>регіон=Сумська область<br>рік=2019<br>кількість прибулих=%{x}<br>кількість вибулих=%{y}<extra></extra>",
           "hovertext": [
            "Сумська область"
           ],
           "ids": [
            "Сумська область"
           ],
           "legendgroup": "Сумська область",
           "marker": {
            "color": "#FF6692",
            "symbol": "circle"
           },
           "mode": "markers",
           "name": "Сумська область",
           "orientation": "v",
           "showlegend": true,
           "type": "scatter",
           "x": [
            11983
           ],
           "xaxis": "x",
           "y": [
            12261
           ],
           "yaxis": "y"
          },
          {
           "hovertemplate": "<b>%{hovertext}</b><br><br>регіон=Тернопільська область<br>рік=2019<br>кількість прибулих=%{x}<br>кількість вибулих=%{y}<extra></extra>",
           "hovertext": [
            "Тернопільська область"
           ],
           "ids": [
            "Тернопільська область"
           ],
           "legendgroup": "Тернопільська область",
           "marker": {
            "color": "#B6E880",
            "symbol": "circle"
           },
           "mode": "markers",
           "name": "Тернопільська область",
           "orientation": "v",
           "showlegend": true,
           "type": "scatter",
           "x": [
            9974
           ],
           "xaxis": "x",
           "y": [
            8583
           ],
           "yaxis": "y"
          },
          {
           "hovertemplate": "<b>%{hovertext}</b><br><br>регіон=Харківська область<br>рік=2019<br>кількість прибулих=%{x}<br>кількість вибулих=%{y}<extra></extra>",
           "hovertext": [
            "Харківська область"
           ],
           "ids": [
            "Харківська область"
           ],
           "legendgroup": "Харківська область",
           "marker": {
            "color": "#FF97FF",
            "symbol": "circle"
           },
           "mode": "markers",
           "name": "Харківська область",
           "orientation": "v",
           "showlegend": true,
           "type": "scatter",
           "x": [
            40178
           ],
           "xaxis": "x",
           "y": [
            33341
           ],
           "yaxis": "y"
          },
          {
           "hovertemplate": "<b>%{hovertext}</b><br><br>регіон=Херсонська область<br>рік=2019<br>кількість прибулих=%{x}<br>кількість вибулих=%{y}<extra></extra>",
           "hovertext": [
            "Херсонська область"
           ],
           "ids": [
            "Херсонська область"
           ],
           "legendgroup": "Херсонська область",
           "marker": {
            "color": "#FECB52",
            "symbol": "circle"
           },
           "mode": "markers",
           "name": "Херсонська область",
           "orientation": "v",
           "showlegend": true,
           "type": "scatter",
           "x": [
            7867
           ],
           "xaxis": "x",
           "y": [
            8163
           ],
           "yaxis": "y"
          },
          {
           "hovertemplate": "<b>%{hovertext}</b><br><br>регіон=Хмельницька область<br>рік=2019<br>кількість прибулих=%{x}<br>кількість вибулих=%{y}<extra></extra>",
           "hovertext": [
            "Хмельницька область"
           ],
           "ids": [
            "Хмельницька область"
           ],
           "legendgroup": "Хмельницька область",
           "marker": {
            "color": "#636efa",
            "symbol": "circle"
           },
           "mode": "markers",
           "name": "Хмельницька область",
           "orientation": "v",
           "showlegend": true,
           "type": "scatter",
           "x": [
            13736
           ],
           "xaxis": "x",
           "y": [
            12794
           ],
           "yaxis": "y"
          },
          {
           "hovertemplate": "<b>%{hovertext}</b><br><br>регіон=Черкаська область<br>рік=2019<br>кількість прибулих=%{x}<br>кількість вибулих=%{y}<extra></extra>",
           "hovertext": [
            "Черкаська область"
           ],
           "ids": [
            "Черкаська область"
           ],
           "legendgroup": "Черкаська область",
           "marker": {
            "color": "#EF553B",
            "symbol": "circle"
           },
           "mode": "markers",
           "name": "Черкаська область",
           "orientation": "v",
           "showlegend": true,
           "type": "scatter",
           "x": [
            10883
           ],
           "xaxis": "x",
           "y": [
            11137
           ],
           "yaxis": "y"
          },
          {
           "hovertemplate": "<b>%{hovertext}</b><br><br>регіон=Чернівецька область<br>рік=2019<br>кількість прибулих=%{x}<br>кількість вибулих=%{y}<extra></extra>",
           "hovertext": [
            "Чернівецька область"
           ],
           "ids": [
            "Чернівецька область"
           ],
           "legendgroup": "Чернівецька область",
           "marker": {
            "color": "#00cc96",
            "symbol": "circle"
           },
           "mode": "markers",
           "name": "Чернівецька область",
           "orientation": "v",
           "showlegend": true,
           "type": "scatter",
           "x": [
            6017
           ],
           "xaxis": "x",
           "y": [
            5189
           ],
           "yaxis": "y"
          },
          {
           "hovertemplate": "<b>%{hovertext}</b><br><br>регіон=Чернігівська область<br>рік=2019<br>кількість прибулих=%{x}<br>кількість вибулих=%{y}<extra></extra>",
           "hovertext": [
            "Чернігівська область"
           ],
           "ids": [
            "Чернігівська область"
           ],
           "legendgroup": "Чернігівська область",
           "marker": {
            "color": "#ab63fa",
            "symbol": "circle"
           },
           "mode": "markers",
           "name": "Чернігівська область",
           "orientation": "v",
           "showlegend": true,
           "type": "scatter",
           "x": [
            8316
           ],
           "xaxis": "x",
           "y": [
            9231
           ],
           "yaxis": "y"
          },
          {
           "hovertemplate": "<b>%{hovertext}</b><br><br>регіон=м.Київ<br>рік=2019<br>кількість прибулих=%{x}<br>кількість вибулих=%{y}<extra></extra>",
           "hovertext": [
            "м.Київ"
           ],
           "ids": [
            "м.Київ"
           ],
           "legendgroup": "м.Київ",
           "marker": {
            "color": "#FFA15A",
            "symbol": "circle"
           },
           "mode": "markers",
           "name": "м.Київ",
           "orientation": "v",
           "showlegend": true,
           "type": "scatter",
           "x": [
            60340
           ],
           "xaxis": "x",
           "y": [
            43165
           ],
           "yaxis": "y"
          }
         ],
         "name": "2019"
        },
        {
         "data": [
          {
           "hovertemplate": "<b>%{hovertext}</b><br><br>регіон=Вінницька область<br>рік=2020<br>кількість прибулих=%{x}<br>кількість вибулих=%{y}<extra></extra>",
           "hovertext": [
            "Вінницька область"
           ],
           "ids": [
            "Вінницька область"
           ],
           "legendgroup": "Вінницька область",
           "marker": {
            "color": "#636efa",
            "symbol": "circle"
           },
           "mode": "markers",
           "name": "Вінницька область",
           "orientation": "v",
           "showlegend": true,
           "type": "scatter",
           "x": [
            9642
           ],
           "xaxis": "x",
           "y": [
            8536
           ],
           "yaxis": "y"
          },
          {
           "hovertemplate": "<b>%{hovertext}</b><br><br>регіон=Волинська область<br>рік=2020<br>кількість прибулих=%{x}<br>кількість вибулих=%{y}<extra></extra>",
           "hovertext": [
            "Волинська область"
           ],
           "ids": [
            "Волинська область"
           ],
           "legendgroup": "Волинська область",
           "marker": {
            "color": "#EF553B",
            "symbol": "circle"
           },
           "mode": "markers",
           "name": "Волинська область",
           "orientation": "v",
           "showlegend": true,
           "type": "scatter",
           "x": [
            5941
           ],
           "xaxis": "x",
           "y": [
            5886
           ],
           "yaxis": "y"
          },
          {
           "hovertemplate": "<b>%{hovertext}</b><br><br>регіон=Дніпропетровська область<br>рік=2020<br>кількість прибулих=%{x}<br>кількість вибулих=%{y}<extra></extra>",
           "hovertext": [
            "Дніпропетровська область"
           ],
           "ids": [
            "Дніпропетровська область"
           ],
           "legendgroup": "Дніпропетровська область",
           "marker": {
            "color": "#00cc96",
            "symbol": "circle"
           },
           "mode": "markers",
           "name": "Дніпропетровська область",
           "orientation": "v",
           "showlegend": true,
           "type": "scatter",
           "x": [
            22686
           ],
           "xaxis": "x",
           "y": [
            21288
           ],
           "yaxis": "y"
          },
          {
           "hovertemplate": "<b>%{hovertext}</b><br><br>регіон=Донецька область<br>рік=2020<br>кількість прибулих=%{x}<br>кількість вибулих=%{y}<extra></extra>",
           "hovertext": [
            "Донецька область"
           ],
           "ids": [
            "Донецька область"
           ],
           "legendgroup": "Донецька область",
           "marker": {
            "color": "#ab63fa",
            "symbol": "circle"
           },
           "mode": "markers",
           "name": "Донецька область",
           "orientation": "v",
           "showlegend": true,
           "type": "scatter",
           "x": [
            12308
           ],
           "xaxis": "x",
           "y": [
            16303
           ],
           "yaxis": "y"
          },
          {
           "hovertemplate": "<b>%{hovertext}</b><br><br>регіон=Житомирська область<br>рік=2020<br>кількість прибулих=%{x}<br>кількість вибулих=%{y}<extra></extra>",
           "hovertext": [
            "Житомирська область"
           ],
           "ids": [
            "Житомирська область"
           ],
           "legendgroup": "Житомирська область",
           "marker": {
            "color": "#FFA15A",
            "symbol": "circle"
           },
           "mode": "markers",
           "name": "Житомирська область",
           "orientation": "v",
           "showlegend": true,
           "type": "scatter",
           "x": [
            10251
           ],
           "xaxis": "x",
           "y": [
            9574
           ],
           "yaxis": "y"
          },
          {
           "hovertemplate": "<b>%{hovertext}</b><br><br>регіон=Закарпатська область<br>рік=2020<br>кількість прибулих=%{x}<br>кількість вибулих=%{y}<extra></extra>",
           "hovertext": [
            "Закарпатська область"
           ],
           "ids": [
            "Закарпатська область"
           ],
           "legendgroup": "Закарпатська область",
           "marker": {
            "color": "#19d3f3",
            "symbol": "circle"
           },
           "mode": "markers",
           "name": "Закарпатська область",
           "orientation": "v",
           "showlegend": true,
           "type": "scatter",
           "x": [
            3761
           ],
           "xaxis": "x",
           "y": [
            3061
           ],
           "yaxis": "y"
          },
          {
           "hovertemplate": "<b>%{hovertext}</b><br><br>регіон=Запорізька область<br>рік=2020<br>кількість прибулих=%{x}<br>кількість вибулих=%{y}<extra></extra>",
           "hovertext": [
            "Запорізька область"
           ],
           "ids": [
            "Запорізька область"
           ],
           "legendgroup": "Запорізька область",
           "marker": {
            "color": "#FF6692",
            "symbol": "circle"
           },
           "mode": "markers",
           "name": "Запорізька область",
           "orientation": "v",
           "showlegend": true,
           "type": "scatter",
           "x": [
            9518
           ],
           "xaxis": "x",
           "y": [
            10444
           ],
           "yaxis": "y"
          },
          {
           "hovertemplate": "<b>%{hovertext}</b><br><br>регіон=Івано-Франківська область<br>рік=2020<br>кількість прибулих=%{x}<br>кількість вибулих=%{y}<extra></extra>",
           "hovertext": [
            "Івано-Франківська область"
           ],
           "ids": [
            "Івано-Франківська область"
           ],
           "legendgroup": "Івано-Франківська область",
           "marker": {
            "color": "#B6E880",
            "symbol": "circle"
           },
           "mode": "markers",
           "name": "Івано-Франківська область",
           "orientation": "v",
           "showlegend": true,
           "type": "scatter",
           "x": [
            7540
           ],
           "xaxis": "x",
           "y": [
            6477
           ],
           "yaxis": "y"
          },
          {
           "hovertemplate": "<b>%{hovertext}</b><br><br>регіон=Київська область<br>рік=2020<br>кількість прибулих=%{x}<br>кількість вибулих=%{y}<extra></extra>",
           "hovertext": [
            "Київська область"
           ],
           "ids": [
            "Київська область"
           ],
           "legendgroup": "Київська область",
           "marker": {
            "color": "#FF97FF",
            "symbol": "circle"
           },
           "mode": "markers",
           "name": "Київська область",
           "orientation": "v",
           "showlegend": true,
           "type": "scatter",
           "x": [
            26465
           ],
           "xaxis": "x",
           "y": [
            13988
           ],
           "yaxis": "y"
          },
          {
           "hovertemplate": "<b>%{hovertext}</b><br><br>регіон=Кіровоградська область<br>рік=2020<br>кількість прибулих=%{x}<br>кількість вибулих=%{y}<extra></extra>",
           "hovertext": [
            "Кіровоградська область"
           ],
           "ids": [
            "Кіровоградська область"
           ],
           "legendgroup": "Кіровоградська область",
           "marker": {
            "color": "#FECB52",
            "symbol": "circle"
           },
           "mode": "markers",
           "name": "Кіровоградська область",
           "orientation": "v",
           "showlegend": true,
           "type": "scatter",
           "x": [
            6699
           ],
           "xaxis": "x",
           "y": [
            7126
           ],
           "yaxis": "y"
          },
          {
           "hovertemplate": "<b>%{hovertext}</b><br><br>регіон=Луганська область<br>рік=2020<br>кількість прибулих=%{x}<br>кількість вибулих=%{y}<extra></extra>",
           "hovertext": [
            "Луганська область"
           ],
           "ids": [
            "Луганська область"
           ],
           "legendgroup": "Луганська область",
           "marker": {
            "color": "#636efa",
            "symbol": "circle"
           },
           "mode": "markers",
           "name": "Луганська область",
           "orientation": "v",
           "showlegend": true,
           "type": "scatter",
           "x": [
            4356
           ],
           "xaxis": "x",
           "y": [
            7135
           ],
           "yaxis": "y"
          },
          {
           "hovertemplate": "<b>%{hovertext}</b><br><br>регіон=Львівська область<br>рік=2020<br>кількість прибулих=%{x}<br>кількість вибулих=%{y}<extra></extra>",
           "hovertext": [
            "Львівська область"
           ],
           "ids": [
            "Львівська область"
           ],
           "legendgroup": "Львівська область",
           "marker": {
            "color": "#EF553B",
            "symbol": "circle"
           },
           "mode": "markers",
           "name": "Львівська область",
           "orientation": "v",
           "showlegend": true,
           "type": "scatter",
           "x": [
            17684
           ],
           "xaxis": "x",
           "y": [
            16905
           ],
           "yaxis": "y"
          },
          {
           "hovertemplate": "<b>%{hovertext}</b><br><br>регіон=Миколаївська область<br>рік=2020<br>кількість прибулих=%{x}<br>кількість вибулих=%{y}<extra></extra>",
           "hovertext": [
            "Миколаївська область"
           ],
           "ids": [
            "Миколаївська область"
           ],
           "legendgroup": "Миколаївська область",
           "marker": {
            "color": "#00cc96",
            "symbol": "circle"
           },
           "mode": "markers",
           "name": "Миколаївська область",
           "orientation": "v",
           "showlegend": true,
           "type": "scatter",
           "x": [
            6818
           ],
           "xaxis": "x",
           "y": [
            6512
           ],
           "yaxis": "y"
          },
          {
           "hovertemplate": "<b>%{hovertext}</b><br><br>регіон=Одеська область<br>рік=2020<br>кількість прибулих=%{x}<br>кількість вибулих=%{y}<extra></extra>",
           "hovertext": [
            "Одеська область"
           ],
           "ids": [
            "Одеська область"
           ],
           "legendgroup": "Одеська область",
           "marker": {
            "color": "#ab63fa",
            "symbol": "circle"
           },
           "mode": "markers",
           "name": "Одеська область",
           "orientation": "v",
           "showlegend": true,
           "type": "scatter",
           "x": [
            20031
           ],
           "xaxis": "x",
           "y": [
            15269
           ],
           "yaxis": "y"
          },
          {
           "hovertemplate": "<b>%{hovertext}</b><br><br>регіон=Полтавська область<br>рік=2020<br>кількість прибулих=%{x}<br>кількість вибулих=%{y}<extra></extra>",
           "hovertext": [
            "Полтавська область"
           ],
           "ids": [
            "Полтавська область"
           ],
           "legendgroup": "Полтавська область",
           "marker": {
            "color": "#FFA15A",
            "symbol": "circle"
           },
           "mode": "markers",
           "name": "Полтавська область",
           "orientation": "v",
           "showlegend": true,
           "type": "scatter",
           "x": [
            11340
           ],
           "xaxis": "x",
           "y": [
            10948
           ],
           "yaxis": "y"
          },
          {
           "hovertemplate": "<b>%{hovertext}</b><br><br>регіон=Рівненська область<br>рік=2020<br>кількість прибулих=%{x}<br>кількість вибулих=%{y}<extra></extra>",
           "hovertext": [
            "Рівненська область"
           ],
           "ids": [
            "Рівненська область"
           ],
           "legendgroup": "Рівненська область",
           "marker": {
            "color": "#19d3f3",
            "symbol": "circle"
           },
           "mode": "markers",
           "name": "Рівненська область",
           "orientation": "v",
           "showlegend": true,
           "type": "scatter",
           "x": [
            8260
           ],
           "xaxis": "x",
           "y": [
            8916
           ],
           "yaxis": "y"
          },
          {
           "hovertemplate": "<b>%{hovertext}</b><br><br>регіон=Сумська область<br>рік=2020<br>кількість прибулих=%{x}<br>кількість вибулих=%{y}<extra></extra>",
           "hovertext": [
            "Сумська область"
           ],
           "ids": [
            "Сумська область"
           ],
           "legendgroup": "Сумська область",
           "marker": {
            "color": "#FF6692",
            "symbol": "circle"
           },
           "mode": "markers",
           "name": "Сумська область",
           "orientation": "v",
           "showlegend": true,
           "type": "scatter",
           "x": [
            9100
           ],
           "xaxis": "x",
           "y": [
            9586
           ],
           "yaxis": "y"
          },
          {
           "hovertemplate": "<b>%{hovertext}</b><br><br>регіон=Тернопільська область<br>рік=2020<br>кількість прибулих=%{x}<br>кількість вибулих=%{y}<extra></extra>",
           "hovertext": [
            "Тернопільська область"
           ],
           "ids": [
            "Тернопільська область"
           ],
           "legendgroup": "Тернопільська область",
           "marker": {
            "color": "#B6E880",
            "symbol": "circle"
           },
           "mode": "markers",
           "name": "Тернопільська область",
           "orientation": "v",
           "showlegend": true,
           "type": "scatter",
           "x": [
            6580
           ],
           "xaxis": "x",
           "y": [
            5667
           ],
           "yaxis": "y"
          },
          {
           "hovertemplate": "<b>%{hovertext}</b><br><br>регіон=Харківська область<br>рік=2020<br>кількість прибулих=%{x}<br>кількість вибулих=%{y}<extra></extra>",
           "hovertext": [
            "Харківська область"
           ],
           "ids": [
            "Харківська область"
           ],
           "legendgroup": "Харківська область",
           "marker": {
            "color": "#FF97FF",
            "symbol": "circle"
           },
           "mode": "markers",
           "name": "Харківська область",
           "orientation": "v",
           "showlegend": true,
           "type": "scatter",
           "x": [
            32341
           ],
           "xaxis": "x",
           "y": [
            28065
           ],
           "yaxis": "y"
          },
          {
           "hovertemplate": "<b>%{hovertext}</b><br><br>регіон=Херсонська область<br>рік=2020<br>кількість прибулих=%{x}<br>кількість вибулих=%{y}<extra></extra>",
           "hovertext": [
            "Херсонська область"
           ],
           "ids": [
            "Херсонська область"
           ],
           "legendgroup": "Херсонська область",
           "marker": {
            "color": "#FECB52",
            "symbol": "circle"
           },
           "mode": "markers",
           "name": "Херсонська область",
           "orientation": "v",
           "showlegend": true,
           "type": "scatter",
           "x": [
            5894
           ],
           "xaxis": "x",
           "y": [
            6303
           ],
           "yaxis": "y"
          },
          {
           "hovertemplate": "<b>%{hovertext}</b><br><br>регіон=Хмельницька область<br>рік=2020<br>кількість прибулих=%{x}<br>кількість вибулих=%{y}<extra></extra>",
           "hovertext": [
            "Хмельницька область"
           ],
           "ids": [
            "Хмельницька область"
           ],
           "legendgroup": "Хмельницька область",
           "marker": {
            "color": "#636efa",
            "symbol": "circle"
           },
           "mode": "markers",
           "name": "Хмельницька область",
           "orientation": "v",
           "showlegend": true,
           "type": "scatter",
           "x": [
            9895
           ],
           "xaxis": "x",
           "y": [
            9083
           ],
           "yaxis": "y"
          },
          {
           "hovertemplate": "<b>%{hovertext}</b><br><br>регіон=Черкаська область<br>рік=2020<br>кількість прибулих=%{x}<br>кількість вибулих=%{y}<extra></extra>",
           "hovertext": [
            "Черкаська область"
           ],
           "ids": [
            "Черкаська область"
           ],
           "legendgroup": "Черкаська область",
           "marker": {
            "color": "#EF553B",
            "symbol": "circle"
           },
           "mode": "markers",
           "name": "Черкаська область",
           "orientation": "v",
           "showlegend": true,
           "type": "scatter",
           "x": [
            9195
           ],
           "xaxis": "x",
           "y": [
            8229
           ],
           "yaxis": "y"
          },
          {
           "hovertemplate": "<b>%{hovertext}</b><br><br>регіон=Чернівецька область<br>рік=2020<br>кількість прибулих=%{x}<br>кількість вибулих=%{y}<extra></extra>",
           "hovertext": [
            "Чернівецька область"
           ],
           "ids": [
            "Чернівецька область"
           ],
           "legendgroup": "Чернівецька область",
           "marker": {
            "color": "#00cc96",
            "symbol": "circle"
           },
           "mode": "markers",
           "name": "Чернівецька область",
           "orientation": "v",
           "showlegend": true,
           "type": "scatter",
           "x": [
            3437
           ],
           "xaxis": "x",
           "y": [
            3845
           ],
           "yaxis": "y"
          },
          {
           "hovertemplate": "<b>%{hovertext}</b><br><br>регіон=Чернігівська область<br>рік=2020<br>кількість прибулих=%{x}<br>кількість вибулих=%{y}<extra></extra>",
           "hovertext": [
            "Чернігівська область"
           ],
           "ids": [
            "Чернігівська область"
           ],
           "legendgroup": "Чернігівська область",
           "marker": {
            "color": "#ab63fa",
            "symbol": "circle"
           },
           "mode": "markers",
           "name": "Чернігівська область",
           "orientation": "v",
           "showlegend": true,
           "type": "scatter",
           "x": [
            6694
           ],
           "xaxis": "x",
           "y": [
            6792
           ],
           "yaxis": "y"
          },
          {
           "hovertemplate": "<b>%{hovertext}</b><br><br>регіон=м.Київ<br>рік=2020<br>кількість прибулих=%{x}<br>кількість вибулих=%{y}<extra></extra>",
           "hovertext": [
            "м.Київ"
           ],
           "ids": [
            "м.Київ"
           ],
           "legendgroup": "м.Київ",
           "marker": {
            "color": "#FFA15A",
            "symbol": "circle"
           },
           "mode": "markers",
           "name": "м.Київ",
           "orientation": "v",
           "showlegend": true,
           "type": "scatter",
           "x": [
            40785
           ],
           "xaxis": "x",
           "y": [
            40544
           ],
           "yaxis": "y"
          }
         ],
         "name": "2020"
        },
        {
         "data": [
          {
           "hovertemplate": "<b>%{hovertext}</b><br><br>регіон=Вінницька область<br>рік=2021<br>кількість прибулих=%{x}<br>кількість вибулих=%{y}<extra></extra>",
           "hovertext": [
            "Вінницька область"
           ],
           "ids": [
            "Вінницька область"
           ],
           "legendgroup": "Вінницька область",
           "marker": {
            "color": "#636efa",
            "symbol": "circle"
           },
           "mode": "markers",
           "name": "Вінницька область",
           "orientation": "v",
           "showlegend": true,
           "type": "scatter",
           "x": [
            10828
           ],
           "xaxis": "x",
           "y": [
            10437
           ],
           "yaxis": "y"
          },
          {
           "hovertemplate": "<b>%{hovertext}</b><br><br>регіон=Волинська область<br>рік=2021<br>кількість прибулих=%{x}<br>кількість вибулих=%{y}<extra></extra>",
           "hovertext": [
            "Волинська область"
           ],
           "ids": [
            "Волинська область"
           ],
           "legendgroup": "Волинська область",
           "marker": {
            "color": "#EF553B",
            "symbol": "circle"
           },
           "mode": "markers",
           "name": "Волинська область",
           "orientation": "v",
           "showlegend": true,
           "type": "scatter",
           "x": [
            6228
           ],
           "xaxis": "x",
           "y": [
            7009
           ],
           "yaxis": "y"
          },
          {
           "hovertemplate": "<b>%{hovertext}</b><br><br>регіон=Дніпропетровська область<br>рік=2021<br>кількість прибулих=%{x}<br>кількість вибулих=%{y}<extra></extra>",
           "hovertext": [
            "Дніпропетровська область"
           ],
           "ids": [
            "Дніпропетровська область"
           ],
           "legendgroup": "Дніпропетровська область",
           "marker": {
            "color": "#00cc96",
            "symbol": "circle"
           },
           "mode": "markers",
           "name": "Дніпропетровська область",
           "orientation": "v",
           "showlegend": true,
           "type": "scatter",
           "x": [
            24825
           ],
           "xaxis": "x",
           "y": [
            23170
           ],
           "yaxis": "y"
          },
          {
           "hovertemplate": "<b>%{hovertext}</b><br><br>регіон=Донецька область<br>рік=2021<br>кількість прибулих=%{x}<br>кількість вибулих=%{y}<extra></extra>",
           "hovertext": [
            "Донецька область"
           ],
           "ids": [
            "Донецька область"
           ],
           "legendgroup": "Донецька область",
           "marker": {
            "color": "#ab63fa",
            "symbol": "circle"
           },
           "mode": "markers",
           "name": "Донецька область",
           "orientation": "v",
           "showlegend": true,
           "type": "scatter",
           "x": [
            13034
           ],
           "xaxis": "x",
           "y": [
            16873
           ],
           "yaxis": "y"
          },
          {
           "hovertemplate": "<b>%{hovertext}</b><br><br>регіон=Житомирська область<br>рік=2021<br>кількість прибулих=%{x}<br>кількість вибулих=%{y}<extra></extra>",
           "hovertext": [
            "Житомирська область"
           ],
           "ids": [
            "Житомирська область"
           ],
           "legendgroup": "Житомирська область",
           "marker": {
            "color": "#FFA15A",
            "symbol": "circle"
           },
           "mode": "markers",
           "name": "Житомирська область",
           "orientation": "v",
           "showlegend": true,
           "type": "scatter",
           "x": [
            10672
           ],
           "xaxis": "x",
           "y": [
            10467
           ],
           "yaxis": "y"
          },
          {
           "hovertemplate": "<b>%{hovertext}</b><br><br>регіон=Закарпатська область<br>рік=2021<br>кількість прибулих=%{x}<br>кількість вибулих=%{y}<extra></extra>",
           "hovertext": [
            "Закарпатська область"
           ],
           "ids": [
            "Закарпатська область"
           ],
           "legendgroup": "Закарпатська область",
           "marker": {
            "color": "#19d3f3",
            "symbol": "circle"
           },
           "mode": "markers",
           "name": "Закарпатська область",
           "orientation": "v",
           "showlegend": true,
           "type": "scatter",
           "x": [
            4295
           ],
           "xaxis": "x",
           "y": [
            3563
           ],
           "yaxis": "y"
          },
          {
           "hovertemplate": "<b>%{hovertext}</b><br><br>регіон=Запорізька область<br>рік=2021<br>кількість прибулих=%{x}<br>кількість вибулих=%{y}<extra></extra>",
           "hovertext": [
            "Запорізька область"
           ],
           "ids": [
            "Запорізька область"
           ],
           "legendgroup": "Запорізька область",
           "marker": {
            "color": "#FF6692",
            "symbol": "circle"
           },
           "mode": "markers",
           "name": "Запорізька область",
           "orientation": "v",
           "showlegend": true,
           "type": "scatter",
           "x": [
            9932
           ],
           "xaxis": "x",
           "y": [
            10914
           ],
           "yaxis": "y"
          },
          {
           "hovertemplate": "<b>%{hovertext}</b><br><br>регіон=Івано-Франківська область<br>рік=2021<br>кількість прибулих=%{x}<br>кількість вибулих=%{y}<extra></extra>",
           "hovertext": [
            "Івано-Франківська область"
           ],
           "ids": [
            "Івано-Франківська область"
           ],
           "legendgroup": "Івано-Франківська область",
           "marker": {
            "color": "#B6E880",
            "symbol": "circle"
           },
           "mode": "markers",
           "name": "Івано-Франківська область",
           "orientation": "v",
           "showlegend": true,
           "type": "scatter",
           "x": [
            8838
           ],
           "xaxis": "x",
           "y": [
            7822
           ],
           "yaxis": "y"
          },
          {
           "hovertemplate": "<b>%{hovertext}</b><br><br>регіон=Київська область<br>рік=2021<br>кількість прибулих=%{x}<br>кількість вибулих=%{y}<extra></extra>",
           "hovertext": [
            "Київська область"
           ],
           "ids": [
            "Київська область"
           ],
           "legendgroup": "Київська область",
           "marker": {
            "color": "#FF97FF",
            "symbol": "circle"
           },
           "mode": "markers",
           "name": "Київська область",
           "orientation": "v",
           "showlegend": true,
           "type": "scatter",
           "x": [
            29277
           ],
           "xaxis": "x",
           "y": [
            16300
           ],
           "yaxis": "y"
          },
          {
           "hovertemplate": "<b>%{hovertext}</b><br><br>регіон=Кіровоградська область<br>рік=2021<br>кількість прибулих=%{x}<br>кількість вибулих=%{y}<extra></extra>",
           "hovertext": [
            "Кіровоградська область"
           ],
           "ids": [
            "Кіровоградська область"
           ],
           "legendgroup": "Кіровоградська область",
           "marker": {
            "color": "#FECB52",
            "symbol": "circle"
           },
           "mode": "markers",
           "name": "Кіровоградська область",
           "orientation": "v",
           "showlegend": true,
           "type": "scatter",
           "x": [
            6653
           ],
           "xaxis": "x",
           "y": [
            7308
           ],
           "yaxis": "y"
          },
          {
           "hovertemplate": "<b>%{hovertext}</b><br><br>регіон=Луганська область<br>рік=2021<br>кількість прибулих=%{x}<br>кількість вибулих=%{y}<extra></extra>",
           "hovertext": [
            "Луганська область"
           ],
           "ids": [
            "Луганська область"
           ],
           "legendgroup": "Луганська область",
           "marker": {
            "color": "#636efa",
            "symbol": "circle"
           },
           "mode": "markers",
           "name": "Луганська область",
           "orientation": "v",
           "showlegend": true,
           "type": "scatter",
           "x": [
            4544
           ],
           "xaxis": "x",
           "y": [
            7014
           ],
           "yaxis": "y"
          },
          {
           "hovertemplate": "<b>%{hovertext}</b><br><br>регіон=Львівська область<br>рік=2021<br>кількість прибулих=%{x}<br>кількість вибулих=%{y}<extra></extra>",
           "hovertext": [
            "Львівська область"
           ],
           "ids": [
            "Львівська область"
           ],
           "legendgroup": "Львівська область",
           "marker": {
            "color": "#EF553B",
            "symbol": "circle"
           },
           "mode": "markers",
           "name": "Львівська область",
           "orientation": "v",
           "showlegend": true,
           "type": "scatter",
           "x": [
            19829
           ],
           "xaxis": "x",
           "y": [
            18448
           ],
           "yaxis": "y"
          },
          {
           "hovertemplate": "<b>%{hovertext}</b><br><br>регіон=Миколаївська область<br>рік=2021<br>кількість прибулих=%{x}<br>кількість вибулих=%{y}<extra></extra>",
           "hovertext": [
            "Миколаївська область"
           ],
           "ids": [
            "Миколаївська область"
           ],
           "legendgroup": "Миколаївська область",
           "marker": {
            "color": "#00cc96",
            "symbol": "circle"
           },
           "mode": "markers",
           "name": "Миколаївська область",
           "orientation": "v",
           "showlegend": true,
           "type": "scatter",
           "x": [
            7245
           ],
           "xaxis": "x",
           "y": [
            7375
           ],
           "yaxis": "y"
          },
          {
           "hovertemplate": "<b>%{hovertext}</b><br><br>регіон=Одеська область<br>рік=2021<br>кількість прибулих=%{x}<br>кількість вибулих=%{y}<extra></extra>",
           "hovertext": [
            "Одеська область"
           ],
           "ids": [
            "Одеська область"
           ],
           "legendgroup": "Одеська область",
           "marker": {
            "color": "#ab63fa",
            "symbol": "circle"
           },
           "mode": "markers",
           "name": "Одеська область",
           "orientation": "v",
           "showlegend": true,
           "type": "scatter",
           "x": [
            22172
           ],
           "xaxis": "x",
           "y": [
            15818
           ],
           "yaxis": "y"
          },
          {
           "hovertemplate": "<b>%{hovertext}</b><br><br>регіон=Полтавська область<br>рік=2021<br>кількість прибулих=%{x}<br>кількість вибулих=%{y}<extra></extra>",
           "hovertext": [
            "Полтавська область"
           ],
           "ids": [
            "Полтавська область"
           ],
           "legendgroup": "Полтавська область",
           "marker": {
            "color": "#FFA15A",
            "symbol": "circle"
           },
           "mode": "markers",
           "name": "Полтавська область",
           "orientation": "v",
           "showlegend": true,
           "type": "scatter",
           "x": [
            12703
           ],
           "xaxis": "x",
           "y": [
            12172
           ],
           "yaxis": "y"
          },
          {
           "hovertemplate": "<b>%{hovertext}</b><br><br>регіон=Рівненська область<br>рік=2021<br>кількість прибулих=%{x}<br>кількість вибулих=%{y}<extra></extra>",
           "hovertext": [
            "Рівненська область"
           ],
           "ids": [
            "Рівненська область"
           ],
           "legendgroup": "Рівненська область",
           "marker": {
            "color": "#19d3f3",
            "symbol": "circle"
           },
           "mode": "markers",
           "name": "Рівненська область",
           "orientation": "v",
           "showlegend": true,
           "type": "scatter",
           "x": [
            9103
           ],
           "xaxis": "x",
           "y": [
            10228
           ],
           "yaxis": "y"
          },
          {
           "hovertemplate": "<b>%{hovertext}</b><br><br>регіон=Сумська область<br>рік=2021<br>кількість прибулих=%{x}<br>кількість вибулих=%{y}<extra></extra>",
           "hovertext": [
            "Сумська область"
           ],
           "ids": [
            "Сумська область"
           ],
           "legendgroup": "Сумська область",
           "marker": {
            "color": "#FF6692",
            "symbol": "circle"
           },
           "mode": "markers",
           "name": "Сумська область",
           "orientation": "v",
           "showlegend": true,
           "type": "scatter",
           "x": [
            9279
           ],
           "xaxis": "x",
           "y": [
            9813
           ],
           "yaxis": "y"
          },
          {
           "hovertemplate": "<b>%{hovertext}</b><br><br>регіон=Тернопільська область<br>рік=2021<br>кількість прибулих=%{x}<br>кількість вибулих=%{y}<extra></extra>",
           "hovertext": [
            "Тернопільська область"
           ],
           "ids": [
            "Тернопільська область"
           ],
           "legendgroup": "Тернопільська область",
           "marker": {
            "color": "#B6E880",
            "symbol": "circle"
           },
           "mode": "markers",
           "name": "Тернопільська область",
           "orientation": "v",
           "showlegend": true,
           "type": "scatter",
           "x": [
            8180
           ],
           "xaxis": "x",
           "y": [
            6383
           ],
           "yaxis": "y"
          },
          {
           "hovertemplate": "<b>%{hovertext}</b><br><br>регіон=Харківська область<br>рік=2021<br>кількість прибулих=%{x}<br>кількість вибулих=%{y}<extra></extra>",
           "hovertext": [
            "Харківська область"
           ],
           "ids": [
            "Харківська область"
           ],
           "legendgroup": "Харківська область",
           "marker": {
            "color": "#FF97FF",
            "symbol": "circle"
           },
           "mode": "markers",
           "name": "Харківська область",
           "orientation": "v",
           "showlegend": true,
           "type": "scatter",
           "x": [
            36283
           ],
           "xaxis": "x",
           "y": [
            29354
           ],
           "yaxis": "y"
          },
          {
           "hovertemplate": "<b>%{hovertext}</b><br><br>регіон=Херсонська область<br>рік=2021<br>кількість прибулих=%{x}<br>кількість вибулих=%{y}<extra></extra>",
           "hovertext": [
            "Херсонська область"
           ],
           "ids": [
            "Херсонська область"
           ],
           "legendgroup": "Херсонська область",
           "marker": {
            "color": "#FECB52",
            "symbol": "circle"
           },
           "mode": "markers",
           "name": "Херсонська область",
           "orientation": "v",
           "showlegend": true,
           "type": "scatter",
           "x": [
            6164
           ],
           "xaxis": "x",
           "y": [
            6801
           ],
           "yaxis": "y"
          },
          {
           "hovertemplate": "<b>%{hovertext}</b><br><br>регіон=Хмельницька область<br>рік=2021<br>кількість прибулих=%{x}<br>кількість вибулих=%{y}<extra></extra>",
           "hovertext": [
            "Хмельницька область"
           ],
           "ids": [
            "Хмельницька область"
           ],
           "legendgroup": "Хмельницька область",
           "marker": {
            "color": "#636efa",
            "symbol": "circle"
           },
           "mode": "markers",
           "name": "Хмельницька область",
           "orientation": "v",
           "showlegend": true,
           "type": "scatter",
           "x": [
            10897
           ],
           "xaxis": "x",
           "y": [
            9753
           ],
           "yaxis": "y"
          },
          {
           "hovertemplate": "<b>%{hovertext}</b><br><br>регіон=Черкаська область<br>рік=2021<br>кількість прибулих=%{x}<br>кількість вибулих=%{y}<extra></extra>",
           "hovertext": [
            "Черкаська область"
           ],
           "ids": [
            "Черкаська область"
           ],
           "legendgroup": "Черкаська область",
           "marker": {
            "color": "#EF553B",
            "symbol": "circle"
           },
           "mode": "markers",
           "name": "Черкаська область",
           "orientation": "v",
           "showlegend": true,
           "type": "scatter",
           "x": [
            8920
           ],
           "xaxis": "x",
           "y": [
            9006
           ],
           "yaxis": "y"
          },
          {
           "hovertemplate": "<b>%{hovertext}</b><br><br>регіон=Чернівецька область<br>рік=2021<br>кількість прибулих=%{x}<br>кількість вибулих=%{y}<extra></extra>",
           "hovertext": [
            "Чернівецька область"
           ],
           "ids": [
            "Чернівецька область"
           ],
           "legendgroup": "Чернівецька область",
           "marker": {
            "color": "#00cc96",
            "symbol": "circle"
           },
           "mode": "markers",
           "name": "Чернівецька область",
           "orientation": "v",
           "showlegend": true,
           "type": "scatter",
           "x": [
            4722
           ],
           "xaxis": "x",
           "y": [
            4250
           ],
           "yaxis": "y"
          },
          {
           "hovertemplate": "<b>%{hovertext}</b><br><br>регіон=Чернігівська область<br>рік=2021<br>кількість прибулих=%{x}<br>кількість вибулих=%{y}<extra></extra>",
           "hovertext": [
            "Чернігівська область"
           ],
           "ids": [
            "Чернігівська область"
           ],
           "legendgroup": "Чернігівська область",
           "marker": {
            "color": "#ab63fa",
            "symbol": "circle"
           },
           "mode": "markers",
           "name": "Чернігівська область",
           "orientation": "v",
           "showlegend": true,
           "type": "scatter",
           "x": [
            7027
           ],
           "xaxis": "x",
           "y": [
            7686
           ],
           "yaxis": "y"
          },
          {
           "hovertemplate": "<b>%{hovertext}</b><br><br>регіон=м.Київ<br>рік=2021<br>кількість прибулих=%{x}<br>кількість вибулих=%{y}<extra></extra>",
           "hovertext": [
            "м.Київ"
           ],
           "ids": [
            "м.Київ"
           ],
           "legendgroup": "м.Київ",
           "marker": {
            "color": "#FFA15A",
            "symbol": "circle"
           },
           "mode": "markers",
           "name": "м.Київ",
           "orientation": "v",
           "showlegend": true,
           "type": "scatter",
           "x": [
            49148
           ],
           "xaxis": "x",
           "y": [
            43415
           ],
           "yaxis": "y"
          }
         ],
         "name": "2021"
        }
       ],
       "layout": {
        "legend": {
         "title": {
          "text": "регіон"
         },
         "tracegroupgap": 0
        },
        "sliders": [
         {
          "active": 0,
          "currentvalue": {
           "prefix": "рік="
          },
          "len": 0.9,
          "pad": {
           "b": 10,
           "t": 60
          },
          "steps": [
           {
            "args": [
             [
              "2019"
             ],
             {
              "frame": {
               "duration": 0,
               "redraw": false
              },
              "fromcurrent": true,
              "mode": "immediate",
              "transition": {
               "duration": 0,
               "easing": "linear"
              }
             }
            ],
            "label": "2019",
            "method": "animate"
           },
           {
            "args": [
             [
              "2020"
             ],
             {
              "frame": {
               "duration": 0,
               "redraw": false
              },
              "fromcurrent": true,
              "mode": "immediate",
              "transition": {
               "duration": 0,
               "easing": "linear"
              }
             }
            ],
            "label": "2020",
            "method": "animate"
           },
           {
            "args": [
             [
              "2021"
             ],
             {
              "frame": {
               "duration": 0,
               "redraw": false
              },
              "fromcurrent": true,
              "mode": "immediate",
              "transition": {
               "duration": 0,
               "easing": "linear"
              }
             }
            ],
            "label": "2021",
            "method": "animate"
           }
          ],
          "x": 0.1,
          "xanchor": "left",
          "y": 0,
          "yanchor": "top"
         }
        ],
        "template": {
         "data": {
          "bar": [
           {
            "error_x": {
             "color": "#2a3f5f"
            },
            "error_y": {
             "color": "#2a3f5f"
            },
            "marker": {
             "line": {
              "color": "#E5ECF6",
              "width": 0.5
             },
             "pattern": {
              "fillmode": "overlay",
              "size": 10,
              "solidity": 0.2
             }
            },
            "type": "bar"
           }
          ],
          "barpolar": [
           {
            "marker": {
             "line": {
              "color": "#E5ECF6",
              "width": 0.5
             },
             "pattern": {
              "fillmode": "overlay",
              "size": 10,
              "solidity": 0.2
             }
            },
            "type": "barpolar"
           }
          ],
          "carpet": [
           {
            "aaxis": {
             "endlinecolor": "#2a3f5f",
             "gridcolor": "white",
             "linecolor": "white",
             "minorgridcolor": "white",
             "startlinecolor": "#2a3f5f"
            },
            "baxis": {
             "endlinecolor": "#2a3f5f",
             "gridcolor": "white",
             "linecolor": "white",
             "minorgridcolor": "white",
             "startlinecolor": "#2a3f5f"
            },
            "type": "carpet"
           }
          ],
          "choropleth": [
           {
            "colorbar": {
             "outlinewidth": 0,
             "ticks": ""
            },
            "type": "choropleth"
           }
          ],
          "contour": [
           {
            "colorbar": {
             "outlinewidth": 0,
             "ticks": ""
            },
            "colorscale": [
             [
              0,
              "#0d0887"
             ],
             [
              0.1111111111111111,
              "#46039f"
             ],
             [
              0.2222222222222222,
              "#7201a8"
             ],
             [
              0.3333333333333333,
              "#9c179e"
             ],
             [
              0.4444444444444444,
              "#bd3786"
             ],
             [
              0.5555555555555556,
              "#d8576b"
             ],
             [
              0.6666666666666666,
              "#ed7953"
             ],
             [
              0.7777777777777778,
              "#fb9f3a"
             ],
             [
              0.8888888888888888,
              "#fdca26"
             ],
             [
              1,
              "#f0f921"
             ]
            ],
            "type": "contour"
           }
          ],
          "contourcarpet": [
           {
            "colorbar": {
             "outlinewidth": 0,
             "ticks": ""
            },
            "type": "contourcarpet"
           }
          ],
          "heatmap": [
           {
            "colorbar": {
             "outlinewidth": 0,
             "ticks": ""
            },
            "colorscale": [
             [
              0,
              "#0d0887"
             ],
             [
              0.1111111111111111,
              "#46039f"
             ],
             [
              0.2222222222222222,
              "#7201a8"
             ],
             [
              0.3333333333333333,
              "#9c179e"
             ],
             [
              0.4444444444444444,
              "#bd3786"
             ],
             [
              0.5555555555555556,
              "#d8576b"
             ],
             [
              0.6666666666666666,
              "#ed7953"
             ],
             [
              0.7777777777777778,
              "#fb9f3a"
             ],
             [
              0.8888888888888888,
              "#fdca26"
             ],
             [
              1,
              "#f0f921"
             ]
            ],
            "type": "heatmap"
           }
          ],
          "heatmapgl": [
           {
            "colorbar": {
             "outlinewidth": 0,
             "ticks": ""
            },
            "colorscale": [
             [
              0,
              "#0d0887"
             ],
             [
              0.1111111111111111,
              "#46039f"
             ],
             [
              0.2222222222222222,
              "#7201a8"
             ],
             [
              0.3333333333333333,
              "#9c179e"
             ],
             [
              0.4444444444444444,
              "#bd3786"
             ],
             [
              0.5555555555555556,
              "#d8576b"
             ],
             [
              0.6666666666666666,
              "#ed7953"
             ],
             [
              0.7777777777777778,
              "#fb9f3a"
             ],
             [
              0.8888888888888888,
              "#fdca26"
             ],
             [
              1,
              "#f0f921"
             ]
            ],
            "type": "heatmapgl"
           }
          ],
          "histogram": [
           {
            "marker": {
             "pattern": {
              "fillmode": "overlay",
              "size": 10,
              "solidity": 0.2
             }
            },
            "type": "histogram"
           }
          ],
          "histogram2d": [
           {
            "colorbar": {
             "outlinewidth": 0,
             "ticks": ""
            },
            "colorscale": [
             [
              0,
              "#0d0887"
             ],
             [
              0.1111111111111111,
              "#46039f"
             ],
             [
              0.2222222222222222,
              "#7201a8"
             ],
             [
              0.3333333333333333,
              "#9c179e"
             ],
             [
              0.4444444444444444,
              "#bd3786"
             ],
             [
              0.5555555555555556,
              "#d8576b"
             ],
             [
              0.6666666666666666,
              "#ed7953"
             ],
             [
              0.7777777777777778,
              "#fb9f3a"
             ],
             [
              0.8888888888888888,
              "#fdca26"
             ],
             [
              1,
              "#f0f921"
             ]
            ],
            "type": "histogram2d"
           }
          ],
          "histogram2dcontour": [
           {
            "colorbar": {
             "outlinewidth": 0,
             "ticks": ""
            },
            "colorscale": [
             [
              0,
              "#0d0887"
             ],
             [
              0.1111111111111111,
              "#46039f"
             ],
             [
              0.2222222222222222,
              "#7201a8"
             ],
             [
              0.3333333333333333,
              "#9c179e"
             ],
             [
              0.4444444444444444,
              "#bd3786"
             ],
             [
              0.5555555555555556,
              "#d8576b"
             ],
             [
              0.6666666666666666,
              "#ed7953"
             ],
             [
              0.7777777777777778,
              "#fb9f3a"
             ],
             [
              0.8888888888888888,
              "#fdca26"
             ],
             [
              1,
              "#f0f921"
             ]
            ],
            "type": "histogram2dcontour"
           }
          ],
          "mesh3d": [
           {
            "colorbar": {
             "outlinewidth": 0,
             "ticks": ""
            },
            "type": "mesh3d"
           }
          ],
          "parcoords": [
           {
            "line": {
             "colorbar": {
              "outlinewidth": 0,
              "ticks": ""
             }
            },
            "type": "parcoords"
           }
          ],
          "pie": [
           {
            "automargin": true,
            "type": "pie"
           }
          ],
          "scatter": [
           {
            "fillpattern": {
             "fillmode": "overlay",
             "size": 10,
             "solidity": 0.2
            },
            "type": "scatter"
           }
          ],
          "scatter3d": [
           {
            "line": {
             "colorbar": {
              "outlinewidth": 0,
              "ticks": ""
             }
            },
            "marker": {
             "colorbar": {
              "outlinewidth": 0,
              "ticks": ""
             }
            },
            "type": "scatter3d"
           }
          ],
          "scattercarpet": [
           {
            "marker": {
             "colorbar": {
              "outlinewidth": 0,
              "ticks": ""
             }
            },
            "type": "scattercarpet"
           }
          ],
          "scattergeo": [
           {
            "marker": {
             "colorbar": {
              "outlinewidth": 0,
              "ticks": ""
             }
            },
            "type": "scattergeo"
           }
          ],
          "scattergl": [
           {
            "marker": {
             "colorbar": {
              "outlinewidth": 0,
              "ticks": ""
             }
            },
            "type": "scattergl"
           }
          ],
          "scattermapbox": [
           {
            "marker": {
             "colorbar": {
              "outlinewidth": 0,
              "ticks": ""
             }
            },
            "type": "scattermapbox"
           }
          ],
          "scatterpolar": [
           {
            "marker": {
             "colorbar": {
              "outlinewidth": 0,
              "ticks": ""
             }
            },
            "type": "scatterpolar"
           }
          ],
          "scatterpolargl": [
           {
            "marker": {
             "colorbar": {
              "outlinewidth": 0,
              "ticks": ""
             }
            },
            "type": "scatterpolargl"
           }
          ],
          "scatterternary": [
           {
            "marker": {
             "colorbar": {
              "outlinewidth": 0,
              "ticks": ""
             }
            },
            "type": "scatterternary"
           }
          ],
          "surface": [
           {
            "colorbar": {
             "outlinewidth": 0,
             "ticks": ""
            },
            "colorscale": [
             [
              0,
              "#0d0887"
             ],
             [
              0.1111111111111111,
              "#46039f"
             ],
             [
              0.2222222222222222,
              "#7201a8"
             ],
             [
              0.3333333333333333,
              "#9c179e"
             ],
             [
              0.4444444444444444,
              "#bd3786"
             ],
             [
              0.5555555555555556,
              "#d8576b"
             ],
             [
              0.6666666666666666,
              "#ed7953"
             ],
             [
              0.7777777777777778,
              "#fb9f3a"
             ],
             [
              0.8888888888888888,
              "#fdca26"
             ],
             [
              1,
              "#f0f921"
             ]
            ],
            "type": "surface"
           }
          ],
          "table": [
           {
            "cells": {
             "fill": {
              "color": "#EBF0F8"
             },
             "line": {
              "color": "white"
             }
            },
            "header": {
             "fill": {
              "color": "#C8D4E3"
             },
             "line": {
              "color": "white"
             }
            },
            "type": "table"
           }
          ]
         },
         "layout": {
          "annotationdefaults": {
           "arrowcolor": "#2a3f5f",
           "arrowhead": 0,
           "arrowwidth": 1
          },
          "autotypenumbers": "strict",
          "coloraxis": {
           "colorbar": {
            "outlinewidth": 0,
            "ticks": ""
           }
          },
          "colorscale": {
           "diverging": [
            [
             0,
             "#8e0152"
            ],
            [
             0.1,
             "#c51b7d"
            ],
            [
             0.2,
             "#de77ae"
            ],
            [
             0.3,
             "#f1b6da"
            ],
            [
             0.4,
             "#fde0ef"
            ],
            [
             0.5,
             "#f7f7f7"
            ],
            [
             0.6,
             "#e6f5d0"
            ],
            [
             0.7,
             "#b8e186"
            ],
            [
             0.8,
             "#7fbc41"
            ],
            [
             0.9,
             "#4d9221"
            ],
            [
             1,
             "#276419"
            ]
           ],
           "sequential": [
            [
             0,
             "#0d0887"
            ],
            [
             0.1111111111111111,
             "#46039f"
            ],
            [
             0.2222222222222222,
             "#7201a8"
            ],
            [
             0.3333333333333333,
             "#9c179e"
            ],
            [
             0.4444444444444444,
             "#bd3786"
            ],
            [
             0.5555555555555556,
             "#d8576b"
            ],
            [
             0.6666666666666666,
             "#ed7953"
            ],
            [
             0.7777777777777778,
             "#fb9f3a"
            ],
            [
             0.8888888888888888,
             "#fdca26"
            ],
            [
             1,
             "#f0f921"
            ]
           ],
           "sequentialminus": [
            [
             0,
             "#0d0887"
            ],
            [
             0.1111111111111111,
             "#46039f"
            ],
            [
             0.2222222222222222,
             "#7201a8"
            ],
            [
             0.3333333333333333,
             "#9c179e"
            ],
            [
             0.4444444444444444,
             "#bd3786"
            ],
            [
             0.5555555555555556,
             "#d8576b"
            ],
            [
             0.6666666666666666,
             "#ed7953"
            ],
            [
             0.7777777777777778,
             "#fb9f3a"
            ],
            [
             0.8888888888888888,
             "#fdca26"
            ],
            [
             1,
             "#f0f921"
            ]
           ]
          },
          "colorway": [
           "#636efa",
           "#EF553B",
           "#00cc96",
           "#ab63fa",
           "#FFA15A",
           "#19d3f3",
           "#FF6692",
           "#B6E880",
           "#FF97FF",
           "#FECB52"
          ],
          "font": {
           "color": "#2a3f5f"
          },
          "geo": {
           "bgcolor": "white",
           "lakecolor": "white",
           "landcolor": "#E5ECF6",
           "showlakes": true,
           "showland": true,
           "subunitcolor": "white"
          },
          "hoverlabel": {
           "align": "left"
          },
          "hovermode": "closest",
          "mapbox": {
           "style": "light"
          },
          "paper_bgcolor": "white",
          "plot_bgcolor": "#E5ECF6",
          "polar": {
           "angularaxis": {
            "gridcolor": "white",
            "linecolor": "white",
            "ticks": ""
           },
           "bgcolor": "#E5ECF6",
           "radialaxis": {
            "gridcolor": "white",
            "linecolor": "white",
            "ticks": ""
           }
          },
          "scene": {
           "xaxis": {
            "backgroundcolor": "#E5ECF6",
            "gridcolor": "white",
            "gridwidth": 2,
            "linecolor": "white",
            "showbackground": true,
            "ticks": "",
            "zerolinecolor": "white"
           },
           "yaxis": {
            "backgroundcolor": "#E5ECF6",
            "gridcolor": "white",
            "gridwidth": 2,
            "linecolor": "white",
            "showbackground": true,
            "ticks": "",
            "zerolinecolor": "white"
           },
           "zaxis": {
            "backgroundcolor": "#E5ECF6",
            "gridcolor": "white",
            "gridwidth": 2,
            "linecolor": "white",
            "showbackground": true,
            "ticks": "",
            "zerolinecolor": "white"
           }
          },
          "shapedefaults": {
           "line": {
            "color": "#2a3f5f"
           }
          },
          "ternary": {
           "aaxis": {
            "gridcolor": "white",
            "linecolor": "white",
            "ticks": ""
           },
           "baxis": {
            "gridcolor": "white",
            "linecolor": "white",
            "ticks": ""
           },
           "bgcolor": "#E5ECF6",
           "caxis": {
            "gridcolor": "white",
            "linecolor": "white",
            "ticks": ""
           }
          },
          "title": {
           "x": 0.05
          },
          "xaxis": {
           "automargin": true,
           "gridcolor": "white",
           "linecolor": "white",
           "ticks": "",
           "title": {
            "standoff": 15
           },
           "zerolinecolor": "white",
           "zerolinewidth": 2
          },
          "yaxis": {
           "automargin": true,
           "gridcolor": "white",
           "linecolor": "white",
           "ticks": "",
           "title": {
            "standoff": 15
           },
           "zerolinecolor": "white",
           "zerolinewidth": 2
          }
         }
        },
        "title": {
         "text": "Загальне співвідношення прибулих та вибулих в міській місцевості"
        },
        "updatemenus": [
         {
          "buttons": [
           {
            "args": [
             null,
             {
              "frame": {
               "duration": 500,
               "redraw": false
              },
              "fromcurrent": true,
              "mode": "immediate",
              "transition": {
               "duration": 500,
               "easing": "linear"
              }
             }
            ],
            "label": "&#9654;",
            "method": "animate"
           },
           {
            "args": [
             [
              null
             ],
             {
              "frame": {
               "duration": 0,
               "redraw": false
              },
              "fromcurrent": true,
              "mode": "immediate",
              "transition": {
               "duration": 0,
               "easing": "linear"
              }
             }
            ],
            "label": "&#9724;",
            "method": "animate"
           }
          ],
          "direction": "left",
          "pad": {
           "r": 10,
           "t": 70
          },
          "showactive": false,
          "type": "buttons",
          "x": 0.1,
          "xanchor": "right",
          "y": 0,
          "yanchor": "top"
         }
        ],
        "xaxis": {
         "anchor": "y",
         "domain": [
          0,
          1
         ],
         "range": [
          3.4771212547196617,
          4.903089986991943
         ],
         "title": {
          "text": "кількість прибулих"
         },
         "type": "log"
        },
        "yaxis": {
         "anchor": "x",
         "domain": [
          0,
          1
         ],
         "title": {
          "text": "кількість вибулих"
         }
        }
       }
      }
     },
     "metadata": {},
     "output_type": "display_data"
    }
   ],
   "source": [
    "px.scatter(all_migration, x=\"кількість прибулих\", y=\"кількість вибулих\", animation_frame=\"рік\", \n",
    "           animation_group=\"регіон\", color=\"регіон\", hover_name=\"регіон\",\n",
    "           log_x=True, size_max=55, range_x=[3000,80000], title='Загальне співвідношення прибулих та вибулих в міській місцевості')"
   ]
  },
  {
   "attachments": {},
   "cell_type": "markdown",
   "metadata": {},
   "source": [
    "Графік аналогічний до попереднього, однак інформація лише про міждержавну міграцію"
   ]
  },
  {
   "cell_type": "code",
   "execution_count": 6,
   "metadata": {},
   "outputs": [
    {
     "data": {
      "application/vnd.plotly.v1+json": {
       "config": {
        "plotlyServerURL": "https://plot.ly"
       },
       "data": [
        {
         "hovertemplate": "<b>%{hovertext}</b><br><br>регіон=Вінницька область<br>рік=2019<br>кількість прибулих=%{x}<br>кількість вибулих=%{y}<extra></extra>",
         "hovertext": [
          "Вінницька область"
         ],
         "ids": [
          "Вінницька область"
         ],
         "legendgroup": "Вінницька область",
         "marker": {
          "color": "#636efa",
          "symbol": "circle"
         },
         "mode": "markers",
         "name": "Вінницька область",
         "orientation": "v",
         "showlegend": true,
         "type": "scatter",
         "x": [
          605
         ],
         "xaxis": "x",
         "y": [
          195
         ],
         "yaxis": "y"
        },
        {
         "hovertemplate": "<b>%{hovertext}</b><br><br>регіон=Волинська область<br>рік=2019<br>кількість прибулих=%{x}<br>кількість вибулих=%{y}<extra></extra>",
         "hovertext": [
          "Волинська область"
         ],
         "ids": [
          "Волинська область"
         ],
         "legendgroup": "Волинська область",
         "marker": {
          "color": "#EF553B",
          "symbol": "circle"
         },
         "mode": "markers",
         "name": "Волинська область",
         "orientation": "v",
         "showlegend": true,
         "type": "scatter",
         "x": [
          155
         ],
         "xaxis": "x",
         "y": [
          373
         ],
         "yaxis": "y"
        },
        {
         "hovertemplate": "<b>%{hovertext}</b><br><br>регіон=Дніпропетровська область<br>рік=2019<br>кількість прибулих=%{x}<br>кількість вибулих=%{y}<extra></extra>",
         "hovertext": [
          "Дніпропетровська область"
         ],
         "ids": [
          "Дніпропетровська область"
         ],
         "legendgroup": "Дніпропетровська область",
         "marker": {
          "color": "#00cc96",
          "symbol": "circle"
         },
         "mode": "markers",
         "name": "Дніпропетровська область",
         "orientation": "v",
         "showlegend": true,
         "type": "scatter",
         "x": [
          1947
         ],
         "xaxis": "x",
         "y": [
          916
         ],
         "yaxis": "y"
        },
        {
         "hovertemplate": "<b>%{hovertext}</b><br><br>регіон=Донецька область<br>рік=2019<br>кількість прибулих=%{x}<br>кількість вибулих=%{y}<extra></extra>",
         "hovertext": [
          "Донецька область"
         ],
         "ids": [
          "Донецька область"
         ],
         "legendgroup": "Донецька область",
         "marker": {
          "color": "#ab63fa",
          "symbol": "circle"
         },
         "mode": "markers",
         "name": "Донецька область",
         "orientation": "v",
         "showlegend": true,
         "type": "scatter",
         "x": [
          685
         ],
         "xaxis": "x",
         "y": [
          512
         ],
         "yaxis": "y"
        },
        {
         "hovertemplate": "<b>%{hovertext}</b><br><br>регіон=Житомирська область<br>рік=2019<br>кількість прибулих=%{x}<br>кількість вибулих=%{y}<extra></extra>",
         "hovertext": [
          "Житомирська область"
         ],
         "ids": [
          "Житомирська область"
         ],
         "legendgroup": "Житомирська область",
         "marker": {
          "color": "#FFA15A",
          "symbol": "circle"
         },
         "mode": "markers",
         "name": "Житомирська область",
         "orientation": "v",
         "showlegend": true,
         "type": "scatter",
         "x": [
          341
         ],
         "xaxis": "x",
         "y": [
          248
         ],
         "yaxis": "y"
        },
        {
         "hovertemplate": "<b>%{hovertext}</b><br><br>регіон=Закарпатська область<br>рік=2019<br>кількість прибулих=%{x}<br>кількість вибулих=%{y}<extra></extra>",
         "hovertext": [
          "Закарпатська область"
         ],
         "ids": [
          "Закарпатська область"
         ],
         "legendgroup": "Закарпатська область",
         "marker": {
          "color": "#19d3f3",
          "symbol": "circle"
         },
         "mode": "markers",
         "name": "Закарпатська область",
         "orientation": "v",
         "showlegend": true,
         "type": "scatter",
         "x": [
          591
         ],
         "xaxis": "x",
         "y": [
          494
         ],
         "yaxis": "y"
        },
        {
         "hovertemplate": "<b>%{hovertext}</b><br><br>регіон=Запорізька область<br>рік=2019<br>кількість прибулих=%{x}<br>кількість вибулих=%{y}<extra></extra>",
         "hovertext": [
          "Запорізька область"
         ],
         "ids": [
          "Запорізька область"
         ],
         "legendgroup": "Запорізька область",
         "marker": {
          "color": "#FF6692",
          "symbol": "circle"
         },
         "mode": "markers",
         "name": "Запорізька область",
         "orientation": "v",
         "showlegend": true,
         "type": "scatter",
         "x": [
          946
         ],
         "xaxis": "x",
         "y": [
          395
         ],
         "yaxis": "y"
        },
        {
         "hovertemplate": "<b>%{hovertext}</b><br><br>регіон=Івано-Франківська область<br>рік=2019<br>кількість прибулих=%{x}<br>кількість вибулих=%{y}<extra></extra>",
         "hovertext": [
          "Івано-Франківська область"
         ],
         "ids": [
          "Івано-Франківська область"
         ],
         "legendgroup": "Івано-Франківська область",
         "marker": {
          "color": "#B6E880",
          "symbol": "circle"
         },
         "mode": "markers",
         "name": "Івано-Франківська область",
         "orientation": "v",
         "showlegend": true,
         "type": "scatter",
         "x": [
          760
         ],
         "xaxis": "x",
         "y": [
          757
         ],
         "yaxis": "y"
        },
        {
         "hovertemplate": "<b>%{hovertext}</b><br><br>регіон=Київська область<br>рік=2019<br>кількість прибулих=%{x}<br>кількість вибулих=%{y}<extra></extra>",
         "hovertext": [
          "Київська область"
         ],
         "ids": [
          "Київська область"
         ],
         "legendgroup": "Київська область",
         "marker": {
          "color": "#FF97FF",
          "symbol": "circle"
         },
         "mode": "markers",
         "name": "Київська область",
         "orientation": "v",
         "showlegend": true,
         "type": "scatter",
         "x": [
          1159
         ],
         "xaxis": "x",
         "y": [
          490
         ],
         "yaxis": "y"
        },
        {
         "hovertemplate": "<b>%{hovertext}</b><br><br>регіон=Кіровоградська область<br>рік=2019<br>кількість прибулих=%{x}<br>кількість вибулих=%{y}<extra></extra>",
         "hovertext": [
          "Кіровоградська область"
         ],
         "ids": [
          "Кіровоградська область"
         ],
         "legendgroup": "Кіровоградська область",
         "marker": {
          "color": "#FECB52",
          "symbol": "circle"
         },
         "mode": "markers",
         "name": "Кіровоградська область",
         "orientation": "v",
         "showlegend": true,
         "type": "scatter",
         "x": [
          423
         ],
         "xaxis": "x",
         "y": [
          324
         ],
         "yaxis": "y"
        },
        {
         "hovertemplate": "<b>%{hovertext}</b><br><br>регіон=Луганська область<br>рік=2019<br>кількість прибулих=%{x}<br>кількість вибулих=%{y}<extra></extra>",
         "hovertext": [
          "Луганська область"
         ],
         "ids": [
          "Луганська область"
         ],
         "legendgroup": "Луганська область",
         "marker": {
          "color": "#636efa",
          "symbol": "circle"
         },
         "mode": "markers",
         "name": "Луганська область",
         "orientation": "v",
         "showlegend": true,
         "type": "scatter",
         "x": [
          363
         ],
         "xaxis": "x",
         "y": [
          402
         ],
         "yaxis": "y"
        },
        {
         "hovertemplate": "<b>%{hovertext}</b><br><br>регіон=Львівська область<br>рік=2019<br>кількість прибулих=%{x}<br>кількість вибулих=%{y}<extra></extra>",
         "hovertext": [
          "Львівська область"
         ],
         "ids": [
          "Львівська область"
         ],
         "legendgroup": "Львівська область",
         "marker": {
          "color": "#EF553B",
          "symbol": "circle"
         },
         "mode": "markers",
         "name": "Львівська область",
         "orientation": "v",
         "showlegend": true,
         "type": "scatter",
         "x": [
          1201
         ],
         "xaxis": "x",
         "y": [
          1164
         ],
         "yaxis": "y"
        },
        {
         "hovertemplate": "<b>%{hovertext}</b><br><br>регіон=Миколаївська область<br>рік=2019<br>кількість прибулих=%{x}<br>кількість вибулих=%{y}<extra></extra>",
         "hovertext": [
          "Миколаївська область"
         ],
         "ids": [
          "Миколаївська область"
         ],
         "legendgroup": "Миколаївська область",
         "marker": {
          "color": "#00cc96",
          "symbol": "circle"
         },
         "mode": "markers",
         "name": "Миколаївська область",
         "orientation": "v",
         "showlegend": true,
         "type": "scatter",
         "x": [
          687
         ],
         "xaxis": "x",
         "y": [
          298
         ],
         "yaxis": "y"
        },
        {
         "hovertemplate": "<b>%{hovertext}</b><br><br>регіон=Одеська область<br>рік=2019<br>кількість прибулих=%{x}<br>кількість вибулих=%{y}<extra></extra>",
         "hovertext": [
          "Одеська область"
         ],
         "ids": [
          "Одеська область"
         ],
         "legendgroup": "Одеська область",
         "marker": {
          "color": "#ab63fa",
          "symbol": "circle"
         },
         "mode": "markers",
         "name": "Одеська область",
         "orientation": "v",
         "showlegend": true,
         "type": "scatter",
         "x": [
          5892
         ],
         "xaxis": "x",
         "y": [
          563
         ],
         "yaxis": "y"
        },
        {
         "hovertemplate": "<b>%{hovertext}</b><br><br>регіон=Полтавська область<br>рік=2019<br>кількість прибулих=%{x}<br>кількість вибулих=%{y}<extra></extra>",
         "hovertext": [
          "Полтавська область"
         ],
         "ids": [
          "Полтавська область"
         ],
         "legendgroup": "Полтавська область",
         "marker": {
          "color": "#FFA15A",
          "symbol": "circle"
         },
         "mode": "markers",
         "name": "Полтавська область",
         "orientation": "v",
         "showlegend": true,
         "type": "scatter",
         "x": [
          1582
         ],
         "xaxis": "x",
         "y": [
          949
         ],
         "yaxis": "y"
        },
        {
         "hovertemplate": "<b>%{hovertext}</b><br><br>регіон=Рівненська область<br>рік=2019<br>кількість прибулих=%{x}<br>кількість вибулих=%{y}<extra></extra>",
         "hovertext": [
          "Рівненська область"
         ],
         "ids": [
          "Рівненська область"
         ],
         "legendgroup": "Рівненська область",
         "marker": {
          "color": "#19d3f3",
          "symbol": "circle"
         },
         "mode": "markers",
         "name": "Рівненська область",
         "orientation": "v",
         "showlegend": true,
         "type": "scatter",
         "x": [
          221
         ],
         "xaxis": "x",
         "y": [
          687
         ],
         "yaxis": "y"
        },
        {
         "hovertemplate": "<b>%{hovertext}</b><br><br>регіон=Сумська область<br>рік=2019<br>кількість прибулих=%{x}<br>кількість вибулих=%{y}<extra></extra>",
         "hovertext": [
          "Сумська область"
         ],
         "ids": [
          "Сумська область"
         ],
         "legendgroup": "Сумська область",
         "marker": {
          "color": "#FF6692",
          "symbol": "circle"
         },
         "mode": "markers",
         "name": "Сумська область",
         "orientation": "v",
         "showlegend": true,
         "type": "scatter",
         "x": [
          1007
         ],
         "xaxis": "x",
         "y": [
          442
         ],
         "yaxis": "y"
        },
        {
         "hovertemplate": "<b>%{hovertext}</b><br><br>регіон=Тернопільська область<br>рік=2019<br>кількість прибулих=%{x}<br>кількість вибулих=%{y}<extra></extra>",
         "hovertext": [
          "Тернопільська область"
         ],
         "ids": [
          "Тернопільська область"
         ],
         "legendgroup": "Тернопільська область",
         "marker": {
          "color": "#B6E880",
          "symbol": "circle"
         },
         "mode": "markers",
         "name": "Тернопільська область",
         "orientation": "v",
         "showlegend": true,
         "type": "scatter",
         "x": [
          1189
         ],
         "xaxis": "x",
         "y": [
          526
         ],
         "yaxis": "y"
        },
        {
         "hovertemplate": "<b>%{hovertext}</b><br><br>регіон=Харківська область<br>рік=2019<br>кількість прибулих=%{x}<br>кількість вибулих=%{y}<extra></extra>",
         "hovertext": [
          "Харківська область"
         ],
         "ids": [
          "Харківська область"
         ],
         "legendgroup": "Харківська область",
         "marker": {
          "color": "#FF97FF",
          "symbol": "circle"
         },
         "mode": "markers",
         "name": "Харківська область",
         "orientation": "v",
         "showlegend": true,
         "type": "scatter",
         "x": [
          8241
         ],
         "xaxis": "x",
         "y": [
          5531
         ],
         "yaxis": "y"
        },
        {
         "hovertemplate": "<b>%{hovertext}</b><br><br>регіон=Херсонська область<br>рік=2019<br>кількість прибулих=%{x}<br>кількість вибулих=%{y}<extra></extra>",
         "hovertext": [
          "Херсонська область"
         ],
         "ids": [
          "Херсонська область"
         ],
         "legendgroup": "Херсонська область",
         "marker": {
          "color": "#FECB52",
          "symbol": "circle"
         },
         "mode": "markers",
         "name": "Херсонська область",
         "orientation": "v",
         "showlegend": true,
         "type": "scatter",
         "x": [
          60
         ],
         "xaxis": "x",
         "y": [
          165
         ],
         "yaxis": "y"
        },
        {
         "hovertemplate": "<b>%{hovertext}</b><br><br>регіон=Хмельницька область<br>рік=2019<br>кількість прибулих=%{x}<br>кількість вибулих=%{y}<extra></extra>",
         "hovertext": [
          "Хмельницька область"
         ],
         "ids": [
          "Хмельницька область"
         ],
         "legendgroup": "Хмельницька область",
         "marker": {
          "color": "#636efa",
          "symbol": "circle"
         },
         "mode": "markers",
         "name": "Хмельницька область",
         "orientation": "v",
         "showlegend": true,
         "type": "scatter",
         "x": [
          449
         ],
         "xaxis": "x",
         "y": [
          251
         ],
         "yaxis": "y"
        },
        {
         "hovertemplate": "<b>%{hovertext}</b><br><br>регіон=Черкаська область<br>рік=2019<br>кількість прибулих=%{x}<br>кількість вибулих=%{y}<extra></extra>",
         "hovertext": [
          "Черкаська область"
         ],
         "ids": [
          "Черкаська область"
         ],
         "legendgroup": "Черкаська область",
         "marker": {
          "color": "#EF553B",
          "symbol": "circle"
         },
         "mode": "markers",
         "name": "Черкаська область",
         "orientation": "v",
         "showlegend": true,
         "type": "scatter",
         "x": [
          304
         ],
         "xaxis": "x",
         "y": [
          265
         ],
         "yaxis": "y"
        },
        {
         "hovertemplate": "<b>%{hovertext}</b><br><br>регіон=Чернівецька область<br>рік=2019<br>кількість прибулих=%{x}<br>кількість вибулих=%{y}<extra></extra>",
         "hovertext": [
          "Чернівецька область"
         ],
         "ids": [
          "Чернівецька область"
         ],
         "legendgroup": "Чернівецька область",
         "marker": {
          "color": "#00cc96",
          "symbol": "circle"
         },
         "mode": "markers",
         "name": "Чернівецька область",
         "orientation": "v",
         "showlegend": true,
         "type": "scatter",
         "x": [
          760
         ],
         "xaxis": "x",
         "y": [
          558
         ],
         "yaxis": "y"
        },
        {
         "hovertemplate": "<b>%{hovertext}</b><br><br>регіон=Чернігівська область<br>рік=2019<br>кількість прибулих=%{x}<br>кількість вибулих=%{y}<extra></extra>",
         "hovertext": [
          "Чернігівська область"
         ],
         "ids": [
          "Чернігівська область"
         ],
         "legendgroup": "Чернігівська область",
         "marker": {
          "color": "#ab63fa",
          "symbol": "circle"
         },
         "mode": "markers",
         "name": "Чернігівська область",
         "orientation": "v",
         "showlegend": true,
         "type": "scatter",
         "x": [
          50
         ],
         "xaxis": "x",
         "y": [
          104
         ],
         "yaxis": "y"
        },
        {
         "hovertemplate": "<b>%{hovertext}</b><br><br>регіон=м.Київ<br>рік=2019<br>кількість прибулих=%{x}<br>кількість вибулих=%{y}<extra></extra>",
         "hovertext": [
          "м.Київ"
         ],
         "ids": [
          "м.Київ"
         ],
         "legendgroup": "м.Київ",
         "marker": {
          "color": "#FFA15A",
          "symbol": "circle"
         },
         "mode": "markers",
         "name": "м.Київ",
         "orientation": "v",
         "showlegend": true,
         "type": "scatter",
         "x": [
          10228
         ],
         "xaxis": "x",
         "y": [
          5881
         ],
         "yaxis": "y"
        }
       ],
       "frames": [
        {
         "data": [
          {
           "hovertemplate": "<b>%{hovertext}</b><br><br>регіон=Вінницька область<br>рік=2019<br>кількість прибулих=%{x}<br>кількість вибулих=%{y}<extra></extra>",
           "hovertext": [
            "Вінницька область"
           ],
           "ids": [
            "Вінницька область"
           ],
           "legendgroup": "Вінницька область",
           "marker": {
            "color": "#636efa",
            "symbol": "circle"
           },
           "mode": "markers",
           "name": "Вінницька область",
           "orientation": "v",
           "showlegend": true,
           "type": "scatter",
           "x": [
            605
           ],
           "xaxis": "x",
           "y": [
            195
           ],
           "yaxis": "y"
          },
          {
           "hovertemplate": "<b>%{hovertext}</b><br><br>регіон=Волинська область<br>рік=2019<br>кількість прибулих=%{x}<br>кількість вибулих=%{y}<extra></extra>",
           "hovertext": [
            "Волинська область"
           ],
           "ids": [
            "Волинська область"
           ],
           "legendgroup": "Волинська область",
           "marker": {
            "color": "#EF553B",
            "symbol": "circle"
           },
           "mode": "markers",
           "name": "Волинська область",
           "orientation": "v",
           "showlegend": true,
           "type": "scatter",
           "x": [
            155
           ],
           "xaxis": "x",
           "y": [
            373
           ],
           "yaxis": "y"
          },
          {
           "hovertemplate": "<b>%{hovertext}</b><br><br>регіон=Дніпропетровська область<br>рік=2019<br>кількість прибулих=%{x}<br>кількість вибулих=%{y}<extra></extra>",
           "hovertext": [
            "Дніпропетровська область"
           ],
           "ids": [
            "Дніпропетровська область"
           ],
           "legendgroup": "Дніпропетровська область",
           "marker": {
            "color": "#00cc96",
            "symbol": "circle"
           },
           "mode": "markers",
           "name": "Дніпропетровська область",
           "orientation": "v",
           "showlegend": true,
           "type": "scatter",
           "x": [
            1947
           ],
           "xaxis": "x",
           "y": [
            916
           ],
           "yaxis": "y"
          },
          {
           "hovertemplate": "<b>%{hovertext}</b><br><br>регіон=Донецька область<br>рік=2019<br>кількість прибулих=%{x}<br>кількість вибулих=%{y}<extra></extra>",
           "hovertext": [
            "Донецька область"
           ],
           "ids": [
            "Донецька область"
           ],
           "legendgroup": "Донецька область",
           "marker": {
            "color": "#ab63fa",
            "symbol": "circle"
           },
           "mode": "markers",
           "name": "Донецька область",
           "orientation": "v",
           "showlegend": true,
           "type": "scatter",
           "x": [
            685
           ],
           "xaxis": "x",
           "y": [
            512
           ],
           "yaxis": "y"
          },
          {
           "hovertemplate": "<b>%{hovertext}</b><br><br>регіон=Житомирська область<br>рік=2019<br>кількість прибулих=%{x}<br>кількість вибулих=%{y}<extra></extra>",
           "hovertext": [
            "Житомирська область"
           ],
           "ids": [
            "Житомирська область"
           ],
           "legendgroup": "Житомирська область",
           "marker": {
            "color": "#FFA15A",
            "symbol": "circle"
           },
           "mode": "markers",
           "name": "Житомирська область",
           "orientation": "v",
           "showlegend": true,
           "type": "scatter",
           "x": [
            341
           ],
           "xaxis": "x",
           "y": [
            248
           ],
           "yaxis": "y"
          },
          {
           "hovertemplate": "<b>%{hovertext}</b><br><br>регіон=Закарпатська область<br>рік=2019<br>кількість прибулих=%{x}<br>кількість вибулих=%{y}<extra></extra>",
           "hovertext": [
            "Закарпатська область"
           ],
           "ids": [
            "Закарпатська область"
           ],
           "legendgroup": "Закарпатська область",
           "marker": {
            "color": "#19d3f3",
            "symbol": "circle"
           },
           "mode": "markers",
           "name": "Закарпатська область",
           "orientation": "v",
           "showlegend": true,
           "type": "scatter",
           "x": [
            591
           ],
           "xaxis": "x",
           "y": [
            494
           ],
           "yaxis": "y"
          },
          {
           "hovertemplate": "<b>%{hovertext}</b><br><br>регіон=Запорізька область<br>рік=2019<br>кількість прибулих=%{x}<br>кількість вибулих=%{y}<extra></extra>",
           "hovertext": [
            "Запорізька область"
           ],
           "ids": [
            "Запорізька область"
           ],
           "legendgroup": "Запорізька область",
           "marker": {
            "color": "#FF6692",
            "symbol": "circle"
           },
           "mode": "markers",
           "name": "Запорізька область",
           "orientation": "v",
           "showlegend": true,
           "type": "scatter",
           "x": [
            946
           ],
           "xaxis": "x",
           "y": [
            395
           ],
           "yaxis": "y"
          },
          {
           "hovertemplate": "<b>%{hovertext}</b><br><br>регіон=Івано-Франківська область<br>рік=2019<br>кількість прибулих=%{x}<br>кількість вибулих=%{y}<extra></extra>",
           "hovertext": [
            "Івано-Франківська область"
           ],
           "ids": [
            "Івано-Франківська область"
           ],
           "legendgroup": "Івано-Франківська область",
           "marker": {
            "color": "#B6E880",
            "symbol": "circle"
           },
           "mode": "markers",
           "name": "Івано-Франківська область",
           "orientation": "v",
           "showlegend": true,
           "type": "scatter",
           "x": [
            760
           ],
           "xaxis": "x",
           "y": [
            757
           ],
           "yaxis": "y"
          },
          {
           "hovertemplate": "<b>%{hovertext}</b><br><br>регіон=Київська область<br>рік=2019<br>кількість прибулих=%{x}<br>кількість вибулих=%{y}<extra></extra>",
           "hovertext": [
            "Київська область"
           ],
           "ids": [
            "Київська область"
           ],
           "legendgroup": "Київська область",
           "marker": {
            "color": "#FF97FF",
            "symbol": "circle"
           },
           "mode": "markers",
           "name": "Київська область",
           "orientation": "v",
           "showlegend": true,
           "type": "scatter",
           "x": [
            1159
           ],
           "xaxis": "x",
           "y": [
            490
           ],
           "yaxis": "y"
          },
          {
           "hovertemplate": "<b>%{hovertext}</b><br><br>регіон=Кіровоградська область<br>рік=2019<br>кількість прибулих=%{x}<br>кількість вибулих=%{y}<extra></extra>",
           "hovertext": [
            "Кіровоградська область"
           ],
           "ids": [
            "Кіровоградська область"
           ],
           "legendgroup": "Кіровоградська область",
           "marker": {
            "color": "#FECB52",
            "symbol": "circle"
           },
           "mode": "markers",
           "name": "Кіровоградська область",
           "orientation": "v",
           "showlegend": true,
           "type": "scatter",
           "x": [
            423
           ],
           "xaxis": "x",
           "y": [
            324
           ],
           "yaxis": "y"
          },
          {
           "hovertemplate": "<b>%{hovertext}</b><br><br>регіон=Луганська область<br>рік=2019<br>кількість прибулих=%{x}<br>кількість вибулих=%{y}<extra></extra>",
           "hovertext": [
            "Луганська область"
           ],
           "ids": [
            "Луганська область"
           ],
           "legendgroup": "Луганська область",
           "marker": {
            "color": "#636efa",
            "symbol": "circle"
           },
           "mode": "markers",
           "name": "Луганська область",
           "orientation": "v",
           "showlegend": true,
           "type": "scatter",
           "x": [
            363
           ],
           "xaxis": "x",
           "y": [
            402
           ],
           "yaxis": "y"
          },
          {
           "hovertemplate": "<b>%{hovertext}</b><br><br>регіон=Львівська область<br>рік=2019<br>кількість прибулих=%{x}<br>кількість вибулих=%{y}<extra></extra>",
           "hovertext": [
            "Львівська область"
           ],
           "ids": [
            "Львівська область"
           ],
           "legendgroup": "Львівська область",
           "marker": {
            "color": "#EF553B",
            "symbol": "circle"
           },
           "mode": "markers",
           "name": "Львівська область",
           "orientation": "v",
           "showlegend": true,
           "type": "scatter",
           "x": [
            1201
           ],
           "xaxis": "x",
           "y": [
            1164
           ],
           "yaxis": "y"
          },
          {
           "hovertemplate": "<b>%{hovertext}</b><br><br>регіон=Миколаївська область<br>рік=2019<br>кількість прибулих=%{x}<br>кількість вибулих=%{y}<extra></extra>",
           "hovertext": [
            "Миколаївська область"
           ],
           "ids": [
            "Миколаївська область"
           ],
           "legendgroup": "Миколаївська область",
           "marker": {
            "color": "#00cc96",
            "symbol": "circle"
           },
           "mode": "markers",
           "name": "Миколаївська область",
           "orientation": "v",
           "showlegend": true,
           "type": "scatter",
           "x": [
            687
           ],
           "xaxis": "x",
           "y": [
            298
           ],
           "yaxis": "y"
          },
          {
           "hovertemplate": "<b>%{hovertext}</b><br><br>регіон=Одеська область<br>рік=2019<br>кількість прибулих=%{x}<br>кількість вибулих=%{y}<extra></extra>",
           "hovertext": [
            "Одеська область"
           ],
           "ids": [
            "Одеська область"
           ],
           "legendgroup": "Одеська область",
           "marker": {
            "color": "#ab63fa",
            "symbol": "circle"
           },
           "mode": "markers",
           "name": "Одеська область",
           "orientation": "v",
           "showlegend": true,
           "type": "scatter",
           "x": [
            5892
           ],
           "xaxis": "x",
           "y": [
            563
           ],
           "yaxis": "y"
          },
          {
           "hovertemplate": "<b>%{hovertext}</b><br><br>регіон=Полтавська область<br>рік=2019<br>кількість прибулих=%{x}<br>кількість вибулих=%{y}<extra></extra>",
           "hovertext": [
            "Полтавська область"
           ],
           "ids": [
            "Полтавська область"
           ],
           "legendgroup": "Полтавська область",
           "marker": {
            "color": "#FFA15A",
            "symbol": "circle"
           },
           "mode": "markers",
           "name": "Полтавська область",
           "orientation": "v",
           "showlegend": true,
           "type": "scatter",
           "x": [
            1582
           ],
           "xaxis": "x",
           "y": [
            949
           ],
           "yaxis": "y"
          },
          {
           "hovertemplate": "<b>%{hovertext}</b><br><br>регіон=Рівненська область<br>рік=2019<br>кількість прибулих=%{x}<br>кількість вибулих=%{y}<extra></extra>",
           "hovertext": [
            "Рівненська область"
           ],
           "ids": [
            "Рівненська область"
           ],
           "legendgroup": "Рівненська область",
           "marker": {
            "color": "#19d3f3",
            "symbol": "circle"
           },
           "mode": "markers",
           "name": "Рівненська область",
           "orientation": "v",
           "showlegend": true,
           "type": "scatter",
           "x": [
            221
           ],
           "xaxis": "x",
           "y": [
            687
           ],
           "yaxis": "y"
          },
          {
           "hovertemplate": "<b>%{hovertext}</b><br><br>регіон=Сумська область<br>рік=2019<br>кількість прибулих=%{x}<br>кількість вибулих=%{y}<extra></extra>",
           "hovertext": [
            "Сумська область"
           ],
           "ids": [
            "Сумська область"
           ],
           "legendgroup": "Сумська область",
           "marker": {
            "color": "#FF6692",
            "symbol": "circle"
           },
           "mode": "markers",
           "name": "Сумська область",
           "orientation": "v",
           "showlegend": true,
           "type": "scatter",
           "x": [
            1007
           ],
           "xaxis": "x",
           "y": [
            442
           ],
           "yaxis": "y"
          },
          {
           "hovertemplate": "<b>%{hovertext}</b><br><br>регіон=Тернопільська область<br>рік=2019<br>кількість прибулих=%{x}<br>кількість вибулих=%{y}<extra></extra>",
           "hovertext": [
            "Тернопільська область"
           ],
           "ids": [
            "Тернопільська область"
           ],
           "legendgroup": "Тернопільська область",
           "marker": {
            "color": "#B6E880",
            "symbol": "circle"
           },
           "mode": "markers",
           "name": "Тернопільська область",
           "orientation": "v",
           "showlegend": true,
           "type": "scatter",
           "x": [
            1189
           ],
           "xaxis": "x",
           "y": [
            526
           ],
           "yaxis": "y"
          },
          {
           "hovertemplate": "<b>%{hovertext}</b><br><br>регіон=Харківська область<br>рік=2019<br>кількість прибулих=%{x}<br>кількість вибулих=%{y}<extra></extra>",
           "hovertext": [
            "Харківська область"
           ],
           "ids": [
            "Харківська область"
           ],
           "legendgroup": "Харківська область",
           "marker": {
            "color": "#FF97FF",
            "symbol": "circle"
           },
           "mode": "markers",
           "name": "Харківська область",
           "orientation": "v",
           "showlegend": true,
           "type": "scatter",
           "x": [
            8241
           ],
           "xaxis": "x",
           "y": [
            5531
           ],
           "yaxis": "y"
          },
          {
           "hovertemplate": "<b>%{hovertext}</b><br><br>регіон=Херсонська область<br>рік=2019<br>кількість прибулих=%{x}<br>кількість вибулих=%{y}<extra></extra>",
           "hovertext": [
            "Херсонська область"
           ],
           "ids": [
            "Херсонська область"
           ],
           "legendgroup": "Херсонська область",
           "marker": {
            "color": "#FECB52",
            "symbol": "circle"
           },
           "mode": "markers",
           "name": "Херсонська область",
           "orientation": "v",
           "showlegend": true,
           "type": "scatter",
           "x": [
            60
           ],
           "xaxis": "x",
           "y": [
            165
           ],
           "yaxis": "y"
          },
          {
           "hovertemplate": "<b>%{hovertext}</b><br><br>регіон=Хмельницька область<br>рік=2019<br>кількість прибулих=%{x}<br>кількість вибулих=%{y}<extra></extra>",
           "hovertext": [
            "Хмельницька область"
           ],
           "ids": [
            "Хмельницька область"
           ],
           "legendgroup": "Хмельницька область",
           "marker": {
            "color": "#636efa",
            "symbol": "circle"
           },
           "mode": "markers",
           "name": "Хмельницька область",
           "orientation": "v",
           "showlegend": true,
           "type": "scatter",
           "x": [
            449
           ],
           "xaxis": "x",
           "y": [
            251
           ],
           "yaxis": "y"
          },
          {
           "hovertemplate": "<b>%{hovertext}</b><br><br>регіон=Черкаська область<br>рік=2019<br>кількість прибулих=%{x}<br>кількість вибулих=%{y}<extra></extra>",
           "hovertext": [
            "Черкаська область"
           ],
           "ids": [
            "Черкаська область"
           ],
           "legendgroup": "Черкаська область",
           "marker": {
            "color": "#EF553B",
            "symbol": "circle"
           },
           "mode": "markers",
           "name": "Черкаська область",
           "orientation": "v",
           "showlegend": true,
           "type": "scatter",
           "x": [
            304
           ],
           "xaxis": "x",
           "y": [
            265
           ],
           "yaxis": "y"
          },
          {
           "hovertemplate": "<b>%{hovertext}</b><br><br>регіон=Чернівецька область<br>рік=2019<br>кількість прибулих=%{x}<br>кількість вибулих=%{y}<extra></extra>",
           "hovertext": [
            "Чернівецька область"
           ],
           "ids": [
            "Чернівецька область"
           ],
           "legendgroup": "Чернівецька область",
           "marker": {
            "color": "#00cc96",
            "symbol": "circle"
           },
           "mode": "markers",
           "name": "Чернівецька область",
           "orientation": "v",
           "showlegend": true,
           "type": "scatter",
           "x": [
            760
           ],
           "xaxis": "x",
           "y": [
            558
           ],
           "yaxis": "y"
          },
          {
           "hovertemplate": "<b>%{hovertext}</b><br><br>регіон=Чернігівська область<br>рік=2019<br>кількість прибулих=%{x}<br>кількість вибулих=%{y}<extra></extra>",
           "hovertext": [
            "Чернігівська область"
           ],
           "ids": [
            "Чернігівська область"
           ],
           "legendgroup": "Чернігівська область",
           "marker": {
            "color": "#ab63fa",
            "symbol": "circle"
           },
           "mode": "markers",
           "name": "Чернігівська область",
           "orientation": "v",
           "showlegend": true,
           "type": "scatter",
           "x": [
            50
           ],
           "xaxis": "x",
           "y": [
            104
           ],
           "yaxis": "y"
          },
          {
           "hovertemplate": "<b>%{hovertext}</b><br><br>регіон=м.Київ<br>рік=2019<br>кількість прибулих=%{x}<br>кількість вибулих=%{y}<extra></extra>",
           "hovertext": [
            "м.Київ"
           ],
           "ids": [
            "м.Київ"
           ],
           "legendgroup": "м.Київ",
           "marker": {
            "color": "#FFA15A",
            "symbol": "circle"
           },
           "mode": "markers",
           "name": "м.Київ",
           "orientation": "v",
           "showlegend": true,
           "type": "scatter",
           "x": [
            10228
           ],
           "xaxis": "x",
           "y": [
            5881
           ],
           "yaxis": "y"
          }
         ],
         "name": "2019"
        },
        {
         "data": [
          {
           "hovertemplate": "<b>%{hovertext}</b><br><br>регіон=Вінницька область<br>рік=2020<br>кількість прибулих=%{x}<br>кількість вибулих=%{y}<extra></extra>",
           "hovertext": [
            "Вінницька область"
           ],
           "ids": [
            "Вінницька область"
           ],
           "legendgroup": "Вінницька область",
           "marker": {
            "color": "#636efa",
            "symbol": "circle"
           },
           "mode": "markers",
           "name": "Вінницька область",
           "orientation": "v",
           "showlegend": true,
           "type": "scatter",
           "x": [
            89
           ],
           "xaxis": "x",
           "y": [
            95
           ],
           "yaxis": "y"
          },
          {
           "hovertemplate": "<b>%{hovertext}</b><br><br>регіон=Волинська область<br>рік=2020<br>кількість прибулих=%{x}<br>кількість вибулих=%{y}<extra></extra>",
           "hovertext": [
            "Волинська область"
           ],
           "ids": [
            "Волинська область"
           ],
           "legendgroup": "Волинська область",
           "marker": {
            "color": "#EF553B",
            "symbol": "circle"
           },
           "mode": "markers",
           "name": "Волинська область",
           "orientation": "v",
           "showlegend": true,
           "type": "scatter",
           "x": [
            73
           ],
           "xaxis": "x",
           "y": [
            90
           ],
           "yaxis": "y"
          },
          {
           "hovertemplate": "<b>%{hovertext}</b><br><br>регіон=Дніпропетровська область<br>рік=2020<br>кількість прибулих=%{x}<br>кількість вибулих=%{y}<extra></extra>",
           "hovertext": [
            "Дніпропетровська область"
           ],
           "ids": [
            "Дніпропетровська область"
           ],
           "legendgroup": "Дніпропетровська область",
           "marker": {
            "color": "#00cc96",
            "symbol": "circle"
           },
           "mode": "markers",
           "name": "Дніпропетровська область",
           "orientation": "v",
           "showlegend": true,
           "type": "scatter",
           "x": [
            1472
           ],
           "xaxis": "x",
           "y": [
            477
           ],
           "yaxis": "y"
          },
          {
           "hovertemplate": "<b>%{hovertext}</b><br><br>регіон=Донецька область<br>рік=2020<br>кількість прибулих=%{x}<br>кількість вибулих=%{y}<extra></extra>",
           "hovertext": [
            "Донецька область"
           ],
           "ids": [
            "Донецька область"
           ],
           "legendgroup": "Донецька область",
           "marker": {
            "color": "#ab63fa",
            "symbol": "circle"
           },
           "mode": "markers",
           "name": "Донецька область",
           "orientation": "v",
           "showlegend": true,
           "type": "scatter",
           "x": [
            408
           ],
           "xaxis": "x",
           "y": [
            417
           ],
           "yaxis": "y"
          },
          {
           "hovertemplate": "<b>%{hovertext}</b><br><br>регіон=Житомирська область<br>рік=2020<br>кількість прибулих=%{x}<br>кількість вибулих=%{y}<extra></extra>",
           "hovertext": [
            "Житомирська область"
           ],
           "ids": [
            "Житомирська область"
           ],
           "legendgroup": "Житомирська область",
           "marker": {
            "color": "#FFA15A",
            "symbol": "circle"
           },
           "mode": "markers",
           "name": "Житомирська область",
           "orientation": "v",
           "showlegend": true,
           "type": "scatter",
           "x": [
            184
           ],
           "xaxis": "x",
           "y": [
            107
           ],
           "yaxis": "y"
          },
          {
           "hovertemplate": "<b>%{hovertext}</b><br><br>регіон=Закарпатська область<br>рік=2020<br>кількість прибулих=%{x}<br>кількість вибулих=%{y}<extra></extra>",
           "hovertext": [
            "Закарпатська область"
           ],
           "ids": [
            "Закарпатська область"
           ],
           "legendgroup": "Закарпатська область",
           "marker": {
            "color": "#19d3f3",
            "symbol": "circle"
           },
           "mode": "markers",
           "name": "Закарпатська область",
           "orientation": "v",
           "showlegend": true,
           "type": "scatter",
           "x": [
            285
           ],
           "xaxis": "x",
           "y": [
            249
           ],
           "yaxis": "y"
          },
          {
           "hovertemplate": "<b>%{hovertext}</b><br><br>регіон=Запорізька область<br>рік=2020<br>кількість прибулих=%{x}<br>кількість вибулих=%{y}<extra></extra>",
           "hovertext": [
            "Запорізька область"
           ],
           "ids": [
            "Запорізька область"
           ],
           "legendgroup": "Запорізька область",
           "marker": {
            "color": "#FF6692",
            "symbol": "circle"
           },
           "mode": "markers",
           "name": "Запорізька область",
           "orientation": "v",
           "showlegend": true,
           "type": "scatter",
           "x": [
            362
           ],
           "xaxis": "x",
           "y": [
            425
           ],
           "yaxis": "y"
          },
          {
           "hovertemplate": "<b>%{hovertext}</b><br><br>регіон=Івано-Франківська область<br>рік=2020<br>кількість прибулих=%{x}<br>кількість вибулих=%{y}<extra></extra>",
           "hovertext": [
            "Івано-Франківська область"
           ],
           "ids": [
            "Івано-Франківська область"
           ],
           "legendgroup": "Івано-Франківська область",
           "marker": {
            "color": "#B6E880",
            "symbol": "circle"
           },
           "mode": "markers",
           "name": "Івано-Франківська область",
           "orientation": "v",
           "showlegend": true,
           "type": "scatter",
           "x": [
            216
           ],
           "xaxis": "x",
           "y": [
            366
           ],
           "yaxis": "y"
          },
          {
           "hovertemplate": "<b>%{hovertext}</b><br><br>регіон=Київська область<br>рік=2020<br>кількість прибулих=%{x}<br>кількість вибулих=%{y}<extra></extra>",
           "hovertext": [
            "Київська область"
           ],
           "ids": [
            "Київська область"
           ],
           "legendgroup": "Київська область",
           "marker": {
            "color": "#FF97FF",
            "symbol": "circle"
           },
           "mode": "markers",
           "name": "Київська область",
           "orientation": "v",
           "showlegend": true,
           "type": "scatter",
           "x": [
            989
           ],
           "xaxis": "x",
           "y": [
            174
           ],
           "yaxis": "y"
          },
          {
           "hovertemplate": "<b>%{hovertext}</b><br><br>регіон=Кіровоградська область<br>рік=2020<br>кількість прибулих=%{x}<br>кількість вибулих=%{y}<extra></extra>",
           "hovertext": [
            "Кіровоградська область"
           ],
           "ids": [
            "Кіровоградська область"
           ],
           "legendgroup": "Кіровоградська область",
           "marker": {
            "color": "#FECB52",
            "symbol": "circle"
           },
           "mode": "markers",
           "name": "Кіровоградська область",
           "orientation": "v",
           "showlegend": true,
           "type": "scatter",
           "x": [
            108
           ],
           "xaxis": "x",
           "y": [
            87
           ],
           "yaxis": "y"
          },
          {
           "hovertemplate": "<b>%{hovertext}</b><br><br>регіон=Луганська область<br>рік=2020<br>кількість прибулих=%{x}<br>кількість вибулих=%{y}<extra></extra>",
           "hovertext": [
            "Луганська область"
           ],
           "ids": [
            "Луганська область"
           ],
           "legendgroup": "Луганська область",
           "marker": {
            "color": "#636efa",
            "symbol": "circle"
           },
           "mode": "markers",
           "name": "Луганська область",
           "orientation": "v",
           "showlegend": true,
           "type": "scatter",
           "x": [
            220
           ],
           "xaxis": "x",
           "y": [
            240
           ],
           "yaxis": "y"
          },
          {
           "hovertemplate": "<b>%{hovertext}</b><br><br>регіон=Львівська область<br>рік=2020<br>кількість прибулих=%{x}<br>кількість вибулих=%{y}<extra></extra>",
           "hovertext": [
            "Львівська область"
           ],
           "ids": [
            "Львівська область"
           ],
           "legendgroup": "Львівська область",
           "marker": {
            "color": "#EF553B",
            "symbol": "circle"
           },
           "mode": "markers",
           "name": "Львівська область",
           "orientation": "v",
           "showlegend": true,
           "type": "scatter",
           "x": [
            659
           ],
           "xaxis": "x",
           "y": [
            604
           ],
           "yaxis": "y"
          },
          {
           "hovertemplate": "<b>%{hovertext}</b><br><br>регіон=Миколаївська область<br>рік=2020<br>кількість прибулих=%{x}<br>кількість вибулих=%{y}<extra></extra>",
           "hovertext": [
            "Миколаївська область"
           ],
           "ids": [
            "Миколаївська область"
           ],
           "legendgroup": "Миколаївська область",
           "marker": {
            "color": "#00cc96",
            "symbol": "circle"
           },
           "mode": "markers",
           "name": "Миколаївська область",
           "orientation": "v",
           "showlegend": true,
           "type": "scatter",
           "x": [
            333
           ],
           "xaxis": "x",
           "y": [
            164
           ],
           "yaxis": "y"
          },
          {
           "hovertemplate": "<b>%{hovertext}</b><br><br>регіон=Одеська область<br>рік=2020<br>кількість прибулих=%{x}<br>кількість вибулих=%{y}<extra></extra>",
           "hovertext": [
            "Одеська область"
           ],
           "ids": [
            "Одеська область"
           ],
           "legendgroup": "Одеська область",
           "marker": {
            "color": "#ab63fa",
            "symbol": "circle"
           },
           "mode": "markers",
           "name": "Одеська область",
           "orientation": "v",
           "showlegend": true,
           "type": "scatter",
           "x": [
            1779
           ],
           "xaxis": "x",
           "y": [
            195
           ],
           "yaxis": "y"
          },
          {
           "hovertemplate": "<b>%{hovertext}</b><br><br>регіон=Полтавська область<br>рік=2020<br>кількість прибулих=%{x}<br>кількість вибулих=%{y}<extra></extra>",
           "hovertext": [
            "Полтавська область"
           ],
           "ids": [
            "Полтавська область"
           ],
           "legendgroup": "Полтавська область",
           "marker": {
            "color": "#FFA15A",
            "symbol": "circle"
           },
           "mode": "markers",
           "name": "Полтавська область",
           "orientation": "v",
           "showlegend": true,
           "type": "scatter",
           "x": [
            792
           ],
           "xaxis": "x",
           "y": [
            475
           ],
           "yaxis": "y"
          },
          {
           "hovertemplate": "<b>%{hovertext}</b><br><br>регіон=Рівненська область<br>рік=2020<br>кількість прибулих=%{x}<br>кількість вибулих=%{y}<extra></extra>",
           "hovertext": [
            "Рівненська область"
           ],
           "ids": [
            "Рівненська область"
           ],
           "legendgroup": "Рівненська область",
           "marker": {
            "color": "#19d3f3",
            "symbol": "circle"
           },
           "mode": "markers",
           "name": "Рівненська область",
           "orientation": "v",
           "showlegend": true,
           "type": "scatter",
           "x": [
            101
           ],
           "xaxis": "x",
           "y": [
            128
           ],
           "yaxis": "y"
          },
          {
           "hovertemplate": "<b>%{hovertext}</b><br><br>регіон=Сумська область<br>рік=2020<br>кількість прибулих=%{x}<br>кількість вибулих=%{y}<extra></extra>",
           "hovertext": [
            "Сумська область"
           ],
           "ids": [
            "Сумська область"
           ],
           "legendgroup": "Сумська область",
           "marker": {
            "color": "#FF6692",
            "symbol": "circle"
           },
           "mode": "markers",
           "name": "Сумська область",
           "orientation": "v",
           "showlegend": true,
           "type": "scatter",
           "x": [
            423
           ],
           "xaxis": "x",
           "y": [
            451
           ],
           "yaxis": "y"
          },
          {
           "hovertemplate": "<b>%{hovertext}</b><br><br>регіон=Тернопільська область<br>рік=2020<br>кількість прибулих=%{x}<br>кількість вибулих=%{y}<extra></extra>",
           "hovertext": [
            "Тернопільська область"
           ],
           "ids": [
            "Тернопільська область"
           ],
           "legendgroup": "Тернопільська область",
           "marker": {
            "color": "#B6E880",
            "symbol": "circle"
           },
           "mode": "markers",
           "name": "Тернопільська область",
           "orientation": "v",
           "showlegend": true,
           "type": "scatter",
           "x": [
            613
           ],
           "xaxis": "x",
           "y": [
            172
           ],
           "yaxis": "y"
          },
          {
           "hovertemplate": "<b>%{hovertext}</b><br><br>регіон=Харківська область<br>рік=2020<br>кількість прибулих=%{x}<br>кількість вибулих=%{y}<extra></extra>",
           "hovertext": [
            "Харківська область"
           ],
           "ids": [
            "Харківська область"
           ],
           "legendgroup": "Харківська область",
           "marker": {
            "color": "#FF97FF",
            "symbol": "circle"
           },
           "mode": "markers",
           "name": "Харківська область",
           "orientation": "v",
           "showlegend": true,
           "type": "scatter",
           "x": [
            5454
           ],
           "xaxis": "x",
           "y": [
            4920
           ],
           "yaxis": "y"
          },
          {
           "hovertemplate": "<b>%{hovertext}</b><br><br>регіон=Херсонська область<br>рік=2020<br>кількість прибулих=%{x}<br>кількість вибулих=%{y}<extra></extra>",
           "hovertext": [
            "Херсонська область"
           ],
           "ids": [
            "Херсонська область"
           ],
           "legendgroup": "Херсонська область",
           "marker": {
            "color": "#FECB52",
            "symbol": "circle"
           },
           "mode": "markers",
           "name": "Херсонська область",
           "orientation": "v",
           "showlegend": true,
           "type": "scatter",
           "x": [
            95
           ],
           "xaxis": "x",
           "y": [
            80
           ],
           "yaxis": "y"
          },
          {
           "hovertemplate": "<b>%{hovertext}</b><br><br>регіон=Хмельницька область<br>рік=2020<br>кількість прибулих=%{x}<br>кількість вибулих=%{y}<extra></extra>",
           "hovertext": [
            "Хмельницька область"
           ],
           "ids": [
            "Хмельницька область"
           ],
           "legendgroup": "Хмельницька область",
           "marker": {
            "color": "#636efa",
            "symbol": "circle"
           },
           "mode": "markers",
           "name": "Хмельницька область",
           "orientation": "v",
           "showlegend": true,
           "type": "scatter",
           "x": [
            322
           ],
           "xaxis": "x",
           "y": [
            107
           ],
           "yaxis": "y"
          },
          {
           "hovertemplate": "<b>%{hovertext}</b><br><br>регіон=Черкаська область<br>рік=2020<br>кількість прибулих=%{x}<br>кількість вибулих=%{y}<extra></extra>",
           "hovertext": [
            "Черкаська область"
           ],
           "ids": [
            "Черкаська область"
           ],
           "legendgroup": "Черкаська область",
           "marker": {
            "color": "#EF553B",
            "symbol": "circle"
           },
           "mode": "markers",
           "name": "Черкаська область",
           "orientation": "v",
           "showlegend": true,
           "type": "scatter",
           "x": [
            234
           ],
           "xaxis": "x",
           "y": [
            217
           ],
           "yaxis": "y"
          },
          {
           "hovertemplate": "<b>%{hovertext}</b><br><br>регіон=Чернівецька область<br>рік=2020<br>кількість прибулих=%{x}<br>кількість вибулих=%{y}<extra></extra>",
           "hovertext": [
            "Чернівецька область"
           ],
           "ids": [
            "Чернівецька область"
           ],
           "legendgroup": "Чернівецька область",
           "marker": {
            "color": "#00cc96",
            "symbol": "circle"
           },
           "mode": "markers",
           "name": "Чернівецька область",
           "orientation": "v",
           "showlegend": true,
           "type": "scatter",
           "x": [
            220
           ],
           "xaxis": "x",
           "y": [
            283
           ],
           "yaxis": "y"
          },
          {
           "hovertemplate": "<b>%{hovertext}</b><br><br>регіон=Чернігівська область<br>рік=2020<br>кількість прибулих=%{x}<br>кількість вибулих=%{y}<extra></extra>",
           "hovertext": [
            "Чернігівська область"
           ],
           "ids": [
            "Чернігівська область"
           ],
           "legendgroup": "Чернігівська область",
           "marker": {
            "color": "#ab63fa",
            "symbol": "circle"
           },
           "mode": "markers",
           "name": "Чернігівська область",
           "orientation": "v",
           "showlegend": true,
           "type": "scatter",
           "x": [
            35
           ],
           "xaxis": "x",
           "y": [
            89
           ],
           "yaxis": "y"
          },
          {
           "hovertemplate": "<b>%{hovertext}</b><br><br>регіон=м.Київ<br>рік=2020<br>кількість прибулих=%{x}<br>кількість вибулих=%{y}<extra></extra>",
           "hovertext": [
            "м.Київ"
           ],
           "ids": [
            "м.Київ"
           ],
           "legendgroup": "м.Київ",
           "marker": {
            "color": "#FFA15A",
            "symbol": "circle"
           },
           "mode": "markers",
           "name": "м.Київ",
           "orientation": "v",
           "showlegend": true,
           "type": "scatter",
           "x": [
            7457
           ],
           "xaxis": "x",
           "y": [
            7016
           ],
           "yaxis": "y"
          }
         ],
         "name": "2020"
        },
        {
         "data": [
          {
           "hovertemplate": "<b>%{hovertext}</b><br><br>регіон=Вінницька область<br>рік=2021<br>кількість прибулих=%{x}<br>кількість вибулих=%{y}<extra></extra>",
           "hovertext": [
            "Вінницька область"
           ],
           "ids": [
            "Вінницька область"
           ],
           "legendgroup": "Вінницька область",
           "marker": {
            "color": "#636efa",
            "symbol": "circle"
           },
           "mode": "markers",
           "name": "Вінницька область",
           "orientation": "v",
           "showlegend": true,
           "type": "scatter",
           "x": [
            439
           ],
           "xaxis": "x",
           "y": [
            357
           ],
           "yaxis": "y"
          },
          {
           "hovertemplate": "<b>%{hovertext}</b><br><br>регіон=Волинська область<br>рік=2021<br>кількість прибулих=%{x}<br>кількість вибулих=%{y}<extra></extra>",
           "hovertext": [
            "Волинська область"
           ],
           "ids": [
            "Волинська область"
           ],
           "legendgroup": "Волинська область",
           "marker": {
            "color": "#EF553B",
            "symbol": "circle"
           },
           "mode": "markers",
           "name": "Волинська область",
           "orientation": "v",
           "showlegend": true,
           "type": "scatter",
           "x": [
            95
           ],
           "xaxis": "x",
           "y": [
            150
           ],
           "yaxis": "y"
          },
          {
           "hovertemplate": "<b>%{hovertext}</b><br><br>регіон=Дніпропетровська область<br>рік=2021<br>кількість прибулих=%{x}<br>кількість вибулих=%{y}<extra></extra>",
           "hovertext": [
            "Дніпропетровська область"
           ],
           "ids": [
            "Дніпропетровська область"
           ],
           "legendgroup": "Дніпропетровська область",
           "marker": {
            "color": "#00cc96",
            "symbol": "circle"
           },
           "mode": "markers",
           "name": "Дніпропетровська область",
           "orientation": "v",
           "showlegend": true,
           "type": "scatter",
           "x": [
            2197
           ],
           "xaxis": "x",
           "y": [
            884
           ],
           "yaxis": "y"
          },
          {
           "hovertemplate": "<b>%{hovertext}</b><br><br>регіон=Донецька область<br>рік=2021<br>кількість прибулих=%{x}<br>кількість вибулих=%{y}<extra></extra>",
           "hovertext": [
            "Донецька область"
           ],
           "ids": [
            "Донецька область"
           ],
           "legendgroup": "Донецька область",
           "marker": {
            "color": "#ab63fa",
            "symbol": "circle"
           },
           "mode": "markers",
           "name": "Донецька область",
           "orientation": "v",
           "showlegend": true,
           "type": "scatter",
           "x": [
            593
           ],
           "xaxis": "x",
           "y": [
            581
           ],
           "yaxis": "y"
          },
          {
           "hovertemplate": "<b>%{hovertext}</b><br><br>регіон=Житомирська область<br>рік=2021<br>кількість прибулих=%{x}<br>кількість вибулих=%{y}<extra></extra>",
           "hovertext": [
            "Житомирська область"
           ],
           "ids": [
            "Житомирська область"
           ],
           "legendgroup": "Житомирська область",
           "marker": {
            "color": "#FFA15A",
            "symbol": "circle"
           },
           "mode": "markers",
           "name": "Житомирська область",
           "orientation": "v",
           "showlegend": true,
           "type": "scatter",
           "x": [
            343
           ],
           "xaxis": "x",
           "y": [
            132
           ],
           "yaxis": "y"
          },
          {
           "hovertemplate": "<b>%{hovertext}</b><br><br>регіон=Закарпатська область<br>рік=2021<br>кількість прибулих=%{x}<br>кількість вибулих=%{y}<extra></extra>",
           "hovertext": [
            "Закарпатська область"
           ],
           "ids": [
            "Закарпатська область"
           ],
           "legendgroup": "Закарпатська область",
           "marker": {
            "color": "#19d3f3",
            "symbol": "circle"
           },
           "mode": "markers",
           "name": "Закарпатська область",
           "orientation": "v",
           "showlegend": true,
           "type": "scatter",
           "x": [
            695
           ],
           "xaxis": "x",
           "y": [
            282
           ],
           "yaxis": "y"
          },
          {
           "hovertemplate": "<b>%{hovertext}</b><br><br>регіон=Запорізька область<br>рік=2021<br>кількість прибулих=%{x}<br>кількість вибулих=%{y}<extra></extra>",
           "hovertext": [
            "Запорізька область"
           ],
           "ids": [
            "Запорізька область"
           ],
           "legendgroup": "Запорізька область",
           "marker": {
            "color": "#FF6692",
            "symbol": "circle"
           },
           "mode": "markers",
           "name": "Запорізька область",
           "orientation": "v",
           "showlegend": true,
           "type": "scatter",
           "x": [
            906
           ],
           "xaxis": "x",
           "y": [
            596
           ],
           "yaxis": "y"
          },
          {
           "hovertemplate": "<b>%{hovertext}</b><br><br>регіон=Івано-Франківська область<br>рік=2021<br>кількість прибулих=%{x}<br>кількість вибулих=%{y}<extra></extra>",
           "hovertext": [
            "Івано-Франківська область"
           ],
           "ids": [
            "Івано-Франківська область"
           ],
           "legendgroup": "Івано-Франківська область",
           "marker": {
            "color": "#B6E880",
            "symbol": "circle"
           },
           "mode": "markers",
           "name": "Івано-Франківська область",
           "orientation": "v",
           "showlegend": true,
           "type": "scatter",
           "x": [
            450
           ],
           "xaxis": "x",
           "y": [
            363
           ],
           "yaxis": "y"
          },
          {
           "hovertemplate": "<b>%{hovertext}</b><br><br>регіон=Київська область<br>рік=2021<br>кількість прибулих=%{x}<br>кількість вибулих=%{y}<extra></extra>",
           "hovertext": [
            "Київська область"
           ],
           "ids": [
            "Київська область"
           ],
           "legendgroup": "Київська область",
           "marker": {
            "color": "#FF97FF",
            "symbol": "circle"
           },
           "mode": "markers",
           "name": "Київська область",
           "orientation": "v",
           "showlegend": true,
           "type": "scatter",
           "x": [
            1711
           ],
           "xaxis": "x",
           "y": [
            348
           ],
           "yaxis": "y"
          },
          {
           "hovertemplate": "<b>%{hovertext}</b><br><br>регіон=Кіровоградська область<br>рік=2021<br>кількість прибулих=%{x}<br>кількість вибулих=%{y}<extra></extra>",
           "hovertext": [
            "Кіровоградська область"
           ],
           "ids": [
            "Кіровоградська область"
           ],
           "legendgroup": "Кіровоградська область",
           "marker": {
            "color": "#FECB52",
            "symbol": "circle"
           },
           "mode": "markers",
           "name": "Кіровоградська область",
           "orientation": "v",
           "showlegend": true,
           "type": "scatter",
           "x": [
            88
           ],
           "xaxis": "x",
           "y": [
            128
           ],
           "yaxis": "y"
          },
          {
           "hovertemplate": "<b>%{hovertext}</b><br><br>регіон=Луганська область<br>рік=2021<br>кількість прибулих=%{x}<br>кількість вибулих=%{y}<extra></extra>",
           "hovertext": [
            "Луганська область"
           ],
           "ids": [
            "Луганська область"
           ],
           "legendgroup": "Луганська область",
           "marker": {
            "color": "#636efa",
            "symbol": "circle"
           },
           "mode": "markers",
           "name": "Луганська область",
           "orientation": "v",
           "showlegend": true,
           "type": "scatter",
           "x": [
            287
           ],
           "xaxis": "x",
           "y": [
            257
           ],
           "yaxis": "y"
          },
          {
           "hovertemplate": "<b>%{hovertext}</b><br><br>регіон=Львівська область<br>рік=2021<br>кількість прибулих=%{x}<br>кількість вибулих=%{y}<extra></extra>",
           "hovertext": [
            "Львівська область"
           ],
           "ids": [
            "Львівська область"
           ],
           "legendgroup": "Львівська область",
           "marker": {
            "color": "#EF553B",
            "symbol": "circle"
           },
           "mode": "markers",
           "name": "Львівська область",
           "orientation": "v",
           "showlegend": true,
           "type": "scatter",
           "x": [
            912
           ],
           "xaxis": "x",
           "y": [
            677
           ],
           "yaxis": "y"
          },
          {
           "hovertemplate": "<b>%{hovertext}</b><br><br>регіон=Миколаївська область<br>рік=2021<br>кількість прибулих=%{x}<br>кількість вибулих=%{y}<extra></extra>",
           "hovertext": [
            "Миколаївська область"
           ],
           "ids": [
            "Миколаївська область"
           ],
           "legendgroup": "Миколаївська область",
           "marker": {
            "color": "#00cc96",
            "symbol": "circle"
           },
           "mode": "markers",
           "name": "Миколаївська область",
           "orientation": "v",
           "showlegend": true,
           "type": "scatter",
           "x": [
            406
           ],
           "xaxis": "x",
           "y": [
            479
           ],
           "yaxis": "y"
          },
          {
           "hovertemplate": "<b>%{hovertext}</b><br><br>регіон=Одеська область<br>рік=2021<br>кількість прибулих=%{x}<br>кількість вибулих=%{y}<extra></extra>",
           "hovertext": [
            "Одеська область"
           ],
           "ids": [
            "Одеська область"
           ],
           "legendgroup": "Одеська область",
           "marker": {
            "color": "#ab63fa",
            "symbol": "circle"
           },
           "mode": "markers",
           "name": "Одеська область",
           "orientation": "v",
           "showlegend": true,
           "type": "scatter",
           "x": [
            2425
           ],
           "xaxis": "x",
           "y": [
            249
           ],
           "yaxis": "y"
          },
          {
           "hovertemplate": "<b>%{hovertext}</b><br><br>регіон=Полтавська область<br>рік=2021<br>кількість прибулих=%{x}<br>кількість вибулих=%{y}<extra></extra>",
           "hovertext": [
            "Полтавська область"
           ],
           "ids": [
            "Полтавська область"
           ],
           "legendgroup": "Полтавська область",
           "marker": {
            "color": "#FFA15A",
            "symbol": "circle"
           },
           "mode": "markers",
           "name": "Полтавська область",
           "orientation": "v",
           "showlegend": true,
           "type": "scatter",
           "x": [
            1327
           ],
           "xaxis": "x",
           "y": [
            831
           ],
           "yaxis": "y"
          },
          {
           "hovertemplate": "<b>%{hovertext}</b><br><br>регіон=Рівненська область<br>рік=2021<br>кількість прибулих=%{x}<br>кількість вибулих=%{y}<extra></extra>",
           "hovertext": [
            "Рівненська область"
           ],
           "ids": [
            "Рівненська область"
           ],
           "legendgroup": "Рівненська область",
           "marker": {
            "color": "#19d3f3",
            "symbol": "circle"
           },
           "mode": "markers",
           "name": "Рівненська область",
           "orientation": "v",
           "showlegend": true,
           "type": "scatter",
           "x": [
            202
           ],
           "xaxis": "x",
           "y": [
            258
           ],
           "yaxis": "y"
          },
          {
           "hovertemplate": "<b>%{hovertext}</b><br><br>регіон=Сумська область<br>рік=2021<br>кількість прибулих=%{x}<br>кількість вибулих=%{y}<extra></extra>",
           "hovertext": [
            "Сумська область"
           ],
           "ids": [
            "Сумська область"
           ],
           "legendgroup": "Сумська область",
           "marker": {
            "color": "#FF6692",
            "symbol": "circle"
           },
           "mode": "markers",
           "name": "Сумська область",
           "orientation": "v",
           "showlegend": true,
           "type": "scatter",
           "x": [
            533
           ],
           "xaxis": "x",
           "y": [
            562
           ],
           "yaxis": "y"
          },
          {
           "hovertemplate": "<b>%{hovertext}</b><br><br>регіон=Тернопільська область<br>рік=2021<br>кількість прибулих=%{x}<br>кількість вибулих=%{y}<extra></extra>",
           "hovertext": [
            "Тернопільська область"
           ],
           "ids": [
            "Тернопільська область"
           ],
           "legendgroup": "Тернопільська область",
           "marker": {
            "color": "#B6E880",
            "symbol": "circle"
           },
           "mode": "markers",
           "name": "Тернопільська область",
           "orientation": "v",
           "showlegend": true,
           "type": "scatter",
           "x": [
            1066
           ],
           "xaxis": "x",
           "y": [
            216
           ],
           "yaxis": "y"
          },
          {
           "hovertemplate": "<b>%{hovertext}</b><br><br>регіон=Харківська область<br>рік=2021<br>кількість прибулих=%{x}<br>кількість вибулих=%{y}<extra></extra>",
           "hovertext": [
            "Харківська область"
           ],
           "ids": [
            "Харківська область"
           ],
           "legendgroup": "Харківська область",
           "marker": {
            "color": "#FF97FF",
            "symbol": "circle"
           },
           "mode": "markers",
           "name": "Харківська область",
           "orientation": "v",
           "showlegend": true,
           "type": "scatter",
           "x": [
            6746
           ],
           "xaxis": "x",
           "y": [
            5155
           ],
           "yaxis": "y"
          },
          {
           "hovertemplate": "<b>%{hovertext}</b><br><br>регіон=Херсонська область<br>рік=2021<br>кількість прибулих=%{x}<br>кількість вибулих=%{y}<extra></extra>",
           "hovertext": [
            "Херсонська область"
           ],
           "ids": [
            "Херсонська область"
           ],
           "legendgroup": "Херсонська область",
           "marker": {
            "color": "#FECB52",
            "symbol": "circle"
           },
           "mode": "markers",
           "name": "Херсонська область",
           "orientation": "v",
           "showlegend": true,
           "type": "scatter",
           "x": [
            51
           ],
           "xaxis": "x",
           "y": [
            131
           ],
           "yaxis": "y"
          },
          {
           "hovertemplate": "<b>%{hovertext}</b><br><br>регіон=Хмельницька область<br>рік=2021<br>кількість прибулих=%{x}<br>кількість вибулих=%{y}<extra></extra>",
           "hovertext": [
            "Хмельницька область"
           ],
           "ids": [
            "Хмельницька область"
           ],
           "legendgroup": "Хмельницька область",
           "marker": {
            "color": "#636efa",
            "symbol": "circle"
           },
           "mode": "markers",
           "name": "Хмельницька область",
           "orientation": "v",
           "showlegend": true,
           "type": "scatter",
           "x": [
            484
           ],
           "xaxis": "x",
           "y": [
            143
           ],
           "yaxis": "y"
          },
          {
           "hovertemplate": "<b>%{hovertext}</b><br><br>регіон=Черкаська область<br>рік=2021<br>кількість прибулих=%{x}<br>кількість вибулих=%{y}<extra></extra>",
           "hovertext": [
            "Черкаська область"
           ],
           "ids": [
            "Черкаська область"
           ],
           "legendgroup": "Черкаська область",
           "marker": {
            "color": "#EF553B",
            "symbol": "circle"
           },
           "mode": "markers",
           "name": "Черкаська область",
           "orientation": "v",
           "showlegend": true,
           "type": "scatter",
           "x": [
            398
           ],
           "xaxis": "x",
           "y": [
            230
           ],
           "yaxis": "y"
          },
          {
           "hovertemplate": "<b>%{hovertext}</b><br><br>регіон=Чернівецька область<br>рік=2021<br>кількість прибулих=%{x}<br>кількість вибулих=%{y}<extra></extra>",
           "hovertext": [
            "Чернівецька область"
           ],
           "ids": [
            "Чернівецька область"
           ],
           "legendgroup": "Чернівецька область",
           "marker": {
            "color": "#00cc96",
            "symbol": "circle"
           },
           "mode": "markers",
           "name": "Чернівецька область",
           "orientation": "v",
           "showlegend": true,
           "type": "scatter",
           "x": [
            900
           ],
           "xaxis": "x",
           "y": [
            352
           ],
           "yaxis": "y"
          },
          {
           "hovertemplate": "<b>%{hovertext}</b><br><br>регіон=Чернігівська область<br>рік=2021<br>кількість прибулих=%{x}<br>кількість вибулих=%{y}<extra></extra>",
           "hovertext": [
            "Чернігівська область"
           ],
           "ids": [
            "Чернігівська область"
           ],
           "legendgroup": "Чернігівська область",
           "marker": {
            "color": "#ab63fa",
            "symbol": "circle"
           },
           "mode": "markers",
           "name": "Чернігівська область",
           "orientation": "v",
           "showlegend": true,
           "type": "scatter",
           "x": [
            24
           ],
           "xaxis": "x",
           "y": [
            74
           ],
           "yaxis": "y"
          },
          {
           "hovertemplate": "<b>%{hovertext}</b><br><br>регіон=м.Київ<br>рік=2021<br>кількість прибулих=%{x}<br>кількість вибулих=%{y}<extra></extra>",
           "hovertext": [
            "м.Київ"
           ],
           "ids": [
            "м.Київ"
           ],
           "legendgroup": "м.Київ",
           "marker": {
            "color": "#FFA15A",
            "symbol": "circle"
           },
           "mode": "markers",
           "name": "м.Київ",
           "orientation": "v",
           "showlegend": true,
           "type": "scatter",
           "x": [
            13147
           ],
           "xaxis": "x",
           "y": [
            7007
           ],
           "yaxis": "y"
          }
         ],
         "name": "2021"
        }
       ],
       "layout": {
        "legend": {
         "title": {
          "text": "регіон"
         },
         "tracegroupgap": 0
        },
        "sliders": [
         {
          "active": 0,
          "currentvalue": {
           "prefix": "рік="
          },
          "len": 0.9,
          "pad": {
           "b": 10,
           "t": 60
          },
          "steps": [
           {
            "args": [
             [
              "2019"
             ],
             {
              "frame": {
               "duration": 0,
               "redraw": false
              },
              "fromcurrent": true,
              "mode": "immediate",
              "transition": {
               "duration": 0,
               "easing": "linear"
              }
             }
            ],
            "label": "2019",
            "method": "animate"
           },
           {
            "args": [
             [
              "2020"
             ],
             {
              "frame": {
               "duration": 0,
               "redraw": false
              },
              "fromcurrent": true,
              "mode": "immediate",
              "transition": {
               "duration": 0,
               "easing": "linear"
              }
             }
            ],
            "label": "2020",
            "method": "animate"
           },
           {
            "args": [
             [
              "2021"
             ],
             {
              "frame": {
               "duration": 0,
               "redraw": false
              },
              "fromcurrent": true,
              "mode": "immediate",
              "transition": {
               "duration": 0,
               "easing": "linear"
              }
             }
            ],
            "label": "2021",
            "method": "animate"
           }
          ],
          "x": 0.1,
          "xanchor": "left",
          "y": 0,
          "yanchor": "top"
         }
        ],
        "template": {
         "data": {
          "bar": [
           {
            "error_x": {
             "color": "#2a3f5f"
            },
            "error_y": {
             "color": "#2a3f5f"
            },
            "marker": {
             "line": {
              "color": "#E5ECF6",
              "width": 0.5
             },
             "pattern": {
              "fillmode": "overlay",
              "size": 10,
              "solidity": 0.2
             }
            },
            "type": "bar"
           }
          ],
          "barpolar": [
           {
            "marker": {
             "line": {
              "color": "#E5ECF6",
              "width": 0.5
             },
             "pattern": {
              "fillmode": "overlay",
              "size": 10,
              "solidity": 0.2
             }
            },
            "type": "barpolar"
           }
          ],
          "carpet": [
           {
            "aaxis": {
             "endlinecolor": "#2a3f5f",
             "gridcolor": "white",
             "linecolor": "white",
             "minorgridcolor": "white",
             "startlinecolor": "#2a3f5f"
            },
            "baxis": {
             "endlinecolor": "#2a3f5f",
             "gridcolor": "white",
             "linecolor": "white",
             "minorgridcolor": "white",
             "startlinecolor": "#2a3f5f"
            },
            "type": "carpet"
           }
          ],
          "choropleth": [
           {
            "colorbar": {
             "outlinewidth": 0,
             "ticks": ""
            },
            "type": "choropleth"
           }
          ],
          "contour": [
           {
            "colorbar": {
             "outlinewidth": 0,
             "ticks": ""
            },
            "colorscale": [
             [
              0,
              "#0d0887"
             ],
             [
              0.1111111111111111,
              "#46039f"
             ],
             [
              0.2222222222222222,
              "#7201a8"
             ],
             [
              0.3333333333333333,
              "#9c179e"
             ],
             [
              0.4444444444444444,
              "#bd3786"
             ],
             [
              0.5555555555555556,
              "#d8576b"
             ],
             [
              0.6666666666666666,
              "#ed7953"
             ],
             [
              0.7777777777777778,
              "#fb9f3a"
             ],
             [
              0.8888888888888888,
              "#fdca26"
             ],
             [
              1,
              "#f0f921"
             ]
            ],
            "type": "contour"
           }
          ],
          "contourcarpet": [
           {
            "colorbar": {
             "outlinewidth": 0,
             "ticks": ""
            },
            "type": "contourcarpet"
           }
          ],
          "heatmap": [
           {
            "colorbar": {
             "outlinewidth": 0,
             "ticks": ""
            },
            "colorscale": [
             [
              0,
              "#0d0887"
             ],
             [
              0.1111111111111111,
              "#46039f"
             ],
             [
              0.2222222222222222,
              "#7201a8"
             ],
             [
              0.3333333333333333,
              "#9c179e"
             ],
             [
              0.4444444444444444,
              "#bd3786"
             ],
             [
              0.5555555555555556,
              "#d8576b"
             ],
             [
              0.6666666666666666,
              "#ed7953"
             ],
             [
              0.7777777777777778,
              "#fb9f3a"
             ],
             [
              0.8888888888888888,
              "#fdca26"
             ],
             [
              1,
              "#f0f921"
             ]
            ],
            "type": "heatmap"
           }
          ],
          "heatmapgl": [
           {
            "colorbar": {
             "outlinewidth": 0,
             "ticks": ""
            },
            "colorscale": [
             [
              0,
              "#0d0887"
             ],
             [
              0.1111111111111111,
              "#46039f"
             ],
             [
              0.2222222222222222,
              "#7201a8"
             ],
             [
              0.3333333333333333,
              "#9c179e"
             ],
             [
              0.4444444444444444,
              "#bd3786"
             ],
             [
              0.5555555555555556,
              "#d8576b"
             ],
             [
              0.6666666666666666,
              "#ed7953"
             ],
             [
              0.7777777777777778,
              "#fb9f3a"
             ],
             [
              0.8888888888888888,
              "#fdca26"
             ],
             [
              1,
              "#f0f921"
             ]
            ],
            "type": "heatmapgl"
           }
          ],
          "histogram": [
           {
            "marker": {
             "pattern": {
              "fillmode": "overlay",
              "size": 10,
              "solidity": 0.2
             }
            },
            "type": "histogram"
           }
          ],
          "histogram2d": [
           {
            "colorbar": {
             "outlinewidth": 0,
             "ticks": ""
            },
            "colorscale": [
             [
              0,
              "#0d0887"
             ],
             [
              0.1111111111111111,
              "#46039f"
             ],
             [
              0.2222222222222222,
              "#7201a8"
             ],
             [
              0.3333333333333333,
              "#9c179e"
             ],
             [
              0.4444444444444444,
              "#bd3786"
             ],
             [
              0.5555555555555556,
              "#d8576b"
             ],
             [
              0.6666666666666666,
              "#ed7953"
             ],
             [
              0.7777777777777778,
              "#fb9f3a"
             ],
             [
              0.8888888888888888,
              "#fdca26"
             ],
             [
              1,
              "#f0f921"
             ]
            ],
            "type": "histogram2d"
           }
          ],
          "histogram2dcontour": [
           {
            "colorbar": {
             "outlinewidth": 0,
             "ticks": ""
            },
            "colorscale": [
             [
              0,
              "#0d0887"
             ],
             [
              0.1111111111111111,
              "#46039f"
             ],
             [
              0.2222222222222222,
              "#7201a8"
             ],
             [
              0.3333333333333333,
              "#9c179e"
             ],
             [
              0.4444444444444444,
              "#bd3786"
             ],
             [
              0.5555555555555556,
              "#d8576b"
             ],
             [
              0.6666666666666666,
              "#ed7953"
             ],
             [
              0.7777777777777778,
              "#fb9f3a"
             ],
             [
              0.8888888888888888,
              "#fdca26"
             ],
             [
              1,
              "#f0f921"
             ]
            ],
            "type": "histogram2dcontour"
           }
          ],
          "mesh3d": [
           {
            "colorbar": {
             "outlinewidth": 0,
             "ticks": ""
            },
            "type": "mesh3d"
           }
          ],
          "parcoords": [
           {
            "line": {
             "colorbar": {
              "outlinewidth": 0,
              "ticks": ""
             }
            },
            "type": "parcoords"
           }
          ],
          "pie": [
           {
            "automargin": true,
            "type": "pie"
           }
          ],
          "scatter": [
           {
            "fillpattern": {
             "fillmode": "overlay",
             "size": 10,
             "solidity": 0.2
            },
            "type": "scatter"
           }
          ],
          "scatter3d": [
           {
            "line": {
             "colorbar": {
              "outlinewidth": 0,
              "ticks": ""
             }
            },
            "marker": {
             "colorbar": {
              "outlinewidth": 0,
              "ticks": ""
             }
            },
            "type": "scatter3d"
           }
          ],
          "scattercarpet": [
           {
            "marker": {
             "colorbar": {
              "outlinewidth": 0,
              "ticks": ""
             }
            },
            "type": "scattercarpet"
           }
          ],
          "scattergeo": [
           {
            "marker": {
             "colorbar": {
              "outlinewidth": 0,
              "ticks": ""
             }
            },
            "type": "scattergeo"
           }
          ],
          "scattergl": [
           {
            "marker": {
             "colorbar": {
              "outlinewidth": 0,
              "ticks": ""
             }
            },
            "type": "scattergl"
           }
          ],
          "scattermapbox": [
           {
            "marker": {
             "colorbar": {
              "outlinewidth": 0,
              "ticks": ""
             }
            },
            "type": "scattermapbox"
           }
          ],
          "scatterpolar": [
           {
            "marker": {
             "colorbar": {
              "outlinewidth": 0,
              "ticks": ""
             }
            },
            "type": "scatterpolar"
           }
          ],
          "scatterpolargl": [
           {
            "marker": {
             "colorbar": {
              "outlinewidth": 0,
              "ticks": ""
             }
            },
            "type": "scatterpolargl"
           }
          ],
          "scatterternary": [
           {
            "marker": {
             "colorbar": {
              "outlinewidth": 0,
              "ticks": ""
             }
            },
            "type": "scatterternary"
           }
          ],
          "surface": [
           {
            "colorbar": {
             "outlinewidth": 0,
             "ticks": ""
            },
            "colorscale": [
             [
              0,
              "#0d0887"
             ],
             [
              0.1111111111111111,
              "#46039f"
             ],
             [
              0.2222222222222222,
              "#7201a8"
             ],
             [
              0.3333333333333333,
              "#9c179e"
             ],
             [
              0.4444444444444444,
              "#bd3786"
             ],
             [
              0.5555555555555556,
              "#d8576b"
             ],
             [
              0.6666666666666666,
              "#ed7953"
             ],
             [
              0.7777777777777778,
              "#fb9f3a"
             ],
             [
              0.8888888888888888,
              "#fdca26"
             ],
             [
              1,
              "#f0f921"
             ]
            ],
            "type": "surface"
           }
          ],
          "table": [
           {
            "cells": {
             "fill": {
              "color": "#EBF0F8"
             },
             "line": {
              "color": "white"
             }
            },
            "header": {
             "fill": {
              "color": "#C8D4E3"
             },
             "line": {
              "color": "white"
             }
            },
            "type": "table"
           }
          ]
         },
         "layout": {
          "annotationdefaults": {
           "arrowcolor": "#2a3f5f",
           "arrowhead": 0,
           "arrowwidth": 1
          },
          "autotypenumbers": "strict",
          "coloraxis": {
           "colorbar": {
            "outlinewidth": 0,
            "ticks": ""
           }
          },
          "colorscale": {
           "diverging": [
            [
             0,
             "#8e0152"
            ],
            [
             0.1,
             "#c51b7d"
            ],
            [
             0.2,
             "#de77ae"
            ],
            [
             0.3,
             "#f1b6da"
            ],
            [
             0.4,
             "#fde0ef"
            ],
            [
             0.5,
             "#f7f7f7"
            ],
            [
             0.6,
             "#e6f5d0"
            ],
            [
             0.7,
             "#b8e186"
            ],
            [
             0.8,
             "#7fbc41"
            ],
            [
             0.9,
             "#4d9221"
            ],
            [
             1,
             "#276419"
            ]
           ],
           "sequential": [
            [
             0,
             "#0d0887"
            ],
            [
             0.1111111111111111,
             "#46039f"
            ],
            [
             0.2222222222222222,
             "#7201a8"
            ],
            [
             0.3333333333333333,
             "#9c179e"
            ],
            [
             0.4444444444444444,
             "#bd3786"
            ],
            [
             0.5555555555555556,
             "#d8576b"
            ],
            [
             0.6666666666666666,
             "#ed7953"
            ],
            [
             0.7777777777777778,
             "#fb9f3a"
            ],
            [
             0.8888888888888888,
             "#fdca26"
            ],
            [
             1,
             "#f0f921"
            ]
           ],
           "sequentialminus": [
            [
             0,
             "#0d0887"
            ],
            [
             0.1111111111111111,
             "#46039f"
            ],
            [
             0.2222222222222222,
             "#7201a8"
            ],
            [
             0.3333333333333333,
             "#9c179e"
            ],
            [
             0.4444444444444444,
             "#bd3786"
            ],
            [
             0.5555555555555556,
             "#d8576b"
            ],
            [
             0.6666666666666666,
             "#ed7953"
            ],
            [
             0.7777777777777778,
             "#fb9f3a"
            ],
            [
             0.8888888888888888,
             "#fdca26"
            ],
            [
             1,
             "#f0f921"
            ]
           ]
          },
          "colorway": [
           "#636efa",
           "#EF553B",
           "#00cc96",
           "#ab63fa",
           "#FFA15A",
           "#19d3f3",
           "#FF6692",
           "#B6E880",
           "#FF97FF",
           "#FECB52"
          ],
          "font": {
           "color": "#2a3f5f"
          },
          "geo": {
           "bgcolor": "white",
           "lakecolor": "white",
           "landcolor": "#E5ECF6",
           "showlakes": true,
           "showland": true,
           "subunitcolor": "white"
          },
          "hoverlabel": {
           "align": "left"
          },
          "hovermode": "closest",
          "mapbox": {
           "style": "light"
          },
          "paper_bgcolor": "white",
          "plot_bgcolor": "#E5ECF6",
          "polar": {
           "angularaxis": {
            "gridcolor": "white",
            "linecolor": "white",
            "ticks": ""
           },
           "bgcolor": "#E5ECF6",
           "radialaxis": {
            "gridcolor": "white",
            "linecolor": "white",
            "ticks": ""
           }
          },
          "scene": {
           "xaxis": {
            "backgroundcolor": "#E5ECF6",
            "gridcolor": "white",
            "gridwidth": 2,
            "linecolor": "white",
            "showbackground": true,
            "ticks": "",
            "zerolinecolor": "white"
           },
           "yaxis": {
            "backgroundcolor": "#E5ECF6",
            "gridcolor": "white",
            "gridwidth": 2,
            "linecolor": "white",
            "showbackground": true,
            "ticks": "",
            "zerolinecolor": "white"
           },
           "zaxis": {
            "backgroundcolor": "#E5ECF6",
            "gridcolor": "white",
            "gridwidth": 2,
            "linecolor": "white",
            "showbackground": true,
            "ticks": "",
            "zerolinecolor": "white"
           }
          },
          "shapedefaults": {
           "line": {
            "color": "#2a3f5f"
           }
          },
          "ternary": {
           "aaxis": {
            "gridcolor": "white",
            "linecolor": "white",
            "ticks": ""
           },
           "baxis": {
            "gridcolor": "white",
            "linecolor": "white",
            "ticks": ""
           },
           "bgcolor": "#E5ECF6",
           "caxis": {
            "gridcolor": "white",
            "linecolor": "white",
            "ticks": ""
           }
          },
          "title": {
           "x": 0.05
          },
          "xaxis": {
           "automargin": true,
           "gridcolor": "white",
           "linecolor": "white",
           "ticks": "",
           "title": {
            "standoff": 15
           },
           "zerolinecolor": "white",
           "zerolinewidth": 2
          },
          "yaxis": {
           "automargin": true,
           "gridcolor": "white",
           "linecolor": "white",
           "ticks": "",
           "title": {
            "standoff": 15
           },
           "zerolinecolor": "white",
           "zerolinewidth": 2
          }
         }
        },
        "title": {
         "text": "Співвідношення міждержавних мігрантів в міській місцевості"
        },
        "updatemenus": [
         {
          "buttons": [
           {
            "args": [
             null,
             {
              "frame": {
               "duration": 500,
               "redraw": false
              },
              "fromcurrent": true,
              "mode": "immediate",
              "transition": {
               "duration": 500,
               "easing": "linear"
              }
             }
            ],
            "label": "&#9654;",
            "method": "animate"
           },
           {
            "args": [
             [
              null
             ],
             {
              "frame": {
               "duration": 0,
               "redraw": false
              },
              "fromcurrent": true,
              "mode": "immediate",
              "transition": {
               "duration": 0,
               "easing": "linear"
              }
             }
            ],
            "label": "&#9724;",
            "method": "animate"
           }
          ],
          "direction": "left",
          "pad": {
           "r": 10,
           "t": 70
          },
          "showactive": false,
          "type": "buttons",
          "x": 0.1,
          "xanchor": "right",
          "y": 0,
          "yanchor": "top"
         }
        ],
        "xaxis": {
         "anchor": "y",
         "domain": [
          0,
          1
         ],
         "title": {
          "text": "кількість прибулих"
         },
         "type": "log"
        },
        "yaxis": {
         "anchor": "x",
         "domain": [
          0,
          1
         ],
         "title": {
          "text": "кількість вибулих"
         }
        }
       }
      }
     },
     "metadata": {},
     "output_type": "display_data"
    }
   ],
   "source": [
    "px.scatter(crosscountry_migration, x=\"кількість прибулих\", y=\"кількість вибулих\", animation_frame=\"рік\", \n",
    "           animation_group=\"регіон\", color=\"регіон\", hover_name=\"регіон\",\n",
    "           log_x=True, size_max=55, title='Співвідношення міждержавних мігрантів в міській місцевості')"
   ]
  },
  {
   "attachments": {},
   "cell_type": "markdown",
   "metadata": {},
   "source": [
    "Теплова мапа, що відображає загальний міграційний приріс міських місцевостей кодної області."
   ]
  },
  {
   "cell_type": "code",
   "execution_count": 7,
   "metadata": {},
   "outputs": [
    {
     "data": {
      "application/vnd.plotly.v1+json": {
       "config": {
        "plotlyServerURL": "https://plot.ly"
       },
       "data": [
        {
         "coloraxis": "coloraxis",
         "histfunc": "sum",
         "hovertemplate": "рік=%{x}<br>регіон=%{y}<br>sum of міграційний приріст, скорочення (-)=%{z}<extra></extra>",
         "name": "",
         "type": "histogram2d",
         "x": [
          2019,
          2019,
          2019,
          2019,
          2019,
          2019,
          2019,
          2019,
          2019,
          2019,
          2019,
          2019,
          2019,
          2019,
          2019,
          2019,
          2019,
          2019,
          2019,
          2019,
          2019,
          2019,
          2019,
          2019,
          2019,
          2020,
          2020,
          2020,
          2020,
          2020,
          2020,
          2020,
          2020,
          2020,
          2020,
          2020,
          2020,
          2020,
          2020,
          2020,
          2020,
          2020,
          2020,
          2020,
          2020,
          2020,
          2020,
          2020,
          2020,
          2020,
          2021,
          2021,
          2021,
          2021,
          2021,
          2021,
          2021,
          2021,
          2021,
          2021,
          2021,
          2021,
          2021,
          2021,
          2021,
          2021,
          2021,
          2021,
          2021,
          2021,
          2021,
          2021,
          2021,
          2021,
          2021
         ],
         "xaxis": "x",
         "xbingroup": "x",
         "y": [
          "Вінницька область",
          "Волинська область",
          "Дніпропетровська область",
          "Донецька область",
          "Житомирська область",
          "Закарпатська область",
          "Запорізька область",
          "Івано-Франківська область",
          "Київська область",
          "Кіровоградська область",
          "Луганська область",
          "Львівська область",
          "Миколаївська область",
          "Одеська область",
          "Полтавська область",
          "Рівненська область",
          "Сумська область",
          "Тернопільська область",
          "Харківська область",
          "Херсонська область",
          "Хмельницька область",
          "Черкаська область",
          "Чернівецька область",
          "Чернігівська область",
          "м.Київ",
          "Вінницька область",
          "Волинська область",
          "Дніпропетровська область",
          "Донецька область",
          "Житомирська область",
          "Закарпатська область",
          "Запорізька область",
          "Івано-Франківська область",
          "Київська область",
          "Кіровоградська область",
          "Луганська область",
          "Львівська область",
          "Миколаївська область",
          "Одеська область",
          "Полтавська область",
          "Рівненська область",
          "Сумська область",
          "Тернопільська область",
          "Харківська область",
          "Херсонська область",
          "Хмельницька область",
          "Черкаська область",
          "Чернівецька область",
          "Чернігівська область",
          "м.Київ",
          "Вінницька область",
          "Волинська область",
          "Дніпропетровська область",
          "Донецька область",
          "Житомирська область",
          "Закарпатська область",
          "Запорізька область",
          "Івано-Франківська область",
          "Київська область",
          "Кіровоградська область",
          "Луганська область",
          "Львівська область",
          "Миколаївська область",
          "Одеська область",
          "Полтавська область",
          "Рівненська область",
          "Сумська область",
          "Тернопільська область",
          "Харківська область",
          "Херсонська область",
          "Хмельницька область",
          "Черкаська область",
          "Чернівецька область",
          "Чернігівська область",
          "м.Київ"
         ],
         "yaxis": "y",
         "ybingroup": "y",
         "z": [
          823,
          -317,
          1322,
          -6275,
          -309,
          840,
          -996,
          1078,
          14235,
          -680,
          -3912,
          1582,
          31,
          9561,
          1087,
          -827,
          -278,
          1391,
          6837,
          -296,
          942,
          -254,
          828,
          -915,
          17175,
          1106,
          55,
          1398,
          -3995,
          677,
          700,
          -926,
          1063,
          12477,
          -427,
          -2779,
          779,
          306,
          4762,
          392,
          -656,
          -486,
          913,
          4276,
          -409,
          812,
          966,
          -408,
          -98,
          241,
          391,
          -781,
          1655,
          -3839,
          205,
          732,
          -982,
          1016,
          12977,
          -655,
          -2470,
          1381,
          -130,
          6354,
          531,
          -1125,
          -534,
          1797,
          6929,
          -637,
          1144,
          -86,
          472,
          -659,
          5733
         ]
        }
       ],
       "layout": {
        "coloraxis": {
         "colorbar": {
          "title": {
           "text": "sum of міграційний приріст, скорочення (-)"
          }
         },
         "colorscale": [
          [
           0,
           "#0d0887"
          ],
          [
           0.1111111111111111,
           "#46039f"
          ],
          [
           0.2222222222222222,
           "#7201a8"
          ],
          [
           0.3333333333333333,
           "#9c179e"
          ],
          [
           0.4444444444444444,
           "#bd3786"
          ],
          [
           0.5555555555555556,
           "#d8576b"
          ],
          [
           0.6666666666666666,
           "#ed7953"
          ],
          [
           0.7777777777777778,
           "#fb9f3a"
          ],
          [
           0.8888888888888888,
           "#fdca26"
          ],
          [
           1,
           "#f0f921"
          ]
         ]
        },
        "height": 1000,
        "legend": {
         "tracegroupgap": 0
        },
        "template": {
         "data": {
          "bar": [
           {
            "error_x": {
             "color": "#2a3f5f"
            },
            "error_y": {
             "color": "#2a3f5f"
            },
            "marker": {
             "line": {
              "color": "#E5ECF6",
              "width": 0.5
             },
             "pattern": {
              "fillmode": "overlay",
              "size": 10,
              "solidity": 0.2
             }
            },
            "type": "bar"
           }
          ],
          "barpolar": [
           {
            "marker": {
             "line": {
              "color": "#E5ECF6",
              "width": 0.5
             },
             "pattern": {
              "fillmode": "overlay",
              "size": 10,
              "solidity": 0.2
             }
            },
            "type": "barpolar"
           }
          ],
          "carpet": [
           {
            "aaxis": {
             "endlinecolor": "#2a3f5f",
             "gridcolor": "white",
             "linecolor": "white",
             "minorgridcolor": "white",
             "startlinecolor": "#2a3f5f"
            },
            "baxis": {
             "endlinecolor": "#2a3f5f",
             "gridcolor": "white",
             "linecolor": "white",
             "minorgridcolor": "white",
             "startlinecolor": "#2a3f5f"
            },
            "type": "carpet"
           }
          ],
          "choropleth": [
           {
            "colorbar": {
             "outlinewidth": 0,
             "ticks": ""
            },
            "type": "choropleth"
           }
          ],
          "contour": [
           {
            "colorbar": {
             "outlinewidth": 0,
             "ticks": ""
            },
            "colorscale": [
             [
              0,
              "#0d0887"
             ],
             [
              0.1111111111111111,
              "#46039f"
             ],
             [
              0.2222222222222222,
              "#7201a8"
             ],
             [
              0.3333333333333333,
              "#9c179e"
             ],
             [
              0.4444444444444444,
              "#bd3786"
             ],
             [
              0.5555555555555556,
              "#d8576b"
             ],
             [
              0.6666666666666666,
              "#ed7953"
             ],
             [
              0.7777777777777778,
              "#fb9f3a"
             ],
             [
              0.8888888888888888,
              "#fdca26"
             ],
             [
              1,
              "#f0f921"
             ]
            ],
            "type": "contour"
           }
          ],
          "contourcarpet": [
           {
            "colorbar": {
             "outlinewidth": 0,
             "ticks": ""
            },
            "type": "contourcarpet"
           }
          ],
          "heatmap": [
           {
            "colorbar": {
             "outlinewidth": 0,
             "ticks": ""
            },
            "colorscale": [
             [
              0,
              "#0d0887"
             ],
             [
              0.1111111111111111,
              "#46039f"
             ],
             [
              0.2222222222222222,
              "#7201a8"
             ],
             [
              0.3333333333333333,
              "#9c179e"
             ],
             [
              0.4444444444444444,
              "#bd3786"
             ],
             [
              0.5555555555555556,
              "#d8576b"
             ],
             [
              0.6666666666666666,
              "#ed7953"
             ],
             [
              0.7777777777777778,
              "#fb9f3a"
             ],
             [
              0.8888888888888888,
              "#fdca26"
             ],
             [
              1,
              "#f0f921"
             ]
            ],
            "type": "heatmap"
           }
          ],
          "heatmapgl": [
           {
            "colorbar": {
             "outlinewidth": 0,
             "ticks": ""
            },
            "colorscale": [
             [
              0,
              "#0d0887"
             ],
             [
              0.1111111111111111,
              "#46039f"
             ],
             [
              0.2222222222222222,
              "#7201a8"
             ],
             [
              0.3333333333333333,
              "#9c179e"
             ],
             [
              0.4444444444444444,
              "#bd3786"
             ],
             [
              0.5555555555555556,
              "#d8576b"
             ],
             [
              0.6666666666666666,
              "#ed7953"
             ],
             [
              0.7777777777777778,
              "#fb9f3a"
             ],
             [
              0.8888888888888888,
              "#fdca26"
             ],
             [
              1,
              "#f0f921"
             ]
            ],
            "type": "heatmapgl"
           }
          ],
          "histogram": [
           {
            "marker": {
             "pattern": {
              "fillmode": "overlay",
              "size": 10,
              "solidity": 0.2
             }
            },
            "type": "histogram"
           }
          ],
          "histogram2d": [
           {
            "colorbar": {
             "outlinewidth": 0,
             "ticks": ""
            },
            "colorscale": [
             [
              0,
              "#0d0887"
             ],
             [
              0.1111111111111111,
              "#46039f"
             ],
             [
              0.2222222222222222,
              "#7201a8"
             ],
             [
              0.3333333333333333,
              "#9c179e"
             ],
             [
              0.4444444444444444,
              "#bd3786"
             ],
             [
              0.5555555555555556,
              "#d8576b"
             ],
             [
              0.6666666666666666,
              "#ed7953"
             ],
             [
              0.7777777777777778,
              "#fb9f3a"
             ],
             [
              0.8888888888888888,
              "#fdca26"
             ],
             [
              1,
              "#f0f921"
             ]
            ],
            "type": "histogram2d"
           }
          ],
          "histogram2dcontour": [
           {
            "colorbar": {
             "outlinewidth": 0,
             "ticks": ""
            },
            "colorscale": [
             [
              0,
              "#0d0887"
             ],
             [
              0.1111111111111111,
              "#46039f"
             ],
             [
              0.2222222222222222,
              "#7201a8"
             ],
             [
              0.3333333333333333,
              "#9c179e"
             ],
             [
              0.4444444444444444,
              "#bd3786"
             ],
             [
              0.5555555555555556,
              "#d8576b"
             ],
             [
              0.6666666666666666,
              "#ed7953"
             ],
             [
              0.7777777777777778,
              "#fb9f3a"
             ],
             [
              0.8888888888888888,
              "#fdca26"
             ],
             [
              1,
              "#f0f921"
             ]
            ],
            "type": "histogram2dcontour"
           }
          ],
          "mesh3d": [
           {
            "colorbar": {
             "outlinewidth": 0,
             "ticks": ""
            },
            "type": "mesh3d"
           }
          ],
          "parcoords": [
           {
            "line": {
             "colorbar": {
              "outlinewidth": 0,
              "ticks": ""
             }
            },
            "type": "parcoords"
           }
          ],
          "pie": [
           {
            "automargin": true,
            "type": "pie"
           }
          ],
          "scatter": [
           {
            "fillpattern": {
             "fillmode": "overlay",
             "size": 10,
             "solidity": 0.2
            },
            "type": "scatter"
           }
          ],
          "scatter3d": [
           {
            "line": {
             "colorbar": {
              "outlinewidth": 0,
              "ticks": ""
             }
            },
            "marker": {
             "colorbar": {
              "outlinewidth": 0,
              "ticks": ""
             }
            },
            "type": "scatter3d"
           }
          ],
          "scattercarpet": [
           {
            "marker": {
             "colorbar": {
              "outlinewidth": 0,
              "ticks": ""
             }
            },
            "type": "scattercarpet"
           }
          ],
          "scattergeo": [
           {
            "marker": {
             "colorbar": {
              "outlinewidth": 0,
              "ticks": ""
             }
            },
            "type": "scattergeo"
           }
          ],
          "scattergl": [
           {
            "marker": {
             "colorbar": {
              "outlinewidth": 0,
              "ticks": ""
             }
            },
            "type": "scattergl"
           }
          ],
          "scattermapbox": [
           {
            "marker": {
             "colorbar": {
              "outlinewidth": 0,
              "ticks": ""
             }
            },
            "type": "scattermapbox"
           }
          ],
          "scatterpolar": [
           {
            "marker": {
             "colorbar": {
              "outlinewidth": 0,
              "ticks": ""
             }
            },
            "type": "scatterpolar"
           }
          ],
          "scatterpolargl": [
           {
            "marker": {
             "colorbar": {
              "outlinewidth": 0,
              "ticks": ""
             }
            },
            "type": "scatterpolargl"
           }
          ],
          "scatterternary": [
           {
            "marker": {
             "colorbar": {
              "outlinewidth": 0,
              "ticks": ""
             }
            },
            "type": "scatterternary"
           }
          ],
          "surface": [
           {
            "colorbar": {
             "outlinewidth": 0,
             "ticks": ""
            },
            "colorscale": [
             [
              0,
              "#0d0887"
             ],
             [
              0.1111111111111111,
              "#46039f"
             ],
             [
              0.2222222222222222,
              "#7201a8"
             ],
             [
              0.3333333333333333,
              "#9c179e"
             ],
             [
              0.4444444444444444,
              "#bd3786"
             ],
             [
              0.5555555555555556,
              "#d8576b"
             ],
             [
              0.6666666666666666,
              "#ed7953"
             ],
             [
              0.7777777777777778,
              "#fb9f3a"
             ],
             [
              0.8888888888888888,
              "#fdca26"
             ],
             [
              1,
              "#f0f921"
             ]
            ],
            "type": "surface"
           }
          ],
          "table": [
           {
            "cells": {
             "fill": {
              "color": "#EBF0F8"
             },
             "line": {
              "color": "white"
             }
            },
            "header": {
             "fill": {
              "color": "#C8D4E3"
             },
             "line": {
              "color": "white"
             }
            },
            "type": "table"
           }
          ]
         },
         "layout": {
          "annotationdefaults": {
           "arrowcolor": "#2a3f5f",
           "arrowhead": 0,
           "arrowwidth": 1
          },
          "autotypenumbers": "strict",
          "coloraxis": {
           "colorbar": {
            "outlinewidth": 0,
            "ticks": ""
           }
          },
          "colorscale": {
           "diverging": [
            [
             0,
             "#8e0152"
            ],
            [
             0.1,
             "#c51b7d"
            ],
            [
             0.2,
             "#de77ae"
            ],
            [
             0.3,
             "#f1b6da"
            ],
            [
             0.4,
             "#fde0ef"
            ],
            [
             0.5,
             "#f7f7f7"
            ],
            [
             0.6,
             "#e6f5d0"
            ],
            [
             0.7,
             "#b8e186"
            ],
            [
             0.8,
             "#7fbc41"
            ],
            [
             0.9,
             "#4d9221"
            ],
            [
             1,
             "#276419"
            ]
           ],
           "sequential": [
            [
             0,
             "#0d0887"
            ],
            [
             0.1111111111111111,
             "#46039f"
            ],
            [
             0.2222222222222222,
             "#7201a8"
            ],
            [
             0.3333333333333333,
             "#9c179e"
            ],
            [
             0.4444444444444444,
             "#bd3786"
            ],
            [
             0.5555555555555556,
             "#d8576b"
            ],
            [
             0.6666666666666666,
             "#ed7953"
            ],
            [
             0.7777777777777778,
             "#fb9f3a"
            ],
            [
             0.8888888888888888,
             "#fdca26"
            ],
            [
             1,
             "#f0f921"
            ]
           ],
           "sequentialminus": [
            [
             0,
             "#0d0887"
            ],
            [
             0.1111111111111111,
             "#46039f"
            ],
            [
             0.2222222222222222,
             "#7201a8"
            ],
            [
             0.3333333333333333,
             "#9c179e"
            ],
            [
             0.4444444444444444,
             "#bd3786"
            ],
            [
             0.5555555555555556,
             "#d8576b"
            ],
            [
             0.6666666666666666,
             "#ed7953"
            ],
            [
             0.7777777777777778,
             "#fb9f3a"
            ],
            [
             0.8888888888888888,
             "#fdca26"
            ],
            [
             1,
             "#f0f921"
            ]
           ]
          },
          "colorway": [
           "#636efa",
           "#EF553B",
           "#00cc96",
           "#ab63fa",
           "#FFA15A",
           "#19d3f3",
           "#FF6692",
           "#B6E880",
           "#FF97FF",
           "#FECB52"
          ],
          "font": {
           "color": "#2a3f5f"
          },
          "geo": {
           "bgcolor": "white",
           "lakecolor": "white",
           "landcolor": "#E5ECF6",
           "showlakes": true,
           "showland": true,
           "subunitcolor": "white"
          },
          "hoverlabel": {
           "align": "left"
          },
          "hovermode": "closest",
          "mapbox": {
           "style": "light"
          },
          "paper_bgcolor": "white",
          "plot_bgcolor": "#E5ECF6",
          "polar": {
           "angularaxis": {
            "gridcolor": "white",
            "linecolor": "white",
            "ticks": ""
           },
           "bgcolor": "#E5ECF6",
           "radialaxis": {
            "gridcolor": "white",
            "linecolor": "white",
            "ticks": ""
           }
          },
          "scene": {
           "xaxis": {
            "backgroundcolor": "#E5ECF6",
            "gridcolor": "white",
            "gridwidth": 2,
            "linecolor": "white",
            "showbackground": true,
            "ticks": "",
            "zerolinecolor": "white"
           },
           "yaxis": {
            "backgroundcolor": "#E5ECF6",
            "gridcolor": "white",
            "gridwidth": 2,
            "linecolor": "white",
            "showbackground": true,
            "ticks": "",
            "zerolinecolor": "white"
           },
           "zaxis": {
            "backgroundcolor": "#E5ECF6",
            "gridcolor": "white",
            "gridwidth": 2,
            "linecolor": "white",
            "showbackground": true,
            "ticks": "",
            "zerolinecolor": "white"
           }
          },
          "shapedefaults": {
           "line": {
            "color": "#2a3f5f"
           }
          },
          "ternary": {
           "aaxis": {
            "gridcolor": "white",
            "linecolor": "white",
            "ticks": ""
           },
           "baxis": {
            "gridcolor": "white",
            "linecolor": "white",
            "ticks": ""
           },
           "bgcolor": "#E5ECF6",
           "caxis": {
            "gridcolor": "white",
            "linecolor": "white",
            "ticks": ""
           }
          },
          "title": {
           "x": 0.05
          },
          "xaxis": {
           "automargin": true,
           "gridcolor": "white",
           "linecolor": "white",
           "ticks": "",
           "title": {
            "standoff": 15
           },
           "zerolinecolor": "white",
           "zerolinewidth": 2
          },
          "yaxis": {
           "automargin": true,
           "gridcolor": "white",
           "linecolor": "white",
           "ticks": "",
           "title": {
            "standoff": 15
           },
           "zerolinecolor": "white",
           "zerolinewidth": 2
          }
         }
        },
        "title": {
         "text": "Загальний міграційний приріст в міській місцевості"
        },
        "xaxis": {
         "anchor": "y",
         "domain": [
          0,
          1
         ],
         "title": {
          "text": "рік"
         }
        },
        "yaxis": {
         "anchor": "x",
         "domain": [
          0,
          1
         ],
         "title": {
          "text": "регіон"
         }
        }
       }
      }
     },
     "metadata": {},
     "output_type": "display_data"
    }
   ],
   "source": [
    "fig = px.density_heatmap(all_migration, x='рік', y='регіон', z='міграційний приріст, скорочення (-)', title='Загальний міграційний приріст в міській місцевості')\n",
    "fig.layout.height = 1000\n",
    "\n",
    "fig"
   ]
  },
  {
   "attachments": {},
   "cell_type": "markdown",
   "metadata": {},
   "source": [
    "Теплова мапа відображає приріст населення міст за рахунок міждержавної міграції. За винятком декількох областей, в яких показники додатні, є більше емігрантів, аніж імігрантів."
   ]
  },
  {
   "cell_type": "code",
   "execution_count": 8,
   "metadata": {},
   "outputs": [
    {
     "data": {
      "application/vnd.plotly.v1+json": {
       "config": {
        "plotlyServerURL": "https://plot.ly"
       },
       "data": [
        {
         "coloraxis": "coloraxis",
         "histfunc": "sum",
         "hovertemplate": "рік=%{x}<br>регіон=%{y}<br>sum of міграційний приріст, скорочення (-)=%{z}<extra></extra>",
         "name": "",
         "type": "histogram2d",
         "x": [
          2019,
          2019,
          2019,
          2019,
          2019,
          2019,
          2019,
          2019,
          2019,
          2019,
          2019,
          2019,
          2019,
          2019,
          2019,
          2019,
          2019,
          2019,
          2019,
          2019,
          2019,
          2019,
          2019,
          2019,
          2019,
          2020,
          2020,
          2020,
          2020,
          2020,
          2020,
          2020,
          2020,
          2020,
          2020,
          2020,
          2020,
          2020,
          2020,
          2020,
          2020,
          2020,
          2020,
          2020,
          2020,
          2020,
          2020,
          2020,
          2020,
          2020,
          2021,
          2021,
          2021,
          2021,
          2021,
          2021,
          2021,
          2021,
          2021,
          2021,
          2021,
          2021,
          2021,
          2021,
          2021,
          2021,
          2021,
          2021,
          2021,
          2021,
          2021,
          2021,
          2021,
          2021,
          2021
         ],
         "xaxis": "x",
         "xbingroup": "x",
         "y": [
          "Вінницька область",
          "Волинська область",
          "Дніпропетровська область",
          "Донецька область",
          "Житомирська область",
          "Закарпатська область",
          "Запорізька область",
          "Івано-Франківська область",
          "Київська область",
          "Кіровоградська область",
          "Луганська область",
          "Львівська область",
          "Миколаївська область",
          "Одеська область",
          "Полтавська область",
          "Рівненська область",
          "Сумська область",
          "Тернопільська область",
          "Харківська область",
          "Херсонська область",
          "Хмельницька область",
          "Черкаська область",
          "Чернівецька область",
          "Чернігівська область",
          "м.Київ",
          "Вінницька область",
          "Волинська область",
          "Дніпропетровська область",
          "Донецька область",
          "Житомирська область",
          "Закарпатська область",
          "Запорізька область",
          "Івано-Франківська область",
          "Київська область",
          "Кіровоградська область",
          "Луганська область",
          "Львівська область",
          "Миколаївська область",
          "Одеська область",
          "Полтавська область",
          "Рівненська область",
          "Сумська область",
          "Тернопільська область",
          "Харківська область",
          "Херсонська область",
          "Хмельницька область",
          "Черкаська область",
          "Чернівецька область",
          "Чернігівська область",
          "м.Київ",
          "Вінницька область",
          "Волинська область",
          "Дніпропетровська область",
          "Донецька область",
          "Житомирська область",
          "Закарпатська область",
          "Запорізька область",
          "Івано-Франківська область",
          "Київська область",
          "Кіровоградська область",
          "Луганська область",
          "Львівська область",
          "Миколаївська область",
          "Одеська область",
          "Полтавська область",
          "Рівненська область",
          "Сумська область",
          "Тернопільська область",
          "Харківська область",
          "Херсонська область",
          "Хмельницька область",
          "Черкаська область",
          "Чернівецька область",
          "Чернігівська область",
          "м.Київ"
         ],
         "yaxis": "y",
         "ybingroup": "y",
         "z": [
          410,
          -218,
          1031,
          173,
          93,
          97,
          551,
          3,
          669,
          99,
          -39,
          37,
          389,
          5329,
          633,
          -466,
          565,
          663,
          2710,
          -105,
          198,
          39,
          202,
          -54,
          4347,
          -6,
          -17,
          995,
          -9,
          77,
          36,
          -63,
          -150,
          815,
          21,
          -20,
          55,
          169,
          1584,
          317,
          -27,
          -28,
          441,
          534,
          15,
          215,
          17,
          -63,
          -54,
          441,
          82,
          -55,
          1313,
          12,
          211,
          413,
          310,
          87,
          1363,
          -40,
          30,
          235,
          -73,
          2176,
          496,
          -56,
          -29,
          850,
          1591,
          -80,
          341,
          168,
          548,
          -50,
          6140
         ]
        }
       ],
       "layout": {
        "coloraxis": {
         "colorbar": {
          "title": {
           "text": "sum of міграційний приріст, скорочення (-)"
          }
         },
         "colorscale": [
          [
           0,
           "#0d0887"
          ],
          [
           0.1111111111111111,
           "#46039f"
          ],
          [
           0.2222222222222222,
           "#7201a8"
          ],
          [
           0.3333333333333333,
           "#9c179e"
          ],
          [
           0.4444444444444444,
           "#bd3786"
          ],
          [
           0.5555555555555556,
           "#d8576b"
          ],
          [
           0.6666666666666666,
           "#ed7953"
          ],
          [
           0.7777777777777778,
           "#fb9f3a"
          ],
          [
           0.8888888888888888,
           "#fdca26"
          ],
          [
           1,
           "#f0f921"
          ]
         ]
        },
        "height": 1000,
        "legend": {
         "tracegroupgap": 0
        },
        "template": {
         "data": {
          "bar": [
           {
            "error_x": {
             "color": "#2a3f5f"
            },
            "error_y": {
             "color": "#2a3f5f"
            },
            "marker": {
             "line": {
              "color": "#E5ECF6",
              "width": 0.5
             },
             "pattern": {
              "fillmode": "overlay",
              "size": 10,
              "solidity": 0.2
             }
            },
            "type": "bar"
           }
          ],
          "barpolar": [
           {
            "marker": {
             "line": {
              "color": "#E5ECF6",
              "width": 0.5
             },
             "pattern": {
              "fillmode": "overlay",
              "size": 10,
              "solidity": 0.2
             }
            },
            "type": "barpolar"
           }
          ],
          "carpet": [
           {
            "aaxis": {
             "endlinecolor": "#2a3f5f",
             "gridcolor": "white",
             "linecolor": "white",
             "minorgridcolor": "white",
             "startlinecolor": "#2a3f5f"
            },
            "baxis": {
             "endlinecolor": "#2a3f5f",
             "gridcolor": "white",
             "linecolor": "white",
             "minorgridcolor": "white",
             "startlinecolor": "#2a3f5f"
            },
            "type": "carpet"
           }
          ],
          "choropleth": [
           {
            "colorbar": {
             "outlinewidth": 0,
             "ticks": ""
            },
            "type": "choropleth"
           }
          ],
          "contour": [
           {
            "colorbar": {
             "outlinewidth": 0,
             "ticks": ""
            },
            "colorscale": [
             [
              0,
              "#0d0887"
             ],
             [
              0.1111111111111111,
              "#46039f"
             ],
             [
              0.2222222222222222,
              "#7201a8"
             ],
             [
              0.3333333333333333,
              "#9c179e"
             ],
             [
              0.4444444444444444,
              "#bd3786"
             ],
             [
              0.5555555555555556,
              "#d8576b"
             ],
             [
              0.6666666666666666,
              "#ed7953"
             ],
             [
              0.7777777777777778,
              "#fb9f3a"
             ],
             [
              0.8888888888888888,
              "#fdca26"
             ],
             [
              1,
              "#f0f921"
             ]
            ],
            "type": "contour"
           }
          ],
          "contourcarpet": [
           {
            "colorbar": {
             "outlinewidth": 0,
             "ticks": ""
            },
            "type": "contourcarpet"
           }
          ],
          "heatmap": [
           {
            "colorbar": {
             "outlinewidth": 0,
             "ticks": ""
            },
            "colorscale": [
             [
              0,
              "#0d0887"
             ],
             [
              0.1111111111111111,
              "#46039f"
             ],
             [
              0.2222222222222222,
              "#7201a8"
             ],
             [
              0.3333333333333333,
              "#9c179e"
             ],
             [
              0.4444444444444444,
              "#bd3786"
             ],
             [
              0.5555555555555556,
              "#d8576b"
             ],
             [
              0.6666666666666666,
              "#ed7953"
             ],
             [
              0.7777777777777778,
              "#fb9f3a"
             ],
             [
              0.8888888888888888,
              "#fdca26"
             ],
             [
              1,
              "#f0f921"
             ]
            ],
            "type": "heatmap"
           }
          ],
          "heatmapgl": [
           {
            "colorbar": {
             "outlinewidth": 0,
             "ticks": ""
            },
            "colorscale": [
             [
              0,
              "#0d0887"
             ],
             [
              0.1111111111111111,
              "#46039f"
             ],
             [
              0.2222222222222222,
              "#7201a8"
             ],
             [
              0.3333333333333333,
              "#9c179e"
             ],
             [
              0.4444444444444444,
              "#bd3786"
             ],
             [
              0.5555555555555556,
              "#d8576b"
             ],
             [
              0.6666666666666666,
              "#ed7953"
             ],
             [
              0.7777777777777778,
              "#fb9f3a"
             ],
             [
              0.8888888888888888,
              "#fdca26"
             ],
             [
              1,
              "#f0f921"
             ]
            ],
            "type": "heatmapgl"
           }
          ],
          "histogram": [
           {
            "marker": {
             "pattern": {
              "fillmode": "overlay",
              "size": 10,
              "solidity": 0.2
             }
            },
            "type": "histogram"
           }
          ],
          "histogram2d": [
           {
            "colorbar": {
             "outlinewidth": 0,
             "ticks": ""
            },
            "colorscale": [
             [
              0,
              "#0d0887"
             ],
             [
              0.1111111111111111,
              "#46039f"
             ],
             [
              0.2222222222222222,
              "#7201a8"
             ],
             [
              0.3333333333333333,
              "#9c179e"
             ],
             [
              0.4444444444444444,
              "#bd3786"
             ],
             [
              0.5555555555555556,
              "#d8576b"
             ],
             [
              0.6666666666666666,
              "#ed7953"
             ],
             [
              0.7777777777777778,
              "#fb9f3a"
             ],
             [
              0.8888888888888888,
              "#fdca26"
             ],
             [
              1,
              "#f0f921"
             ]
            ],
            "type": "histogram2d"
           }
          ],
          "histogram2dcontour": [
           {
            "colorbar": {
             "outlinewidth": 0,
             "ticks": ""
            },
            "colorscale": [
             [
              0,
              "#0d0887"
             ],
             [
              0.1111111111111111,
              "#46039f"
             ],
             [
              0.2222222222222222,
              "#7201a8"
             ],
             [
              0.3333333333333333,
              "#9c179e"
             ],
             [
              0.4444444444444444,
              "#bd3786"
             ],
             [
              0.5555555555555556,
              "#d8576b"
             ],
             [
              0.6666666666666666,
              "#ed7953"
             ],
             [
              0.7777777777777778,
              "#fb9f3a"
             ],
             [
              0.8888888888888888,
              "#fdca26"
             ],
             [
              1,
              "#f0f921"
             ]
            ],
            "type": "histogram2dcontour"
           }
          ],
          "mesh3d": [
           {
            "colorbar": {
             "outlinewidth": 0,
             "ticks": ""
            },
            "type": "mesh3d"
           }
          ],
          "parcoords": [
           {
            "line": {
             "colorbar": {
              "outlinewidth": 0,
              "ticks": ""
             }
            },
            "type": "parcoords"
           }
          ],
          "pie": [
           {
            "automargin": true,
            "type": "pie"
           }
          ],
          "scatter": [
           {
            "fillpattern": {
             "fillmode": "overlay",
             "size": 10,
             "solidity": 0.2
            },
            "type": "scatter"
           }
          ],
          "scatter3d": [
           {
            "line": {
             "colorbar": {
              "outlinewidth": 0,
              "ticks": ""
             }
            },
            "marker": {
             "colorbar": {
              "outlinewidth": 0,
              "ticks": ""
             }
            },
            "type": "scatter3d"
           }
          ],
          "scattercarpet": [
           {
            "marker": {
             "colorbar": {
              "outlinewidth": 0,
              "ticks": ""
             }
            },
            "type": "scattercarpet"
           }
          ],
          "scattergeo": [
           {
            "marker": {
             "colorbar": {
              "outlinewidth": 0,
              "ticks": ""
             }
            },
            "type": "scattergeo"
           }
          ],
          "scattergl": [
           {
            "marker": {
             "colorbar": {
              "outlinewidth": 0,
              "ticks": ""
             }
            },
            "type": "scattergl"
           }
          ],
          "scattermapbox": [
           {
            "marker": {
             "colorbar": {
              "outlinewidth": 0,
              "ticks": ""
             }
            },
            "type": "scattermapbox"
           }
          ],
          "scatterpolar": [
           {
            "marker": {
             "colorbar": {
              "outlinewidth": 0,
              "ticks": ""
             }
            },
            "type": "scatterpolar"
           }
          ],
          "scatterpolargl": [
           {
            "marker": {
             "colorbar": {
              "outlinewidth": 0,
              "ticks": ""
             }
            },
            "type": "scatterpolargl"
           }
          ],
          "scatterternary": [
           {
            "marker": {
             "colorbar": {
              "outlinewidth": 0,
              "ticks": ""
             }
            },
            "type": "scatterternary"
           }
          ],
          "surface": [
           {
            "colorbar": {
             "outlinewidth": 0,
             "ticks": ""
            },
            "colorscale": [
             [
              0,
              "#0d0887"
             ],
             [
              0.1111111111111111,
              "#46039f"
             ],
             [
              0.2222222222222222,
              "#7201a8"
             ],
             [
              0.3333333333333333,
              "#9c179e"
             ],
             [
              0.4444444444444444,
              "#bd3786"
             ],
             [
              0.5555555555555556,
              "#d8576b"
             ],
             [
              0.6666666666666666,
              "#ed7953"
             ],
             [
              0.7777777777777778,
              "#fb9f3a"
             ],
             [
              0.8888888888888888,
              "#fdca26"
             ],
             [
              1,
              "#f0f921"
             ]
            ],
            "type": "surface"
           }
          ],
          "table": [
           {
            "cells": {
             "fill": {
              "color": "#EBF0F8"
             },
             "line": {
              "color": "white"
             }
            },
            "header": {
             "fill": {
              "color": "#C8D4E3"
             },
             "line": {
              "color": "white"
             }
            },
            "type": "table"
           }
          ]
         },
         "layout": {
          "annotationdefaults": {
           "arrowcolor": "#2a3f5f",
           "arrowhead": 0,
           "arrowwidth": 1
          },
          "autotypenumbers": "strict",
          "coloraxis": {
           "colorbar": {
            "outlinewidth": 0,
            "ticks": ""
           }
          },
          "colorscale": {
           "diverging": [
            [
             0,
             "#8e0152"
            ],
            [
             0.1,
             "#c51b7d"
            ],
            [
             0.2,
             "#de77ae"
            ],
            [
             0.3,
             "#f1b6da"
            ],
            [
             0.4,
             "#fde0ef"
            ],
            [
             0.5,
             "#f7f7f7"
            ],
            [
             0.6,
             "#e6f5d0"
            ],
            [
             0.7,
             "#b8e186"
            ],
            [
             0.8,
             "#7fbc41"
            ],
            [
             0.9,
             "#4d9221"
            ],
            [
             1,
             "#276419"
            ]
           ],
           "sequential": [
            [
             0,
             "#0d0887"
            ],
            [
             0.1111111111111111,
             "#46039f"
            ],
            [
             0.2222222222222222,
             "#7201a8"
            ],
            [
             0.3333333333333333,
             "#9c179e"
            ],
            [
             0.4444444444444444,
             "#bd3786"
            ],
            [
             0.5555555555555556,
             "#d8576b"
            ],
            [
             0.6666666666666666,
             "#ed7953"
            ],
            [
             0.7777777777777778,
             "#fb9f3a"
            ],
            [
             0.8888888888888888,
             "#fdca26"
            ],
            [
             1,
             "#f0f921"
            ]
           ],
           "sequentialminus": [
            [
             0,
             "#0d0887"
            ],
            [
             0.1111111111111111,
             "#46039f"
            ],
            [
             0.2222222222222222,
             "#7201a8"
            ],
            [
             0.3333333333333333,
             "#9c179e"
            ],
            [
             0.4444444444444444,
             "#bd3786"
            ],
            [
             0.5555555555555556,
             "#d8576b"
            ],
            [
             0.6666666666666666,
             "#ed7953"
            ],
            [
             0.7777777777777778,
             "#fb9f3a"
            ],
            [
             0.8888888888888888,
             "#fdca26"
            ],
            [
             1,
             "#f0f921"
            ]
           ]
          },
          "colorway": [
           "#636efa",
           "#EF553B",
           "#00cc96",
           "#ab63fa",
           "#FFA15A",
           "#19d3f3",
           "#FF6692",
           "#B6E880",
           "#FF97FF",
           "#FECB52"
          ],
          "font": {
           "color": "#2a3f5f"
          },
          "geo": {
           "bgcolor": "white",
           "lakecolor": "white",
           "landcolor": "#E5ECF6",
           "showlakes": true,
           "showland": true,
           "subunitcolor": "white"
          },
          "hoverlabel": {
           "align": "left"
          },
          "hovermode": "closest",
          "mapbox": {
           "style": "light"
          },
          "paper_bgcolor": "white",
          "plot_bgcolor": "#E5ECF6",
          "polar": {
           "angularaxis": {
            "gridcolor": "white",
            "linecolor": "white",
            "ticks": ""
           },
           "bgcolor": "#E5ECF6",
           "radialaxis": {
            "gridcolor": "white",
            "linecolor": "white",
            "ticks": ""
           }
          },
          "scene": {
           "xaxis": {
            "backgroundcolor": "#E5ECF6",
            "gridcolor": "white",
            "gridwidth": 2,
            "linecolor": "white",
            "showbackground": true,
            "ticks": "",
            "zerolinecolor": "white"
           },
           "yaxis": {
            "backgroundcolor": "#E5ECF6",
            "gridcolor": "white",
            "gridwidth": 2,
            "linecolor": "white",
            "showbackground": true,
            "ticks": "",
            "zerolinecolor": "white"
           },
           "zaxis": {
            "backgroundcolor": "#E5ECF6",
            "gridcolor": "white",
            "gridwidth": 2,
            "linecolor": "white",
            "showbackground": true,
            "ticks": "",
            "zerolinecolor": "white"
           }
          },
          "shapedefaults": {
           "line": {
            "color": "#2a3f5f"
           }
          },
          "ternary": {
           "aaxis": {
            "gridcolor": "white",
            "linecolor": "white",
            "ticks": ""
           },
           "baxis": {
            "gridcolor": "white",
            "linecolor": "white",
            "ticks": ""
           },
           "bgcolor": "#E5ECF6",
           "caxis": {
            "gridcolor": "white",
            "linecolor": "white",
            "ticks": ""
           }
          },
          "title": {
           "x": 0.05
          },
          "xaxis": {
           "automargin": true,
           "gridcolor": "white",
           "linecolor": "white",
           "ticks": "",
           "title": {
            "standoff": 15
           },
           "zerolinecolor": "white",
           "zerolinewidth": 2
          },
          "yaxis": {
           "automargin": true,
           "gridcolor": "white",
           "linecolor": "white",
           "ticks": "",
           "title": {
            "standoff": 15
           },
           "zerolinecolor": "white",
           "zerolinewidth": 2
          }
         }
        },
        "title": {
         "text": "Міждержавний міграційний приріст в міській місцевості"
        },
        "xaxis": {
         "anchor": "y",
         "domain": [
          0,
          1
         ],
         "title": {
          "text": "рік"
         }
        },
        "yaxis": {
         "anchor": "x",
         "domain": [
          0,
          1
         ],
         "title": {
          "text": "регіон"
         }
        }
       }
      }
     },
     "metadata": {},
     "output_type": "display_data"
    }
   ],
   "source": [
    "fig = px.density_heatmap(crosscountry_migration, x='рік', y='регіон', z='міграційний приріст, скорочення (-)', title='Міждержавний міграційний приріст в міській місцевості')\n",
    "fig.layout.height = 1000\n",
    "\n",
    "fig"
   ]
  },
  {
   "attachments": {},
   "cell_type": "markdown",
   "metadata": {},
   "source": [
    "Переглянувши графіки, можна побачити, що в більшості міст населення зростає. На це значним чином впливає бажання велиеої кількості селян переїхати в місто, де є значно більше можливостей. Особливо це стає помітно після перегляду графіків по сількій місцевості."
   ]
  },
  {
   "attachments": {},
   "cell_type": "markdown",
   "metadata": {},
   "source": [
    "## Сільське населення"
   ]
  },
  {
   "cell_type": "code",
   "execution_count": 11,
   "metadata": {},
   "outputs": [
    {
     "data": {
      "text/html": [
       "<div>\n",
       "<style scoped>\n",
       "    .dataframe tbody tr th:only-of-type {\n",
       "        vertical-align: middle;\n",
       "    }\n",
       "\n",
       "    .dataframe tbody tr th {\n",
       "        vertical-align: top;\n",
       "    }\n",
       "\n",
       "    .dataframe thead th {\n",
       "        text-align: right;\n",
       "    }\n",
       "</style>\n",
       "<table border=\"1\" class=\"dataframe\">\n",
       "  <thead>\n",
       "    <tr style=\"text-align: right;\">\n",
       "      <th></th>\n",
       "      <th>регіон</th>\n",
       "      <th>кількість прибулих</th>\n",
       "      <th>кількість вибулих</th>\n",
       "      <th>міграційний приріст, скорочення (-)</th>\n",
       "      <th>тип потоку</th>\n",
       "      <th>рік</th>\n",
       "    </tr>\n",
       "  </thead>\n",
       "  <tbody>\n",
       "    <tr>\n",
       "      <th>0</th>\n",
       "      <td>Вінницька область</td>\n",
       "      <td>7628</td>\n",
       "      <td>11175</td>\n",
       "      <td>-3547</td>\n",
       "      <td>усі</td>\n",
       "      <td>2019</td>\n",
       "    </tr>\n",
       "    <tr>\n",
       "      <th>1</th>\n",
       "      <td>Волинська область</td>\n",
       "      <td>6346</td>\n",
       "      <td>7026</td>\n",
       "      <td>-680</td>\n",
       "      <td>усі</td>\n",
       "      <td>2019</td>\n",
       "    </tr>\n",
       "    <tr>\n",
       "      <th>2</th>\n",
       "      <td>Дніпропетровська область</td>\n",
       "      <td>5775</td>\n",
       "      <td>8523</td>\n",
       "      <td>-2748</td>\n",
       "      <td>усі</td>\n",
       "      <td>2019</td>\n",
       "    </tr>\n",
       "    <tr>\n",
       "      <th>3</th>\n",
       "      <td>Донецька область</td>\n",
       "      <td>2708</td>\n",
       "      <td>4113</td>\n",
       "      <td>-1405</td>\n",
       "      <td>усі</td>\n",
       "      <td>2019</td>\n",
       "    </tr>\n",
       "    <tr>\n",
       "      <th>4</th>\n",
       "      <td>Житомирська область</td>\n",
       "      <td>7798</td>\n",
       "      <td>9156</td>\n",
       "      <td>-1358</td>\n",
       "      <td>усі</td>\n",
       "      <td>2019</td>\n",
       "    </tr>\n",
       "    <tr>\n",
       "      <th>...</th>\n",
       "      <td>...</td>\n",
       "      <td>...</td>\n",
       "      <td>...</td>\n",
       "      <td>...</td>\n",
       "      <td>...</td>\n",
       "      <td>...</td>\n",
       "    </tr>\n",
       "    <tr>\n",
       "      <th>139</th>\n",
       "      <td>Херсонська область</td>\n",
       "      <td>41</td>\n",
       "      <td>45</td>\n",
       "      <td>1</td>\n",
       "      <td>міждержавні</td>\n",
       "      <td>2021</td>\n",
       "    </tr>\n",
       "    <tr>\n",
       "      <th>140</th>\n",
       "      <td>Хмельницька область</td>\n",
       "      <td>41</td>\n",
       "      <td>59</td>\n",
       "      <td>131</td>\n",
       "      <td>міждержавні</td>\n",
       "      <td>2021</td>\n",
       "    </tr>\n",
       "    <tr>\n",
       "      <th>141</th>\n",
       "      <td>Черкаська область</td>\n",
       "      <td>41</td>\n",
       "      <td>49</td>\n",
       "      <td>32</td>\n",
       "      <td>міждержавні</td>\n",
       "      <td>2021</td>\n",
       "    </tr>\n",
       "    <tr>\n",
       "      <th>142</th>\n",
       "      <td>Чернівецька область</td>\n",
       "      <td>41</td>\n",
       "      <td>110</td>\n",
       "      <td>453</td>\n",
       "      <td>міждержавні</td>\n",
       "      <td>2021</td>\n",
       "    </tr>\n",
       "    <tr>\n",
       "      <th>143</th>\n",
       "      <td>Чернігівська область</td>\n",
       "      <td>41</td>\n",
       "      <td>38</td>\n",
       "      <td>43</td>\n",
       "      <td>міждержавні</td>\n",
       "      <td>2021</td>\n",
       "    </tr>\n",
       "  </tbody>\n",
       "</table>\n",
       "<p>144 rows × 6 columns</p>\n",
       "</div>"
      ],
      "text/plain": [
       "                       регіон  кількість прибулих  кількість вибулих  \\\n",
       "0           Вінницька область                7628              11175   \n",
       "1           Волинська область                6346               7026   \n",
       "2    Дніпропетровська область                5775               8523   \n",
       "3            Донецька область                2708               4113   \n",
       "4         Житомирська область                7798               9156   \n",
       "..                        ...                 ...                ...   \n",
       "139        Херсонська область                  41                 45   \n",
       "140       Хмельницька область                  41                 59   \n",
       "141         Черкаська область                  41                 49   \n",
       "142       Чернівецька область                  41                110   \n",
       "143      Чернігівська область                  41                 38   \n",
       "\n",
       "     міграційний приріст, скорочення (-)   тип потоку   рік  \n",
       "0                                  -3547          усі  2019  \n",
       "1                                   -680          усі  2019  \n",
       "2                                  -2748          усі  2019  \n",
       "3                                  -1405          усі  2019  \n",
       "4                                  -1358          усі  2019  \n",
       "..                                   ...          ...   ...  \n",
       "139                                    1  міждержавні  2021  \n",
       "140                                  131  міждержавні  2021  \n",
       "141                                   32  міждержавні  2021  \n",
       "142                                  453  міждержавні  2021  \n",
       "143                                   43  міждержавні  2021  \n",
       "\n",
       "[144 rows x 6 columns]"
      ]
     },
     "execution_count": 11,
     "metadata": {},
     "output_type": "execute_result"
    }
   ],
   "source": [
    "df_village = pd.read_excel('migration_terrain_2019.xlsx', sheet_name=1)\n",
    "df_village"
   ]
  },
  {
   "cell_type": "code",
   "execution_count": 12,
   "metadata": {},
   "outputs": [],
   "source": [
    "all_migration,  crosscountry_migration = df_village[df_village['тип потоку'].str.contains('усі')], df_village[df_village['тип потоку'].str.contains('міждержавні')]\n"
   ]
  },
  {
   "attachments": {},
   "cell_type": "markdown",
   "metadata": {},
   "source": [
    "Анімований графік, що відображає співвідношенняя між кількість вибулих та прибулих в села кожної області. Інформація про внутрішню та зовнішню міграцію. Щоб переглянути дані за різні роки потрінр перетягнути повзунок."
   ]
  },
  {
   "cell_type": "code",
   "execution_count": 13,
   "metadata": {},
   "outputs": [
    {
     "data": {
      "application/vnd.plotly.v1+json": {
       "config": {
        "plotlyServerURL": "https://plot.ly"
       },
       "data": [
        {
         "hovertemplate": "<b>%{hovertext}</b><br><br>регіон=Вінницька область<br>рік=2019<br>кількість прибулих=%{x}<br>кількість вибулих=%{y}<extra></extra>",
         "hovertext": [
          "Вінницька область"
         ],
         "ids": [
          "Вінницька область"
         ],
         "legendgroup": "Вінницька область",
         "marker": {
          "color": "#636efa",
          "symbol": "circle"
         },
         "mode": "markers",
         "name": "Вінницька область",
         "orientation": "v",
         "showlegend": true,
         "type": "scatter",
         "x": [
          7628
         ],
         "xaxis": "x",
         "y": [
          11175
         ],
         "yaxis": "y"
        },
        {
         "hovertemplate": "<b>%{hovertext}</b><br><br>регіон=Волинська область<br>рік=2019<br>кількість прибулих=%{x}<br>кількість вибулих=%{y}<extra></extra>",
         "hovertext": [
          "Волинська область"
         ],
         "ids": [
          "Волинська область"
         ],
         "legendgroup": "Волинська область",
         "marker": {
          "color": "#EF553B",
          "symbol": "circle"
         },
         "mode": "markers",
         "name": "Волинська область",
         "orientation": "v",
         "showlegend": true,
         "type": "scatter",
         "x": [
          6346
         ],
         "xaxis": "x",
         "y": [
          7026
         ],
         "yaxis": "y"
        },
        {
         "hovertemplate": "<b>%{hovertext}</b><br><br>регіон=Дніпропетровська область<br>рік=2019<br>кількість прибулих=%{x}<br>кількість вибулих=%{y}<extra></extra>",
         "hovertext": [
          "Дніпропетровська область"
         ],
         "ids": [
          "Дніпропетровська область"
         ],
         "legendgroup": "Дніпропетровська область",
         "marker": {
          "color": "#00cc96",
          "symbol": "circle"
         },
         "mode": "markers",
         "name": "Дніпропетровська область",
         "orientation": "v",
         "showlegend": true,
         "type": "scatter",
         "x": [
          5775
         ],
         "xaxis": "x",
         "y": [
          8523
         ],
         "yaxis": "y"
        },
        {
         "hovertemplate": "<b>%{hovertext}</b><br><br>регіон=Донецька область<br>рік=2019<br>кількість прибулих=%{x}<br>кількість вибулих=%{y}<extra></extra>",
         "hovertext": [
          "Донецька область"
         ],
         "ids": [
          "Донецька область"
         ],
         "legendgroup": "Донецька область",
         "marker": {
          "color": "#ab63fa",
          "symbol": "circle"
         },
         "mode": "markers",
         "name": "Донецька область",
         "orientation": "v",
         "showlegend": true,
         "type": "scatter",
         "x": [
          2708
         ],
         "xaxis": "x",
         "y": [
          4113
         ],
         "yaxis": "y"
        },
        {
         "hovertemplate": "<b>%{hovertext}</b><br><br>регіон=Житомирська область<br>рік=2019<br>кількість прибулих=%{x}<br>кількість вибулих=%{y}<extra></extra>",
         "hovertext": [
          "Житомирська область"
         ],
         "ids": [
          "Житомирська область"
         ],
         "legendgroup": "Житомирська область",
         "marker": {
          "color": "#FFA15A",
          "symbol": "circle"
         },
         "mode": "markers",
         "name": "Житомирська область",
         "orientation": "v",
         "showlegend": true,
         "type": "scatter",
         "x": [
          7798
         ],
         "xaxis": "x",
         "y": [
          9156
         ],
         "yaxis": "y"
        },
        {
         "hovertemplate": "<b>%{hovertext}</b><br><br>регіон=Закарпатська область<br>рік=2019<br>кількість прибулих=%{x}<br>кількість вибулих=%{y}<extra></extra>",
         "hovertext": [
          "Закарпатська область"
         ],
         "ids": [
          "Закарпатська область"
         ],
         "legendgroup": "Закарпатська область",
         "marker": {
          "color": "#19d3f3",
          "symbol": "circle"
         },
         "mode": "markers",
         "name": "Закарпатська область",
         "orientation": "v",
         "showlegend": true,
         "type": "scatter",
         "x": [
          2423
         ],
         "xaxis": "x",
         "y": [
          3763
         ],
         "yaxis": "y"
        },
        {
         "hovertemplate": "<b>%{hovertext}</b><br><br>регіон=Запорізька область<br>рік=2019<br>кількість прибулих=%{x}<br>кількість вибулих=%{y}<extra></extra>",
         "hovertext": [
          "Запорізька область"
         ],
         "ids": [
          "Запорізька область"
         ],
         "legendgroup": "Запорізька область",
         "marker": {
          "color": "#FF6692",
          "symbol": "circle"
         },
         "mode": "markers",
         "name": "Запорізька область",
         "orientation": "v",
         "showlegend": true,
         "type": "scatter",
         "x": [
          4496
         ],
         "xaxis": "x",
         "y": [
          5655
         ],
         "yaxis": "y"
        },
        {
         "hovertemplate": "<b>%{hovertext}</b><br><br>регіон=Івано-Франківська область<br>рік=2019<br>кількість прибулих=%{x}<br>кількість вибулих=%{y}<extra></extra>",
         "hovertext": [
          "Івано-Франківська область"
         ],
         "ids": [
          "Івано-Франківська область"
         ],
         "legendgroup": "Івано-Франківська область",
         "marker": {
          "color": "#B6E880",
          "symbol": "circle"
         },
         "mode": "markers",
         "name": "Івано-Франківська область",
         "orientation": "v",
         "showlegend": true,
         "type": "scatter",
         "x": [
          6576
         ],
         "xaxis": "x",
         "y": [
          7386
         ],
         "yaxis": "y"
        },
        {
         "hovertemplate": "<b>%{hovertext}</b><br><br>регіон=Київська область<br>рік=2019<br>кількість прибулих=%{x}<br>кількість вибулих=%{y}<extra></extra>",
         "hovertext": [
          "Київська область"
         ],
         "ids": [
          "Київська область"
         ],
         "legendgroup": "Київська область",
         "marker": {
          "color": "#FF97FF",
          "symbol": "circle"
         },
         "mode": "markers",
         "name": "Київська область",
         "orientation": "v",
         "showlegend": true,
         "type": "scatter",
         "x": [
          26797
         ],
         "xaxis": "x",
         "y": [
          13689
         ],
         "yaxis": "y"
        },
        {
         "hovertemplate": "<b>%{hovertext}</b><br><br>регіон=Кіровоградська область<br>рік=2019<br>кількість прибулих=%{x}<br>кількість вибулих=%{y}<extra></extra>",
         "hovertext": [
          "Кіровоградська область"
         ],
         "ids": [
          "Кіровоградська область"
         ],
         "legendgroup": "Кіровоградська область",
         "marker": {
          "color": "#FECB52",
          "symbol": "circle"
         },
         "mode": "markers",
         "name": "Кіровоградська область",
         "orientation": "v",
         "showlegend": true,
         "type": "scatter",
         "x": [
          4274
         ],
         "xaxis": "x",
         "y": [
          6939
         ],
         "yaxis": "y"
        },
        {
         "hovertemplate": "<b>%{hovertext}</b><br><br>регіон=Луганська область<br>рік=2019<br>кількість прибулих=%{x}<br>кількість вибулих=%{y}<extra></extra>",
         "hovertext": [
          "Луганська область"
         ],
         "ids": [
          "Луганська область"
         ],
         "legendgroup": "Луганська область",
         "marker": {
          "color": "#636efa",
          "symbol": "circle"
         },
         "mode": "markers",
         "name": "Луганська область",
         "orientation": "v",
         "showlegend": true,
         "type": "scatter",
         "x": [
          1527
         ],
         "xaxis": "x",
         "y": [
          2555
         ],
         "yaxis": "y"
        },
        {
         "hovertemplate": "<b>%{hovertext}</b><br><br>регіон=Львівська область<br>рік=2019<br>кількість прибулих=%{x}<br>кількість вибулих=%{y}<extra></extra>",
         "hovertext": [
          "Львівська область"
         ],
         "ids": [
          "Львівська область"
         ],
         "legendgroup": "Львівська область",
         "marker": {
          "color": "#EF553B",
          "symbol": "circle"
         },
         "mode": "markers",
         "name": "Львівська область",
         "orientation": "v",
         "showlegend": true,
         "type": "scatter",
         "x": [
          11183
         ],
         "xaxis": "x",
         "y": [
          11666
         ],
         "yaxis": "y"
        },
        {
         "hovertemplate": "<b>%{hovertext}</b><br><br>регіон=Миколаївська область<br>рік=2019<br>кількість прибулих=%{x}<br>кількість вибулих=%{y}<extra></extra>",
         "hovertext": [
          "Миколаївська область"
         ],
         "ids": [
          "Миколаївська область"
         ],
         "legendgroup": "Миколаївська область",
         "marker": {
          "color": "#00cc96",
          "symbol": "circle"
         },
         "mode": "markers",
         "name": "Миколаївська область",
         "orientation": "v",
         "showlegend": true,
         "type": "scatter",
         "x": [
          3650
         ],
         "xaxis": "x",
         "y": [
          5794
         ],
         "yaxis": "y"
        },
        {
         "hovertemplate": "<b>%{hovertext}</b><br><br>регіон=Одеська область<br>рік=2019<br>кількість прибулих=%{x}<br>кількість вибулих=%{y}<extra></extra>",
         "hovertext": [
          "Одеська область"
         ],
         "ids": [
          "Одеська область"
         ],
         "legendgroup": "Одеська область",
         "marker": {
          "color": "#ab63fa",
          "symbol": "circle"
         },
         "mode": "markers",
         "name": "Одеська область",
         "orientation": "v",
         "showlegend": true,
         "type": "scatter",
         "x": [
          10047
         ],
         "xaxis": "x",
         "y": [
          10533
         ],
         "yaxis": "y"
        },
        {
         "hovertemplate": "<b>%{hovertext}</b><br><br>регіон=Полтавська область<br>рік=2019<br>кількість прибулих=%{x}<br>кількість вибулих=%{y}<extra></extra>",
         "hovertext": [
          "Полтавська область"
         ],
         "ids": [
          "Полтавська область"
         ],
         "legendgroup": "Полтавська область",
         "marker": {
          "color": "#FFA15A",
          "symbol": "circle"
         },
         "mode": "markers",
         "name": "Полтавська область",
         "orientation": "v",
         "showlegend": true,
         "type": "scatter",
         "x": [
          9748
         ],
         "xaxis": "x",
         "y": [
          10424
         ],
         "yaxis": "y"
        },
        {
         "hovertemplate": "<b>%{hovertext}</b><br><br>регіон=Рівненська область<br>рік=2019<br>кількість прибулих=%{x}<br>кількість вибулих=%{y}<extra></extra>",
         "hovertext": [
          "Рівненська область"
         ],
         "ids": [
          "Рівненська область"
         ],
         "legendgroup": "Рівненська область",
         "marker": {
          "color": "#19d3f3",
          "symbol": "circle"
         },
         "mode": "markers",
         "name": "Рівненська область",
         "orientation": "v",
         "showlegend": true,
         "type": "scatter",
         "x": [
          7463
         ],
         "xaxis": "x",
         "y": [
          9110
         ],
         "yaxis": "y"
        },
        {
         "hovertemplate": "<b>%{hovertext}</b><br><br>регіон=Сумська область<br>рік=2019<br>кількість прибулих=%{x}<br>кількість вибулих=%{y}<extra></extra>",
         "hovertext": [
          "Сумська область"
         ],
         "ids": [
          "Сумська область"
         ],
         "legendgroup": "Сумська область",
         "marker": {
          "color": "#FF6692",
          "symbol": "circle"
         },
         "mode": "markers",
         "name": "Сумська область",
         "orientation": "v",
         "showlegend": true,
         "type": "scatter",
         "x": [
          4996
         ],
         "xaxis": "x",
         "y": [
          6968
         ],
         "yaxis": "y"
        },
        {
         "hovertemplate": "<b>%{hovertext}</b><br><br>регіон=Тернопільська область<br>рік=2019<br>кількість прибулих=%{x}<br>кількість вибулих=%{y}<extra></extra>",
         "hovertext": [
          "Тернопільська область"
         ],
         "ids": [
          "Тернопільська область"
         ],
         "legendgroup": "Тернопільська область",
         "marker": {
          "color": "#B6E880",
          "symbol": "circle"
         },
         "mode": "markers",
         "name": "Тернопільська область",
         "orientation": "v",
         "showlegend": true,
         "type": "scatter",
         "x": [
          6258
         ],
         "xaxis": "x",
         "y": [
          7975
         ],
         "yaxis": "y"
        },
        {
         "hovertemplate": "<b>%{hovertext}</b><br><br>регіон=Харківська область<br>рік=2019<br>кількість прибулих=%{x}<br>кількість вибулих=%{y}<extra></extra>",
         "hovertext": [
          "Харківська область"
         ],
         "ids": [
          "Харківська область"
         ],
         "legendgroup": "Харківська область",
         "marker": {
          "color": "#FF97FF",
          "symbol": "circle"
         },
         "mode": "markers",
         "name": "Харківська область",
         "orientation": "v",
         "showlegend": true,
         "type": "scatter",
         "x": [
          8118
         ],
         "xaxis": "x",
         "y": [
          9519
         ],
         "yaxis": "y"
        },
        {
         "hovertemplate": "<b>%{hovertext}</b><br><br>регіон=Херсонська область<br>рік=2019<br>кількість прибулих=%{x}<br>кількість вибулих=%{y}<extra></extra>",
         "hovertext": [
          "Херсонська область"
         ],
         "ids": [
          "Херсонська область"
         ],
         "legendgroup": "Херсонська область",
         "marker": {
          "color": "#FECB52",
          "symbol": "circle"
         },
         "mode": "markers",
         "name": "Херсонська область",
         "orientation": "v",
         "showlegend": true,
         "type": "scatter",
         "x": [
          3869
         ],
         "xaxis": "x",
         "y": [
          5647
         ],
         "yaxis": "y"
        },
        {
         "hovertemplate": "<b>%{hovertext}</b><br><br>регіон=Хмельницька область<br>рік=2019<br>кількість прибулих=%{x}<br>кількість вибулих=%{y}<extra></extra>",
         "hovertext": [
          "Хмельницька область"
         ],
         "ids": [
          "Хмельницька область"
         ],
         "legendgroup": "Хмельницька область",
         "marker": {
          "color": "#636efa",
          "symbol": "circle"
         },
         "mode": "markers",
         "name": "Хмельницька область",
         "orientation": "v",
         "showlegend": true,
         "type": "scatter",
         "x": [
          8496
         ],
         "xaxis": "x",
         "y": [
          9981
         ],
         "yaxis": "y"
        },
        {
         "hovertemplate": "<b>%{hovertext}</b><br><br>регіон=Черкаська область<br>рік=2019<br>кількість прибулих=%{x}<br>кількість вибулих=%{y}<extra></extra>",
         "hovertext": [
          "Черкаська область"
         ],
         "ids": [
          "Черкаська область"
         ],
         "legendgroup": "Черкаська область",
         "marker": {
          "color": "#EF553B",
          "symbol": "circle"
         },
         "mode": "markers",
         "name": "Черкаська область",
         "orientation": "v",
         "showlegend": true,
         "type": "scatter",
         "x": [
          7321
         ],
         "xaxis": "x",
         "y": [
          9199
         ],
         "yaxis": "y"
        },
        {
         "hovertemplate": "<b>%{hovertext}</b><br><br>регіон=Чернівецька область<br>рік=2019<br>кількість прибулих=%{x}<br>кількість вибулих=%{y}<extra></extra>",
         "hovertext": [
          "Чернівецька область"
         ],
         "ids": [
          "Чернівецька область"
         ],
         "legendgroup": "Чернівецька область",
         "marker": {
          "color": "#00cc96",
          "symbol": "circle"
         },
         "mode": "markers",
         "name": "Чернівецька область",
         "orientation": "v",
         "showlegend": true,
         "type": "scatter",
         "x": [
          3610
         ],
         "xaxis": "x",
         "y": [
          4391
         ],
         "yaxis": "y"
        },
        {
         "hovertemplate": "<b>%{hovertext}</b><br><br>регіон=Чернігівська область<br>рік=2019<br>кількість прибулих=%{x}<br>кількість вибулих=%{y}<extra></extra>",
         "hovertext": [
          "Чернігівська область"
         ],
         "ids": [
          "Чернігівська область"
         ],
         "legendgroup": "Чернігівська область",
         "marker": {
          "color": "#ab63fa",
          "symbol": "circle"
         },
         "mode": "markers",
         "name": "Чернігівська область",
         "orientation": "v",
         "showlegend": true,
         "type": "scatter",
         "x": [
          4895
         ],
         "xaxis": "x",
         "y": [
          5976
         ],
         "yaxis": "y"
        }
       ],
       "frames": [
        {
         "data": [
          {
           "hovertemplate": "<b>%{hovertext}</b><br><br>регіон=Вінницька область<br>рік=2019<br>кількість прибулих=%{x}<br>кількість вибулих=%{y}<extra></extra>",
           "hovertext": [
            "Вінницька область"
           ],
           "ids": [
            "Вінницька область"
           ],
           "legendgroup": "Вінницька область",
           "marker": {
            "color": "#636efa",
            "symbol": "circle"
           },
           "mode": "markers",
           "name": "Вінницька область",
           "orientation": "v",
           "showlegend": true,
           "type": "scatter",
           "x": [
            7628
           ],
           "xaxis": "x",
           "y": [
            11175
           ],
           "yaxis": "y"
          },
          {
           "hovertemplate": "<b>%{hovertext}</b><br><br>регіон=Волинська область<br>рік=2019<br>кількість прибулих=%{x}<br>кількість вибулих=%{y}<extra></extra>",
           "hovertext": [
            "Волинська область"
           ],
           "ids": [
            "Волинська область"
           ],
           "legendgroup": "Волинська область",
           "marker": {
            "color": "#EF553B",
            "symbol": "circle"
           },
           "mode": "markers",
           "name": "Волинська область",
           "orientation": "v",
           "showlegend": true,
           "type": "scatter",
           "x": [
            6346
           ],
           "xaxis": "x",
           "y": [
            7026
           ],
           "yaxis": "y"
          },
          {
           "hovertemplate": "<b>%{hovertext}</b><br><br>регіон=Дніпропетровська область<br>рік=2019<br>кількість прибулих=%{x}<br>кількість вибулих=%{y}<extra></extra>",
           "hovertext": [
            "Дніпропетровська область"
           ],
           "ids": [
            "Дніпропетровська область"
           ],
           "legendgroup": "Дніпропетровська область",
           "marker": {
            "color": "#00cc96",
            "symbol": "circle"
           },
           "mode": "markers",
           "name": "Дніпропетровська область",
           "orientation": "v",
           "showlegend": true,
           "type": "scatter",
           "x": [
            5775
           ],
           "xaxis": "x",
           "y": [
            8523
           ],
           "yaxis": "y"
          },
          {
           "hovertemplate": "<b>%{hovertext}</b><br><br>регіон=Донецька область<br>рік=2019<br>кількість прибулих=%{x}<br>кількість вибулих=%{y}<extra></extra>",
           "hovertext": [
            "Донецька область"
           ],
           "ids": [
            "Донецька область"
           ],
           "legendgroup": "Донецька область",
           "marker": {
            "color": "#ab63fa",
            "symbol": "circle"
           },
           "mode": "markers",
           "name": "Донецька область",
           "orientation": "v",
           "showlegend": true,
           "type": "scatter",
           "x": [
            2708
           ],
           "xaxis": "x",
           "y": [
            4113
           ],
           "yaxis": "y"
          },
          {
           "hovertemplate": "<b>%{hovertext}</b><br><br>регіон=Житомирська область<br>рік=2019<br>кількість прибулих=%{x}<br>кількість вибулих=%{y}<extra></extra>",
           "hovertext": [
            "Житомирська область"
           ],
           "ids": [
            "Житомирська область"
           ],
           "legendgroup": "Житомирська область",
           "marker": {
            "color": "#FFA15A",
            "symbol": "circle"
           },
           "mode": "markers",
           "name": "Житомирська область",
           "orientation": "v",
           "showlegend": true,
           "type": "scatter",
           "x": [
            7798
           ],
           "xaxis": "x",
           "y": [
            9156
           ],
           "yaxis": "y"
          },
          {
           "hovertemplate": "<b>%{hovertext}</b><br><br>регіон=Закарпатська область<br>рік=2019<br>кількість прибулих=%{x}<br>кількість вибулих=%{y}<extra></extra>",
           "hovertext": [
            "Закарпатська область"
           ],
           "ids": [
            "Закарпатська область"
           ],
           "legendgroup": "Закарпатська область",
           "marker": {
            "color": "#19d3f3",
            "symbol": "circle"
           },
           "mode": "markers",
           "name": "Закарпатська область",
           "orientation": "v",
           "showlegend": true,
           "type": "scatter",
           "x": [
            2423
           ],
           "xaxis": "x",
           "y": [
            3763
           ],
           "yaxis": "y"
          },
          {
           "hovertemplate": "<b>%{hovertext}</b><br><br>регіон=Запорізька область<br>рік=2019<br>кількість прибулих=%{x}<br>кількість вибулих=%{y}<extra></extra>",
           "hovertext": [
            "Запорізька область"
           ],
           "ids": [
            "Запорізька область"
           ],
           "legendgroup": "Запорізька область",
           "marker": {
            "color": "#FF6692",
            "symbol": "circle"
           },
           "mode": "markers",
           "name": "Запорізька область",
           "orientation": "v",
           "showlegend": true,
           "type": "scatter",
           "x": [
            4496
           ],
           "xaxis": "x",
           "y": [
            5655
           ],
           "yaxis": "y"
          },
          {
           "hovertemplate": "<b>%{hovertext}</b><br><br>регіон=Івано-Франківська область<br>рік=2019<br>кількість прибулих=%{x}<br>кількість вибулих=%{y}<extra></extra>",
           "hovertext": [
            "Івано-Франківська область"
           ],
           "ids": [
            "Івано-Франківська область"
           ],
           "legendgroup": "Івано-Франківська область",
           "marker": {
            "color": "#B6E880",
            "symbol": "circle"
           },
           "mode": "markers",
           "name": "Івано-Франківська область",
           "orientation": "v",
           "showlegend": true,
           "type": "scatter",
           "x": [
            6576
           ],
           "xaxis": "x",
           "y": [
            7386
           ],
           "yaxis": "y"
          },
          {
           "hovertemplate": "<b>%{hovertext}</b><br><br>регіон=Київська область<br>рік=2019<br>кількість прибулих=%{x}<br>кількість вибулих=%{y}<extra></extra>",
           "hovertext": [
            "Київська область"
           ],
           "ids": [
            "Київська область"
           ],
           "legendgroup": "Київська область",
           "marker": {
            "color": "#FF97FF",
            "symbol": "circle"
           },
           "mode": "markers",
           "name": "Київська область",
           "orientation": "v",
           "showlegend": true,
           "type": "scatter",
           "x": [
            26797
           ],
           "xaxis": "x",
           "y": [
            13689
           ],
           "yaxis": "y"
          },
          {
           "hovertemplate": "<b>%{hovertext}</b><br><br>регіон=Кіровоградська область<br>рік=2019<br>кількість прибулих=%{x}<br>кількість вибулих=%{y}<extra></extra>",
           "hovertext": [
            "Кіровоградська область"
           ],
           "ids": [
            "Кіровоградська область"
           ],
           "legendgroup": "Кіровоградська область",
           "marker": {
            "color": "#FECB52",
            "symbol": "circle"
           },
           "mode": "markers",
           "name": "Кіровоградська область",
           "orientation": "v",
           "showlegend": true,
           "type": "scatter",
           "x": [
            4274
           ],
           "xaxis": "x",
           "y": [
            6939
           ],
           "yaxis": "y"
          },
          {
           "hovertemplate": "<b>%{hovertext}</b><br><br>регіон=Луганська область<br>рік=2019<br>кількість прибулих=%{x}<br>кількість вибулих=%{y}<extra></extra>",
           "hovertext": [
            "Луганська область"
           ],
           "ids": [
            "Луганська область"
           ],
           "legendgroup": "Луганська область",
           "marker": {
            "color": "#636efa",
            "symbol": "circle"
           },
           "mode": "markers",
           "name": "Луганська область",
           "orientation": "v",
           "showlegend": true,
           "type": "scatter",
           "x": [
            1527
           ],
           "xaxis": "x",
           "y": [
            2555
           ],
           "yaxis": "y"
          },
          {
           "hovertemplate": "<b>%{hovertext}</b><br><br>регіон=Львівська область<br>рік=2019<br>кількість прибулих=%{x}<br>кількість вибулих=%{y}<extra></extra>",
           "hovertext": [
            "Львівська область"
           ],
           "ids": [
            "Львівська область"
           ],
           "legendgroup": "Львівська область",
           "marker": {
            "color": "#EF553B",
            "symbol": "circle"
           },
           "mode": "markers",
           "name": "Львівська область",
           "orientation": "v",
           "showlegend": true,
           "type": "scatter",
           "x": [
            11183
           ],
           "xaxis": "x",
           "y": [
            11666
           ],
           "yaxis": "y"
          },
          {
           "hovertemplate": "<b>%{hovertext}</b><br><br>регіон=Миколаївська область<br>рік=2019<br>кількість прибулих=%{x}<br>кількість вибулих=%{y}<extra></extra>",
           "hovertext": [
            "Миколаївська область"
           ],
           "ids": [
            "Миколаївська область"
           ],
           "legendgroup": "Миколаївська область",
           "marker": {
            "color": "#00cc96",
            "symbol": "circle"
           },
           "mode": "markers",
           "name": "Миколаївська область",
           "orientation": "v",
           "showlegend": true,
           "type": "scatter",
           "x": [
            3650
           ],
           "xaxis": "x",
           "y": [
            5794
           ],
           "yaxis": "y"
          },
          {
           "hovertemplate": "<b>%{hovertext}</b><br><br>регіон=Одеська область<br>рік=2019<br>кількість прибулих=%{x}<br>кількість вибулих=%{y}<extra></extra>",
           "hovertext": [
            "Одеська область"
           ],
           "ids": [
            "Одеська область"
           ],
           "legendgroup": "Одеська область",
           "marker": {
            "color": "#ab63fa",
            "symbol": "circle"
           },
           "mode": "markers",
           "name": "Одеська область",
           "orientation": "v",
           "showlegend": true,
           "type": "scatter",
           "x": [
            10047
           ],
           "xaxis": "x",
           "y": [
            10533
           ],
           "yaxis": "y"
          },
          {
           "hovertemplate": "<b>%{hovertext}</b><br><br>регіон=Полтавська область<br>рік=2019<br>кількість прибулих=%{x}<br>кількість вибулих=%{y}<extra></extra>",
           "hovertext": [
            "Полтавська область"
           ],
           "ids": [
            "Полтавська область"
           ],
           "legendgroup": "Полтавська область",
           "marker": {
            "color": "#FFA15A",
            "symbol": "circle"
           },
           "mode": "markers",
           "name": "Полтавська область",
           "orientation": "v",
           "showlegend": true,
           "type": "scatter",
           "x": [
            9748
           ],
           "xaxis": "x",
           "y": [
            10424
           ],
           "yaxis": "y"
          },
          {
           "hovertemplate": "<b>%{hovertext}</b><br><br>регіон=Рівненська область<br>рік=2019<br>кількість прибулих=%{x}<br>кількість вибулих=%{y}<extra></extra>",
           "hovertext": [
            "Рівненська область"
           ],
           "ids": [
            "Рівненська область"
           ],
           "legendgroup": "Рівненська область",
           "marker": {
            "color": "#19d3f3",
            "symbol": "circle"
           },
           "mode": "markers",
           "name": "Рівненська область",
           "orientation": "v",
           "showlegend": true,
           "type": "scatter",
           "x": [
            7463
           ],
           "xaxis": "x",
           "y": [
            9110
           ],
           "yaxis": "y"
          },
          {
           "hovertemplate": "<b>%{hovertext}</b><br><br>регіон=Сумська область<br>рік=2019<br>кількість прибулих=%{x}<br>кількість вибулих=%{y}<extra></extra>",
           "hovertext": [
            "Сумська область"
           ],
           "ids": [
            "Сумська область"
           ],
           "legendgroup": "Сумська область",
           "marker": {
            "color": "#FF6692",
            "symbol": "circle"
           },
           "mode": "markers",
           "name": "Сумська область",
           "orientation": "v",
           "showlegend": true,
           "type": "scatter",
           "x": [
            4996
           ],
           "xaxis": "x",
           "y": [
            6968
           ],
           "yaxis": "y"
          },
          {
           "hovertemplate": "<b>%{hovertext}</b><br><br>регіон=Тернопільська область<br>рік=2019<br>кількість прибулих=%{x}<br>кількість вибулих=%{y}<extra></extra>",
           "hovertext": [
            "Тернопільська область"
           ],
           "ids": [
            "Тернопільська область"
           ],
           "legendgroup": "Тернопільська область",
           "marker": {
            "color": "#B6E880",
            "symbol": "circle"
           },
           "mode": "markers",
           "name": "Тернопільська область",
           "orientation": "v",
           "showlegend": true,
           "type": "scatter",
           "x": [
            6258
           ],
           "xaxis": "x",
           "y": [
            7975
           ],
           "yaxis": "y"
          },
          {
           "hovertemplate": "<b>%{hovertext}</b><br><br>регіон=Харківська область<br>рік=2019<br>кількість прибулих=%{x}<br>кількість вибулих=%{y}<extra></extra>",
           "hovertext": [
            "Харківська область"
           ],
           "ids": [
            "Харківська область"
           ],
           "legendgroup": "Харківська область",
           "marker": {
            "color": "#FF97FF",
            "symbol": "circle"
           },
           "mode": "markers",
           "name": "Харківська область",
           "orientation": "v",
           "showlegend": true,
           "type": "scatter",
           "x": [
            8118
           ],
           "xaxis": "x",
           "y": [
            9519
           ],
           "yaxis": "y"
          },
          {
           "hovertemplate": "<b>%{hovertext}</b><br><br>регіон=Херсонська область<br>рік=2019<br>кількість прибулих=%{x}<br>кількість вибулих=%{y}<extra></extra>",
           "hovertext": [
            "Херсонська область"
           ],
           "ids": [
            "Херсонська область"
           ],
           "legendgroup": "Херсонська область",
           "marker": {
            "color": "#FECB52",
            "symbol": "circle"
           },
           "mode": "markers",
           "name": "Херсонська область",
           "orientation": "v",
           "showlegend": true,
           "type": "scatter",
           "x": [
            3869
           ],
           "xaxis": "x",
           "y": [
            5647
           ],
           "yaxis": "y"
          },
          {
           "hovertemplate": "<b>%{hovertext}</b><br><br>регіон=Хмельницька область<br>рік=2019<br>кількість прибулих=%{x}<br>кількість вибулих=%{y}<extra></extra>",
           "hovertext": [
            "Хмельницька область"
           ],
           "ids": [
            "Хмельницька область"
           ],
           "legendgroup": "Хмельницька область",
           "marker": {
            "color": "#636efa",
            "symbol": "circle"
           },
           "mode": "markers",
           "name": "Хмельницька область",
           "orientation": "v",
           "showlegend": true,
           "type": "scatter",
           "x": [
            8496
           ],
           "xaxis": "x",
           "y": [
            9981
           ],
           "yaxis": "y"
          },
          {
           "hovertemplate": "<b>%{hovertext}</b><br><br>регіон=Черкаська область<br>рік=2019<br>кількість прибулих=%{x}<br>кількість вибулих=%{y}<extra></extra>",
           "hovertext": [
            "Черкаська область"
           ],
           "ids": [
            "Черкаська область"
           ],
           "legendgroup": "Черкаська область",
           "marker": {
            "color": "#EF553B",
            "symbol": "circle"
           },
           "mode": "markers",
           "name": "Черкаська область",
           "orientation": "v",
           "showlegend": true,
           "type": "scatter",
           "x": [
            7321
           ],
           "xaxis": "x",
           "y": [
            9199
           ],
           "yaxis": "y"
          },
          {
           "hovertemplate": "<b>%{hovertext}</b><br><br>регіон=Чернівецька область<br>рік=2019<br>кількість прибулих=%{x}<br>кількість вибулих=%{y}<extra></extra>",
           "hovertext": [
            "Чернівецька область"
           ],
           "ids": [
            "Чернівецька область"
           ],
           "legendgroup": "Чернівецька область",
           "marker": {
            "color": "#00cc96",
            "symbol": "circle"
           },
           "mode": "markers",
           "name": "Чернівецька область",
           "orientation": "v",
           "showlegend": true,
           "type": "scatter",
           "x": [
            3610
           ],
           "xaxis": "x",
           "y": [
            4391
           ],
           "yaxis": "y"
          },
          {
           "hovertemplate": "<b>%{hovertext}</b><br><br>регіон=Чернігівська область<br>рік=2019<br>кількість прибулих=%{x}<br>кількість вибулих=%{y}<extra></extra>",
           "hovertext": [
            "Чернігівська область"
           ],
           "ids": [
            "Чернігівська область"
           ],
           "legendgroup": "Чернігівська область",
           "marker": {
            "color": "#ab63fa",
            "symbol": "circle"
           },
           "mode": "markers",
           "name": "Чернігівська область",
           "orientation": "v",
           "showlegend": true,
           "type": "scatter",
           "x": [
            4895
           ],
           "xaxis": "x",
           "y": [
            5976
           ],
           "yaxis": "y"
          }
         ],
         "name": "2019"
        },
        {
         "data": [
          {
           "hovertemplate": "<b>%{hovertext}</b><br><br>регіон=Вінницька область<br>рік=2020<br>кількість прибулих=%{x}<br>кількість вибулих=%{y}<extra></extra>",
           "hovertext": [
            "Вінницька область"
           ],
           "ids": [
            "Вінницька область"
           ],
           "legendgroup": "Вінницька область",
           "marker": {
            "color": "#636efa",
            "symbol": "circle"
           },
           "mode": "markers",
           "name": "Вінницька область",
           "orientation": "v",
           "showlegend": true,
           "type": "scatter",
           "x": [
            4372
           ],
           "xaxis": "x",
           "y": [
            7878
           ],
           "yaxis": "y"
          },
          {
           "hovertemplate": "<b>%{hovertext}</b><br><br>регіон=Волинська область<br>рік=2020<br>кількість прибулих=%{x}<br>кількість вибулих=%{y}<extra></extra>",
           "hovertext": [
            "Волинська область"
           ],
           "ids": [
            "Волинська область"
           ],
           "legendgroup": "Волинська область",
           "marker": {
            "color": "#EF553B",
            "symbol": "circle"
           },
           "mode": "markers",
           "name": "Волинська область",
           "orientation": "v",
           "showlegend": true,
           "type": "scatter",
           "x": [
            4769
           ],
           "xaxis": "x",
           "y": [
            4952
           ],
           "yaxis": "y"
          },
          {
           "hovertemplate": "<b>%{hovertext}</b><br><br>регіон=Дніпропетровська область<br>рік=2020<br>кількість прибулих=%{x}<br>кількість вибулих=%{y}<extra></extra>",
           "hovertext": [
            "Дніпропетровська область"
           ],
           "ids": [
            "Дніпропетровська область"
           ],
           "legendgroup": "Дніпропетровська область",
           "marker": {
            "color": "#00cc96",
            "symbol": "circle"
           },
           "mode": "markers",
           "name": "Дніпропетровська область",
           "orientation": "v",
           "showlegend": true,
           "type": "scatter",
           "x": [
            4762
           ],
           "xaxis": "x",
           "y": [
            6792
           ],
           "yaxis": "y"
          },
          {
           "hovertemplate": "<b>%{hovertext}</b><br><br>регіон=Донецька область<br>рік=2020<br>кількість прибулих=%{x}<br>кількість вибулих=%{y}<extra></extra>",
           "hovertext": [
            "Донецька область"
           ],
           "ids": [
            "Донецька область"
           ],
           "legendgroup": "Донецька область",
           "marker": {
            "color": "#ab63fa",
            "symbol": "circle"
           },
           "mode": "markers",
           "name": "Донецька область",
           "orientation": "v",
           "showlegend": true,
           "type": "scatter",
           "x": [
            1985
           ],
           "xaxis": "x",
           "y": [
            3423
           ],
           "yaxis": "y"
          },
          {
           "hovertemplate": "<b>%{hovertext}</b><br><br>регіон=Житомирська область<br>рік=2020<br>кількість прибулих=%{x}<br>кількість вибулих=%{y}<extra></extra>",
           "hovertext": [
            "Житомирська область"
           ],
           "ids": [
            "Житомирська область"
           ],
           "legendgroup": "Житомирська область",
           "marker": {
            "color": "#FFA15A",
            "symbol": "circle"
           },
           "mode": "markers",
           "name": "Житомирська область",
           "orientation": "v",
           "showlegend": true,
           "type": "scatter",
           "x": [
            5874
           ],
           "xaxis": "x",
           "y": [
            7207
           ],
           "yaxis": "y"
          },
          {
           "hovertemplate": "<b>%{hovertext}</b><br><br>регіон=Закарпатська область<br>рік=2020<br>кількість прибулих=%{x}<br>кількість вибулих=%{y}<extra></extra>",
           "hovertext": [
            "Закарпатська область"
           ],
           "ids": [
            "Закарпатська область"
           ],
           "legendgroup": "Закарпатська область",
           "marker": {
            "color": "#19d3f3",
            "symbol": "circle"
           },
           "mode": "markers",
           "name": "Закарпатська область",
           "orientation": "v",
           "showlegend": true,
           "type": "scatter",
           "x": [
            1707
           ],
           "xaxis": "x",
           "y": [
            2816
           ],
           "yaxis": "y"
          },
          {
           "hovertemplate": "<b>%{hovertext}</b><br><br>регіон=Запорізька область<br>рік=2020<br>кількість прибулих=%{x}<br>кількість вибулих=%{y}<extra></extra>",
           "hovertext": [
            "Запорізька область"
           ],
           "ids": [
            "Запорізька область"
           ],
           "legendgroup": "Запорізька область",
           "marker": {
            "color": "#FF6692",
            "symbol": "circle"
           },
           "mode": "markers",
           "name": "Запорізька область",
           "orientation": "v",
           "showlegend": true,
           "type": "scatter",
           "x": [
            3498
           ],
           "xaxis": "x",
           "y": [
            4593
           ],
           "yaxis": "y"
          },
          {
           "hovertemplate": "<b>%{hovertext}</b><br><br>регіон=Івано-Франківська область<br>рік=2020<br>кількість прибулих=%{x}<br>кількість вибулих=%{y}<extra></extra>",
           "hovertext": [
            "Івано-Франківська область"
           ],
           "ids": [
            "Івано-Франківська область"
           ],
           "legendgroup": "Івано-Франківська область",
           "marker": {
            "color": "#B6E880",
            "symbol": "circle"
           },
           "mode": "markers",
           "name": "Івано-Франківська область",
           "orientation": "v",
           "showlegend": true,
           "type": "scatter",
           "x": [
            5047
           ],
           "xaxis": "x",
           "y": [
            5714
           ],
           "yaxis": "y"
          },
          {
           "hovertemplate": "<b>%{hovertext}</b><br><br>регіон=Київська область<br>рік=2020<br>кількість прибулих=%{x}<br>кількість вибулих=%{y}<extra></extra>",
           "hovertext": [
            "Київська область"
           ],
           "ids": [
            "Київська область"
           ],
           "legendgroup": "Київська область",
           "marker": {
            "color": "#FF97FF",
            "symbol": "circle"
           },
           "mode": "markers",
           "name": "Київська область",
           "orientation": "v",
           "showlegend": true,
           "type": "scatter",
           "x": [
            22787
           ],
           "xaxis": "x",
           "y": [
            10502
           ],
           "yaxis": "y"
          },
          {
           "hovertemplate": "<b>%{hovertext}</b><br><br>регіон=Кіровоградська область<br>рік=2020<br>кількість прибулих=%{x}<br>кількість вибулих=%{y}<extra></extra>",
           "hovertext": [
            "Кіровоградська область"
           ],
           "ids": [
            "Кіровоградська область"
           ],
           "legendgroup": "Кіровоградська область",
           "marker": {
            "color": "#FECB52",
            "symbol": "circle"
           },
           "mode": "markers",
           "name": "Кіровоградська область",
           "orientation": "v",
           "showlegend": true,
           "type": "scatter",
           "x": [
            3362
           ],
           "xaxis": "x",
           "y": [
            5340
           ],
           "yaxis": "y"
          },
          {
           "hovertemplate": "<b>%{hovertext}</b><br><br>регіон=Луганська область<br>рік=2020<br>кількість прибулих=%{x}<br>кількість вибулих=%{y}<extra></extra>",
           "hovertext": [
            "Луганська область"
           ],
           "ids": [
            "Луганська область"
           ],
           "legendgroup": "Луганська область",
           "marker": {
            "color": "#636efa",
            "symbol": "circle"
           },
           "mode": "markers",
           "name": "Луганська область",
           "orientation": "v",
           "showlegend": true,
           "type": "scatter",
           "x": [
            1249
           ],
           "xaxis": "x",
           "y": [
            1961
           ],
           "yaxis": "y"
          },
          {
           "hovertemplate": "<b>%{hovertext}</b><br><br>регіон=Львівська область<br>рік=2020<br>кількість прибулих=%{x}<br>кількість вибулих=%{y}<extra></extra>",
           "hovertext": [
            "Львівська область"
           ],
           "ids": [
            "Львівська область"
           ],
           "legendgroup": "Львівська область",
           "marker": {
            "color": "#EF553B",
            "symbol": "circle"
           },
           "mode": "markers",
           "name": "Львівська область",
           "orientation": "v",
           "showlegend": true,
           "type": "scatter",
           "x": [
            8229
           ],
           "xaxis": "x",
           "y": [
            8144
           ],
           "yaxis": "y"
          },
          {
           "hovertemplate": "<b>%{hovertext}</b><br><br>регіон=Миколаївська область<br>рік=2020<br>кількість прибулих=%{x}<br>кількість вибулих=%{y}<extra></extra>",
           "hovertext": [
            "Миколаївська область"
           ],
           "ids": [
            "Миколаївська область"
           ],
           "legendgroup": "Миколаївська область",
           "marker": {
            "color": "#00cc96",
            "symbol": "circle"
           },
           "mode": "markers",
           "name": "Миколаївська область",
           "orientation": "v",
           "showlegend": true,
           "type": "scatter",
           "x": [
            2663
           ],
           "xaxis": "x",
           "y": [
            4305
           ],
           "yaxis": "y"
          },
          {
           "hovertemplate": "<b>%{hovertext}</b><br><br>регіон=Одеська область<br>рік=2020<br>кількість прибулих=%{x}<br>кількість вибулих=%{y}<extra></extra>",
           "hovertext": [
            "Одеська область"
           ],
           "ids": [
            "Одеська область"
           ],
           "legendgroup": "Одеська область",
           "marker": {
            "color": "#ab63fa",
            "symbol": "circle"
           },
           "mode": "markers",
           "name": "Одеська область",
           "orientation": "v",
           "showlegend": true,
           "type": "scatter",
           "x": [
            8371
           ],
           "xaxis": "x",
           "y": [
            8002
           ],
           "yaxis": "y"
          },
          {
           "hovertemplate": "<b>%{hovertext}</b><br><br>регіон=Полтавська область<br>рік=2020<br>кількість прибулих=%{x}<br>кількість вибулих=%{y}<extra></extra>",
           "hovertext": [
            "Полтавська область"
           ],
           "ids": [
            "Полтавська область"
           ],
           "legendgroup": "Полтавська область",
           "marker": {
            "color": "#FFA15A",
            "symbol": "circle"
           },
           "mode": "markers",
           "name": "Полтавська область",
           "orientation": "v",
           "showlegend": true,
           "type": "scatter",
           "x": [
            7698
           ],
           "xaxis": "x",
           "y": [
            7567
           ],
           "yaxis": "y"
          },
          {
           "hovertemplate": "<b>%{hovertext}</b><br><br>регіон=Рівненська область<br>рік=2020<br>кількість прибулих=%{x}<br>кількість вибулих=%{y}<extra></extra>",
           "hovertext": [
            "Рівненська область"
           ],
           "ids": [
            "Рівненська область"
           ],
           "legendgroup": "Рівненська область",
           "marker": {
            "color": "#19d3f3",
            "symbol": "circle"
           },
           "mode": "markers",
           "name": "Рівненська область",
           "orientation": "v",
           "showlegend": true,
           "type": "scatter",
           "x": [
            6202
           ],
           "xaxis": "x",
           "y": [
            6663
           ],
           "yaxis": "y"
          },
          {
           "hovertemplate": "<b>%{hovertext}</b><br><br>регіон=Сумська область<br>рік=2020<br>кількість прибулих=%{x}<br>кількість вибулих=%{y}<extra></extra>",
           "hovertext": [
            "Сумська область"
           ],
           "ids": [
            "Сумська область"
           ],
           "legendgroup": "Сумська область",
           "marker": {
            "color": "#FF6692",
            "symbol": "circle"
           },
           "mode": "markers",
           "name": "Сумська область",
           "orientation": "v",
           "showlegend": true,
           "type": "scatter",
           "x": [
            3783
           ],
           "xaxis": "x",
           "y": [
            5123
           ],
           "yaxis": "y"
          },
          {
           "hovertemplate": "<b>%{hovertext}</b><br><br>регіон=Тернопільська область<br>рік=2020<br>кількість прибулих=%{x}<br>кількість вибулих=%{y}<extra></extra>",
           "hovertext": [
            "Тернопільська область"
           ],
           "ids": [
            "Тернопільська область"
           ],
           "legendgroup": "Тернопільська область",
           "marker": {
            "color": "#B6E880",
            "symbol": "circle"
           },
           "mode": "markers",
           "name": "Тернопільська область",
           "orientation": "v",
           "showlegend": true,
           "type": "scatter",
           "x": [
            4270
           ],
           "xaxis": "x",
           "y": [
            5333
           ],
           "yaxis": "y"
          },
          {
           "hovertemplate": "<b>%{hovertext}</b><br><br>регіон=Харківська область<br>рік=2020<br>кількість прибулих=%{x}<br>кількість вибулих=%{y}<extra></extra>",
           "hovertext": [
            "Харківська область"
           ],
           "ids": [
            "Харківська область"
           ],
           "legendgroup": "Харківська область",
           "marker": {
            "color": "#FF97FF",
            "symbol": "circle"
           },
           "mode": "markers",
           "name": "Харківська область",
           "orientation": "v",
           "showlegend": true,
           "type": "scatter",
           "x": [
            6370
           ],
           "xaxis": "x",
           "y": [
            7803
           ],
           "yaxis": "y"
          },
          {
           "hovertemplate": "<b>%{hovertext}</b><br><br>регіон=Херсонська область<br>рік=2020<br>кількість прибулих=%{x}<br>кількість вибулих=%{y}<extra></extra>",
           "hovertext": [
            "Херсонська область"
           ],
           "ids": [
            "Херсонська область"
           ],
           "legendgroup": "Херсонська область",
           "marker": {
            "color": "#FECB52",
            "symbol": "circle"
           },
           "mode": "markers",
           "name": "Херсонська область",
           "orientation": "v",
           "showlegend": true,
           "type": "scatter",
           "x": [
            2641
           ],
           "xaxis": "x",
           "y": [
            4031
           ],
           "yaxis": "y"
          },
          {
           "hovertemplate": "<b>%{hovertext}</b><br><br>регіон=Хмельницька область<br>рік=2020<br>кількість прибулих=%{x}<br>кількість вибулих=%{y}<extra></extra>",
           "hovertext": [
            "Хмельницька область"
           ],
           "ids": [
            "Хмельницька область"
           ],
           "legendgroup": "Хмельницька область",
           "marker": {
            "color": "#636efa",
            "symbol": "circle"
           },
           "mode": "markers",
           "name": "Хмельницька область",
           "orientation": "v",
           "showlegend": true,
           "type": "scatter",
           "x": [
            6327
           ],
           "xaxis": "x",
           "y": [
            6925
           ],
           "yaxis": "y"
          },
          {
           "hovertemplate": "<b>%{hovertext}</b><br><br>регіон=Черкаська область<br>рік=2020<br>кількість прибулих=%{x}<br>кількість вибулих=%{y}<extra></extra>",
           "hovertext": [
            "Черкаська область"
           ],
           "ids": [
            "Черкаська область"
           ],
           "legendgroup": "Черкаська область",
           "marker": {
            "color": "#EF553B",
            "symbol": "circle"
           },
           "mode": "markers",
           "name": "Черкаська область",
           "orientation": "v",
           "showlegend": true,
           "type": "scatter",
           "x": [
            5689
           ],
           "xaxis": "x",
           "y": [
            6988
           ],
           "yaxis": "y"
          },
          {
           "hovertemplate": "<b>%{hovertext}</b><br><br>регіон=Чернівецька область<br>рік=2020<br>кількість прибулих=%{x}<br>кількість вибулих=%{y}<extra></extra>",
           "hovertext": [
            "Чернівецька область"
           ],
           "ids": [
            "Чернівецька область"
           ],
           "legendgroup": "Чернівецька область",
           "marker": {
            "color": "#00cc96",
            "symbol": "circle"
           },
           "mode": "markers",
           "name": "Чернівецька область",
           "orientation": "v",
           "showlegend": true,
           "type": "scatter",
           "x": [
            2762
           ],
           "xaxis": "x",
           "y": [
            2877
           ],
           "yaxis": "y"
          },
          {
           "hovertemplate": "<b>%{hovertext}</b><br><br>регіон=Чернігівська область<br>рік=2020<br>кількість прибулих=%{x}<br>кількість вибулих=%{y}<extra></extra>",
           "hovertext": [
            "Чернігівська область"
           ],
           "ids": [
            "Чернігівська область"
           ],
           "legendgroup": "Чернігівська область",
           "marker": {
            "color": "#ab63fa",
            "symbol": "circle"
           },
           "mode": "markers",
           "name": "Чернігівська область",
           "orientation": "v",
           "showlegend": true,
           "type": "scatter",
           "x": [
            3642
           ],
           "xaxis": "x",
           "y": [
            4543
           ],
           "yaxis": "y"
          }
         ],
         "name": "2020"
        },
        {
         "data": [
          {
           "hovertemplate": "<b>%{hovertext}</b><br><br>регіон=Вінницька область<br>рік=2021<br>кількість прибулих=%{x}<br>кількість вибулих=%{y}<extra></extra>",
           "hovertext": [
            "Вінницька область"
           ],
           "ids": [
            "Вінницька область"
           ],
           "legendgroup": "Вінницька область",
           "marker": {
            "color": "#636efa",
            "symbol": "circle"
           },
           "mode": "markers",
           "name": "Вінницька область",
           "orientation": "v",
           "showlegend": true,
           "type": "scatter",
           "x": [
            5440
           ],
           "xaxis": "x",
           "y": [
            8289
           ],
           "yaxis": "y"
          },
          {
           "hovertemplate": "<b>%{hovertext}</b><br><br>регіон=Волинська область<br>рік=2021<br>кількість прибулих=%{x}<br>кількість вибулих=%{y}<extra></extra>",
           "hovertext": [
            "Волинська область"
           ],
           "ids": [
            "Волинська область"
           ],
           "legendgroup": "Волинська область",
           "marker": {
            "color": "#EF553B",
            "symbol": "circle"
           },
           "mode": "markers",
           "name": "Волинська область",
           "orientation": "v",
           "showlegend": true,
           "type": "scatter",
           "x": [
            5259
           ],
           "xaxis": "x",
           "y": [
            4878
           ],
           "yaxis": "y"
          },
          {
           "hovertemplate": "<b>%{hovertext}</b><br><br>регіон=Дніпропетровська область<br>рік=2021<br>кількість прибулих=%{x}<br>кількість вибулих=%{y}<extra></extra>",
           "hovertext": [
            "Дніпропетровська область"
           ],
           "ids": [
            "Дніпропетровська область"
           ],
           "legendgroup": "Дніпропетровська область",
           "marker": {
            "color": "#00cc96",
            "symbol": "circle"
           },
           "mode": "markers",
           "name": "Дніпропетровська область",
           "orientation": "v",
           "showlegend": true,
           "type": "scatter",
           "x": [
            5284
           ],
           "xaxis": "x",
           "y": [
            7222
           ],
           "yaxis": "y"
          },
          {
           "hovertemplate": "<b>%{hovertext}</b><br><br>регіон=Донецька область<br>рік=2021<br>кількість прибулих=%{x}<br>кількість вибулих=%{y}<extra></extra>",
           "hovertext": [
            "Донецька область"
           ],
           "ids": [
            "Донецька область"
           ],
           "legendgroup": "Донецька область",
           "marker": {
            "color": "#ab63fa",
            "symbol": "circle"
           },
           "mode": "markers",
           "name": "Донецька область",
           "orientation": "v",
           "showlegend": true,
           "type": "scatter",
           "x": [
            2085
           ],
           "xaxis": "x",
           "y": [
            3534
           ],
           "yaxis": "y"
          },
          {
           "hovertemplate": "<b>%{hovertext}</b><br><br>регіон=Житомирська область<br>рік=2021<br>кількість прибулих=%{x}<br>кількість вибулих=%{y}<extra></extra>",
           "hovertext": [
            "Житомирська область"
           ],
           "ids": [
            "Житомирська область"
           ],
           "legendgroup": "Житомирська область",
           "marker": {
            "color": "#FFA15A",
            "symbol": "circle"
           },
           "mode": "markers",
           "name": "Житомирська область",
           "orientation": "v",
           "showlegend": true,
           "type": "scatter",
           "x": [
            5948
           ],
           "xaxis": "x",
           "y": [
            7481
           ],
           "yaxis": "y"
          },
          {
           "hovertemplate": "<b>%{hovertext}</b><br><br>регіон=Закарпатська область<br>рік=2021<br>кількість прибулих=%{x}<br>кількість вибулих=%{y}<extra></extra>",
           "hovertext": [
            "Закарпатська область"
           ],
           "ids": [
            "Закарпатська область"
           ],
           "legendgroup": "Закарпатська область",
           "marker": {
            "color": "#19d3f3",
            "symbol": "circle"
           },
           "mode": "markers",
           "name": "Закарпатська область",
           "orientation": "v",
           "showlegend": true,
           "type": "scatter",
           "x": [
            2405
           ],
           "xaxis": "x",
           "y": [
            2973
           ],
           "yaxis": "y"
          },
          {
           "hovertemplate": "<b>%{hovertext}</b><br><br>регіон=Запорізька область<br>рік=2021<br>кількість прибулих=%{x}<br>кількість вибулих=%{y}<extra></extra>",
           "hovertext": [
            "Запорізька область"
           ],
           "ids": [
            "Запорізька область"
           ],
           "legendgroup": "Запорізька область",
           "marker": {
            "color": "#FF6692",
            "symbol": "circle"
           },
           "mode": "markers",
           "name": "Запорізька область",
           "orientation": "v",
           "showlegend": true,
           "type": "scatter",
           "x": [
            3370
           ],
           "xaxis": "x",
           "y": [
            4295
           ],
           "yaxis": "y"
          },
          {
           "hovertemplate": "<b>%{hovertext}</b><br><br>регіон=Івано-Франківська область<br>рік=2021<br>кількість прибулих=%{x}<br>кількість вибулих=%{y}<extra></extra>",
           "hovertext": [
            "Івано-Франківська область"
           ],
           "ids": [
            "Івано-Франківська область"
           ],
           "legendgroup": "Івано-Франківська область",
           "marker": {
            "color": "#B6E880",
            "symbol": "circle"
           },
           "mode": "markers",
           "name": "Івано-Франківська область",
           "orientation": "v",
           "showlegend": true,
           "type": "scatter",
           "x": [
            5661
           ],
           "xaxis": "x",
           "y": [
            5919
           ],
           "yaxis": "y"
          },
          {
           "hovertemplate": "<b>%{hovertext}</b><br><br>регіон=Київська область<br>рік=2021<br>кількість прибулих=%{x}<br>кількість вибулих=%{y}<extra></extra>",
           "hovertext": [
            "Київська область"
           ],
           "ids": [
            "Київська область"
           ],
           "legendgroup": "Київська область",
           "marker": {
            "color": "#FF97FF",
            "symbol": "circle"
           },
           "mode": "markers",
           "name": "Київська область",
           "orientation": "v",
           "showlegend": true,
           "type": "scatter",
           "x": [
            28059
           ],
           "xaxis": "x",
           "y": [
            10942
           ],
           "yaxis": "y"
          },
          {
           "hovertemplate": "<b>%{hovertext}</b><br><br>регіон=Кіровоградська область<br>рік=2021<br>кількість прибулих=%{x}<br>кількість вибулих=%{y}<extra></extra>",
           "hovertext": [
            "Кіровоградська область"
           ],
           "ids": [
            "Кіровоградська область"
           ],
           "legendgroup": "Кіровоградська область",
           "marker": {
            "color": "#FECB52",
            "symbol": "circle"
           },
           "mode": "markers",
           "name": "Кіровоградська область",
           "orientation": "v",
           "showlegend": true,
           "type": "scatter",
           "x": [
            2585
           ],
           "xaxis": "x",
           "y": [
            4874
           ],
           "yaxis": "y"
          },
          {
           "hovertemplate": "<b>%{hovertext}</b><br><br>регіон=Луганська область<br>рік=2021<br>кількість прибулих=%{x}<br>кількість вибулих=%{y}<extra></extra>",
           "hovertext": [
            "Луганська область"
           ],
           "ids": [
            "Луганська область"
           ],
           "legendgroup": "Луганська область",
           "marker": {
            "color": "#636efa",
            "symbol": "circle"
           },
           "mode": "markers",
           "name": "Луганська область",
           "orientation": "v",
           "showlegend": true,
           "type": "scatter",
           "x": [
            1178
           ],
           "xaxis": "x",
           "y": [
            2085
           ],
           "yaxis": "y"
          },
          {
           "hovertemplate": "<b>%{hovertext}</b><br><br>регіон=Львівська область<br>рік=2021<br>кількість прибулих=%{x}<br>кількість вибулих=%{y}<extra></extra>",
           "hovertext": [
            "Львівська область"
           ],
           "ids": [
            "Львівська область"
           ],
           "legendgroup": "Львівська область",
           "marker": {
            "color": "#EF553B",
            "symbol": "circle"
           },
           "mode": "markers",
           "name": "Львівська область",
           "orientation": "v",
           "showlegend": true,
           "type": "scatter",
           "x": [
            8111
           ],
           "xaxis": "x",
           "y": [
            8659
           ],
           "yaxis": "y"
          },
          {
           "hovertemplate": "<b>%{hovertext}</b><br><br>регіон=Миколаївська область<br>рік=2021<br>кількість прибулих=%{x}<br>кількість вибулих=%{y}<extra></extra>",
           "hovertext": [
            "Миколаївська область"
           ],
           "ids": [
            "Миколаївська область"
           ],
           "legendgroup": "Миколаївська область",
           "marker": {
            "color": "#00cc96",
            "symbol": "circle"
           },
           "mode": "markers",
           "name": "Миколаївська область",
           "orientation": "v",
           "showlegend": true,
           "type": "scatter",
           "x": [
            2555
           ],
           "xaxis": "x",
           "y": [
            4639
           ],
           "yaxis": "y"
          },
          {
           "hovertemplate": "<b>%{hovertext}</b><br><br>регіон=Одеська область<br>рік=2021<br>кількість прибулих=%{x}<br>кількість вибулих=%{y}<extra></extra>",
           "hovertext": [
            "Одеська область"
           ],
           "ids": [
            "Одеська область"
           ],
           "legendgroup": "Одеська область",
           "marker": {
            "color": "#ab63fa",
            "symbol": "circle"
           },
           "mode": "markers",
           "name": "Одеська область",
           "orientation": "v",
           "showlegend": true,
           "type": "scatter",
           "x": [
            8647
           ],
           "xaxis": "x",
           "y": [
            8574
           ],
           "yaxis": "y"
          },
          {
           "hovertemplate": "<b>%{hovertext}</b><br><br>регіон=Полтавська область<br>рік=2021<br>кількість прибулих=%{x}<br>кількість вибулих=%{y}<extra></extra>",
           "hovertext": [
            "Полтавська область"
           ],
           "ids": [
            "Полтавська область"
           ],
           "legendgroup": "Полтавська область",
           "marker": {
            "color": "#FFA15A",
            "symbol": "circle"
           },
           "mode": "markers",
           "name": "Полтавська область",
           "orientation": "v",
           "showlegend": true,
           "type": "scatter",
           "x": [
            7593
           ],
           "xaxis": "x",
           "y": [
            7835
           ],
           "yaxis": "y"
          },
          {
           "hovertemplate": "<b>%{hovertext}</b><br><br>регіон=Рівненська область<br>рік=2021<br>кількість прибулих=%{x}<br>кількість вибулих=%{y}<extra></extra>",
           "hovertext": [
            "Рівненська область"
           ],
           "ids": [
            "Рівненська область"
           ],
           "legendgroup": "Рівненська область",
           "marker": {
            "color": "#19d3f3",
            "symbol": "circle"
           },
           "mode": "markers",
           "name": "Рівненська область",
           "orientation": "v",
           "showlegend": true,
           "type": "scatter",
           "x": [
            6553
           ],
           "xaxis": "x",
           "y": [
            6763
           ],
           "yaxis": "y"
          },
          {
           "hovertemplate": "<b>%{hovertext}</b><br><br>регіон=Сумська область<br>рік=2021<br>кількість прибулих=%{x}<br>кількість вибулих=%{y}<extra></extra>",
           "hovertext": [
            "Сумська область"
           ],
           "ids": [
            "Сумська область"
           ],
           "legendgroup": "Сумська область",
           "marker": {
            "color": "#FF6692",
            "symbol": "circle"
           },
           "mode": "markers",
           "name": "Сумська область",
           "orientation": "v",
           "showlegend": true,
           "type": "scatter",
           "x": [
            3530
           ],
           "xaxis": "x",
           "y": [
            5297
           ],
           "yaxis": "y"
          },
          {
           "hovertemplate": "<b>%{hovertext}</b><br><br>регіон=Тернопільська область<br>рік=2021<br>кількість прибулих=%{x}<br>кількість вибулих=%{y}<extra></extra>",
           "hovertext": [
            "Тернопільська область"
           ],
           "ids": [
            "Тернопільська область"
           ],
           "legendgroup": "Тернопільська область",
           "marker": {
            "color": "#B6E880",
            "symbol": "circle"
           },
           "mode": "markers",
           "name": "Тернопільська область",
           "orientation": "v",
           "showlegend": true,
           "type": "scatter",
           "x": [
            4593
           ],
           "xaxis": "x",
           "y": [
            5673
           ],
           "yaxis": "y"
          },
          {
           "hovertemplate": "<b>%{hovertext}</b><br><br>регіон=Харківська область<br>рік=2021<br>кількість прибулих=%{x}<br>кількість вибулих=%{y}<extra></extra>",
           "hovertext": [
            "Харківська область"
           ],
           "ids": [
            "Харківська область"
           ],
           "legendgroup": "Харківська область",
           "marker": {
            "color": "#FF97FF",
            "symbol": "circle"
           },
           "mode": "markers",
           "name": "Харківська область",
           "orientation": "v",
           "showlegend": true,
           "type": "scatter",
           "x": [
            6238
           ],
           "xaxis": "x",
           "y": [
            8466
           ],
           "yaxis": "y"
          },
          {
           "hovertemplate": "<b>%{hovertext}</b><br><br>регіон=Херсонська область<br>рік=2021<br>кількість прибулих=%{x}<br>кількість вибулих=%{y}<extra></extra>",
           "hovertext": [
            "Херсонська область"
           ],
           "ids": [
            "Херсонська область"
           ],
           "legendgroup": "Херсонська область",
           "marker": {
            "color": "#FECB52",
            "symbol": "circle"
           },
           "mode": "markers",
           "name": "Херсонська область",
           "orientation": "v",
           "showlegend": true,
           "type": "scatter",
           "x": [
            2565
           ],
           "xaxis": "x",
           "y": [
            4001
           ],
           "yaxis": "y"
          },
          {
           "hovertemplate": "<b>%{hovertext}</b><br><br>регіон=Хмельницька область<br>рік=2021<br>кількість прибулих=%{x}<br>кількість вибулих=%{y}<extra></extra>",
           "hovertext": [
            "Хмельницька область"
           ],
           "ids": [
            "Хмельницька область"
           ],
           "legendgroup": "Хмельницька область",
           "marker": {
            "color": "#636efa",
            "symbol": "circle"
           },
           "mode": "markers",
           "name": "Хмельницька область",
           "orientation": "v",
           "showlegend": true,
           "type": "scatter",
           "x": [
            5820
           ],
           "xaxis": "x",
           "y": [
            7097
           ],
           "yaxis": "y"
          },
          {
           "hovertemplate": "<b>%{hovertext}</b><br><br>регіон=Черкаська область<br>рік=2021<br>кількість прибулих=%{x}<br>кількість вибулих=%{y}<extra></extra>",
           "hovertext": [
            "Черкаська область"
           ],
           "ids": [
            "Черкаська область"
           ],
           "legendgroup": "Черкаська область",
           "marker": {
            "color": "#EF553B",
            "symbol": "circle"
           },
           "mode": "markers",
           "name": "Черкаська область",
           "orientation": "v",
           "showlegend": true,
           "type": "scatter",
           "x": [
            5611
           ],
           "xaxis": "x",
           "y": [
            6921
           ],
           "yaxis": "y"
          },
          {
           "hovertemplate": "<b>%{hovertext}</b><br><br>регіон=Чернівецька область<br>рік=2021<br>кількість прибулих=%{x}<br>кількість вибулих=%{y}<extra></extra>",
           "hovertext": [
            "Чернівецька область"
           ],
           "ids": [
            "Чернівецька область"
           ],
           "legendgroup": "Чернівецька область",
           "marker": {
            "color": "#00cc96",
            "symbol": "circle"
           },
           "mode": "markers",
           "name": "Чернівецька область",
           "orientation": "v",
           "showlegend": true,
           "type": "scatter",
           "x": [
            2991
           ],
           "xaxis": "x",
           "y": [
            3032
           ],
           "yaxis": "y"
          },
          {
           "hovertemplate": "<b>%{hovertext}</b><br><br>регіон=Чернігівська область<br>рік=2021<br>кількість прибулих=%{x}<br>кількість вибулих=%{y}<extra></extra>",
           "hovertext": [
            "Чернігівська область"
           ],
           "ids": [
            "Чернігівська область"
           ],
           "legendgroup": "Чернігівська область",
           "marker": {
            "color": "#ab63fa",
            "symbol": "circle"
           },
           "mode": "markers",
           "name": "Чернігівська область",
           "orientation": "v",
           "showlegend": true,
           "type": "scatter",
           "x": [
            4046
           ],
           "xaxis": "x",
           "y": [
            4836
           ],
           "yaxis": "y"
          }
         ],
         "name": "2021"
        }
       ],
       "layout": {
        "legend": {
         "title": {
          "text": "регіон"
         },
         "tracegroupgap": 0
        },
        "sliders": [
         {
          "active": 0,
          "currentvalue": {
           "prefix": "рік="
          },
          "len": 0.9,
          "pad": {
           "b": 10,
           "t": 60
          },
          "steps": [
           {
            "args": [
             [
              "2019"
             ],
             {
              "frame": {
               "duration": 0,
               "redraw": false
              },
              "fromcurrent": true,
              "mode": "immediate",
              "transition": {
               "duration": 0,
               "easing": "linear"
              }
             }
            ],
            "label": "2019",
            "method": "animate"
           },
           {
            "args": [
             [
              "2020"
             ],
             {
              "frame": {
               "duration": 0,
               "redraw": false
              },
              "fromcurrent": true,
              "mode": "immediate",
              "transition": {
               "duration": 0,
               "easing": "linear"
              }
             }
            ],
            "label": "2020",
            "method": "animate"
           },
           {
            "args": [
             [
              "2021"
             ],
             {
              "frame": {
               "duration": 0,
               "redraw": false
              },
              "fromcurrent": true,
              "mode": "immediate",
              "transition": {
               "duration": 0,
               "easing": "linear"
              }
             }
            ],
            "label": "2021",
            "method": "animate"
           }
          ],
          "x": 0.1,
          "xanchor": "left",
          "y": 0,
          "yanchor": "top"
         }
        ],
        "template": {
         "data": {
          "bar": [
           {
            "error_x": {
             "color": "#2a3f5f"
            },
            "error_y": {
             "color": "#2a3f5f"
            },
            "marker": {
             "line": {
              "color": "#E5ECF6",
              "width": 0.5
             },
             "pattern": {
              "fillmode": "overlay",
              "size": 10,
              "solidity": 0.2
             }
            },
            "type": "bar"
           }
          ],
          "barpolar": [
           {
            "marker": {
             "line": {
              "color": "#E5ECF6",
              "width": 0.5
             },
             "pattern": {
              "fillmode": "overlay",
              "size": 10,
              "solidity": 0.2
             }
            },
            "type": "barpolar"
           }
          ],
          "carpet": [
           {
            "aaxis": {
             "endlinecolor": "#2a3f5f",
             "gridcolor": "white",
             "linecolor": "white",
             "minorgridcolor": "white",
             "startlinecolor": "#2a3f5f"
            },
            "baxis": {
             "endlinecolor": "#2a3f5f",
             "gridcolor": "white",
             "linecolor": "white",
             "minorgridcolor": "white",
             "startlinecolor": "#2a3f5f"
            },
            "type": "carpet"
           }
          ],
          "choropleth": [
           {
            "colorbar": {
             "outlinewidth": 0,
             "ticks": ""
            },
            "type": "choropleth"
           }
          ],
          "contour": [
           {
            "colorbar": {
             "outlinewidth": 0,
             "ticks": ""
            },
            "colorscale": [
             [
              0,
              "#0d0887"
             ],
             [
              0.1111111111111111,
              "#46039f"
             ],
             [
              0.2222222222222222,
              "#7201a8"
             ],
             [
              0.3333333333333333,
              "#9c179e"
             ],
             [
              0.4444444444444444,
              "#bd3786"
             ],
             [
              0.5555555555555556,
              "#d8576b"
             ],
             [
              0.6666666666666666,
              "#ed7953"
             ],
             [
              0.7777777777777778,
              "#fb9f3a"
             ],
             [
              0.8888888888888888,
              "#fdca26"
             ],
             [
              1,
              "#f0f921"
             ]
            ],
            "type": "contour"
           }
          ],
          "contourcarpet": [
           {
            "colorbar": {
             "outlinewidth": 0,
             "ticks": ""
            },
            "type": "contourcarpet"
           }
          ],
          "heatmap": [
           {
            "colorbar": {
             "outlinewidth": 0,
             "ticks": ""
            },
            "colorscale": [
             [
              0,
              "#0d0887"
             ],
             [
              0.1111111111111111,
              "#46039f"
             ],
             [
              0.2222222222222222,
              "#7201a8"
             ],
             [
              0.3333333333333333,
              "#9c179e"
             ],
             [
              0.4444444444444444,
              "#bd3786"
             ],
             [
              0.5555555555555556,
              "#d8576b"
             ],
             [
              0.6666666666666666,
              "#ed7953"
             ],
             [
              0.7777777777777778,
              "#fb9f3a"
             ],
             [
              0.8888888888888888,
              "#fdca26"
             ],
             [
              1,
              "#f0f921"
             ]
            ],
            "type": "heatmap"
           }
          ],
          "heatmapgl": [
           {
            "colorbar": {
             "outlinewidth": 0,
             "ticks": ""
            },
            "colorscale": [
             [
              0,
              "#0d0887"
             ],
             [
              0.1111111111111111,
              "#46039f"
             ],
             [
              0.2222222222222222,
              "#7201a8"
             ],
             [
              0.3333333333333333,
              "#9c179e"
             ],
             [
              0.4444444444444444,
              "#bd3786"
             ],
             [
              0.5555555555555556,
              "#d8576b"
             ],
             [
              0.6666666666666666,
              "#ed7953"
             ],
             [
              0.7777777777777778,
              "#fb9f3a"
             ],
             [
              0.8888888888888888,
              "#fdca26"
             ],
             [
              1,
              "#f0f921"
             ]
            ],
            "type": "heatmapgl"
           }
          ],
          "histogram": [
           {
            "marker": {
             "pattern": {
              "fillmode": "overlay",
              "size": 10,
              "solidity": 0.2
             }
            },
            "type": "histogram"
           }
          ],
          "histogram2d": [
           {
            "colorbar": {
             "outlinewidth": 0,
             "ticks": ""
            },
            "colorscale": [
             [
              0,
              "#0d0887"
             ],
             [
              0.1111111111111111,
              "#46039f"
             ],
             [
              0.2222222222222222,
              "#7201a8"
             ],
             [
              0.3333333333333333,
              "#9c179e"
             ],
             [
              0.4444444444444444,
              "#bd3786"
             ],
             [
              0.5555555555555556,
              "#d8576b"
             ],
             [
              0.6666666666666666,
              "#ed7953"
             ],
             [
              0.7777777777777778,
              "#fb9f3a"
             ],
             [
              0.8888888888888888,
              "#fdca26"
             ],
             [
              1,
              "#f0f921"
             ]
            ],
            "type": "histogram2d"
           }
          ],
          "histogram2dcontour": [
           {
            "colorbar": {
             "outlinewidth": 0,
             "ticks": ""
            },
            "colorscale": [
             [
              0,
              "#0d0887"
             ],
             [
              0.1111111111111111,
              "#46039f"
             ],
             [
              0.2222222222222222,
              "#7201a8"
             ],
             [
              0.3333333333333333,
              "#9c179e"
             ],
             [
              0.4444444444444444,
              "#bd3786"
             ],
             [
              0.5555555555555556,
              "#d8576b"
             ],
             [
              0.6666666666666666,
              "#ed7953"
             ],
             [
              0.7777777777777778,
              "#fb9f3a"
             ],
             [
              0.8888888888888888,
              "#fdca26"
             ],
             [
              1,
              "#f0f921"
             ]
            ],
            "type": "histogram2dcontour"
           }
          ],
          "mesh3d": [
           {
            "colorbar": {
             "outlinewidth": 0,
             "ticks": ""
            },
            "type": "mesh3d"
           }
          ],
          "parcoords": [
           {
            "line": {
             "colorbar": {
              "outlinewidth": 0,
              "ticks": ""
             }
            },
            "type": "parcoords"
           }
          ],
          "pie": [
           {
            "automargin": true,
            "type": "pie"
           }
          ],
          "scatter": [
           {
            "fillpattern": {
             "fillmode": "overlay",
             "size": 10,
             "solidity": 0.2
            },
            "type": "scatter"
           }
          ],
          "scatter3d": [
           {
            "line": {
             "colorbar": {
              "outlinewidth": 0,
              "ticks": ""
             }
            },
            "marker": {
             "colorbar": {
              "outlinewidth": 0,
              "ticks": ""
             }
            },
            "type": "scatter3d"
           }
          ],
          "scattercarpet": [
           {
            "marker": {
             "colorbar": {
              "outlinewidth": 0,
              "ticks": ""
             }
            },
            "type": "scattercarpet"
           }
          ],
          "scattergeo": [
           {
            "marker": {
             "colorbar": {
              "outlinewidth": 0,
              "ticks": ""
             }
            },
            "type": "scattergeo"
           }
          ],
          "scattergl": [
           {
            "marker": {
             "colorbar": {
              "outlinewidth": 0,
              "ticks": ""
             }
            },
            "type": "scattergl"
           }
          ],
          "scattermapbox": [
           {
            "marker": {
             "colorbar": {
              "outlinewidth": 0,
              "ticks": ""
             }
            },
            "type": "scattermapbox"
           }
          ],
          "scatterpolar": [
           {
            "marker": {
             "colorbar": {
              "outlinewidth": 0,
              "ticks": ""
             }
            },
            "type": "scatterpolar"
           }
          ],
          "scatterpolargl": [
           {
            "marker": {
             "colorbar": {
              "outlinewidth": 0,
              "ticks": ""
             }
            },
            "type": "scatterpolargl"
           }
          ],
          "scatterternary": [
           {
            "marker": {
             "colorbar": {
              "outlinewidth": 0,
              "ticks": ""
             }
            },
            "type": "scatterternary"
           }
          ],
          "surface": [
           {
            "colorbar": {
             "outlinewidth": 0,
             "ticks": ""
            },
            "colorscale": [
             [
              0,
              "#0d0887"
             ],
             [
              0.1111111111111111,
              "#46039f"
             ],
             [
              0.2222222222222222,
              "#7201a8"
             ],
             [
              0.3333333333333333,
              "#9c179e"
             ],
             [
              0.4444444444444444,
              "#bd3786"
             ],
             [
              0.5555555555555556,
              "#d8576b"
             ],
             [
              0.6666666666666666,
              "#ed7953"
             ],
             [
              0.7777777777777778,
              "#fb9f3a"
             ],
             [
              0.8888888888888888,
              "#fdca26"
             ],
             [
              1,
              "#f0f921"
             ]
            ],
            "type": "surface"
           }
          ],
          "table": [
           {
            "cells": {
             "fill": {
              "color": "#EBF0F8"
             },
             "line": {
              "color": "white"
             }
            },
            "header": {
             "fill": {
              "color": "#C8D4E3"
             },
             "line": {
              "color": "white"
             }
            },
            "type": "table"
           }
          ]
         },
         "layout": {
          "annotationdefaults": {
           "arrowcolor": "#2a3f5f",
           "arrowhead": 0,
           "arrowwidth": 1
          },
          "autotypenumbers": "strict",
          "coloraxis": {
           "colorbar": {
            "outlinewidth": 0,
            "ticks": ""
           }
          },
          "colorscale": {
           "diverging": [
            [
             0,
             "#8e0152"
            ],
            [
             0.1,
             "#c51b7d"
            ],
            [
             0.2,
             "#de77ae"
            ],
            [
             0.3,
             "#f1b6da"
            ],
            [
             0.4,
             "#fde0ef"
            ],
            [
             0.5,
             "#f7f7f7"
            ],
            [
             0.6,
             "#e6f5d0"
            ],
            [
             0.7,
             "#b8e186"
            ],
            [
             0.8,
             "#7fbc41"
            ],
            [
             0.9,
             "#4d9221"
            ],
            [
             1,
             "#276419"
            ]
           ],
           "sequential": [
            [
             0,
             "#0d0887"
            ],
            [
             0.1111111111111111,
             "#46039f"
            ],
            [
             0.2222222222222222,
             "#7201a8"
            ],
            [
             0.3333333333333333,
             "#9c179e"
            ],
            [
             0.4444444444444444,
             "#bd3786"
            ],
            [
             0.5555555555555556,
             "#d8576b"
            ],
            [
             0.6666666666666666,
             "#ed7953"
            ],
            [
             0.7777777777777778,
             "#fb9f3a"
            ],
            [
             0.8888888888888888,
             "#fdca26"
            ],
            [
             1,
             "#f0f921"
            ]
           ],
           "sequentialminus": [
            [
             0,
             "#0d0887"
            ],
            [
             0.1111111111111111,
             "#46039f"
            ],
            [
             0.2222222222222222,
             "#7201a8"
            ],
            [
             0.3333333333333333,
             "#9c179e"
            ],
            [
             0.4444444444444444,
             "#bd3786"
            ],
            [
             0.5555555555555556,
             "#d8576b"
            ],
            [
             0.6666666666666666,
             "#ed7953"
            ],
            [
             0.7777777777777778,
             "#fb9f3a"
            ],
            [
             0.8888888888888888,
             "#fdca26"
            ],
            [
             1,
             "#f0f921"
            ]
           ]
          },
          "colorway": [
           "#636efa",
           "#EF553B",
           "#00cc96",
           "#ab63fa",
           "#FFA15A",
           "#19d3f3",
           "#FF6692",
           "#B6E880",
           "#FF97FF",
           "#FECB52"
          ],
          "font": {
           "color": "#2a3f5f"
          },
          "geo": {
           "bgcolor": "white",
           "lakecolor": "white",
           "landcolor": "#E5ECF6",
           "showlakes": true,
           "showland": true,
           "subunitcolor": "white"
          },
          "hoverlabel": {
           "align": "left"
          },
          "hovermode": "closest",
          "mapbox": {
           "style": "light"
          },
          "paper_bgcolor": "white",
          "plot_bgcolor": "#E5ECF6",
          "polar": {
           "angularaxis": {
            "gridcolor": "white",
            "linecolor": "white",
            "ticks": ""
           },
           "bgcolor": "#E5ECF6",
           "radialaxis": {
            "gridcolor": "white",
            "linecolor": "white",
            "ticks": ""
           }
          },
          "scene": {
           "xaxis": {
            "backgroundcolor": "#E5ECF6",
            "gridcolor": "white",
            "gridwidth": 2,
            "linecolor": "white",
            "showbackground": true,
            "ticks": "",
            "zerolinecolor": "white"
           },
           "yaxis": {
            "backgroundcolor": "#E5ECF6",
            "gridcolor": "white",
            "gridwidth": 2,
            "linecolor": "white",
            "showbackground": true,
            "ticks": "",
            "zerolinecolor": "white"
           },
           "zaxis": {
            "backgroundcolor": "#E5ECF6",
            "gridcolor": "white",
            "gridwidth": 2,
            "linecolor": "white",
            "showbackground": true,
            "ticks": "",
            "zerolinecolor": "white"
           }
          },
          "shapedefaults": {
           "line": {
            "color": "#2a3f5f"
           }
          },
          "ternary": {
           "aaxis": {
            "gridcolor": "white",
            "linecolor": "white",
            "ticks": ""
           },
           "baxis": {
            "gridcolor": "white",
            "linecolor": "white",
            "ticks": ""
           },
           "bgcolor": "#E5ECF6",
           "caxis": {
            "gridcolor": "white",
            "linecolor": "white",
            "ticks": ""
           }
          },
          "title": {
           "x": 0.05
          },
          "xaxis": {
           "automargin": true,
           "gridcolor": "white",
           "linecolor": "white",
           "ticks": "",
           "title": {
            "standoff": 15
           },
           "zerolinecolor": "white",
           "zerolinewidth": 2
          },
          "yaxis": {
           "automargin": true,
           "gridcolor": "white",
           "linecolor": "white",
           "ticks": "",
           "title": {
            "standoff": 15
           },
           "zerolinecolor": "white",
           "zerolinewidth": 2
          }
         }
        },
        "title": {
         "text": "Загальне співвідношення прибулих та вибулих в сільській місцевості"
        },
        "updatemenus": [
         {
          "buttons": [
           {
            "args": [
             null,
             {
              "frame": {
               "duration": 500,
               "redraw": false
              },
              "fromcurrent": true,
              "mode": "immediate",
              "transition": {
               "duration": 500,
               "easing": "linear"
              }
             }
            ],
            "label": "&#9654;",
            "method": "animate"
           },
           {
            "args": [
             [
              null
             ],
             {
              "frame": {
               "duration": 0,
               "redraw": false
              },
              "fromcurrent": true,
              "mode": "immediate",
              "transition": {
               "duration": 0,
               "easing": "linear"
              }
             }
            ],
            "label": "&#9724;",
            "method": "animate"
           }
          ],
          "direction": "left",
          "pad": {
           "r": 10,
           "t": 70
          },
          "showactive": false,
          "type": "buttons",
          "x": 0.1,
          "xanchor": "right",
          "y": 0,
          "yanchor": "top"
         }
        ],
        "xaxis": {
         "anchor": "y",
         "domain": [
          0,
          1
         ],
         "range": [
          2.9999999999999996,
          4.845098040014256
         ],
         "title": {
          "text": "кількість прибулих"
         },
         "type": "log"
        },
        "yaxis": {
         "anchor": "x",
         "domain": [
          0,
          1
         ],
         "title": {
          "text": "кількість вибулих"
         }
        }
       }
      }
     },
     "metadata": {},
     "output_type": "display_data"
    }
   ],
   "source": [
    "px.scatter(all_migration, x=\"кількість прибулих\", y=\"кількість вибулих\", animation_frame=\"рік\", \n",
    "           animation_group=\"регіон\", color=\"регіон\", hover_name=\"регіон\",\n",
    "           log_x=True, size_max=55, range_x=[1000,70000], title='Загальне співвідношення прибулих та вибулих в сільській місцевості')"
   ]
  },
  {
   "attachments": {},
   "cell_type": "markdown",
   "metadata": {},
   "source": [
    "Графік аналогічний до попереднього, однак інформація лише про міждержавну міграцію"
   ]
  },
  {
   "cell_type": "code",
   "execution_count": 14,
   "metadata": {},
   "outputs": [
    {
     "data": {
      "application/vnd.plotly.v1+json": {
       "config": {
        "plotlyServerURL": "https://plot.ly"
       },
       "data": [
        {
         "hovertemplate": "<b>%{hovertext}</b><br><br>регіон=Вінницька область<br>рік=2019<br>кількість прибулих=%{x}<br>кількість вибулих=%{y}<extra></extra>",
         "hovertext": [
          "Вінницька область"
         ],
         "ids": [
          "Вінницька область"
         ],
         "legendgroup": "Вінницька область",
         "marker": {
          "color": "#636efa",
          "symbol": "circle"
         },
         "mode": "markers",
         "name": "Вінницька область",
         "orientation": "v",
         "showlegend": true,
         "type": "scatter",
         "x": [
          84
         ],
         "xaxis": "x",
         "y": [
          88
         ],
         "yaxis": "y"
        },
        {
         "hovertemplate": "<b>%{hovertext}</b><br><br>регіон=Волинська область<br>рік=2019<br>кількість прибулих=%{x}<br>кількість вибулих=%{y}<extra></extra>",
         "hovertext": [
          "Волинська область"
         ],
         "ids": [
          "Волинська область"
         ],
         "legendgroup": "Волинська область",
         "marker": {
          "color": "#EF553B",
          "symbol": "circle"
         },
         "mode": "markers",
         "name": "Волинська область",
         "orientation": "v",
         "showlegend": true,
         "type": "scatter",
         "x": [
          111
         ],
         "xaxis": "x",
         "y": [
          282
         ],
         "yaxis": "y"
        },
        {
         "hovertemplate": "<b>%{hovertext}</b><br><br>регіон=Дніпропетровська область<br>рік=2019<br>кількість прибулих=%{x}<br>кількість вибулих=%{y}<extra></extra>",
         "hovertext": [
          "Дніпропетровська область"
         ],
         "ids": [
          "Дніпропетровська область"
         ],
         "legendgroup": "Дніпропетровська область",
         "marker": {
          "color": "#00cc96",
          "symbol": "circle"
         },
         "mode": "markers",
         "name": "Дніпропетровська область",
         "orientation": "v",
         "showlegend": true,
         "type": "scatter",
         "x": [
          54
         ],
         "xaxis": "x",
         "y": [
          56
         ],
         "yaxis": "y"
        },
        {
         "hovertemplate": "<b>%{hovertext}</b><br><br>регіон=Донецька область<br>рік=2019<br>кількість прибулих=%{x}<br>кількість вибулих=%{y}<extra></extra>",
         "hovertext": [
          "Донецька область"
         ],
         "ids": [
          "Донецька область"
         ],
         "legendgroup": "Донецька область",
         "marker": {
          "color": "#ab63fa",
          "symbol": "circle"
         },
         "mode": "markers",
         "name": "Донецька область",
         "orientation": "v",
         "showlegend": true,
         "type": "scatter",
         "x": [
          41
         ],
         "xaxis": "x",
         "y": [
          55
         ],
         "yaxis": "y"
        },
        {
         "hovertemplate": "<b>%{hovertext}</b><br><br>регіон=Житомирська область<br>рік=2019<br>кількість прибулих=%{x}<br>кількість вибулих=%{y}<extra></extra>",
         "hovertext": [
          "Житомирська область"
         ],
         "ids": [
          "Житомирська область"
         ],
         "legendgroup": "Житомирська область",
         "marker": {
          "color": "#FFA15A",
          "symbol": "circle"
         },
         "mode": "markers",
         "name": "Житомирська область",
         "orientation": "v",
         "showlegend": true,
         "type": "scatter",
         "x": [
          227
         ],
         "xaxis": "x",
         "y": [
          68
         ],
         "yaxis": "y"
        },
        {
         "hovertemplate": "<b>%{hovertext}</b><br><br>регіон=Закарпатська область<br>рік=2019<br>кількість прибулих=%{x}<br>кількість вибулих=%{y}<extra></extra>",
         "hovertext": [
          "Закарпатська область"
         ],
         "ids": [
          "Закарпатська область"
         ],
         "legendgroup": "Закарпатська область",
         "marker": {
          "color": "#19d3f3",
          "symbol": "circle"
         },
         "mode": "markers",
         "name": "Закарпатська область",
         "orientation": "v",
         "showlegend": true,
         "type": "scatter",
         "x": [
          85
         ],
         "xaxis": "x",
         "y": [
          429
         ],
         "yaxis": "y"
        },
        {
         "hovertemplate": "<b>%{hovertext}</b><br><br>регіон=Запорізька область<br>рік=2019<br>кількість прибулих=%{x}<br>кількість вибулих=%{y}<extra></extra>",
         "hovertext": [
          "Запорізька область"
         ],
         "ids": [
          "Запорізька область"
         ],
         "legendgroup": "Запорізька область",
         "marker": {
          "color": "#FF6692",
          "symbol": "circle"
         },
         "mode": "markers",
         "name": "Запорізька область",
         "orientation": "v",
         "showlegend": true,
         "type": "scatter",
         "x": [
          54
         ],
         "xaxis": "x",
         "y": [
          100
         ],
         "yaxis": "y"
        },
        {
         "hovertemplate": "<b>%{hovertext}</b><br><br>регіон=Івано-Франківська область<br>рік=2019<br>кількість прибулих=%{x}<br>кількість вибулих=%{y}<extra></extra>",
         "hovertext": [
          "Івано-Франківська область"
         ],
         "ids": [
          "Івано-Франківська область"
         ],
         "legendgroup": "Івано-Франківська область",
         "marker": {
          "color": "#B6E880",
          "symbol": "circle"
         },
         "mode": "markers",
         "name": "Івано-Франківська область",
         "orientation": "v",
         "showlegend": true,
         "type": "scatter",
         "x": [
          135
         ],
         "xaxis": "x",
         "y": [
          195
         ],
         "yaxis": "y"
        },
        {
         "hovertemplate": "<b>%{hovertext}</b><br><br>регіон=Київська область<br>рік=2019<br>кількість прибулих=%{x}<br>кількість вибулих=%{y}<extra></extra>",
         "hovertext": [
          "Київська область"
         ],
         "ids": [
          "Київська область"
         ],
         "legendgroup": "Київська область",
         "marker": {
          "color": "#FF97FF",
          "symbol": "circle"
         },
         "mode": "markers",
         "name": "Київська область",
         "orientation": "v",
         "showlegend": true,
         "type": "scatter",
         "x": [
          1366
         ],
         "xaxis": "x",
         "y": [
          377
         ],
         "yaxis": "y"
        },
        {
         "hovertemplate": "<b>%{hovertext}</b><br><br>регіон=Кіровоградська область<br>рік=2019<br>кількість прибулих=%{x}<br>кількість вибулих=%{y}<extra></extra>",
         "hovertext": [
          "Кіровоградська область"
         ],
         "ids": [
          "Кіровоградська область"
         ],
         "legendgroup": "Кіровоградська область",
         "marker": {
          "color": "#FECB52",
          "symbol": "circle"
         },
         "mode": "markers",
         "name": "Кіровоградська область",
         "orientation": "v",
         "showlegend": true,
         "type": "scatter",
         "x": [
          65
         ],
         "xaxis": "x",
         "y": [
          72
         ],
         "yaxis": "y"
        },
        {
         "hovertemplate": "<b>%{hovertext}</b><br><br>регіон=Луганська область<br>рік=2019<br>кількість прибулих=%{x}<br>кількість вибулих=%{y}<extra></extra>",
         "hovertext": [
          "Луганська область"
         ],
         "ids": [
          "Луганська область"
         ],
         "legendgroup": "Луганська область",
         "marker": {
          "color": "#636efa",
          "symbol": "circle"
         },
         "mode": "markers",
         "name": "Луганська область",
         "orientation": "v",
         "showlegend": true,
         "type": "scatter",
         "x": [
          23
         ],
         "xaxis": "x",
         "y": [
          15
         ],
         "yaxis": "y"
        },
        {
         "hovertemplate": "<b>%{hovertext}</b><br><br>регіон=Львівська область<br>рік=2019<br>кількість прибулих=%{x}<br>кількість вибулих=%{y}<extra></extra>",
         "hovertext": [
          "Львівська область"
         ],
         "ids": [
          "Львівська область"
         ],
         "legendgroup": "Львівська область",
         "marker": {
          "color": "#EF553B",
          "symbol": "circle"
         },
         "mode": "markers",
         "name": "Львівська область",
         "orientation": "v",
         "showlegend": true,
         "type": "scatter",
         "x": [
          230
         ],
         "xaxis": "x",
         "y": [
          319
         ],
         "yaxis": "y"
        },
        {
         "hovertemplate": "<b>%{hovertext}</b><br><br>регіон=Миколаївська область<br>рік=2019<br>кількість прибулих=%{x}<br>кількість вибулих=%{y}<extra></extra>",
         "hovertext": [
          "Миколаївська область"
         ],
         "ids": [
          "Миколаївська область"
         ],
         "legendgroup": "Миколаївська область",
         "marker": {
          "color": "#00cc96",
          "symbol": "circle"
         },
         "mode": "markers",
         "name": "Миколаївська область",
         "orientation": "v",
         "showlegend": true,
         "type": "scatter",
         "x": [
          113
         ],
         "xaxis": "x",
         "y": [
          54
         ],
         "yaxis": "y"
        },
        {
         "hovertemplate": "<b>%{hovertext}</b><br><br>регіон=Одеська область<br>рік=2019<br>кількість прибулих=%{x}<br>кількість вибулих=%{y}<extra></extra>",
         "hovertext": [
          "Одеська область"
         ],
         "ids": [
          "Одеська область"
         ],
         "legendgroup": "Одеська область",
         "marker": {
          "color": "#ab63fa",
          "symbol": "circle"
         },
         "mode": "markers",
         "name": "Одеська область",
         "orientation": "v",
         "showlegend": true,
         "type": "scatter",
         "x": [
          397
         ],
         "xaxis": "x",
         "y": [
          379
         ],
         "yaxis": "y"
        },
        {
         "hovertemplate": "<b>%{hovertext}</b><br><br>регіон=Полтавська область<br>рік=2019<br>кількість прибулих=%{x}<br>кількість вибулих=%{y}<extra></extra>",
         "hovertext": [
          "Полтавська область"
         ],
         "ids": [
          "Полтавська область"
         ],
         "legendgroup": "Полтавська область",
         "marker": {
          "color": "#FFA15A",
          "symbol": "circle"
         },
         "mode": "markers",
         "name": "Полтавська область",
         "orientation": "v",
         "showlegend": true,
         "type": "scatter",
         "x": [
          355
         ],
         "xaxis": "x",
         "y": [
          134
         ],
         "yaxis": "y"
        },
        {
         "hovertemplate": "<b>%{hovertext}</b><br><br>регіон=Рівненська область<br>рік=2019<br>кількість прибулих=%{x}<br>кількість вибулих=%{y}<extra></extra>",
         "hovertext": [
          "Рівненська область"
         ],
         "ids": [
          "Рівненська область"
         ],
         "legendgroup": "Рівненська область",
         "marker": {
          "color": "#19d3f3",
          "symbol": "circle"
         },
         "mode": "markers",
         "name": "Рівненська область",
         "orientation": "v",
         "showlegend": true,
         "type": "scatter",
         "x": [
          120
         ],
         "xaxis": "x",
         "y": [
          633
         ],
         "yaxis": "y"
        },
        {
         "hovertemplate": "<b>%{hovertext}</b><br><br>регіон=Сумська область<br>рік=2019<br>кількість прибулих=%{x}<br>кількість вибулих=%{y}<extra></extra>",
         "hovertext": [
          "Сумська область"
         ],
         "ids": [
          "Сумська область"
         ],
         "legendgroup": "Сумська область",
         "marker": {
          "color": "#FF6692",
          "symbol": "circle"
         },
         "mode": "markers",
         "name": "Сумська область",
         "orientation": "v",
         "showlegend": true,
         "type": "scatter",
         "x": [
          49
         ],
         "xaxis": "x",
         "y": [
          47
         ],
         "yaxis": "y"
        },
        {
         "hovertemplate": "<b>%{hovertext}</b><br><br>регіон=Тернопільська область<br>рік=2019<br>кількість прибулих=%{x}<br>кількість вибулих=%{y}<extra></extra>",
         "hovertext": [
          "Тернопільська область"
         ],
         "ids": [
          "Тернопільська область"
         ],
         "legendgroup": "Тернопільська область",
         "marker": {
          "color": "#B6E880",
          "symbol": "circle"
         },
         "mode": "markers",
         "name": "Тернопільська область",
         "orientation": "v",
         "showlegend": true,
         "type": "scatter",
         "x": [
          257
         ],
         "xaxis": "x",
         "y": [
          217
         ],
         "yaxis": "y"
        },
        {
         "hovertemplate": "<b>%{hovertext}</b><br><br>регіон=Харківська область<br>рік=2019<br>кількість прибулих=%{x}<br>кількість вибулих=%{y}<extra></extra>",
         "hovertext": [
          "Харківська область"
         ],
         "ids": [
          "Харківська область"
         ],
         "legendgroup": "Харківська область",
         "marker": {
          "color": "#FF97FF",
          "symbol": "circle"
         },
         "mode": "markers",
         "name": "Харківська область",
         "orientation": "v",
         "showlegend": true,
         "type": "scatter",
         "x": [
          482
         ],
         "xaxis": "x",
         "y": [
          139
         ],
         "yaxis": "y"
        },
        {
         "hovertemplate": "<b>%{hovertext}</b><br><br>регіон=Херсонська область<br>рік=2019<br>кількість прибулих=%{x}<br>кількість вибулих=%{y}<extra></extra>",
         "hovertext": [
          "Херсонська область"
         ],
         "ids": [
          "Херсонська область"
         ],
         "legendgroup": "Херсонська область",
         "marker": {
          "color": "#FECB52",
          "symbol": "circle"
         },
         "mode": "markers",
         "name": "Херсонська область",
         "orientation": "v",
         "showlegend": true,
         "type": "scatter",
         "x": [
          85
         ],
         "xaxis": "x",
         "y": [
          42
         ],
         "yaxis": "y"
        },
        {
         "hovertemplate": "<b>%{hovertext}</b><br><br>регіон=Хмельницька область<br>рік=2019<br>кількість прибулих=%{x}<br>кількість вибулих=%{y}<extra></extra>",
         "hovertext": [
          "Хмельницька область"
         ],
         "ids": [
          "Хмельницька область"
         ],
         "legendgroup": "Хмельницька область",
         "marker": {
          "color": "#636efa",
          "symbol": "circle"
         },
         "mode": "markers",
         "name": "Хмельницька область",
         "orientation": "v",
         "showlegend": true,
         "type": "scatter",
         "x": [
          259
         ],
         "xaxis": "x",
         "y": [
          121
         ],
         "yaxis": "y"
        },
        {
         "hovertemplate": "<b>%{hovertext}</b><br><br>регіон=Черкаська область<br>рік=2019<br>кількість прибулих=%{x}<br>кількість вибулих=%{y}<extra></extra>",
         "hovertext": [
          "Черкаська область"
         ],
         "ids": [
          "Черкаська область"
         ],
         "legendgroup": "Черкаська область",
         "marker": {
          "color": "#EF553B",
          "symbol": "circle"
         },
         "mode": "markers",
         "name": "Черкаська область",
         "orientation": "v",
         "showlegend": true,
         "type": "scatter",
         "x": [
          142
         ],
         "xaxis": "x",
         "y": [
          151
         ],
         "yaxis": "y"
        },
        {
         "hovertemplate": "<b>%{hovertext}</b><br><br>регіон=Чернівецька область<br>рік=2019<br>кількість прибулих=%{x}<br>кількість вибулих=%{y}<extra></extra>",
         "hovertext": [
          "Чернівецька область"
         ],
         "ids": [
          "Чернівецька область"
         ],
         "legendgroup": "Чернівецька область",
         "marker": {
          "color": "#00cc96",
          "symbol": "circle"
         },
         "mode": "markers",
         "name": "Чернівецька область",
         "orientation": "v",
         "showlegend": true,
         "type": "scatter",
         "x": [
          331
         ],
         "xaxis": "x",
         "y": [
          283
         ],
         "yaxis": "y"
        },
        {
         "hovertemplate": "<b>%{hovertext}</b><br><br>регіон=Чернігівська область<br>рік=2019<br>кількість прибулих=%{x}<br>кількість вибулих=%{y}<extra></extra>",
         "hovertext": [
          "Чернігівська область"
         ],
         "ids": [
          "Чернігівська область"
         ],
         "legendgroup": "Чернігівська область",
         "marker": {
          "color": "#ab63fa",
          "symbol": "circle"
         },
         "mode": "markers",
         "name": "Чернігівська область",
         "orientation": "v",
         "showlegend": true,
         "type": "scatter",
         "x": [
          100
         ],
         "xaxis": "x",
         "y": [
          43
         ],
         "yaxis": "y"
        }
       ],
       "frames": [
        {
         "data": [
          {
           "hovertemplate": "<b>%{hovertext}</b><br><br>регіон=Вінницька область<br>рік=2019<br>кількість прибулих=%{x}<br>кількість вибулих=%{y}<extra></extra>",
           "hovertext": [
            "Вінницька область"
           ],
           "ids": [
            "Вінницька область"
           ],
           "legendgroup": "Вінницька область",
           "marker": {
            "color": "#636efa",
            "symbol": "circle"
           },
           "mode": "markers",
           "name": "Вінницька область",
           "orientation": "v",
           "showlegend": true,
           "type": "scatter",
           "x": [
            84
           ],
           "xaxis": "x",
           "y": [
            88
           ],
           "yaxis": "y"
          },
          {
           "hovertemplate": "<b>%{hovertext}</b><br><br>регіон=Волинська область<br>рік=2019<br>кількість прибулих=%{x}<br>кількість вибулих=%{y}<extra></extra>",
           "hovertext": [
            "Волинська область"
           ],
           "ids": [
            "Волинська область"
           ],
           "legendgroup": "Волинська область",
           "marker": {
            "color": "#EF553B",
            "symbol": "circle"
           },
           "mode": "markers",
           "name": "Волинська область",
           "orientation": "v",
           "showlegend": true,
           "type": "scatter",
           "x": [
            111
           ],
           "xaxis": "x",
           "y": [
            282
           ],
           "yaxis": "y"
          },
          {
           "hovertemplate": "<b>%{hovertext}</b><br><br>регіон=Дніпропетровська область<br>рік=2019<br>кількість прибулих=%{x}<br>кількість вибулих=%{y}<extra></extra>",
           "hovertext": [
            "Дніпропетровська область"
           ],
           "ids": [
            "Дніпропетровська область"
           ],
           "legendgroup": "Дніпропетровська область",
           "marker": {
            "color": "#00cc96",
            "symbol": "circle"
           },
           "mode": "markers",
           "name": "Дніпропетровська область",
           "orientation": "v",
           "showlegend": true,
           "type": "scatter",
           "x": [
            54
           ],
           "xaxis": "x",
           "y": [
            56
           ],
           "yaxis": "y"
          },
          {
           "hovertemplate": "<b>%{hovertext}</b><br><br>регіон=Донецька область<br>рік=2019<br>кількість прибулих=%{x}<br>кількість вибулих=%{y}<extra></extra>",
           "hovertext": [
            "Донецька область"
           ],
           "ids": [
            "Донецька область"
           ],
           "legendgroup": "Донецька область",
           "marker": {
            "color": "#ab63fa",
            "symbol": "circle"
           },
           "mode": "markers",
           "name": "Донецька область",
           "orientation": "v",
           "showlegend": true,
           "type": "scatter",
           "x": [
            41
           ],
           "xaxis": "x",
           "y": [
            55
           ],
           "yaxis": "y"
          },
          {
           "hovertemplate": "<b>%{hovertext}</b><br><br>регіон=Житомирська область<br>рік=2019<br>кількість прибулих=%{x}<br>кількість вибулих=%{y}<extra></extra>",
           "hovertext": [
            "Житомирська область"
           ],
           "ids": [
            "Житомирська область"
           ],
           "legendgroup": "Житомирська область",
           "marker": {
            "color": "#FFA15A",
            "symbol": "circle"
           },
           "mode": "markers",
           "name": "Житомирська область",
           "orientation": "v",
           "showlegend": true,
           "type": "scatter",
           "x": [
            227
           ],
           "xaxis": "x",
           "y": [
            68
           ],
           "yaxis": "y"
          },
          {
           "hovertemplate": "<b>%{hovertext}</b><br><br>регіон=Закарпатська область<br>рік=2019<br>кількість прибулих=%{x}<br>кількість вибулих=%{y}<extra></extra>",
           "hovertext": [
            "Закарпатська область"
           ],
           "ids": [
            "Закарпатська область"
           ],
           "legendgroup": "Закарпатська область",
           "marker": {
            "color": "#19d3f3",
            "symbol": "circle"
           },
           "mode": "markers",
           "name": "Закарпатська область",
           "orientation": "v",
           "showlegend": true,
           "type": "scatter",
           "x": [
            85
           ],
           "xaxis": "x",
           "y": [
            429
           ],
           "yaxis": "y"
          },
          {
           "hovertemplate": "<b>%{hovertext}</b><br><br>регіон=Запорізька область<br>рік=2019<br>кількість прибулих=%{x}<br>кількість вибулих=%{y}<extra></extra>",
           "hovertext": [
            "Запорізька область"
           ],
           "ids": [
            "Запорізька область"
           ],
           "legendgroup": "Запорізька область",
           "marker": {
            "color": "#FF6692",
            "symbol": "circle"
           },
           "mode": "markers",
           "name": "Запорізька область",
           "orientation": "v",
           "showlegend": true,
           "type": "scatter",
           "x": [
            54
           ],
           "xaxis": "x",
           "y": [
            100
           ],
           "yaxis": "y"
          },
          {
           "hovertemplate": "<b>%{hovertext}</b><br><br>регіон=Івано-Франківська область<br>рік=2019<br>кількість прибулих=%{x}<br>кількість вибулих=%{y}<extra></extra>",
           "hovertext": [
            "Івано-Франківська область"
           ],
           "ids": [
            "Івано-Франківська область"
           ],
           "legendgroup": "Івано-Франківська область",
           "marker": {
            "color": "#B6E880",
            "symbol": "circle"
           },
           "mode": "markers",
           "name": "Івано-Франківська область",
           "orientation": "v",
           "showlegend": true,
           "type": "scatter",
           "x": [
            135
           ],
           "xaxis": "x",
           "y": [
            195
           ],
           "yaxis": "y"
          },
          {
           "hovertemplate": "<b>%{hovertext}</b><br><br>регіон=Київська область<br>рік=2019<br>кількість прибулих=%{x}<br>кількість вибулих=%{y}<extra></extra>",
           "hovertext": [
            "Київська область"
           ],
           "ids": [
            "Київська область"
           ],
           "legendgroup": "Київська область",
           "marker": {
            "color": "#FF97FF",
            "symbol": "circle"
           },
           "mode": "markers",
           "name": "Київська область",
           "orientation": "v",
           "showlegend": true,
           "type": "scatter",
           "x": [
            1366
           ],
           "xaxis": "x",
           "y": [
            377
           ],
           "yaxis": "y"
          },
          {
           "hovertemplate": "<b>%{hovertext}</b><br><br>регіон=Кіровоградська область<br>рік=2019<br>кількість прибулих=%{x}<br>кількість вибулих=%{y}<extra></extra>",
           "hovertext": [
            "Кіровоградська область"
           ],
           "ids": [
            "Кіровоградська область"
           ],
           "legendgroup": "Кіровоградська область",
           "marker": {
            "color": "#FECB52",
            "symbol": "circle"
           },
           "mode": "markers",
           "name": "Кіровоградська область",
           "orientation": "v",
           "showlegend": true,
           "type": "scatter",
           "x": [
            65
           ],
           "xaxis": "x",
           "y": [
            72
           ],
           "yaxis": "y"
          },
          {
           "hovertemplate": "<b>%{hovertext}</b><br><br>регіон=Луганська область<br>рік=2019<br>кількість прибулих=%{x}<br>кількість вибулих=%{y}<extra></extra>",
           "hovertext": [
            "Луганська область"
           ],
           "ids": [
            "Луганська область"
           ],
           "legendgroup": "Луганська область",
           "marker": {
            "color": "#636efa",
            "symbol": "circle"
           },
           "mode": "markers",
           "name": "Луганська область",
           "orientation": "v",
           "showlegend": true,
           "type": "scatter",
           "x": [
            23
           ],
           "xaxis": "x",
           "y": [
            15
           ],
           "yaxis": "y"
          },
          {
           "hovertemplate": "<b>%{hovertext}</b><br><br>регіон=Львівська область<br>рік=2019<br>кількість прибулих=%{x}<br>кількість вибулих=%{y}<extra></extra>",
           "hovertext": [
            "Львівська область"
           ],
           "ids": [
            "Львівська область"
           ],
           "legendgroup": "Львівська область",
           "marker": {
            "color": "#EF553B",
            "symbol": "circle"
           },
           "mode": "markers",
           "name": "Львівська область",
           "orientation": "v",
           "showlegend": true,
           "type": "scatter",
           "x": [
            230
           ],
           "xaxis": "x",
           "y": [
            319
           ],
           "yaxis": "y"
          },
          {
           "hovertemplate": "<b>%{hovertext}</b><br><br>регіон=Миколаївська область<br>рік=2019<br>кількість прибулих=%{x}<br>кількість вибулих=%{y}<extra></extra>",
           "hovertext": [
            "Миколаївська область"
           ],
           "ids": [
            "Миколаївська область"
           ],
           "legendgroup": "Миколаївська область",
           "marker": {
            "color": "#00cc96",
            "symbol": "circle"
           },
           "mode": "markers",
           "name": "Миколаївська область",
           "orientation": "v",
           "showlegend": true,
           "type": "scatter",
           "x": [
            113
           ],
           "xaxis": "x",
           "y": [
            54
           ],
           "yaxis": "y"
          },
          {
           "hovertemplate": "<b>%{hovertext}</b><br><br>регіон=Одеська область<br>рік=2019<br>кількість прибулих=%{x}<br>кількість вибулих=%{y}<extra></extra>",
           "hovertext": [
            "Одеська область"
           ],
           "ids": [
            "Одеська область"
           ],
           "legendgroup": "Одеська область",
           "marker": {
            "color": "#ab63fa",
            "symbol": "circle"
           },
           "mode": "markers",
           "name": "Одеська область",
           "orientation": "v",
           "showlegend": true,
           "type": "scatter",
           "x": [
            397
           ],
           "xaxis": "x",
           "y": [
            379
           ],
           "yaxis": "y"
          },
          {
           "hovertemplate": "<b>%{hovertext}</b><br><br>регіон=Полтавська область<br>рік=2019<br>кількість прибулих=%{x}<br>кількість вибулих=%{y}<extra></extra>",
           "hovertext": [
            "Полтавська область"
           ],
           "ids": [
            "Полтавська область"
           ],
           "legendgroup": "Полтавська область",
           "marker": {
            "color": "#FFA15A",
            "symbol": "circle"
           },
           "mode": "markers",
           "name": "Полтавська область",
           "orientation": "v",
           "showlegend": true,
           "type": "scatter",
           "x": [
            355
           ],
           "xaxis": "x",
           "y": [
            134
           ],
           "yaxis": "y"
          },
          {
           "hovertemplate": "<b>%{hovertext}</b><br><br>регіон=Рівненська область<br>рік=2019<br>кількість прибулих=%{x}<br>кількість вибулих=%{y}<extra></extra>",
           "hovertext": [
            "Рівненська область"
           ],
           "ids": [
            "Рівненська область"
           ],
           "legendgroup": "Рівненська область",
           "marker": {
            "color": "#19d3f3",
            "symbol": "circle"
           },
           "mode": "markers",
           "name": "Рівненська область",
           "orientation": "v",
           "showlegend": true,
           "type": "scatter",
           "x": [
            120
           ],
           "xaxis": "x",
           "y": [
            633
           ],
           "yaxis": "y"
          },
          {
           "hovertemplate": "<b>%{hovertext}</b><br><br>регіон=Сумська область<br>рік=2019<br>кількість прибулих=%{x}<br>кількість вибулих=%{y}<extra></extra>",
           "hovertext": [
            "Сумська область"
           ],
           "ids": [
            "Сумська область"
           ],
           "legendgroup": "Сумська область",
           "marker": {
            "color": "#FF6692",
            "symbol": "circle"
           },
           "mode": "markers",
           "name": "Сумська область",
           "orientation": "v",
           "showlegend": true,
           "type": "scatter",
           "x": [
            49
           ],
           "xaxis": "x",
           "y": [
            47
           ],
           "yaxis": "y"
          },
          {
           "hovertemplate": "<b>%{hovertext}</b><br><br>регіон=Тернопільська область<br>рік=2019<br>кількість прибулих=%{x}<br>кількість вибулих=%{y}<extra></extra>",
           "hovertext": [
            "Тернопільська область"
           ],
           "ids": [
            "Тернопільська область"
           ],
           "legendgroup": "Тернопільська область",
           "marker": {
            "color": "#B6E880",
            "symbol": "circle"
           },
           "mode": "markers",
           "name": "Тернопільська область",
           "orientation": "v",
           "showlegend": true,
           "type": "scatter",
           "x": [
            257
           ],
           "xaxis": "x",
           "y": [
            217
           ],
           "yaxis": "y"
          },
          {
           "hovertemplate": "<b>%{hovertext}</b><br><br>регіон=Харківська область<br>рік=2019<br>кількість прибулих=%{x}<br>кількість вибулих=%{y}<extra></extra>",
           "hovertext": [
            "Харківська область"
           ],
           "ids": [
            "Харківська область"
           ],
           "legendgroup": "Харківська область",
           "marker": {
            "color": "#FF97FF",
            "symbol": "circle"
           },
           "mode": "markers",
           "name": "Харківська область",
           "orientation": "v",
           "showlegend": true,
           "type": "scatter",
           "x": [
            482
           ],
           "xaxis": "x",
           "y": [
            139
           ],
           "yaxis": "y"
          },
          {
           "hovertemplate": "<b>%{hovertext}</b><br><br>регіон=Херсонська область<br>рік=2019<br>кількість прибулих=%{x}<br>кількість вибулих=%{y}<extra></extra>",
           "hovertext": [
            "Херсонська область"
           ],
           "ids": [
            "Херсонська область"
           ],
           "legendgroup": "Херсонська область",
           "marker": {
            "color": "#FECB52",
            "symbol": "circle"
           },
           "mode": "markers",
           "name": "Херсонська область",
           "orientation": "v",
           "showlegend": true,
           "type": "scatter",
           "x": [
            85
           ],
           "xaxis": "x",
           "y": [
            42
           ],
           "yaxis": "y"
          },
          {
           "hovertemplate": "<b>%{hovertext}</b><br><br>регіон=Хмельницька область<br>рік=2019<br>кількість прибулих=%{x}<br>кількість вибулих=%{y}<extra></extra>",
           "hovertext": [
            "Хмельницька область"
           ],
           "ids": [
            "Хмельницька область"
           ],
           "legendgroup": "Хмельницька область",
           "marker": {
            "color": "#636efa",
            "symbol": "circle"
           },
           "mode": "markers",
           "name": "Хмельницька область",
           "orientation": "v",
           "showlegend": true,
           "type": "scatter",
           "x": [
            259
           ],
           "xaxis": "x",
           "y": [
            121
           ],
           "yaxis": "y"
          },
          {
           "hovertemplate": "<b>%{hovertext}</b><br><br>регіон=Черкаська область<br>рік=2019<br>кількість прибулих=%{x}<br>кількість вибулих=%{y}<extra></extra>",
           "hovertext": [
            "Черкаська область"
           ],
           "ids": [
            "Черкаська область"
           ],
           "legendgroup": "Черкаська область",
           "marker": {
            "color": "#EF553B",
            "symbol": "circle"
           },
           "mode": "markers",
           "name": "Черкаська область",
           "orientation": "v",
           "showlegend": true,
           "type": "scatter",
           "x": [
            142
           ],
           "xaxis": "x",
           "y": [
            151
           ],
           "yaxis": "y"
          },
          {
           "hovertemplate": "<b>%{hovertext}</b><br><br>регіон=Чернівецька область<br>рік=2019<br>кількість прибулих=%{x}<br>кількість вибулих=%{y}<extra></extra>",
           "hovertext": [
            "Чернівецька область"
           ],
           "ids": [
            "Чернівецька область"
           ],
           "legendgroup": "Чернівецька область",
           "marker": {
            "color": "#00cc96",
            "symbol": "circle"
           },
           "mode": "markers",
           "name": "Чернівецька область",
           "orientation": "v",
           "showlegend": true,
           "type": "scatter",
           "x": [
            331
           ],
           "xaxis": "x",
           "y": [
            283
           ],
           "yaxis": "y"
          },
          {
           "hovertemplate": "<b>%{hovertext}</b><br><br>регіон=Чернігівська область<br>рік=2019<br>кількість прибулих=%{x}<br>кількість вибулих=%{y}<extra></extra>",
           "hovertext": [
            "Чернігівська область"
           ],
           "ids": [
            "Чернігівська область"
           ],
           "legendgroup": "Чернігівська область",
           "marker": {
            "color": "#ab63fa",
            "symbol": "circle"
           },
           "mode": "markers",
           "name": "Чернігівська область",
           "orientation": "v",
           "showlegend": true,
           "type": "scatter",
           "x": [
            100
           ],
           "xaxis": "x",
           "y": [
            43
           ],
           "yaxis": "y"
          }
         ],
         "name": "2019"
        },
        {
         "data": [
          {
           "hovertemplate": "<b>%{hovertext}</b><br><br>регіон=Вінницька область<br>рік=2020<br>кількість прибулих=%{x}<br>кількість вибулих=%{y}<extra></extra>",
           "hovertext": [
            "Вінницька область"
           ],
           "ids": [
            "Вінницька область"
           ],
           "legendgroup": "Вінницька область",
           "marker": {
            "color": "#636efa",
            "symbol": "circle"
           },
           "mode": "markers",
           "name": "Вінницька область",
           "orientation": "v",
           "showlegend": true,
           "type": "scatter",
           "x": [
            43
           ],
           "xaxis": "x",
           "y": [
            26
           ],
           "yaxis": "y"
          },
          {
           "hovertemplate": "<b>%{hovertext}</b><br><br>регіон=Волинська область<br>рік=2020<br>кількість прибулих=%{x}<br>кількість вибулих=%{y}<extra></extra>",
           "hovertext": [
            "Волинська область"
           ],
           "ids": [
            "Волинська область"
           ],
           "legendgroup": "Волинська область",
           "marker": {
            "color": "#EF553B",
            "symbol": "circle"
           },
           "mode": "markers",
           "name": "Волинська область",
           "orientation": "v",
           "showlegend": true,
           "type": "scatter",
           "x": [
            49
           ],
           "xaxis": "x",
           "y": [
            55
           ],
           "yaxis": "y"
          },
          {
           "hovertemplate": "<b>%{hovertext}</b><br><br>регіон=Дніпропетровська область<br>рік=2020<br>кількість прибулих=%{x}<br>кількість вибулих=%{y}<extra></extra>",
           "hovertext": [
            "Дніпропетровська область"
           ],
           "ids": [
            "Дніпропетровська область"
           ],
           "legendgroup": "Дніпропетровська область",
           "marker": {
            "color": "#00cc96",
            "symbol": "circle"
           },
           "mode": "markers",
           "name": "Дніпропетровська область",
           "orientation": "v",
           "showlegend": true,
           "type": "scatter",
           "x": [
            58
           ],
           "xaxis": "x",
           "y": [
            17
           ],
           "yaxis": "y"
          },
          {
           "hovertemplate": "<b>%{hovertext}</b><br><br>регіон=Донецька область<br>рік=2020<br>кількість прибулих=%{x}<br>кількість вибулих=%{y}<extra></extra>",
           "hovertext": [
            "Донецька область"
           ],
           "ids": [
            "Донецька область"
           ],
           "legendgroup": "Донецька область",
           "marker": {
            "color": "#ab63fa",
            "symbol": "circle"
           },
           "mode": "markers",
           "name": "Донецька область",
           "orientation": "v",
           "showlegend": true,
           "type": "scatter",
           "x": [
            24
           ],
           "xaxis": "x",
           "y": [
            31
           ],
           "yaxis": "y"
          },
          {
           "hovertemplate": "<b>%{hovertext}</b><br><br>регіон=Житомирська область<br>рік=2020<br>кількість прибулих=%{x}<br>кількість вибулих=%{y}<extra></extra>",
           "hovertext": [
            "Житомирська область"
           ],
           "ids": [
            "Житомирська область"
           ],
           "legendgroup": "Житомирська область",
           "marker": {
            "color": "#FFA15A",
            "symbol": "circle"
           },
           "mode": "markers",
           "name": "Житомирська область",
           "orientation": "v",
           "showlegend": true,
           "type": "scatter",
           "x": [
            87
           ],
           "xaxis": "x",
           "y": [
            34
           ],
           "yaxis": "y"
          },
          {
           "hovertemplate": "<b>%{hovertext}</b><br><br>регіон=Закарпатська область<br>рік=2020<br>кількість прибулих=%{x}<br>кількість вибулих=%{y}<extra></extra>",
           "hovertext": [
            "Закарпатська область"
           ],
           "ids": [
            "Закарпатська область"
           ],
           "legendgroup": "Закарпатська область",
           "marker": {
            "color": "#19d3f3",
            "symbol": "circle"
           },
           "mode": "markers",
           "name": "Закарпатська область",
           "orientation": "v",
           "showlegend": true,
           "type": "scatter",
           "x": [
            80
           ],
           "xaxis": "x",
           "y": [
            148
           ],
           "yaxis": "y"
          },
          {
           "hovertemplate": "<b>%{hovertext}</b><br><br>регіон=Запорізька область<br>рік=2020<br>кількість прибулих=%{x}<br>кількість вибулих=%{y}<extra></extra>",
           "hovertext": [
            "Запорізька область"
           ],
           "ids": [
            "Запорізька область"
           ],
           "legendgroup": "Запорізька область",
           "marker": {
            "color": "#FF6692",
            "symbol": "circle"
           },
           "mode": "markers",
           "name": "Запорізька область",
           "orientation": "v",
           "showlegend": true,
           "type": "scatter",
           "x": [
            30
           ],
           "xaxis": "x",
           "y": [
            39
           ],
           "yaxis": "y"
          },
          {
           "hovertemplate": "<b>%{hovertext}</b><br><br>регіон=Івано-Франківська область<br>рік=2020<br>кількість прибулих=%{x}<br>кількість вибулих=%{y}<extra></extra>",
           "hovertext": [
            "Івано-Франківська область"
           ],
           "ids": [
            "Івано-Франківська область"
           ],
           "legendgroup": "Івано-Франківська область",
           "marker": {
            "color": "#B6E880",
            "symbol": "circle"
           },
           "mode": "markers",
           "name": "Івано-Франківська область",
           "orientation": "v",
           "showlegend": true,
           "type": "scatter",
           "x": [
            94
           ],
           "xaxis": "x",
           "y": [
            78
           ],
           "yaxis": "y"
          },
          {
           "hovertemplate": "<b>%{hovertext}</b><br><br>регіон=Київська область<br>рік=2020<br>кількість прибулих=%{x}<br>кількість вибулих=%{y}<extra></extra>",
           "hovertext": [
            "Київська область"
           ],
           "ids": [
            "Київська область"
           ],
           "legendgroup": "Київська область",
           "marker": {
            "color": "#FF97FF",
            "symbol": "circle"
           },
           "mode": "markers",
           "name": "Київська область",
           "orientation": "v",
           "showlegend": true,
           "type": "scatter",
           "x": [
            944
           ],
           "xaxis": "x",
           "y": [
            221
           ],
           "yaxis": "y"
          },
          {
           "hovertemplate": "<b>%{hovertext}</b><br><br>регіон=Кіровоградська область<br>рік=2020<br>кількість прибулих=%{x}<br>кількість вибулих=%{y}<extra></extra>",
           "hovertext": [
            "Кіровоградська область"
           ],
           "ids": [
            "Кіровоградська область"
           ],
           "legendgroup": "Кіровоградська область",
           "marker": {
            "color": "#FECB52",
            "symbol": "circle"
           },
           "mode": "markers",
           "name": "Кіровоградська область",
           "orientation": "v",
           "showlegend": true,
           "type": "scatter",
           "x": [
            25
           ],
           "xaxis": "x",
           "y": [
            22
           ],
           "yaxis": "y"
          },
          {
           "hovertemplate": "<b>%{hovertext}</b><br><br>регіон=Луганська область<br>рік=2020<br>кількість прибулих=%{x}<br>кількість вибулих=%{y}<extra></extra>",
           "hovertext": [
            "Луганська область"
           ],
           "ids": [
            "Луганська область"
           ],
           "legendgroup": "Луганська область",
           "marker": {
            "color": "#636efa",
            "symbol": "circle"
           },
           "mode": "markers",
           "name": "Луганська область",
           "orientation": "v",
           "showlegend": true,
           "type": "scatter",
           "x": [
            28
           ],
           "xaxis": "x",
           "y": [
            20
           ],
           "yaxis": "y"
          },
          {
           "hovertemplate": "<b>%{hovertext}</b><br><br>регіон=Львівська область<br>рік=2020<br>кількість прибулих=%{x}<br>кількість вибулих=%{y}<extra></extra>",
           "hovertext": [
            "Львівська область"
           ],
           "ids": [
            "Львівська область"
           ],
           "legendgroup": "Львівська область",
           "marker": {
            "color": "#EF553B",
            "symbol": "circle"
           },
           "mode": "markers",
           "name": "Львівська область",
           "orientation": "v",
           "showlegend": true,
           "type": "scatter",
           "x": [
            110
           ],
           "xaxis": "x",
           "y": [
            66
           ],
           "yaxis": "y"
          },
          {
           "hovertemplate": "<b>%{hovertext}</b><br><br>регіон=Миколаївська область<br>рік=2020<br>кількість прибулих=%{x}<br>кількість вибулих=%{y}<extra></extra>",
           "hovertext": [
            "Миколаївська область"
           ],
           "ids": [
            "Миколаївська область"
           ],
           "legendgroup": "Миколаївська область",
           "marker": {
            "color": "#00cc96",
            "symbol": "circle"
           },
           "mode": "markers",
           "name": "Миколаївська область",
           "orientation": "v",
           "showlegend": true,
           "type": "scatter",
           "x": [
            79
           ],
           "xaxis": "x",
           "y": [
            23
           ],
           "yaxis": "y"
          },
          {
           "hovertemplate": "<b>%{hovertext}</b><br><br>регіон=Одеська область<br>рік=2020<br>кількість прибулих=%{x}<br>кількість вибулих=%{y}<extra></extra>",
           "hovertext": [
            "Одеська область"
           ],
           "ids": [
            "Одеська область"
           ],
           "legendgroup": "Одеська область",
           "marker": {
            "color": "#ab63fa",
            "symbol": "circle"
           },
           "mode": "markers",
           "name": "Одеська область",
           "orientation": "v",
           "showlegend": true,
           "type": "scatter",
           "x": [
            232
           ],
           "xaxis": "x",
           "y": [
            135
           ],
           "yaxis": "y"
          },
          {
           "hovertemplate": "<b>%{hovertext}</b><br><br>регіон=Полтавська область<br>рік=2020<br>кількість прибулих=%{x}<br>кількість вибулих=%{y}<extra></extra>",
           "hovertext": [
            "Полтавська область"
           ],
           "ids": [
            "Полтавська область"
           ],
           "legendgroup": "Полтавська область",
           "marker": {
            "color": "#FFA15A",
            "symbol": "circle"
           },
           "mode": "markers",
           "name": "Полтавська область",
           "orientation": "v",
           "showlegend": true,
           "type": "scatter",
           "x": [
            409
           ],
           "xaxis": "x",
           "y": [
            60
           ],
           "yaxis": "y"
          },
          {
           "hovertemplate": "<b>%{hovertext}</b><br><br>регіон=Рівненська область<br>рік=2020<br>кількість прибулих=%{x}<br>кількість вибулих=%{y}<extra></extra>",
           "hovertext": [
            "Рівненська область"
           ],
           "ids": [
            "Рівненська область"
           ],
           "legendgroup": "Рівненська область",
           "marker": {
            "color": "#19d3f3",
            "symbol": "circle"
           },
           "mode": "markers",
           "name": "Рівненська область",
           "orientation": "v",
           "showlegend": true,
           "type": "scatter",
           "x": [
            101
           ],
           "xaxis": "x",
           "y": [
            151
           ],
           "yaxis": "y"
          },
          {
           "hovertemplate": "<b>%{hovertext}</b><br><br>регіон=Сумська область<br>рік=2020<br>кількість прибулих=%{x}<br>кількість вибулих=%{y}<extra></extra>",
           "hovertext": [
            "Сумська область"
           ],
           "ids": [
            "Сумська область"
           ],
           "legendgroup": "Сумська область",
           "marker": {
            "color": "#FF6692",
            "symbol": "circle"
           },
           "mode": "markers",
           "name": "Сумська область",
           "orientation": "v",
           "showlegend": true,
           "type": "scatter",
           "x": [
            35
           ],
           "xaxis": "x",
           "y": [
            20
           ],
           "yaxis": "y"
          },
          {
           "hovertemplate": "<b>%{hovertext}</b><br><br>регіон=Тернопільська область<br>рік=2020<br>кількість прибулих=%{x}<br>кількість вибулих=%{y}<extra></extra>",
           "hovertext": [
            "Тернопільська область"
           ],
           "ids": [
            "Тернопільська область"
           ],
           "legendgroup": "Тернопільська область",
           "marker": {
            "color": "#B6E880",
            "symbol": "circle"
           },
           "mode": "markers",
           "name": "Тернопільська область",
           "orientation": "v",
           "showlegend": true,
           "type": "scatter",
           "x": [
            142
           ],
           "xaxis": "x",
           "y": [
            56
           ],
           "yaxis": "y"
          },
          {
           "hovertemplate": "<b>%{hovertext}</b><br><br>регіон=Харківська область<br>рік=2020<br>кількість прибулих=%{x}<br>кількість вибулих=%{y}<extra></extra>",
           "hovertext": [
            "Харківська область"
           ],
           "ids": [
            "Харківська область"
           ],
           "legendgroup": "Харківська область",
           "marker": {
            "color": "#FF97FF",
            "symbol": "circle"
           },
           "mode": "markers",
           "name": "Харківська область",
           "orientation": "v",
           "showlegend": true,
           "type": "scatter",
           "x": [
            251
           ],
           "xaxis": "x",
           "y": [
            82
           ],
           "yaxis": "y"
          },
          {
           "hovertemplate": "<b>%{hovertext}</b><br><br>регіон=Херсонська область<br>рік=2020<br>кількість прибулих=%{x}<br>кількість вибулих=%{y}<extra></extra>",
           "hovertext": [
            "Херсонська область"
           ],
           "ids": [
            "Херсонська область"
           ],
           "legendgroup": "Херсонська область",
           "marker": {
            "color": "#FECB52",
            "symbol": "circle"
           },
           "mode": "markers",
           "name": "Херсонська область",
           "orientation": "v",
           "showlegend": true,
           "type": "scatter",
           "x": [
            65
           ],
           "xaxis": "x",
           "y": [
            40
           ],
           "yaxis": "y"
          },
          {
           "hovertemplate": "<b>%{hovertext}</b><br><br>регіон=Хмельницька область<br>рік=2020<br>кількість прибулих=%{x}<br>кількість вибулих=%{y}<extra></extra>",
           "hovertext": [
            "Хмельницька область"
           ],
           "ids": [
            "Хмельницька область"
           ],
           "legendgroup": "Хмельницька область",
           "marker": {
            "color": "#636efa",
            "symbol": "circle"
           },
           "mode": "markers",
           "name": "Хмельницька область",
           "orientation": "v",
           "showlegend": true,
           "type": "scatter",
           "x": [
            147
           ],
           "xaxis": "x",
           "y": [
            34
           ],
           "yaxis": "y"
          },
          {
           "hovertemplate": "<b>%{hovertext}</b><br><br>регіон=Черкаська область<br>рік=2020<br>кількість прибулих=%{x}<br>кількість вибулих=%{y}<extra></extra>",
           "hovertext": [
            "Черкаська область"
           ],
           "ids": [
            "Черкаська область"
           ],
           "legendgroup": "Черкаська область",
           "marker": {
            "color": "#EF553B",
            "symbol": "circle"
           },
           "mode": "markers",
           "name": "Черкаська область",
           "orientation": "v",
           "showlegend": true,
           "type": "scatter",
           "x": [
            67
           ],
           "xaxis": "x",
           "y": [
            59
           ],
           "yaxis": "y"
          },
          {
           "hovertemplate": "<b>%{hovertext}</b><br><br>регіон=Чернівецька область<br>рік=2020<br>кількість прибулих=%{x}<br>кількість вибулих=%{y}<extra></extra>",
           "hovertext": [
            "Чернівецька область"
           ],
           "ids": [
            "Чернівецька область"
           ],
           "legendgroup": "Чернівецька область",
           "marker": {
            "color": "#00cc96",
            "symbol": "circle"
           },
           "mode": "markers",
           "name": "Чернівецька область",
           "orientation": "v",
           "showlegend": true,
           "type": "scatter",
           "x": [
            304
           ],
           "xaxis": "x",
           "y": [
            61
           ],
           "yaxis": "y"
          },
          {
           "hovertemplate": "<b>%{hovertext}</b><br><br>регіон=Чернігівська область<br>рік=2020<br>кількість прибулих=%{x}<br>кількість вибулих=%{y}<extra></extra>",
           "hovertext": [
            "Чернігівська область"
           ],
           "ids": [
            "Чернігівська область"
           ],
           "legendgroup": "Чернігівська область",
           "marker": {
            "color": "#ab63fa",
            "symbol": "circle"
           },
           "mode": "markers",
           "name": "Чернігівська область",
           "orientation": "v",
           "showlegend": true,
           "type": "scatter",
           "x": [
            34
           ],
           "xaxis": "x",
           "y": [
            15
           ],
           "yaxis": "y"
          }
         ],
         "name": "2020"
        },
        {
         "data": [
          {
           "hovertemplate": "<b>%{hovertext}</b><br><br>регіон=Вінницька область<br>рік=2021<br>кількість прибулих=%{x}<br>кількість вибулих=%{y}<extra></extra>",
           "hovertext": [
            "Вінницька область"
           ],
           "ids": [
            "Вінницька область"
           ],
           "legendgroup": "Вінницька область",
           "marker": {
            "color": "#636efa",
            "symbol": "circle"
           },
           "mode": "markers",
           "name": "Вінницька область",
           "orientation": "v",
           "showlegend": true,
           "type": "scatter",
           "x": [
            41
           ],
           "xaxis": "x",
           "y": [
            31
           ],
           "yaxis": "y"
          },
          {
           "hovertemplate": "<b>%{hovertext}</b><br><br>регіон=Волинська область<br>рік=2021<br>кількість прибулих=%{x}<br>кількість вибулих=%{y}<extra></extra>",
           "hovertext": [
            "Волинська область"
           ],
           "ids": [
            "Волинська область"
           ],
           "legendgroup": "Волинська область",
           "marker": {
            "color": "#EF553B",
            "symbol": "circle"
           },
           "mode": "markers",
           "name": "Волинська область",
           "orientation": "v",
           "showlegend": true,
           "type": "scatter",
           "x": [
            41
           ],
           "xaxis": "x",
           "y": [
            80
           ],
           "yaxis": "y"
          },
          {
           "hovertemplate": "<b>%{hovertext}</b><br><br>регіон=Дніпропетровська область<br>рік=2021<br>кількість прибулих=%{x}<br>кількість вибулих=%{y}<extra></extra>",
           "hovertext": [
            "Дніпропетровська область"
           ],
           "ids": [
            "Дніпропетровська область"
           ],
           "legendgroup": "Дніпропетровська область",
           "marker": {
            "color": "#00cc96",
            "symbol": "circle"
           },
           "mode": "markers",
           "name": "Дніпропетровська область",
           "orientation": "v",
           "showlegend": true,
           "type": "scatter",
           "x": [
            41
           ],
           "xaxis": "x",
           "y": [
            65
           ],
           "yaxis": "y"
          },
          {
           "hovertemplate": "<b>%{hovertext}</b><br><br>регіон=Донецька область<br>рік=2021<br>кількість прибулих=%{x}<br>кількість вибулих=%{y}<extra></extra>",
           "hovertext": [
            "Донецька область"
           ],
           "ids": [
            "Донецька область"
           ],
           "legendgroup": "Донецька область",
           "marker": {
            "color": "#ab63fa",
            "symbol": "circle"
           },
           "mode": "markers",
           "name": "Донецька область",
           "orientation": "v",
           "showlegend": true,
           "type": "scatter",
           "x": [
            41
           ],
           "xaxis": "x",
           "y": [
            17
           ],
           "yaxis": "y"
          },
          {
           "hovertemplate": "<b>%{hovertext}</b><br><br>регіон=Житомирська область<br>рік=2021<br>кількість прибулих=%{x}<br>кількість вибулих=%{y}<extra></extra>",
           "hovertext": [
            "Житомирська область"
           ],
           "ids": [
            "Житомирська область"
           ],
           "legendgroup": "Житомирська область",
           "marker": {
            "color": "#FFA15A",
            "symbol": "circle"
           },
           "mode": "markers",
           "name": "Житомирська область",
           "orientation": "v",
           "showlegend": true,
           "type": "scatter",
           "x": [
            41
           ],
           "xaxis": "x",
           "y": [
            44
           ],
           "yaxis": "y"
          },
          {
           "hovertemplate": "<b>%{hovertext}</b><br><br>регіон=Закарпатська область<br>рік=2021<br>кількість прибулих=%{x}<br>кількість вибулих=%{y}<extra></extra>",
           "hovertext": [
            "Закарпатська область"
           ],
           "ids": [
            "Закарпатська область"
           ],
           "legendgroup": "Закарпатська область",
           "marker": {
            "color": "#19d3f3",
            "symbol": "circle"
           },
           "mode": "markers",
           "name": "Закарпатська область",
           "orientation": "v",
           "showlegend": true,
           "type": "scatter",
           "x": [
            41
           ],
           "xaxis": "x",
           "y": [
            277
           ],
           "yaxis": "y"
          },
          {
           "hovertemplate": "<b>%{hovertext}</b><br><br>регіон=Запорізька область<br>рік=2021<br>кількість прибулих=%{x}<br>кількість вибулих=%{y}<extra></extra>",
           "hovertext": [
            "Запорізька область"
           ],
           "ids": [
            "Запорізька область"
           ],
           "legendgroup": "Запорізька область",
           "marker": {
            "color": "#FF6692",
            "symbol": "circle"
           },
           "mode": "markers",
           "name": "Запорізька область",
           "orientation": "v",
           "showlegend": true,
           "type": "scatter",
           "x": [
            41
           ],
           "xaxis": "x",
           "y": [
            65
           ],
           "yaxis": "y"
          },
          {
           "hovertemplate": "<b>%{hovertext}</b><br><br>регіон=Івано-Франківська область<br>рік=2021<br>кількість прибулих=%{x}<br>кількість вибулих=%{y}<extra></extra>",
           "hovertext": [
            "Івано-Франківська область"
           ],
           "ids": [
            "Івано-Франківська область"
           ],
           "legendgroup": "Івано-Франківська область",
           "marker": {
            "color": "#B6E880",
            "symbol": "circle"
           },
           "mode": "markers",
           "name": "Івано-Франківська область",
           "orientation": "v",
           "showlegend": true,
           "type": "scatter",
           "x": [
            41
           ],
           "xaxis": "x",
           "y": [
            122
           ],
           "yaxis": "y"
          },
          {
           "hovertemplate": "<b>%{hovertext}</b><br><br>регіон=Київська область<br>рік=2021<br>кількість прибулих=%{x}<br>кількість вибулих=%{y}<extra></extra>",
           "hovertext": [
            "Київська область"
           ],
           "ids": [
            "Київська область"
           ],
           "legendgroup": "Київська область",
           "marker": {
            "color": "#FF97FF",
            "symbol": "circle"
           },
           "mode": "markers",
           "name": "Київська область",
           "orientation": "v",
           "showlegend": true,
           "type": "scatter",
           "x": [
            41
           ],
           "xaxis": "x",
           "y": [
            201
           ],
           "yaxis": "y"
          },
          {
           "hovertemplate": "<b>%{hovertext}</b><br><br>регіон=Кіровоградська область<br>рік=2021<br>кількість прибулих=%{x}<br>кількість вибулих=%{y}<extra></extra>",
           "hovertext": [
            "Кіровоградська область"
           ],
           "ids": [
            "Кіровоградська область"
           ],
           "legendgroup": "Кіровоградська область",
           "marker": {
            "color": "#FECB52",
            "symbol": "circle"
           },
           "mode": "markers",
           "name": "Кіровоградська область",
           "orientation": "v",
           "showlegend": true,
           "type": "scatter",
           "x": [
            41
           ],
           "xaxis": "x",
           "y": [
            33
           ],
           "yaxis": "y"
          },
          {
           "hovertemplate": "<b>%{hovertext}</b><br><br>регіон=Луганська область<br>рік=2021<br>кількість прибулих=%{x}<br>кількість вибулих=%{y}<extra></extra>",
           "hovertext": [
            "Луганська область"
           ],
           "ids": [
            "Луганська область"
           ],
           "legendgroup": "Луганська область",
           "marker": {
            "color": "#636efa",
            "symbol": "circle"
           },
           "mode": "markers",
           "name": "Луганська область",
           "orientation": "v",
           "showlegend": true,
           "type": "scatter",
           "x": [
            41
           ],
           "xaxis": "x",
           "y": [
            13
           ],
           "yaxis": "y"
          },
          {
           "hovertemplate": "<b>%{hovertext}</b><br><br>регіон=Львівська область<br>рік=2021<br>кількість прибулих=%{x}<br>кількість вибулих=%{y}<extra></extra>",
           "hovertext": [
            "Львівська область"
           ],
           "ids": [
            "Львівська область"
           ],
           "legendgroup": "Львівська область",
           "marker": {
            "color": "#EF553B",
            "symbol": "circle"
           },
           "mode": "markers",
           "name": "Львівська область",
           "orientation": "v",
           "showlegend": true,
           "type": "scatter",
           "x": [
            41
           ],
           "xaxis": "x",
           "y": [
            90
           ],
           "yaxis": "y"
          },
          {
           "hovertemplate": "<b>%{hovertext}</b><br><br>регіон=Миколаївська область<br>рік=2021<br>кількість прибулих=%{x}<br>кількість вибулих=%{y}<extra></extra>",
           "hovertext": [
            "Миколаївська область"
           ],
           "ids": [
            "Миколаївська область"
           ],
           "legendgroup": "Миколаївська область",
           "marker": {
            "color": "#00cc96",
            "symbol": "circle"
           },
           "mode": "markers",
           "name": "Миколаївська область",
           "orientation": "v",
           "showlegend": true,
           "type": "scatter",
           "x": [
            41
           ],
           "xaxis": "x",
           "y": [
            48
           ],
           "yaxis": "y"
          },
          {
           "hovertemplate": "<b>%{hovertext}</b><br><br>регіон=Одеська область<br>рік=2021<br>кількість прибулих=%{x}<br>кількість вибулих=%{y}<extra></extra>",
           "hovertext": [
            "Одеська область"
           ],
           "ids": [
            "Одеська область"
           ],
           "legendgroup": "Одеська область",
           "marker": {
            "color": "#ab63fa",
            "symbol": "circle"
           },
           "mode": "markers",
           "name": "Одеська область",
           "orientation": "v",
           "showlegend": true,
           "type": "scatter",
           "x": [
            41
           ],
           "xaxis": "x",
           "y": [
            171
           ],
           "yaxis": "y"
          },
          {
           "hovertemplate": "<b>%{hovertext}</b><br><br>регіон=Полтавська область<br>рік=2021<br>кількість прибулих=%{x}<br>кількість вибулих=%{y}<extra></extra>",
           "hovertext": [
            "Полтавська область"
           ],
           "ids": [
            "Полтавська область"
           ],
           "legendgroup": "Полтавська область",
           "marker": {
            "color": "#FFA15A",
            "symbol": "circle"
           },
           "mode": "markers",
           "name": "Полтавська область",
           "orientation": "v",
           "showlegend": true,
           "type": "scatter",
           "x": [
            41
           ],
           "xaxis": "x",
           "y": [
            163
           ],
           "yaxis": "y"
          },
          {
           "hovertemplate": "<b>%{hovertext}</b><br><br>регіон=Рівненська область<br>рік=2021<br>кількість прибулих=%{x}<br>кількість вибулих=%{y}<extra></extra>",
           "hovertext": [
            "Рівненська область"
           ],
           "ids": [
            "Рівненська область"
           ],
           "legendgroup": "Рівненська область",
           "marker": {
            "color": "#19d3f3",
            "symbol": "circle"
           },
           "mode": "markers",
           "name": "Рівненська область",
           "orientation": "v",
           "showlegend": true,
           "type": "scatter",
           "x": [
            41
           ],
           "xaxis": "x",
           "y": [
            201
           ],
           "yaxis": "y"
          },
          {
           "hovertemplate": "<b>%{hovertext}</b><br><br>регіон=Сумська область<br>рік=2021<br>кількість прибулих=%{x}<br>кількість вибулих=%{y}<extra></extra>",
           "hovertext": [
            "Сумська область"
           ],
           "ids": [
            "Сумська область"
           ],
           "legendgroup": "Сумська область",
           "marker": {
            "color": "#FF6692",
            "symbol": "circle"
           },
           "mode": "markers",
           "name": "Сумська область",
           "orientation": "v",
           "showlegend": true,
           "type": "scatter",
           "x": [
            41
           ],
           "xaxis": "x",
           "y": [
            30
           ],
           "yaxis": "y"
          },
          {
           "hovertemplate": "<b>%{hovertext}</b><br><br>регіон=Тернопільська область<br>рік=2021<br>кількість прибулих=%{x}<br>кількість вибулих=%{y}<extra></extra>",
           "hovertext": [
            "Тернопільська область"
           ],
           "ids": [
            "Тернопільська область"
           ],
           "legendgroup": "Тернопільська область",
           "marker": {
            "color": "#B6E880",
            "symbol": "circle"
           },
           "mode": "markers",
           "name": "Тернопільська область",
           "orientation": "v",
           "showlegend": true,
           "type": "scatter",
           "x": [
            41
           ],
           "xaxis": "x",
           "y": [
            74
           ],
           "yaxis": "y"
          },
          {
           "hovertemplate": "<b>%{hovertext}</b><br><br>регіон=Харківська область<br>рік=2021<br>кількість прибулих=%{x}<br>кількість вибулих=%{y}<extra></extra>",
           "hovertext": [
            "Харківська область"
           ],
           "ids": [
            "Харківська область"
           ],
           "legendgroup": "Харківська область",
           "marker": {
            "color": "#FF97FF",
            "symbol": "circle"
           },
           "mode": "markers",
           "name": "Харківська область",
           "orientation": "v",
           "showlegend": true,
           "type": "scatter",
           "x": [
            41
           ],
           "xaxis": "x",
           "y": [
            119
           ],
           "yaxis": "y"
          },
          {
           "hovertemplate": "<b>%{hovertext}</b><br><br>регіон=Херсонська область<br>рік=2021<br>кількість прибулих=%{x}<br>кількість вибулих=%{y}<extra></extra>",
           "hovertext": [
            "Херсонська область"
           ],
           "ids": [
            "Херсонська область"
           ],
           "legendgroup": "Херсонська область",
           "marker": {
            "color": "#FECB52",
            "symbol": "circle"
           },
           "mode": "markers",
           "name": "Херсонська область",
           "orientation": "v",
           "showlegend": true,
           "type": "scatter",
           "x": [
            41
           ],
           "xaxis": "x",
           "y": [
            45
           ],
           "yaxis": "y"
          },
          {
           "hovertemplate": "<b>%{hovertext}</b><br><br>регіон=Хмельницька область<br>рік=2021<br>кількість прибулих=%{x}<br>кількість вибулих=%{y}<extra></extra>",
           "hovertext": [
            "Хмельницька область"
           ],
           "ids": [
            "Хмельницька область"
           ],
           "legendgroup": "Хмельницька область",
           "marker": {
            "color": "#636efa",
            "symbol": "circle"
           },
           "mode": "markers",
           "name": "Хмельницька область",
           "orientation": "v",
           "showlegend": true,
           "type": "scatter",
           "x": [
            41
           ],
           "xaxis": "x",
           "y": [
            59
           ],
           "yaxis": "y"
          },
          {
           "hovertemplate": "<b>%{hovertext}</b><br><br>регіон=Черкаська область<br>рік=2021<br>кількість прибулих=%{x}<br>кількість вибулих=%{y}<extra></extra>",
           "hovertext": [
            "Черкаська область"
           ],
           "ids": [
            "Черкаська область"
           ],
           "legendgroup": "Черкаська область",
           "marker": {
            "color": "#EF553B",
            "symbol": "circle"
           },
           "mode": "markers",
           "name": "Черкаська область",
           "orientation": "v",
           "showlegend": true,
           "type": "scatter",
           "x": [
            41
           ],
           "xaxis": "x",
           "y": [
            49
           ],
           "yaxis": "y"
          },
          {
           "hovertemplate": "<b>%{hovertext}</b><br><br>регіон=Чернівецька область<br>рік=2021<br>кількість прибулих=%{x}<br>кількість вибулих=%{y}<extra></extra>",
           "hovertext": [
            "Чернівецька область"
           ],
           "ids": [
            "Чернівецька область"
           ],
           "legendgroup": "Чернівецька область",
           "marker": {
            "color": "#00cc96",
            "symbol": "circle"
           },
           "mode": "markers",
           "name": "Чернівецька область",
           "orientation": "v",
           "showlegend": true,
           "type": "scatter",
           "x": [
            41
           ],
           "xaxis": "x",
           "y": [
            110
           ],
           "yaxis": "y"
          },
          {
           "hovertemplate": "<b>%{hovertext}</b><br><br>регіон=Чернігівська область<br>рік=2021<br>кількість прибулих=%{x}<br>кількість вибулих=%{y}<extra></extra>",
           "hovertext": [
            "Чернігівська область"
           ],
           "ids": [
            "Чернігівська область"
           ],
           "legendgroup": "Чернігівська область",
           "marker": {
            "color": "#ab63fa",
            "symbol": "circle"
           },
           "mode": "markers",
           "name": "Чернігівська область",
           "orientation": "v",
           "showlegend": true,
           "type": "scatter",
           "x": [
            41
           ],
           "xaxis": "x",
           "y": [
            38
           ],
           "yaxis": "y"
          }
         ],
         "name": "2021"
        }
       ],
       "layout": {
        "legend": {
         "title": {
          "text": "регіон"
         },
         "tracegroupgap": 0
        },
        "sliders": [
         {
          "active": 0,
          "currentvalue": {
           "prefix": "рік="
          },
          "len": 0.9,
          "pad": {
           "b": 10,
           "t": 60
          },
          "steps": [
           {
            "args": [
             [
              "2019"
             ],
             {
              "frame": {
               "duration": 0,
               "redraw": false
              },
              "fromcurrent": true,
              "mode": "immediate",
              "transition": {
               "duration": 0,
               "easing": "linear"
              }
             }
            ],
            "label": "2019",
            "method": "animate"
           },
           {
            "args": [
             [
              "2020"
             ],
             {
              "frame": {
               "duration": 0,
               "redraw": false
              },
              "fromcurrent": true,
              "mode": "immediate",
              "transition": {
               "duration": 0,
               "easing": "linear"
              }
             }
            ],
            "label": "2020",
            "method": "animate"
           },
           {
            "args": [
             [
              "2021"
             ],
             {
              "frame": {
               "duration": 0,
               "redraw": false
              },
              "fromcurrent": true,
              "mode": "immediate",
              "transition": {
               "duration": 0,
               "easing": "linear"
              }
             }
            ],
            "label": "2021",
            "method": "animate"
           }
          ],
          "x": 0.1,
          "xanchor": "left",
          "y": 0,
          "yanchor": "top"
         }
        ],
        "template": {
         "data": {
          "bar": [
           {
            "error_x": {
             "color": "#2a3f5f"
            },
            "error_y": {
             "color": "#2a3f5f"
            },
            "marker": {
             "line": {
              "color": "#E5ECF6",
              "width": 0.5
             },
             "pattern": {
              "fillmode": "overlay",
              "size": 10,
              "solidity": 0.2
             }
            },
            "type": "bar"
           }
          ],
          "barpolar": [
           {
            "marker": {
             "line": {
              "color": "#E5ECF6",
              "width": 0.5
             },
             "pattern": {
              "fillmode": "overlay",
              "size": 10,
              "solidity": 0.2
             }
            },
            "type": "barpolar"
           }
          ],
          "carpet": [
           {
            "aaxis": {
             "endlinecolor": "#2a3f5f",
             "gridcolor": "white",
             "linecolor": "white",
             "minorgridcolor": "white",
             "startlinecolor": "#2a3f5f"
            },
            "baxis": {
             "endlinecolor": "#2a3f5f",
             "gridcolor": "white",
             "linecolor": "white",
             "minorgridcolor": "white",
             "startlinecolor": "#2a3f5f"
            },
            "type": "carpet"
           }
          ],
          "choropleth": [
           {
            "colorbar": {
             "outlinewidth": 0,
             "ticks": ""
            },
            "type": "choropleth"
           }
          ],
          "contour": [
           {
            "colorbar": {
             "outlinewidth": 0,
             "ticks": ""
            },
            "colorscale": [
             [
              0,
              "#0d0887"
             ],
             [
              0.1111111111111111,
              "#46039f"
             ],
             [
              0.2222222222222222,
              "#7201a8"
             ],
             [
              0.3333333333333333,
              "#9c179e"
             ],
             [
              0.4444444444444444,
              "#bd3786"
             ],
             [
              0.5555555555555556,
              "#d8576b"
             ],
             [
              0.6666666666666666,
              "#ed7953"
             ],
             [
              0.7777777777777778,
              "#fb9f3a"
             ],
             [
              0.8888888888888888,
              "#fdca26"
             ],
             [
              1,
              "#f0f921"
             ]
            ],
            "type": "contour"
           }
          ],
          "contourcarpet": [
           {
            "colorbar": {
             "outlinewidth": 0,
             "ticks": ""
            },
            "type": "contourcarpet"
           }
          ],
          "heatmap": [
           {
            "colorbar": {
             "outlinewidth": 0,
             "ticks": ""
            },
            "colorscale": [
             [
              0,
              "#0d0887"
             ],
             [
              0.1111111111111111,
              "#46039f"
             ],
             [
              0.2222222222222222,
              "#7201a8"
             ],
             [
              0.3333333333333333,
              "#9c179e"
             ],
             [
              0.4444444444444444,
              "#bd3786"
             ],
             [
              0.5555555555555556,
              "#d8576b"
             ],
             [
              0.6666666666666666,
              "#ed7953"
             ],
             [
              0.7777777777777778,
              "#fb9f3a"
             ],
             [
              0.8888888888888888,
              "#fdca26"
             ],
             [
              1,
              "#f0f921"
             ]
            ],
            "type": "heatmap"
           }
          ],
          "heatmapgl": [
           {
            "colorbar": {
             "outlinewidth": 0,
             "ticks": ""
            },
            "colorscale": [
             [
              0,
              "#0d0887"
             ],
             [
              0.1111111111111111,
              "#46039f"
             ],
             [
              0.2222222222222222,
              "#7201a8"
             ],
             [
              0.3333333333333333,
              "#9c179e"
             ],
             [
              0.4444444444444444,
              "#bd3786"
             ],
             [
              0.5555555555555556,
              "#d8576b"
             ],
             [
              0.6666666666666666,
              "#ed7953"
             ],
             [
              0.7777777777777778,
              "#fb9f3a"
             ],
             [
              0.8888888888888888,
              "#fdca26"
             ],
             [
              1,
              "#f0f921"
             ]
            ],
            "type": "heatmapgl"
           }
          ],
          "histogram": [
           {
            "marker": {
             "pattern": {
              "fillmode": "overlay",
              "size": 10,
              "solidity": 0.2
             }
            },
            "type": "histogram"
           }
          ],
          "histogram2d": [
           {
            "colorbar": {
             "outlinewidth": 0,
             "ticks": ""
            },
            "colorscale": [
             [
              0,
              "#0d0887"
             ],
             [
              0.1111111111111111,
              "#46039f"
             ],
             [
              0.2222222222222222,
              "#7201a8"
             ],
             [
              0.3333333333333333,
              "#9c179e"
             ],
             [
              0.4444444444444444,
              "#bd3786"
             ],
             [
              0.5555555555555556,
              "#d8576b"
             ],
             [
              0.6666666666666666,
              "#ed7953"
             ],
             [
              0.7777777777777778,
              "#fb9f3a"
             ],
             [
              0.8888888888888888,
              "#fdca26"
             ],
             [
              1,
              "#f0f921"
             ]
            ],
            "type": "histogram2d"
           }
          ],
          "histogram2dcontour": [
           {
            "colorbar": {
             "outlinewidth": 0,
             "ticks": ""
            },
            "colorscale": [
             [
              0,
              "#0d0887"
             ],
             [
              0.1111111111111111,
              "#46039f"
             ],
             [
              0.2222222222222222,
              "#7201a8"
             ],
             [
              0.3333333333333333,
              "#9c179e"
             ],
             [
              0.4444444444444444,
              "#bd3786"
             ],
             [
              0.5555555555555556,
              "#d8576b"
             ],
             [
              0.6666666666666666,
              "#ed7953"
             ],
             [
              0.7777777777777778,
              "#fb9f3a"
             ],
             [
              0.8888888888888888,
              "#fdca26"
             ],
             [
              1,
              "#f0f921"
             ]
            ],
            "type": "histogram2dcontour"
           }
          ],
          "mesh3d": [
           {
            "colorbar": {
             "outlinewidth": 0,
             "ticks": ""
            },
            "type": "mesh3d"
           }
          ],
          "parcoords": [
           {
            "line": {
             "colorbar": {
              "outlinewidth": 0,
              "ticks": ""
             }
            },
            "type": "parcoords"
           }
          ],
          "pie": [
           {
            "automargin": true,
            "type": "pie"
           }
          ],
          "scatter": [
           {
            "fillpattern": {
             "fillmode": "overlay",
             "size": 10,
             "solidity": 0.2
            },
            "type": "scatter"
           }
          ],
          "scatter3d": [
           {
            "line": {
             "colorbar": {
              "outlinewidth": 0,
              "ticks": ""
             }
            },
            "marker": {
             "colorbar": {
              "outlinewidth": 0,
              "ticks": ""
             }
            },
            "type": "scatter3d"
           }
          ],
          "scattercarpet": [
           {
            "marker": {
             "colorbar": {
              "outlinewidth": 0,
              "ticks": ""
             }
            },
            "type": "scattercarpet"
           }
          ],
          "scattergeo": [
           {
            "marker": {
             "colorbar": {
              "outlinewidth": 0,
              "ticks": ""
             }
            },
            "type": "scattergeo"
           }
          ],
          "scattergl": [
           {
            "marker": {
             "colorbar": {
              "outlinewidth": 0,
              "ticks": ""
             }
            },
            "type": "scattergl"
           }
          ],
          "scattermapbox": [
           {
            "marker": {
             "colorbar": {
              "outlinewidth": 0,
              "ticks": ""
             }
            },
            "type": "scattermapbox"
           }
          ],
          "scatterpolar": [
           {
            "marker": {
             "colorbar": {
              "outlinewidth": 0,
              "ticks": ""
             }
            },
            "type": "scatterpolar"
           }
          ],
          "scatterpolargl": [
           {
            "marker": {
             "colorbar": {
              "outlinewidth": 0,
              "ticks": ""
             }
            },
            "type": "scatterpolargl"
           }
          ],
          "scatterternary": [
           {
            "marker": {
             "colorbar": {
              "outlinewidth": 0,
              "ticks": ""
             }
            },
            "type": "scatterternary"
           }
          ],
          "surface": [
           {
            "colorbar": {
             "outlinewidth": 0,
             "ticks": ""
            },
            "colorscale": [
             [
              0,
              "#0d0887"
             ],
             [
              0.1111111111111111,
              "#46039f"
             ],
             [
              0.2222222222222222,
              "#7201a8"
             ],
             [
              0.3333333333333333,
              "#9c179e"
             ],
             [
              0.4444444444444444,
              "#bd3786"
             ],
             [
              0.5555555555555556,
              "#d8576b"
             ],
             [
              0.6666666666666666,
              "#ed7953"
             ],
             [
              0.7777777777777778,
              "#fb9f3a"
             ],
             [
              0.8888888888888888,
              "#fdca26"
             ],
             [
              1,
              "#f0f921"
             ]
            ],
            "type": "surface"
           }
          ],
          "table": [
           {
            "cells": {
             "fill": {
              "color": "#EBF0F8"
             },
             "line": {
              "color": "white"
             }
            },
            "header": {
             "fill": {
              "color": "#C8D4E3"
             },
             "line": {
              "color": "white"
             }
            },
            "type": "table"
           }
          ]
         },
         "layout": {
          "annotationdefaults": {
           "arrowcolor": "#2a3f5f",
           "arrowhead": 0,
           "arrowwidth": 1
          },
          "autotypenumbers": "strict",
          "coloraxis": {
           "colorbar": {
            "outlinewidth": 0,
            "ticks": ""
           }
          },
          "colorscale": {
           "diverging": [
            [
             0,
             "#8e0152"
            ],
            [
             0.1,
             "#c51b7d"
            ],
            [
             0.2,
             "#de77ae"
            ],
            [
             0.3,
             "#f1b6da"
            ],
            [
             0.4,
             "#fde0ef"
            ],
            [
             0.5,
             "#f7f7f7"
            ],
            [
             0.6,
             "#e6f5d0"
            ],
            [
             0.7,
             "#b8e186"
            ],
            [
             0.8,
             "#7fbc41"
            ],
            [
             0.9,
             "#4d9221"
            ],
            [
             1,
             "#276419"
            ]
           ],
           "sequential": [
            [
             0,
             "#0d0887"
            ],
            [
             0.1111111111111111,
             "#46039f"
            ],
            [
             0.2222222222222222,
             "#7201a8"
            ],
            [
             0.3333333333333333,
             "#9c179e"
            ],
            [
             0.4444444444444444,
             "#bd3786"
            ],
            [
             0.5555555555555556,
             "#d8576b"
            ],
            [
             0.6666666666666666,
             "#ed7953"
            ],
            [
             0.7777777777777778,
             "#fb9f3a"
            ],
            [
             0.8888888888888888,
             "#fdca26"
            ],
            [
             1,
             "#f0f921"
            ]
           ],
           "sequentialminus": [
            [
             0,
             "#0d0887"
            ],
            [
             0.1111111111111111,
             "#46039f"
            ],
            [
             0.2222222222222222,
             "#7201a8"
            ],
            [
             0.3333333333333333,
             "#9c179e"
            ],
            [
             0.4444444444444444,
             "#bd3786"
            ],
            [
             0.5555555555555556,
             "#d8576b"
            ],
            [
             0.6666666666666666,
             "#ed7953"
            ],
            [
             0.7777777777777778,
             "#fb9f3a"
            ],
            [
             0.8888888888888888,
             "#fdca26"
            ],
            [
             1,
             "#f0f921"
            ]
           ]
          },
          "colorway": [
           "#636efa",
           "#EF553B",
           "#00cc96",
           "#ab63fa",
           "#FFA15A",
           "#19d3f3",
           "#FF6692",
           "#B6E880",
           "#FF97FF",
           "#FECB52"
          ],
          "font": {
           "color": "#2a3f5f"
          },
          "geo": {
           "bgcolor": "white",
           "lakecolor": "white",
           "landcolor": "#E5ECF6",
           "showlakes": true,
           "showland": true,
           "subunitcolor": "white"
          },
          "hoverlabel": {
           "align": "left"
          },
          "hovermode": "closest",
          "mapbox": {
           "style": "light"
          },
          "paper_bgcolor": "white",
          "plot_bgcolor": "#E5ECF6",
          "polar": {
           "angularaxis": {
            "gridcolor": "white",
            "linecolor": "white",
            "ticks": ""
           },
           "bgcolor": "#E5ECF6",
           "radialaxis": {
            "gridcolor": "white",
            "linecolor": "white",
            "ticks": ""
           }
          },
          "scene": {
           "xaxis": {
            "backgroundcolor": "#E5ECF6",
            "gridcolor": "white",
            "gridwidth": 2,
            "linecolor": "white",
            "showbackground": true,
            "ticks": "",
            "zerolinecolor": "white"
           },
           "yaxis": {
            "backgroundcolor": "#E5ECF6",
            "gridcolor": "white",
            "gridwidth": 2,
            "linecolor": "white",
            "showbackground": true,
            "ticks": "",
            "zerolinecolor": "white"
           },
           "zaxis": {
            "backgroundcolor": "#E5ECF6",
            "gridcolor": "white",
            "gridwidth": 2,
            "linecolor": "white",
            "showbackground": true,
            "ticks": "",
            "zerolinecolor": "white"
           }
          },
          "shapedefaults": {
           "line": {
            "color": "#2a3f5f"
           }
          },
          "ternary": {
           "aaxis": {
            "gridcolor": "white",
            "linecolor": "white",
            "ticks": ""
           },
           "baxis": {
            "gridcolor": "white",
            "linecolor": "white",
            "ticks": ""
           },
           "bgcolor": "#E5ECF6",
           "caxis": {
            "gridcolor": "white",
            "linecolor": "white",
            "ticks": ""
           }
          },
          "title": {
           "x": 0.05
          },
          "xaxis": {
           "automargin": true,
           "gridcolor": "white",
           "linecolor": "white",
           "ticks": "",
           "title": {
            "standoff": 15
           },
           "zerolinecolor": "white",
           "zerolinewidth": 2
          },
          "yaxis": {
           "automargin": true,
           "gridcolor": "white",
           "linecolor": "white",
           "ticks": "",
           "title": {
            "standoff": 15
           },
           "zerolinecolor": "white",
           "zerolinewidth": 2
          }
         }
        },
        "title": {
         "text": "Співвідношення міждержавних мігрантів в сільській місцевості"
        },
        "updatemenus": [
         {
          "buttons": [
           {
            "args": [
             null,
             {
              "frame": {
               "duration": 500,
               "redraw": false
              },
              "fromcurrent": true,
              "mode": "immediate",
              "transition": {
               "duration": 500,
               "easing": "linear"
              }
             }
            ],
            "label": "&#9654;",
            "method": "animate"
           },
           {
            "args": [
             [
              null
             ],
             {
              "frame": {
               "duration": 0,
               "redraw": false
              },
              "fromcurrent": true,
              "mode": "immediate",
              "transition": {
               "duration": 0,
               "easing": "linear"
              }
             }
            ],
            "label": "&#9724;",
            "method": "animate"
           }
          ],
          "direction": "left",
          "pad": {
           "r": 10,
           "t": 70
          },
          "showactive": false,
          "type": "buttons",
          "x": 0.1,
          "xanchor": "right",
          "y": 0,
          "yanchor": "top"
         }
        ],
        "xaxis": {
         "anchor": "y",
         "domain": [
          0,
          1
         ],
         "title": {
          "text": "кількість прибулих"
         },
         "type": "log"
        },
        "yaxis": {
         "anchor": "x",
         "domain": [
          0,
          1
         ],
         "title": {
          "text": "кількість вибулих"
         }
        }
       }
      }
     },
     "metadata": {},
     "output_type": "display_data"
    }
   ],
   "source": [
    "px.scatter(crosscountry_migration, x=\"кількість прибулих\", y=\"кількість вибулих\", animation_frame=\"рік\", \n",
    "           animation_group=\"регіон\", color=\"регіон\", hover_name=\"регіон\",\n",
    "           log_x=True, size_max=55, title='Співвідношення міждержавних мігрантів в сільській місцевості')"
   ]
  },
  {
   "attachments": {},
   "cell_type": "markdown",
   "metadata": {},
   "source": [
    "Теплова мапа, що відображає загальний міграційний приріс міських місцевостей кодної області."
   ]
  },
  {
   "cell_type": "code",
   "execution_count": 15,
   "metadata": {},
   "outputs": [
    {
     "data": {
      "application/vnd.plotly.v1+json": {
       "config": {
        "plotlyServerURL": "https://plot.ly"
       },
       "data": [
        {
         "coloraxis": "coloraxis",
         "histfunc": "sum",
         "hovertemplate": "рік=%{x}<br>регіон=%{y}<br>sum of міграційний приріст, скорочення (-)=%{z}<extra></extra>",
         "name": "",
         "type": "histogram2d",
         "x": [
          2019,
          2019,
          2019,
          2019,
          2019,
          2019,
          2019,
          2019,
          2019,
          2019,
          2019,
          2019,
          2019,
          2019,
          2019,
          2019,
          2019,
          2019,
          2019,
          2019,
          2019,
          2019,
          2019,
          2019,
          2020,
          2020,
          2020,
          2020,
          2020,
          2020,
          2020,
          2020,
          2020,
          2020,
          2020,
          2020,
          2020,
          2020,
          2020,
          2020,
          2020,
          2020,
          2020,
          2020,
          2020,
          2020,
          2020,
          2020,
          2021,
          2021,
          2021,
          2021,
          2021,
          2021,
          2021,
          2021,
          2021,
          2021,
          2021,
          2021,
          2021,
          2021,
          2021,
          2021,
          2021,
          2021,
          2021,
          2021,
          2021,
          2021,
          2021,
          2021
         ],
         "xaxis": "x",
         "xbingroup": "x",
         "y": [
          "Вінницька область",
          "Волинська область",
          "Дніпропетровська область",
          "Донецька область",
          "Житомирська область",
          "Закарпатська область",
          "Запорізька область",
          "Івано-Франківська область",
          "Київська область",
          "Кіровоградська область",
          "Луганська область",
          "Львівська область",
          "Миколаївська область",
          "Одеська область",
          "Полтавська область",
          "Рівненська область",
          "Сумська область",
          "Тернопільська область",
          "Харківська область",
          "Херсонська область",
          "Хмельницька область",
          "Черкаська область",
          "Чернівецька область",
          "Чернігівська область",
          "Вінницька область",
          "Волинська область",
          "Дніпропетровська область",
          "Донецька область",
          "Житомирська область",
          "Закарпатська область",
          "Запорізька область",
          "Івано-Франківська область",
          "Київська область",
          "Кіровоградська область",
          "Луганська область",
          "Львівська область",
          "Миколаївська область",
          "Одеська область",
          "Полтавська область",
          "Рівненська область",
          "Сумська область",
          "Тернопільська область",
          "Харківська область",
          "Херсонська область",
          "Хмельницька область",
          "Черкаська область",
          "Чернівецька область",
          "Чернігівська область",
          "Вінницька область",
          "Волинська область",
          "Дніпропетровська область",
          "Донецька область",
          "Житомирська область",
          "Закарпатська область",
          "Запорізька область",
          "Івано-Франківська область",
          "Київська область",
          "Кіровоградська область",
          "Луганська область",
          "Львівська область",
          "Миколаївська область",
          "Одеська область",
          "Полтавська область",
          "Рівненська область",
          "Сумська область",
          "Тернопільська область",
          "Харківська область",
          "Херсонська область",
          "Хмельницька область",
          "Черкаська область",
          "Чернівецька область",
          "Чернігівська область"
         ],
         "yaxis": "y",
         "ybingroup": "y",
         "z": [
          -3547,
          -680,
          -2748,
          -1405,
          -1358,
          -1340,
          -1159,
          -810,
          13108,
          -2665,
          -1028,
          -483,
          -2144,
          -486,
          -676,
          -1647,
          -1972,
          -1717,
          -1401,
          -1778,
          -1485,
          -1878,
          -781,
          -1081,
          -3506,
          -183,
          -2030,
          -1438,
          -1333,
          -1109,
          -1095,
          -667,
          12285,
          -1978,
          -712,
          85,
          -1642,
          369,
          131,
          -461,
          -1340,
          -1063,
          -1433,
          -1390,
          -598,
          -1299,
          -115,
          -901,
          -2849,
          381,
          -1938,
          -1449,
          -1533,
          -568,
          -925,
          -258,
          17117,
          -2289,
          -907,
          -548,
          -2084,
          73,
          -242,
          -210,
          -1767,
          -1080,
          -2228,
          -1436,
          -1277,
          -1310,
          -41,
          -790
         ]
        }
       ],
       "layout": {
        "coloraxis": {
         "colorbar": {
          "title": {
           "text": "sum of міграційний приріст, скорочення (-)"
          }
         },
         "colorscale": [
          [
           0,
           "#0d0887"
          ],
          [
           0.1111111111111111,
           "#46039f"
          ],
          [
           0.2222222222222222,
           "#7201a8"
          ],
          [
           0.3333333333333333,
           "#9c179e"
          ],
          [
           0.4444444444444444,
           "#bd3786"
          ],
          [
           0.5555555555555556,
           "#d8576b"
          ],
          [
           0.6666666666666666,
           "#ed7953"
          ],
          [
           0.7777777777777778,
           "#fb9f3a"
          ],
          [
           0.8888888888888888,
           "#fdca26"
          ],
          [
           1,
           "#f0f921"
          ]
         ]
        },
        "height": 1000,
        "legend": {
         "tracegroupgap": 0
        },
        "template": {
         "data": {
          "bar": [
           {
            "error_x": {
             "color": "#2a3f5f"
            },
            "error_y": {
             "color": "#2a3f5f"
            },
            "marker": {
             "line": {
              "color": "#E5ECF6",
              "width": 0.5
             },
             "pattern": {
              "fillmode": "overlay",
              "size": 10,
              "solidity": 0.2
             }
            },
            "type": "bar"
           }
          ],
          "barpolar": [
           {
            "marker": {
             "line": {
              "color": "#E5ECF6",
              "width": 0.5
             },
             "pattern": {
              "fillmode": "overlay",
              "size": 10,
              "solidity": 0.2
             }
            },
            "type": "barpolar"
           }
          ],
          "carpet": [
           {
            "aaxis": {
             "endlinecolor": "#2a3f5f",
             "gridcolor": "white",
             "linecolor": "white",
             "minorgridcolor": "white",
             "startlinecolor": "#2a3f5f"
            },
            "baxis": {
             "endlinecolor": "#2a3f5f",
             "gridcolor": "white",
             "linecolor": "white",
             "minorgridcolor": "white",
             "startlinecolor": "#2a3f5f"
            },
            "type": "carpet"
           }
          ],
          "choropleth": [
           {
            "colorbar": {
             "outlinewidth": 0,
             "ticks": ""
            },
            "type": "choropleth"
           }
          ],
          "contour": [
           {
            "colorbar": {
             "outlinewidth": 0,
             "ticks": ""
            },
            "colorscale": [
             [
              0,
              "#0d0887"
             ],
             [
              0.1111111111111111,
              "#46039f"
             ],
             [
              0.2222222222222222,
              "#7201a8"
             ],
             [
              0.3333333333333333,
              "#9c179e"
             ],
             [
              0.4444444444444444,
              "#bd3786"
             ],
             [
              0.5555555555555556,
              "#d8576b"
             ],
             [
              0.6666666666666666,
              "#ed7953"
             ],
             [
              0.7777777777777778,
              "#fb9f3a"
             ],
             [
              0.8888888888888888,
              "#fdca26"
             ],
             [
              1,
              "#f0f921"
             ]
            ],
            "type": "contour"
           }
          ],
          "contourcarpet": [
           {
            "colorbar": {
             "outlinewidth": 0,
             "ticks": ""
            },
            "type": "contourcarpet"
           }
          ],
          "heatmap": [
           {
            "colorbar": {
             "outlinewidth": 0,
             "ticks": ""
            },
            "colorscale": [
             [
              0,
              "#0d0887"
             ],
             [
              0.1111111111111111,
              "#46039f"
             ],
             [
              0.2222222222222222,
              "#7201a8"
             ],
             [
              0.3333333333333333,
              "#9c179e"
             ],
             [
              0.4444444444444444,
              "#bd3786"
             ],
             [
              0.5555555555555556,
              "#d8576b"
             ],
             [
              0.6666666666666666,
              "#ed7953"
             ],
             [
              0.7777777777777778,
              "#fb9f3a"
             ],
             [
              0.8888888888888888,
              "#fdca26"
             ],
             [
              1,
              "#f0f921"
             ]
            ],
            "type": "heatmap"
           }
          ],
          "heatmapgl": [
           {
            "colorbar": {
             "outlinewidth": 0,
             "ticks": ""
            },
            "colorscale": [
             [
              0,
              "#0d0887"
             ],
             [
              0.1111111111111111,
              "#46039f"
             ],
             [
              0.2222222222222222,
              "#7201a8"
             ],
             [
              0.3333333333333333,
              "#9c179e"
             ],
             [
              0.4444444444444444,
              "#bd3786"
             ],
             [
              0.5555555555555556,
              "#d8576b"
             ],
             [
              0.6666666666666666,
              "#ed7953"
             ],
             [
              0.7777777777777778,
              "#fb9f3a"
             ],
             [
              0.8888888888888888,
              "#fdca26"
             ],
             [
              1,
              "#f0f921"
             ]
            ],
            "type": "heatmapgl"
           }
          ],
          "histogram": [
           {
            "marker": {
             "pattern": {
              "fillmode": "overlay",
              "size": 10,
              "solidity": 0.2
             }
            },
            "type": "histogram"
           }
          ],
          "histogram2d": [
           {
            "colorbar": {
             "outlinewidth": 0,
             "ticks": ""
            },
            "colorscale": [
             [
              0,
              "#0d0887"
             ],
             [
              0.1111111111111111,
              "#46039f"
             ],
             [
              0.2222222222222222,
              "#7201a8"
             ],
             [
              0.3333333333333333,
              "#9c179e"
             ],
             [
              0.4444444444444444,
              "#bd3786"
             ],
             [
              0.5555555555555556,
              "#d8576b"
             ],
             [
              0.6666666666666666,
              "#ed7953"
             ],
             [
              0.7777777777777778,
              "#fb9f3a"
             ],
             [
              0.8888888888888888,
              "#fdca26"
             ],
             [
              1,
              "#f0f921"
             ]
            ],
            "type": "histogram2d"
           }
          ],
          "histogram2dcontour": [
           {
            "colorbar": {
             "outlinewidth": 0,
             "ticks": ""
            },
            "colorscale": [
             [
              0,
              "#0d0887"
             ],
             [
              0.1111111111111111,
              "#46039f"
             ],
             [
              0.2222222222222222,
              "#7201a8"
             ],
             [
              0.3333333333333333,
              "#9c179e"
             ],
             [
              0.4444444444444444,
              "#bd3786"
             ],
             [
              0.5555555555555556,
              "#d8576b"
             ],
             [
              0.6666666666666666,
              "#ed7953"
             ],
             [
              0.7777777777777778,
              "#fb9f3a"
             ],
             [
              0.8888888888888888,
              "#fdca26"
             ],
             [
              1,
              "#f0f921"
             ]
            ],
            "type": "histogram2dcontour"
           }
          ],
          "mesh3d": [
           {
            "colorbar": {
             "outlinewidth": 0,
             "ticks": ""
            },
            "type": "mesh3d"
           }
          ],
          "parcoords": [
           {
            "line": {
             "colorbar": {
              "outlinewidth": 0,
              "ticks": ""
             }
            },
            "type": "parcoords"
           }
          ],
          "pie": [
           {
            "automargin": true,
            "type": "pie"
           }
          ],
          "scatter": [
           {
            "fillpattern": {
             "fillmode": "overlay",
             "size": 10,
             "solidity": 0.2
            },
            "type": "scatter"
           }
          ],
          "scatter3d": [
           {
            "line": {
             "colorbar": {
              "outlinewidth": 0,
              "ticks": ""
             }
            },
            "marker": {
             "colorbar": {
              "outlinewidth": 0,
              "ticks": ""
             }
            },
            "type": "scatter3d"
           }
          ],
          "scattercarpet": [
           {
            "marker": {
             "colorbar": {
              "outlinewidth": 0,
              "ticks": ""
             }
            },
            "type": "scattercarpet"
           }
          ],
          "scattergeo": [
           {
            "marker": {
             "colorbar": {
              "outlinewidth": 0,
              "ticks": ""
             }
            },
            "type": "scattergeo"
           }
          ],
          "scattergl": [
           {
            "marker": {
             "colorbar": {
              "outlinewidth": 0,
              "ticks": ""
             }
            },
            "type": "scattergl"
           }
          ],
          "scattermapbox": [
           {
            "marker": {
             "colorbar": {
              "outlinewidth": 0,
              "ticks": ""
             }
            },
            "type": "scattermapbox"
           }
          ],
          "scatterpolar": [
           {
            "marker": {
             "colorbar": {
              "outlinewidth": 0,
              "ticks": ""
             }
            },
            "type": "scatterpolar"
           }
          ],
          "scatterpolargl": [
           {
            "marker": {
             "colorbar": {
              "outlinewidth": 0,
              "ticks": ""
             }
            },
            "type": "scatterpolargl"
           }
          ],
          "scatterternary": [
           {
            "marker": {
             "colorbar": {
              "outlinewidth": 0,
              "ticks": ""
             }
            },
            "type": "scatterternary"
           }
          ],
          "surface": [
           {
            "colorbar": {
             "outlinewidth": 0,
             "ticks": ""
            },
            "colorscale": [
             [
              0,
              "#0d0887"
             ],
             [
              0.1111111111111111,
              "#46039f"
             ],
             [
              0.2222222222222222,
              "#7201a8"
             ],
             [
              0.3333333333333333,
              "#9c179e"
             ],
             [
              0.4444444444444444,
              "#bd3786"
             ],
             [
              0.5555555555555556,
              "#d8576b"
             ],
             [
              0.6666666666666666,
              "#ed7953"
             ],
             [
              0.7777777777777778,
              "#fb9f3a"
             ],
             [
              0.8888888888888888,
              "#fdca26"
             ],
             [
              1,
              "#f0f921"
             ]
            ],
            "type": "surface"
           }
          ],
          "table": [
           {
            "cells": {
             "fill": {
              "color": "#EBF0F8"
             },
             "line": {
              "color": "white"
             }
            },
            "header": {
             "fill": {
              "color": "#C8D4E3"
             },
             "line": {
              "color": "white"
             }
            },
            "type": "table"
           }
          ]
         },
         "layout": {
          "annotationdefaults": {
           "arrowcolor": "#2a3f5f",
           "arrowhead": 0,
           "arrowwidth": 1
          },
          "autotypenumbers": "strict",
          "coloraxis": {
           "colorbar": {
            "outlinewidth": 0,
            "ticks": ""
           }
          },
          "colorscale": {
           "diverging": [
            [
             0,
             "#8e0152"
            ],
            [
             0.1,
             "#c51b7d"
            ],
            [
             0.2,
             "#de77ae"
            ],
            [
             0.3,
             "#f1b6da"
            ],
            [
             0.4,
             "#fde0ef"
            ],
            [
             0.5,
             "#f7f7f7"
            ],
            [
             0.6,
             "#e6f5d0"
            ],
            [
             0.7,
             "#b8e186"
            ],
            [
             0.8,
             "#7fbc41"
            ],
            [
             0.9,
             "#4d9221"
            ],
            [
             1,
             "#276419"
            ]
           ],
           "sequential": [
            [
             0,
             "#0d0887"
            ],
            [
             0.1111111111111111,
             "#46039f"
            ],
            [
             0.2222222222222222,
             "#7201a8"
            ],
            [
             0.3333333333333333,
             "#9c179e"
            ],
            [
             0.4444444444444444,
             "#bd3786"
            ],
            [
             0.5555555555555556,
             "#d8576b"
            ],
            [
             0.6666666666666666,
             "#ed7953"
            ],
            [
             0.7777777777777778,
             "#fb9f3a"
            ],
            [
             0.8888888888888888,
             "#fdca26"
            ],
            [
             1,
             "#f0f921"
            ]
           ],
           "sequentialminus": [
            [
             0,
             "#0d0887"
            ],
            [
             0.1111111111111111,
             "#46039f"
            ],
            [
             0.2222222222222222,
             "#7201a8"
            ],
            [
             0.3333333333333333,
             "#9c179e"
            ],
            [
             0.4444444444444444,
             "#bd3786"
            ],
            [
             0.5555555555555556,
             "#d8576b"
            ],
            [
             0.6666666666666666,
             "#ed7953"
            ],
            [
             0.7777777777777778,
             "#fb9f3a"
            ],
            [
             0.8888888888888888,
             "#fdca26"
            ],
            [
             1,
             "#f0f921"
            ]
           ]
          },
          "colorway": [
           "#636efa",
           "#EF553B",
           "#00cc96",
           "#ab63fa",
           "#FFA15A",
           "#19d3f3",
           "#FF6692",
           "#B6E880",
           "#FF97FF",
           "#FECB52"
          ],
          "font": {
           "color": "#2a3f5f"
          },
          "geo": {
           "bgcolor": "white",
           "lakecolor": "white",
           "landcolor": "#E5ECF6",
           "showlakes": true,
           "showland": true,
           "subunitcolor": "white"
          },
          "hoverlabel": {
           "align": "left"
          },
          "hovermode": "closest",
          "mapbox": {
           "style": "light"
          },
          "paper_bgcolor": "white",
          "plot_bgcolor": "#E5ECF6",
          "polar": {
           "angularaxis": {
            "gridcolor": "white",
            "linecolor": "white",
            "ticks": ""
           },
           "bgcolor": "#E5ECF6",
           "radialaxis": {
            "gridcolor": "white",
            "linecolor": "white",
            "ticks": ""
           }
          },
          "scene": {
           "xaxis": {
            "backgroundcolor": "#E5ECF6",
            "gridcolor": "white",
            "gridwidth": 2,
            "linecolor": "white",
            "showbackground": true,
            "ticks": "",
            "zerolinecolor": "white"
           },
           "yaxis": {
            "backgroundcolor": "#E5ECF6",
            "gridcolor": "white",
            "gridwidth": 2,
            "linecolor": "white",
            "showbackground": true,
            "ticks": "",
            "zerolinecolor": "white"
           },
           "zaxis": {
            "backgroundcolor": "#E5ECF6",
            "gridcolor": "white",
            "gridwidth": 2,
            "linecolor": "white",
            "showbackground": true,
            "ticks": "",
            "zerolinecolor": "white"
           }
          },
          "shapedefaults": {
           "line": {
            "color": "#2a3f5f"
           }
          },
          "ternary": {
           "aaxis": {
            "gridcolor": "white",
            "linecolor": "white",
            "ticks": ""
           },
           "baxis": {
            "gridcolor": "white",
            "linecolor": "white",
            "ticks": ""
           },
           "bgcolor": "#E5ECF6",
           "caxis": {
            "gridcolor": "white",
            "linecolor": "white",
            "ticks": ""
           }
          },
          "title": {
           "x": 0.05
          },
          "xaxis": {
           "automargin": true,
           "gridcolor": "white",
           "linecolor": "white",
           "ticks": "",
           "title": {
            "standoff": 15
           },
           "zerolinecolor": "white",
           "zerolinewidth": 2
          },
          "yaxis": {
           "automargin": true,
           "gridcolor": "white",
           "linecolor": "white",
           "ticks": "",
           "title": {
            "standoff": 15
           },
           "zerolinecolor": "white",
           "zerolinewidth": 2
          }
         }
        },
        "title": {
         "text": "Загальний міграційний приріст в сільській місцевості"
        },
        "xaxis": {
         "anchor": "y",
         "domain": [
          0,
          1
         ],
         "title": {
          "text": "рік"
         }
        },
        "yaxis": {
         "anchor": "x",
         "domain": [
          0,
          1
         ],
         "title": {
          "text": "регіон"
         }
        }
       }
      }
     },
     "metadata": {},
     "output_type": "display_data"
    }
   ],
   "source": [
    "fig = px.density_heatmap(all_migration, x='рік', y='регіон', z='міграційний приріст, скорочення (-)', title='Загальний міграційний приріст в сільській місцевості')\n",
    "fig.layout.height = 1000\n",
    "\n",
    "fig"
   ]
  },
  {
   "attachments": {},
   "cell_type": "markdown",
   "metadata": {},
   "source": [
    "Теплова мапа відображає приріст населення міст за рахунок міждержавної міграції. Знову ж таки, як і в ситуації з містами, Київська область має найвищі показники прриросту населення."
   ]
  },
  {
   "cell_type": "code",
   "execution_count": 16,
   "metadata": {},
   "outputs": [
    {
     "data": {
      "application/vnd.plotly.v1+json": {
       "config": {
        "plotlyServerURL": "https://plot.ly"
       },
       "data": [
        {
         "coloraxis": "coloraxis",
         "histfunc": "sum",
         "hovertemplate": "рік=%{x}<br>регіон=%{y}<br>sum of міграційний приріст, скорочення (-)=%{z}<extra></extra>",
         "name": "",
         "type": "histogram2d",
         "x": [
          2019,
          2019,
          2019,
          2019,
          2019,
          2019,
          2019,
          2019,
          2019,
          2019,
          2019,
          2019,
          2019,
          2019,
          2019,
          2019,
          2019,
          2019,
          2019,
          2019,
          2019,
          2019,
          2019,
          2019,
          2020,
          2020,
          2020,
          2020,
          2020,
          2020,
          2020,
          2020,
          2020,
          2020,
          2020,
          2020,
          2020,
          2020,
          2020,
          2020,
          2020,
          2020,
          2020,
          2020,
          2020,
          2020,
          2020,
          2020,
          2021,
          2021,
          2021,
          2021,
          2021,
          2021,
          2021,
          2021,
          2021,
          2021,
          2021,
          2021,
          2021,
          2021,
          2021,
          2021,
          2021,
          2021,
          2021,
          2021,
          2021,
          2021,
          2021,
          2021
         ],
         "xaxis": "x",
         "xbingroup": "x",
         "y": [
          "Вінницька область",
          "Волинська область",
          "Дніпропетровська область",
          "Донецька область",
          "Житомирська область",
          "Закарпатська область",
          "Запорізька область",
          "Івано-Франківська область",
          "Київська область",
          "Кіровоградська область",
          "Луганська область",
          "Львівська область",
          "Миколаївська область",
          "Одеська область",
          "Полтавська область",
          "Рівненська область",
          "Сумська область",
          "Тернопільська область",
          "Харківська область",
          "Херсонська область",
          "Хмельницька область",
          "Черкаська область",
          "Чернівецька область",
          "Чернігівська область",
          "Вінницька область",
          "Волинська область",
          "Дніпропетровська область",
          "Донецька область",
          "Житомирська область",
          "Закарпатська область",
          "Запорізька область",
          "Івано-Франківська область",
          "Київська область",
          "Кіровоградська область",
          "Луганська область",
          "Львівська область",
          "Миколаївська область",
          "Одеська область",
          "Полтавська область",
          "Рівненська область",
          "Сумська область",
          "Тернопільська область",
          "Харківська область",
          "Херсонська область",
          "Хмельницька область",
          "Черкаська область",
          "Чернівецька область",
          "Чернігівська область",
          "Вінницька область",
          "Волинська область",
          "Дніпропетровська область",
          "Донецька область",
          "Житомирська область",
          "Закарпатська область",
          "Запорізька область",
          "Івано-Франківська область",
          "Київська область",
          "Кіровоградська область",
          "Луганська область",
          "Львівська область",
          "Миколаївська область",
          "Одеська область",
          "Полтавська область",
          "Рівненська область",
          "Сумська область",
          "Тернопільська область",
          "Харківська область",
          "Херсонська область",
          "Хмельницька область",
          "Черкаська область",
          "Чернівецька область",
          "Чернігівська область"
         ],
         "yaxis": "y",
         "ybingroup": "y",
         "z": [
          -4,
          -171,
          -2,
          -14,
          159,
          -344,
          -46,
          -60,
          989,
          -7,
          8,
          -89,
          59,
          18,
          221,
          -513,
          2,
          40,
          343,
          43,
          138,
          -9,
          48,
          57,
          17,
          -6,
          41,
          -7,
          53,
          -68,
          -9,
          16,
          723,
          3,
          8,
          44,
          56,
          97,
          349,
          -50,
          15,
          86,
          169,
          25,
          113,
          8,
          243,
          19,
          10,
          -5,
          88,
          6,
          67,
          -54,
          35,
          95,
          1446,
          4,
          13,
          29,
          39,
          64,
          313,
          -73,
          -3,
          195,
          225,
          1,
          131,
          32,
          453,
          43
         ]
        }
       ],
       "layout": {
        "coloraxis": {
         "colorbar": {
          "title": {
           "text": "sum of міграційний приріст, скорочення (-)"
          }
         },
         "colorscale": [
          [
           0,
           "#0d0887"
          ],
          [
           0.1111111111111111,
           "#46039f"
          ],
          [
           0.2222222222222222,
           "#7201a8"
          ],
          [
           0.3333333333333333,
           "#9c179e"
          ],
          [
           0.4444444444444444,
           "#bd3786"
          ],
          [
           0.5555555555555556,
           "#d8576b"
          ],
          [
           0.6666666666666666,
           "#ed7953"
          ],
          [
           0.7777777777777778,
           "#fb9f3a"
          ],
          [
           0.8888888888888888,
           "#fdca26"
          ],
          [
           1,
           "#f0f921"
          ]
         ]
        },
        "height": 1000,
        "legend": {
         "tracegroupgap": 0
        },
        "template": {
         "data": {
          "bar": [
           {
            "error_x": {
             "color": "#2a3f5f"
            },
            "error_y": {
             "color": "#2a3f5f"
            },
            "marker": {
             "line": {
              "color": "#E5ECF6",
              "width": 0.5
             },
             "pattern": {
              "fillmode": "overlay",
              "size": 10,
              "solidity": 0.2
             }
            },
            "type": "bar"
           }
          ],
          "barpolar": [
           {
            "marker": {
             "line": {
              "color": "#E5ECF6",
              "width": 0.5
             },
             "pattern": {
              "fillmode": "overlay",
              "size": 10,
              "solidity": 0.2
             }
            },
            "type": "barpolar"
           }
          ],
          "carpet": [
           {
            "aaxis": {
             "endlinecolor": "#2a3f5f",
             "gridcolor": "white",
             "linecolor": "white",
             "minorgridcolor": "white",
             "startlinecolor": "#2a3f5f"
            },
            "baxis": {
             "endlinecolor": "#2a3f5f",
             "gridcolor": "white",
             "linecolor": "white",
             "minorgridcolor": "white",
             "startlinecolor": "#2a3f5f"
            },
            "type": "carpet"
           }
          ],
          "choropleth": [
           {
            "colorbar": {
             "outlinewidth": 0,
             "ticks": ""
            },
            "type": "choropleth"
           }
          ],
          "contour": [
           {
            "colorbar": {
             "outlinewidth": 0,
             "ticks": ""
            },
            "colorscale": [
             [
              0,
              "#0d0887"
             ],
             [
              0.1111111111111111,
              "#46039f"
             ],
             [
              0.2222222222222222,
              "#7201a8"
             ],
             [
              0.3333333333333333,
              "#9c179e"
             ],
             [
              0.4444444444444444,
              "#bd3786"
             ],
             [
              0.5555555555555556,
              "#d8576b"
             ],
             [
              0.6666666666666666,
              "#ed7953"
             ],
             [
              0.7777777777777778,
              "#fb9f3a"
             ],
             [
              0.8888888888888888,
              "#fdca26"
             ],
             [
              1,
              "#f0f921"
             ]
            ],
            "type": "contour"
           }
          ],
          "contourcarpet": [
           {
            "colorbar": {
             "outlinewidth": 0,
             "ticks": ""
            },
            "type": "contourcarpet"
           }
          ],
          "heatmap": [
           {
            "colorbar": {
             "outlinewidth": 0,
             "ticks": ""
            },
            "colorscale": [
             [
              0,
              "#0d0887"
             ],
             [
              0.1111111111111111,
              "#46039f"
             ],
             [
              0.2222222222222222,
              "#7201a8"
             ],
             [
              0.3333333333333333,
              "#9c179e"
             ],
             [
              0.4444444444444444,
              "#bd3786"
             ],
             [
              0.5555555555555556,
              "#d8576b"
             ],
             [
              0.6666666666666666,
              "#ed7953"
             ],
             [
              0.7777777777777778,
              "#fb9f3a"
             ],
             [
              0.8888888888888888,
              "#fdca26"
             ],
             [
              1,
              "#f0f921"
             ]
            ],
            "type": "heatmap"
           }
          ],
          "heatmapgl": [
           {
            "colorbar": {
             "outlinewidth": 0,
             "ticks": ""
            },
            "colorscale": [
             [
              0,
              "#0d0887"
             ],
             [
              0.1111111111111111,
              "#46039f"
             ],
             [
              0.2222222222222222,
              "#7201a8"
             ],
             [
              0.3333333333333333,
              "#9c179e"
             ],
             [
              0.4444444444444444,
              "#bd3786"
             ],
             [
              0.5555555555555556,
              "#d8576b"
             ],
             [
              0.6666666666666666,
              "#ed7953"
             ],
             [
              0.7777777777777778,
              "#fb9f3a"
             ],
             [
              0.8888888888888888,
              "#fdca26"
             ],
             [
              1,
              "#f0f921"
             ]
            ],
            "type": "heatmapgl"
           }
          ],
          "histogram": [
           {
            "marker": {
             "pattern": {
              "fillmode": "overlay",
              "size": 10,
              "solidity": 0.2
             }
            },
            "type": "histogram"
           }
          ],
          "histogram2d": [
           {
            "colorbar": {
             "outlinewidth": 0,
             "ticks": ""
            },
            "colorscale": [
             [
              0,
              "#0d0887"
             ],
             [
              0.1111111111111111,
              "#46039f"
             ],
             [
              0.2222222222222222,
              "#7201a8"
             ],
             [
              0.3333333333333333,
              "#9c179e"
             ],
             [
              0.4444444444444444,
              "#bd3786"
             ],
             [
              0.5555555555555556,
              "#d8576b"
             ],
             [
              0.6666666666666666,
              "#ed7953"
             ],
             [
              0.7777777777777778,
              "#fb9f3a"
             ],
             [
              0.8888888888888888,
              "#fdca26"
             ],
             [
              1,
              "#f0f921"
             ]
            ],
            "type": "histogram2d"
           }
          ],
          "histogram2dcontour": [
           {
            "colorbar": {
             "outlinewidth": 0,
             "ticks": ""
            },
            "colorscale": [
             [
              0,
              "#0d0887"
             ],
             [
              0.1111111111111111,
              "#46039f"
             ],
             [
              0.2222222222222222,
              "#7201a8"
             ],
             [
              0.3333333333333333,
              "#9c179e"
             ],
             [
              0.4444444444444444,
              "#bd3786"
             ],
             [
              0.5555555555555556,
              "#d8576b"
             ],
             [
              0.6666666666666666,
              "#ed7953"
             ],
             [
              0.7777777777777778,
              "#fb9f3a"
             ],
             [
              0.8888888888888888,
              "#fdca26"
             ],
             [
              1,
              "#f0f921"
             ]
            ],
            "type": "histogram2dcontour"
           }
          ],
          "mesh3d": [
           {
            "colorbar": {
             "outlinewidth": 0,
             "ticks": ""
            },
            "type": "mesh3d"
           }
          ],
          "parcoords": [
           {
            "line": {
             "colorbar": {
              "outlinewidth": 0,
              "ticks": ""
             }
            },
            "type": "parcoords"
           }
          ],
          "pie": [
           {
            "automargin": true,
            "type": "pie"
           }
          ],
          "scatter": [
           {
            "fillpattern": {
             "fillmode": "overlay",
             "size": 10,
             "solidity": 0.2
            },
            "type": "scatter"
           }
          ],
          "scatter3d": [
           {
            "line": {
             "colorbar": {
              "outlinewidth": 0,
              "ticks": ""
             }
            },
            "marker": {
             "colorbar": {
              "outlinewidth": 0,
              "ticks": ""
             }
            },
            "type": "scatter3d"
           }
          ],
          "scattercarpet": [
           {
            "marker": {
             "colorbar": {
              "outlinewidth": 0,
              "ticks": ""
             }
            },
            "type": "scattercarpet"
           }
          ],
          "scattergeo": [
           {
            "marker": {
             "colorbar": {
              "outlinewidth": 0,
              "ticks": ""
             }
            },
            "type": "scattergeo"
           }
          ],
          "scattergl": [
           {
            "marker": {
             "colorbar": {
              "outlinewidth": 0,
              "ticks": ""
             }
            },
            "type": "scattergl"
           }
          ],
          "scattermapbox": [
           {
            "marker": {
             "colorbar": {
              "outlinewidth": 0,
              "ticks": ""
             }
            },
            "type": "scattermapbox"
           }
          ],
          "scatterpolar": [
           {
            "marker": {
             "colorbar": {
              "outlinewidth": 0,
              "ticks": ""
             }
            },
            "type": "scatterpolar"
           }
          ],
          "scatterpolargl": [
           {
            "marker": {
             "colorbar": {
              "outlinewidth": 0,
              "ticks": ""
             }
            },
            "type": "scatterpolargl"
           }
          ],
          "scatterternary": [
           {
            "marker": {
             "colorbar": {
              "outlinewidth": 0,
              "ticks": ""
             }
            },
            "type": "scatterternary"
           }
          ],
          "surface": [
           {
            "colorbar": {
             "outlinewidth": 0,
             "ticks": ""
            },
            "colorscale": [
             [
              0,
              "#0d0887"
             ],
             [
              0.1111111111111111,
              "#46039f"
             ],
             [
              0.2222222222222222,
              "#7201a8"
             ],
             [
              0.3333333333333333,
              "#9c179e"
             ],
             [
              0.4444444444444444,
              "#bd3786"
             ],
             [
              0.5555555555555556,
              "#d8576b"
             ],
             [
              0.6666666666666666,
              "#ed7953"
             ],
             [
              0.7777777777777778,
              "#fb9f3a"
             ],
             [
              0.8888888888888888,
              "#fdca26"
             ],
             [
              1,
              "#f0f921"
             ]
            ],
            "type": "surface"
           }
          ],
          "table": [
           {
            "cells": {
             "fill": {
              "color": "#EBF0F8"
             },
             "line": {
              "color": "white"
             }
            },
            "header": {
             "fill": {
              "color": "#C8D4E3"
             },
             "line": {
              "color": "white"
             }
            },
            "type": "table"
           }
          ]
         },
         "layout": {
          "annotationdefaults": {
           "arrowcolor": "#2a3f5f",
           "arrowhead": 0,
           "arrowwidth": 1
          },
          "autotypenumbers": "strict",
          "coloraxis": {
           "colorbar": {
            "outlinewidth": 0,
            "ticks": ""
           }
          },
          "colorscale": {
           "diverging": [
            [
             0,
             "#8e0152"
            ],
            [
             0.1,
             "#c51b7d"
            ],
            [
             0.2,
             "#de77ae"
            ],
            [
             0.3,
             "#f1b6da"
            ],
            [
             0.4,
             "#fde0ef"
            ],
            [
             0.5,
             "#f7f7f7"
            ],
            [
             0.6,
             "#e6f5d0"
            ],
            [
             0.7,
             "#b8e186"
            ],
            [
             0.8,
             "#7fbc41"
            ],
            [
             0.9,
             "#4d9221"
            ],
            [
             1,
             "#276419"
            ]
           ],
           "sequential": [
            [
             0,
             "#0d0887"
            ],
            [
             0.1111111111111111,
             "#46039f"
            ],
            [
             0.2222222222222222,
             "#7201a8"
            ],
            [
             0.3333333333333333,
             "#9c179e"
            ],
            [
             0.4444444444444444,
             "#bd3786"
            ],
            [
             0.5555555555555556,
             "#d8576b"
            ],
            [
             0.6666666666666666,
             "#ed7953"
            ],
            [
             0.7777777777777778,
             "#fb9f3a"
            ],
            [
             0.8888888888888888,
             "#fdca26"
            ],
            [
             1,
             "#f0f921"
            ]
           ],
           "sequentialminus": [
            [
             0,
             "#0d0887"
            ],
            [
             0.1111111111111111,
             "#46039f"
            ],
            [
             0.2222222222222222,
             "#7201a8"
            ],
            [
             0.3333333333333333,
             "#9c179e"
            ],
            [
             0.4444444444444444,
             "#bd3786"
            ],
            [
             0.5555555555555556,
             "#d8576b"
            ],
            [
             0.6666666666666666,
             "#ed7953"
            ],
            [
             0.7777777777777778,
             "#fb9f3a"
            ],
            [
             0.8888888888888888,
             "#fdca26"
            ],
            [
             1,
             "#f0f921"
            ]
           ]
          },
          "colorway": [
           "#636efa",
           "#EF553B",
           "#00cc96",
           "#ab63fa",
           "#FFA15A",
           "#19d3f3",
           "#FF6692",
           "#B6E880",
           "#FF97FF",
           "#FECB52"
          ],
          "font": {
           "color": "#2a3f5f"
          },
          "geo": {
           "bgcolor": "white",
           "lakecolor": "white",
           "landcolor": "#E5ECF6",
           "showlakes": true,
           "showland": true,
           "subunitcolor": "white"
          },
          "hoverlabel": {
           "align": "left"
          },
          "hovermode": "closest",
          "mapbox": {
           "style": "light"
          },
          "paper_bgcolor": "white",
          "plot_bgcolor": "#E5ECF6",
          "polar": {
           "angularaxis": {
            "gridcolor": "white",
            "linecolor": "white",
            "ticks": ""
           },
           "bgcolor": "#E5ECF6",
           "radialaxis": {
            "gridcolor": "white",
            "linecolor": "white",
            "ticks": ""
           }
          },
          "scene": {
           "xaxis": {
            "backgroundcolor": "#E5ECF6",
            "gridcolor": "white",
            "gridwidth": 2,
            "linecolor": "white",
            "showbackground": true,
            "ticks": "",
            "zerolinecolor": "white"
           },
           "yaxis": {
            "backgroundcolor": "#E5ECF6",
            "gridcolor": "white",
            "gridwidth": 2,
            "linecolor": "white",
            "showbackground": true,
            "ticks": "",
            "zerolinecolor": "white"
           },
           "zaxis": {
            "backgroundcolor": "#E5ECF6",
            "gridcolor": "white",
            "gridwidth": 2,
            "linecolor": "white",
            "showbackground": true,
            "ticks": "",
            "zerolinecolor": "white"
           }
          },
          "shapedefaults": {
           "line": {
            "color": "#2a3f5f"
           }
          },
          "ternary": {
           "aaxis": {
            "gridcolor": "white",
            "linecolor": "white",
            "ticks": ""
           },
           "baxis": {
            "gridcolor": "white",
            "linecolor": "white",
            "ticks": ""
           },
           "bgcolor": "#E5ECF6",
           "caxis": {
            "gridcolor": "white",
            "linecolor": "white",
            "ticks": ""
           }
          },
          "title": {
           "x": 0.05
          },
          "xaxis": {
           "automargin": true,
           "gridcolor": "white",
           "linecolor": "white",
           "ticks": "",
           "title": {
            "standoff": 15
           },
           "zerolinecolor": "white",
           "zerolinewidth": 2
          },
          "yaxis": {
           "automargin": true,
           "gridcolor": "white",
           "linecolor": "white",
           "ticks": "",
           "title": {
            "standoff": 15
           },
           "zerolinecolor": "white",
           "zerolinewidth": 2
          }
         }
        },
        "title": {
         "text": "Міждержавний міграційний приріст в сільській місцевості"
        },
        "xaxis": {
         "anchor": "y",
         "domain": [
          0,
          1
         ],
         "title": {
          "text": "рік"
         }
        },
        "yaxis": {
         "anchor": "x",
         "domain": [
          0,
          1
         ],
         "title": {
          "text": "регіон"
         }
        }
       }
      }
     },
     "metadata": {},
     "output_type": "display_data"
    }
   ],
   "source": [
    "fig = px.density_heatmap(crosscountry_migration, x='рік', y='регіон', z='міграційний приріст, скорочення (-)', title='Міждержавний міграційний приріст в сільській місцевості')\n",
    "fig.layout.height = 1000\n",
    "\n",
    "fig"
   ]
  },
  {
   "cell_type": "markdown",
   "metadata": {},
   "source": [
    "Що стосується сільської місцеіості, то можемо побачити, що кількість населення має відʼємні показники приросту. Винятком є Київська область."
   ]
  },
  {
   "attachments": {},
   "cell_type": "markdown",
   "metadata": {},
   "source": [
    "Не можна не помтити, що в сільській місцевості приріст населення за рахунок міждержавних мігрантів або збільшується, або залишається доволі сталим."
   ]
  }
 ],
 "metadata": {
  "kernelspec": {
   "display_name": "Python 3",
   "language": "python",
   "name": "python3"
  },
  "language_info": {
   "codemirror_mode": {
    "name": "ipython",
    "version": 3
   },
   "file_extension": ".py",
   "mimetype": "text/x-python",
   "name": "python",
   "nbconvert_exporter": "python",
   "pygments_lexer": "ipython3",
   "version": "3.10.9"
  },
  "orig_nbformat": 4
 },
 "nbformat": 4,
 "nbformat_minor": 2
}
