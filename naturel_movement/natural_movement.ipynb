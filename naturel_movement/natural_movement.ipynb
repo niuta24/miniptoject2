{
 "cells": [
  {
   "attachments": {},
   "cell_type": "markdown",
   "metadata": {},
   "source": [
    "# Загальні коефіцієнти природного руху населення за типом місцевості по регіонах."
   ]
  },
  {
   "cell_type": "code",
   "execution_count": 5,
   "metadata": {},
   "outputs": [],
   "source": [
    "import pandas as pd\n",
    "import plotly.express as px\n",
    "import plotly.graph_objects as go"
   ]
  },
  {
   "attachments": {},
   "cell_type": "markdown",
   "metadata": {},
   "source": [
    "## Міська місцевість"
   ]
  },
  {
   "cell_type": "code",
   "execution_count": 16,
   "metadata": {},
   "outputs": [
    {
     "data": {
      "text/html": [
       "<div>\n",
       "<style scoped>\n",
       "    .dataframe tbody tr th:only-of-type {\n",
       "        vertical-align: middle;\n",
       "    }\n",
       "\n",
       "    .dataframe tbody tr th {\n",
       "        vertical-align: top;\n",
       "    }\n",
       "\n",
       "    .dataframe thead th {\n",
       "        text-align: right;\n",
       "    }\n",
       "</style>\n",
       "<table border=\"1\" class=\"dataframe\">\n",
       "  <thead>\n",
       "    <tr style=\"text-align: right;\">\n",
       "      <th></th>\n",
       "      <th>регіон</th>\n",
       "      <th>живонаро-джених</th>\n",
       "      <th>померлих</th>\n",
       "      <th>природний  приріст, скорочення (-)</th>\n",
       "      <th>шлюбів</th>\n",
       "      <th>розірвань шлюбів</th>\n",
       "      <th>рік</th>\n",
       "    </tr>\n",
       "  </thead>\n",
       "  <tbody>\n",
       "    <tr>\n",
       "      <th>0</th>\n",
       "      <td>Вінницька</td>\n",
       "      <td>7.9</td>\n",
       "      <td>11.8</td>\n",
       "      <td>-3.9</td>\n",
       "      <td>7.1</td>\n",
       "      <td>0</td>\n",
       "      <td>2019</td>\n",
       "    </tr>\n",
       "    <tr>\n",
       "      <th>1</th>\n",
       "      <td>Волинська</td>\n",
       "      <td>9</td>\n",
       "      <td>11.2</td>\n",
       "      <td>-2.2</td>\n",
       "      <td>6.1</td>\n",
       "      <td>0</td>\n",
       "      <td>2019</td>\n",
       "    </tr>\n",
       "    <tr>\n",
       "      <th>2</th>\n",
       "      <td>Дніпропетровська</td>\n",
       "      <td>6.9</td>\n",
       "      <td>15.5</td>\n",
       "      <td>-8.6</td>\n",
       "      <td>6.8</td>\n",
       "      <td>0</td>\n",
       "      <td>2019</td>\n",
       "    </tr>\n",
       "    <tr>\n",
       "      <th>3</th>\n",
       "      <td>Донецька</td>\n",
       "      <td>0</td>\n",
       "      <td>0</td>\n",
       "      <td>0</td>\n",
       "      <td>0</td>\n",
       "      <td>0</td>\n",
       "      <td>2019</td>\n",
       "    </tr>\n",
       "    <tr>\n",
       "      <th>4</th>\n",
       "      <td>Житомирська</td>\n",
       "      <td>7.6</td>\n",
       "      <td>14</td>\n",
       "      <td>-6.4</td>\n",
       "      <td>6.8</td>\n",
       "      <td>0</td>\n",
       "      <td>2019</td>\n",
       "    </tr>\n",
       "    <tr>\n",
       "      <th>...</th>\n",
       "      <td>...</td>\n",
       "      <td>...</td>\n",
       "      <td>...</td>\n",
       "      <td>...</td>\n",
       "      <td>...</td>\n",
       "      <td>...</td>\n",
       "      <td>...</td>\n",
       "    </tr>\n",
       "    <tr>\n",
       "      <th>70</th>\n",
       "      <td>Хмельницька</td>\n",
       "      <td>7</td>\n",
       "      <td>15.3</td>\n",
       "      <td>-8.3</td>\n",
       "      <td>5.5</td>\n",
       "      <td>0</td>\n",
       "      <td>2021</td>\n",
       "    </tr>\n",
       "    <tr>\n",
       "      <th>71</th>\n",
       "      <td>Черкаська</td>\n",
       "      <td>5.8</td>\n",
       "      <td>17.6</td>\n",
       "      <td>-11.8</td>\n",
       "      <td>7.3</td>\n",
       "      <td>0</td>\n",
       "      <td>2021</td>\n",
       "    </tr>\n",
       "    <tr>\n",
       "      <th>72</th>\n",
       "      <td>Чернівецька</td>\n",
       "      <td>7.3</td>\n",
       "      <td>14.8</td>\n",
       "      <td>-7.5</td>\n",
       "      <td>5.1</td>\n",
       "      <td>0</td>\n",
       "      <td>2021</td>\n",
       "    </tr>\n",
       "    <tr>\n",
       "      <th>73</th>\n",
       "      <td>Чернігівська</td>\n",
       "      <td>5.7</td>\n",
       "      <td>18.7</td>\n",
       "      <td>-13</td>\n",
       "      <td>5.3</td>\n",
       "      <td>0</td>\n",
       "      <td>2021</td>\n",
       "    </tr>\n",
       "    <tr>\n",
       "      <th>74</th>\n",
       "      <td>м.Київ</td>\n",
       "      <td>10</td>\n",
       "      <td>15.3</td>\n",
       "      <td>-5.3</td>\n",
       "      <td>8.6</td>\n",
       "      <td>0</td>\n",
       "      <td>2021</td>\n",
       "    </tr>\n",
       "  </tbody>\n",
       "</table>\n",
       "<p>75 rows × 7 columns</p>\n",
       "</div>"
      ],
      "text/plain": [
       "              регіон живонаро-джених  померлих  \\\n",
       "0          Вінницька             7.9      11.8   \n",
       "1          Волинська               9      11.2   \n",
       "2   Дніпропетровська             6.9      15.5   \n",
       "3           Донецька               0         0   \n",
       "4        Житомирська             7.6        14   \n",
       "..               ...             ...       ...   \n",
       "70       Хмельницька               7      15.3   \n",
       "71         Черкаська             5.8      17.6   \n",
       "72       Чернівецька             7.3      14.8   \n",
       "73      Чернігівська             5.7      18.7   \n",
       "74            м.Київ              10      15.3   \n",
       "\n",
       "   природний  приріст, скорочення (-)  шлюбів   розірвань шлюбів   рік  \n",
       "0                                -3.9     7.1                  0  2019  \n",
       "1                                -2.2     6.1                  0  2019  \n",
       "2                                -8.6     6.8                  0  2019  \n",
       "3                                   0       0                  0  2019  \n",
       "4                                -6.4     6.8                  0  2019  \n",
       "..                                ...     ...                ...   ...  \n",
       "70                               -8.3     5.5                  0  2021  \n",
       "71                              -11.8     7.3                  0  2021  \n",
       "72                               -7.5     5.1                  0  2021  \n",
       "73                                -13     5.3                  0  2021  \n",
       "74                               -5.3     8.6                  0  2021  \n",
       "\n",
       "[75 rows x 7 columns]"
      ]
     },
     "execution_count": 16,
     "metadata": {},
     "output_type": "execute_result"
    }
   ],
   "source": [
    "df_city = pd.read_excel('natural_movements.xlsx', sheet_name=0)\n",
    "df_city = df_city.replace(['...'], 0)\n",
    "df_city['регіон'] = df_city['регіон'].str.split().str[0]\n",
    "df_city"
   ]
  },
  {
   "attachments": {},
   "cell_type": "markdown",
   "metadata": {},
   "source": [
    "Лінійний графік відображає природній приріс населення в містах."
   ]
  },
  {
   "cell_type": "code",
   "execution_count": 17,
   "metadata": {},
   "outputs": [
    {
     "data": {
      "application/vnd.plotly.v1+json": {
       "config": {
        "plotlyServerURL": "https://plot.ly"
       },
       "data": [
        {
         "hovertemplate": "регіон=Вінницька<br>рік=%{x}<br>природний  приріст, скорочення (-)=%{y}<extra></extra>",
         "legendgroup": "Вінницька",
         "line": {
          "color": "#636efa",
          "dash": "solid"
         },
         "marker": {
          "symbol": "circle"
         },
         "mode": "lines",
         "name": "Вінницька",
         "orientation": "h",
         "showlegend": true,
         "type": "scatter",
         "x": [
          2019,
          2020,
          2021
         ],
         "xaxis": "x",
         "y": [
          -3.9,
          -5.8,
          -8.4
         ],
         "yaxis": "y"
        },
        {
         "hovertemplate": "регіон=Волинська<br>рік=%{x}<br>природний  приріст, скорочення (-)=%{y}<extra></extra>",
         "legendgroup": "Волинська",
         "line": {
          "color": "#EF553B",
          "dash": "solid"
         },
         "marker": {
          "symbol": "circle"
         },
         "mode": "lines",
         "name": "Волинська",
         "orientation": "h",
         "showlegend": true,
         "type": "scatter",
         "x": [
          2019,
          2020,
          2021
         ],
         "xaxis": "x",
         "y": [
          -2.2,
          -3.7,
          -5.6
         ],
         "yaxis": "y"
        },
        {
         "hovertemplate": "регіон=Дніпропетровська<br>рік=%{x}<br>природний  приріст, скорочення (-)=%{y}<extra></extra>",
         "legendgroup": "Дніпропетровська",
         "line": {
          "color": "#00cc96",
          "dash": "solid"
         },
         "marker": {
          "symbol": "circle"
         },
         "mode": "lines",
         "name": "Дніпропетровська",
         "orientation": "h",
         "showlegend": true,
         "type": "scatter",
         "x": [
          2019,
          2020,
          2021
         ],
         "xaxis": "x",
         "y": [
          -8.6,
          -10.5,
          -14.4
         ],
         "yaxis": "y"
        },
        {
         "hovertemplate": "регіон=Донецька<br>рік=%{x}<br>природний  приріст, скорочення (-)=%{y}<extra></extra>",
         "legendgroup": "Донецька",
         "line": {
          "color": "#ab63fa",
          "dash": "solid"
         },
         "marker": {
          "symbol": "circle"
         },
         "mode": "lines",
         "name": "Донецька",
         "orientation": "h",
         "showlegend": true,
         "type": "scatter",
         "x": [
          2019,
          2020,
          2021
         ],
         "xaxis": "x",
         "y": [
          0,
          "…",
          "…"
         ],
         "yaxis": "y"
        },
        {
         "hovertemplate": "регіон=Житомирська<br>рік=%{x}<br>природний  приріст, скорочення (-)=%{y}<extra></extra>",
         "legendgroup": "Житомирська",
         "line": {
          "color": "#FFA15A",
          "dash": "solid"
         },
         "marker": {
          "symbol": "circle"
         },
         "mode": "lines",
         "name": "Житомирська",
         "orientation": "h",
         "showlegend": true,
         "type": "scatter",
         "x": [
          2019,
          2020,
          2021
         ],
         "xaxis": "x",
         "y": [
          -6.4,
          -8.4,
          -11.4
         ],
         "yaxis": "y"
        },
        {
         "hovertemplate": "регіон=Закарпатська<br>рік=%{x}<br>природний  приріст, скорочення (-)=%{y}<extra></extra>",
         "legendgroup": "Закарпатська",
         "line": {
          "color": "#19d3f3",
          "dash": "solid"
         },
         "marker": {
          "symbol": "circle"
         },
         "mode": "lines",
         "name": "Закарпатська",
         "orientation": "h",
         "showlegend": true,
         "type": "scatter",
         "x": [
          2019,
          2020,
          2021
         ],
         "xaxis": "x",
         "y": [
          -2.3,
          -2.8,
          -5.9
         ],
         "yaxis": "y"
        },
        {
         "hovertemplate": "регіон=Запорізька<br>рік=%{x}<br>природний  приріст, скорочення (-)=%{y}<extra></extra>",
         "legendgroup": "Запорізька",
         "line": {
          "color": "#FF6692",
          "dash": "solid"
         },
         "marker": {
          "symbol": "circle"
         },
         "mode": "lines",
         "name": "Запорізька",
         "orientation": "h",
         "showlegend": true,
         "type": "scatter",
         "x": [
          2019,
          2020,
          2021
         ],
         "xaxis": "x",
         "y": [
          -9.1,
          -10.9,
          -15.8
         ],
         "yaxis": "y"
        },
        {
         "hovertemplate": "регіон=Івано-Франківська<br>рік=%{x}<br>природний  приріст, скорочення (-)=%{y}<extra></extra>",
         "legendgroup": "Івано-Франківська",
         "line": {
          "color": "#B6E880",
          "dash": "solid"
         },
         "marker": {
          "symbol": "circle"
         },
         "mode": "lines",
         "name": "Івано-Франківська",
         "orientation": "h",
         "showlegend": true,
         "type": "scatter",
         "x": [
          2019,
          2020,
          2021
         ],
         "xaxis": "x",
         "y": [
          -2.1,
          -4,
          -6.4
         ],
         "yaxis": "y"
        },
        {
         "hovertemplate": "регіон=Київська<br>рік=%{x}<br>природний  приріст, скорочення (-)=%{y}<extra></extra>",
         "legendgroup": "Київська",
         "line": {
          "color": "#FF97FF",
          "dash": "solid"
         },
         "marker": {
          "symbol": "circle"
         },
         "mode": "lines",
         "name": "Київська",
         "orientation": "h",
         "showlegend": true,
         "type": "scatter",
         "x": [
          2019,
          2020,
          2021
         ],
         "xaxis": "x",
         "y": [
          -5.5,
          -7.8,
          -12.3
         ],
         "yaxis": "y"
        },
        {
         "hovertemplate": "регіон=Кіровоградська<br>рік=%{x}<br>природний  приріст, скорочення (-)=%{y}<extra></extra>",
         "legendgroup": "Кіровоградська",
         "line": {
          "color": "#FECB52",
          "dash": "solid"
         },
         "marker": {
          "symbol": "circle"
         },
         "mode": "lines",
         "name": "Кіровоградська",
         "orientation": "h",
         "showlegend": true,
         "type": "scatter",
         "x": [
          2019,
          2020,
          2021
         ],
         "xaxis": "x",
         "y": [
          -9,
          -11,
          -14.7
         ],
         "yaxis": "y"
        },
        {
         "hovertemplate": "регіон=Луганська<br>рік=%{x}<br>природний  приріст, скорочення (-)=%{y}<extra></extra>",
         "legendgroup": "Луганська",
         "line": {
          "color": "#636efa",
          "dash": "solid"
         },
         "marker": {
          "symbol": "circle"
         },
         "mode": "lines",
         "name": "Луганська",
         "orientation": "h",
         "showlegend": true,
         "type": "scatter",
         "x": [
          2019,
          2020,
          2021
         ],
         "xaxis": "x",
         "y": [
          0,
          "…",
          "…"
         ],
         "yaxis": "y"
        },
        {
         "hovertemplate": "регіон=Львівська<br>рік=%{x}<br>природний  приріст, скорочення (-)=%{y}<extra></extra>",
         "legendgroup": "Львівська",
         "line": {
          "color": "#EF553B",
          "dash": "solid"
         },
         "marker": {
          "symbol": "circle"
         },
         "mode": "lines",
         "name": "Львівська",
         "orientation": "h",
         "showlegend": true,
         "type": "scatter",
         "x": [
          2019,
          2020,
          2021
         ],
         "xaxis": "x",
         "y": [
          -3.4,
          -5.3,
          -7.7
         ],
         "yaxis": "y"
        },
        {
         "hovertemplate": "регіон=Миколаївська<br>рік=%{x}<br>природний  приріст, скорочення (-)=%{y}<extra></extra>",
         "legendgroup": "Миколаївська",
         "line": {
          "color": "#00cc96",
          "dash": "solid"
         },
         "marker": {
          "symbol": "circle"
         },
         "mode": "lines",
         "name": "Миколаївська",
         "orientation": "h",
         "showlegend": true,
         "type": "scatter",
         "x": [
          2019,
          2020,
          2021
         ],
         "xaxis": "x",
         "y": [
          -8,
          -9.2,
          -13.8
         ],
         "yaxis": "y"
        },
        {
         "hovertemplate": "регіон=Одеська<br>рік=%{x}<br>природний  приріст, скорочення (-)=%{y}<extra></extra>",
         "legendgroup": "Одеська",
         "line": {
          "color": "#ab63fa",
          "dash": "solid"
         },
         "marker": {
          "symbol": "circle"
         },
         "mode": "lines",
         "name": "Одеська",
         "orientation": "h",
         "showlegend": true,
         "type": "scatter",
         "x": [
          2019,
          2020,
          2021
         ],
         "xaxis": "x",
         "y": [
          -5,
          -6.2,
          -10.6
         ],
         "yaxis": "y"
        },
        {
         "hovertemplate": "регіон=Полтавська<br>рік=%{x}<br>природний  приріст, скорочення (-)=%{y}<extra></extra>",
         "legendgroup": "Полтавська",
         "line": {
          "color": "#FFA15A",
          "dash": "solid"
         },
         "marker": {
          "symbol": "circle"
         },
         "mode": "lines",
         "name": "Полтавська",
         "orientation": "h",
         "showlegend": true,
         "type": "scatter",
         "x": [
          2019,
          2020,
          2021
         ],
         "xaxis": "x",
         "y": [
          -8.1,
          -9.9,
          -13.5
         ],
         "yaxis": "y"
        },
        {
         "hovertemplate": "регіон=Рівненська<br>рік=%{x}<br>природний  приріст, скорочення (-)=%{y}<extra></extra>",
         "legendgroup": "Рівненська",
         "line": {
          "color": "#19d3f3",
          "dash": "solid"
         },
         "marker": {
          "symbol": "circle"
         },
         "mode": "lines",
         "name": "Рівненська",
         "orientation": "h",
         "showlegend": true,
         "type": "scatter",
         "x": [
          2019,
          2020,
          2021
         ],
         "xaxis": "x",
         "y": [
          -1.3,
          -3.1,
          -5.1
         ],
         "yaxis": "y"
        },
        {
         "hovertemplate": "регіон=Сумська<br>рік=%{x}<br>природний  приріст, скорочення (-)=%{y}<extra></extra>",
         "legendgroup": "Сумська",
         "line": {
          "color": "#FF6692",
          "dash": "solid"
         },
         "marker": {
          "symbol": "circle"
         },
         "mode": "lines",
         "name": "Сумська",
         "orientation": "h",
         "showlegend": true,
         "type": "scatter",
         "x": [
          2019,
          2020,
          2021
         ],
         "xaxis": "x",
         "y": [
          -8.3,
          -10.4,
          -13.2
         ],
         "yaxis": "y"
        },
        {
         "hovertemplate": "регіон=Тернопільська<br>рік=%{x}<br>природний  приріст, скорочення (-)=%{y}<extra></extra>",
         "legendgroup": "Тернопільська",
         "line": {
          "color": "#B6E880",
          "dash": "solid"
         },
         "marker": {
          "symbol": "circle"
         },
         "mode": "lines",
         "name": "Тернопільська",
         "orientation": "h",
         "showlegend": true,
         "type": "scatter",
         "x": [
          2019,
          2020,
          2021
         ],
         "xaxis": "x",
         "y": [
          -2.8,
          -4.4,
          -6.3
         ],
         "yaxis": "y"
        },
        {
         "hovertemplate": "регіон=Харківська<br>рік=%{x}<br>природний  приріст, скорочення (-)=%{y}<extra></extra>",
         "legendgroup": "Харківська",
         "line": {
          "color": "#FF97FF",
          "dash": "solid"
         },
         "marker": {
          "symbol": "circle"
         },
         "mode": "lines",
         "name": "Харківська",
         "orientation": "h",
         "showlegend": true,
         "type": "scatter",
         "x": [
          2019,
          2020,
          2021
         ],
         "xaxis": "x",
         "y": [
          -7.9,
          -10,
          -14.9
         ],
         "yaxis": "y"
        },
        {
         "hovertemplate": "регіон=Херсонська<br>рік=%{x}<br>природний  приріст, скорочення (-)=%{y}<extra></extra>",
         "legendgroup": "Херсонська",
         "line": {
          "color": "#FECB52",
          "dash": "solid"
         },
         "marker": {
          "symbol": "circle"
         },
         "mode": "lines",
         "name": "Херсонська",
         "orientation": "h",
         "showlegend": true,
         "type": "scatter",
         "x": [
          2019,
          2020,
          2021
         ],
         "xaxis": "x",
         "y": [
          -7.6,
          -9.9,
          -14.5
         ],
         "yaxis": "y"
        },
        {
         "hovertemplate": "регіон=Хмельницька<br>рік=%{x}<br>природний  приріст, скорочення (-)=%{y}<extra></extra>",
         "legendgroup": "Хмельницька",
         "line": {
          "color": "#636efa",
          "dash": "solid"
         },
         "marker": {
          "symbol": "circle"
         },
         "mode": "lines",
         "name": "Хмельницька",
         "orientation": "h",
         "showlegend": true,
         "type": "scatter",
         "x": [
          2019,
          2020,
          2021
         ],
         "xaxis": "x",
         "y": [
          -3,
          -4.9,
          -8.3
         ],
         "yaxis": "y"
        },
        {
         "hovertemplate": "регіон=Черкаська<br>рік=%{x}<br>природний  приріст, скорочення (-)=%{y}<extra></extra>",
         "legendgroup": "Черкаська",
         "line": {
          "color": "#EF553B",
          "dash": "solid"
         },
         "marker": {
          "symbol": "circle"
         },
         "mode": "lines",
         "name": "Черкаська",
         "orientation": "h",
         "showlegend": true,
         "type": "scatter",
         "x": [
          2019,
          2020,
          2021
         ],
         "xaxis": "x",
         "y": [
          -7.5,
          -9.1,
          -11.8
         ],
         "yaxis": "y"
        },
        {
         "hovertemplate": "регіон=Чернівецька<br>рік=%{x}<br>природний  приріст, скорочення (-)=%{y}<extra></extra>",
         "legendgroup": "Чернівецька",
         "line": {
          "color": "#00cc96",
          "dash": "solid"
         },
         "marker": {
          "symbol": "circle"
         },
         "mode": "lines",
         "name": "Чернівецька",
         "orientation": "h",
         "showlegend": true,
         "type": "scatter",
         "x": [
          2019,
          2020,
          2021
         ],
         "xaxis": "x",
         "y": [
          -2.5,
          -4.4,
          -7.5
         ],
         "yaxis": "y"
        },
        {
         "hovertemplate": "регіон=Чернігівська<br>рік=%{x}<br>природний  приріст, скорочення (-)=%{y}<extra></extra>",
         "legendgroup": "Чернігівська",
         "line": {
          "color": "#ab63fa",
          "dash": "solid"
         },
         "marker": {
          "symbol": "circle"
         },
         "mode": "lines",
         "name": "Чернігівська",
         "orientation": "h",
         "showlegend": true,
         "type": "scatter",
         "x": [
          2019,
          2020,
          2021
         ],
         "xaxis": "x",
         "y": [
          -8.7,
          -10.4,
          -13
         ],
         "yaxis": "y"
        },
        {
         "hovertemplate": "регіон=м.Київ<br>рік=%{x}<br>природний  приріст, скорочення (-)=%{y}<extra></extra>",
         "legendgroup": "м.Київ",
         "line": {
          "color": "#FFA15A",
          "dash": "solid"
         },
         "marker": {
          "symbol": "circle"
         },
         "mode": "lines",
         "name": "м.Київ",
         "orientation": "h",
         "showlegend": true,
         "type": "scatter",
         "x": [
          2019,
          2020,
          2021
         ],
         "xaxis": "x",
         "y": [
          -0.2,
          -1.9,
          -5.3
         ],
         "yaxis": "y"
        }
       ],
       "layout": {
        "height": 800,
        "legend": {
         "title": {
          "text": "регіон"
         },
         "tracegroupgap": 0
        },
        "template": {
         "data": {
          "bar": [
           {
            "error_x": {
             "color": "#2a3f5f"
            },
            "error_y": {
             "color": "#2a3f5f"
            },
            "marker": {
             "line": {
              "color": "#E5ECF6",
              "width": 0.5
             },
             "pattern": {
              "fillmode": "overlay",
              "size": 10,
              "solidity": 0.2
             }
            },
            "type": "bar"
           }
          ],
          "barpolar": [
           {
            "marker": {
             "line": {
              "color": "#E5ECF6",
              "width": 0.5
             },
             "pattern": {
              "fillmode": "overlay",
              "size": 10,
              "solidity": 0.2
             }
            },
            "type": "barpolar"
           }
          ],
          "carpet": [
           {
            "aaxis": {
             "endlinecolor": "#2a3f5f",
             "gridcolor": "white",
             "linecolor": "white",
             "minorgridcolor": "white",
             "startlinecolor": "#2a3f5f"
            },
            "baxis": {
             "endlinecolor": "#2a3f5f",
             "gridcolor": "white",
             "linecolor": "white",
             "minorgridcolor": "white",
             "startlinecolor": "#2a3f5f"
            },
            "type": "carpet"
           }
          ],
          "choropleth": [
           {
            "colorbar": {
             "outlinewidth": 0,
             "ticks": ""
            },
            "type": "choropleth"
           }
          ],
          "contour": [
           {
            "colorbar": {
             "outlinewidth": 0,
             "ticks": ""
            },
            "colorscale": [
             [
              0,
              "#0d0887"
             ],
             [
              0.1111111111111111,
              "#46039f"
             ],
             [
              0.2222222222222222,
              "#7201a8"
             ],
             [
              0.3333333333333333,
              "#9c179e"
             ],
             [
              0.4444444444444444,
              "#bd3786"
             ],
             [
              0.5555555555555556,
              "#d8576b"
             ],
             [
              0.6666666666666666,
              "#ed7953"
             ],
             [
              0.7777777777777778,
              "#fb9f3a"
             ],
             [
              0.8888888888888888,
              "#fdca26"
             ],
             [
              1,
              "#f0f921"
             ]
            ],
            "type": "contour"
           }
          ],
          "contourcarpet": [
           {
            "colorbar": {
             "outlinewidth": 0,
             "ticks": ""
            },
            "type": "contourcarpet"
           }
          ],
          "heatmap": [
           {
            "colorbar": {
             "outlinewidth": 0,
             "ticks": ""
            },
            "colorscale": [
             [
              0,
              "#0d0887"
             ],
             [
              0.1111111111111111,
              "#46039f"
             ],
             [
              0.2222222222222222,
              "#7201a8"
             ],
             [
              0.3333333333333333,
              "#9c179e"
             ],
             [
              0.4444444444444444,
              "#bd3786"
             ],
             [
              0.5555555555555556,
              "#d8576b"
             ],
             [
              0.6666666666666666,
              "#ed7953"
             ],
             [
              0.7777777777777778,
              "#fb9f3a"
             ],
             [
              0.8888888888888888,
              "#fdca26"
             ],
             [
              1,
              "#f0f921"
             ]
            ],
            "type": "heatmap"
           }
          ],
          "heatmapgl": [
           {
            "colorbar": {
             "outlinewidth": 0,
             "ticks": ""
            },
            "colorscale": [
             [
              0,
              "#0d0887"
             ],
             [
              0.1111111111111111,
              "#46039f"
             ],
             [
              0.2222222222222222,
              "#7201a8"
             ],
             [
              0.3333333333333333,
              "#9c179e"
             ],
             [
              0.4444444444444444,
              "#bd3786"
             ],
             [
              0.5555555555555556,
              "#d8576b"
             ],
             [
              0.6666666666666666,
              "#ed7953"
             ],
             [
              0.7777777777777778,
              "#fb9f3a"
             ],
             [
              0.8888888888888888,
              "#fdca26"
             ],
             [
              1,
              "#f0f921"
             ]
            ],
            "type": "heatmapgl"
           }
          ],
          "histogram": [
           {
            "marker": {
             "pattern": {
              "fillmode": "overlay",
              "size": 10,
              "solidity": 0.2
             }
            },
            "type": "histogram"
           }
          ],
          "histogram2d": [
           {
            "colorbar": {
             "outlinewidth": 0,
             "ticks": ""
            },
            "colorscale": [
             [
              0,
              "#0d0887"
             ],
             [
              0.1111111111111111,
              "#46039f"
             ],
             [
              0.2222222222222222,
              "#7201a8"
             ],
             [
              0.3333333333333333,
              "#9c179e"
             ],
             [
              0.4444444444444444,
              "#bd3786"
             ],
             [
              0.5555555555555556,
              "#d8576b"
             ],
             [
              0.6666666666666666,
              "#ed7953"
             ],
             [
              0.7777777777777778,
              "#fb9f3a"
             ],
             [
              0.8888888888888888,
              "#fdca26"
             ],
             [
              1,
              "#f0f921"
             ]
            ],
            "type": "histogram2d"
           }
          ],
          "histogram2dcontour": [
           {
            "colorbar": {
             "outlinewidth": 0,
             "ticks": ""
            },
            "colorscale": [
             [
              0,
              "#0d0887"
             ],
             [
              0.1111111111111111,
              "#46039f"
             ],
             [
              0.2222222222222222,
              "#7201a8"
             ],
             [
              0.3333333333333333,
              "#9c179e"
             ],
             [
              0.4444444444444444,
              "#bd3786"
             ],
             [
              0.5555555555555556,
              "#d8576b"
             ],
             [
              0.6666666666666666,
              "#ed7953"
             ],
             [
              0.7777777777777778,
              "#fb9f3a"
             ],
             [
              0.8888888888888888,
              "#fdca26"
             ],
             [
              1,
              "#f0f921"
             ]
            ],
            "type": "histogram2dcontour"
           }
          ],
          "mesh3d": [
           {
            "colorbar": {
             "outlinewidth": 0,
             "ticks": ""
            },
            "type": "mesh3d"
           }
          ],
          "parcoords": [
           {
            "line": {
             "colorbar": {
              "outlinewidth": 0,
              "ticks": ""
             }
            },
            "type": "parcoords"
           }
          ],
          "pie": [
           {
            "automargin": true,
            "type": "pie"
           }
          ],
          "scatter": [
           {
            "fillpattern": {
             "fillmode": "overlay",
             "size": 10,
             "solidity": 0.2
            },
            "type": "scatter"
           }
          ],
          "scatter3d": [
           {
            "line": {
             "colorbar": {
              "outlinewidth": 0,
              "ticks": ""
             }
            },
            "marker": {
             "colorbar": {
              "outlinewidth": 0,
              "ticks": ""
             }
            },
            "type": "scatter3d"
           }
          ],
          "scattercarpet": [
           {
            "marker": {
             "colorbar": {
              "outlinewidth": 0,
              "ticks": ""
             }
            },
            "type": "scattercarpet"
           }
          ],
          "scattergeo": [
           {
            "marker": {
             "colorbar": {
              "outlinewidth": 0,
              "ticks": ""
             }
            },
            "type": "scattergeo"
           }
          ],
          "scattergl": [
           {
            "marker": {
             "colorbar": {
              "outlinewidth": 0,
              "ticks": ""
             }
            },
            "type": "scattergl"
           }
          ],
          "scattermapbox": [
           {
            "marker": {
             "colorbar": {
              "outlinewidth": 0,
              "ticks": ""
             }
            },
            "type": "scattermapbox"
           }
          ],
          "scatterpolar": [
           {
            "marker": {
             "colorbar": {
              "outlinewidth": 0,
              "ticks": ""
             }
            },
            "type": "scatterpolar"
           }
          ],
          "scatterpolargl": [
           {
            "marker": {
             "colorbar": {
              "outlinewidth": 0,
              "ticks": ""
             }
            },
            "type": "scatterpolargl"
           }
          ],
          "scatterternary": [
           {
            "marker": {
             "colorbar": {
              "outlinewidth": 0,
              "ticks": ""
             }
            },
            "type": "scatterternary"
           }
          ],
          "surface": [
           {
            "colorbar": {
             "outlinewidth": 0,
             "ticks": ""
            },
            "colorscale": [
             [
              0,
              "#0d0887"
             ],
             [
              0.1111111111111111,
              "#46039f"
             ],
             [
              0.2222222222222222,
              "#7201a8"
             ],
             [
              0.3333333333333333,
              "#9c179e"
             ],
             [
              0.4444444444444444,
              "#bd3786"
             ],
             [
              0.5555555555555556,
              "#d8576b"
             ],
             [
              0.6666666666666666,
              "#ed7953"
             ],
             [
              0.7777777777777778,
              "#fb9f3a"
             ],
             [
              0.8888888888888888,
              "#fdca26"
             ],
             [
              1,
              "#f0f921"
             ]
            ],
            "type": "surface"
           }
          ],
          "table": [
           {
            "cells": {
             "fill": {
              "color": "#EBF0F8"
             },
             "line": {
              "color": "white"
             }
            },
            "header": {
             "fill": {
              "color": "#C8D4E3"
             },
             "line": {
              "color": "white"
             }
            },
            "type": "table"
           }
          ]
         },
         "layout": {
          "annotationdefaults": {
           "arrowcolor": "#2a3f5f",
           "arrowhead": 0,
           "arrowwidth": 1
          },
          "autotypenumbers": "strict",
          "coloraxis": {
           "colorbar": {
            "outlinewidth": 0,
            "ticks": ""
           }
          },
          "colorscale": {
           "diverging": [
            [
             0,
             "#8e0152"
            ],
            [
             0.1,
             "#c51b7d"
            ],
            [
             0.2,
             "#de77ae"
            ],
            [
             0.3,
             "#f1b6da"
            ],
            [
             0.4,
             "#fde0ef"
            ],
            [
             0.5,
             "#f7f7f7"
            ],
            [
             0.6,
             "#e6f5d0"
            ],
            [
             0.7,
             "#b8e186"
            ],
            [
             0.8,
             "#7fbc41"
            ],
            [
             0.9,
             "#4d9221"
            ],
            [
             1,
             "#276419"
            ]
           ],
           "sequential": [
            [
             0,
             "#0d0887"
            ],
            [
             0.1111111111111111,
             "#46039f"
            ],
            [
             0.2222222222222222,
             "#7201a8"
            ],
            [
             0.3333333333333333,
             "#9c179e"
            ],
            [
             0.4444444444444444,
             "#bd3786"
            ],
            [
             0.5555555555555556,
             "#d8576b"
            ],
            [
             0.6666666666666666,
             "#ed7953"
            ],
            [
             0.7777777777777778,
             "#fb9f3a"
            ],
            [
             0.8888888888888888,
             "#fdca26"
            ],
            [
             1,
             "#f0f921"
            ]
           ],
           "sequentialminus": [
            [
             0,
             "#0d0887"
            ],
            [
             0.1111111111111111,
             "#46039f"
            ],
            [
             0.2222222222222222,
             "#7201a8"
            ],
            [
             0.3333333333333333,
             "#9c179e"
            ],
            [
             0.4444444444444444,
             "#bd3786"
            ],
            [
             0.5555555555555556,
             "#d8576b"
            ],
            [
             0.6666666666666666,
             "#ed7953"
            ],
            [
             0.7777777777777778,
             "#fb9f3a"
            ],
            [
             0.8888888888888888,
             "#fdca26"
            ],
            [
             1,
             "#f0f921"
            ]
           ]
          },
          "colorway": [
           "#636efa",
           "#EF553B",
           "#00cc96",
           "#ab63fa",
           "#FFA15A",
           "#19d3f3",
           "#FF6692",
           "#B6E880",
           "#FF97FF",
           "#FECB52"
          ],
          "font": {
           "color": "#2a3f5f"
          },
          "geo": {
           "bgcolor": "white",
           "lakecolor": "white",
           "landcolor": "#E5ECF6",
           "showlakes": true,
           "showland": true,
           "subunitcolor": "white"
          },
          "hoverlabel": {
           "align": "left"
          },
          "hovermode": "closest",
          "mapbox": {
           "style": "light"
          },
          "paper_bgcolor": "white",
          "plot_bgcolor": "#E5ECF6",
          "polar": {
           "angularaxis": {
            "gridcolor": "white",
            "linecolor": "white",
            "ticks": ""
           },
           "bgcolor": "#E5ECF6",
           "radialaxis": {
            "gridcolor": "white",
            "linecolor": "white",
            "ticks": ""
           }
          },
          "scene": {
           "xaxis": {
            "backgroundcolor": "#E5ECF6",
            "gridcolor": "white",
            "gridwidth": 2,
            "linecolor": "white",
            "showbackground": true,
            "ticks": "",
            "zerolinecolor": "white"
           },
           "yaxis": {
            "backgroundcolor": "#E5ECF6",
            "gridcolor": "white",
            "gridwidth": 2,
            "linecolor": "white",
            "showbackground": true,
            "ticks": "",
            "zerolinecolor": "white"
           },
           "zaxis": {
            "backgroundcolor": "#E5ECF6",
            "gridcolor": "white",
            "gridwidth": 2,
            "linecolor": "white",
            "showbackground": true,
            "ticks": "",
            "zerolinecolor": "white"
           }
          },
          "shapedefaults": {
           "line": {
            "color": "#2a3f5f"
           }
          },
          "ternary": {
           "aaxis": {
            "gridcolor": "white",
            "linecolor": "white",
            "ticks": ""
           },
           "baxis": {
            "gridcolor": "white",
            "linecolor": "white",
            "ticks": ""
           },
           "bgcolor": "#E5ECF6",
           "caxis": {
            "gridcolor": "white",
            "linecolor": "white",
            "ticks": ""
           }
          },
          "title": {
           "x": 0.05
          },
          "xaxis": {
           "automargin": true,
           "gridcolor": "white",
           "linecolor": "white",
           "ticks": "",
           "title": {
            "standoff": 15
           },
           "zerolinecolor": "white",
           "zerolinewidth": 2
          },
          "yaxis": {
           "automargin": true,
           "gridcolor": "white",
           "linecolor": "white",
           "ticks": "",
           "title": {
            "standoff": 15
           },
           "zerolinecolor": "white",
           "zerolinewidth": 2
          }
         }
        },
        "title": {
         "text": "Природній приріст міського населення"
        },
        "xaxis": {
         "anchor": "y",
         "domain": [
          0,
          1
         ],
         "title": {
          "text": "рік"
         }
        },
        "yaxis": {
         "anchor": "x",
         "domain": [
          0,
          1
         ],
         "title": {
          "text": "природний  приріст, скорочення (-)"
         }
        }
       }
      }
     },
     "metadata": {},
     "output_type": "display_data"
    }
   ],
   "source": [
    "fig = px.line(df_city, x='рік', y='природний  приріст, скорочення (-)', color='регіон', title='Природній приріст міського населення')\n",
    "fig.layout.height = 800\n",
    "fig.show()"
   ]
  },
  {
   "attachments": {},
   "cell_type": "markdown",
   "metadata": {},
   "source": [
    "## Сільська місцевість"
   ]
  },
  {
   "cell_type": "code",
   "execution_count": 18,
   "metadata": {},
   "outputs": [
    {
     "data": {
      "text/html": [
       "<div>\n",
       "<style scoped>\n",
       "    .dataframe tbody tr th:only-of-type {\n",
       "        vertical-align: middle;\n",
       "    }\n",
       "\n",
       "    .dataframe tbody tr th {\n",
       "        vertical-align: top;\n",
       "    }\n",
       "\n",
       "    .dataframe thead th {\n",
       "        text-align: right;\n",
       "    }\n",
       "</style>\n",
       "<table border=\"1\" class=\"dataframe\">\n",
       "  <thead>\n",
       "    <tr style=\"text-align: right;\">\n",
       "      <th></th>\n",
       "      <th>регіон</th>\n",
       "      <th>живонаро-джених</th>\n",
       "      <th>померлих</th>\n",
       "      <th>природний  приріст, скорочення (-)</th>\n",
       "      <th>шлюбів</th>\n",
       "      <th>розірвань шлюбів</th>\n",
       "      <th>рік</th>\n",
       "    </tr>\n",
       "  </thead>\n",
       "  <tbody>\n",
       "    <tr>\n",
       "      <th>0</th>\n",
       "      <td>Вінницька</td>\n",
       "      <td>7.4</td>\n",
       "      <td>19.5</td>\n",
       "      <td>-12.1</td>\n",
       "      <td>4.9</td>\n",
       "      <td>0</td>\n",
       "      <td>2019</td>\n",
       "    </tr>\n",
       "    <tr>\n",
       "      <th>1</th>\n",
       "      <td>Волинська</td>\n",
       "      <td>11.3</td>\n",
       "      <td>14.8</td>\n",
       "      <td>-3.5</td>\n",
       "      <td>5.7</td>\n",
       "      <td>0</td>\n",
       "      <td>2019</td>\n",
       "    </tr>\n",
       "    <tr>\n",
       "      <th>2</th>\n",
       "      <td>Дніпропетровська</td>\n",
       "      <td>8</td>\n",
       "      <td>18.4</td>\n",
       "      <td>-10.4</td>\n",
       "      <td>4.1</td>\n",
       "      <td>0</td>\n",
       "      <td>2019</td>\n",
       "    </tr>\n",
       "    <tr>\n",
       "      <th>3</th>\n",
       "      <td>Донецька</td>\n",
       "      <td>0</td>\n",
       "      <td>0</td>\n",
       "      <td>0</td>\n",
       "      <td>0</td>\n",
       "      <td>0</td>\n",
       "      <td>2019</td>\n",
       "    </tr>\n",
       "    <tr>\n",
       "      <th>4</th>\n",
       "      <td>Житомирська</td>\n",
       "      <td>8.4</td>\n",
       "      <td>19.9</td>\n",
       "      <td>-11.5</td>\n",
       "      <td>4.6</td>\n",
       "      <td>0</td>\n",
       "      <td>2019</td>\n",
       "    </tr>\n",
       "    <tr>\n",
       "      <th>...</th>\n",
       "      <td>...</td>\n",
       "      <td>...</td>\n",
       "      <td>...</td>\n",
       "      <td>...</td>\n",
       "      <td>...</td>\n",
       "      <td>...</td>\n",
       "      <td>...</td>\n",
       "    </tr>\n",
       "    <tr>\n",
       "      <th>70</th>\n",
       "      <td>Хмельницька</td>\n",
       "      <td>7</td>\n",
       "      <td>24.2</td>\n",
       "      <td>-17.2</td>\n",
       "      <td>4.3</td>\n",
       "      <td>0</td>\n",
       "      <td>2021</td>\n",
       "    </tr>\n",
       "    <tr>\n",
       "      <th>71</th>\n",
       "      <td>Черкаська</td>\n",
       "      <td>5.9</td>\n",
       "      <td>22.4</td>\n",
       "      <td>-16.5</td>\n",
       "      <td>2.6</td>\n",
       "      <td>0</td>\n",
       "      <td>2021</td>\n",
       "    </tr>\n",
       "    <tr>\n",
       "      <th>72</th>\n",
       "      <td>Чернівецька</td>\n",
       "      <td>9.9</td>\n",
       "      <td>17.1</td>\n",
       "      <td>-7.2</td>\n",
       "      <td>5.9</td>\n",
       "      <td>0</td>\n",
       "      <td>2021</td>\n",
       "    </tr>\n",
       "    <tr>\n",
       "      <th>73</th>\n",
       "      <td>Чернігівська</td>\n",
       "      <td>5.1</td>\n",
       "      <td>28.4</td>\n",
       "      <td>-23.3</td>\n",
       "      <td>3.3</td>\n",
       "      <td>0</td>\n",
       "      <td>2021</td>\n",
       "    </tr>\n",
       "    <tr>\n",
       "      <th>74</th>\n",
       "      <td>м.Київ</td>\n",
       "      <td>х</td>\n",
       "      <td>х</td>\n",
       "      <td>х</td>\n",
       "      <td>х</td>\n",
       "      <td>х</td>\n",
       "      <td>2021</td>\n",
       "    </tr>\n",
       "  </tbody>\n",
       "</table>\n",
       "<p>75 rows × 7 columns</p>\n",
       "</div>"
      ],
      "text/plain": [
       "              регіон живонаро-джених  померлих  \\\n",
       "0          Вінницька             7.4      19.5   \n",
       "1          Волинська            11.3      14.8   \n",
       "2   Дніпропетровська               8      18.4   \n",
       "3           Донецька               0         0   \n",
       "4        Житомирська             8.4      19.9   \n",
       "..               ...             ...       ...   \n",
       "70       Хмельницька               7      24.2   \n",
       "71         Черкаська             5.9      22.4   \n",
       "72       Чернівецька             9.9      17.1   \n",
       "73      Чернігівська             5.1      28.4   \n",
       "74            м.Київ               х         х   \n",
       "\n",
       "   природний  приріст, скорочення (-)  шлюбів  розірвань шлюбів   рік  \n",
       "0                               -12.1     4.9                 0  2019  \n",
       "1                                -3.5     5.7                 0  2019  \n",
       "2                               -10.4     4.1                 0  2019  \n",
       "3                                   0       0                 0  2019  \n",
       "4                               -11.5     4.6                 0  2019  \n",
       "..                                ...     ...               ...   ...  \n",
       "70                              -17.2     4.3                 0  2021  \n",
       "71                              -16.5     2.6                 0  2021  \n",
       "72                               -7.2     5.9                 0  2021  \n",
       "73                              -23.3     3.3                 0  2021  \n",
       "74                                  х       х                 х  2021  \n",
       "\n",
       "[75 rows x 7 columns]"
      ]
     },
     "execution_count": 18,
     "metadata": {},
     "output_type": "execute_result"
    }
   ],
   "source": [
    "df_village = pd.read_excel('natural_movements.xlsx', sheet_name=1)\n",
    "df_village = df_village.replace(['...'], 0)\n",
    "df_village['регіон'] = df_village['регіон'].str.split().str[0]\n",
    "df_village"
   ]
  },
  {
   "attachments": {},
   "cell_type": "markdown",
   "metadata": {},
   "source": [
    "Лінійний графік, аналогічний до попереднього, але відображає приріст в сільській місцевості."
   ]
  },
  {
   "cell_type": "code",
   "execution_count": 19,
   "metadata": {},
   "outputs": [
    {
     "data": {
      "application/vnd.plotly.v1+json": {
       "config": {
        "plotlyServerURL": "https://plot.ly"
       },
       "data": [
        {
         "hovertemplate": "регіон=Вінницька<br>рік=%{x}<br>природний  приріст, скорочення (-)=%{y}<extra></extra>",
         "legendgroup": "Вінницька",
         "line": {
          "color": "#636efa",
          "dash": "solid"
         },
         "marker": {
          "symbol": "circle"
         },
         "mode": "lines",
         "name": "Вінницька",
         "orientation": "h",
         "showlegend": true,
         "type": "scatter",
         "x": [
          2019,
          2020,
          2021
         ],
         "xaxis": "x",
         "y": [
          -12.1,
          -12.5,
          -14.4
         ],
         "yaxis": "y"
        },
        {
         "hovertemplate": "регіон=Волинська<br>рік=%{x}<br>природний  приріст, скорочення (-)=%{y}<extra></extra>",
         "legendgroup": "Волинська",
         "line": {
          "color": "#EF553B",
          "dash": "solid"
         },
         "marker": {
          "symbol": "circle"
         },
         "mode": "lines",
         "name": "Волинська",
         "orientation": "h",
         "showlegend": true,
         "type": "scatter",
         "x": [
          2019,
          2020,
          2021
         ],
         "xaxis": "x",
         "y": [
          -3.5,
          -3.9,
          -5.5
         ],
         "yaxis": "y"
        },
        {
         "hovertemplate": "регіон=Дніпропетровська<br>рік=%{x}<br>природний  приріст, скорочення (-)=%{y}<extra></extra>",
         "legendgroup": "Дніпропетровська",
         "line": {
          "color": "#00cc96",
          "dash": "solid"
         },
         "marker": {
          "symbol": "circle"
         },
         "mode": "lines",
         "name": "Дніпропетровська",
         "orientation": "h",
         "showlegend": true,
         "type": "scatter",
         "x": [
          2019,
          2020,
          2021
         ],
         "xaxis": "x",
         "y": [
          -10.4,
          -11.8,
          -15.4
         ],
         "yaxis": "y"
        },
        {
         "hovertemplate": "регіон=Донецька<br>рік=%{x}<br>природний  приріст, скорочення (-)=%{y}<extra></extra>",
         "legendgroup": "Донецька",
         "line": {
          "color": "#ab63fa",
          "dash": "solid"
         },
         "marker": {
          "symbol": "circle"
         },
         "mode": "lines",
         "name": "Донецька",
         "orientation": "h",
         "showlegend": true,
         "type": "scatter",
         "x": [
          2019,
          2020,
          2021
         ],
         "xaxis": "x",
         "y": [
          0,
          "…",
          "…"
         ],
         "yaxis": "y"
        },
        {
         "hovertemplate": "регіон=Житомирська<br>рік=%{x}<br>природний  приріст, скорочення (-)=%{y}<extra></extra>",
         "legendgroup": "Житомирська",
         "line": {
          "color": "#FFA15A",
          "dash": "solid"
         },
         "marker": {
          "symbol": "circle"
         },
         "mode": "lines",
         "name": "Житомирська",
         "orientation": "h",
         "showlegend": true,
         "type": "scatter",
         "x": [
          2019,
          2020,
          2021
         ],
         "xaxis": "x",
         "y": [
          -11.5,
          -12.4,
          -14.7
         ],
         "yaxis": "y"
        },
        {
         "hovertemplate": "регіон=Закарпатська<br>рік=%{x}<br>природний  приріст, скорочення (-)=%{y}<extra></extra>",
         "legendgroup": "Закарпатська",
         "line": {
          "color": "#19d3f3",
          "dash": "solid"
         },
         "marker": {
          "symbol": "circle"
         },
         "mode": "lines",
         "name": "Закарпатська",
         "orientation": "h",
         "showlegend": true,
         "type": "scatter",
         "x": [
          2019,
          2020,
          2021
         ],
         "xaxis": "x",
         "y": [
          -1.8,
          -2.5,
          -3.9
         ],
         "yaxis": "y"
        },
        {
         "hovertemplate": "регіон=Запорізька<br>рік=%{x}<br>природний  приріст, скорочення (-)=%{y}<extra></extra>",
         "legendgroup": "Запорізька",
         "line": {
          "color": "#FF6692",
          "dash": "solid"
         },
         "marker": {
          "symbol": "circle"
         },
         "mode": "lines",
         "name": "Запорізька",
         "orientation": "h",
         "showlegend": true,
         "type": "scatter",
         "x": [
          2019,
          2020,
          2021
         ],
         "xaxis": "x",
         "y": [
          -11.2,
          -12.3,
          -16
         ],
         "yaxis": "y"
        },
        {
         "hovertemplate": "регіон=Івано-Франківська<br>рік=%{x}<br>природний  приріст, скорочення (-)=%{y}<extra></extra>",
         "legendgroup": "Івано-Франківська",
         "line": {
          "color": "#B6E880",
          "dash": "solid"
         },
         "marker": {
          "symbol": "circle"
         },
         "mode": "lines",
         "name": "Івано-Франківська",
         "orientation": "h",
         "showlegend": true,
         "type": "scatter",
         "x": [
          2019,
          2020,
          2021
         ],
         "xaxis": "x",
         "y": [
          -5.4,
          -6.6,
          -8.2
         ],
         "yaxis": "y"
        },
        {
         "hovertemplate": "регіон=Київська<br>рік=%{x}<br>природний  приріст, скорочення (-)=%{y}<extra></extra>",
         "legendgroup": "Київська",
         "line": {
          "color": "#FF97FF",
          "dash": "solid"
         },
         "marker": {
          "symbol": "circle"
         },
         "mode": "lines",
         "name": "Київська",
         "orientation": "h",
         "showlegend": true,
         "type": "scatter",
         "x": [
          2019,
          2020,
          2021
         ],
         "xaxis": "x",
         "y": [
          -12,
          -12.8,
          -14.4
         ],
         "yaxis": "y"
        },
        {
         "hovertemplate": "регіон=Кіровоградська<br>рік=%{x}<br>природний  приріст, скорочення (-)=%{y}<extra></extra>",
         "legendgroup": "Кіровоградська",
         "line": {
          "color": "#FECB52",
          "dash": "solid"
         },
         "marker": {
          "symbol": "circle"
         },
         "mode": "lines",
         "name": "Кіровоградська",
         "orientation": "h",
         "showlegend": true,
         "type": "scatter",
         "x": [
          2019,
          2020,
          2021
         ],
         "xaxis": "x",
         "y": [
          -10.9,
          -12.1,
          -14.9
         ],
         "yaxis": "y"
        },
        {
         "hovertemplate": "регіон=Луганська<br>рік=%{x}<br>природний  приріст, скорочення (-)=%{y}<extra></extra>",
         "legendgroup": "Луганська",
         "line": {
          "color": "#636efa",
          "dash": "solid"
         },
         "marker": {
          "symbol": "circle"
         },
         "mode": "lines",
         "name": "Луганська",
         "orientation": "h",
         "showlegend": true,
         "type": "scatter",
         "x": [
          2019,
          2020,
          2021
         ],
         "xaxis": "x",
         "y": [
          0,
          "…",
          "…"
         ],
         "yaxis": "y"
        },
        {
         "hovertemplate": "регіон=Львівська<br>рік=%{x}<br>природний  приріст, скорочення (-)=%{y}<extra></extra>",
         "legendgroup": "Львівська",
         "line": {
          "color": "#EF553B",
          "dash": "solid"
         },
         "marker": {
          "symbol": "circle"
         },
         "mode": "lines",
         "name": "Львівська",
         "orientation": "h",
         "showlegend": true,
         "type": "scatter",
         "x": [
          2019,
          2020,
          2021
         ],
         "xaxis": "x",
         "y": [
          -5.9,
          -7.4,
          -8.9
         ],
         "yaxis": "y"
        },
        {
         "hovertemplate": "регіон=Миколаївська<br>рік=%{x}<br>природний  приріст, скорочення (-)=%{y}<extra></extra>",
         "legendgroup": "Миколаївська",
         "line": {
          "color": "#00cc96",
          "dash": "solid"
         },
         "marker": {
          "symbol": "circle"
         },
         "mode": "lines",
         "name": "Миколаївська",
         "orientation": "h",
         "showlegend": true,
         "type": "scatter",
         "x": [
          2019,
          2020,
          2021
         ],
         "xaxis": "x",
         "y": [
          -8.4,
          -8.8,
          -11.4
         ],
         "yaxis": "y"
        },
        {
         "hovertemplate": "регіон=Одеська<br>рік=%{x}<br>природний  приріст, скорочення (-)=%{y}<extra></extra>",
         "legendgroup": "Одеська",
         "line": {
          "color": "#ab63fa",
          "dash": "solid"
         },
         "marker": {
          "symbol": "circle"
         },
         "mode": "lines",
         "name": "Одеська",
         "orientation": "h",
         "showlegend": true,
         "type": "scatter",
         "x": [
          2019,
          2020,
          2021
         ],
         "xaxis": "x",
         "y": [
          -5.3,
          -5.6,
          -8.2
         ],
         "yaxis": "y"
        },
        {
         "hovertemplate": "регіон=Полтавська<br>рік=%{x}<br>природний  приріст, скорочення (-)=%{y}<extra></extra>",
         "legendgroup": "Полтавська",
         "line": {
          "color": "#FFA15A",
          "dash": "solid"
         },
         "marker": {
          "symbol": "circle"
         },
         "mode": "lines",
         "name": "Полтавська",
         "orientation": "h",
         "showlegend": true,
         "type": "scatter",
         "x": [
          2019,
          2020,
          2021
         ],
         "xaxis": "x",
         "y": [
          -13,
          -14.4,
          -15.8
         ],
         "yaxis": "y"
        },
        {
         "hovertemplate": "регіон=Рівненська<br>рік=%{x}<br>природний  приріст, скорочення (-)=%{y}<extra></extra>",
         "legendgroup": "Рівненська",
         "line": {
          "color": "#19d3f3",
          "dash": "solid"
         },
         "marker": {
          "symbol": "circle"
         },
         "mode": "lines",
         "name": "Рівненська",
         "orientation": "h",
         "showlegend": true,
         "type": "scatter",
         "x": [
          2019,
          2020,
          2021
         ],
         "xaxis": "x",
         "y": [
          -1.9,
          -2.9,
          -4.3
         ],
         "yaxis": "y"
        },
        {
         "hovertemplate": "регіон=Сумська<br>рік=%{x}<br>природний  приріст, скорочення (-)=%{y}<extra></extra>",
         "legendgroup": "Сумська",
         "line": {
          "color": "#FF6692",
          "dash": "solid"
         },
         "marker": {
          "symbol": "circle"
         },
         "mode": "lines",
         "name": "Сумська",
         "orientation": "h",
         "showlegend": true,
         "type": "scatter",
         "x": [
          2019,
          2020,
          2021
         ],
         "xaxis": "x",
         "y": [
          -14.5,
          -16.5,
          -18.3
         ],
         "yaxis": "y"
        },
        {
         "hovertemplate": "регіон=Тернопільська<br>рік=%{x}<br>природний  приріст, скорочення (-)=%{y}<extra></extra>",
         "legendgroup": "Тернопільська",
         "line": {
          "color": "#B6E880",
          "dash": "solid"
         },
         "marker": {
          "symbol": "circle"
         },
         "mode": "lines",
         "name": "Тернопільська",
         "orientation": "h",
         "showlegend": true,
         "type": "scatter",
         "x": [
          2019,
          2020,
          2021
         ],
         "xaxis": "x",
         "y": [
          -9.7,
          -10.5,
          -11.9
         ],
         "yaxis": "y"
        },
        {
         "hovertemplate": "регіон=Харківська<br>рік=%{x}<br>природний  приріст, скорочення (-)=%{y}<extra></extra>",
         "legendgroup": "Харківська",
         "line": {
          "color": "#FF97FF",
          "dash": "solid"
         },
         "marker": {
          "symbol": "circle"
         },
         "mode": "lines",
         "name": "Харківська",
         "orientation": "h",
         "showlegend": true,
         "type": "scatter",
         "x": [
          2019,
          2020,
          2021
         ],
         "xaxis": "x",
         "y": [
          -10.9,
          -12.1,
          -16.2
         ],
         "yaxis": "y"
        },
        {
         "hovertemplate": "регіон=Херсонська<br>рік=%{x}<br>природний  приріст, скорочення (-)=%{y}<extra></extra>",
         "legendgroup": "Херсонська",
         "line": {
          "color": "#FECB52",
          "dash": "solid"
         },
         "marker": {
          "symbol": "circle"
         },
         "mode": "lines",
         "name": "Херсонська",
         "orientation": "h",
         "showlegend": true,
         "type": "scatter",
         "x": [
          2019,
          2020,
          2021
         ],
         "xaxis": "x",
         "y": [
          -7.2,
          -8,
          -10.5
         ],
         "yaxis": "y"
        },
        {
         "hovertemplate": "регіон=Хмельницька<br>рік=%{x}<br>природний  приріст, скорочення (-)=%{y}<extra></extra>",
         "legendgroup": "Хмельницька",
         "line": {
          "color": "#636efa",
          "dash": "solid"
         },
         "marker": {
          "symbol": "circle"
         },
         "mode": "lines",
         "name": "Хмельницька",
         "orientation": "h",
         "showlegend": true,
         "type": "scatter",
         "x": [
          2019,
          2020,
          2021
         ],
         "xaxis": "x",
         "y": [
          -13.5,
          -14.4,
          -17.2
         ],
         "yaxis": "y"
        },
        {
         "hovertemplate": "регіон=Черкаська<br>рік=%{x}<br>природний  приріст, скорочення (-)=%{y}<extra></extra>",
         "legendgroup": "Черкаська",
         "line": {
          "color": "#EF553B",
          "dash": "solid"
         },
         "marker": {
          "symbol": "circle"
         },
         "mode": "lines",
         "name": "Черкаська",
         "orientation": "h",
         "showlegend": true,
         "type": "scatter",
         "x": [
          2019,
          2020,
          2021
         ],
         "xaxis": "x",
         "y": [
          -13.6,
          -14.5,
          -16.5
         ],
         "yaxis": "y"
        },
        {
         "hovertemplate": "регіон=Чернівецька<br>рік=%{x}<br>природний  приріст, скорочення (-)=%{y}<extra></extra>",
         "legendgroup": "Чернівецька",
         "line": {
          "color": "#00cc96",
          "dash": "solid"
         },
         "marker": {
          "symbol": "circle"
         },
         "mode": "lines",
         "name": "Чернівецька",
         "orientation": "h",
         "showlegend": true,
         "type": "scatter",
         "x": [
          2019,
          2020,
          2021
         ],
         "xaxis": "x",
         "y": [
          -3.5,
          -5.5,
          -7.2
         ],
         "yaxis": "y"
        },
        {
         "hovertemplate": "регіон=Чернігівська<br>рік=%{x}<br>природний  приріст, скорочення (-)=%{y}<extra></extra>",
         "legendgroup": "Чернігівська",
         "line": {
          "color": "#ab63fa",
          "dash": "solid"
         },
         "marker": {
          "symbol": "circle"
         },
         "mode": "lines",
         "name": "Чернігівська",
         "orientation": "h",
         "showlegend": true,
         "type": "scatter",
         "x": [
          2019,
          2020,
          2021
         ],
         "xaxis": "x",
         "y": [
          -19.7,
          -20.3,
          -23.3
         ],
         "yaxis": "y"
        },
        {
         "hovertemplate": "регіон=м.Київ<br>рік=%{x}<br>природний  приріст, скорочення (-)=%{y}<extra></extra>",
         "legendgroup": "м.Київ",
         "line": {
          "color": "#FFA15A",
          "dash": "solid"
         },
         "marker": {
          "symbol": "circle"
         },
         "mode": "lines",
         "name": "м.Київ",
         "orientation": "h",
         "showlegend": true,
         "type": "scatter",
         "x": [
          2019,
          2020,
          2021
         ],
         "xaxis": "x",
         "y": [
          "х",
          "х",
          "х"
         ],
         "yaxis": "y"
        }
       ],
       "layout": {
        "height": 800,
        "legend": {
         "title": {
          "text": "регіон"
         },
         "tracegroupgap": 0
        },
        "template": {
         "data": {
          "bar": [
           {
            "error_x": {
             "color": "#2a3f5f"
            },
            "error_y": {
             "color": "#2a3f5f"
            },
            "marker": {
             "line": {
              "color": "#E5ECF6",
              "width": 0.5
             },
             "pattern": {
              "fillmode": "overlay",
              "size": 10,
              "solidity": 0.2
             }
            },
            "type": "bar"
           }
          ],
          "barpolar": [
           {
            "marker": {
             "line": {
              "color": "#E5ECF6",
              "width": 0.5
             },
             "pattern": {
              "fillmode": "overlay",
              "size": 10,
              "solidity": 0.2
             }
            },
            "type": "barpolar"
           }
          ],
          "carpet": [
           {
            "aaxis": {
             "endlinecolor": "#2a3f5f",
             "gridcolor": "white",
             "linecolor": "white",
             "minorgridcolor": "white",
             "startlinecolor": "#2a3f5f"
            },
            "baxis": {
             "endlinecolor": "#2a3f5f",
             "gridcolor": "white",
             "linecolor": "white",
             "minorgridcolor": "white",
             "startlinecolor": "#2a3f5f"
            },
            "type": "carpet"
           }
          ],
          "choropleth": [
           {
            "colorbar": {
             "outlinewidth": 0,
             "ticks": ""
            },
            "type": "choropleth"
           }
          ],
          "contour": [
           {
            "colorbar": {
             "outlinewidth": 0,
             "ticks": ""
            },
            "colorscale": [
             [
              0,
              "#0d0887"
             ],
             [
              0.1111111111111111,
              "#46039f"
             ],
             [
              0.2222222222222222,
              "#7201a8"
             ],
             [
              0.3333333333333333,
              "#9c179e"
             ],
             [
              0.4444444444444444,
              "#bd3786"
             ],
             [
              0.5555555555555556,
              "#d8576b"
             ],
             [
              0.6666666666666666,
              "#ed7953"
             ],
             [
              0.7777777777777778,
              "#fb9f3a"
             ],
             [
              0.8888888888888888,
              "#fdca26"
             ],
             [
              1,
              "#f0f921"
             ]
            ],
            "type": "contour"
           }
          ],
          "contourcarpet": [
           {
            "colorbar": {
             "outlinewidth": 0,
             "ticks": ""
            },
            "type": "contourcarpet"
           }
          ],
          "heatmap": [
           {
            "colorbar": {
             "outlinewidth": 0,
             "ticks": ""
            },
            "colorscale": [
             [
              0,
              "#0d0887"
             ],
             [
              0.1111111111111111,
              "#46039f"
             ],
             [
              0.2222222222222222,
              "#7201a8"
             ],
             [
              0.3333333333333333,
              "#9c179e"
             ],
             [
              0.4444444444444444,
              "#bd3786"
             ],
             [
              0.5555555555555556,
              "#d8576b"
             ],
             [
              0.6666666666666666,
              "#ed7953"
             ],
             [
              0.7777777777777778,
              "#fb9f3a"
             ],
             [
              0.8888888888888888,
              "#fdca26"
             ],
             [
              1,
              "#f0f921"
             ]
            ],
            "type": "heatmap"
           }
          ],
          "heatmapgl": [
           {
            "colorbar": {
             "outlinewidth": 0,
             "ticks": ""
            },
            "colorscale": [
             [
              0,
              "#0d0887"
             ],
             [
              0.1111111111111111,
              "#46039f"
             ],
             [
              0.2222222222222222,
              "#7201a8"
             ],
             [
              0.3333333333333333,
              "#9c179e"
             ],
             [
              0.4444444444444444,
              "#bd3786"
             ],
             [
              0.5555555555555556,
              "#d8576b"
             ],
             [
              0.6666666666666666,
              "#ed7953"
             ],
             [
              0.7777777777777778,
              "#fb9f3a"
             ],
             [
              0.8888888888888888,
              "#fdca26"
             ],
             [
              1,
              "#f0f921"
             ]
            ],
            "type": "heatmapgl"
           }
          ],
          "histogram": [
           {
            "marker": {
             "pattern": {
              "fillmode": "overlay",
              "size": 10,
              "solidity": 0.2
             }
            },
            "type": "histogram"
           }
          ],
          "histogram2d": [
           {
            "colorbar": {
             "outlinewidth": 0,
             "ticks": ""
            },
            "colorscale": [
             [
              0,
              "#0d0887"
             ],
             [
              0.1111111111111111,
              "#46039f"
             ],
             [
              0.2222222222222222,
              "#7201a8"
             ],
             [
              0.3333333333333333,
              "#9c179e"
             ],
             [
              0.4444444444444444,
              "#bd3786"
             ],
             [
              0.5555555555555556,
              "#d8576b"
             ],
             [
              0.6666666666666666,
              "#ed7953"
             ],
             [
              0.7777777777777778,
              "#fb9f3a"
             ],
             [
              0.8888888888888888,
              "#fdca26"
             ],
             [
              1,
              "#f0f921"
             ]
            ],
            "type": "histogram2d"
           }
          ],
          "histogram2dcontour": [
           {
            "colorbar": {
             "outlinewidth": 0,
             "ticks": ""
            },
            "colorscale": [
             [
              0,
              "#0d0887"
             ],
             [
              0.1111111111111111,
              "#46039f"
             ],
             [
              0.2222222222222222,
              "#7201a8"
             ],
             [
              0.3333333333333333,
              "#9c179e"
             ],
             [
              0.4444444444444444,
              "#bd3786"
             ],
             [
              0.5555555555555556,
              "#d8576b"
             ],
             [
              0.6666666666666666,
              "#ed7953"
             ],
             [
              0.7777777777777778,
              "#fb9f3a"
             ],
             [
              0.8888888888888888,
              "#fdca26"
             ],
             [
              1,
              "#f0f921"
             ]
            ],
            "type": "histogram2dcontour"
           }
          ],
          "mesh3d": [
           {
            "colorbar": {
             "outlinewidth": 0,
             "ticks": ""
            },
            "type": "mesh3d"
           }
          ],
          "parcoords": [
           {
            "line": {
             "colorbar": {
              "outlinewidth": 0,
              "ticks": ""
             }
            },
            "type": "parcoords"
           }
          ],
          "pie": [
           {
            "automargin": true,
            "type": "pie"
           }
          ],
          "scatter": [
           {
            "fillpattern": {
             "fillmode": "overlay",
             "size": 10,
             "solidity": 0.2
            },
            "type": "scatter"
           }
          ],
          "scatter3d": [
           {
            "line": {
             "colorbar": {
              "outlinewidth": 0,
              "ticks": ""
             }
            },
            "marker": {
             "colorbar": {
              "outlinewidth": 0,
              "ticks": ""
             }
            },
            "type": "scatter3d"
           }
          ],
          "scattercarpet": [
           {
            "marker": {
             "colorbar": {
              "outlinewidth": 0,
              "ticks": ""
             }
            },
            "type": "scattercarpet"
           }
          ],
          "scattergeo": [
           {
            "marker": {
             "colorbar": {
              "outlinewidth": 0,
              "ticks": ""
             }
            },
            "type": "scattergeo"
           }
          ],
          "scattergl": [
           {
            "marker": {
             "colorbar": {
              "outlinewidth": 0,
              "ticks": ""
             }
            },
            "type": "scattergl"
           }
          ],
          "scattermapbox": [
           {
            "marker": {
             "colorbar": {
              "outlinewidth": 0,
              "ticks": ""
             }
            },
            "type": "scattermapbox"
           }
          ],
          "scatterpolar": [
           {
            "marker": {
             "colorbar": {
              "outlinewidth": 0,
              "ticks": ""
             }
            },
            "type": "scatterpolar"
           }
          ],
          "scatterpolargl": [
           {
            "marker": {
             "colorbar": {
              "outlinewidth": 0,
              "ticks": ""
             }
            },
            "type": "scatterpolargl"
           }
          ],
          "scatterternary": [
           {
            "marker": {
             "colorbar": {
              "outlinewidth": 0,
              "ticks": ""
             }
            },
            "type": "scatterternary"
           }
          ],
          "surface": [
           {
            "colorbar": {
             "outlinewidth": 0,
             "ticks": ""
            },
            "colorscale": [
             [
              0,
              "#0d0887"
             ],
             [
              0.1111111111111111,
              "#46039f"
             ],
             [
              0.2222222222222222,
              "#7201a8"
             ],
             [
              0.3333333333333333,
              "#9c179e"
             ],
             [
              0.4444444444444444,
              "#bd3786"
             ],
             [
              0.5555555555555556,
              "#d8576b"
             ],
             [
              0.6666666666666666,
              "#ed7953"
             ],
             [
              0.7777777777777778,
              "#fb9f3a"
             ],
             [
              0.8888888888888888,
              "#fdca26"
             ],
             [
              1,
              "#f0f921"
             ]
            ],
            "type": "surface"
           }
          ],
          "table": [
           {
            "cells": {
             "fill": {
              "color": "#EBF0F8"
             },
             "line": {
              "color": "white"
             }
            },
            "header": {
             "fill": {
              "color": "#C8D4E3"
             },
             "line": {
              "color": "white"
             }
            },
            "type": "table"
           }
          ]
         },
         "layout": {
          "annotationdefaults": {
           "arrowcolor": "#2a3f5f",
           "arrowhead": 0,
           "arrowwidth": 1
          },
          "autotypenumbers": "strict",
          "coloraxis": {
           "colorbar": {
            "outlinewidth": 0,
            "ticks": ""
           }
          },
          "colorscale": {
           "diverging": [
            [
             0,
             "#8e0152"
            ],
            [
             0.1,
             "#c51b7d"
            ],
            [
             0.2,
             "#de77ae"
            ],
            [
             0.3,
             "#f1b6da"
            ],
            [
             0.4,
             "#fde0ef"
            ],
            [
             0.5,
             "#f7f7f7"
            ],
            [
             0.6,
             "#e6f5d0"
            ],
            [
             0.7,
             "#b8e186"
            ],
            [
             0.8,
             "#7fbc41"
            ],
            [
             0.9,
             "#4d9221"
            ],
            [
             1,
             "#276419"
            ]
           ],
           "sequential": [
            [
             0,
             "#0d0887"
            ],
            [
             0.1111111111111111,
             "#46039f"
            ],
            [
             0.2222222222222222,
             "#7201a8"
            ],
            [
             0.3333333333333333,
             "#9c179e"
            ],
            [
             0.4444444444444444,
             "#bd3786"
            ],
            [
             0.5555555555555556,
             "#d8576b"
            ],
            [
             0.6666666666666666,
             "#ed7953"
            ],
            [
             0.7777777777777778,
             "#fb9f3a"
            ],
            [
             0.8888888888888888,
             "#fdca26"
            ],
            [
             1,
             "#f0f921"
            ]
           ],
           "sequentialminus": [
            [
             0,
             "#0d0887"
            ],
            [
             0.1111111111111111,
             "#46039f"
            ],
            [
             0.2222222222222222,
             "#7201a8"
            ],
            [
             0.3333333333333333,
             "#9c179e"
            ],
            [
             0.4444444444444444,
             "#bd3786"
            ],
            [
             0.5555555555555556,
             "#d8576b"
            ],
            [
             0.6666666666666666,
             "#ed7953"
            ],
            [
             0.7777777777777778,
             "#fb9f3a"
            ],
            [
             0.8888888888888888,
             "#fdca26"
            ],
            [
             1,
             "#f0f921"
            ]
           ]
          },
          "colorway": [
           "#636efa",
           "#EF553B",
           "#00cc96",
           "#ab63fa",
           "#FFA15A",
           "#19d3f3",
           "#FF6692",
           "#B6E880",
           "#FF97FF",
           "#FECB52"
          ],
          "font": {
           "color": "#2a3f5f"
          },
          "geo": {
           "bgcolor": "white",
           "lakecolor": "white",
           "landcolor": "#E5ECF6",
           "showlakes": true,
           "showland": true,
           "subunitcolor": "white"
          },
          "hoverlabel": {
           "align": "left"
          },
          "hovermode": "closest",
          "mapbox": {
           "style": "light"
          },
          "paper_bgcolor": "white",
          "plot_bgcolor": "#E5ECF6",
          "polar": {
           "angularaxis": {
            "gridcolor": "white",
            "linecolor": "white",
            "ticks": ""
           },
           "bgcolor": "#E5ECF6",
           "radialaxis": {
            "gridcolor": "white",
            "linecolor": "white",
            "ticks": ""
           }
          },
          "scene": {
           "xaxis": {
            "backgroundcolor": "#E5ECF6",
            "gridcolor": "white",
            "gridwidth": 2,
            "linecolor": "white",
            "showbackground": true,
            "ticks": "",
            "zerolinecolor": "white"
           },
           "yaxis": {
            "backgroundcolor": "#E5ECF6",
            "gridcolor": "white",
            "gridwidth": 2,
            "linecolor": "white",
            "showbackground": true,
            "ticks": "",
            "zerolinecolor": "white"
           },
           "zaxis": {
            "backgroundcolor": "#E5ECF6",
            "gridcolor": "white",
            "gridwidth": 2,
            "linecolor": "white",
            "showbackground": true,
            "ticks": "",
            "zerolinecolor": "white"
           }
          },
          "shapedefaults": {
           "line": {
            "color": "#2a3f5f"
           }
          },
          "ternary": {
           "aaxis": {
            "gridcolor": "white",
            "linecolor": "white",
            "ticks": ""
           },
           "baxis": {
            "gridcolor": "white",
            "linecolor": "white",
            "ticks": ""
           },
           "bgcolor": "#E5ECF6",
           "caxis": {
            "gridcolor": "white",
            "linecolor": "white",
            "ticks": ""
           }
          },
          "title": {
           "x": 0.05
          },
          "xaxis": {
           "automargin": true,
           "gridcolor": "white",
           "linecolor": "white",
           "ticks": "",
           "title": {
            "standoff": 15
           },
           "zerolinecolor": "white",
           "zerolinewidth": 2
          },
          "yaxis": {
           "automargin": true,
           "gridcolor": "white",
           "linecolor": "white",
           "ticks": "",
           "title": {
            "standoff": 15
           },
           "zerolinecolor": "white",
           "zerolinewidth": 2
          }
         }
        },
        "title": {
         "text": "Природній приріст міського населення"
        },
        "xaxis": {
         "anchor": "y",
         "domain": [
          0,
          1
         ],
         "title": {
          "text": "рік"
         }
        },
        "yaxis": {
         "anchor": "x",
         "domain": [
          0,
          1
         ],
         "title": {
          "text": "природний  приріст, скорочення (-)"
         }
        }
       }
      }
     },
     "metadata": {},
     "output_type": "display_data"
    }
   ],
   "source": [
    "fig = px.line(df_village, x='рік', y='природний  приріст, скорочення (-)', color='регіон', title='Природній приріст сільського населення')\n",
    "fig.layout.height = 800\n",
    "fig.show()"
   ]
  },
  {
   "attachments": {},
   "cell_type": "markdown",
   "metadata": {},
   "source": [
    "В обох випадках міської та сільскї місцевості, індекс природнього приросту населення за досліджувані роки є відʼємним. Що ще важливіше, з кожним роком він все знижується."
   ]
  }
 ],
 "metadata": {
  "kernelspec": {
   "display_name": "Python 3",
   "language": "python",
   "name": "python3"
  },
  "language_info": {
   "codemirror_mode": {
    "name": "ipython",
    "version": 3
   },
   "file_extension": ".py",
   "mimetype": "text/x-python",
   "name": "python",
   "nbconvert_exporter": "python",
   "pygments_lexer": "ipython3",
   "version": "3.10.9"
  },
  "orig_nbformat": 4
 },
 "nbformat": 4,
 "nbformat_minor": 2
}
