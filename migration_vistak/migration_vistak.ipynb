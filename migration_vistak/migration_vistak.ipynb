{
 "cells": [
  {
   "cell_type": "code",
   "execution_count": 1,
   "metadata": {},
   "outputs": [],
   "source": [
    "import pandas as pd\n",
    "import chart_studio.plotly as py\n",
    "import plotly.express as px"
   ]
  },
  {
   "cell_type": "code",
   "execution_count": 2,
   "metadata": {},
   "outputs": [],
   "source": [
    "import plotly.graph_objects as go\n",
    "from plotly.subplots import make_subplots"
   ]
  },
  {
   "cell_type": "markdown",
   "metadata": {},
   "source": [
    "# Міграція за кордон протягом 2019-2021 років"
   ]
  },
  {
   "cell_type": "code",
   "execution_count": 5,
   "metadata": {},
   "outputs": [],
   "source": [
    "df_migr= pd.read_excel('migration_abroad.xlsx')"
   ]
  },
  {
   "cell_type": "code",
   "execution_count": 6,
   "metadata": {},
   "outputs": [
    {
     "data": {
      "application/vnd.plotly.v1+json": {
       "config": {
        "plotlyServerURL": "https://plot.ly"
       },
       "data": [
        {
         "alignmentgroup": "True",
         "hovertemplate": "Вік=%{x}<br>Рік=2019<br>Кількість вибулих=%{text}<extra></extra>",
         "ids": [
          661
         ],
         "legendgroup": "0-4",
         "marker": {
          "color": "rgb(103,0,31)",
          "pattern": {
           "shape": ""
          }
         },
         "name": "0-4",
         "offsetgroup": "0-4",
         "orientation": "v",
         "showlegend": true,
         "text": [
          661
         ],
         "textposition": "auto",
         "type": "bar",
         "x": [
          "0-4"
         ],
         "xaxis": "x",
         "y": [
          661
         ],
         "yaxis": "y"
        },
        {
         "alignmentgroup": "True",
         "hovertemplate": "Вік=%{x}<br>Рік=2019<br>Кількість вибулих=%{text}<extra></extra>",
         "ids": [
          863
         ],
         "legendgroup": " 5-9",
         "marker": {
          "color": "rgb(178,24,43)",
          "pattern": {
           "shape": ""
          }
         },
         "name": " 5-9",
         "offsetgroup": " 5-9",
         "orientation": "v",
         "showlegend": true,
         "text": [
          863
         ],
         "textposition": "auto",
         "type": "bar",
         "x": [
          " 5-9"
         ],
         "xaxis": "x",
         "y": [
          863
         ],
         "yaxis": "y"
        },
        {
         "alignmentgroup": "True",
         "hovertemplate": "Вік=%{x}<br>Рік=2019<br>Кількість вибулих=%{text}<extra></extra>",
         "ids": [
          754
         ],
         "legendgroup": " 10-14",
         "marker": {
          "color": "rgb(214,96,77)",
          "pattern": {
           "shape": ""
          }
         },
         "name": " 10-14",
         "offsetgroup": " 10-14",
         "orientation": "v",
         "showlegend": true,
         "text": [
          754
         ],
         "textposition": "auto",
         "type": "bar",
         "x": [
          " 10-14"
         ],
         "xaxis": "x",
         "y": [
          754
         ],
         "yaxis": "y"
        },
        {
         "alignmentgroup": "True",
         "hovertemplate": "Вік=%{x}<br>Рік=2019<br>Кількість вибулих=%{text}<extra></extra>",
         "ids": [
          1334
         ],
         "legendgroup": "15-19",
         "marker": {
          "color": "rgb(244,165,130)",
          "pattern": {
           "shape": ""
          }
         },
         "name": "15-19",
         "offsetgroup": "15-19",
         "orientation": "v",
         "showlegend": true,
         "text": [
          1334
         ],
         "textposition": "auto",
         "type": "bar",
         "x": [
          "15-19"
         ],
         "xaxis": "x",
         "y": [
          1334
         ],
         "yaxis": "y"
        },
        {
         "alignmentgroup": "True",
         "hovertemplate": "Вік=%{x}<br>Рік=2019<br>Кількість вибулих=%{text}<extra></extra>",
         "ids": [
          5670
         ],
         "legendgroup": "20-24",
         "marker": {
          "color": "rgb(253,219,199)",
          "pattern": {
           "shape": ""
          }
         },
         "name": "20-24",
         "offsetgroup": "20-24",
         "orientation": "v",
         "showlegend": true,
         "text": [
          5670
         ],
         "textposition": "auto",
         "type": "bar",
         "x": [
          "20-24"
         ],
         "xaxis": "x",
         "y": [
          5670
         ],
         "yaxis": "y"
        },
        {
         "alignmentgroup": "True",
         "hovertemplate": "Вік=%{x}<br>Рік=2019<br>Кількість вибулих=%{text}<extra></extra>",
         "ids": [
          4628
         ],
         "legendgroup": "25-29",
         "marker": {
          "color": "rgb(247,247,247)",
          "pattern": {
           "shape": ""
          }
         },
         "name": "25-29",
         "offsetgroup": "25-29",
         "orientation": "v",
         "showlegend": true,
         "text": [
          4628
         ],
         "textposition": "auto",
         "type": "bar",
         "x": [
          "25-29"
         ],
         "xaxis": "x",
         "y": [
          4628
         ],
         "yaxis": "y"
        },
        {
         "alignmentgroup": "True",
         "hovertemplate": "Вік=%{x}<br>Рік=2019<br>Кількість вибулих=%{text}<extra></extra>",
         "ids": [
          3054
         ],
         "legendgroup": "30-34",
         "marker": {
          "color": "rgb(209,229,240)",
          "pattern": {
           "shape": ""
          }
         },
         "name": "30-34",
         "offsetgroup": "30-34",
         "orientation": "v",
         "showlegend": true,
         "text": [
          3054
         ],
         "textposition": "auto",
         "type": "bar",
         "x": [
          "30-34"
         ],
         "xaxis": "x",
         "y": [
          3054
         ],
         "yaxis": "y"
        },
        {
         "alignmentgroup": "True",
         "hovertemplate": "Вік=%{x}<br>Рік=2019<br>Кількість вибулих=%{text}<extra></extra>",
         "ids": [
          2386
         ],
         "legendgroup": "35-39",
         "marker": {
          "color": "rgb(146,197,222)",
          "pattern": {
           "shape": ""
          }
         },
         "name": "35-39",
         "offsetgroup": "35-39",
         "orientation": "v",
         "showlegend": true,
         "text": [
          2386
         ],
         "textposition": "auto",
         "type": "bar",
         "x": [
          "35-39"
         ],
         "xaxis": "x",
         "y": [
          2386
         ],
         "yaxis": "y"
        },
        {
         "alignmentgroup": "True",
         "hovertemplate": "Вік=%{x}<br>Рік=2019<br>Кількість вибулих=%{text}<extra></extra>",
         "ids": [
          1878
         ],
         "legendgroup": "40-44",
         "marker": {
          "color": "rgb(67,147,195)",
          "pattern": {
           "shape": ""
          }
         },
         "name": "40-44",
         "offsetgroup": "40-44",
         "orientation": "v",
         "showlegend": true,
         "text": [
          1878
         ],
         "textposition": "auto",
         "type": "bar",
         "x": [
          "40-44"
         ],
         "xaxis": "x",
         "y": [
          1878
         ],
         "yaxis": "y"
        },
        {
         "alignmentgroup": "True",
         "hovertemplate": "Вік=%{x}<br>Рік=2019<br>Кількість вибулих=%{text}<extra></extra>",
         "ids": [
          1442
         ],
         "legendgroup": "45-49",
         "marker": {
          "color": "rgb(33,102,172)",
          "pattern": {
           "shape": ""
          }
         },
         "name": "45-49",
         "offsetgroup": "45-49",
         "orientation": "v",
         "showlegend": true,
         "text": [
          1442
         ],
         "textposition": "auto",
         "type": "bar",
         "x": [
          "45-49"
         ],
         "xaxis": "x",
         "y": [
          1442
         ],
         "yaxis": "y"
        },
        {
         "alignmentgroup": "True",
         "hovertemplate": "Вік=%{x}<br>Рік=2019<br>Кількість вибулих=%{text}<extra></extra>",
         "ids": [
          948
         ],
         "legendgroup": "50-54",
         "marker": {
          "color": "rgb(5,48,97)",
          "pattern": {
           "shape": ""
          }
         },
         "name": "50-54",
         "offsetgroup": "50-54",
         "orientation": "v",
         "showlegend": true,
         "text": [
          948
         ],
         "textposition": "auto",
         "type": "bar",
         "x": [
          "50-54"
         ],
         "xaxis": "x",
         "y": [
          948
         ],
         "yaxis": "y"
        },
        {
         "alignmentgroup": "True",
         "hovertemplate": "Вік=%{x}<br>Рік=2019<br>Кількість вибулих=%{text}<extra></extra>",
         "ids": [
          827
         ],
         "legendgroup": "55-59",
         "marker": {
          "color": "rgb(103,0,31)",
          "pattern": {
           "shape": ""
          }
         },
         "name": "55-59",
         "offsetgroup": "55-59",
         "orientation": "v",
         "showlegend": true,
         "text": [
          827
         ],
         "textposition": "auto",
         "type": "bar",
         "x": [
          "55-59"
         ],
         "xaxis": "x",
         "y": [
          827
         ],
         "yaxis": "y"
        },
        {
         "alignmentgroup": "True",
         "hovertemplate": "Вік=%{x}<br>Рік=2019<br>Кількість вибулих=%{text}<extra></extra>",
         "ids": [
          755
         ],
         "legendgroup": "60-64",
         "marker": {
          "color": "rgb(178,24,43)",
          "pattern": {
           "shape": ""
          }
         },
         "name": "60-64",
         "offsetgroup": "60-64",
         "orientation": "v",
         "showlegend": true,
         "text": [
          755
         ],
         "textposition": "auto",
         "type": "bar",
         "x": [
          "60-64"
         ],
         "xaxis": "x",
         "y": [
          755
         ],
         "yaxis": "y"
        },
        {
         "alignmentgroup": "True",
         "hovertemplate": "Вік=%{x}<br>Рік=2019<br>Кількість вибулих=%{text}<extra></extra>",
         "ids": [
          549
         ],
         "legendgroup": "65-69",
         "marker": {
          "color": "rgb(214,96,77)",
          "pattern": {
           "shape": ""
          }
         },
         "name": "65-69",
         "offsetgroup": "65-69",
         "orientation": "v",
         "showlegend": true,
         "text": [
          549
         ],
         "textposition": "auto",
         "type": "bar",
         "x": [
          "65-69"
         ],
         "xaxis": "x",
         "y": [
          549
         ],
         "yaxis": "y"
        },
        {
         "alignmentgroup": "True",
         "hovertemplate": "Вік=%{x}<br>Рік=2019<br>Кількість вибулих=%{text}<extra></extra>",
         "ids": [
          431
         ],
         "legendgroup": "70-74",
         "marker": {
          "color": "rgb(244,165,130)",
          "pattern": {
           "shape": ""
          }
         },
         "name": "70-74",
         "offsetgroup": "70-74",
         "orientation": "v",
         "showlegend": true,
         "text": [
          431
         ],
         "textposition": "auto",
         "type": "bar",
         "x": [
          "70-74"
         ],
         "xaxis": "x",
         "y": [
          431
         ],
         "yaxis": "y"
        },
        {
         "alignmentgroup": "True",
         "hovertemplate": "Вік=%{x}<br>Рік=2019<br>Кількість вибулих=%{text}<extra></extra>",
         "ids": [
          287
         ],
         "legendgroup": "75-79",
         "marker": {
          "color": "rgb(253,219,199)",
          "pattern": {
           "shape": ""
          }
         },
         "name": "75-79",
         "offsetgroup": "75-79",
         "orientation": "v",
         "showlegend": true,
         "text": [
          287
         ],
         "textposition": "auto",
         "type": "bar",
         "x": [
          "75-79"
         ],
         "xaxis": "x",
         "y": [
          287
         ],
         "yaxis": "y"
        },
        {
         "alignmentgroup": "True",
         "hovertemplate": "Вік=%{x}<br>Рік=2019<br>Кількість вибулих=%{text}<extra></extra>",
         "ids": [
          235
         ],
         "legendgroup": "80-84",
         "marker": {
          "color": "rgb(247,247,247)",
          "pattern": {
           "shape": ""
          }
         },
         "name": "80-84",
         "offsetgroup": "80-84",
         "orientation": "v",
         "showlegend": true,
         "text": [
          235
         ],
         "textposition": "auto",
         "type": "bar",
         "x": [
          "80-84"
         ],
         "xaxis": "x",
         "y": [
          235
         ],
         "yaxis": "y"
        },
        {
         "alignmentgroup": "True",
         "hovertemplate": "Вік=%{x}<br>Рік=2019<br>Кількість вибулих=%{text}<extra></extra>",
         "ids": [
          87
         ],
         "legendgroup": " 85 і старше",
         "marker": {
          "color": "rgb(209,229,240)",
          "pattern": {
           "shape": ""
          }
         },
         "name": " 85 і старше",
         "offsetgroup": " 85 і старше",
         "orientation": "v",
         "showlegend": true,
         "text": [
          87
         ],
         "textposition": "auto",
         "type": "bar",
         "x": [
          " 85 і старше"
         ],
         "xaxis": "x",
         "y": [
          87
         ],
         "yaxis": "y"
        }
       ],
       "frames": [
        {
         "data": [
          {
           "alignmentgroup": "True",
           "hovertemplate": "Вік=%{x}<br>Рік=2019<br>Кількість вибулих=%{text}<extra></extra>",
           "ids": [
            661
           ],
           "legendgroup": "0-4",
           "marker": {
            "color": "rgb(103,0,31)",
            "pattern": {
             "shape": ""
            }
           },
           "name": "0-4",
           "offsetgroup": "0-4",
           "orientation": "v",
           "showlegend": true,
           "text": [
            661
           ],
           "textposition": "auto",
           "type": "bar",
           "x": [
            "0-4"
           ],
           "xaxis": "x",
           "y": [
            661
           ],
           "yaxis": "y"
          },
          {
           "alignmentgroup": "True",
           "hovertemplate": "Вік=%{x}<br>Рік=2019<br>Кількість вибулих=%{text}<extra></extra>",
           "ids": [
            863
           ],
           "legendgroup": " 5-9",
           "marker": {
            "color": "rgb(178,24,43)",
            "pattern": {
             "shape": ""
            }
           },
           "name": " 5-9",
           "offsetgroup": " 5-9",
           "orientation": "v",
           "showlegend": true,
           "text": [
            863
           ],
           "textposition": "auto",
           "type": "bar",
           "x": [
            " 5-9"
           ],
           "xaxis": "x",
           "y": [
            863
           ],
           "yaxis": "y"
          },
          {
           "alignmentgroup": "True",
           "hovertemplate": "Вік=%{x}<br>Рік=2019<br>Кількість вибулих=%{text}<extra></extra>",
           "ids": [
            754
           ],
           "legendgroup": " 10-14",
           "marker": {
            "color": "rgb(214,96,77)",
            "pattern": {
             "shape": ""
            }
           },
           "name": " 10-14",
           "offsetgroup": " 10-14",
           "orientation": "v",
           "showlegend": true,
           "text": [
            754
           ],
           "textposition": "auto",
           "type": "bar",
           "x": [
            " 10-14"
           ],
           "xaxis": "x",
           "y": [
            754
           ],
           "yaxis": "y"
          },
          {
           "alignmentgroup": "True",
           "hovertemplate": "Вік=%{x}<br>Рік=2019<br>Кількість вибулих=%{text}<extra></extra>",
           "ids": [
            1334
           ],
           "legendgroup": "15-19",
           "marker": {
            "color": "rgb(244,165,130)",
            "pattern": {
             "shape": ""
            }
           },
           "name": "15-19",
           "offsetgroup": "15-19",
           "orientation": "v",
           "showlegend": true,
           "text": [
            1334
           ],
           "textposition": "auto",
           "type": "bar",
           "x": [
            "15-19"
           ],
           "xaxis": "x",
           "y": [
            1334
           ],
           "yaxis": "y"
          },
          {
           "alignmentgroup": "True",
           "hovertemplate": "Вік=%{x}<br>Рік=2019<br>Кількість вибулих=%{text}<extra></extra>",
           "ids": [
            5670
           ],
           "legendgroup": "20-24",
           "marker": {
            "color": "rgb(253,219,199)",
            "pattern": {
             "shape": ""
            }
           },
           "name": "20-24",
           "offsetgroup": "20-24",
           "orientation": "v",
           "showlegend": true,
           "text": [
            5670
           ],
           "textposition": "auto",
           "type": "bar",
           "x": [
            "20-24"
           ],
           "xaxis": "x",
           "y": [
            5670
           ],
           "yaxis": "y"
          },
          {
           "alignmentgroup": "True",
           "hovertemplate": "Вік=%{x}<br>Рік=2019<br>Кількість вибулих=%{text}<extra></extra>",
           "ids": [
            4628
           ],
           "legendgroup": "25-29",
           "marker": {
            "color": "rgb(247,247,247)",
            "pattern": {
             "shape": ""
            }
           },
           "name": "25-29",
           "offsetgroup": "25-29",
           "orientation": "v",
           "showlegend": true,
           "text": [
            4628
           ],
           "textposition": "auto",
           "type": "bar",
           "x": [
            "25-29"
           ],
           "xaxis": "x",
           "y": [
            4628
           ],
           "yaxis": "y"
          },
          {
           "alignmentgroup": "True",
           "hovertemplate": "Вік=%{x}<br>Рік=2019<br>Кількість вибулих=%{text}<extra></extra>",
           "ids": [
            3054
           ],
           "legendgroup": "30-34",
           "marker": {
            "color": "rgb(209,229,240)",
            "pattern": {
             "shape": ""
            }
           },
           "name": "30-34",
           "offsetgroup": "30-34",
           "orientation": "v",
           "showlegend": true,
           "text": [
            3054
           ],
           "textposition": "auto",
           "type": "bar",
           "x": [
            "30-34"
           ],
           "xaxis": "x",
           "y": [
            3054
           ],
           "yaxis": "y"
          },
          {
           "alignmentgroup": "True",
           "hovertemplate": "Вік=%{x}<br>Рік=2019<br>Кількість вибулих=%{text}<extra></extra>",
           "ids": [
            2386
           ],
           "legendgroup": "35-39",
           "marker": {
            "color": "rgb(146,197,222)",
            "pattern": {
             "shape": ""
            }
           },
           "name": "35-39",
           "offsetgroup": "35-39",
           "orientation": "v",
           "showlegend": true,
           "text": [
            2386
           ],
           "textposition": "auto",
           "type": "bar",
           "x": [
            "35-39"
           ],
           "xaxis": "x",
           "y": [
            2386
           ],
           "yaxis": "y"
          },
          {
           "alignmentgroup": "True",
           "hovertemplate": "Вік=%{x}<br>Рік=2019<br>Кількість вибулих=%{text}<extra></extra>",
           "ids": [
            1878
           ],
           "legendgroup": "40-44",
           "marker": {
            "color": "rgb(67,147,195)",
            "pattern": {
             "shape": ""
            }
           },
           "name": "40-44",
           "offsetgroup": "40-44",
           "orientation": "v",
           "showlegend": true,
           "text": [
            1878
           ],
           "textposition": "auto",
           "type": "bar",
           "x": [
            "40-44"
           ],
           "xaxis": "x",
           "y": [
            1878
           ],
           "yaxis": "y"
          },
          {
           "alignmentgroup": "True",
           "hovertemplate": "Вік=%{x}<br>Рік=2019<br>Кількість вибулих=%{text}<extra></extra>",
           "ids": [
            1442
           ],
           "legendgroup": "45-49",
           "marker": {
            "color": "rgb(33,102,172)",
            "pattern": {
             "shape": ""
            }
           },
           "name": "45-49",
           "offsetgroup": "45-49",
           "orientation": "v",
           "showlegend": true,
           "text": [
            1442
           ],
           "textposition": "auto",
           "type": "bar",
           "x": [
            "45-49"
           ],
           "xaxis": "x",
           "y": [
            1442
           ],
           "yaxis": "y"
          },
          {
           "alignmentgroup": "True",
           "hovertemplate": "Вік=%{x}<br>Рік=2019<br>Кількість вибулих=%{text}<extra></extra>",
           "ids": [
            948
           ],
           "legendgroup": "50-54",
           "marker": {
            "color": "rgb(5,48,97)",
            "pattern": {
             "shape": ""
            }
           },
           "name": "50-54",
           "offsetgroup": "50-54",
           "orientation": "v",
           "showlegend": true,
           "text": [
            948
           ],
           "textposition": "auto",
           "type": "bar",
           "x": [
            "50-54"
           ],
           "xaxis": "x",
           "y": [
            948
           ],
           "yaxis": "y"
          },
          {
           "alignmentgroup": "True",
           "hovertemplate": "Вік=%{x}<br>Рік=2019<br>Кількість вибулих=%{text}<extra></extra>",
           "ids": [
            827
           ],
           "legendgroup": "55-59",
           "marker": {
            "color": "rgb(103,0,31)",
            "pattern": {
             "shape": ""
            }
           },
           "name": "55-59",
           "offsetgroup": "55-59",
           "orientation": "v",
           "showlegend": true,
           "text": [
            827
           ],
           "textposition": "auto",
           "type": "bar",
           "x": [
            "55-59"
           ],
           "xaxis": "x",
           "y": [
            827
           ],
           "yaxis": "y"
          },
          {
           "alignmentgroup": "True",
           "hovertemplate": "Вік=%{x}<br>Рік=2019<br>Кількість вибулих=%{text}<extra></extra>",
           "ids": [
            755
           ],
           "legendgroup": "60-64",
           "marker": {
            "color": "rgb(178,24,43)",
            "pattern": {
             "shape": ""
            }
           },
           "name": "60-64",
           "offsetgroup": "60-64",
           "orientation": "v",
           "showlegend": true,
           "text": [
            755
           ],
           "textposition": "auto",
           "type": "bar",
           "x": [
            "60-64"
           ],
           "xaxis": "x",
           "y": [
            755
           ],
           "yaxis": "y"
          },
          {
           "alignmentgroup": "True",
           "hovertemplate": "Вік=%{x}<br>Рік=2019<br>Кількість вибулих=%{text}<extra></extra>",
           "ids": [
            549
           ],
           "legendgroup": "65-69",
           "marker": {
            "color": "rgb(214,96,77)",
            "pattern": {
             "shape": ""
            }
           },
           "name": "65-69",
           "offsetgroup": "65-69",
           "orientation": "v",
           "showlegend": true,
           "text": [
            549
           ],
           "textposition": "auto",
           "type": "bar",
           "x": [
            "65-69"
           ],
           "xaxis": "x",
           "y": [
            549
           ],
           "yaxis": "y"
          },
          {
           "alignmentgroup": "True",
           "hovertemplate": "Вік=%{x}<br>Рік=2019<br>Кількість вибулих=%{text}<extra></extra>",
           "ids": [
            431
           ],
           "legendgroup": "70-74",
           "marker": {
            "color": "rgb(244,165,130)",
            "pattern": {
             "shape": ""
            }
           },
           "name": "70-74",
           "offsetgroup": "70-74",
           "orientation": "v",
           "showlegend": true,
           "text": [
            431
           ],
           "textposition": "auto",
           "type": "bar",
           "x": [
            "70-74"
           ],
           "xaxis": "x",
           "y": [
            431
           ],
           "yaxis": "y"
          },
          {
           "alignmentgroup": "True",
           "hovertemplate": "Вік=%{x}<br>Рік=2019<br>Кількість вибулих=%{text}<extra></extra>",
           "ids": [
            287
           ],
           "legendgroup": "75-79",
           "marker": {
            "color": "rgb(253,219,199)",
            "pattern": {
             "shape": ""
            }
           },
           "name": "75-79",
           "offsetgroup": "75-79",
           "orientation": "v",
           "showlegend": true,
           "text": [
            287
           ],
           "textposition": "auto",
           "type": "bar",
           "x": [
            "75-79"
           ],
           "xaxis": "x",
           "y": [
            287
           ],
           "yaxis": "y"
          },
          {
           "alignmentgroup": "True",
           "hovertemplate": "Вік=%{x}<br>Рік=2019<br>Кількість вибулих=%{text}<extra></extra>",
           "ids": [
            235
           ],
           "legendgroup": "80-84",
           "marker": {
            "color": "rgb(247,247,247)",
            "pattern": {
             "shape": ""
            }
           },
           "name": "80-84",
           "offsetgroup": "80-84",
           "orientation": "v",
           "showlegend": true,
           "text": [
            235
           ],
           "textposition": "auto",
           "type": "bar",
           "x": [
            "80-84"
           ],
           "xaxis": "x",
           "y": [
            235
           ],
           "yaxis": "y"
          },
          {
           "alignmentgroup": "True",
           "hovertemplate": "Вік=%{x}<br>Рік=2019<br>Кількість вибулих=%{text}<extra></extra>",
           "ids": [
            87
           ],
           "legendgroup": " 85 і старше",
           "marker": {
            "color": "rgb(209,229,240)",
            "pattern": {
             "shape": ""
            }
           },
           "name": " 85 і старше",
           "offsetgroup": " 85 і старше",
           "orientation": "v",
           "showlegend": true,
           "text": [
            87
           ],
           "textposition": "auto",
           "type": "bar",
           "x": [
            " 85 і старше"
           ],
           "xaxis": "x",
           "y": [
            87
           ],
           "yaxis": "y"
          }
         ],
         "name": "2019"
        },
        {
         "data": [
          {
           "alignmentgroup": "True",
           "hovertemplate": "Вік=%{x}<br>Рік=2020<br>Кількість вибулих=%{text}<extra></extra>",
           "ids": [
            177
           ],
           "legendgroup": "0-4",
           "marker": {
            "color": "rgb(103,0,31)",
            "pattern": {
             "shape": ""
            }
           },
           "name": "0-4",
           "offsetgroup": "0-4",
           "orientation": "v",
           "showlegend": true,
           "text": [
            177
           ],
           "textposition": "auto",
           "type": "bar",
           "x": [
            "0-4"
           ],
           "xaxis": "x",
           "y": [
            177
           ],
           "yaxis": "y"
          },
          {
           "alignmentgroup": "True",
           "hovertemplate": "Вік=%{x}<br>Рік=2020<br>Кількість вибулих=%{text}<extra></extra>",
           "ids": [
            336
           ],
           "legendgroup": " 5-9",
           "marker": {
            "color": "rgb(178,24,43)",
            "pattern": {
             "shape": ""
            }
           },
           "name": " 5-9",
           "offsetgroup": " 5-9",
           "orientation": "v",
           "showlegend": true,
           "text": [
            336
           ],
           "textposition": "auto",
           "type": "bar",
           "x": [
            " 5-9"
           ],
           "xaxis": "x",
           "y": [
            336
           ],
           "yaxis": "y"
          },
          {
           "alignmentgroup": "True",
           "hovertemplate": "Вік=%{x}<br>Рік=2020<br>Кількість вибулих=%{text}<extra></extra>",
           "ids": [
            287
           ],
           "legendgroup": " 10-14",
           "marker": {
            "color": "rgb(214,96,77)",
            "pattern": {
             "shape": ""
            }
           },
           "name": " 10-14",
           "offsetgroup": " 10-14",
           "orientation": "v",
           "showlegend": true,
           "text": [
            287
           ],
           "textposition": "auto",
           "type": "bar",
           "x": [
            " 10-14"
           ],
           "xaxis": "x",
           "y": [
            287
           ],
           "yaxis": "y"
          },
          {
           "alignmentgroup": "True",
           "hovertemplate": "Вік=%{x}<br>Рік=2020<br>Кількість вибулих=%{text}<extra></extra>",
           "ids": [
            1048
           ],
           "legendgroup": "15-19",
           "marker": {
            "color": "rgb(244,165,130)",
            "pattern": {
             "shape": ""
            }
           },
           "name": "15-19",
           "offsetgroup": "15-19",
           "orientation": "v",
           "showlegend": true,
           "text": [
            1048
           ],
           "textposition": "auto",
           "type": "bar",
           "x": [
            "15-19"
           ],
           "xaxis": "x",
           "y": [
            1048
           ],
           "yaxis": "y"
          },
          {
           "alignmentgroup": "True",
           "hovertemplate": "Вік=%{x}<br>Рік=2020<br>Кількість вибулих=%{text}<extra></extra>",
           "ids": [
            4984
           ],
           "legendgroup": "20-24",
           "marker": {
            "color": "rgb(253,219,199)",
            "pattern": {
             "shape": ""
            }
           },
           "name": "20-24",
           "offsetgroup": "20-24",
           "orientation": "v",
           "showlegend": true,
           "text": [
            4984
           ],
           "textposition": "auto",
           "type": "bar",
           "x": [
            "20-24"
           ],
           "xaxis": "x",
           "y": [
            4984
           ],
           "yaxis": "y"
          },
          {
           "alignmentgroup": "True",
           "hovertemplate": "Вік=%{x}<br>Рік=2020<br>Кількість вибулих=%{text}<extra></extra>",
           "ids": [
            3959
           ],
           "legendgroup": "25-29",
           "marker": {
            "color": "rgb(247,247,247)",
            "pattern": {
             "shape": ""
            }
           },
           "name": "25-29",
           "offsetgroup": "25-29",
           "orientation": "v",
           "showlegend": true,
           "text": [
            3959
           ],
           "textposition": "auto",
           "type": "bar",
           "x": [
            "25-29"
           ],
           "xaxis": "x",
           "y": [
            3959
           ],
           "yaxis": "y"
          },
          {
           "alignmentgroup": "True",
           "hovertemplate": "Вік=%{x}<br>Рік=2020<br>Кількість вибулих=%{text}<extra></extra>",
           "ids": [
            2126
           ],
           "legendgroup": "30-34",
           "marker": {
            "color": "rgb(209,229,240)",
            "pattern": {
             "shape": ""
            }
           },
           "name": "30-34",
           "offsetgroup": "30-34",
           "orientation": "v",
           "showlegend": true,
           "text": [
            2126
           ],
           "textposition": "auto",
           "type": "bar",
           "x": [
            "30-34"
           ],
           "xaxis": "x",
           "y": [
            2126
           ],
           "yaxis": "y"
          },
          {
           "alignmentgroup": "True",
           "hovertemplate": "Вік=%{x}<br>Рік=2020<br>Кількість вибулих=%{text}<extra></extra>",
           "ids": [
            1588
           ],
           "legendgroup": "35-39",
           "marker": {
            "color": "rgb(146,197,222)",
            "pattern": {
             "shape": ""
            }
           },
           "name": "35-39",
           "offsetgroup": "35-39",
           "orientation": "v",
           "showlegend": true,
           "text": [
            1588
           ],
           "textposition": "auto",
           "type": "bar",
           "x": [
            "35-39"
           ],
           "xaxis": "x",
           "y": [
            1588
           ],
           "yaxis": "y"
          },
          {
           "alignmentgroup": "True",
           "hovertemplate": "Вік=%{x}<br>Рік=2020<br>Кількість вибулих=%{text}<extra></extra>",
           "ids": [
            1255
           ],
           "legendgroup": "40-44",
           "marker": {
            "color": "rgb(67,147,195)",
            "pattern": {
             "shape": ""
            }
           },
           "name": "40-44",
           "offsetgroup": "40-44",
           "orientation": "v",
           "showlegend": true,
           "text": [
            1255
           ],
           "textposition": "auto",
           "type": "bar",
           "x": [
            "40-44"
           ],
           "xaxis": "x",
           "y": [
            1255
           ],
           "yaxis": "y"
          },
          {
           "alignmentgroup": "True",
           "hovertemplate": "Вік=%{x}<br>Рік=2020<br>Кількість вибулих=%{text}<extra></extra>",
           "ids": [
            958
           ],
           "legendgroup": "45-49",
           "marker": {
            "color": "rgb(33,102,172)",
            "pattern": {
             "shape": ""
            }
           },
           "name": "45-49",
           "offsetgroup": "45-49",
           "orientation": "v",
           "showlegend": true,
           "text": [
            958
           ],
           "textposition": "auto",
           "type": "bar",
           "x": [
            "45-49"
           ],
           "xaxis": "x",
           "y": [
            958
           ],
           "yaxis": "y"
          },
          {
           "alignmentgroup": "True",
           "hovertemplate": "Вік=%{x}<br>Рік=2020<br>Кількість вибулих=%{text}<extra></extra>",
           "ids": [
            711
           ],
           "legendgroup": "50-54",
           "marker": {
            "color": "rgb(5,48,97)",
            "pattern": {
             "shape": ""
            }
           },
           "name": "50-54",
           "offsetgroup": "50-54",
           "orientation": "v",
           "showlegend": true,
           "text": [
            711
           ],
           "textposition": "auto",
           "type": "bar",
           "x": [
            "50-54"
           ],
           "xaxis": "x",
           "y": [
            711
           ],
           "yaxis": "y"
          },
          {
           "alignmentgroup": "True",
           "hovertemplate": "Вік=%{x}<br>Рік=2020<br>Кількість вибулих=%{text}<extra></extra>",
           "ids": [
            463
           ],
           "legendgroup": "55-59",
           "marker": {
            "color": "rgb(103,0,31)",
            "pattern": {
             "shape": ""
            }
           },
           "name": "55-59",
           "offsetgroup": "55-59",
           "orientation": "v",
           "showlegend": true,
           "text": [
            463
           ],
           "textposition": "auto",
           "type": "bar",
           "x": [
            "55-59"
           ],
           "xaxis": "x",
           "y": [
            463
           ],
           "yaxis": "y"
          },
          {
           "alignmentgroup": "True",
           "hovertemplate": "Вік=%{x}<br>Рік=2020<br>Кількість вибулих=%{text}<extra></extra>",
           "ids": [
            403
           ],
           "legendgroup": "60-64",
           "marker": {
            "color": "rgb(178,24,43)",
            "pattern": {
             "shape": ""
            }
           },
           "name": "60-64",
           "offsetgroup": "60-64",
           "orientation": "v",
           "showlegend": true,
           "text": [
            403
           ],
           "textposition": "auto",
           "type": "bar",
           "x": [
            "60-64"
           ],
           "xaxis": "x",
           "y": [
            403
           ],
           "yaxis": "y"
          },
          {
           "alignmentgroup": "True",
           "hovertemplate": "Вік=%{x}<br>Рік=2020<br>Кількість вибулих=%{text}<extra></extra>",
           "ids": [
            304
           ],
           "legendgroup": "65-69",
           "marker": {
            "color": "rgb(214,96,77)",
            "pattern": {
             "shape": ""
            }
           },
           "name": "65-69",
           "offsetgroup": "65-69",
           "orientation": "v",
           "showlegend": true,
           "text": [
            304
           ],
           "textposition": "auto",
           "type": "bar",
           "x": [
            "65-69"
           ],
           "xaxis": "x",
           "y": [
            304
           ],
           "yaxis": "y"
          },
          {
           "alignmentgroup": "True",
           "hovertemplate": "Вік=%{x}<br>Рік=2020<br>Кількість вибулих=%{text}<extra></extra>",
           "ids": [
            208
           ],
           "legendgroup": "70-74",
           "marker": {
            "color": "rgb(244,165,130)",
            "pattern": {
             "shape": ""
            }
           },
           "name": "70-74",
           "offsetgroup": "70-74",
           "orientation": "v",
           "showlegend": true,
           "text": [
            208
           ],
           "textposition": "auto",
           "type": "bar",
           "x": [
            "70-74"
           ],
           "xaxis": "x",
           "y": [
            208
           ],
           "yaxis": "y"
          },
          {
           "alignmentgroup": "True",
           "hovertemplate": "Вік=%{x}<br>Рік=2020<br>Кількість вибулих=%{text}<extra></extra>",
           "ids": [
            133
           ],
           "legendgroup": "75-79",
           "marker": {
            "color": "rgb(253,219,199)",
            "pattern": {
             "shape": ""
            }
           },
           "name": "75-79",
           "offsetgroup": "75-79",
           "orientation": "v",
           "showlegend": true,
           "text": [
            133
           ],
           "textposition": "auto",
           "type": "bar",
           "x": [
            "75-79"
           ],
           "xaxis": "x",
           "y": [
            133
           ],
           "yaxis": "y"
          },
          {
           "alignmentgroup": "True",
           "hovertemplate": "Вік=%{x}<br>Рік=2020<br>Кількість вибулих=%{text}<extra></extra>",
           "ids": [
            143
           ],
           "legendgroup": "80-84",
           "marker": {
            "color": "rgb(247,247,247)",
            "pattern": {
             "shape": ""
            }
           },
           "name": "80-84",
           "offsetgroup": "80-84",
           "orientation": "v",
           "showlegend": true,
           "text": [
            143
           ],
           "textposition": "auto",
           "type": "bar",
           "x": [
            "80-84"
           ],
           "xaxis": "x",
           "y": [
            143
           ],
           "yaxis": "y"
          },
          {
           "alignmentgroup": "True",
           "hovertemplate": "Вік=%{x}<br>Рік=2020<br>Кількість вибулих=%{text}<extra></extra>",
           "ids": [
            38
           ],
           "legendgroup": " 85 і старше",
           "marker": {
            "color": "rgb(209,229,240)",
            "pattern": {
             "shape": ""
            }
           },
           "name": " 85 і старше",
           "offsetgroup": " 85 і старше",
           "orientation": "v",
           "showlegend": true,
           "text": [
            38
           ],
           "textposition": "auto",
           "type": "bar",
           "x": [
            " 85 і старше"
           ],
           "xaxis": "x",
           "y": [
            38
           ],
           "yaxis": "y"
          }
         ],
         "name": "2020"
        },
        {
         "data": [
          {
           "alignmentgroup": "True",
           "hovertemplate": "Вік=%{x}<br>Рік=2021<br>Кількість вибулих=%{text}<extra></extra>",
           "ids": [
            267
           ],
           "legendgroup": "0-4",
           "marker": {
            "color": "rgb(103,0,31)",
            "pattern": {
             "shape": ""
            }
           },
           "name": "0-4",
           "offsetgroup": "0-4",
           "orientation": "v",
           "showlegend": true,
           "text": [
            267
           ],
           "textposition": "auto",
           "type": "bar",
           "x": [
            "0-4"
           ],
           "xaxis": "x",
           "y": [
            267
           ],
           "yaxis": "y"
          },
          {
           "alignmentgroup": "True",
           "hovertemplate": "Вік=%{x}<br>Рік=2021<br>Кількість вибулих=%{text}<extra></extra>",
           "ids": [
            393
           ],
           "legendgroup": " 5-9",
           "marker": {
            "color": "rgb(178,24,43)",
            "pattern": {
             "shape": ""
            }
           },
           "name": " 5-9",
           "offsetgroup": " 5-9",
           "orientation": "v",
           "showlegend": true,
           "text": [
            393
           ],
           "textposition": "auto",
           "type": "bar",
           "x": [
            " 5-9"
           ],
           "xaxis": "x",
           "y": [
            393
           ],
           "yaxis": "y"
          },
          {
           "alignmentgroup": "True",
           "hovertemplate": "Вік=%{x}<br>Рік=2021<br>Кількість вибулих=%{text}<extra></extra>",
           "ids": [
            398
           ],
           "legendgroup": " 10-14",
           "marker": {
            "color": "rgb(214,96,77)",
            "pattern": {
             "shape": ""
            }
           },
           "name": " 10-14",
           "offsetgroup": " 10-14",
           "orientation": "v",
           "showlegend": true,
           "text": [
            398
           ],
           "textposition": "auto",
           "type": "bar",
           "x": [
            " 10-14"
           ],
           "xaxis": "x",
           "y": [
            398
           ],
           "yaxis": "y"
          },
          {
           "alignmentgroup": "True",
           "hovertemplate": "Вік=%{x}<br>Рік=2021<br>Кількість вибулих=%{text}<extra></extra>",
           "ids": [
            898
           ],
           "legendgroup": "15-19",
           "marker": {
            "color": "rgb(244,165,130)",
            "pattern": {
             "shape": ""
            }
           },
           "name": "15-19",
           "offsetgroup": "15-19",
           "orientation": "v",
           "showlegend": true,
           "text": [
            898
           ],
           "textposition": "auto",
           "type": "bar",
           "x": [
            "15-19"
           ],
           "xaxis": "x",
           "y": [
            898
           ],
           "yaxis": "y"
          },
          {
           "alignmentgroup": "True",
           "hovertemplate": "Вік=%{x}<br>Рік=2021<br>Кількість вибулих=%{text}<extra></extra>",
           "ids": [
            5446
           ],
           "legendgroup": "20-24",
           "marker": {
            "color": "rgb(253,219,199)",
            "pattern": {
             "shape": ""
            }
           },
           "name": "20-24",
           "offsetgroup": "20-24",
           "orientation": "v",
           "showlegend": true,
           "text": [
            5446
           ],
           "textposition": "auto",
           "type": "bar",
           "x": [
            "20-24"
           ],
           "xaxis": "x",
           "y": [
            5446
           ],
           "yaxis": "y"
          },
          {
           "alignmentgroup": "True",
           "hovertemplate": "Вік=%{x}<br>Рік=2021<br>Кількість вибулих=%{text}<extra></extra>",
           "ids": [
            4347
           ],
           "legendgroup": "25-29",
           "marker": {
            "color": "rgb(247,247,247)",
            "pattern": {
             "shape": ""
            }
           },
           "name": "25-29",
           "offsetgroup": "25-29",
           "orientation": "v",
           "showlegend": true,
           "text": [
            4347
           ],
           "textposition": "auto",
           "type": "bar",
           "x": [
            "25-29"
           ],
           "xaxis": "x",
           "y": [
            4347
           ],
           "yaxis": "y"
          },
          {
           "alignmentgroup": "True",
           "hovertemplate": "Вік=%{x}<br>Рік=2021<br>Кількість вибулих=%{text}<extra></extra>",
           "ids": [
            2719
           ],
           "legendgroup": "30-34",
           "marker": {
            "color": "rgb(209,229,240)",
            "pattern": {
             "shape": ""
            }
           },
           "name": "30-34",
           "offsetgroup": "30-34",
           "orientation": "v",
           "showlegend": true,
           "text": [
            2719
           ],
           "textposition": "auto",
           "type": "bar",
           "x": [
            "30-34"
           ],
           "xaxis": "x",
           "y": [
            2719
           ],
           "yaxis": "y"
          },
          {
           "alignmentgroup": "True",
           "hovertemplate": "Вік=%{x}<br>Рік=2021<br>Кількість вибулих=%{text}<extra></extra>",
           "ids": [
            2023
           ],
           "legendgroup": "35-39",
           "marker": {
            "color": "rgb(146,197,222)",
            "pattern": {
             "shape": ""
            }
           },
           "name": "35-39",
           "offsetgroup": "35-39",
           "orientation": "v",
           "showlegend": true,
           "text": [
            2023
           ],
           "textposition": "auto",
           "type": "bar",
           "x": [
            "35-39"
           ],
           "xaxis": "x",
           "y": [
            2023
           ],
           "yaxis": "y"
          },
          {
           "alignmentgroup": "True",
           "hovertemplate": "Вік=%{x}<br>Рік=2021<br>Кількість вибулих=%{text}<extra></extra>",
           "ids": [
            1524
           ],
           "legendgroup": "40-44",
           "marker": {
            "color": "rgb(67,147,195)",
            "pattern": {
             "shape": ""
            }
           },
           "name": "40-44",
           "offsetgroup": "40-44",
           "orientation": "v",
           "showlegend": true,
           "text": [
            1524
           ],
           "textposition": "auto",
           "type": "bar",
           "x": [
            "40-44"
           ],
           "xaxis": "x",
           "y": [
            1524
           ],
           "yaxis": "y"
          },
          {
           "alignmentgroup": "True",
           "hovertemplate": "Вік=%{x}<br>Рік=2021<br>Кількість вибулих=%{text}<extra></extra>",
           "ids": [
            1222
           ],
           "legendgroup": "45-49",
           "marker": {
            "color": "rgb(33,102,172)",
            "pattern": {
             "shape": ""
            }
           },
           "name": "45-49",
           "offsetgroup": "45-49",
           "orientation": "v",
           "showlegend": true,
           "text": [
            1222
           ],
           "textposition": "auto",
           "type": "bar",
           "x": [
            "45-49"
           ],
           "xaxis": "x",
           "y": [
            1222
           ],
           "yaxis": "y"
          },
          {
           "alignmentgroup": "True",
           "hovertemplate": "Вік=%{x}<br>Рік=2021<br>Кількість вибулих=%{text}<extra></extra>",
           "ids": [
            886
           ],
           "legendgroup": "50-54",
           "marker": {
            "color": "rgb(5,48,97)",
            "pattern": {
             "shape": ""
            }
           },
           "name": "50-54",
           "offsetgroup": "50-54",
           "orientation": "v",
           "showlegend": true,
           "text": [
            886
           ],
           "textposition": "auto",
           "type": "bar",
           "x": [
            "50-54"
           ],
           "xaxis": "x",
           "y": [
            886
           ],
           "yaxis": "y"
          },
          {
           "alignmentgroup": "True",
           "hovertemplate": "Вік=%{x}<br>Рік=2021<br>Кількість вибулих=%{text}<extra></extra>",
           "ids": [
            650
           ],
           "legendgroup": "55-59",
           "marker": {
            "color": "rgb(103,0,31)",
            "pattern": {
             "shape": ""
            }
           },
           "name": "55-59",
           "offsetgroup": "55-59",
           "orientation": "v",
           "showlegend": true,
           "text": [
            650
           ],
           "textposition": "auto",
           "type": "bar",
           "x": [
            "55-59"
           ],
           "xaxis": "x",
           "y": [
            650
           ],
           "yaxis": "y"
          },
          {
           "alignmentgroup": "True",
           "hovertemplate": "Вік=%{x}<br>Рік=2021<br>Кількість вибулих=%{text}<extra></extra>",
           "ids": [
            518
           ],
           "legendgroup": "60-64",
           "marker": {
            "color": "rgb(178,24,43)",
            "pattern": {
             "shape": ""
            }
           },
           "name": "60-64",
           "offsetgroup": "60-64",
           "orientation": "v",
           "showlegend": true,
           "text": [
            518
           ],
           "textposition": "auto",
           "type": "bar",
           "x": [
            "60-64"
           ],
           "xaxis": "x",
           "y": [
            518
           ],
           "yaxis": "y"
          },
          {
           "alignmentgroup": "True",
           "hovertemplate": "Вік=%{x}<br>Рік=2021<br>Кількість вибулих=%{text}<extra></extra>",
           "ids": [
            445
           ],
           "legendgroup": "65-69",
           "marker": {
            "color": "rgb(214,96,77)",
            "pattern": {
             "shape": ""
            }
           },
           "name": "65-69",
           "offsetgroup": "65-69",
           "orientation": "v",
           "showlegend": true,
           "text": [
            445
           ],
           "textposition": "auto",
           "type": "bar",
           "x": [
            "65-69"
           ],
           "xaxis": "x",
           "y": [
            445
           ],
           "yaxis": "y"
          },
          {
           "alignmentgroup": "True",
           "hovertemplate": "Вік=%{x}<br>Рік=2021<br>Кількість вибулих=%{text}<extra></extra>",
           "ids": [
            332
           ],
           "legendgroup": "70-74",
           "marker": {
            "color": "rgb(244,165,130)",
            "pattern": {
             "shape": ""
            }
           },
           "name": "70-74",
           "offsetgroup": "70-74",
           "orientation": "v",
           "showlegend": true,
           "text": [
            332
           ],
           "textposition": "auto",
           "type": "bar",
           "x": [
            "70-74"
           ],
           "xaxis": "x",
           "y": [
            332
           ],
           "yaxis": "y"
          },
          {
           "alignmentgroup": "True",
           "hovertemplate": "Вік=%{x}<br>Рік=2021<br>Кількість вибулих=%{text}<extra></extra>",
           "ids": [
            219
           ],
           "legendgroup": "75-79",
           "marker": {
            "color": "rgb(253,219,199)",
            "pattern": {
             "shape": ""
            }
           },
           "name": "75-79",
           "offsetgroup": "75-79",
           "orientation": "v",
           "showlegend": true,
           "text": [
            219
           ],
           "textposition": "auto",
           "type": "bar",
           "x": [
            "75-79"
           ],
           "xaxis": "x",
           "y": [
            219
           ],
           "yaxis": "y"
          },
          {
           "alignmentgroup": "True",
           "hovertemplate": "Вік=%{x}<br>Рік=2021<br>Кількість вибулих=%{text}<extra></extra>",
           "ids": [
            222
           ],
           "legendgroup": "80-84",
           "marker": {
            "color": "rgb(247,247,247)",
            "pattern": {
             "shape": ""
            }
           },
           "name": "80-84",
           "offsetgroup": "80-84",
           "orientation": "v",
           "showlegend": true,
           "text": [
            222
           ],
           "textposition": "auto",
           "type": "bar",
           "x": [
            "80-84"
           ],
           "xaxis": "x",
           "y": [
            222
           ],
           "yaxis": "y"
          },
          {
           "alignmentgroup": "True",
           "hovertemplate": "Вік=%{x}<br>Рік=2021<br>Кількість вибулих=%{text}<extra></extra>",
           "ids": [
            78
           ],
           "legendgroup": " 85 і старше",
           "marker": {
            "color": "rgb(209,229,240)",
            "pattern": {
             "shape": ""
            }
           },
           "name": " 85 і старше",
           "offsetgroup": " 85 і старше",
           "orientation": "v",
           "showlegend": true,
           "text": [
            78
           ],
           "textposition": "auto",
           "type": "bar",
           "x": [
            " 85 і старше"
           ],
           "xaxis": "x",
           "y": [
            78
           ],
           "yaxis": "y"
          }
         ],
         "name": "2021"
        }
       ],
       "layout": {
        "barmode": "relative",
        "legend": {
         "title": {
          "text": "Вік"
         },
         "tracegroupgap": 0
        },
        "sliders": [
         {
          "active": 0,
          "currentvalue": {
           "prefix": "Рік="
          },
          "len": 0.9,
          "pad": {
           "b": 10,
           "t": 60
          },
          "steps": [
           {
            "args": [
             [
              "2019"
             ],
             {
              "frame": {
               "duration": 0,
               "redraw": true
              },
              "fromcurrent": true,
              "mode": "immediate",
              "transition": {
               "duration": 0,
               "easing": "linear"
              }
             }
            ],
            "label": "2019",
            "method": "animate"
           },
           {
            "args": [
             [
              "2020"
             ],
             {
              "frame": {
               "duration": 0,
               "redraw": true
              },
              "fromcurrent": true,
              "mode": "immediate",
              "transition": {
               "duration": 0,
               "easing": "linear"
              }
             }
            ],
            "label": "2020",
            "method": "animate"
           },
           {
            "args": [
             [
              "2021"
             ],
             {
              "frame": {
               "duration": 0,
               "redraw": true
              },
              "fromcurrent": true,
              "mode": "immediate",
              "transition": {
               "duration": 0,
               "easing": "linear"
              }
             }
            ],
            "label": "2021",
            "method": "animate"
           }
          ],
          "x": 0.1,
          "xanchor": "left",
          "y": 0,
          "yanchor": "top"
         }
        ],
        "template": {
         "data": {
          "bar": [
           {
            "error_x": {
             "color": "#2a3f5f"
            },
            "error_y": {
             "color": "#2a3f5f"
            },
            "marker": {
             "line": {
              "color": "#E5ECF6",
              "width": 0.5
             },
             "pattern": {
              "fillmode": "overlay",
              "size": 10,
              "solidity": 0.2
             }
            },
            "type": "bar"
           }
          ],
          "barpolar": [
           {
            "marker": {
             "line": {
              "color": "#E5ECF6",
              "width": 0.5
             },
             "pattern": {
              "fillmode": "overlay",
              "size": 10,
              "solidity": 0.2
             }
            },
            "type": "barpolar"
           }
          ],
          "carpet": [
           {
            "aaxis": {
             "endlinecolor": "#2a3f5f",
             "gridcolor": "white",
             "linecolor": "white",
             "minorgridcolor": "white",
             "startlinecolor": "#2a3f5f"
            },
            "baxis": {
             "endlinecolor": "#2a3f5f",
             "gridcolor": "white",
             "linecolor": "white",
             "minorgridcolor": "white",
             "startlinecolor": "#2a3f5f"
            },
            "type": "carpet"
           }
          ],
          "choropleth": [
           {
            "colorbar": {
             "outlinewidth": 0,
             "ticks": ""
            },
            "type": "choropleth"
           }
          ],
          "contour": [
           {
            "colorbar": {
             "outlinewidth": 0,
             "ticks": ""
            },
            "colorscale": [
             [
              0,
              "#0d0887"
             ],
             [
              0.1111111111111111,
              "#46039f"
             ],
             [
              0.2222222222222222,
              "#7201a8"
             ],
             [
              0.3333333333333333,
              "#9c179e"
             ],
             [
              0.4444444444444444,
              "#bd3786"
             ],
             [
              0.5555555555555556,
              "#d8576b"
             ],
             [
              0.6666666666666666,
              "#ed7953"
             ],
             [
              0.7777777777777778,
              "#fb9f3a"
             ],
             [
              0.8888888888888888,
              "#fdca26"
             ],
             [
              1,
              "#f0f921"
             ]
            ],
            "type": "contour"
           }
          ],
          "contourcarpet": [
           {
            "colorbar": {
             "outlinewidth": 0,
             "ticks": ""
            },
            "type": "contourcarpet"
           }
          ],
          "heatmap": [
           {
            "colorbar": {
             "outlinewidth": 0,
             "ticks": ""
            },
            "colorscale": [
             [
              0,
              "#0d0887"
             ],
             [
              0.1111111111111111,
              "#46039f"
             ],
             [
              0.2222222222222222,
              "#7201a8"
             ],
             [
              0.3333333333333333,
              "#9c179e"
             ],
             [
              0.4444444444444444,
              "#bd3786"
             ],
             [
              0.5555555555555556,
              "#d8576b"
             ],
             [
              0.6666666666666666,
              "#ed7953"
             ],
             [
              0.7777777777777778,
              "#fb9f3a"
             ],
             [
              0.8888888888888888,
              "#fdca26"
             ],
             [
              1,
              "#f0f921"
             ]
            ],
            "type": "heatmap"
           }
          ],
          "heatmapgl": [
           {
            "colorbar": {
             "outlinewidth": 0,
             "ticks": ""
            },
            "colorscale": [
             [
              0,
              "#0d0887"
             ],
             [
              0.1111111111111111,
              "#46039f"
             ],
             [
              0.2222222222222222,
              "#7201a8"
             ],
             [
              0.3333333333333333,
              "#9c179e"
             ],
             [
              0.4444444444444444,
              "#bd3786"
             ],
             [
              0.5555555555555556,
              "#d8576b"
             ],
             [
              0.6666666666666666,
              "#ed7953"
             ],
             [
              0.7777777777777778,
              "#fb9f3a"
             ],
             [
              0.8888888888888888,
              "#fdca26"
             ],
             [
              1,
              "#f0f921"
             ]
            ],
            "type": "heatmapgl"
           }
          ],
          "histogram": [
           {
            "marker": {
             "pattern": {
              "fillmode": "overlay",
              "size": 10,
              "solidity": 0.2
             }
            },
            "type": "histogram"
           }
          ],
          "histogram2d": [
           {
            "colorbar": {
             "outlinewidth": 0,
             "ticks": ""
            },
            "colorscale": [
             [
              0,
              "#0d0887"
             ],
             [
              0.1111111111111111,
              "#46039f"
             ],
             [
              0.2222222222222222,
              "#7201a8"
             ],
             [
              0.3333333333333333,
              "#9c179e"
             ],
             [
              0.4444444444444444,
              "#bd3786"
             ],
             [
              0.5555555555555556,
              "#d8576b"
             ],
             [
              0.6666666666666666,
              "#ed7953"
             ],
             [
              0.7777777777777778,
              "#fb9f3a"
             ],
             [
              0.8888888888888888,
              "#fdca26"
             ],
             [
              1,
              "#f0f921"
             ]
            ],
            "type": "histogram2d"
           }
          ],
          "histogram2dcontour": [
           {
            "colorbar": {
             "outlinewidth": 0,
             "ticks": ""
            },
            "colorscale": [
             [
              0,
              "#0d0887"
             ],
             [
              0.1111111111111111,
              "#46039f"
             ],
             [
              0.2222222222222222,
              "#7201a8"
             ],
             [
              0.3333333333333333,
              "#9c179e"
             ],
             [
              0.4444444444444444,
              "#bd3786"
             ],
             [
              0.5555555555555556,
              "#d8576b"
             ],
             [
              0.6666666666666666,
              "#ed7953"
             ],
             [
              0.7777777777777778,
              "#fb9f3a"
             ],
             [
              0.8888888888888888,
              "#fdca26"
             ],
             [
              1,
              "#f0f921"
             ]
            ],
            "type": "histogram2dcontour"
           }
          ],
          "mesh3d": [
           {
            "colorbar": {
             "outlinewidth": 0,
             "ticks": ""
            },
            "type": "mesh3d"
           }
          ],
          "parcoords": [
           {
            "line": {
             "colorbar": {
              "outlinewidth": 0,
              "ticks": ""
             }
            },
            "type": "parcoords"
           }
          ],
          "pie": [
           {
            "automargin": true,
            "type": "pie"
           }
          ],
          "scatter": [
           {
            "fillpattern": {
             "fillmode": "overlay",
             "size": 10,
             "solidity": 0.2
            },
            "type": "scatter"
           }
          ],
          "scatter3d": [
           {
            "line": {
             "colorbar": {
              "outlinewidth": 0,
              "ticks": ""
             }
            },
            "marker": {
             "colorbar": {
              "outlinewidth": 0,
              "ticks": ""
             }
            },
            "type": "scatter3d"
           }
          ],
          "scattercarpet": [
           {
            "marker": {
             "colorbar": {
              "outlinewidth": 0,
              "ticks": ""
             }
            },
            "type": "scattercarpet"
           }
          ],
          "scattergeo": [
           {
            "marker": {
             "colorbar": {
              "outlinewidth": 0,
              "ticks": ""
             }
            },
            "type": "scattergeo"
           }
          ],
          "scattergl": [
           {
            "marker": {
             "colorbar": {
              "outlinewidth": 0,
              "ticks": ""
             }
            },
            "type": "scattergl"
           }
          ],
          "scattermapbox": [
           {
            "marker": {
             "colorbar": {
              "outlinewidth": 0,
              "ticks": ""
             }
            },
            "type": "scattermapbox"
           }
          ],
          "scatterpolar": [
           {
            "marker": {
             "colorbar": {
              "outlinewidth": 0,
              "ticks": ""
             }
            },
            "type": "scatterpolar"
           }
          ],
          "scatterpolargl": [
           {
            "marker": {
             "colorbar": {
              "outlinewidth": 0,
              "ticks": ""
             }
            },
            "type": "scatterpolargl"
           }
          ],
          "scatterternary": [
           {
            "marker": {
             "colorbar": {
              "outlinewidth": 0,
              "ticks": ""
             }
            },
            "type": "scatterternary"
           }
          ],
          "surface": [
           {
            "colorbar": {
             "outlinewidth": 0,
             "ticks": ""
            },
            "colorscale": [
             [
              0,
              "#0d0887"
             ],
             [
              0.1111111111111111,
              "#46039f"
             ],
             [
              0.2222222222222222,
              "#7201a8"
             ],
             [
              0.3333333333333333,
              "#9c179e"
             ],
             [
              0.4444444444444444,
              "#bd3786"
             ],
             [
              0.5555555555555556,
              "#d8576b"
             ],
             [
              0.6666666666666666,
              "#ed7953"
             ],
             [
              0.7777777777777778,
              "#fb9f3a"
             ],
             [
              0.8888888888888888,
              "#fdca26"
             ],
             [
              1,
              "#f0f921"
             ]
            ],
            "type": "surface"
           }
          ],
          "table": [
           {
            "cells": {
             "fill": {
              "color": "#EBF0F8"
             },
             "line": {
              "color": "white"
             }
            },
            "header": {
             "fill": {
              "color": "#C8D4E3"
             },
             "line": {
              "color": "white"
             }
            },
            "type": "table"
           }
          ]
         },
         "layout": {
          "annotationdefaults": {
           "arrowcolor": "#2a3f5f",
           "arrowhead": 0,
           "arrowwidth": 1
          },
          "autotypenumbers": "strict",
          "coloraxis": {
           "colorbar": {
            "outlinewidth": 0,
            "ticks": ""
           }
          },
          "colorscale": {
           "diverging": [
            [
             0,
             "#8e0152"
            ],
            [
             0.1,
             "#c51b7d"
            ],
            [
             0.2,
             "#de77ae"
            ],
            [
             0.3,
             "#f1b6da"
            ],
            [
             0.4,
             "#fde0ef"
            ],
            [
             0.5,
             "#f7f7f7"
            ],
            [
             0.6,
             "#e6f5d0"
            ],
            [
             0.7,
             "#b8e186"
            ],
            [
             0.8,
             "#7fbc41"
            ],
            [
             0.9,
             "#4d9221"
            ],
            [
             1,
             "#276419"
            ]
           ],
           "sequential": [
            [
             0,
             "#0d0887"
            ],
            [
             0.1111111111111111,
             "#46039f"
            ],
            [
             0.2222222222222222,
             "#7201a8"
            ],
            [
             0.3333333333333333,
             "#9c179e"
            ],
            [
             0.4444444444444444,
             "#bd3786"
            ],
            [
             0.5555555555555556,
             "#d8576b"
            ],
            [
             0.6666666666666666,
             "#ed7953"
            ],
            [
             0.7777777777777778,
             "#fb9f3a"
            ],
            [
             0.8888888888888888,
             "#fdca26"
            ],
            [
             1,
             "#f0f921"
            ]
           ],
           "sequentialminus": [
            [
             0,
             "#0d0887"
            ],
            [
             0.1111111111111111,
             "#46039f"
            ],
            [
             0.2222222222222222,
             "#7201a8"
            ],
            [
             0.3333333333333333,
             "#9c179e"
            ],
            [
             0.4444444444444444,
             "#bd3786"
            ],
            [
             0.5555555555555556,
             "#d8576b"
            ],
            [
             0.6666666666666666,
             "#ed7953"
            ],
            [
             0.7777777777777778,
             "#fb9f3a"
            ],
            [
             0.8888888888888888,
             "#fdca26"
            ],
            [
             1,
             "#f0f921"
            ]
           ]
          },
          "colorway": [
           "#636efa",
           "#EF553B",
           "#00cc96",
           "#ab63fa",
           "#FFA15A",
           "#19d3f3",
           "#FF6692",
           "#B6E880",
           "#FF97FF",
           "#FECB52"
          ],
          "font": {
           "color": "#2a3f5f"
          },
          "geo": {
           "bgcolor": "white",
           "lakecolor": "white",
           "landcolor": "#E5ECF6",
           "showlakes": true,
           "showland": true,
           "subunitcolor": "white"
          },
          "hoverlabel": {
           "align": "left"
          },
          "hovermode": "closest",
          "mapbox": {
           "style": "light"
          },
          "paper_bgcolor": "white",
          "plot_bgcolor": "#E5ECF6",
          "polar": {
           "angularaxis": {
            "gridcolor": "white",
            "linecolor": "white",
            "ticks": ""
           },
           "bgcolor": "#E5ECF6",
           "radialaxis": {
            "gridcolor": "white",
            "linecolor": "white",
            "ticks": ""
           }
          },
          "scene": {
           "xaxis": {
            "backgroundcolor": "#E5ECF6",
            "gridcolor": "white",
            "gridwidth": 2,
            "linecolor": "white",
            "showbackground": true,
            "ticks": "",
            "zerolinecolor": "white"
           },
           "yaxis": {
            "backgroundcolor": "#E5ECF6",
            "gridcolor": "white",
            "gridwidth": 2,
            "linecolor": "white",
            "showbackground": true,
            "ticks": "",
            "zerolinecolor": "white"
           },
           "zaxis": {
            "backgroundcolor": "#E5ECF6",
            "gridcolor": "white",
            "gridwidth": 2,
            "linecolor": "white",
            "showbackground": true,
            "ticks": "",
            "zerolinecolor": "white"
           }
          },
          "shapedefaults": {
           "line": {
            "color": "#2a3f5f"
           }
          },
          "ternary": {
           "aaxis": {
            "gridcolor": "white",
            "linecolor": "white",
            "ticks": ""
           },
           "baxis": {
            "gridcolor": "white",
            "linecolor": "white",
            "ticks": ""
           },
           "bgcolor": "#E5ECF6",
           "caxis": {
            "gridcolor": "white",
            "linecolor": "white",
            "ticks": ""
           }
          },
          "title": {
           "x": 0.05
          },
          "xaxis": {
           "automargin": true,
           "gridcolor": "white",
           "linecolor": "white",
           "ticks": "",
           "title": {
            "standoff": 15
           },
           "zerolinecolor": "white",
           "zerolinewidth": 2
          },
          "yaxis": {
           "automargin": true,
           "gridcolor": "white",
           "linecolor": "white",
           "ticks": "",
           "title": {
            "standoff": 15
           },
           "zerolinecolor": "white",
           "zerolinewidth": 2
          }
         }
        },
        "title": {
         "text": "Кількість людей, що емігрували за кордон"
        },
        "uniformtext": {
         "minsize": 8
        },
        "updatemenus": [
         {
          "buttons": [
           {
            "args": [
             null,
             {
              "frame": {
               "duration": 500,
               "redraw": true
              },
              "fromcurrent": true,
              "mode": "immediate",
              "transition": {
               "duration": 500,
               "easing": "linear"
              }
             }
            ],
            "label": "&#9654;",
            "method": "animate"
           },
           {
            "args": [
             [
              null
             ],
             {
              "frame": {
               "duration": 0,
               "redraw": true
              },
              "fromcurrent": true,
              "mode": "immediate",
              "transition": {
               "duration": 0,
               "easing": "linear"
              }
             }
            ],
            "label": "&#9724;",
            "method": "animate"
           }
          ],
          "direction": "left",
          "pad": {
           "r": 10,
           "t": 70
          },
          "showactive": false,
          "type": "buttons",
          "x": 0.1,
          "xanchor": "right",
          "y": 0,
          "yanchor": "top"
         }
        ],
        "xaxis": {
         "anchor": "y",
         "categoryarray": [
          "0-4",
          " 5-9",
          " 10-14",
          "15-19",
          "20-24",
          "25-29",
          "30-34",
          "35-39",
          "40-44",
          "45-49",
          "50-54",
          "55-59",
          "60-64",
          "65-69",
          "70-74",
          "75-79",
          "80-84",
          " 85 і старше"
         ],
         "categoryorder": "array",
         "domain": [
          0,
          1
         ],
         "tickangle": -45,
         "title": {
          "text": "Вік"
         }
        },
        "yaxis": {
         "anchor": "x",
         "domain": [
          0,
          1
         ],
         "range": [
          0,
          5700
         ],
         "title": {
          "text": "Кількість вибулих"
         }
        }
       }
      }
     },
     "metadata": {},
     "output_type": "display_data"
    }
   ],
   "source": [
    "fig = px.bar(df_migr, x=\"Вік\", y=\"Кількість вибулих\", \n",
    "      color=\"Вік\", color_discrete_sequence=px.colors.sequential.RdBu,\n",
    "      animation_frame=\"Рік\", animation_group=\"Кількість вибулих\", \n",
    "      range_y=[0,5700], text = 'Кількість вибулих',\n",
    "      title='Кількість людей, що емігрували за кордон'\n",
    "      )\n",
    "fig.update_layout(uniformtext_minsize=8)\n",
    "fig.update_layout(xaxis_tickangle=-45)"
   ]
  },
  {
   "cell_type": "markdown",
   "metadata": {},
   "source": [
    "З графіків чітко можна прослідкувати, що закордон мігрує, переважно, населення працездатного віку.\n",
    "Це може означати, що люди цього віку, шукаючи кращої можливості роботи, виїжджають за кордон"
   ]
  },
  {
   "cell_type": "markdown",
   "metadata": {},
   "source": [
    "**Відмінність між прибулими/вибулими за кордон**"
   ]
  },
  {
   "cell_type": "code",
   "execution_count": 7,
   "metadata": {},
   "outputs": [
    {
     "data": {
      "application/vnd.plotly.v1+json": {
       "config": {
        "plotlyServerURL": "https://plot.ly"
       },
       "data": [
        {
         "line": {
          "color": "#d61515"
         },
         "mode": "lines+markers",
         "name": "Вибули з України",
         "type": "scatter",
         "x": [
          "0-4",
          " 5-9",
          " 10-14",
          "15-19",
          "20-24",
          "25-29",
          "30-34",
          "35-39",
          "40-44",
          "45-49",
          "50-54",
          "55-59",
          "60-64",
          "65-69",
          "70-74",
          "75-79",
          "80-84",
          " 85 і старше",
          "0-4",
          " 5-9",
          " 10-14",
          "15-19",
          "20-24",
          "25-29",
          "30-34",
          "35-39",
          "40-44",
          "45-49",
          "50-54",
          "55-59",
          "60-64",
          "65-69",
          "70-74",
          "75-79",
          "80-84",
          " 85 і старше",
          "0-4",
          " 5-9",
          " 10-14",
          "15-19",
          "20-24",
          "25-29",
          "30-34",
          "35-39",
          "40-44",
          "45-49",
          "50-54",
          "55-59",
          "60-64",
          "65-69",
          "70-74",
          "75-79",
          "80-84",
          " 85 і старше"
         ],
         "y": [
          177,
          336,
          287,
          1048,
          4984,
          3959,
          2126,
          1588,
          1255,
          958,
          711,
          463,
          403,
          304,
          208,
          133,
          143,
          38
         ]
        },
        {
         "line": {
          "color": "#1589d6"
         },
         "mode": "lines+markers",
         "name": "Прибули в Україну",
         "type": "scatter",
         "x": [
          "0-4",
          " 5-9",
          " 10-14",
          "15-19",
          "20-24",
          "25-29",
          "30-34",
          "35-39",
          "40-44",
          "45-49",
          "50-54",
          "55-59",
          "60-64",
          "65-69",
          "70-74",
          "75-79",
          "80-84",
          " 85 і старше",
          "0-4",
          " 5-9",
          " 10-14",
          "15-19",
          "20-24",
          "25-29",
          "30-34",
          "35-39",
          "40-44",
          "45-49",
          "50-54",
          "55-59",
          "60-64",
          "65-69",
          "70-74",
          "75-79",
          "80-84",
          " 85 і старше",
          "0-4",
          " 5-9",
          " 10-14",
          "15-19",
          "20-24",
          "25-29",
          "30-34",
          "35-39",
          "40-44",
          "45-49",
          "50-54",
          "55-59",
          "60-64",
          "65-69",
          "70-74",
          "75-79",
          "80-84",
          " 85 і старше"
         ],
         "y": [
          1226,
          359,
          274,
          4351,
          5385,
          4011,
          2653,
          1908,
          1422,
          1224,
          1017,
          873,
          682,
          365,
          248,
          138,
          153,
          72
         ]
        }
       ],
       "layout": {
        "template": {
         "data": {
          "bar": [
           {
            "error_x": {
             "color": "#2a3f5f"
            },
            "error_y": {
             "color": "#2a3f5f"
            },
            "marker": {
             "line": {
              "color": "#E5ECF6",
              "width": 0.5
             },
             "pattern": {
              "fillmode": "overlay",
              "size": 10,
              "solidity": 0.2
             }
            },
            "type": "bar"
           }
          ],
          "barpolar": [
           {
            "marker": {
             "line": {
              "color": "#E5ECF6",
              "width": 0.5
             },
             "pattern": {
              "fillmode": "overlay",
              "size": 10,
              "solidity": 0.2
             }
            },
            "type": "barpolar"
           }
          ],
          "carpet": [
           {
            "aaxis": {
             "endlinecolor": "#2a3f5f",
             "gridcolor": "white",
             "linecolor": "white",
             "minorgridcolor": "white",
             "startlinecolor": "#2a3f5f"
            },
            "baxis": {
             "endlinecolor": "#2a3f5f",
             "gridcolor": "white",
             "linecolor": "white",
             "minorgridcolor": "white",
             "startlinecolor": "#2a3f5f"
            },
            "type": "carpet"
           }
          ],
          "choropleth": [
           {
            "colorbar": {
             "outlinewidth": 0,
             "ticks": ""
            },
            "type": "choropleth"
           }
          ],
          "contour": [
           {
            "colorbar": {
             "outlinewidth": 0,
             "ticks": ""
            },
            "colorscale": [
             [
              0,
              "#0d0887"
             ],
             [
              0.1111111111111111,
              "#46039f"
             ],
             [
              0.2222222222222222,
              "#7201a8"
             ],
             [
              0.3333333333333333,
              "#9c179e"
             ],
             [
              0.4444444444444444,
              "#bd3786"
             ],
             [
              0.5555555555555556,
              "#d8576b"
             ],
             [
              0.6666666666666666,
              "#ed7953"
             ],
             [
              0.7777777777777778,
              "#fb9f3a"
             ],
             [
              0.8888888888888888,
              "#fdca26"
             ],
             [
              1,
              "#f0f921"
             ]
            ],
            "type": "contour"
           }
          ],
          "contourcarpet": [
           {
            "colorbar": {
             "outlinewidth": 0,
             "ticks": ""
            },
            "type": "contourcarpet"
           }
          ],
          "heatmap": [
           {
            "colorbar": {
             "outlinewidth": 0,
             "ticks": ""
            },
            "colorscale": [
             [
              0,
              "#0d0887"
             ],
             [
              0.1111111111111111,
              "#46039f"
             ],
             [
              0.2222222222222222,
              "#7201a8"
             ],
             [
              0.3333333333333333,
              "#9c179e"
             ],
             [
              0.4444444444444444,
              "#bd3786"
             ],
             [
              0.5555555555555556,
              "#d8576b"
             ],
             [
              0.6666666666666666,
              "#ed7953"
             ],
             [
              0.7777777777777778,
              "#fb9f3a"
             ],
             [
              0.8888888888888888,
              "#fdca26"
             ],
             [
              1,
              "#f0f921"
             ]
            ],
            "type": "heatmap"
           }
          ],
          "heatmapgl": [
           {
            "colorbar": {
             "outlinewidth": 0,
             "ticks": ""
            },
            "colorscale": [
             [
              0,
              "#0d0887"
             ],
             [
              0.1111111111111111,
              "#46039f"
             ],
             [
              0.2222222222222222,
              "#7201a8"
             ],
             [
              0.3333333333333333,
              "#9c179e"
             ],
             [
              0.4444444444444444,
              "#bd3786"
             ],
             [
              0.5555555555555556,
              "#d8576b"
             ],
             [
              0.6666666666666666,
              "#ed7953"
             ],
             [
              0.7777777777777778,
              "#fb9f3a"
             ],
             [
              0.8888888888888888,
              "#fdca26"
             ],
             [
              1,
              "#f0f921"
             ]
            ],
            "type": "heatmapgl"
           }
          ],
          "histogram": [
           {
            "marker": {
             "pattern": {
              "fillmode": "overlay",
              "size": 10,
              "solidity": 0.2
             }
            },
            "type": "histogram"
           }
          ],
          "histogram2d": [
           {
            "colorbar": {
             "outlinewidth": 0,
             "ticks": ""
            },
            "colorscale": [
             [
              0,
              "#0d0887"
             ],
             [
              0.1111111111111111,
              "#46039f"
             ],
             [
              0.2222222222222222,
              "#7201a8"
             ],
             [
              0.3333333333333333,
              "#9c179e"
             ],
             [
              0.4444444444444444,
              "#bd3786"
             ],
             [
              0.5555555555555556,
              "#d8576b"
             ],
             [
              0.6666666666666666,
              "#ed7953"
             ],
             [
              0.7777777777777778,
              "#fb9f3a"
             ],
             [
              0.8888888888888888,
              "#fdca26"
             ],
             [
              1,
              "#f0f921"
             ]
            ],
            "type": "histogram2d"
           }
          ],
          "histogram2dcontour": [
           {
            "colorbar": {
             "outlinewidth": 0,
             "ticks": ""
            },
            "colorscale": [
             [
              0,
              "#0d0887"
             ],
             [
              0.1111111111111111,
              "#46039f"
             ],
             [
              0.2222222222222222,
              "#7201a8"
             ],
             [
              0.3333333333333333,
              "#9c179e"
             ],
             [
              0.4444444444444444,
              "#bd3786"
             ],
             [
              0.5555555555555556,
              "#d8576b"
             ],
             [
              0.6666666666666666,
              "#ed7953"
             ],
             [
              0.7777777777777778,
              "#fb9f3a"
             ],
             [
              0.8888888888888888,
              "#fdca26"
             ],
             [
              1,
              "#f0f921"
             ]
            ],
            "type": "histogram2dcontour"
           }
          ],
          "mesh3d": [
           {
            "colorbar": {
             "outlinewidth": 0,
             "ticks": ""
            },
            "type": "mesh3d"
           }
          ],
          "parcoords": [
           {
            "line": {
             "colorbar": {
              "outlinewidth": 0,
              "ticks": ""
             }
            },
            "type": "parcoords"
           }
          ],
          "pie": [
           {
            "automargin": true,
            "type": "pie"
           }
          ],
          "scatter": [
           {
            "fillpattern": {
             "fillmode": "overlay",
             "size": 10,
             "solidity": 0.2
            },
            "type": "scatter"
           }
          ],
          "scatter3d": [
           {
            "line": {
             "colorbar": {
              "outlinewidth": 0,
              "ticks": ""
             }
            },
            "marker": {
             "colorbar": {
              "outlinewidth": 0,
              "ticks": ""
             }
            },
            "type": "scatter3d"
           }
          ],
          "scattercarpet": [
           {
            "marker": {
             "colorbar": {
              "outlinewidth": 0,
              "ticks": ""
             }
            },
            "type": "scattercarpet"
           }
          ],
          "scattergeo": [
           {
            "marker": {
             "colorbar": {
              "outlinewidth": 0,
              "ticks": ""
             }
            },
            "type": "scattergeo"
           }
          ],
          "scattergl": [
           {
            "marker": {
             "colorbar": {
              "outlinewidth": 0,
              "ticks": ""
             }
            },
            "type": "scattergl"
           }
          ],
          "scattermapbox": [
           {
            "marker": {
             "colorbar": {
              "outlinewidth": 0,
              "ticks": ""
             }
            },
            "type": "scattermapbox"
           }
          ],
          "scatterpolar": [
           {
            "marker": {
             "colorbar": {
              "outlinewidth": 0,
              "ticks": ""
             }
            },
            "type": "scatterpolar"
           }
          ],
          "scatterpolargl": [
           {
            "marker": {
             "colorbar": {
              "outlinewidth": 0,
              "ticks": ""
             }
            },
            "type": "scatterpolargl"
           }
          ],
          "scatterternary": [
           {
            "marker": {
             "colorbar": {
              "outlinewidth": 0,
              "ticks": ""
             }
            },
            "type": "scatterternary"
           }
          ],
          "surface": [
           {
            "colorbar": {
             "outlinewidth": 0,
             "ticks": ""
            },
            "colorscale": [
             [
              0,
              "#0d0887"
             ],
             [
              0.1111111111111111,
              "#46039f"
             ],
             [
              0.2222222222222222,
              "#7201a8"
             ],
             [
              0.3333333333333333,
              "#9c179e"
             ],
             [
              0.4444444444444444,
              "#bd3786"
             ],
             [
              0.5555555555555556,
              "#d8576b"
             ],
             [
              0.6666666666666666,
              "#ed7953"
             ],
             [
              0.7777777777777778,
              "#fb9f3a"
             ],
             [
              0.8888888888888888,
              "#fdca26"
             ],
             [
              1,
              "#f0f921"
             ]
            ],
            "type": "surface"
           }
          ],
          "table": [
           {
            "cells": {
             "fill": {
              "color": "#EBF0F8"
             },
             "line": {
              "color": "white"
             }
            },
            "header": {
             "fill": {
              "color": "#C8D4E3"
             },
             "line": {
              "color": "white"
             }
            },
            "type": "table"
           }
          ]
         },
         "layout": {
          "annotationdefaults": {
           "arrowcolor": "#2a3f5f",
           "arrowhead": 0,
           "arrowwidth": 1
          },
          "autotypenumbers": "strict",
          "coloraxis": {
           "colorbar": {
            "outlinewidth": 0,
            "ticks": ""
           }
          },
          "colorscale": {
           "diverging": [
            [
             0,
             "#8e0152"
            ],
            [
             0.1,
             "#c51b7d"
            ],
            [
             0.2,
             "#de77ae"
            ],
            [
             0.3,
             "#f1b6da"
            ],
            [
             0.4,
             "#fde0ef"
            ],
            [
             0.5,
             "#f7f7f7"
            ],
            [
             0.6,
             "#e6f5d0"
            ],
            [
             0.7,
             "#b8e186"
            ],
            [
             0.8,
             "#7fbc41"
            ],
            [
             0.9,
             "#4d9221"
            ],
            [
             1,
             "#276419"
            ]
           ],
           "sequential": [
            [
             0,
             "#0d0887"
            ],
            [
             0.1111111111111111,
             "#46039f"
            ],
            [
             0.2222222222222222,
             "#7201a8"
            ],
            [
             0.3333333333333333,
             "#9c179e"
            ],
            [
             0.4444444444444444,
             "#bd3786"
            ],
            [
             0.5555555555555556,
             "#d8576b"
            ],
            [
             0.6666666666666666,
             "#ed7953"
            ],
            [
             0.7777777777777778,
             "#fb9f3a"
            ],
            [
             0.8888888888888888,
             "#fdca26"
            ],
            [
             1,
             "#f0f921"
            ]
           ],
           "sequentialminus": [
            [
             0,
             "#0d0887"
            ],
            [
             0.1111111111111111,
             "#46039f"
            ],
            [
             0.2222222222222222,
             "#7201a8"
            ],
            [
             0.3333333333333333,
             "#9c179e"
            ],
            [
             0.4444444444444444,
             "#bd3786"
            ],
            [
             0.5555555555555556,
             "#d8576b"
            ],
            [
             0.6666666666666666,
             "#ed7953"
            ],
            [
             0.7777777777777778,
             "#fb9f3a"
            ],
            [
             0.8888888888888888,
             "#fdca26"
            ],
            [
             1,
             "#f0f921"
            ]
           ]
          },
          "colorway": [
           "#636efa",
           "#EF553B",
           "#00cc96",
           "#ab63fa",
           "#FFA15A",
           "#19d3f3",
           "#FF6692",
           "#B6E880",
           "#FF97FF",
           "#FECB52"
          ],
          "font": {
           "color": "#2a3f5f"
          },
          "geo": {
           "bgcolor": "white",
           "lakecolor": "white",
           "landcolor": "#E5ECF6",
           "showlakes": true,
           "showland": true,
           "subunitcolor": "white"
          },
          "hoverlabel": {
           "align": "left"
          },
          "hovermode": "closest",
          "mapbox": {
           "style": "light"
          },
          "paper_bgcolor": "white",
          "plot_bgcolor": "#E5ECF6",
          "polar": {
           "angularaxis": {
            "gridcolor": "white",
            "linecolor": "white",
            "ticks": ""
           },
           "bgcolor": "#E5ECF6",
           "radialaxis": {
            "gridcolor": "white",
            "linecolor": "white",
            "ticks": ""
           }
          },
          "scene": {
           "xaxis": {
            "backgroundcolor": "#E5ECF6",
            "gridcolor": "white",
            "gridwidth": 2,
            "linecolor": "white",
            "showbackground": true,
            "ticks": "",
            "zerolinecolor": "white"
           },
           "yaxis": {
            "backgroundcolor": "#E5ECF6",
            "gridcolor": "white",
            "gridwidth": 2,
            "linecolor": "white",
            "showbackground": true,
            "ticks": "",
            "zerolinecolor": "white"
           },
           "zaxis": {
            "backgroundcolor": "#E5ECF6",
            "gridcolor": "white",
            "gridwidth": 2,
            "linecolor": "white",
            "showbackground": true,
            "ticks": "",
            "zerolinecolor": "white"
           }
          },
          "shapedefaults": {
           "line": {
            "color": "#2a3f5f"
           }
          },
          "ternary": {
           "aaxis": {
            "gridcolor": "white",
            "linecolor": "white",
            "ticks": ""
           },
           "baxis": {
            "gridcolor": "white",
            "linecolor": "white",
            "ticks": ""
           },
           "bgcolor": "#E5ECF6",
           "caxis": {
            "gridcolor": "white",
            "linecolor": "white",
            "ticks": ""
           }
          },
          "title": {
           "x": 0.05
          },
          "xaxis": {
           "automargin": true,
           "gridcolor": "white",
           "linecolor": "white",
           "ticks": "",
           "title": {
            "standoff": 15
           },
           "zerolinecolor": "white",
           "zerolinewidth": 2
          },
          "yaxis": {
           "automargin": true,
           "gridcolor": "white",
           "linecolor": "white",
           "ticks": "",
           "title": {
            "standoff": 15
           },
           "zerolinecolor": "white",
           "zerolinewidth": 2
          }
         }
        },
        "title": {
         "text": "Міждержавна міграція, дані за 2020 рік"
        },
        "xaxis": {
         "title": {
          "text": "Вік"
         }
        },
        "yaxis": {
         "title": {
          "text": "Кількість міждержавних мігрантів"
         }
        }
       }
      }
     },
     "metadata": {},
     "output_type": "display_data"
    }
   ],
   "source": [
    "year = input('Введіть рік (2019-2021): ')\n",
    "fig = go.Figure()\n",
    "fig.add_trace(go.Scatter(x=df_migr['Вік'], y=df_migr['Кількість вибулих'][df_migr['Рік'] == int(year)], \n",
    "                        mode='lines+markers', name='Вибули з України', line_color='#d61515'))\n",
    "fig.add_trace(go.Scatter(x=df_migr['Вік'], y=df_migr['Кількість прибулих'][df_migr['Рік'] == int(year)], \n",
    "                        mode='lines+markers', name='Прибули в Україну',  line_color = '#1589d6'))\n",
    "fig.update_layout(title = f'Міждержавна міграція, дані за {year} рік')\n",
    "fig.update_yaxes(title_text = 'Кількість міждержавних мігрантів')\n",
    "fig.update_xaxes(title_text = 'Вік')"
   ]
  },
  {
   "cell_type": "markdown",
   "metadata": {},
   "source": [
    "Цей графік дає змогу простежити тенденцію міграції, в залежності від року.\n",
    "Загалом, тенденція протягом цих років не змінюється: найбільше мігрують люди віком 16-30 років, найменше - люди старшого віку."
   ]
  },
  {
   "cell_type": "markdown",
   "metadata": {},
   "source": [
    "**Міграційний приріст/скорочення протягом 2019-2021**"
   ]
  },
  {
   "cell_type": "code",
   "execution_count": 8,
   "metadata": {},
   "outputs": [
    {
     "data": {
      "application/vnd.plotly.v1+json": {
       "config": {
        "plotlyServerURL": "https://plot.ly"
       },
       "data": [
        {
         "hovertemplate": "<b>%{hovertext}</b><br><br>Вік=%{x}<br>Рік=2019<br>Приріст=%{y}<br>Кількість прибулих=%{marker.size}<extra></extra>",
         "hovertext": [
          "0-4"
         ],
         "ids": [
          "0-4"
         ],
         "legendgroup": "0-4",
         "marker": {
          "color": "#636efa",
          "size": [
           1500
          ],
          "sizemode": "area",
          "sizeref": 26.695,
          "symbol": "circle"
         },
         "mode": "markers",
         "name": "0-4",
         "orientation": "v",
         "showlegend": true,
         "type": "scatter",
         "x": [
          "0-4"
         ],
         "xaxis": "x",
         "y": [
          839
         ],
         "yaxis": "y"
        },
        {
         "hovertemplate": "<b>%{hovertext}</b><br><br>Вік=%{x}<br>Рік=2019<br>Приріст=%{y}<br>Кількість прибулих=%{marker.size}<extra></extra>",
         "hovertext": [
          " 5-9"
         ],
         "ids": [
          " 5-9"
         ],
         "legendgroup": " 5-9",
         "marker": {
          "color": "#EF553B",
          "size": [
           348
          ],
          "sizemode": "area",
          "sizeref": 26.695,
          "symbol": "circle"
         },
         "mode": "markers",
         "name": " 5-9",
         "orientation": "v",
         "showlegend": true,
         "type": "scatter",
         "x": [
          " 5-9"
         ],
         "xaxis": "x",
         "y": [
          -515
         ],
         "yaxis": "y"
        },
        {
         "hovertemplate": "<b>%{hovertext}</b><br><br>Вік=%{x}<br>Рік=2019<br>Приріст=%{y}<br>Кількість прибулих=%{marker.size}<extra></extra>",
         "hovertext": [
          " 10-14"
         ],
         "ids": [
          " 10-14"
         ],
         "legendgroup": " 10-14",
         "marker": {
          "color": "#00cc96",
          "size": [
           361
          ],
          "sizemode": "area",
          "sizeref": 26.695,
          "symbol": "circle"
         },
         "mode": "markers",
         "name": " 10-14",
         "orientation": "v",
         "showlegend": true,
         "type": "scatter",
         "x": [
          " 10-14"
         ],
         "xaxis": "x",
         "y": [
          -393
         ],
         "yaxis": "y"
        },
        {
         "hovertemplate": "<b>%{hovertext}</b><br><br>Вік=%{x}<br>Рік=2019<br>Приріст=%{y}<br>Кількість прибулих=%{marker.size}<extra></extra>",
         "hovertext": [
          "15-19"
         ],
         "ids": [
          "15-19"
         ],
         "legendgroup": "15-19",
         "marker": {
          "color": "#ab63fa",
          "size": [
           10678
          ],
          "sizemode": "area",
          "sizeref": 26.695,
          "symbol": "circle"
         },
         "mode": "markers",
         "name": "15-19",
         "orientation": "v",
         "showlegend": true,
         "type": "scatter",
         "x": [
          "15-19"
         ],
         "xaxis": "x",
         "y": [
          9344
         ],
         "yaxis": "y"
        },
        {
         "hovertemplate": "<b>%{hovertext}</b><br><br>Вік=%{x}<br>Рік=2019<br>Приріст=%{y}<br>Кількість прибулих=%{marker.size}<extra></extra>",
         "hovertext": [
          "20-24"
         ],
         "ids": [
          "20-24"
         ],
         "legendgroup": "20-24",
         "marker": {
          "color": "#FFA15A",
          "size": [
           10326
          ],
          "sizemode": "area",
          "sizeref": 26.695,
          "symbol": "circle"
         },
         "mode": "markers",
         "name": "20-24",
         "orientation": "v",
         "showlegend": true,
         "type": "scatter",
         "x": [
          "20-24"
         ],
         "xaxis": "x",
         "y": [
          4656
         ],
         "yaxis": "y"
        },
        {
         "hovertemplate": "<b>%{hovertext}</b><br><br>Вік=%{x}<br>Рік=2019<br>Приріст=%{y}<br>Кількість прибулих=%{marker.size}<extra></extra>",
         "hovertext": [
          "25-29"
         ],
         "ids": [
          "25-29"
         ],
         "legendgroup": "25-29",
         "marker": {
          "color": "#19d3f3",
          "size": [
           5818
          ],
          "sizemode": "area",
          "sizeref": 26.695,
          "symbol": "circle"
         },
         "mode": "markers",
         "name": "25-29",
         "orientation": "v",
         "showlegend": true,
         "type": "scatter",
         "x": [
          "25-29"
         ],
         "xaxis": "x",
         "y": [
          1190
         ],
         "yaxis": "y"
        },
        {
         "hovertemplate": "<b>%{hovertext}</b><br><br>Вік=%{x}<br>Рік=2019<br>Приріст=%{y}<br>Кількість прибулих=%{marker.size}<extra></extra>",
         "hovertext": [
          "30-34"
         ],
         "ids": [
          "30-34"
         ],
         "legendgroup": "30-34",
         "marker": {
          "color": "#FF6692",
          "size": [
           3974
          ],
          "sizemode": "area",
          "sizeref": 26.695,
          "symbol": "circle"
         },
         "mode": "markers",
         "name": "30-34",
         "orientation": "v",
         "showlegend": true,
         "type": "scatter",
         "x": [
          "30-34"
         ],
         "xaxis": "x",
         "y": [
          920
         ],
         "yaxis": "y"
        },
        {
         "hovertemplate": "<b>%{hovertext}</b><br><br>Вік=%{x}<br>Рік=2019<br>Приріст=%{y}<br>Кількість прибулих=%{marker.size}<extra></extra>",
         "hovertext": [
          "35-39"
         ],
         "ids": [
          "35-39"
         ],
         "legendgroup": "35-39",
         "marker": {
          "color": "#B6E880",
          "size": [
           2845
          ],
          "sizemode": "area",
          "sizeref": 26.695,
          "symbol": "circle"
         },
         "mode": "markers",
         "name": "35-39",
         "orientation": "v",
         "showlegend": true,
         "type": "scatter",
         "x": [
          "35-39"
         ],
         "xaxis": "x",
         "y": [
          459
         ],
         "yaxis": "y"
        },
        {
         "hovertemplate": "<b>%{hovertext}</b><br><br>Вік=%{x}<br>Рік=2019<br>Приріст=%{y}<br>Кількість прибулих=%{marker.size}<extra></extra>",
         "hovertext": [
          "40-44"
         ],
         "ids": [
          "40-44"
         ],
         "legendgroup": "40-44",
         "marker": {
          "color": "#FF97FF",
          "size": [
           2059
          ],
          "sizemode": "area",
          "sizeref": 26.695,
          "symbol": "circle"
         },
         "mode": "markers",
         "name": "40-44",
         "orientation": "v",
         "showlegend": true,
         "type": "scatter",
         "x": [
          "40-44"
         ],
         "xaxis": "x",
         "y": [
          181
         ],
         "yaxis": "y"
        },
        {
         "hovertemplate": "<b>%{hovertext}</b><br><br>Вік=%{x}<br>Рік=2019<br>Приріст=%{y}<br>Кількість прибулих=%{marker.size}<extra></extra>",
         "hovertext": [
          "45-49"
         ],
         "ids": [
          "45-49"
         ],
         "legendgroup": "45-49",
         "marker": {
          "color": "#FECB52",
          "size": [
           1928
          ],
          "sizemode": "area",
          "sizeref": 26.695,
          "symbol": "circle"
         },
         "mode": "markers",
         "name": "45-49",
         "orientation": "v",
         "showlegend": true,
         "type": "scatter",
         "x": [
          "45-49"
         ],
         "xaxis": "x",
         "y": [
          486
         ],
         "yaxis": "y"
        },
        {
         "hovertemplate": "<b>%{hovertext}</b><br><br>Вік=%{x}<br>Рік=2019<br>Приріст=%{y}<br>Кількість прибулих=%{marker.size}<extra></extra>",
         "hovertext": [
          "50-54"
         ],
         "ids": [
          "50-54"
         ],
         "legendgroup": "50-54",
         "marker": {
          "color": "#636efa",
          "size": [
           1433
          ],
          "sizemode": "area",
          "sizeref": 26.695,
          "symbol": "circle"
         },
         "mode": "markers",
         "name": "50-54",
         "orientation": "v",
         "showlegend": true,
         "type": "scatter",
         "x": [
          "50-54"
         ],
         "xaxis": "x",
         "y": [
          485
         ],
         "yaxis": "y"
        },
        {
         "hovertemplate": "<b>%{hovertext}</b><br><br>Вік=%{x}<br>Рік=2019<br>Приріст=%{y}<br>Кількість прибулих=%{marker.size}<extra></extra>",
         "hovertext": [
          "55-59"
         ],
         "ids": [
          "55-59"
         ],
         "legendgroup": "55-59",
         "marker": {
          "color": "#EF553B",
          "size": [
           1369
          ],
          "sizemode": "area",
          "sizeref": 26.695,
          "symbol": "circle"
         },
         "mode": "markers",
         "name": "55-59",
         "orientation": "v",
         "showlegend": true,
         "type": "scatter",
         "x": [
          "55-59"
         ],
         "xaxis": "x",
         "y": [
          542
         ],
         "yaxis": "y"
        },
        {
         "hovertemplate": "<b>%{hovertext}</b><br><br>Вік=%{x}<br>Рік=2019<br>Приріст=%{y}<br>Кількість прибулих=%{marker.size}<extra></extra>",
         "hovertext": [
          "60-64"
         ],
         "ids": [
          "60-64"
         ],
         "legendgroup": "60-64",
         "marker": {
          "color": "#00cc96",
          "size": [
           940
          ],
          "sizemode": "area",
          "sizeref": 26.695,
          "symbol": "circle"
         },
         "mode": "markers",
         "name": "60-64",
         "orientation": "v",
         "showlegend": true,
         "type": "scatter",
         "x": [
          "60-64"
         ],
         "xaxis": "x",
         "y": [
          185
         ],
         "yaxis": "y"
        },
        {
         "hovertemplate": "<b>%{hovertext}</b><br><br>Вік=%{x}<br>Рік=2019<br>Приріст=%{y}<br>Кількість прибулих=%{marker.size}<extra></extra>",
         "hovertext": [
          "65-69"
         ],
         "ids": [
          "65-69"
         ],
         "legendgroup": "65-69",
         "marker": {
          "color": "#ab63fa",
          "size": [
           611
          ],
          "sizemode": "area",
          "sizeref": 26.695,
          "symbol": "circle"
         },
         "mode": "markers",
         "name": "65-69",
         "orientation": "v",
         "showlegend": true,
         "type": "scatter",
         "x": [
          "65-69"
         ],
         "xaxis": "x",
         "y": [
          62
         ],
         "yaxis": "y"
        },
        {
         "hovertemplate": "<b>%{hovertext}</b><br><br>Вік=%{x}<br>Рік=2019<br>Приріст=%{y}<br>Кількість прибулих=%{marker.size}<extra></extra>",
         "hovertext": [
          "70-74"
         ],
         "ids": [
          "70-74"
         ],
         "legendgroup": "70-74",
         "marker": {
          "color": "#FFA15A",
          "size": [
           356
          ],
          "sizemode": "area",
          "sizeref": 26.695,
          "symbol": "circle"
         },
         "mode": "markers",
         "name": "70-74",
         "orientation": "v",
         "showlegend": true,
         "type": "scatter",
         "x": [
          "70-74"
         ],
         "xaxis": "x",
         "y": [
          -75
         ],
         "yaxis": "y"
        },
        {
         "hovertemplate": "<b>%{hovertext}</b><br><br>Вік=%{x}<br>Рік=2019<br>Приріст=%{y}<br>Кількість прибулих=%{marker.size}<extra></extra>",
         "hovertext": [
          "75-79"
         ],
         "ids": [
          "75-79"
         ],
         "legendgroup": "75-79",
         "marker": {
          "color": "#19d3f3",
          "size": [
           210
          ],
          "sizemode": "area",
          "sizeref": 26.695,
          "symbol": "circle"
         },
         "mode": "markers",
         "name": "75-79",
         "orientation": "v",
         "showlegend": true,
         "type": "scatter",
         "x": [
          "75-79"
         ],
         "xaxis": "x",
         "y": [
          -77
         ],
         "yaxis": "y"
        },
        {
         "hovertemplate": "<b>%{hovertext}</b><br><br>Вік=%{x}<br>Рік=2019<br>Приріст=%{y}<br>Кількість прибулих=%{marker.size}<extra></extra>",
         "hovertext": [
          "80-84"
         ],
         "ids": [
          "80-84"
         ],
         "legendgroup": "80-84",
         "marker": {
          "color": "#FF6692",
          "size": [
           180
          ],
          "sizemode": "area",
          "sizeref": 26.695,
          "symbol": "circle"
         },
         "mode": "markers",
         "name": "80-84",
         "orientation": "v",
         "showlegend": true,
         "type": "scatter",
         "x": [
          "80-84"
         ],
         "xaxis": "x",
         "y": [
          -55
         ],
         "yaxis": "y"
        },
        {
         "hovertemplate": "<b>%{hovertext}</b><br><br>Вік=%{x}<br>Рік=2019<br>Приріст=%{y}<br>Кількість прибулих=%{marker.size}<extra></extra>",
         "hovertext": [
          " 85 і старше"
         ],
         "ids": [
          " 85 і старше"
         ],
         "legendgroup": " 85 і старше",
         "marker": {
          "color": "#B6E880",
          "size": [
           75
          ],
          "sizemode": "area",
          "sizeref": 26.695,
          "symbol": "circle"
         },
         "mode": "markers",
         "name": " 85 і старше",
         "orientation": "v",
         "showlegend": true,
         "type": "scatter",
         "x": [
          " 85 і старше"
         ],
         "xaxis": "x",
         "y": [
          -12
         ],
         "yaxis": "y"
        }
       ],
       "frames": [
        {
         "data": [
          {
           "hovertemplate": "<b>%{hovertext}</b><br><br>Вік=%{x}<br>Рік=2019<br>Приріст=%{y}<br>Кількість прибулих=%{marker.size}<extra></extra>",
           "hovertext": [
            "0-4"
           ],
           "ids": [
            "0-4"
           ],
           "legendgroup": "0-4",
           "marker": {
            "color": "#636efa",
            "size": [
             1500
            ],
            "sizemode": "area",
            "sizeref": 26.695,
            "symbol": "circle"
           },
           "mode": "markers",
           "name": "0-4",
           "orientation": "v",
           "showlegend": true,
           "type": "scatter",
           "x": [
            "0-4"
           ],
           "xaxis": "x",
           "y": [
            839
           ],
           "yaxis": "y"
          },
          {
           "hovertemplate": "<b>%{hovertext}</b><br><br>Вік=%{x}<br>Рік=2019<br>Приріст=%{y}<br>Кількість прибулих=%{marker.size}<extra></extra>",
           "hovertext": [
            " 5-9"
           ],
           "ids": [
            " 5-9"
           ],
           "legendgroup": " 5-9",
           "marker": {
            "color": "#EF553B",
            "size": [
             348
            ],
            "sizemode": "area",
            "sizeref": 26.695,
            "symbol": "circle"
           },
           "mode": "markers",
           "name": " 5-9",
           "orientation": "v",
           "showlegend": true,
           "type": "scatter",
           "x": [
            " 5-9"
           ],
           "xaxis": "x",
           "y": [
            -515
           ],
           "yaxis": "y"
          },
          {
           "hovertemplate": "<b>%{hovertext}</b><br><br>Вік=%{x}<br>Рік=2019<br>Приріст=%{y}<br>Кількість прибулих=%{marker.size}<extra></extra>",
           "hovertext": [
            " 10-14"
           ],
           "ids": [
            " 10-14"
           ],
           "legendgroup": " 10-14",
           "marker": {
            "color": "#00cc96",
            "size": [
             361
            ],
            "sizemode": "area",
            "sizeref": 26.695,
            "symbol": "circle"
           },
           "mode": "markers",
           "name": " 10-14",
           "orientation": "v",
           "showlegend": true,
           "type": "scatter",
           "x": [
            " 10-14"
           ],
           "xaxis": "x",
           "y": [
            -393
           ],
           "yaxis": "y"
          },
          {
           "hovertemplate": "<b>%{hovertext}</b><br><br>Вік=%{x}<br>Рік=2019<br>Приріст=%{y}<br>Кількість прибулих=%{marker.size}<extra></extra>",
           "hovertext": [
            "15-19"
           ],
           "ids": [
            "15-19"
           ],
           "legendgroup": "15-19",
           "marker": {
            "color": "#ab63fa",
            "size": [
             10678
            ],
            "sizemode": "area",
            "sizeref": 26.695,
            "symbol": "circle"
           },
           "mode": "markers",
           "name": "15-19",
           "orientation": "v",
           "showlegend": true,
           "type": "scatter",
           "x": [
            "15-19"
           ],
           "xaxis": "x",
           "y": [
            9344
           ],
           "yaxis": "y"
          },
          {
           "hovertemplate": "<b>%{hovertext}</b><br><br>Вік=%{x}<br>Рік=2019<br>Приріст=%{y}<br>Кількість прибулих=%{marker.size}<extra></extra>",
           "hovertext": [
            "20-24"
           ],
           "ids": [
            "20-24"
           ],
           "legendgroup": "20-24",
           "marker": {
            "color": "#FFA15A",
            "size": [
             10326
            ],
            "sizemode": "area",
            "sizeref": 26.695,
            "symbol": "circle"
           },
           "mode": "markers",
           "name": "20-24",
           "orientation": "v",
           "showlegend": true,
           "type": "scatter",
           "x": [
            "20-24"
           ],
           "xaxis": "x",
           "y": [
            4656
           ],
           "yaxis": "y"
          },
          {
           "hovertemplate": "<b>%{hovertext}</b><br><br>Вік=%{x}<br>Рік=2019<br>Приріст=%{y}<br>Кількість прибулих=%{marker.size}<extra></extra>",
           "hovertext": [
            "25-29"
           ],
           "ids": [
            "25-29"
           ],
           "legendgroup": "25-29",
           "marker": {
            "color": "#19d3f3",
            "size": [
             5818
            ],
            "sizemode": "area",
            "sizeref": 26.695,
            "symbol": "circle"
           },
           "mode": "markers",
           "name": "25-29",
           "orientation": "v",
           "showlegend": true,
           "type": "scatter",
           "x": [
            "25-29"
           ],
           "xaxis": "x",
           "y": [
            1190
           ],
           "yaxis": "y"
          },
          {
           "hovertemplate": "<b>%{hovertext}</b><br><br>Вік=%{x}<br>Рік=2019<br>Приріст=%{y}<br>Кількість прибулих=%{marker.size}<extra></extra>",
           "hovertext": [
            "30-34"
           ],
           "ids": [
            "30-34"
           ],
           "legendgroup": "30-34",
           "marker": {
            "color": "#FF6692",
            "size": [
             3974
            ],
            "sizemode": "area",
            "sizeref": 26.695,
            "symbol": "circle"
           },
           "mode": "markers",
           "name": "30-34",
           "orientation": "v",
           "showlegend": true,
           "type": "scatter",
           "x": [
            "30-34"
           ],
           "xaxis": "x",
           "y": [
            920
           ],
           "yaxis": "y"
          },
          {
           "hovertemplate": "<b>%{hovertext}</b><br><br>Вік=%{x}<br>Рік=2019<br>Приріст=%{y}<br>Кількість прибулих=%{marker.size}<extra></extra>",
           "hovertext": [
            "35-39"
           ],
           "ids": [
            "35-39"
           ],
           "legendgroup": "35-39",
           "marker": {
            "color": "#B6E880",
            "size": [
             2845
            ],
            "sizemode": "area",
            "sizeref": 26.695,
            "symbol": "circle"
           },
           "mode": "markers",
           "name": "35-39",
           "orientation": "v",
           "showlegend": true,
           "type": "scatter",
           "x": [
            "35-39"
           ],
           "xaxis": "x",
           "y": [
            459
           ],
           "yaxis": "y"
          },
          {
           "hovertemplate": "<b>%{hovertext}</b><br><br>Вік=%{x}<br>Рік=2019<br>Приріст=%{y}<br>Кількість прибулих=%{marker.size}<extra></extra>",
           "hovertext": [
            "40-44"
           ],
           "ids": [
            "40-44"
           ],
           "legendgroup": "40-44",
           "marker": {
            "color": "#FF97FF",
            "size": [
             2059
            ],
            "sizemode": "area",
            "sizeref": 26.695,
            "symbol": "circle"
           },
           "mode": "markers",
           "name": "40-44",
           "orientation": "v",
           "showlegend": true,
           "type": "scatter",
           "x": [
            "40-44"
           ],
           "xaxis": "x",
           "y": [
            181
           ],
           "yaxis": "y"
          },
          {
           "hovertemplate": "<b>%{hovertext}</b><br><br>Вік=%{x}<br>Рік=2019<br>Приріст=%{y}<br>Кількість прибулих=%{marker.size}<extra></extra>",
           "hovertext": [
            "45-49"
           ],
           "ids": [
            "45-49"
           ],
           "legendgroup": "45-49",
           "marker": {
            "color": "#FECB52",
            "size": [
             1928
            ],
            "sizemode": "area",
            "sizeref": 26.695,
            "symbol": "circle"
           },
           "mode": "markers",
           "name": "45-49",
           "orientation": "v",
           "showlegend": true,
           "type": "scatter",
           "x": [
            "45-49"
           ],
           "xaxis": "x",
           "y": [
            486
           ],
           "yaxis": "y"
          },
          {
           "hovertemplate": "<b>%{hovertext}</b><br><br>Вік=%{x}<br>Рік=2019<br>Приріст=%{y}<br>Кількість прибулих=%{marker.size}<extra></extra>",
           "hovertext": [
            "50-54"
           ],
           "ids": [
            "50-54"
           ],
           "legendgroup": "50-54",
           "marker": {
            "color": "#636efa",
            "size": [
             1433
            ],
            "sizemode": "area",
            "sizeref": 26.695,
            "symbol": "circle"
           },
           "mode": "markers",
           "name": "50-54",
           "orientation": "v",
           "showlegend": true,
           "type": "scatter",
           "x": [
            "50-54"
           ],
           "xaxis": "x",
           "y": [
            485
           ],
           "yaxis": "y"
          },
          {
           "hovertemplate": "<b>%{hovertext}</b><br><br>Вік=%{x}<br>Рік=2019<br>Приріст=%{y}<br>Кількість прибулих=%{marker.size}<extra></extra>",
           "hovertext": [
            "55-59"
           ],
           "ids": [
            "55-59"
           ],
           "legendgroup": "55-59",
           "marker": {
            "color": "#EF553B",
            "size": [
             1369
            ],
            "sizemode": "area",
            "sizeref": 26.695,
            "symbol": "circle"
           },
           "mode": "markers",
           "name": "55-59",
           "orientation": "v",
           "showlegend": true,
           "type": "scatter",
           "x": [
            "55-59"
           ],
           "xaxis": "x",
           "y": [
            542
           ],
           "yaxis": "y"
          },
          {
           "hovertemplate": "<b>%{hovertext}</b><br><br>Вік=%{x}<br>Рік=2019<br>Приріст=%{y}<br>Кількість прибулих=%{marker.size}<extra></extra>",
           "hovertext": [
            "60-64"
           ],
           "ids": [
            "60-64"
           ],
           "legendgroup": "60-64",
           "marker": {
            "color": "#00cc96",
            "size": [
             940
            ],
            "sizemode": "area",
            "sizeref": 26.695,
            "symbol": "circle"
           },
           "mode": "markers",
           "name": "60-64",
           "orientation": "v",
           "showlegend": true,
           "type": "scatter",
           "x": [
            "60-64"
           ],
           "xaxis": "x",
           "y": [
            185
           ],
           "yaxis": "y"
          },
          {
           "hovertemplate": "<b>%{hovertext}</b><br><br>Вік=%{x}<br>Рік=2019<br>Приріст=%{y}<br>Кількість прибулих=%{marker.size}<extra></extra>",
           "hovertext": [
            "65-69"
           ],
           "ids": [
            "65-69"
           ],
           "legendgroup": "65-69",
           "marker": {
            "color": "#ab63fa",
            "size": [
             611
            ],
            "sizemode": "area",
            "sizeref": 26.695,
            "symbol": "circle"
           },
           "mode": "markers",
           "name": "65-69",
           "orientation": "v",
           "showlegend": true,
           "type": "scatter",
           "x": [
            "65-69"
           ],
           "xaxis": "x",
           "y": [
            62
           ],
           "yaxis": "y"
          },
          {
           "hovertemplate": "<b>%{hovertext}</b><br><br>Вік=%{x}<br>Рік=2019<br>Приріст=%{y}<br>Кількість прибулих=%{marker.size}<extra></extra>",
           "hovertext": [
            "70-74"
           ],
           "ids": [
            "70-74"
           ],
           "legendgroup": "70-74",
           "marker": {
            "color": "#FFA15A",
            "size": [
             356
            ],
            "sizemode": "area",
            "sizeref": 26.695,
            "symbol": "circle"
           },
           "mode": "markers",
           "name": "70-74",
           "orientation": "v",
           "showlegend": true,
           "type": "scatter",
           "x": [
            "70-74"
           ],
           "xaxis": "x",
           "y": [
            -75
           ],
           "yaxis": "y"
          },
          {
           "hovertemplate": "<b>%{hovertext}</b><br><br>Вік=%{x}<br>Рік=2019<br>Приріст=%{y}<br>Кількість прибулих=%{marker.size}<extra></extra>",
           "hovertext": [
            "75-79"
           ],
           "ids": [
            "75-79"
           ],
           "legendgroup": "75-79",
           "marker": {
            "color": "#19d3f3",
            "size": [
             210
            ],
            "sizemode": "area",
            "sizeref": 26.695,
            "symbol": "circle"
           },
           "mode": "markers",
           "name": "75-79",
           "orientation": "v",
           "showlegend": true,
           "type": "scatter",
           "x": [
            "75-79"
           ],
           "xaxis": "x",
           "y": [
            -77
           ],
           "yaxis": "y"
          },
          {
           "hovertemplate": "<b>%{hovertext}</b><br><br>Вік=%{x}<br>Рік=2019<br>Приріст=%{y}<br>Кількість прибулих=%{marker.size}<extra></extra>",
           "hovertext": [
            "80-84"
           ],
           "ids": [
            "80-84"
           ],
           "legendgroup": "80-84",
           "marker": {
            "color": "#FF6692",
            "size": [
             180
            ],
            "sizemode": "area",
            "sizeref": 26.695,
            "symbol": "circle"
           },
           "mode": "markers",
           "name": "80-84",
           "orientation": "v",
           "showlegend": true,
           "type": "scatter",
           "x": [
            "80-84"
           ],
           "xaxis": "x",
           "y": [
            -55
           ],
           "yaxis": "y"
          },
          {
           "hovertemplate": "<b>%{hovertext}</b><br><br>Вік=%{x}<br>Рік=2019<br>Приріст=%{y}<br>Кількість прибулих=%{marker.size}<extra></extra>",
           "hovertext": [
            " 85 і старше"
           ],
           "ids": [
            " 85 і старше"
           ],
           "legendgroup": " 85 і старше",
           "marker": {
            "color": "#B6E880",
            "size": [
             75
            ],
            "sizemode": "area",
            "sizeref": 26.695,
            "symbol": "circle"
           },
           "mode": "markers",
           "name": " 85 і старше",
           "orientation": "v",
           "showlegend": true,
           "type": "scatter",
           "x": [
            " 85 і старше"
           ],
           "xaxis": "x",
           "y": [
            -12
           ],
           "yaxis": "y"
          }
         ],
         "name": "2019"
        },
        {
         "data": [
          {
           "hovertemplate": "<b>%{hovertext}</b><br><br>Вік=%{x}<br>Рік=2020<br>Приріст=%{y}<br>Кількість прибулих=%{marker.size}<extra></extra>",
           "hovertext": [
            "0-4"
           ],
           "ids": [
            "0-4"
           ],
           "legendgroup": "0-4",
           "marker": {
            "color": "#636efa",
            "size": [
             1226
            ],
            "sizemode": "area",
            "sizeref": 26.695,
            "symbol": "circle"
           },
           "mode": "markers",
           "name": "0-4",
           "orientation": "v",
           "showlegend": true,
           "type": "scatter",
           "x": [
            "0-4"
           ],
           "xaxis": "x",
           "y": [
            1049
           ],
           "yaxis": "y"
          },
          {
           "hovertemplate": "<b>%{hovertext}</b><br><br>Вік=%{x}<br>Рік=2020<br>Приріст=%{y}<br>Кількість прибулих=%{marker.size}<extra></extra>",
           "hovertext": [
            " 5-9"
           ],
           "ids": [
            " 5-9"
           ],
           "legendgroup": " 5-9",
           "marker": {
            "color": "#EF553B",
            "size": [
             359
            ],
            "sizemode": "area",
            "sizeref": 26.695,
            "symbol": "circle"
           },
           "mode": "markers",
           "name": " 5-9",
           "orientation": "v",
           "showlegend": true,
           "type": "scatter",
           "x": [
            " 5-9"
           ],
           "xaxis": "x",
           "y": [
            23
           ],
           "yaxis": "y"
          },
          {
           "hovertemplate": "<b>%{hovertext}</b><br><br>Вік=%{x}<br>Рік=2020<br>Приріст=%{y}<br>Кількість прибулих=%{marker.size}<extra></extra>",
           "hovertext": [
            " 10-14"
           ],
           "ids": [
            " 10-14"
           ],
           "legendgroup": " 10-14",
           "marker": {
            "color": "#00cc96",
            "size": [
             274
            ],
            "sizemode": "area",
            "sizeref": 26.695,
            "symbol": "circle"
           },
           "mode": "markers",
           "name": " 10-14",
           "orientation": "v",
           "showlegend": true,
           "type": "scatter",
           "x": [
            " 10-14"
           ],
           "xaxis": "x",
           "y": [
            -13
           ],
           "yaxis": "y"
          },
          {
           "hovertemplate": "<b>%{hovertext}</b><br><br>Вік=%{x}<br>Рік=2020<br>Приріст=%{y}<br>Кількість прибулих=%{marker.size}<extra></extra>",
           "hovertext": [
            "15-19"
           ],
           "ids": [
            "15-19"
           ],
           "legendgroup": "15-19",
           "marker": {
            "color": "#ab63fa",
            "size": [
             4351
            ],
            "sizemode": "area",
            "sizeref": 26.695,
            "symbol": "circle"
           },
           "mode": "markers",
           "name": "15-19",
           "orientation": "v",
           "showlegend": true,
           "type": "scatter",
           "x": [
            "15-19"
           ],
           "xaxis": "x",
           "y": [
            3303
           ],
           "yaxis": "y"
          },
          {
           "hovertemplate": "<b>%{hovertext}</b><br><br>Вік=%{x}<br>Рік=2020<br>Приріст=%{y}<br>Кількість прибулих=%{marker.size}<extra></extra>",
           "hovertext": [
            "20-24"
           ],
           "ids": [
            "20-24"
           ],
           "legendgroup": "20-24",
           "marker": {
            "color": "#FFA15A",
            "size": [
             5385
            ],
            "sizemode": "area",
            "sizeref": 26.695,
            "symbol": "circle"
           },
           "mode": "markers",
           "name": "20-24",
           "orientation": "v",
           "showlegend": true,
           "type": "scatter",
           "x": [
            "20-24"
           ],
           "xaxis": "x",
           "y": [
            401
           ],
           "yaxis": "y"
          },
          {
           "hovertemplate": "<b>%{hovertext}</b><br><br>Вік=%{x}<br>Рік=2020<br>Приріст=%{y}<br>Кількість прибулих=%{marker.size}<extra></extra>",
           "hovertext": [
            "25-29"
           ],
           "ids": [
            "25-29"
           ],
           "legendgroup": "25-29",
           "marker": {
            "color": "#19d3f3",
            "size": [
             4011
            ],
            "sizemode": "area",
            "sizeref": 26.695,
            "symbol": "circle"
           },
           "mode": "markers",
           "name": "25-29",
           "orientation": "v",
           "showlegend": true,
           "type": "scatter",
           "x": [
            "25-29"
           ],
           "xaxis": "x",
           "y": [
            52
           ],
           "yaxis": "y"
          },
          {
           "hovertemplate": "<b>%{hovertext}</b><br><br>Вік=%{x}<br>Рік=2020<br>Приріст=%{y}<br>Кількість прибулих=%{marker.size}<extra></extra>",
           "hovertext": [
            "30-34"
           ],
           "ids": [
            "30-34"
           ],
           "legendgroup": "30-34",
           "marker": {
            "color": "#FF6692",
            "size": [
             2653
            ],
            "sizemode": "area",
            "sizeref": 26.695,
            "symbol": "circle"
           },
           "mode": "markers",
           "name": "30-34",
           "orientation": "v",
           "showlegend": true,
           "type": "scatter",
           "x": [
            "30-34"
           ],
           "xaxis": "x",
           "y": [
            527
           ],
           "yaxis": "y"
          },
          {
           "hovertemplate": "<b>%{hovertext}</b><br><br>Вік=%{x}<br>Рік=2020<br>Приріст=%{y}<br>Кількість прибулих=%{marker.size}<extra></extra>",
           "hovertext": [
            "35-39"
           ],
           "ids": [
            "35-39"
           ],
           "legendgroup": "35-39",
           "marker": {
            "color": "#B6E880",
            "size": [
             1908
            ],
            "sizemode": "area",
            "sizeref": 26.695,
            "symbol": "circle"
           },
           "mode": "markers",
           "name": "35-39",
           "orientation": "v",
           "showlegend": true,
           "type": "scatter",
           "x": [
            "35-39"
           ],
           "xaxis": "x",
           "y": [
            320
           ],
           "yaxis": "y"
          },
          {
           "hovertemplate": "<b>%{hovertext}</b><br><br>Вік=%{x}<br>Рік=2020<br>Приріст=%{y}<br>Кількість прибулих=%{marker.size}<extra></extra>",
           "hovertext": [
            "40-44"
           ],
           "ids": [
            "40-44"
           ],
           "legendgroup": "40-44",
           "marker": {
            "color": "#FF97FF",
            "size": [
             1422
            ],
            "sizemode": "area",
            "sizeref": 26.695,
            "symbol": "circle"
           },
           "mode": "markers",
           "name": "40-44",
           "orientation": "v",
           "showlegend": true,
           "type": "scatter",
           "x": [
            "40-44"
           ],
           "xaxis": "x",
           "y": [
            167
           ],
           "yaxis": "y"
          },
          {
           "hovertemplate": "<b>%{hovertext}</b><br><br>Вік=%{x}<br>Рік=2020<br>Приріст=%{y}<br>Кількість прибулих=%{marker.size}<extra></extra>",
           "hovertext": [
            "45-49"
           ],
           "ids": [
            "45-49"
           ],
           "legendgroup": "45-49",
           "marker": {
            "color": "#FECB52",
            "size": [
             1224
            ],
            "sizemode": "area",
            "sizeref": 26.695,
            "symbol": "circle"
           },
           "mode": "markers",
           "name": "45-49",
           "orientation": "v",
           "showlegend": true,
           "type": "scatter",
           "x": [
            "45-49"
           ],
           "xaxis": "x",
           "y": [
            266
           ],
           "yaxis": "y"
          },
          {
           "hovertemplate": "<b>%{hovertext}</b><br><br>Вік=%{x}<br>Рік=2020<br>Приріст=%{y}<br>Кількість прибулих=%{marker.size}<extra></extra>",
           "hovertext": [
            "50-54"
           ],
           "ids": [
            "50-54"
           ],
           "legendgroup": "50-54",
           "marker": {
            "color": "#636efa",
            "size": [
             1017
            ],
            "sizemode": "area",
            "sizeref": 26.695,
            "symbol": "circle"
           },
           "mode": "markers",
           "name": "50-54",
           "orientation": "v",
           "showlegend": true,
           "type": "scatter",
           "x": [
            "50-54"
           ],
           "xaxis": "x",
           "y": [
            306
           ],
           "yaxis": "y"
          },
          {
           "hovertemplate": "<b>%{hovertext}</b><br><br>Вік=%{x}<br>Рік=2020<br>Приріст=%{y}<br>Кількість прибулих=%{marker.size}<extra></extra>",
           "hovertext": [
            "55-59"
           ],
           "ids": [
            "55-59"
           ],
           "legendgroup": "55-59",
           "marker": {
            "color": "#EF553B",
            "size": [
             873
            ],
            "sizemode": "area",
            "sizeref": 26.695,
            "symbol": "circle"
           },
           "mode": "markers",
           "name": "55-59",
           "orientation": "v",
           "showlegend": true,
           "type": "scatter",
           "x": [
            "55-59"
           ],
           "xaxis": "x",
           "y": [
            410
           ],
           "yaxis": "y"
          },
          {
           "hovertemplate": "<b>%{hovertext}</b><br><br>Вік=%{x}<br>Рік=2020<br>Приріст=%{y}<br>Кількість прибулих=%{marker.size}<extra></extra>",
           "hovertext": [
            "60-64"
           ],
           "ids": [
            "60-64"
           ],
           "legendgroup": "60-64",
           "marker": {
            "color": "#00cc96",
            "size": [
             682
            ],
            "sizemode": "area",
            "sizeref": 26.695,
            "symbol": "circle"
           },
           "mode": "markers",
           "name": "60-64",
           "orientation": "v",
           "showlegend": true,
           "type": "scatter",
           "x": [
            "60-64"
           ],
           "xaxis": "x",
           "y": [
            279
           ],
           "yaxis": "y"
          },
          {
           "hovertemplate": "<b>%{hovertext}</b><br><br>Вік=%{x}<br>Рік=2020<br>Приріст=%{y}<br>Кількість прибулих=%{marker.size}<extra></extra>",
           "hovertext": [
            "65-69"
           ],
           "ids": [
            "65-69"
           ],
           "legendgroup": "65-69",
           "marker": {
            "color": "#ab63fa",
            "size": [
             365
            ],
            "sizemode": "area",
            "sizeref": 26.695,
            "symbol": "circle"
           },
           "mode": "markers",
           "name": "65-69",
           "orientation": "v",
           "showlegend": true,
           "type": "scatter",
           "x": [
            "65-69"
           ],
           "xaxis": "x",
           "y": [
            61
           ],
           "yaxis": "y"
          },
          {
           "hovertemplate": "<b>%{hovertext}</b><br><br>Вік=%{x}<br>Рік=2020<br>Приріст=%{y}<br>Кількість прибулих=%{marker.size}<extra></extra>",
           "hovertext": [
            "70-74"
           ],
           "ids": [
            "70-74"
           ],
           "legendgroup": "70-74",
           "marker": {
            "color": "#FFA15A",
            "size": [
             248
            ],
            "sizemode": "area",
            "sizeref": 26.695,
            "symbol": "circle"
           },
           "mode": "markers",
           "name": "70-74",
           "orientation": "v",
           "showlegend": true,
           "type": "scatter",
           "x": [
            "70-74"
           ],
           "xaxis": "x",
           "y": [
            40
           ],
           "yaxis": "y"
          },
          {
           "hovertemplate": "<b>%{hovertext}</b><br><br>Вік=%{x}<br>Рік=2020<br>Приріст=%{y}<br>Кількість прибулих=%{marker.size}<extra></extra>",
           "hovertext": [
            "75-79"
           ],
           "ids": [
            "75-79"
           ],
           "legendgroup": "75-79",
           "marker": {
            "color": "#19d3f3",
            "size": [
             138
            ],
            "sizemode": "area",
            "sizeref": 26.695,
            "symbol": "circle"
           },
           "mode": "markers",
           "name": "75-79",
           "orientation": "v",
           "showlegend": true,
           "type": "scatter",
           "x": [
            "75-79"
           ],
           "xaxis": "x",
           "y": [
            5
           ],
           "yaxis": "y"
          },
          {
           "hovertemplate": "<b>%{hovertext}</b><br><br>Вік=%{x}<br>Рік=2020<br>Приріст=%{y}<br>Кількість прибулих=%{marker.size}<extra></extra>",
           "hovertext": [
            "80-84"
           ],
           "ids": [
            "80-84"
           ],
           "legendgroup": "80-84",
           "marker": {
            "color": "#FF6692",
            "size": [
             153
            ],
            "sizemode": "area",
            "sizeref": 26.695,
            "symbol": "circle"
           },
           "mode": "markers",
           "name": "80-84",
           "orientation": "v",
           "showlegend": true,
           "type": "scatter",
           "x": [
            "80-84"
           ],
           "xaxis": "x",
           "y": [
            10
           ],
           "yaxis": "y"
          },
          {
           "hovertemplate": "<b>%{hovertext}</b><br><br>Вік=%{x}<br>Рік=2020<br>Приріст=%{y}<br>Кількість прибулих=%{marker.size}<extra></extra>",
           "hovertext": [
            " 85 і старше"
           ],
           "ids": [
            " 85 і старше"
           ],
           "legendgroup": " 85 і старше",
           "marker": {
            "color": "#B6E880",
            "size": [
             72
            ],
            "sizemode": "area",
            "sizeref": 26.695,
            "symbol": "circle"
           },
           "mode": "markers",
           "name": " 85 і старше",
           "orientation": "v",
           "showlegend": true,
           "type": "scatter",
           "x": [
            " 85 і старше"
           ],
           "xaxis": "x",
           "y": [
            34
           ],
           "yaxis": "y"
          }
         ],
         "name": "2020"
        },
        {
         "data": [
          {
           "hovertemplate": "<b>%{hovertext}</b><br><br>Вік=%{x}<br>Рік=2021<br>Приріст=%{y}<br>Кількість прибулих=%{marker.size}<extra></extra>",
           "hovertext": [
            "0-4"
           ],
           "ids": [
            "0-4"
           ],
           "legendgroup": "0-4",
           "marker": {
            "color": "#636efa",
            "size": [
             2185
            ],
            "sizemode": "area",
            "sizeref": 26.695,
            "symbol": "circle"
           },
           "mode": "markers",
           "name": "0-4",
           "orientation": "v",
           "showlegend": true,
           "type": "scatter",
           "x": [
            "0-4"
           ],
           "xaxis": "x",
           "y": [
            1918
           ],
           "yaxis": "y"
          },
          {
           "hovertemplate": "<b>%{hovertext}</b><br><br>Вік=%{x}<br>Рік=2021<br>Приріст=%{y}<br>Кількість прибулих=%{marker.size}<extra></extra>",
           "hovertext": [
            " 5-9"
           ],
           "ids": [
            " 5-9"
           ],
           "legendgroup": " 5-9",
           "marker": {
            "color": "#EF553B",
            "size": [
             489
            ],
            "sizemode": "area",
            "sizeref": 26.695,
            "symbol": "circle"
           },
           "mode": "markers",
           "name": " 5-9",
           "orientation": "v",
           "showlegend": true,
           "type": "scatter",
           "x": [
            " 5-9"
           ],
           "xaxis": "x",
           "y": [
            96
           ],
           "yaxis": "y"
          },
          {
           "hovertemplate": "<b>%{hovertext}</b><br><br>Вік=%{x}<br>Рік=2021<br>Приріст=%{y}<br>Кількість прибулих=%{marker.size}<extra></extra>",
           "hovertext": [
            " 10-14"
           ],
           "ids": [
            " 10-14"
           ],
           "legendgroup": " 10-14",
           "marker": {
            "color": "#00cc96",
            "size": [
             367
            ],
            "sizemode": "area",
            "sizeref": 26.695,
            "symbol": "circle"
           },
           "mode": "markers",
           "name": " 10-14",
           "orientation": "v",
           "showlegend": true,
           "type": "scatter",
           "x": [
            " 10-14"
           ],
           "xaxis": "x",
           "y": [
            -31
           ],
           "yaxis": "y"
          },
          {
           "hovertemplate": "<b>%{hovertext}</b><br><br>Вік=%{x}<br>Рік=2021<br>Приріст=%{y}<br>Кількість прибулих=%{marker.size}<extra></extra>",
           "hovertext": [
            "15-19"
           ],
           "ids": [
            "15-19"
           ],
           "legendgroup": "15-19",
           "marker": {
            "color": "#ab63fa",
            "size": [
             6885
            ],
            "sizemode": "area",
            "sizeref": 26.695,
            "symbol": "circle"
           },
           "mode": "markers",
           "name": "15-19",
           "orientation": "v",
           "showlegend": true,
           "type": "scatter",
           "x": [
            "15-19"
           ],
           "xaxis": "x",
           "y": [
            5987
           ],
           "yaxis": "y"
          },
          {
           "hovertemplate": "<b>%{hovertext}</b><br><br>Вік=%{x}<br>Рік=2021<br>Приріст=%{y}<br>Кількість прибулих=%{marker.size}<extra></extra>",
           "hovertext": [
            "20-24"
           ],
           "ids": [
            "20-24"
           ],
           "legendgroup": "20-24",
           "marker": {
            "color": "#FFA15A",
            "size": [
             9213
            ],
            "sizemode": "area",
            "sizeref": 26.695,
            "symbol": "circle"
           },
           "mode": "markers",
           "name": "20-24",
           "orientation": "v",
           "showlegend": true,
           "type": "scatter",
           "x": [
            "20-24"
           ],
           "xaxis": "x",
           "y": [
            3767
           ],
           "yaxis": "y"
          },
          {
           "hovertemplate": "<b>%{hovertext}</b><br><br>Вік=%{x}<br>Рік=2021<br>Приріст=%{y}<br>Кількість прибулих=%{marker.size}<extra></extra>",
           "hovertext": [
            "25-29"
           ],
           "ids": [
            "25-29"
           ],
           "legendgroup": "25-29",
           "marker": {
            "color": "#19d3f3",
            "size": [
             6798
            ],
            "sizemode": "area",
            "sizeref": 26.695,
            "symbol": "circle"
           },
           "mode": "markers",
           "name": "25-29",
           "orientation": "v",
           "showlegend": true,
           "type": "scatter",
           "x": [
            "25-29"
           ],
           "xaxis": "x",
           "y": [
            2451
           ],
           "yaxis": "y"
          },
          {
           "hovertemplate": "<b>%{hovertext}</b><br><br>Вік=%{x}<br>Рік=2021<br>Приріст=%{y}<br>Кількість прибулих=%{marker.size}<extra></extra>",
           "hovertext": [
            "30-34"
           ],
           "ids": [
            "30-34"
           ],
           "legendgroup": "30-34",
           "marker": {
            "color": "#FF6692",
            "size": [
             4631
            ],
            "sizemode": "area",
            "sizeref": 26.695,
            "symbol": "circle"
           },
           "mode": "markers",
           "name": "30-34",
           "orientation": "v",
           "showlegend": true,
           "type": "scatter",
           "x": [
            "30-34"
           ],
           "xaxis": "x",
           "y": [
            1912
           ],
           "yaxis": "y"
          },
          {
           "hovertemplate": "<b>%{hovertext}</b><br><br>Вік=%{x}<br>Рік=2021<br>Приріст=%{y}<br>Кількість прибулих=%{marker.size}<extra></extra>",
           "hovertext": [
            "35-39"
           ],
           "ids": [
            "35-39"
           ],
           "legendgroup": "35-39",
           "marker": {
            "color": "#B6E880",
            "size": [
             3063
            ],
            "sizemode": "area",
            "sizeref": 26.695,
            "symbol": "circle"
           },
           "mode": "markers",
           "name": "35-39",
           "orientation": "v",
           "showlegend": true,
           "type": "scatter",
           "x": [
            "35-39"
           ],
           "xaxis": "x",
           "y": [
            1040
           ],
           "yaxis": "y"
          },
          {
           "hovertemplate": "<b>%{hovertext}</b><br><br>Вік=%{x}<br>Рік=2021<br>Приріст=%{y}<br>Кількість прибулих=%{marker.size}<extra></extra>",
           "hovertext": [
            "40-44"
           ],
           "ids": [
            "40-44"
           ],
           "legendgroup": "40-44",
           "marker": {
            "color": "#FF97FF",
            "size": [
             2176
            ],
            "sizemode": "area",
            "sizeref": 26.695,
            "symbol": "circle"
           },
           "mode": "markers",
           "name": "40-44",
           "orientation": "v",
           "showlegend": true,
           "type": "scatter",
           "x": [
            "40-44"
           ],
           "xaxis": "x",
           "y": [
            652
           ],
           "yaxis": "y"
          },
          {
           "hovertemplate": "<b>%{hovertext}</b><br><br>Вік=%{x}<br>Рік=2021<br>Приріст=%{y}<br>Кількість прибулих=%{marker.size}<extra></extra>",
           "hovertext": [
            "45-49"
           ],
           "ids": [
            "45-49"
           ],
           "legendgroup": "45-49",
           "marker": {
            "color": "#FECB52",
            "size": [
             1727
            ],
            "sizemode": "area",
            "sizeref": 26.695,
            "symbol": "circle"
           },
           "mode": "markers",
           "name": "45-49",
           "orientation": "v",
           "showlegend": true,
           "type": "scatter",
           "x": [
            "45-49"
           ],
           "xaxis": "x",
           "y": [
            505
           ],
           "yaxis": "y"
          },
          {
           "hovertemplate": "<b>%{hovertext}</b><br><br>Вік=%{x}<br>Рік=2021<br>Приріст=%{y}<br>Кількість прибулих=%{marker.size}<extra></extra>",
           "hovertext": [
            "50-54"
           ],
           "ids": [
            "50-54"
           ],
           "legendgroup": "50-54",
           "marker": {
            "color": "#636efa",
            "size": [
             1283
            ],
            "sizemode": "area",
            "sizeref": 26.695,
            "symbol": "circle"
           },
           "mode": "markers",
           "name": "50-54",
           "orientation": "v",
           "showlegend": true,
           "type": "scatter",
           "x": [
            "50-54"
           ],
           "xaxis": "x",
           "y": [
            397
           ],
           "yaxis": "y"
          },
          {
           "hovertemplate": "<b>%{hovertext}</b><br><br>Вік=%{x}<br>Рік=2021<br>Приріст=%{y}<br>Кількість прибулих=%{marker.size}<extra></extra>",
           "hovertext": [
            "55-59"
           ],
           "ids": [
            "55-59"
           ],
           "legendgroup": "55-59",
           "marker": {
            "color": "#EF553B",
            "size": [
             1098
            ],
            "sizemode": "area",
            "sizeref": 26.695,
            "symbol": "circle"
           },
           "mode": "markers",
           "name": "55-59",
           "orientation": "v",
           "showlegend": true,
           "type": "scatter",
           "x": [
            "55-59"
           ],
           "xaxis": "x",
           "y": [
            448
           ],
           "yaxis": "y"
          },
          {
           "hovertemplate": "<b>%{hovertext}</b><br><br>Вік=%{x}<br>Рік=2021<br>Приріст=%{y}<br>Кількість прибулих=%{marker.size}<extra></extra>",
           "hovertext": [
            "60-64"
           ],
           "ids": [
            "60-64"
           ],
           "legendgroup": "60-64",
           "marker": {
            "color": "#00cc96",
            "size": [
             783
            ],
            "sizemode": "area",
            "sizeref": 26.695,
            "symbol": "circle"
           },
           "mode": "markers",
           "name": "60-64",
           "orientation": "v",
           "showlegend": true,
           "type": "scatter",
           "x": [
            "60-64"
           ],
           "xaxis": "x",
           "y": [
            265
           ],
           "yaxis": "y"
          },
          {
           "hovertemplate": "<b>%{hovertext}</b><br><br>Вік=%{x}<br>Рік=2021<br>Приріст=%{y}<br>Кількість прибулих=%{marker.size}<extra></extra>",
           "hovertext": [
            "65-69"
           ],
           "ids": [
            "65-69"
           ],
           "legendgroup": "65-69",
           "marker": {
            "color": "#ab63fa",
            "size": [
             472
            ],
            "sizemode": "area",
            "sizeref": 26.695,
            "symbol": "circle"
           },
           "mode": "markers",
           "name": "65-69",
           "orientation": "v",
           "showlegend": true,
           "type": "scatter",
           "x": [
            "65-69"
           ],
           "xaxis": "x",
           "y": [
            27
           ],
           "yaxis": "y"
          },
          {
           "hovertemplate": "<b>%{hovertext}</b><br><br>Вік=%{x}<br>Рік=2021<br>Приріст=%{y}<br>Кількість прибулих=%{marker.size}<extra></extra>",
           "hovertext": [
            "70-74"
           ],
           "ids": [
            "70-74"
           ],
           "legendgroup": "70-74",
           "marker": {
            "color": "#FFA15A",
            "size": [
             259
            ],
            "sizemode": "area",
            "sizeref": 26.695,
            "symbol": "circle"
           },
           "mode": "markers",
           "name": "70-74",
           "orientation": "v",
           "showlegend": true,
           "type": "scatter",
           "x": [
            "70-74"
           ],
           "xaxis": "x",
           "y": [
            -73
           ],
           "yaxis": "y"
          },
          {
           "hovertemplate": "<b>%{hovertext}</b><br><br>Вік=%{x}<br>Рік=2021<br>Приріст=%{y}<br>Кількість прибулих=%{marker.size}<extra></extra>",
           "hovertext": [
            "75-79"
           ],
           "ids": [
            "75-79"
           ],
           "legendgroup": "75-79",
           "marker": {
            "color": "#19d3f3",
            "size": [
             118
            ],
            "sizemode": "area",
            "sizeref": 26.695,
            "symbol": "circle"
           },
           "mode": "markers",
           "name": "75-79",
           "orientation": "v",
           "showlegend": true,
           "type": "scatter",
           "x": [
            "75-79"
           ],
           "xaxis": "x",
           "y": [
            -101
           ],
           "yaxis": "y"
          },
          {
           "hovertemplate": "<b>%{hovertext}</b><br><br>Вік=%{x}<br>Рік=2021<br>Приріст=%{y}<br>Кількість прибулих=%{marker.size}<extra></extra>",
           "hovertext": [
            "80-84"
           ],
           "ids": [
            "80-84"
           ],
           "legendgroup": "80-84",
           "marker": {
            "color": "#FF6692",
            "size": [
             112
            ],
            "sizemode": "area",
            "sizeref": 26.695,
            "symbol": "circle"
           },
           "mode": "markers",
           "name": "80-84",
           "orientation": "v",
           "showlegend": true,
           "type": "scatter",
           "x": [
            "80-84"
           ],
           "xaxis": "x",
           "y": [
            -110
           ],
           "yaxis": "y"
          },
          {
           "hovertemplate": "<b>%{hovertext}</b><br><br>Вік=%{x}<br>Рік=2021<br>Приріст=%{y}<br>Кількість прибулих=%{marker.size}<extra></extra>",
           "hovertext": [
            " 85 і старше"
           ],
           "ids": [
            " 85 і старше"
           ],
           "legendgroup": " 85 і старше",
           "marker": {
            "color": "#B6E880",
            "size": [
             65
            ],
            "sizemode": "area",
            "sizeref": 26.695,
            "symbol": "circle"
           },
           "mode": "markers",
           "name": " 85 і старше",
           "orientation": "v",
           "showlegend": true,
           "type": "scatter",
           "x": [
            " 85 і старше"
           ],
           "xaxis": "x",
           "y": [
            -13
           ],
           "yaxis": "y"
          }
         ],
         "name": "2021"
        }
       ],
       "layout": {
        "legend": {
         "itemsizing": "constant",
         "title": {
          "text": "Вік"
         },
         "tracegroupgap": 0
        },
        "sliders": [
         {
          "active": 0,
          "currentvalue": {
           "prefix": "Рік="
          },
          "len": 0.9,
          "pad": {
           "b": 10,
           "t": 60
          },
          "steps": [
           {
            "args": [
             [
              "2019"
             ],
             {
              "frame": {
               "duration": 0,
               "redraw": false
              },
              "fromcurrent": true,
              "mode": "immediate",
              "transition": {
               "duration": 0,
               "easing": "linear"
              }
             }
            ],
            "label": "2019",
            "method": "animate"
           },
           {
            "args": [
             [
              "2020"
             ],
             {
              "frame": {
               "duration": 0,
               "redraw": false
              },
              "fromcurrent": true,
              "mode": "immediate",
              "transition": {
               "duration": 0,
               "easing": "linear"
              }
             }
            ],
            "label": "2020",
            "method": "animate"
           },
           {
            "args": [
             [
              "2021"
             ],
             {
              "frame": {
               "duration": 0,
               "redraw": false
              },
              "fromcurrent": true,
              "mode": "immediate",
              "transition": {
               "duration": 0,
               "easing": "linear"
              }
             }
            ],
            "label": "2021",
            "method": "animate"
           }
          ],
          "x": 0.1,
          "xanchor": "left",
          "y": 0,
          "yanchor": "top"
         }
        ],
        "template": {
         "data": {
          "bar": [
           {
            "error_x": {
             "color": "#2a3f5f"
            },
            "error_y": {
             "color": "#2a3f5f"
            },
            "marker": {
             "line": {
              "color": "#E5ECF6",
              "width": 0.5
             },
             "pattern": {
              "fillmode": "overlay",
              "size": 10,
              "solidity": 0.2
             }
            },
            "type": "bar"
           }
          ],
          "barpolar": [
           {
            "marker": {
             "line": {
              "color": "#E5ECF6",
              "width": 0.5
             },
             "pattern": {
              "fillmode": "overlay",
              "size": 10,
              "solidity": 0.2
             }
            },
            "type": "barpolar"
           }
          ],
          "carpet": [
           {
            "aaxis": {
             "endlinecolor": "#2a3f5f",
             "gridcolor": "white",
             "linecolor": "white",
             "minorgridcolor": "white",
             "startlinecolor": "#2a3f5f"
            },
            "baxis": {
             "endlinecolor": "#2a3f5f",
             "gridcolor": "white",
             "linecolor": "white",
             "minorgridcolor": "white",
             "startlinecolor": "#2a3f5f"
            },
            "type": "carpet"
           }
          ],
          "choropleth": [
           {
            "colorbar": {
             "outlinewidth": 0,
             "ticks": ""
            },
            "type": "choropleth"
           }
          ],
          "contour": [
           {
            "colorbar": {
             "outlinewidth": 0,
             "ticks": ""
            },
            "colorscale": [
             [
              0,
              "#0d0887"
             ],
             [
              0.1111111111111111,
              "#46039f"
             ],
             [
              0.2222222222222222,
              "#7201a8"
             ],
             [
              0.3333333333333333,
              "#9c179e"
             ],
             [
              0.4444444444444444,
              "#bd3786"
             ],
             [
              0.5555555555555556,
              "#d8576b"
             ],
             [
              0.6666666666666666,
              "#ed7953"
             ],
             [
              0.7777777777777778,
              "#fb9f3a"
             ],
             [
              0.8888888888888888,
              "#fdca26"
             ],
             [
              1,
              "#f0f921"
             ]
            ],
            "type": "contour"
           }
          ],
          "contourcarpet": [
           {
            "colorbar": {
             "outlinewidth": 0,
             "ticks": ""
            },
            "type": "contourcarpet"
           }
          ],
          "heatmap": [
           {
            "colorbar": {
             "outlinewidth": 0,
             "ticks": ""
            },
            "colorscale": [
             [
              0,
              "#0d0887"
             ],
             [
              0.1111111111111111,
              "#46039f"
             ],
             [
              0.2222222222222222,
              "#7201a8"
             ],
             [
              0.3333333333333333,
              "#9c179e"
             ],
             [
              0.4444444444444444,
              "#bd3786"
             ],
             [
              0.5555555555555556,
              "#d8576b"
             ],
             [
              0.6666666666666666,
              "#ed7953"
             ],
             [
              0.7777777777777778,
              "#fb9f3a"
             ],
             [
              0.8888888888888888,
              "#fdca26"
             ],
             [
              1,
              "#f0f921"
             ]
            ],
            "type": "heatmap"
           }
          ],
          "heatmapgl": [
           {
            "colorbar": {
             "outlinewidth": 0,
             "ticks": ""
            },
            "colorscale": [
             [
              0,
              "#0d0887"
             ],
             [
              0.1111111111111111,
              "#46039f"
             ],
             [
              0.2222222222222222,
              "#7201a8"
             ],
             [
              0.3333333333333333,
              "#9c179e"
             ],
             [
              0.4444444444444444,
              "#bd3786"
             ],
             [
              0.5555555555555556,
              "#d8576b"
             ],
             [
              0.6666666666666666,
              "#ed7953"
             ],
             [
              0.7777777777777778,
              "#fb9f3a"
             ],
             [
              0.8888888888888888,
              "#fdca26"
             ],
             [
              1,
              "#f0f921"
             ]
            ],
            "type": "heatmapgl"
           }
          ],
          "histogram": [
           {
            "marker": {
             "pattern": {
              "fillmode": "overlay",
              "size": 10,
              "solidity": 0.2
             }
            },
            "type": "histogram"
           }
          ],
          "histogram2d": [
           {
            "colorbar": {
             "outlinewidth": 0,
             "ticks": ""
            },
            "colorscale": [
             [
              0,
              "#0d0887"
             ],
             [
              0.1111111111111111,
              "#46039f"
             ],
             [
              0.2222222222222222,
              "#7201a8"
             ],
             [
              0.3333333333333333,
              "#9c179e"
             ],
             [
              0.4444444444444444,
              "#bd3786"
             ],
             [
              0.5555555555555556,
              "#d8576b"
             ],
             [
              0.6666666666666666,
              "#ed7953"
             ],
             [
              0.7777777777777778,
              "#fb9f3a"
             ],
             [
              0.8888888888888888,
              "#fdca26"
             ],
             [
              1,
              "#f0f921"
             ]
            ],
            "type": "histogram2d"
           }
          ],
          "histogram2dcontour": [
           {
            "colorbar": {
             "outlinewidth": 0,
             "ticks": ""
            },
            "colorscale": [
             [
              0,
              "#0d0887"
             ],
             [
              0.1111111111111111,
              "#46039f"
             ],
             [
              0.2222222222222222,
              "#7201a8"
             ],
             [
              0.3333333333333333,
              "#9c179e"
             ],
             [
              0.4444444444444444,
              "#bd3786"
             ],
             [
              0.5555555555555556,
              "#d8576b"
             ],
             [
              0.6666666666666666,
              "#ed7953"
             ],
             [
              0.7777777777777778,
              "#fb9f3a"
             ],
             [
              0.8888888888888888,
              "#fdca26"
             ],
             [
              1,
              "#f0f921"
             ]
            ],
            "type": "histogram2dcontour"
           }
          ],
          "mesh3d": [
           {
            "colorbar": {
             "outlinewidth": 0,
             "ticks": ""
            },
            "type": "mesh3d"
           }
          ],
          "parcoords": [
           {
            "line": {
             "colorbar": {
              "outlinewidth": 0,
              "ticks": ""
             }
            },
            "type": "parcoords"
           }
          ],
          "pie": [
           {
            "automargin": true,
            "type": "pie"
           }
          ],
          "scatter": [
           {
            "fillpattern": {
             "fillmode": "overlay",
             "size": 10,
             "solidity": 0.2
            },
            "type": "scatter"
           }
          ],
          "scatter3d": [
           {
            "line": {
             "colorbar": {
              "outlinewidth": 0,
              "ticks": ""
             }
            },
            "marker": {
             "colorbar": {
              "outlinewidth": 0,
              "ticks": ""
             }
            },
            "type": "scatter3d"
           }
          ],
          "scattercarpet": [
           {
            "marker": {
             "colorbar": {
              "outlinewidth": 0,
              "ticks": ""
             }
            },
            "type": "scattercarpet"
           }
          ],
          "scattergeo": [
           {
            "marker": {
             "colorbar": {
              "outlinewidth": 0,
              "ticks": ""
             }
            },
            "type": "scattergeo"
           }
          ],
          "scattergl": [
           {
            "marker": {
             "colorbar": {
              "outlinewidth": 0,
              "ticks": ""
             }
            },
            "type": "scattergl"
           }
          ],
          "scattermapbox": [
           {
            "marker": {
             "colorbar": {
              "outlinewidth": 0,
              "ticks": ""
             }
            },
            "type": "scattermapbox"
           }
          ],
          "scatterpolar": [
           {
            "marker": {
             "colorbar": {
              "outlinewidth": 0,
              "ticks": ""
             }
            },
            "type": "scatterpolar"
           }
          ],
          "scatterpolargl": [
           {
            "marker": {
             "colorbar": {
              "outlinewidth": 0,
              "ticks": ""
             }
            },
            "type": "scatterpolargl"
           }
          ],
          "scatterternary": [
           {
            "marker": {
             "colorbar": {
              "outlinewidth": 0,
              "ticks": ""
             }
            },
            "type": "scatterternary"
           }
          ],
          "surface": [
           {
            "colorbar": {
             "outlinewidth": 0,
             "ticks": ""
            },
            "colorscale": [
             [
              0,
              "#0d0887"
             ],
             [
              0.1111111111111111,
              "#46039f"
             ],
             [
              0.2222222222222222,
              "#7201a8"
             ],
             [
              0.3333333333333333,
              "#9c179e"
             ],
             [
              0.4444444444444444,
              "#bd3786"
             ],
             [
              0.5555555555555556,
              "#d8576b"
             ],
             [
              0.6666666666666666,
              "#ed7953"
             ],
             [
              0.7777777777777778,
              "#fb9f3a"
             ],
             [
              0.8888888888888888,
              "#fdca26"
             ],
             [
              1,
              "#f0f921"
             ]
            ],
            "type": "surface"
           }
          ],
          "table": [
           {
            "cells": {
             "fill": {
              "color": "#EBF0F8"
             },
             "line": {
              "color": "white"
             }
            },
            "header": {
             "fill": {
              "color": "#C8D4E3"
             },
             "line": {
              "color": "white"
             }
            },
            "type": "table"
           }
          ]
         },
         "layout": {
          "annotationdefaults": {
           "arrowcolor": "#2a3f5f",
           "arrowhead": 0,
           "arrowwidth": 1
          },
          "autotypenumbers": "strict",
          "coloraxis": {
           "colorbar": {
            "outlinewidth": 0,
            "ticks": ""
           }
          },
          "colorscale": {
           "diverging": [
            [
             0,
             "#8e0152"
            ],
            [
             0.1,
             "#c51b7d"
            ],
            [
             0.2,
             "#de77ae"
            ],
            [
             0.3,
             "#f1b6da"
            ],
            [
             0.4,
             "#fde0ef"
            ],
            [
             0.5,
             "#f7f7f7"
            ],
            [
             0.6,
             "#e6f5d0"
            ],
            [
             0.7,
             "#b8e186"
            ],
            [
             0.8,
             "#7fbc41"
            ],
            [
             0.9,
             "#4d9221"
            ],
            [
             1,
             "#276419"
            ]
           ],
           "sequential": [
            [
             0,
             "#0d0887"
            ],
            [
             0.1111111111111111,
             "#46039f"
            ],
            [
             0.2222222222222222,
             "#7201a8"
            ],
            [
             0.3333333333333333,
             "#9c179e"
            ],
            [
             0.4444444444444444,
             "#bd3786"
            ],
            [
             0.5555555555555556,
             "#d8576b"
            ],
            [
             0.6666666666666666,
             "#ed7953"
            ],
            [
             0.7777777777777778,
             "#fb9f3a"
            ],
            [
             0.8888888888888888,
             "#fdca26"
            ],
            [
             1,
             "#f0f921"
            ]
           ],
           "sequentialminus": [
            [
             0,
             "#0d0887"
            ],
            [
             0.1111111111111111,
             "#46039f"
            ],
            [
             0.2222222222222222,
             "#7201a8"
            ],
            [
             0.3333333333333333,
             "#9c179e"
            ],
            [
             0.4444444444444444,
             "#bd3786"
            ],
            [
             0.5555555555555556,
             "#d8576b"
            ],
            [
             0.6666666666666666,
             "#ed7953"
            ],
            [
             0.7777777777777778,
             "#fb9f3a"
            ],
            [
             0.8888888888888888,
             "#fdca26"
            ],
            [
             1,
             "#f0f921"
            ]
           ]
          },
          "colorway": [
           "#636efa",
           "#EF553B",
           "#00cc96",
           "#ab63fa",
           "#FFA15A",
           "#19d3f3",
           "#FF6692",
           "#B6E880",
           "#FF97FF",
           "#FECB52"
          ],
          "font": {
           "color": "#2a3f5f"
          },
          "geo": {
           "bgcolor": "white",
           "lakecolor": "white",
           "landcolor": "#E5ECF6",
           "showlakes": true,
           "showland": true,
           "subunitcolor": "white"
          },
          "hoverlabel": {
           "align": "left"
          },
          "hovermode": "closest",
          "mapbox": {
           "style": "light"
          },
          "paper_bgcolor": "white",
          "plot_bgcolor": "#E5ECF6",
          "polar": {
           "angularaxis": {
            "gridcolor": "white",
            "linecolor": "white",
            "ticks": ""
           },
           "bgcolor": "#E5ECF6",
           "radialaxis": {
            "gridcolor": "white",
            "linecolor": "white",
            "ticks": ""
           }
          },
          "scene": {
           "xaxis": {
            "backgroundcolor": "#E5ECF6",
            "gridcolor": "white",
            "gridwidth": 2,
            "linecolor": "white",
            "showbackground": true,
            "ticks": "",
            "zerolinecolor": "white"
           },
           "yaxis": {
            "backgroundcolor": "#E5ECF6",
            "gridcolor": "white",
            "gridwidth": 2,
            "linecolor": "white",
            "showbackground": true,
            "ticks": "",
            "zerolinecolor": "white"
           },
           "zaxis": {
            "backgroundcolor": "#E5ECF6",
            "gridcolor": "white",
            "gridwidth": 2,
            "linecolor": "white",
            "showbackground": true,
            "ticks": "",
            "zerolinecolor": "white"
           }
          },
          "shapedefaults": {
           "line": {
            "color": "#2a3f5f"
           }
          },
          "ternary": {
           "aaxis": {
            "gridcolor": "white",
            "linecolor": "white",
            "ticks": ""
           },
           "baxis": {
            "gridcolor": "white",
            "linecolor": "white",
            "ticks": ""
           },
           "bgcolor": "#E5ECF6",
           "caxis": {
            "gridcolor": "white",
            "linecolor": "white",
            "ticks": ""
           }
          },
          "title": {
           "x": 0.05
          },
          "xaxis": {
           "automargin": true,
           "gridcolor": "white",
           "linecolor": "white",
           "ticks": "",
           "title": {
            "standoff": 15
           },
           "zerolinecolor": "white",
           "zerolinewidth": 2
          },
          "yaxis": {
           "automargin": true,
           "gridcolor": "white",
           "linecolor": "white",
           "ticks": "",
           "title": {
            "standoff": 15
           },
           "zerolinecolor": "white",
           "zerolinewidth": 2
          }
         }
        },
        "title": {
         "text": "Міграційний приріст/скорочення протягом 2019-2021"
        },
        "updatemenus": [
         {
          "buttons": [
           {
            "args": [
             null,
             {
              "frame": {
               "duration": 500,
               "redraw": false
              },
              "fromcurrent": true,
              "mode": "immediate",
              "transition": {
               "duration": 500,
               "easing": "linear"
              }
             }
            ],
            "label": "&#9654;",
            "method": "animate"
           },
           {
            "args": [
             [
              null
             ],
             {
              "frame": {
               "duration": 0,
               "redraw": false
              },
              "fromcurrent": true,
              "mode": "immediate",
              "transition": {
               "duration": 0,
               "easing": "linear"
              }
             }
            ],
            "label": "&#9724;",
            "method": "animate"
           }
          ],
          "direction": "left",
          "pad": {
           "r": 10,
           "t": 70
          },
          "showactive": false,
          "type": "buttons",
          "x": 0.1,
          "xanchor": "right",
          "y": 0,
          "yanchor": "top"
         }
        ],
        "xaxis": {
         "anchor": "y",
         "categoryarray": [
          "0-4",
          " 5-9",
          " 10-14",
          "15-19",
          "20-24",
          "25-29",
          "30-34",
          "35-39",
          "40-44",
          "45-49",
          "50-54",
          "55-59",
          "60-64",
          "65-69",
          "70-74",
          "75-79",
          "80-84",
          " 85 і старше"
         ],
         "categoryorder": "array",
         "domain": [
          0,
          1
         ],
         "title": {
          "text": "Вік"
         }
        },
        "yaxis": {
         "anchor": "x",
         "domain": [
          0,
          1
         ],
         "title": {
          "text": "Приріст"
         }
        }
       }
      }
     },
     "metadata": {},
     "output_type": "display_data"
    }
   ],
   "source": [
    "fig = px.scatter(df_migr, x=\"Вік\", y=\"Приріст\", animation_frame=\"Рік\", animation_group=\"Вік\",\n",
    "           color=\"Вік\", hover_name=\"Вік\", size = 'Кількість прибулих', title = 'Міграційний приріст/скорочення протягом 2019-2021')\n",
    "fig"
   ]
  },
  {
   "cell_type": "markdown",
   "metadata": {},
   "source": [
    "# Міграція (усі потоки) 2002-2021"
   ]
  },
  {
   "cell_type": "code",
   "execution_count": 50,
   "metadata": {},
   "outputs": [
    {
     "data": {
      "text/html": [
       "<div>\n",
       "<style scoped>\n",
       "    .dataframe tbody tr th:only-of-type {\n",
       "        vertical-align: middle;\n",
       "    }\n",
       "\n",
       "    .dataframe tbody tr th {\n",
       "        vertical-align: top;\n",
       "    }\n",
       "\n",
       "    .dataframe thead th {\n",
       "        text-align: right;\n",
       "    }\n",
       "</style>\n",
       "<table border=\"1\" class=\"dataframe\">\n",
       "  <thead>\n",
       "    <tr style=\"text-align: right;\">\n",
       "      <th></th>\n",
       "      <th>Рік</th>\n",
       "      <th>Прибули</th>\n",
       "      <th>Вибули</th>\n",
       "      <th>Приріст</th>\n",
       "      <th>Тип місцевості</th>\n",
       "    </tr>\n",
       "  </thead>\n",
       "  <tbody>\n",
       "    <tr>\n",
       "      <th>0</th>\n",
       "      <td>2002</td>\n",
       "      <td>760005</td>\n",
       "      <td>793796</td>\n",
       "      <td>-33791</td>\n",
       "      <td>Міська та сільська</td>\n",
       "    </tr>\n",
       "    <tr>\n",
       "      <th>1</th>\n",
       "      <td>2003</td>\n",
       "      <td>762033</td>\n",
       "      <td>786243</td>\n",
       "      <td>-24210</td>\n",
       "      <td>Міська та сільська</td>\n",
       "    </tr>\n",
       "  </tbody>\n",
       "</table>\n",
       "</div>"
      ],
      "text/plain": [
       "    Рік  Прибули  Вибули  Приріст      Тип місцевості\n",
       "0  2002   760005  793796   -33791  Міська та сільська\n",
       "1  2003   762033  786243   -24210  Міська та сільська"
      ]
     },
     "execution_count": 50,
     "metadata": {},
     "output_type": "execute_result"
    }
   ],
   "source": [
    "df_general_migr = pd.read_excel('migration_2002-2021.xlsx')\n",
    "df_general_migr"
   ]
  },
  {
   "cell_type": "code",
   "execution_count": 77,
   "metadata": {},
   "outputs": [
    {
     "data": {
      "application/vnd.plotly.v1+json": {
       "config": {
        "plotlyServerURL": "https://plot.ly"
       },
       "data": [
        {
         "alignmentgroup": "True",
         "hovertemplate": "Тип місцевості=%{x}<br>Рік=2002<br>Приріст=%{y}<extra></extra>",
         "ids": [
          "Міська та сільська"
         ],
         "legendgroup": "Міська та сільська",
         "marker": {
          "color": "#636efa",
          "pattern": {
           "shape": ""
          }
         },
         "name": "Міська та сільська",
         "offsetgroup": "Міська та сільська",
         "orientation": "v",
         "showlegend": true,
         "textposition": "auto",
         "type": "bar",
         "x": [
          "Міська та сільська"
         ],
         "xaxis": "x",
         "y": [
          -33791
         ],
         "yaxis": "y"
        },
        {
         "alignmentgroup": "True",
         "hovertemplate": "Тип місцевості=%{x}<br>Рік=2002<br>Приріст=%{y}<extra></extra>",
         "ids": [
          "Міська"
         ],
         "legendgroup": "Міська",
         "marker": {
          "color": "#EF553B",
          "pattern": {
           "shape": ""
          }
         },
         "name": "Міська",
         "offsetgroup": "Міська",
         "orientation": "v",
         "showlegend": true,
         "textposition": "auto",
         "type": "bar",
         "x": [
          "Міська"
         ],
         "xaxis": "x",
         "y": [
          -9114
         ],
         "yaxis": "y"
        },
        {
         "alignmentgroup": "True",
         "hovertemplate": "Тип місцевості=%{x}<br>Рік=2002<br>Приріст=%{y}<extra></extra>",
         "ids": [
          "Сільська"
         ],
         "legendgroup": "Сільська",
         "marker": {
          "color": "#00cc96",
          "pattern": {
           "shape": ""
          }
         },
         "name": "Сільська",
         "offsetgroup": "Сільська",
         "orientation": "v",
         "showlegend": true,
         "textposition": "auto",
         "type": "bar",
         "x": [
          "Сільська"
         ],
         "xaxis": "x",
         "y": [
          -24677
         ],
         "yaxis": "y"
        }
       ],
       "frames": [
        {
         "data": [
          {
           "alignmentgroup": "True",
           "hovertemplate": "Тип місцевості=%{x}<br>Рік=2002<br>Приріст=%{y}<extra></extra>",
           "ids": [
            "Міська та сільська"
           ],
           "legendgroup": "Міська та сільська",
           "marker": {
            "color": "#636efa",
            "pattern": {
             "shape": ""
            }
           },
           "name": "Міська та сільська",
           "offsetgroup": "Міська та сільська",
           "orientation": "v",
           "showlegend": true,
           "textposition": "auto",
           "type": "bar",
           "x": [
            "Міська та сільська"
           ],
           "xaxis": "x",
           "y": [
            -33791
           ],
           "yaxis": "y"
          },
          {
           "alignmentgroup": "True",
           "hovertemplate": "Тип місцевості=%{x}<br>Рік=2002<br>Приріст=%{y}<extra></extra>",
           "ids": [
            "Міська"
           ],
           "legendgroup": "Міська",
           "marker": {
            "color": "#EF553B",
            "pattern": {
             "shape": ""
            }
           },
           "name": "Міська",
           "offsetgroup": "Міська",
           "orientation": "v",
           "showlegend": true,
           "textposition": "auto",
           "type": "bar",
           "x": [
            "Міська"
           ],
           "xaxis": "x",
           "y": [
            -9114
           ],
           "yaxis": "y"
          },
          {
           "alignmentgroup": "True",
           "hovertemplate": "Тип місцевості=%{x}<br>Рік=2002<br>Приріст=%{y}<extra></extra>",
           "ids": [
            "Сільська"
           ],
           "legendgroup": "Сільська",
           "marker": {
            "color": "#00cc96",
            "pattern": {
             "shape": ""
            }
           },
           "name": "Сільська",
           "offsetgroup": "Сільська",
           "orientation": "v",
           "showlegend": true,
           "textposition": "auto",
           "type": "bar",
           "x": [
            "Сільська"
           ],
           "xaxis": "x",
           "y": [
            -24677
           ],
           "yaxis": "y"
          }
         ],
         "name": "2002"
        },
        {
         "data": [
          {
           "alignmentgroup": "True",
           "hovertemplate": "Тип місцевості=%{x}<br>Рік=2003<br>Приріст=%{y}<extra></extra>",
           "ids": [
            "Міська та сільська"
           ],
           "legendgroup": "Міська та сільська",
           "marker": {
            "color": "#636efa",
            "pattern": {
             "shape": ""
            }
           },
           "name": "Міська та сільська",
           "offsetgroup": "Міська та сільська",
           "orientation": "v",
           "showlegend": true,
           "textposition": "auto",
           "type": "bar",
           "x": [
            "Міська та сільська"
           ],
           "xaxis": "x",
           "y": [
            -24210
           ],
           "yaxis": "y"
          },
          {
           "alignmentgroup": "True",
           "hovertemplate": "Тип місцевості=%{x}<br>Рік=2003<br>Приріст=%{y}<extra></extra>",
           "ids": [
            "Міська"
           ],
           "legendgroup": "Міська",
           "marker": {
            "color": "#EF553B",
            "pattern": {
             "shape": ""
            }
           },
           "name": "Міська",
           "offsetgroup": "Міська",
           "orientation": "v",
           "showlegend": true,
           "textposition": "auto",
           "type": "bar",
           "x": [
            "Міська"
           ],
           "xaxis": "x",
           "y": [
            7802
           ],
           "yaxis": "y"
          },
          {
           "alignmentgroup": "True",
           "hovertemplate": "Тип місцевості=%{x}<br>Рік=2003<br>Приріст=%{y}<extra></extra>",
           "ids": [
            "Сільська"
           ],
           "legendgroup": "Сільська",
           "marker": {
            "color": "#00cc96",
            "pattern": {
             "shape": ""
            }
           },
           "name": "Сільська",
           "offsetgroup": "Сільська",
           "orientation": "v",
           "showlegend": true,
           "textposition": "auto",
           "type": "bar",
           "x": [
            "Сільська"
           ],
           "xaxis": "x",
           "y": [
            -32012
           ],
           "yaxis": "y"
          }
         ],
         "name": "2003"
        },
        {
         "data": [
          {
           "alignmentgroup": "True",
           "hovertemplate": "Тип місцевості=%{x}<br>Рік=2004<br>Приріст=%{y}<extra></extra>",
           "ids": [
            "Міська та сільська"
           ],
           "legendgroup": "Міська та сільська",
           "marker": {
            "color": "#636efa",
            "pattern": {
             "shape": ""
            }
           },
           "name": "Міська та сільська",
           "offsetgroup": "Міська та сільська",
           "orientation": "v",
           "showlegend": true,
           "textposition": "auto",
           "type": "bar",
           "x": [
            "Міська та сільська"
           ],
           "xaxis": "x",
           "y": [
            -7615
           ],
           "yaxis": "y"
          },
          {
           "alignmentgroup": "True",
           "hovertemplate": "Тип місцевості=%{x}<br>Рік=2004<br>Приріст=%{y}<extra></extra>",
           "ids": [
            "Міська"
           ],
           "legendgroup": "Міська",
           "marker": {
            "color": "#EF553B",
            "pattern": {
             "shape": ""
            }
           },
           "name": "Міська",
           "offsetgroup": "Міська",
           "orientation": "v",
           "showlegend": true,
           "textposition": "auto",
           "type": "bar",
           "x": [
            "Міська"
           ],
           "xaxis": "x",
           "y": [
            37135
           ],
           "yaxis": "y"
          },
          {
           "alignmentgroup": "True",
           "hovertemplate": "Тип місцевості=%{x}<br>Рік=2004<br>Приріст=%{y}<extra></extra>",
           "ids": [
            "Сільська"
           ],
           "legendgroup": "Сільська",
           "marker": {
            "color": "#00cc96",
            "pattern": {
             "shape": ""
            }
           },
           "name": "Сільська",
           "offsetgroup": "Сільська",
           "orientation": "v",
           "showlegend": true,
           "textposition": "auto",
           "type": "bar",
           "x": [
            "Сільська"
           ],
           "xaxis": "x",
           "y": [
            -44750
           ],
           "yaxis": "y"
          }
         ],
         "name": "2004"
        },
        {
         "data": [
          {
           "alignmentgroup": "True",
           "hovertemplate": "Тип місцевості=%{x}<br>Рік=2005<br>Приріст=%{y}<extra></extra>",
           "ids": [
            "Міська та сільська"
           ],
           "legendgroup": "Міська та сільська",
           "marker": {
            "color": "#636efa",
            "pattern": {
             "shape": ""
            }
           },
           "name": "Міська та сільська",
           "offsetgroup": "Міська та сільська",
           "orientation": "v",
           "showlegend": true,
           "textposition": "auto",
           "type": "bar",
           "x": [
            "Міська та сільська"
           ],
           "xaxis": "x",
           "y": [
            4583
           ],
           "yaxis": "y"
          },
          {
           "alignmentgroup": "True",
           "hovertemplate": "Тип місцевості=%{x}<br>Рік=2005<br>Приріст=%{y}<extra></extra>",
           "ids": [
            "Міська"
           ],
           "legendgroup": "Міська",
           "marker": {
            "color": "#EF553B",
            "pattern": {
             "shape": ""
            }
           },
           "name": "Міська",
           "offsetgroup": "Міська",
           "orientation": "v",
           "showlegend": true,
           "textposition": "auto",
           "type": "bar",
           "x": [
            "Міська"
           ],
           "xaxis": "x",
           "y": [
            55694
           ],
           "yaxis": "y"
          },
          {
           "alignmentgroup": "True",
           "hovertemplate": "Тип місцевості=%{x}<br>Рік=2005<br>Приріст=%{y}<extra></extra>",
           "ids": [
            "Сільська"
           ],
           "legendgroup": "Сільська",
           "marker": {
            "color": "#00cc96",
            "pattern": {
             "shape": ""
            }
           },
           "name": "Сільська",
           "offsetgroup": "Сільська",
           "orientation": "v",
           "showlegend": true,
           "textposition": "auto",
           "type": "bar",
           "x": [
            "Сільська"
           ],
           "xaxis": "x",
           "y": [
            -51111
           ],
           "yaxis": "y"
          }
         ],
         "name": "2005"
        },
        {
         "data": [
          {
           "alignmentgroup": "True",
           "hovertemplate": "Тип місцевості=%{x}<br>Рік=2006<br>Приріст=%{y}<extra></extra>",
           "ids": [
            "Міська та сільська"
           ],
           "legendgroup": "Міська та сільська",
           "marker": {
            "color": "#636efa",
            "pattern": {
             "shape": ""
            }
           },
           "name": "Міська та сільська",
           "offsetgroup": "Міська та сільська",
           "orientation": "v",
           "showlegend": true,
           "textposition": "auto",
           "type": "bar",
           "x": [
            "Міська та сільська"
           ],
           "xaxis": "x",
           "y": [
            14245
           ],
           "yaxis": "y"
          },
          {
           "alignmentgroup": "True",
           "hovertemplate": "Тип місцевості=%{x}<br>Рік=2006<br>Приріст=%{y}<extra></extra>",
           "ids": [
            "Міська"
           ],
           "legendgroup": "Міська",
           "marker": {
            "color": "#EF553B",
            "pattern": {
             "shape": ""
            }
           },
           "name": "Міська",
           "offsetgroup": "Міська",
           "orientation": "v",
           "showlegend": true,
           "textposition": "auto",
           "type": "bar",
           "x": [
            "Міська"
           ],
           "xaxis": "x",
           "y": [
            48451
           ],
           "yaxis": "y"
          },
          {
           "alignmentgroup": "True",
           "hovertemplate": "Тип місцевості=%{x}<br>Рік=2006<br>Приріст=%{y}<extra></extra>",
           "ids": [
            "Сільська"
           ],
           "legendgroup": "Сільська",
           "marker": {
            "color": "#00cc96",
            "pattern": {
             "shape": ""
            }
           },
           "name": "Сільська",
           "offsetgroup": "Сільська",
           "orientation": "v",
           "showlegend": true,
           "textposition": "auto",
           "type": "bar",
           "x": [
            "Сільська"
           ],
           "xaxis": "x",
           "y": [
            -34206
           ],
           "yaxis": "y"
          }
         ],
         "name": "2006"
        },
        {
         "data": [
          {
           "alignmentgroup": "True",
           "hovertemplate": "Тип місцевості=%{x}<br>Рік=2007<br>Приріст=%{y}<extra></extra>",
           "ids": [
            "Міська та сільська"
           ],
           "legendgroup": "Міська та сільська",
           "marker": {
            "color": "#636efa",
            "pattern": {
             "shape": ""
            }
           },
           "name": "Міська та сільська",
           "offsetgroup": "Міська та сільська",
           "orientation": "v",
           "showlegend": true,
           "textposition": "auto",
           "type": "bar",
           "x": [
            "Міська та сільська"
           ],
           "xaxis": "x",
           "y": [
            16838
           ],
           "yaxis": "y"
          },
          {
           "alignmentgroup": "True",
           "hovertemplate": "Тип місцевості=%{x}<br>Рік=2007<br>Приріст=%{y}<extra></extra>",
           "ids": [
            "Міська"
           ],
           "legendgroup": "Міська",
           "marker": {
            "color": "#EF553B",
            "pattern": {
             "shape": ""
            }
           },
           "name": "Міська",
           "offsetgroup": "Міська",
           "orientation": "v",
           "showlegend": true,
           "textposition": "auto",
           "type": "bar",
           "x": [
            "Міська"
           ],
           "xaxis": "x",
           "y": [
            43578
           ],
           "yaxis": "y"
          },
          {
           "alignmentgroup": "True",
           "hovertemplate": "Тип місцевості=%{x}<br>Рік=2007<br>Приріст=%{y}<extra></extra>",
           "ids": [
            "Сільська"
           ],
           "legendgroup": "Сільська",
           "marker": {
            "color": "#00cc96",
            "pattern": {
             "shape": ""
            }
           },
           "name": "Сільська",
           "offsetgroup": "Сільська",
           "orientation": "v",
           "showlegend": true,
           "textposition": "auto",
           "type": "bar",
           "x": [
            "Сільська"
           ],
           "xaxis": "x",
           "y": [
            -26740
           ],
           "yaxis": "y"
          }
         ],
         "name": "2007"
        },
        {
         "data": [
          {
           "alignmentgroup": "True",
           "hovertemplate": "Тип місцевості=%{x}<br>Рік=2008<br>Приріст=%{y}<extra></extra>",
           "ids": [
            "Міська та сільська"
           ],
           "legendgroup": "Міська та сільська",
           "marker": {
            "color": "#636efa",
            "pattern": {
             "shape": ""
            }
           },
           "name": "Міська та сільська",
           "offsetgroup": "Міська та сільська",
           "orientation": "v",
           "showlegend": true,
           "textposition": "auto",
           "type": "bar",
           "x": [
            "Міська та сільська"
           ],
           "xaxis": "x",
           "y": [
            14921
           ],
           "yaxis": "y"
          },
          {
           "alignmentgroup": "True",
           "hovertemplate": "Тип місцевості=%{x}<br>Рік=2008<br>Приріст=%{y}<extra></extra>",
           "ids": [
            "Міська"
           ],
           "legendgroup": "Міська",
           "marker": {
            "color": "#EF553B",
            "pattern": {
             "shape": ""
            }
           },
           "name": "Міська",
           "offsetgroup": "Міська",
           "orientation": "v",
           "showlegend": true,
           "textposition": "auto",
           "type": "bar",
           "x": [
            "Міська"
           ],
           "xaxis": "x",
           "y": [
            40749
           ],
           "yaxis": "y"
          },
          {
           "alignmentgroup": "True",
           "hovertemplate": "Тип місцевості=%{x}<br>Рік=2008<br>Приріст=%{y}<extra></extra>",
           "ids": [
            "Сільська"
           ],
           "legendgroup": "Сільська",
           "marker": {
            "color": "#00cc96",
            "pattern": {
             "shape": ""
            }
           },
           "name": "Сільська",
           "offsetgroup": "Сільська",
           "orientation": "v",
           "showlegend": true,
           "textposition": "auto",
           "type": "bar",
           "x": [
            "Сільська"
           ],
           "xaxis": "x",
           "y": [
            -25828
           ],
           "yaxis": "y"
          }
         ],
         "name": "2008"
        },
        {
         "data": [
          {
           "alignmentgroup": "True",
           "hovertemplate": "Тип місцевості=%{x}<br>Рік=2009<br>Приріст=%{y}<extra></extra>",
           "ids": [
            "Міська та сільська"
           ],
           "legendgroup": "Міська та сільська",
           "marker": {
            "color": "#636efa",
            "pattern": {
             "shape": ""
            }
           },
           "name": "Міська та сільська",
           "offsetgroup": "Міська та сільська",
           "orientation": "v",
           "showlegend": true,
           "textposition": "auto",
           "type": "bar",
           "x": [
            "Міська та сільська"
           ],
           "xaxis": "x",
           "y": [
            13447
           ],
           "yaxis": "y"
          },
          {
           "alignmentgroup": "True",
           "hovertemplate": "Тип місцевості=%{x}<br>Рік=2009<br>Приріст=%{y}<extra></extra>",
           "ids": [
            "Міська"
           ],
           "legendgroup": "Міська",
           "marker": {
            "color": "#EF553B",
            "pattern": {
             "shape": ""
            }
           },
           "name": "Міська",
           "offsetgroup": "Міська",
           "orientation": "v",
           "showlegend": true,
           "textposition": "auto",
           "type": "bar",
           "x": [
            "Міська"
           ],
           "xaxis": "x",
           "y": [
            29932
           ],
           "yaxis": "y"
          },
          {
           "alignmentgroup": "True",
           "hovertemplate": "Тип місцевості=%{x}<br>Рік=2009<br>Приріст=%{y}<extra></extra>",
           "ids": [
            "Сільська"
           ],
           "legendgroup": "Сільська",
           "marker": {
            "color": "#00cc96",
            "pattern": {
             "shape": ""
            }
           },
           "name": "Сільська",
           "offsetgroup": "Сільська",
           "orientation": "v",
           "showlegend": true,
           "textposition": "auto",
           "type": "bar",
           "x": [
            "Сільська"
           ],
           "xaxis": "x",
           "y": [
            -16485
           ],
           "yaxis": "y"
          }
         ],
         "name": "2009"
        },
        {
         "data": [
          {
           "alignmentgroup": "True",
           "hovertemplate": "Тип місцевості=%{x}<br>Рік=2010<br>Приріст=%{y}<extra></extra>",
           "ids": [
            "Міська та сільська"
           ],
           "legendgroup": "Міська та сільська",
           "marker": {
            "color": "#636efa",
            "pattern": {
             "shape": ""
            }
           },
           "name": "Міська та сільська",
           "offsetgroup": "Міська та сільська",
           "orientation": "v",
           "showlegend": true,
           "textposition": "auto",
           "type": "bar",
           "x": [
            "Міська та сільська"
           ],
           "xaxis": "x",
           "y": [
            16133
           ],
           "yaxis": "y"
          },
          {
           "alignmentgroup": "True",
           "hovertemplate": "Тип місцевості=%{x}<br>Рік=2010<br>Приріст=%{y}<extra></extra>",
           "ids": [
            "Міська"
           ],
           "legendgroup": "Міська",
           "marker": {
            "color": "#EF553B",
            "pattern": {
             "shape": ""
            }
           },
           "name": "Міська",
           "offsetgroup": "Міська",
           "orientation": "v",
           "showlegend": true,
           "textposition": "auto",
           "type": "bar",
           "x": [
            "Міська"
           ],
           "xaxis": "x",
           "y": [
            21382
           ],
           "yaxis": "y"
          },
          {
           "alignmentgroup": "True",
           "hovertemplate": "Тип місцевості=%{x}<br>Рік=2010<br>Приріст=%{y}<extra></extra>",
           "ids": [
            "Сільська"
           ],
           "legendgroup": "Сільська",
           "marker": {
            "color": "#00cc96",
            "pattern": {
             "shape": ""
            }
           },
           "name": "Сільська",
           "offsetgroup": "Сільська",
           "orientation": "v",
           "showlegend": true,
           "textposition": "auto",
           "type": "bar",
           "x": [
            "Сільська"
           ],
           "xaxis": "x",
           "y": [
            -5249
           ],
           "yaxis": "y"
          }
         ],
         "name": "2010"
        },
        {
         "data": [
          {
           "alignmentgroup": "True",
           "hovertemplate": "Тип місцевості=%{x}<br>Рік=2011<br>Приріст=%{y}<extra></extra>",
           "ids": [
            "Міська та сільська"
           ],
           "legendgroup": "Міська та сільська",
           "marker": {
            "color": "#636efa",
            "pattern": {
             "shape": ""
            }
           },
           "name": "Міська та сільська",
           "offsetgroup": "Міська та сільська",
           "orientation": "v",
           "showlegend": true,
           "textposition": "auto",
           "type": "bar",
           "x": [
            "Міська та сільська"
           ],
           "xaxis": "x",
           "y": [
            17096
           ],
           "yaxis": "y"
          },
          {
           "alignmentgroup": "True",
           "hovertemplate": "Тип місцевості=%{x}<br>Рік=2011<br>Приріст=%{y}<extra></extra>",
           "ids": [
            "Міська"
           ],
           "legendgroup": "Міська",
           "marker": {
            "color": "#EF553B",
            "pattern": {
             "shape": ""
            }
           },
           "name": "Міська",
           "offsetgroup": "Міська",
           "orientation": "v",
           "showlegend": true,
           "textposition": "auto",
           "type": "bar",
           "x": [
            "Міська"
           ],
           "xaxis": "x",
           "y": [
            21316
           ],
           "yaxis": "y"
          },
          {
           "alignmentgroup": "True",
           "hovertemplate": "Тип місцевості=%{x}<br>Рік=2011<br>Приріст=%{y}<extra></extra>",
           "ids": [
            "Сільська"
           ],
           "legendgroup": "Сільська",
           "marker": {
            "color": "#00cc96",
            "pattern": {
             "shape": ""
            }
           },
           "name": "Сільська",
           "offsetgroup": "Сільська",
           "orientation": "v",
           "showlegend": true,
           "textposition": "auto",
           "type": "bar",
           "x": [
            "Сільська"
           ],
           "xaxis": "x",
           "y": [
            -4220
           ],
           "yaxis": "y"
          }
         ],
         "name": "2011"
        },
        {
         "data": [
          {
           "alignmentgroup": "True",
           "hovertemplate": "Тип місцевості=%{x}<br>Рік=2012<br>Приріст=%{y}<extra></extra>",
           "ids": [
            "Міська та сільська"
           ],
           "legendgroup": "Міська та сільська",
           "marker": {
            "color": "#636efa",
            "pattern": {
             "shape": ""
            }
           },
           "name": "Міська та сільська",
           "offsetgroup": "Міська та сільська",
           "orientation": "v",
           "showlegend": true,
           "textposition": "auto",
           "type": "bar",
           "x": [
            "Міська та сільська"
           ],
           "xaxis": "x",
           "y": [
            61844
           ],
           "yaxis": "y"
          },
          {
           "alignmentgroup": "True",
           "hovertemplate": "Тип місцевості=%{x}<br>Рік=2012<br>Приріст=%{y}<extra></extra>",
           "ids": [
            "Міська"
           ],
           "legendgroup": "Міська",
           "marker": {
            "color": "#EF553B",
            "pattern": {
             "shape": ""
            }
           },
           "name": "Міська",
           "offsetgroup": "Міська",
           "orientation": "v",
           "showlegend": true,
           "textposition": "auto",
           "type": "bar",
           "x": [
            "Міська"
           ],
           "xaxis": "x",
           "y": [
            65472
           ],
           "yaxis": "y"
          },
          {
           "alignmentgroup": "True",
           "hovertemplate": "Тип місцевості=%{x}<br>Рік=2012<br>Приріст=%{y}<extra></extra>",
           "ids": [
            "Сільська"
           ],
           "legendgroup": "Сільська",
           "marker": {
            "color": "#00cc96",
            "pattern": {
             "shape": ""
            }
           },
           "name": "Сільська",
           "offsetgroup": "Сільська",
           "orientation": "v",
           "showlegend": true,
           "textposition": "auto",
           "type": "bar",
           "x": [
            "Сільська"
           ],
           "xaxis": "x",
           "y": [
            -3628
           ],
           "yaxis": "y"
          }
         ],
         "name": "2012"
        },
        {
         "data": [
          {
           "alignmentgroup": "True",
           "hovertemplate": "Тип місцевості=%{x}<br>Рік=2013<br>Приріст=%{y}<extra></extra>",
           "ids": [
            "Міська та сільська"
           ],
           "legendgroup": "Міська та сільська",
           "marker": {
            "color": "#636efa",
            "pattern": {
             "shape": ""
            }
           },
           "name": "Міська та сільська",
           "offsetgroup": "Міська та сільська",
           "orientation": "v",
           "showlegend": true,
           "textposition": "auto",
           "type": "bar",
           "x": [
            "Міська та сільська"
           ],
           "xaxis": "x",
           "y": [
            31913
           ],
           "yaxis": "y"
          },
          {
           "alignmentgroup": "True",
           "hovertemplate": "Тип місцевості=%{x}<br>Рік=2013<br>Приріст=%{y}<extra></extra>",
           "ids": [
            "Міська"
           ],
           "legendgroup": "Міська",
           "marker": {
            "color": "#EF553B",
            "pattern": {
             "shape": ""
            }
           },
           "name": "Міська",
           "offsetgroup": "Міська",
           "orientation": "v",
           "showlegend": true,
           "textposition": "auto",
           "type": "bar",
           "x": [
            "Міська"
           ],
           "xaxis": "x",
           "y": [
            40004
           ],
           "yaxis": "y"
          },
          {
           "alignmentgroup": "True",
           "hovertemplate": "Тип місцевості=%{x}<br>Рік=2013<br>Приріст=%{y}<extra></extra>",
           "ids": [
            "Сільська"
           ],
           "legendgroup": "Сільська",
           "marker": {
            "color": "#00cc96",
            "pattern": {
             "shape": ""
            }
           },
           "name": "Сільська",
           "offsetgroup": "Сільська",
           "orientation": "v",
           "showlegend": true,
           "textposition": "auto",
           "type": "bar",
           "x": [
            "Сільська"
           ],
           "xaxis": "x",
           "y": [
            -8091
           ],
           "yaxis": "y"
          }
         ],
         "name": "2013"
        },
        {
         "data": [
          {
           "alignmentgroup": "True",
           "hovertemplate": "Тип місцевості=%{x}<br>Рік=2014<br>Приріст=%{y}<extra></extra>",
           "ids": [
            "Міська та сільська"
           ],
           "legendgroup": "Міська та сільська",
           "marker": {
            "color": "#636efa",
            "pattern": {
             "shape": ""
            }
           },
           "name": "Міська та сільська",
           "offsetgroup": "Міська та сільська",
           "orientation": "v",
           "showlegend": true,
           "textposition": "auto",
           "type": "bar",
           "x": [
            "Міська та сільська"
           ],
           "xaxis": "x",
           "y": [
            22592
           ],
           "yaxis": "y"
          },
          {
           "alignmentgroup": "True",
           "hovertemplate": "Тип місцевості=%{x}<br>Рік=2014<br>Приріст=%{y}<extra></extra>",
           "ids": [
            "Міська"
           ],
           "legendgroup": "Міська",
           "marker": {
            "color": "#EF553B",
            "pattern": {
             "shape": ""
            }
           },
           "name": "Міська",
           "offsetgroup": "Міська",
           "orientation": "v",
           "showlegend": true,
           "textposition": "auto",
           "type": "bar",
           "x": [
            "Міська"
           ],
           "xaxis": "x",
           "y": [
            19593
           ],
           "yaxis": "y"
          },
          {
           "alignmentgroup": "True",
           "hovertemplate": "Тип місцевості=%{x}<br>Рік=2014<br>Приріст=%{y}<extra></extra>",
           "ids": [
            "Сільська"
           ],
           "legendgroup": "Сільська",
           "marker": {
            "color": "#00cc96",
            "pattern": {
             "shape": ""
            }
           },
           "name": "Сільська",
           "offsetgroup": "Сільська",
           "orientation": "v",
           "showlegend": true,
           "textposition": "auto",
           "type": "bar",
           "x": [
            "Сільська"
           ],
           "xaxis": "x",
           "y": [
            2999
           ],
           "yaxis": "y"
          }
         ],
         "name": "2014"
        },
        {
         "data": [
          {
           "alignmentgroup": "True",
           "hovertemplate": "Тип місцевості=%{x}<br>Рік=2015<br>Приріст=%{y}<extra></extra>",
           "ids": [
            "Міська та сільська"
           ],
           "legendgroup": "Міська та сільська",
           "marker": {
            "color": "#636efa",
            "pattern": {
             "shape": ""
            }
           },
           "name": "Міська та сільська",
           "offsetgroup": "Міська та сільська",
           "orientation": "v",
           "showlegend": true,
           "textposition": "auto",
           "type": "bar",
           "x": [
            "Міська та сільська"
           ],
           "xaxis": "x",
           "y": [
            14233
           ],
           "yaxis": "y"
          },
          {
           "alignmentgroup": "True",
           "hovertemplate": "Тип місцевості=%{x}<br>Рік=2015<br>Приріст=%{y}<extra></extra>",
           "ids": [
            "Міська"
           ],
           "legendgroup": "Міська",
           "marker": {
            "color": "#EF553B",
            "pattern": {
             "shape": ""
            }
           },
           "name": "Міська",
           "offsetgroup": "Міська",
           "orientation": "v",
           "showlegend": true,
           "textposition": "auto",
           "type": "bar",
           "x": [
            "Міська"
           ],
           "xaxis": "x",
           "y": [
            2294
           ],
           "yaxis": "y"
          },
          {
           "alignmentgroup": "True",
           "hovertemplate": "Тип місцевості=%{x}<br>Рік=2015<br>Приріст=%{y}<extra></extra>",
           "ids": [
            "Сільська"
           ],
           "legendgroup": "Сільська",
           "marker": {
            "color": "#00cc96",
            "pattern": {
             "shape": ""
            }
           },
           "name": "Сільська",
           "offsetgroup": "Сільська",
           "orientation": "v",
           "showlegend": true,
           "textposition": "auto",
           "type": "bar",
           "x": [
            "Сільська"
           ],
           "xaxis": "x",
           "y": [
            11939
           ],
           "yaxis": "y"
          }
         ],
         "name": "2015"
        },
        {
         "data": [
          {
           "alignmentgroup": "True",
           "hovertemplate": "Тип місцевості=%{x}<br>Рік=2016<br>Приріст=%{y}<extra></extra>",
           "ids": [
            "Міська та сільська"
           ],
           "legendgroup": "Міська та сільська",
           "marker": {
            "color": "#636efa",
            "pattern": {
             "shape": ""
            }
           },
           "name": "Міська та сільська",
           "offsetgroup": "Міська та сільська",
           "orientation": "v",
           "showlegend": true,
           "textposition": "auto",
           "type": "bar",
           "x": [
            "Міська та сільська"
           ],
           "xaxis": "x",
           "y": [
            10620
           ],
           "yaxis": "y"
          },
          {
           "alignmentgroup": "True",
           "hovertemplate": "Тип місцевості=%{x}<br>Рік=2016<br>Приріст=%{y}<extra></extra>",
           "ids": [
            "Міська"
           ],
           "legendgroup": "Міська",
           "marker": {
            "color": "#EF553B",
            "pattern": {
             "shape": ""
            }
           },
           "name": "Міська",
           "offsetgroup": "Міська",
           "orientation": "v",
           "showlegend": true,
           "textposition": "auto",
           "type": "bar",
           "x": [
            "Міська"
           ],
           "xaxis": "x",
           "y": [
            -8040
           ],
           "yaxis": "y"
          },
          {
           "alignmentgroup": "True",
           "hovertemplate": "Тип місцевості=%{x}<br>Рік=2016<br>Приріст=%{y}<extra></extra>",
           "ids": [
            "Сільська"
           ],
           "legendgroup": "Сільська",
           "marker": {
            "color": "#00cc96",
            "pattern": {
             "shape": ""
            }
           },
           "name": "Сільська",
           "offsetgroup": "Сільська",
           "orientation": "v",
           "showlegend": true,
           "textposition": "auto",
           "type": "bar",
           "x": [
            "Сільська"
           ],
           "xaxis": "x",
           "y": [
            18660
           ],
           "yaxis": "y"
          }
         ],
         "name": "2016"
        },
        {
         "data": [
          {
           "alignmentgroup": "True",
           "hovertemplate": "Тип місцевості=%{x}<br>Рік=2017<br>Приріст=%{y}<extra></extra>",
           "ids": [
            "Міська та сільська"
           ],
           "legendgroup": "Міська та сільська",
           "marker": {
            "color": "#636efa",
            "pattern": {
             "shape": ""
            }
           },
           "name": "Міська та сільська",
           "offsetgroup": "Міська та сільська",
           "orientation": "v",
           "showlegend": true,
           "textposition": "auto",
           "type": "bar",
           "x": [
            "Міська та сільська"
           ],
           "xaxis": "x",
           "y": [
            11997
           ],
           "yaxis": "y"
          },
          {
           "alignmentgroup": "True",
           "hovertemplate": "Тип місцевості=%{x}<br>Рік=2017<br>Приріст=%{y}<extra></extra>",
           "ids": [
            "Міська"
           ],
           "legendgroup": "Міська",
           "marker": {
            "color": "#EF553B",
            "pattern": {
             "shape": ""
            }
           },
           "name": "Міська",
           "offsetgroup": "Міська",
           "orientation": "v",
           "showlegend": true,
           "textposition": "auto",
           "type": "bar",
           "x": [
            "Міська"
           ],
           "xaxis": "x",
           "y": [
            4081
           ],
           "yaxis": "y"
          },
          {
           "alignmentgroup": "True",
           "hovertemplate": "Тип місцевості=%{x}<br>Рік=2017<br>Приріст=%{y}<extra></extra>",
           "ids": [
            "Сільська"
           ],
           "legendgroup": "Сільська",
           "marker": {
            "color": "#00cc96",
            "pattern": {
             "shape": ""
            }
           },
           "name": "Сільська",
           "offsetgroup": "Сільська",
           "orientation": "v",
           "showlegend": true,
           "textposition": "auto",
           "type": "bar",
           "x": [
            "Сільська"
           ],
           "xaxis": "x",
           "y": [
            7916
           ],
           "yaxis": "y"
          }
         ],
         "name": "2017"
        },
        {
         "data": [
          {
           "alignmentgroup": "True",
           "hovertemplate": "Тип місцевості=%{x}<br>Рік=2018<br>Приріст=%{y}<extra></extra>",
           "ids": [
            "Міська та сільська"
           ],
           "legendgroup": "Міська та сільська",
           "marker": {
            "color": "#636efa",
            "pattern": {
             "shape": ""
            }
           },
           "name": "Міська та сільська",
           "offsetgroup": "Міська та сільська",
           "orientation": "v",
           "showlegend": true,
           "textposition": "auto",
           "type": "bar",
           "x": [
            "Міська та сільська"
           ],
           "xaxis": "x",
           "y": [
            18589
           ],
           "yaxis": "y"
          },
          {
           "alignmentgroup": "True",
           "hovertemplate": "Тип місцевості=%{x}<br>Рік=2018<br>Приріст=%{y}<extra></extra>",
           "ids": [
            "Міська"
           ],
           "legendgroup": "Міська",
           "marker": {
            "color": "#EF553B",
            "pattern": {
             "shape": ""
            }
           },
           "name": "Міська",
           "offsetgroup": "Міська",
           "orientation": "v",
           "showlegend": true,
           "textposition": "auto",
           "type": "bar",
           "x": [
            "Міська"
           ],
           "xaxis": "x",
           "y": [
            29331
           ],
           "yaxis": "y"
          },
          {
           "alignmentgroup": "True",
           "hovertemplate": "Тип місцевості=%{x}<br>Рік=2018<br>Приріст=%{y}<extra></extra>",
           "ids": [
            "Сільська"
           ],
           "legendgroup": "Сільська",
           "marker": {
            "color": "#00cc96",
            "pattern": {
             "shape": ""
            }
           },
           "name": "Сільська",
           "offsetgroup": "Сільська",
           "orientation": "v",
           "showlegend": true,
           "textposition": "auto",
           "type": "bar",
           "x": [
            "Сільська"
           ],
           "xaxis": "x",
           "y": [
            -10742
           ],
           "yaxis": "y"
          }
         ],
         "name": "2018"
        },
        {
         "data": [
          {
           "alignmentgroup": "True",
           "hovertemplate": "Тип місцевості=%{x}<br>Рік=2019<br>Приріст=%{y}<extra></extra>",
           "ids": [
            "Міська та сільська"
           ],
           "legendgroup": "Міська та сільська",
           "marker": {
            "color": "#636efa",
            "pattern": {
             "shape": ""
            }
           },
           "name": "Міська та сільська",
           "offsetgroup": "Міська та сільська",
           "orientation": "v",
           "showlegend": true,
           "textposition": "auto",
           "type": "bar",
           "x": [
            "Міська та сільська"
           ],
           "xaxis": "x",
           "y": [
            21512
           ],
           "yaxis": "y"
          },
          {
           "alignmentgroup": "True",
           "hovertemplate": "Тип місцевості=%{x}<br>Рік=2019<br>Приріст=%{y}<extra></extra>",
           "ids": [
            "Міська"
           ],
           "legendgroup": "Міська",
           "marker": {
            "color": "#EF553B",
            "pattern": {
             "shape": ""
            }
           },
           "name": "Міська",
           "offsetgroup": "Міська",
           "orientation": "v",
           "showlegend": true,
           "textposition": "auto",
           "type": "bar",
           "x": [
            "Міська"
           ],
           "xaxis": "x",
           "y": [
            42673
           ],
           "yaxis": "y"
          },
          {
           "alignmentgroup": "True",
           "hovertemplate": "Тип місцевості=%{x}<br>Рік=2019<br>Приріст=%{y}<extra></extra>",
           "ids": [
            "Сільська"
           ],
           "legendgroup": "Сільська",
           "marker": {
            "color": "#00cc96",
            "pattern": {
             "shape": ""
            }
           },
           "name": "Сільська",
           "offsetgroup": "Сільська",
           "orientation": "v",
           "showlegend": true,
           "textposition": "auto",
           "type": "bar",
           "x": [
            "Сільська"
           ],
           "xaxis": "x",
           "y": [
            -21161
           ],
           "yaxis": "y"
          }
         ],
         "name": "2019"
        },
        {
         "data": [
          {
           "alignmentgroup": "True",
           "hovertemplate": "Тип місцевості=%{x}<br>Рік=2020<br>Приріст=%{y}<extra></extra>",
           "ids": [
            "Міська та сільська"
           ],
           "legendgroup": "Міська та сільська",
           "marker": {
            "color": "#636efa",
            "pattern": {
             "shape": ""
            }
           },
           "name": "Міська та сільська",
           "offsetgroup": "Міська та сільська",
           "orientation": "v",
           "showlegend": true,
           "textposition": "auto",
           "type": "bar",
           "x": [
            "Міська та сільська"
           ],
           "xaxis": "x",
           "y": [
            9316
           ],
           "yaxis": "y"
          },
          {
           "alignmentgroup": "True",
           "hovertemplate": "Тип місцевості=%{x}<br>Рік=2020<br>Приріст=%{y}<extra></extra>",
           "ids": [
            "Міська"
           ],
           "legendgroup": "Міська",
           "marker": {
            "color": "#EF553B",
            "pattern": {
             "shape": ""
            }
           },
           "name": "Міська",
           "offsetgroup": "Міська",
           "orientation": "v",
           "showlegend": true,
           "textposition": "auto",
           "type": "bar",
           "x": [
            "Міська"
           ],
           "xaxis": "x",
           "y": [
            20739
           ],
           "yaxis": "y"
          },
          {
           "alignmentgroup": "True",
           "hovertemplate": "Тип місцевості=%{x}<br>Рік=2020<br>Приріст=%{y}<extra></extra>",
           "ids": [
            "Сільська"
           ],
           "legendgroup": "Сільська",
           "marker": {
            "color": "#00cc96",
            "pattern": {
             "shape": ""
            }
           },
           "name": "Сільська",
           "offsetgroup": "Сільська",
           "orientation": "v",
           "showlegend": true,
           "textposition": "auto",
           "type": "bar",
           "x": [
            "Сільська"
           ],
           "xaxis": "x",
           "y": [
            -11423
           ],
           "yaxis": "y"
          }
         ],
         "name": "2020"
        },
        {
         "data": [
          {
           "alignmentgroup": "True",
           "hovertemplate": "Тип місцевості=%{x}<br>Рік=2021<br>Приріст=%{y}<extra></extra>",
           "ids": [
            "Міська та сільська"
           ],
           "legendgroup": "Міська та сільська",
           "marker": {
            "color": "#636efa",
            "pattern": {
             "shape": ""
            }
           },
           "name": "Міська та сільська",
           "offsetgroup": "Міська та сільська",
           "orientation": "v",
           "showlegend": true,
           "textposition": "auto",
           "type": "bar",
           "x": [
            "Міська та сільська"
           ],
           "xaxis": "x",
           "y": [
            21261
           ],
           "yaxis": "y"
          },
          {
           "alignmentgroup": "True",
           "hovertemplate": "Тип місцевості=%{x}<br>Рік=2021<br>Приріст=%{y}<extra></extra>",
           "ids": [
            "Міська"
           ],
           "legendgroup": "Міська",
           "marker": {
            "color": "#EF553B",
            "pattern": {
             "shape": ""
            }
           },
           "name": "Міська",
           "offsetgroup": "Міська",
           "orientation": "v",
           "showlegend": true,
           "textposition": "auto",
           "type": "bar",
           "x": [
            "Міська"
           ],
           "xaxis": "x",
           "y": [
            29419
           ],
           "yaxis": "y"
          },
          {
           "alignmentgroup": "True",
           "hovertemplate": "Тип місцевості=%{x}<br>Рік=2021<br>Приріст=%{y}<extra></extra>",
           "ids": [
            "Сільська"
           ],
           "legendgroup": "Сільська",
           "marker": {
            "color": "#00cc96",
            "pattern": {
             "shape": ""
            }
           },
           "name": "Сільська",
           "offsetgroup": "Сільська",
           "orientation": "v",
           "showlegend": true,
           "textposition": "auto",
           "type": "bar",
           "x": [
            "Сільська"
           ],
           "xaxis": "x",
           "y": [
            -8158
           ],
           "yaxis": "y"
          }
         ],
         "name": "2021"
        }
       ],
       "layout": {
        "barmode": "relative",
        "legend": {
         "title": {
          "text": "Тип місцевості"
         },
         "tracegroupgap": 0
        },
        "sliders": [
         {
          "active": 0,
          "currentvalue": {
           "prefix": "Рік="
          },
          "len": 0.9,
          "pad": {
           "b": 10,
           "t": 60
          },
          "steps": [
           {
            "args": [
             [
              "2002"
             ],
             {
              "frame": {
               "duration": 0,
               "redraw": true
              },
              "fromcurrent": true,
              "mode": "immediate",
              "transition": {
               "duration": 0,
               "easing": "linear"
              }
             }
            ],
            "label": "2002",
            "method": "animate"
           },
           {
            "args": [
             [
              "2003"
             ],
             {
              "frame": {
               "duration": 0,
               "redraw": true
              },
              "fromcurrent": true,
              "mode": "immediate",
              "transition": {
               "duration": 0,
               "easing": "linear"
              }
             }
            ],
            "label": "2003",
            "method": "animate"
           },
           {
            "args": [
             [
              "2004"
             ],
             {
              "frame": {
               "duration": 0,
               "redraw": true
              },
              "fromcurrent": true,
              "mode": "immediate",
              "transition": {
               "duration": 0,
               "easing": "linear"
              }
             }
            ],
            "label": "2004",
            "method": "animate"
           },
           {
            "args": [
             [
              "2005"
             ],
             {
              "frame": {
               "duration": 0,
               "redraw": true
              },
              "fromcurrent": true,
              "mode": "immediate",
              "transition": {
               "duration": 0,
               "easing": "linear"
              }
             }
            ],
            "label": "2005",
            "method": "animate"
           },
           {
            "args": [
             [
              "2006"
             ],
             {
              "frame": {
               "duration": 0,
               "redraw": true
              },
              "fromcurrent": true,
              "mode": "immediate",
              "transition": {
               "duration": 0,
               "easing": "linear"
              }
             }
            ],
            "label": "2006",
            "method": "animate"
           },
           {
            "args": [
             [
              "2007"
             ],
             {
              "frame": {
               "duration": 0,
               "redraw": true
              },
              "fromcurrent": true,
              "mode": "immediate",
              "transition": {
               "duration": 0,
               "easing": "linear"
              }
             }
            ],
            "label": "2007",
            "method": "animate"
           },
           {
            "args": [
             [
              "2008"
             ],
             {
              "frame": {
               "duration": 0,
               "redraw": true
              },
              "fromcurrent": true,
              "mode": "immediate",
              "transition": {
               "duration": 0,
               "easing": "linear"
              }
             }
            ],
            "label": "2008",
            "method": "animate"
           },
           {
            "args": [
             [
              "2009"
             ],
             {
              "frame": {
               "duration": 0,
               "redraw": true
              },
              "fromcurrent": true,
              "mode": "immediate",
              "transition": {
               "duration": 0,
               "easing": "linear"
              }
             }
            ],
            "label": "2009",
            "method": "animate"
           },
           {
            "args": [
             [
              "2010"
             ],
             {
              "frame": {
               "duration": 0,
               "redraw": true
              },
              "fromcurrent": true,
              "mode": "immediate",
              "transition": {
               "duration": 0,
               "easing": "linear"
              }
             }
            ],
            "label": "2010",
            "method": "animate"
           },
           {
            "args": [
             [
              "2011"
             ],
             {
              "frame": {
               "duration": 0,
               "redraw": true
              },
              "fromcurrent": true,
              "mode": "immediate",
              "transition": {
               "duration": 0,
               "easing": "linear"
              }
             }
            ],
            "label": "2011",
            "method": "animate"
           },
           {
            "args": [
             [
              "2012"
             ],
             {
              "frame": {
               "duration": 0,
               "redraw": true
              },
              "fromcurrent": true,
              "mode": "immediate",
              "transition": {
               "duration": 0,
               "easing": "linear"
              }
             }
            ],
            "label": "2012",
            "method": "animate"
           },
           {
            "args": [
             [
              "2013"
             ],
             {
              "frame": {
               "duration": 0,
               "redraw": true
              },
              "fromcurrent": true,
              "mode": "immediate",
              "transition": {
               "duration": 0,
               "easing": "linear"
              }
             }
            ],
            "label": "2013",
            "method": "animate"
           },
           {
            "args": [
             [
              "2014"
             ],
             {
              "frame": {
               "duration": 0,
               "redraw": true
              },
              "fromcurrent": true,
              "mode": "immediate",
              "transition": {
               "duration": 0,
               "easing": "linear"
              }
             }
            ],
            "label": "2014",
            "method": "animate"
           },
           {
            "args": [
             [
              "2015"
             ],
             {
              "frame": {
               "duration": 0,
               "redraw": true
              },
              "fromcurrent": true,
              "mode": "immediate",
              "transition": {
               "duration": 0,
               "easing": "linear"
              }
             }
            ],
            "label": "2015",
            "method": "animate"
           },
           {
            "args": [
             [
              "2016"
             ],
             {
              "frame": {
               "duration": 0,
               "redraw": true
              },
              "fromcurrent": true,
              "mode": "immediate",
              "transition": {
               "duration": 0,
               "easing": "linear"
              }
             }
            ],
            "label": "2016",
            "method": "animate"
           },
           {
            "args": [
             [
              "2017"
             ],
             {
              "frame": {
               "duration": 0,
               "redraw": true
              },
              "fromcurrent": true,
              "mode": "immediate",
              "transition": {
               "duration": 0,
               "easing": "linear"
              }
             }
            ],
            "label": "2017",
            "method": "animate"
           },
           {
            "args": [
             [
              "2018"
             ],
             {
              "frame": {
               "duration": 0,
               "redraw": true
              },
              "fromcurrent": true,
              "mode": "immediate",
              "transition": {
               "duration": 0,
               "easing": "linear"
              }
             }
            ],
            "label": "2018",
            "method": "animate"
           },
           {
            "args": [
             [
              "2019"
             ],
             {
              "frame": {
               "duration": 0,
               "redraw": true
              },
              "fromcurrent": true,
              "mode": "immediate",
              "transition": {
               "duration": 0,
               "easing": "linear"
              }
             }
            ],
            "label": "2019",
            "method": "animate"
           },
           {
            "args": [
             [
              "2020"
             ],
             {
              "frame": {
               "duration": 0,
               "redraw": true
              },
              "fromcurrent": true,
              "mode": "immediate",
              "transition": {
               "duration": 0,
               "easing": "linear"
              }
             }
            ],
            "label": "2020",
            "method": "animate"
           },
           {
            "args": [
             [
              "2021"
             ],
             {
              "frame": {
               "duration": 0,
               "redraw": true
              },
              "fromcurrent": true,
              "mode": "immediate",
              "transition": {
               "duration": 0,
               "easing": "linear"
              }
             }
            ],
            "label": "2021",
            "method": "animate"
           }
          ],
          "x": 0.1,
          "xanchor": "left",
          "y": 0,
          "yanchor": "top"
         }
        ],
        "template": {
         "data": {
          "bar": [
           {
            "error_x": {
             "color": "#2a3f5f"
            },
            "error_y": {
             "color": "#2a3f5f"
            },
            "marker": {
             "line": {
              "color": "#E5ECF6",
              "width": 0.5
             },
             "pattern": {
              "fillmode": "overlay",
              "size": 10,
              "solidity": 0.2
             }
            },
            "type": "bar"
           }
          ],
          "barpolar": [
           {
            "marker": {
             "line": {
              "color": "#E5ECF6",
              "width": 0.5
             },
             "pattern": {
              "fillmode": "overlay",
              "size": 10,
              "solidity": 0.2
             }
            },
            "type": "barpolar"
           }
          ],
          "carpet": [
           {
            "aaxis": {
             "endlinecolor": "#2a3f5f",
             "gridcolor": "white",
             "linecolor": "white",
             "minorgridcolor": "white",
             "startlinecolor": "#2a3f5f"
            },
            "baxis": {
             "endlinecolor": "#2a3f5f",
             "gridcolor": "white",
             "linecolor": "white",
             "minorgridcolor": "white",
             "startlinecolor": "#2a3f5f"
            },
            "type": "carpet"
           }
          ],
          "choropleth": [
           {
            "colorbar": {
             "outlinewidth": 0,
             "ticks": ""
            },
            "type": "choropleth"
           }
          ],
          "contour": [
           {
            "colorbar": {
             "outlinewidth": 0,
             "ticks": ""
            },
            "colorscale": [
             [
              0,
              "#0d0887"
             ],
             [
              0.1111111111111111,
              "#46039f"
             ],
             [
              0.2222222222222222,
              "#7201a8"
             ],
             [
              0.3333333333333333,
              "#9c179e"
             ],
             [
              0.4444444444444444,
              "#bd3786"
             ],
             [
              0.5555555555555556,
              "#d8576b"
             ],
             [
              0.6666666666666666,
              "#ed7953"
             ],
             [
              0.7777777777777778,
              "#fb9f3a"
             ],
             [
              0.8888888888888888,
              "#fdca26"
             ],
             [
              1,
              "#f0f921"
             ]
            ],
            "type": "contour"
           }
          ],
          "contourcarpet": [
           {
            "colorbar": {
             "outlinewidth": 0,
             "ticks": ""
            },
            "type": "contourcarpet"
           }
          ],
          "heatmap": [
           {
            "colorbar": {
             "outlinewidth": 0,
             "ticks": ""
            },
            "colorscale": [
             [
              0,
              "#0d0887"
             ],
             [
              0.1111111111111111,
              "#46039f"
             ],
             [
              0.2222222222222222,
              "#7201a8"
             ],
             [
              0.3333333333333333,
              "#9c179e"
             ],
             [
              0.4444444444444444,
              "#bd3786"
             ],
             [
              0.5555555555555556,
              "#d8576b"
             ],
             [
              0.6666666666666666,
              "#ed7953"
             ],
             [
              0.7777777777777778,
              "#fb9f3a"
             ],
             [
              0.8888888888888888,
              "#fdca26"
             ],
             [
              1,
              "#f0f921"
             ]
            ],
            "type": "heatmap"
           }
          ],
          "heatmapgl": [
           {
            "colorbar": {
             "outlinewidth": 0,
             "ticks": ""
            },
            "colorscale": [
             [
              0,
              "#0d0887"
             ],
             [
              0.1111111111111111,
              "#46039f"
             ],
             [
              0.2222222222222222,
              "#7201a8"
             ],
             [
              0.3333333333333333,
              "#9c179e"
             ],
             [
              0.4444444444444444,
              "#bd3786"
             ],
             [
              0.5555555555555556,
              "#d8576b"
             ],
             [
              0.6666666666666666,
              "#ed7953"
             ],
             [
              0.7777777777777778,
              "#fb9f3a"
             ],
             [
              0.8888888888888888,
              "#fdca26"
             ],
             [
              1,
              "#f0f921"
             ]
            ],
            "type": "heatmapgl"
           }
          ],
          "histogram": [
           {
            "marker": {
             "pattern": {
              "fillmode": "overlay",
              "size": 10,
              "solidity": 0.2
             }
            },
            "type": "histogram"
           }
          ],
          "histogram2d": [
           {
            "colorbar": {
             "outlinewidth": 0,
             "ticks": ""
            },
            "colorscale": [
             [
              0,
              "#0d0887"
             ],
             [
              0.1111111111111111,
              "#46039f"
             ],
             [
              0.2222222222222222,
              "#7201a8"
             ],
             [
              0.3333333333333333,
              "#9c179e"
             ],
             [
              0.4444444444444444,
              "#bd3786"
             ],
             [
              0.5555555555555556,
              "#d8576b"
             ],
             [
              0.6666666666666666,
              "#ed7953"
             ],
             [
              0.7777777777777778,
              "#fb9f3a"
             ],
             [
              0.8888888888888888,
              "#fdca26"
             ],
             [
              1,
              "#f0f921"
             ]
            ],
            "type": "histogram2d"
           }
          ],
          "histogram2dcontour": [
           {
            "colorbar": {
             "outlinewidth": 0,
             "ticks": ""
            },
            "colorscale": [
             [
              0,
              "#0d0887"
             ],
             [
              0.1111111111111111,
              "#46039f"
             ],
             [
              0.2222222222222222,
              "#7201a8"
             ],
             [
              0.3333333333333333,
              "#9c179e"
             ],
             [
              0.4444444444444444,
              "#bd3786"
             ],
             [
              0.5555555555555556,
              "#d8576b"
             ],
             [
              0.6666666666666666,
              "#ed7953"
             ],
             [
              0.7777777777777778,
              "#fb9f3a"
             ],
             [
              0.8888888888888888,
              "#fdca26"
             ],
             [
              1,
              "#f0f921"
             ]
            ],
            "type": "histogram2dcontour"
           }
          ],
          "mesh3d": [
           {
            "colorbar": {
             "outlinewidth": 0,
             "ticks": ""
            },
            "type": "mesh3d"
           }
          ],
          "parcoords": [
           {
            "line": {
             "colorbar": {
              "outlinewidth": 0,
              "ticks": ""
             }
            },
            "type": "parcoords"
           }
          ],
          "pie": [
           {
            "automargin": true,
            "type": "pie"
           }
          ],
          "scatter": [
           {
            "fillpattern": {
             "fillmode": "overlay",
             "size": 10,
             "solidity": 0.2
            },
            "type": "scatter"
           }
          ],
          "scatter3d": [
           {
            "line": {
             "colorbar": {
              "outlinewidth": 0,
              "ticks": ""
             }
            },
            "marker": {
             "colorbar": {
              "outlinewidth": 0,
              "ticks": ""
             }
            },
            "type": "scatter3d"
           }
          ],
          "scattercarpet": [
           {
            "marker": {
             "colorbar": {
              "outlinewidth": 0,
              "ticks": ""
             }
            },
            "type": "scattercarpet"
           }
          ],
          "scattergeo": [
           {
            "marker": {
             "colorbar": {
              "outlinewidth": 0,
              "ticks": ""
             }
            },
            "type": "scattergeo"
           }
          ],
          "scattergl": [
           {
            "marker": {
             "colorbar": {
              "outlinewidth": 0,
              "ticks": ""
             }
            },
            "type": "scattergl"
           }
          ],
          "scattermapbox": [
           {
            "marker": {
             "colorbar": {
              "outlinewidth": 0,
              "ticks": ""
             }
            },
            "type": "scattermapbox"
           }
          ],
          "scatterpolar": [
           {
            "marker": {
             "colorbar": {
              "outlinewidth": 0,
              "ticks": ""
             }
            },
            "type": "scatterpolar"
           }
          ],
          "scatterpolargl": [
           {
            "marker": {
             "colorbar": {
              "outlinewidth": 0,
              "ticks": ""
             }
            },
            "type": "scatterpolargl"
           }
          ],
          "scatterternary": [
           {
            "marker": {
             "colorbar": {
              "outlinewidth": 0,
              "ticks": ""
             }
            },
            "type": "scatterternary"
           }
          ],
          "surface": [
           {
            "colorbar": {
             "outlinewidth": 0,
             "ticks": ""
            },
            "colorscale": [
             [
              0,
              "#0d0887"
             ],
             [
              0.1111111111111111,
              "#46039f"
             ],
             [
              0.2222222222222222,
              "#7201a8"
             ],
             [
              0.3333333333333333,
              "#9c179e"
             ],
             [
              0.4444444444444444,
              "#bd3786"
             ],
             [
              0.5555555555555556,
              "#d8576b"
             ],
             [
              0.6666666666666666,
              "#ed7953"
             ],
             [
              0.7777777777777778,
              "#fb9f3a"
             ],
             [
              0.8888888888888888,
              "#fdca26"
             ],
             [
              1,
              "#f0f921"
             ]
            ],
            "type": "surface"
           }
          ],
          "table": [
           {
            "cells": {
             "fill": {
              "color": "#EBF0F8"
             },
             "line": {
              "color": "white"
             }
            },
            "header": {
             "fill": {
              "color": "#C8D4E3"
             },
             "line": {
              "color": "white"
             }
            },
            "type": "table"
           }
          ]
         },
         "layout": {
          "annotationdefaults": {
           "arrowcolor": "#2a3f5f",
           "arrowhead": 0,
           "arrowwidth": 1
          },
          "autotypenumbers": "strict",
          "coloraxis": {
           "colorbar": {
            "outlinewidth": 0,
            "ticks": ""
           }
          },
          "colorscale": {
           "diverging": [
            [
             0,
             "#8e0152"
            ],
            [
             0.1,
             "#c51b7d"
            ],
            [
             0.2,
             "#de77ae"
            ],
            [
             0.3,
             "#f1b6da"
            ],
            [
             0.4,
             "#fde0ef"
            ],
            [
             0.5,
             "#f7f7f7"
            ],
            [
             0.6,
             "#e6f5d0"
            ],
            [
             0.7,
             "#b8e186"
            ],
            [
             0.8,
             "#7fbc41"
            ],
            [
             0.9,
             "#4d9221"
            ],
            [
             1,
             "#276419"
            ]
           ],
           "sequential": [
            [
             0,
             "#0d0887"
            ],
            [
             0.1111111111111111,
             "#46039f"
            ],
            [
             0.2222222222222222,
             "#7201a8"
            ],
            [
             0.3333333333333333,
             "#9c179e"
            ],
            [
             0.4444444444444444,
             "#bd3786"
            ],
            [
             0.5555555555555556,
             "#d8576b"
            ],
            [
             0.6666666666666666,
             "#ed7953"
            ],
            [
             0.7777777777777778,
             "#fb9f3a"
            ],
            [
             0.8888888888888888,
             "#fdca26"
            ],
            [
             1,
             "#f0f921"
            ]
           ],
           "sequentialminus": [
            [
             0,
             "#0d0887"
            ],
            [
             0.1111111111111111,
             "#46039f"
            ],
            [
             0.2222222222222222,
             "#7201a8"
            ],
            [
             0.3333333333333333,
             "#9c179e"
            ],
            [
             0.4444444444444444,
             "#bd3786"
            ],
            [
             0.5555555555555556,
             "#d8576b"
            ],
            [
             0.6666666666666666,
             "#ed7953"
            ],
            [
             0.7777777777777778,
             "#fb9f3a"
            ],
            [
             0.8888888888888888,
             "#fdca26"
            ],
            [
             1,
             "#f0f921"
            ]
           ]
          },
          "colorway": [
           "#636efa",
           "#EF553B",
           "#00cc96",
           "#ab63fa",
           "#FFA15A",
           "#19d3f3",
           "#FF6692",
           "#B6E880",
           "#FF97FF",
           "#FECB52"
          ],
          "font": {
           "color": "#2a3f5f"
          },
          "geo": {
           "bgcolor": "white",
           "lakecolor": "white",
           "landcolor": "#E5ECF6",
           "showlakes": true,
           "showland": true,
           "subunitcolor": "white"
          },
          "hoverlabel": {
           "align": "left"
          },
          "hovermode": "closest",
          "mapbox": {
           "style": "light"
          },
          "paper_bgcolor": "white",
          "plot_bgcolor": "#E5ECF6",
          "polar": {
           "angularaxis": {
            "gridcolor": "white",
            "linecolor": "white",
            "ticks": ""
           },
           "bgcolor": "#E5ECF6",
           "radialaxis": {
            "gridcolor": "white",
            "linecolor": "white",
            "ticks": ""
           }
          },
          "scene": {
           "xaxis": {
            "backgroundcolor": "#E5ECF6",
            "gridcolor": "white",
            "gridwidth": 2,
            "linecolor": "white",
            "showbackground": true,
            "ticks": "",
            "zerolinecolor": "white"
           },
           "yaxis": {
            "backgroundcolor": "#E5ECF6",
            "gridcolor": "white",
            "gridwidth": 2,
            "linecolor": "white",
            "showbackground": true,
            "ticks": "",
            "zerolinecolor": "white"
           },
           "zaxis": {
            "backgroundcolor": "#E5ECF6",
            "gridcolor": "white",
            "gridwidth": 2,
            "linecolor": "white",
            "showbackground": true,
            "ticks": "",
            "zerolinecolor": "white"
           }
          },
          "shapedefaults": {
           "line": {
            "color": "#2a3f5f"
           }
          },
          "ternary": {
           "aaxis": {
            "gridcolor": "white",
            "linecolor": "white",
            "ticks": ""
           },
           "baxis": {
            "gridcolor": "white",
            "linecolor": "white",
            "ticks": ""
           },
           "bgcolor": "#E5ECF6",
           "caxis": {
            "gridcolor": "white",
            "linecolor": "white",
            "ticks": ""
           }
          },
          "title": {
           "x": 0.05
          },
          "xaxis": {
           "automargin": true,
           "gridcolor": "white",
           "linecolor": "white",
           "ticks": "",
           "title": {
            "standoff": 15
           },
           "zerolinecolor": "white",
           "zerolinewidth": 2
          },
          "yaxis": {
           "automargin": true,
           "gridcolor": "white",
           "linecolor": "white",
           "ticks": "",
           "title": {
            "standoff": 15
           },
           "zerolinecolor": "white",
           "zerolinewidth": 2
          }
         }
        },
        "title": {
         "text": "Міграційний приріст у різних типах місцевості, дані за 2002-2021 роки"
        },
        "updatemenus": [
         {
          "buttons": [
           {
            "args": [
             null,
             {
              "frame": {
               "duration": 500,
               "redraw": true
              },
              "fromcurrent": true,
              "mode": "immediate",
              "transition": {
               "duration": 500,
               "easing": "linear"
              }
             }
            ],
            "label": "&#9654;",
            "method": "animate"
           },
           {
            "args": [
             [
              null
             ],
             {
              "frame": {
               "duration": 0,
               "redraw": true
              },
              "fromcurrent": true,
              "mode": "immediate",
              "transition": {
               "duration": 0,
               "easing": "linear"
              }
             }
            ],
            "label": "&#9724;",
            "method": "animate"
           }
          ],
          "direction": "left",
          "pad": {
           "r": 10,
           "t": 70
          },
          "showactive": false,
          "type": "buttons",
          "x": 0.1,
          "xanchor": "right",
          "y": 0,
          "yanchor": "top"
         }
        ],
        "xaxis": {
         "anchor": "y",
         "categoryarray": [
          "Міська та сільська",
          "Міська",
          "Сільська"
         ],
         "categoryorder": "array",
         "domain": [
          0,
          1
         ],
         "title": {
          "text": "Тип місцевості"
         }
        },
        "yaxis": {
         "anchor": "x",
         "domain": [
          0,
          1
         ],
         "range": [
          -51000,
          65500
         ],
         "title": {
          "text": "Приріст"
         }
        }
       }
      }
     },
     "metadata": {},
     "output_type": "display_data"
    }
   ],
   "source": [
    "fig = px.bar(df_general_migr, x=\"Тип місцевості\", y=\"Приріст\", color=\"Тип місцевості\",\n",
    "            animation_frame=\"Рік\", animation_group=\"Тип місцевості\", range_y=[-51000, 65500], \n",
    "            title = 'Міграційний приріст у різних типах місцевості, дані за 2002-2021 роки')\n",
    "fig"
   ]
  },
  {
   "cell_type": "code",
   "execution_count": 76,
   "metadata": {},
   "outputs": [
    {
     "data": {
      "application/vnd.plotly.v1+json": {
       "config": {
        "plotlyServerURL": "https://plot.ly"
       },
       "data": [
        {
         "line": {
          "color": "#d61515"
         },
         "mode": "lines+markers",
         "name": "Вибули з України",
         "type": "scatter",
         "x": [
          2002,
          2003,
          2004,
          2005,
          2006,
          2007,
          2008,
          2009,
          2010,
          2011,
          2012,
          2013,
          2014,
          2015,
          2016,
          2017,
          2018,
          2019,
          2020,
          2021,
          2002,
          2003,
          2004,
          2005,
          2006,
          2007,
          2008,
          2009,
          2010,
          2011,
          2012,
          2013,
          2014,
          2015,
          2016,
          2017,
          2018,
          2019,
          2020,
          2021,
          2002,
          2003,
          2004,
          2005,
          2006,
          2007,
          2008,
          2009,
          2010,
          2011,
          2012,
          2013,
          2014,
          2015,
          2016,
          2017,
          2018,
          2019,
          2020,
          2021
         ],
         "xaxis": "x",
         "y": [
          793796,
          786243,
          796994,
          758639,
          751637,
          741454,
          695869,
          629372,
          667316,
          652301,
          664382,
          644029,
          519914,
          519045,
          246188,
          430290,
          610687,
          554520,
          425964,
          455664
         ],
         "yaxis": "y"
        },
        {
         "line": {
          "color": "#1589d6"
         },
         "mode": "lines+markers",
         "name": "Прибули в Україну",
         "type": "scatter",
         "x": [
          2002,
          2003,
          2004,
          2005,
          2006,
          2007,
          2008,
          2009,
          2010,
          2011,
          2012,
          2013,
          2014,
          2015,
          2016,
          2017,
          2018,
          2019,
          2020,
          2021,
          2002,
          2003,
          2004,
          2005,
          2006,
          2007,
          2008,
          2009,
          2010,
          2011,
          2012,
          2013,
          2014,
          2015,
          2016,
          2017,
          2018,
          2019,
          2020,
          2021,
          2002,
          2003,
          2004,
          2005,
          2006,
          2007,
          2008,
          2009,
          2010,
          2011,
          2012,
          2013,
          2014,
          2015,
          2016,
          2017,
          2018,
          2019,
          2020,
          2021
         ],
         "xaxis": "x2",
         "y": [
          760005,
          762033,
          789379,
          763222,
          765882,
          758292,
          710790,
          642819,
          683449,
          669397,
          726226,
          675942,
          542506,
          533278,
          256808,
          442287,
          629276,
          576032,
          435280,
          476925
         ],
         "yaxis": "y2"
        },
        {
         "line": {
          "color": "#41b56c"
         },
         "mode": "lines+markers",
         "name": "Приріст",
         "type": "scatter",
         "x": [
          2002,
          2003,
          2004,
          2005,
          2006,
          2007,
          2008,
          2009,
          2010,
          2011,
          2012,
          2013,
          2014,
          2015,
          2016,
          2017,
          2018,
          2019,
          2020,
          2021,
          2002,
          2003,
          2004,
          2005,
          2006,
          2007,
          2008,
          2009,
          2010,
          2011,
          2012,
          2013,
          2014,
          2015,
          2016,
          2017,
          2018,
          2019,
          2020,
          2021,
          2002,
          2003,
          2004,
          2005,
          2006,
          2007,
          2008,
          2009,
          2010,
          2011,
          2012,
          2013,
          2014,
          2015,
          2016,
          2017,
          2018,
          2019,
          2020,
          2021
         ],
         "xaxis": "x3",
         "y": [
          -33791,
          -24210,
          -7615,
          4583,
          14245,
          16838,
          14921,
          13447,
          16133,
          17096,
          61844,
          31913,
          22592,
          14233,
          10620,
          11997,
          18589,
          21512,
          9316,
          21261
         ],
         "yaxis": "y3"
        }
       ],
       "layout": {
        "annotations": [
         {
          "font": {
           "size": 16
          },
          "showarrow": false,
          "text": "Вибулі протягом 2002-2021",
          "x": 0.5,
          "xanchor": "center",
          "xref": "paper",
          "y": 1,
          "yanchor": "bottom",
          "yref": "paper"
         },
         {
          "font": {
           "size": 16
          },
          "showarrow": false,
          "text": "Прибулі протягом 2002-2021",
          "x": 0.5,
          "xanchor": "center",
          "xref": "paper",
          "y": 0.6111111111111112,
          "yanchor": "bottom",
          "yref": "paper"
         },
         {
          "font": {
           "size": 16
          },
          "showarrow": false,
          "text": "Приріст/скорочення",
          "x": 0.5,
          "xanchor": "center",
          "xref": "paper",
          "y": 0.22222222222222224,
          "yanchor": "bottom",
          "yref": "paper"
         }
        ],
        "height": 750,
        "template": {
         "data": {
          "bar": [
           {
            "error_x": {
             "color": "#2a3f5f"
            },
            "error_y": {
             "color": "#2a3f5f"
            },
            "marker": {
             "line": {
              "color": "#E5ECF6",
              "width": 0.5
             },
             "pattern": {
              "fillmode": "overlay",
              "size": 10,
              "solidity": 0.2
             }
            },
            "type": "bar"
           }
          ],
          "barpolar": [
           {
            "marker": {
             "line": {
              "color": "#E5ECF6",
              "width": 0.5
             },
             "pattern": {
              "fillmode": "overlay",
              "size": 10,
              "solidity": 0.2
             }
            },
            "type": "barpolar"
           }
          ],
          "carpet": [
           {
            "aaxis": {
             "endlinecolor": "#2a3f5f",
             "gridcolor": "white",
             "linecolor": "white",
             "minorgridcolor": "white",
             "startlinecolor": "#2a3f5f"
            },
            "baxis": {
             "endlinecolor": "#2a3f5f",
             "gridcolor": "white",
             "linecolor": "white",
             "minorgridcolor": "white",
             "startlinecolor": "#2a3f5f"
            },
            "type": "carpet"
           }
          ],
          "choropleth": [
           {
            "colorbar": {
             "outlinewidth": 0,
             "ticks": ""
            },
            "type": "choropleth"
           }
          ],
          "contour": [
           {
            "colorbar": {
             "outlinewidth": 0,
             "ticks": ""
            },
            "colorscale": [
             [
              0,
              "#0d0887"
             ],
             [
              0.1111111111111111,
              "#46039f"
             ],
             [
              0.2222222222222222,
              "#7201a8"
             ],
             [
              0.3333333333333333,
              "#9c179e"
             ],
             [
              0.4444444444444444,
              "#bd3786"
             ],
             [
              0.5555555555555556,
              "#d8576b"
             ],
             [
              0.6666666666666666,
              "#ed7953"
             ],
             [
              0.7777777777777778,
              "#fb9f3a"
             ],
             [
              0.8888888888888888,
              "#fdca26"
             ],
             [
              1,
              "#f0f921"
             ]
            ],
            "type": "contour"
           }
          ],
          "contourcarpet": [
           {
            "colorbar": {
             "outlinewidth": 0,
             "ticks": ""
            },
            "type": "contourcarpet"
           }
          ],
          "heatmap": [
           {
            "colorbar": {
             "outlinewidth": 0,
             "ticks": ""
            },
            "colorscale": [
             [
              0,
              "#0d0887"
             ],
             [
              0.1111111111111111,
              "#46039f"
             ],
             [
              0.2222222222222222,
              "#7201a8"
             ],
             [
              0.3333333333333333,
              "#9c179e"
             ],
             [
              0.4444444444444444,
              "#bd3786"
             ],
             [
              0.5555555555555556,
              "#d8576b"
             ],
             [
              0.6666666666666666,
              "#ed7953"
             ],
             [
              0.7777777777777778,
              "#fb9f3a"
             ],
             [
              0.8888888888888888,
              "#fdca26"
             ],
             [
              1,
              "#f0f921"
             ]
            ],
            "type": "heatmap"
           }
          ],
          "heatmapgl": [
           {
            "colorbar": {
             "outlinewidth": 0,
             "ticks": ""
            },
            "colorscale": [
             [
              0,
              "#0d0887"
             ],
             [
              0.1111111111111111,
              "#46039f"
             ],
             [
              0.2222222222222222,
              "#7201a8"
             ],
             [
              0.3333333333333333,
              "#9c179e"
             ],
             [
              0.4444444444444444,
              "#bd3786"
             ],
             [
              0.5555555555555556,
              "#d8576b"
             ],
             [
              0.6666666666666666,
              "#ed7953"
             ],
             [
              0.7777777777777778,
              "#fb9f3a"
             ],
             [
              0.8888888888888888,
              "#fdca26"
             ],
             [
              1,
              "#f0f921"
             ]
            ],
            "type": "heatmapgl"
           }
          ],
          "histogram": [
           {
            "marker": {
             "pattern": {
              "fillmode": "overlay",
              "size": 10,
              "solidity": 0.2
             }
            },
            "type": "histogram"
           }
          ],
          "histogram2d": [
           {
            "colorbar": {
             "outlinewidth": 0,
             "ticks": ""
            },
            "colorscale": [
             [
              0,
              "#0d0887"
             ],
             [
              0.1111111111111111,
              "#46039f"
             ],
             [
              0.2222222222222222,
              "#7201a8"
             ],
             [
              0.3333333333333333,
              "#9c179e"
             ],
             [
              0.4444444444444444,
              "#bd3786"
             ],
             [
              0.5555555555555556,
              "#d8576b"
             ],
             [
              0.6666666666666666,
              "#ed7953"
             ],
             [
              0.7777777777777778,
              "#fb9f3a"
             ],
             [
              0.8888888888888888,
              "#fdca26"
             ],
             [
              1,
              "#f0f921"
             ]
            ],
            "type": "histogram2d"
           }
          ],
          "histogram2dcontour": [
           {
            "colorbar": {
             "outlinewidth": 0,
             "ticks": ""
            },
            "colorscale": [
             [
              0,
              "#0d0887"
             ],
             [
              0.1111111111111111,
              "#46039f"
             ],
             [
              0.2222222222222222,
              "#7201a8"
             ],
             [
              0.3333333333333333,
              "#9c179e"
             ],
             [
              0.4444444444444444,
              "#bd3786"
             ],
             [
              0.5555555555555556,
              "#d8576b"
             ],
             [
              0.6666666666666666,
              "#ed7953"
             ],
             [
              0.7777777777777778,
              "#fb9f3a"
             ],
             [
              0.8888888888888888,
              "#fdca26"
             ],
             [
              1,
              "#f0f921"
             ]
            ],
            "type": "histogram2dcontour"
           }
          ],
          "mesh3d": [
           {
            "colorbar": {
             "outlinewidth": 0,
             "ticks": ""
            },
            "type": "mesh3d"
           }
          ],
          "parcoords": [
           {
            "line": {
             "colorbar": {
              "outlinewidth": 0,
              "ticks": ""
             }
            },
            "type": "parcoords"
           }
          ],
          "pie": [
           {
            "automargin": true,
            "type": "pie"
           }
          ],
          "scatter": [
           {
            "fillpattern": {
             "fillmode": "overlay",
             "size": 10,
             "solidity": 0.2
            },
            "type": "scatter"
           }
          ],
          "scatter3d": [
           {
            "line": {
             "colorbar": {
              "outlinewidth": 0,
              "ticks": ""
             }
            },
            "marker": {
             "colorbar": {
              "outlinewidth": 0,
              "ticks": ""
             }
            },
            "type": "scatter3d"
           }
          ],
          "scattercarpet": [
           {
            "marker": {
             "colorbar": {
              "outlinewidth": 0,
              "ticks": ""
             }
            },
            "type": "scattercarpet"
           }
          ],
          "scattergeo": [
           {
            "marker": {
             "colorbar": {
              "outlinewidth": 0,
              "ticks": ""
             }
            },
            "type": "scattergeo"
           }
          ],
          "scattergl": [
           {
            "marker": {
             "colorbar": {
              "outlinewidth": 0,
              "ticks": ""
             }
            },
            "type": "scattergl"
           }
          ],
          "scattermapbox": [
           {
            "marker": {
             "colorbar": {
              "outlinewidth": 0,
              "ticks": ""
             }
            },
            "type": "scattermapbox"
           }
          ],
          "scatterpolar": [
           {
            "marker": {
             "colorbar": {
              "outlinewidth": 0,
              "ticks": ""
             }
            },
            "type": "scatterpolar"
           }
          ],
          "scatterpolargl": [
           {
            "marker": {
             "colorbar": {
              "outlinewidth": 0,
              "ticks": ""
             }
            },
            "type": "scatterpolargl"
           }
          ],
          "scatterternary": [
           {
            "marker": {
             "colorbar": {
              "outlinewidth": 0,
              "ticks": ""
             }
            },
            "type": "scatterternary"
           }
          ],
          "surface": [
           {
            "colorbar": {
             "outlinewidth": 0,
             "ticks": ""
            },
            "colorscale": [
             [
              0,
              "#0d0887"
             ],
             [
              0.1111111111111111,
              "#46039f"
             ],
             [
              0.2222222222222222,
              "#7201a8"
             ],
             [
              0.3333333333333333,
              "#9c179e"
             ],
             [
              0.4444444444444444,
              "#bd3786"
             ],
             [
              0.5555555555555556,
              "#d8576b"
             ],
             [
              0.6666666666666666,
              "#ed7953"
             ],
             [
              0.7777777777777778,
              "#fb9f3a"
             ],
             [
              0.8888888888888888,
              "#fdca26"
             ],
             [
              1,
              "#f0f921"
             ]
            ],
            "type": "surface"
           }
          ],
          "table": [
           {
            "cells": {
             "fill": {
              "color": "#EBF0F8"
             },
             "line": {
              "color": "white"
             }
            },
            "header": {
             "fill": {
              "color": "#C8D4E3"
             },
             "line": {
              "color": "white"
             }
            },
            "type": "table"
           }
          ]
         },
         "layout": {
          "annotationdefaults": {
           "arrowcolor": "#2a3f5f",
           "arrowhead": 0,
           "arrowwidth": 1
          },
          "autotypenumbers": "strict",
          "coloraxis": {
           "colorbar": {
            "outlinewidth": 0,
            "ticks": ""
           }
          },
          "colorscale": {
           "diverging": [
            [
             0,
             "#8e0152"
            ],
            [
             0.1,
             "#c51b7d"
            ],
            [
             0.2,
             "#de77ae"
            ],
            [
             0.3,
             "#f1b6da"
            ],
            [
             0.4,
             "#fde0ef"
            ],
            [
             0.5,
             "#f7f7f7"
            ],
            [
             0.6,
             "#e6f5d0"
            ],
            [
             0.7,
             "#b8e186"
            ],
            [
             0.8,
             "#7fbc41"
            ],
            [
             0.9,
             "#4d9221"
            ],
            [
             1,
             "#276419"
            ]
           ],
           "sequential": [
            [
             0,
             "#0d0887"
            ],
            [
             0.1111111111111111,
             "#46039f"
            ],
            [
             0.2222222222222222,
             "#7201a8"
            ],
            [
             0.3333333333333333,
             "#9c179e"
            ],
            [
             0.4444444444444444,
             "#bd3786"
            ],
            [
             0.5555555555555556,
             "#d8576b"
            ],
            [
             0.6666666666666666,
             "#ed7953"
            ],
            [
             0.7777777777777778,
             "#fb9f3a"
            ],
            [
             0.8888888888888888,
             "#fdca26"
            ],
            [
             1,
             "#f0f921"
            ]
           ],
           "sequentialminus": [
            [
             0,
             "#0d0887"
            ],
            [
             0.1111111111111111,
             "#46039f"
            ],
            [
             0.2222222222222222,
             "#7201a8"
            ],
            [
             0.3333333333333333,
             "#9c179e"
            ],
            [
             0.4444444444444444,
             "#bd3786"
            ],
            [
             0.5555555555555556,
             "#d8576b"
            ],
            [
             0.6666666666666666,
             "#ed7953"
            ],
            [
             0.7777777777777778,
             "#fb9f3a"
            ],
            [
             0.8888888888888888,
             "#fdca26"
            ],
            [
             1,
             "#f0f921"
            ]
           ]
          },
          "colorway": [
           "#636efa",
           "#EF553B",
           "#00cc96",
           "#ab63fa",
           "#FFA15A",
           "#19d3f3",
           "#FF6692",
           "#B6E880",
           "#FF97FF",
           "#FECB52"
          ],
          "font": {
           "color": "#2a3f5f"
          },
          "geo": {
           "bgcolor": "white",
           "lakecolor": "white",
           "landcolor": "#E5ECF6",
           "showlakes": true,
           "showland": true,
           "subunitcolor": "white"
          },
          "hoverlabel": {
           "align": "left"
          },
          "hovermode": "closest",
          "mapbox": {
           "style": "light"
          },
          "paper_bgcolor": "white",
          "plot_bgcolor": "#E5ECF6",
          "polar": {
           "angularaxis": {
            "gridcolor": "white",
            "linecolor": "white",
            "ticks": ""
           },
           "bgcolor": "#E5ECF6",
           "radialaxis": {
            "gridcolor": "white",
            "linecolor": "white",
            "ticks": ""
           }
          },
          "scene": {
           "xaxis": {
            "backgroundcolor": "#E5ECF6",
            "gridcolor": "white",
            "gridwidth": 2,
            "linecolor": "white",
            "showbackground": true,
            "ticks": "",
            "zerolinecolor": "white"
           },
           "yaxis": {
            "backgroundcolor": "#E5ECF6",
            "gridcolor": "white",
            "gridwidth": 2,
            "linecolor": "white",
            "showbackground": true,
            "ticks": "",
            "zerolinecolor": "white"
           },
           "zaxis": {
            "backgroundcolor": "#E5ECF6",
            "gridcolor": "white",
            "gridwidth": 2,
            "linecolor": "white",
            "showbackground": true,
            "ticks": "",
            "zerolinecolor": "white"
           }
          },
          "shapedefaults": {
           "line": {
            "color": "#2a3f5f"
           }
          },
          "ternary": {
           "aaxis": {
            "gridcolor": "white",
            "linecolor": "white",
            "ticks": ""
           },
           "baxis": {
            "gridcolor": "white",
            "linecolor": "white",
            "ticks": ""
           },
           "bgcolor": "#E5ECF6",
           "caxis": {
            "gridcolor": "white",
            "linecolor": "white",
            "ticks": ""
           }
          },
          "title": {
           "x": 0.05
          },
          "xaxis": {
           "automargin": true,
           "gridcolor": "white",
           "linecolor": "white",
           "ticks": "",
           "title": {
            "standoff": 15
           },
           "zerolinecolor": "white",
           "zerolinewidth": 2
          },
          "yaxis": {
           "automargin": true,
           "gridcolor": "white",
           "linecolor": "white",
           "ticks": "",
           "title": {
            "standoff": 15
           },
           "zerolinecolor": "white",
           "zerolinewidth": 2
          }
         }
        },
        "xaxis": {
         "anchor": "y",
         "domain": [
          0,
          1
         ],
         "title": {
          "text": "Рік"
         }
        },
        "xaxis2": {
         "anchor": "y2",
         "domain": [
          0,
          1
         ],
         "title": {
          "text": "Рік"
         }
        },
        "xaxis3": {
         "anchor": "y3",
         "domain": [
          0,
          1
         ],
         "title": {
          "text": "Рік"
         }
        },
        "yaxis": {
         "anchor": "x",
         "domain": [
          0.7777777777777778,
          1
         ],
         "title": {
          "text": "Кількість мігрантів"
         }
        },
        "yaxis2": {
         "anchor": "x2",
         "domain": [
          0.3888888888888889,
          0.6111111111111112
         ],
         "title": {
          "text": "Кількість мігрантів"
         }
        },
        "yaxis3": {
         "anchor": "x3",
         "domain": [
          0,
          0.22222222222222224
         ],
         "title": {
          "text": "Кількість мігрантів"
         }
        }
       }
      }
     },
     "metadata": {},
     "output_type": "display_data"
    }
   ],
   "source": [
    "fig = make_subplots(\n",
    "    rows=3, cols=1,\n",
    "    subplot_titles=('Вибулі протягом 2002-2021','Прибулі протягом 2002-2021', \"Приріст/скорочення\"))\n",
    "fig.add_trace(go.Scatter(x=df_general_migr['Рік'], y=df_general_migr['Вибули'][df_general_migr['Тип місцевості'] == 'Міська та сільська'], \n",
    "                        mode='lines+markers', name='Вибули з України', line_color='#d61515'), row = 1, col = 1)\n",
    "fig.add_trace(go.Scatter(x=df_general_migr['Рік'], y=df_general_migr['Прибули'][df_general_migr['Тип місцевості'] == 'Міська та сільська'], \n",
    "                        mode='lines+markers', name='Прибули в Україну',  line_color = '#1589d6'), row = 2, col = 1)\n",
    "fig.add_trace(go.Scatter(x=df_general_migr['Рік'], y=df_general_migr['Приріст'][df_general_migr['Тип місцевості'] == 'Міська та сільська'], \n",
    "                        mode='lines+markers', name='Приріст',  line_color = '#41b56c'), row = 3, col = 1)\n",
    "\n",
    "fig.update_layout(height=750)\n",
    "fig.update_yaxes(title_text = 'Кількість мігрантів')\n",
    "fig.update_xaxes(title_text = 'Рік')\n"
   ]
  }
 ],
 "metadata": {
  "kernelspec": {
   "display_name": "Python 3.10.7 64-bit",
   "language": "python",
   "name": "python3"
  },
  "language_info": {
   "codemirror_mode": {
    "name": "ipython",
    "version": 3
   },
   "file_extension": ".py",
   "mimetype": "text/x-python",
   "name": "python",
   "nbconvert_exporter": "python",
   "pygments_lexer": "ipython3",
   "version": "3.10.7"
  },
  "orig_nbformat": 4,
  "vscode": {
   "interpreter": {
    "hash": "1008137c9f4849d5b92bd1af9c25f8df25401862cbdc70b91442f4a826b7c98e"
   }
  }
 },
 "nbformat": 4,
 "nbformat_minor": 2
}
